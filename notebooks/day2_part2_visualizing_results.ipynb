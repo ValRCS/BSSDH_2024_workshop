{
 "cells": [
  {
   "cell_type": "markdown",
   "metadata": {},
   "source": [
    "# Visualizing results\n",
    "\n",
    "Here we explore various options for visualizing the results of our analysis and model fitting.\n",
    "\n",
    "We will be exploring Scattertext library for visualizing the results of our analysis. This library is very useful for visualizing the differences between two corpora.\n",
    "\n",
    "Other libraries of interest:\n",
    "Plotly, which is a powerful interactive plotting library. We can also use Matplotlib for some simple plots.\n",
    "Seaborn can be used to enhance the plots from Matplotlib.\n",
    "\n",
    "Also to consider is pyLDAvis, which is a library for visualizing the results of topic modeling."
   ]
  },
  {
   "cell_type": "markdown",
   "metadata": {},
   "source": [
    "## Scattertext library\n",
    "\n",
    "Scattertext is a library for visualizing text data. It is particularly useful for visualizing the differences between two corpora. Here we will use it to visualize the differences between the trial documents in our corpora.\n",
    "\n",
    "Home page for scattertext: [ScatterText lib](https://github.com/JasonKessler/scattertext)"
   ]
  },
  {
   "cell_type": "code",
   "execution_count": null,
   "metadata": {},
   "outputs": [],
   "source": [
    "# We will be using tutorial here at\n",
    "# https://github.com/JasonKessler/scattertext#visualizing-phrase-associations-with-scattertext-and-spacy\n",
    "\n",
    "# first we will need to isntall scattertext\n",
    "\n",
    "# !pip install scattertext\n"
   ]
  },
  {
   "cell_type": "code",
   "execution_count": 3,
   "metadata": {},
   "outputs": [],
   "source": [
    "# we will need pandas and spacy as well\n",
    "from tqdm import tqdm\n",
    "import tqdm as notebook_tqdm\n",
    "import pandas as pd\n",
    "import spacy\n",
    "import scattertext as st\n",
    "\n",
    "# example to use for creating your own corpus and visualization\n",
    "\n",
    "df = st.SampleCorpora.ConventionData2012.get_data().assign(\n",
    "    parse=lambda df: df.text.apply(st.whitespace_nlp_with_sentences)\n",
    ")\n",
    "\n",
    "corpus = st.CorpusFromParsedDocuments(\n",
    "    df, category_col='party', parsed_col='parse'\n",
    ").build().get_unigram_corpus().compact(st.AssociationCompactor(2000))\n",
    "\n",
    "html = st.produce_scattertext_explorer(\n",
    "    corpus,\n",
    "    category='democrat', category_name='Democratic', not_category_name='Republican',\n",
    "    minimum_term_frequency=0, pmi_threshold_coefficient=0,\n",
    "    width_in_pixels=1000, metadata=corpus.get_df()['speaker'],\n",
    "    transform=st.Scalers.dense_rank\n",
    ")\n",
    "#open('./demo_compact.html', 'w', encoding=\"utf-8\").write(html)\n"
   ]
  },
  {
   "cell_type": "code",
   "execution_count": 4,
   "metadata": {},
   "outputs": [
    {
     "data": {
      "text/plain": [
       "(189, 4)"
      ]
     },
     "execution_count": 4,
     "metadata": {},
     "output_type": "execute_result"
    }
   ],
   "source": [
    "df.shape"
   ]
  },
  {
   "cell_type": "code",
   "execution_count": 5,
   "metadata": {},
   "outputs": [
    {
     "data": {
      "text/plain": [
       "Index(['party', 'text', 'speaker', 'parse'], dtype='object')"
      ]
     },
     "execution_count": 5,
     "metadata": {},
     "output_type": "execute_result"
    }
   ],
   "source": [
    "df.columns"
   ]
  },
  {
   "cell_type": "code",
   "execution_count": 6,
   "metadata": {},
   "outputs": [
    {
     "data": {
      "text/html": [
       "<div>\n",
       "<style scoped>\n",
       "    .dataframe tbody tr th:only-of-type {\n",
       "        vertical-align: middle;\n",
       "    }\n",
       "\n",
       "    .dataframe tbody tr th {\n",
       "        vertical-align: top;\n",
       "    }\n",
       "\n",
       "    .dataframe thead th {\n",
       "        text-align: right;\n",
       "    }\n",
       "</style>\n",
       "<table border=\"1\" class=\"dataframe\">\n",
       "  <thead>\n",
       "    <tr style=\"text-align: right;\">\n",
       "      <th></th>\n",
       "      <th>party</th>\n",
       "      <th>text</th>\n",
       "      <th>speaker</th>\n",
       "      <th>parse</th>\n",
       "    </tr>\n",
       "  </thead>\n",
       "  <tbody>\n",
       "    <tr>\n",
       "      <th>0</th>\n",
       "      <td>democrat</td>\n",
       "      <td>Thank you. Thank you. Thank you. Thank you so ...</td>\n",
       "      <td>BARACK OBAMA</td>\n",
       "      <td>(thank, you, ., thank, you, ., thank, you, ., ...</td>\n",
       "    </tr>\n",
       "    <tr>\n",
       "      <th>1</th>\n",
       "      <td>democrat</td>\n",
       "      <td>Thank you so much. Tonight, I am so thrilled a...</td>\n",
       "      <td>MICHELLE OBAMA</td>\n",
       "      <td>(thank, you, so, much, .)</td>\n",
       "    </tr>\n",
       "    <tr>\n",
       "      <th>2</th>\n",
       "      <td>democrat</td>\n",
       "      <td>Thank you. It is a singular honor to be here t...</td>\n",
       "      <td>RICHARD DURBIN</td>\n",
       "      <td>(thank, you, ., it, is, a, singular, honor, to...</td>\n",
       "    </tr>\n",
       "    <tr>\n",
       "      <th>3</th>\n",
       "      <td>democrat</td>\n",
       "      <td>Hey, Delaware. \\nAnd my favorite Democrat, Jil...</td>\n",
       "      <td>JOSEPH BIDEN</td>\n",
       "      <td>(hey, ,, delaware, ., and, my, favorite, democ...</td>\n",
       "    </tr>\n",
       "    <tr>\n",
       "      <th>4</th>\n",
       "      <td>democrat</td>\n",
       "      <td>Hello. \\nThank you, Angie. I'm so proud of how...</td>\n",
       "      <td>JILL BIDEN</td>\n",
       "      <td>(hello, ., thank, you, ,, angie, ., i, ', m, s...</td>\n",
       "    </tr>\n",
       "  </tbody>\n",
       "</table>\n",
       "</div>"
      ],
      "text/plain": [
       "      party                                               text  \\\n",
       "0  democrat  Thank you. Thank you. Thank you. Thank you so ...   \n",
       "1  democrat  Thank you so much. Tonight, I am so thrilled a...   \n",
       "2  democrat  Thank you. It is a singular honor to be here t...   \n",
       "3  democrat  Hey, Delaware. \\nAnd my favorite Democrat, Jil...   \n",
       "4  democrat  Hello. \\nThank you, Angie. I'm so proud of how...   \n",
       "\n",
       "          speaker                                              parse  \n",
       "0    BARACK OBAMA  (thank, you, ., thank, you, ., thank, you, ., ...  \n",
       "1  MICHELLE OBAMA                          (thank, you, so, much, .)  \n",
       "2  RICHARD DURBIN  (thank, you, ., it, is, a, singular, honor, to...  \n",
       "3    JOSEPH BIDEN  (hey, ,, delaware, ., and, my, favorite, democ...  \n",
       "4      JILL BIDEN  (hello, ., thank, you, ,, angie, ., i, ', m, s...  "
      ]
     },
     "execution_count": 6,
     "metadata": {},
     "output_type": "execute_result"
    }
   ],
   "source": [
    "df.head()"
   ]
  },
  {
   "cell_type": "code",
   "execution_count": 7,
   "metadata": {},
   "outputs": [
    {
     "name": "stdout",
     "output_type": "stream",
     "text": [
      "<class 'pandas.core.frame.DataFrame'>\n",
      "RangeIndex: 189 entries, 0 to 188\n",
      "Data columns (total 4 columns):\n",
      " #   Column   Non-Null Count  Dtype \n",
      "---  ------   --------------  ----- \n",
      " 0   party    189 non-null    object\n",
      " 1   text     189 non-null    object\n",
      " 2   speaker  189 non-null    object\n",
      " 3   parse    189 non-null    object\n",
      "dtypes: object(4)\n",
      "memory usage: 6.0+ KB\n"
     ]
    }
   ],
   "source": [
    "df.info()"
   ]
  },
  {
   "cell_type": "code",
   "execution_count": 8,
   "metadata": {},
   "outputs": [
    {
     "name": "stdout",
     "output_type": "stream",
     "text": [
      "<class 'scattertext.WhitespaceNLP.Doc'>\n"
     ]
    }
   ],
   "source": [
    "first_row_parse_col = df['parse'][0]\n",
    "print(type(first_row_parse_col))\n",
    "# okay looks like we can get parse column using apply method"
   ]
  },
  {
   "cell_type": "code",
   "execution_count": 9,
   "metadata": {},
   "outputs": [],
   "source": [
    "url = \"https://github.com/ValRCS/BSSDH_2024_workshop/raw/main/data/old_bailey_sample_1720_1913.csv\"\n",
    "d = pd.read_csv(url) # ignore \n"
   ]
  },
  {
   "cell_type": "code",
   "execution_count": 10,
   "metadata": {},
   "outputs": [
    {
     "data": {
      "text/plain": [
       "275"
      ]
     },
     "execution_count": 10,
     "metadata": {},
     "output_type": "execute_result"
    }
   ],
   "source": [
    "# unique values of punishment\n",
    "len(d['punishment'].unique())"
   ]
  },
  {
   "cell_type": "code",
   "execution_count": 11,
   "metadata": {},
   "outputs": [
    {
     "data": {
      "text/plain": [
       "85"
      ]
     },
     "execution_count": 11,
     "metadata": {},
     "output_type": "execute_result"
    }
   ],
   "source": [
    "# how many of punishments involve death\n",
    "d['punishment'].str.lower().str.contains('death').sum()"
   ]
  },
  {
   "cell_type": "code",
   "execution_count": 12,
   "metadata": {},
   "outputs": [
    {
     "data": {
      "text/plain": [
       "29"
      ]
     },
     "execution_count": 12,
     "metadata": {},
     "output_type": "execute_result"
    }
   ],
   "source": [
    "# how many of punishments involve whip\n",
    "d['punishment'].str.lower().str.contains('whip').sum()"
   ]
  },
  {
   "cell_type": "code",
   "execution_count": 13,
   "metadata": {},
   "outputs": [
    {
     "data": {
      "text/plain": [
       "57"
      ]
     },
     "execution_count": 13,
     "metadata": {},
     "output_type": "execute_result"
    }
   ],
   "source": [
    "# how many of punishments involve prison\n",
    "d['punishment'].str.lower().str.contains('prison').sum()"
   ]
  },
  {
   "cell_type": "code",
   "execution_count": 14,
   "metadata": {},
   "outputs": [
    {
     "data": {
      "text/plain": [
       "{'empty': 475,\n",
       " 'death': 85,\n",
       " 'whip': 29,\n",
       " 'prison': 57,\n",
       " 'transport': 309,\n",
       " 'fine': 352,\n",
       " 'discharg': 33}"
      ]
     },
     "execution_count": 14,
     "metadata": {},
     "output_type": "execute_result"
    }
   ],
   "source": [
    "# let's create a function to return dictionary of punishment counts\n",
    "# argument will be df, column name, and list of words to search for\n",
    "def get_punishment_counts(df, column_name=\"punishment\", list_of_words=()):\n",
    "    # create empty dictionary\n",
    "    punishment_dict = {}\n",
    "    # loop through list of words\n",
    "    # first count how many times there is empty punishment\n",
    "    punishment_dict['empty'] = df[column_name].isnull().sum()\n",
    "    for word in list_of_words:\n",
    "        # create key value pair in dictionary\n",
    "        punishment_dict[word] = df[column_name].str.lower().str.contains(word).sum()\n",
    "    # return dictionary\n",
    "    return punishment_dict\n",
    "\n",
    "# punishment words\n",
    "punishment_words = ['death', 'whip', 'prison', 'transport', 'fine', 'discharg']\n",
    "# call function\n",
    "get_punishment_counts(d, column_name=\"punishment\", list_of_words=punishment_words)"
   ]
  },
  {
   "cell_type": "code",
   "execution_count": 15,
   "metadata": {},
   "outputs": [
    {
     "data": {
      "text/plain": [
       "punishment\n",
       "[Transportation. See summary.]                     106\n",
       "Transported for Seven Years                         89\n",
       "Death                                               53\n",
       "Confined Three Months                               52\n",
       "Confined Six Months                                 52\n",
       "                                                  ... \n",
       "Seven Year's Penal Servitude.                        1\n",
       "Five Year's Penal Servitude.                         1\n",
       "Seven Years' Penal Servitude each                    1\n",
       "Two Years Imprisonment.                              1\n",
       "Eighteen months' imprisonment, second division;      1\n",
       "Name: count, Length: 274, dtype: int64"
      ]
     },
     "execution_count": 15,
     "metadata": {},
     "output_type": "execute_result"
    }
   ],
   "source": [
    "# punishment value count\n",
    "d['punishment'].value_counts()"
   ]
  },
  {
   "cell_type": "markdown",
   "metadata": {},
   "source": [
    "## Punishment types function"
   ]
  },
  {
   "cell_type": "code",
   "execution_count": 16,
   "metadata": {},
   "outputs": [],
   "source": [
    "# convert punishment column to string\n",
    "d['punishment'] = d['punishment'].astype(str) # changes nan to string nan !!!!\n",
    "# TODO avoid this in the future\n",
    "# if we did not do this we would have to change our get_punishment_category function for checking to nan"
   ]
  },
  {
   "cell_type": "code",
   "execution_count": 17,
   "metadata": {},
   "outputs": [],
   "source": [
    "# let's create a function to return category of punishment from punishment description\n",
    "# argument will be punishment text and list of words to search for\n",
    "def get_punishment_category(punishment_text, list_of_words=()):\n",
    "    # loop through list of words\n",
    "    # if punishment text is empty or nan\n",
    "    if not punishment_text.strip() or punishment_text.strip() == \"nan\": #ugly hack\n",
    "        # return empty\n",
    "        return \"empty\"\n",
    "    for word in list_of_words:\n",
    "        # if word is found in punishment text\n",
    "        if word in punishment_text.lower():\n",
    "            # return word\n",
    "            return word # order of words will matter\n",
    "    # if no word is found return empty\n",
    "    return \"unknown\""
   ]
  },
  {
   "cell_type": "code",
   "execution_count": 18,
   "metadata": {},
   "outputs": [
    {
     "name": "stdout",
     "output_type": "stream",
     "text": [
      "<class 'pandas.core.frame.DataFrame'>\n",
      "RangeIndex: 1637 entries, 0 to 1636\n",
      "Data columns (total 5 columns):\n",
      " #   Column        Non-Null Count  Dtype \n",
      "---  ------        --------------  ----- \n",
      " 0   file_name     1637 non-null   object\n",
      " 1   year          1637 non-null   int64 \n",
      " 2   trial_number  1637 non-null   int64 \n",
      " 3   punishment    1637 non-null   object\n",
      " 4   text          1637 non-null   object\n",
      "dtypes: int64(2), object(3)\n",
      "memory usage: 64.1+ KB\n"
     ]
    }
   ],
   "source": [
    "d.info()"
   ]
  },
  {
   "cell_type": "code",
   "execution_count": 23,
   "metadata": {},
   "outputs": [],
   "source": []
  },
  {
   "cell_type": "code",
   "execution_count": 19,
   "metadata": {},
   "outputs": [
    {
     "data": {
      "text/html": [
       "<div>\n",
       "<style scoped>\n",
       "    .dataframe tbody tr th:only-of-type {\n",
       "        vertical-align: middle;\n",
       "    }\n",
       "\n",
       "    .dataframe tbody tr th {\n",
       "        vertical-align: top;\n",
       "    }\n",
       "\n",
       "    .dataframe thead th {\n",
       "        text-align: right;\n",
       "    }\n",
       "</style>\n",
       "<table border=\"1\" class=\"dataframe\">\n",
       "  <thead>\n",
       "    <tr style=\"text-align: right;\">\n",
       "      <th></th>\n",
       "      <th>file_name</th>\n",
       "      <th>year</th>\n",
       "      <th>trial_number</th>\n",
       "      <th>punishment</th>\n",
       "      <th>text</th>\n",
       "      <th>punish_type</th>\n",
       "    </tr>\n",
       "  </thead>\n",
       "  <tbody>\n",
       "    <tr>\n",
       "      <th>0</th>\n",
       "      <td>OBC2-17200427.xml</td>\n",
       "      <td>1720</td>\n",
       "      <td>1</td>\n",
       "      <td>Transportation</td>\n",
       "      <td>,of St. Leonard Eastcheap      , was indicted ...</td>\n",
       "      <td>transport</td>\n",
       "    </tr>\n",
       "    <tr>\n",
       "      <th>1</th>\n",
       "      <td>OBC2-17200427.xml</td>\n",
       "      <td>1720</td>\n",
       "      <td>2</td>\n",
       "      <td>Transportation</td>\n",
       "      <td>Alice  Jones         , of St. Michael's Cornhi...</td>\n",
       "      <td>transport</td>\n",
       "    </tr>\n",
       "    <tr>\n",
       "      <th>2</th>\n",
       "      <td>OBC2-17200427.xml</td>\n",
       "      <td>1720</td>\n",
       "      <td>3</td>\n",
       "      <td>Transportation</td>\n",
       "      <td>James  Wilson         , of St Katharine Colema...</td>\n",
       "      <td>transport</td>\n",
       "    </tr>\n",
       "    <tr>\n",
       "      <th>3</th>\n",
       "      <td>OBC2-17200427.xml</td>\n",
       "      <td>1720</td>\n",
       "      <td>4</td>\n",
       "      <td>Transportation</td>\n",
       "      <td>James  Mercy , alias   Masse          , of St....</td>\n",
       "      <td>transport</td>\n",
       "    </tr>\n",
       "    <tr>\n",
       "      <th>4</th>\n",
       "      <td>OBC2-17200427.xml</td>\n",
       "      <td>1720</td>\n",
       "      <td>5</td>\n",
       "      <td>Transportation</td>\n",
       "      <td>Benjamin  Cook , alias   Richard Smith        ...</td>\n",
       "      <td>transport</td>\n",
       "    </tr>\n",
       "  </tbody>\n",
       "</table>\n",
       "</div>"
      ],
      "text/plain": [
       "           file_name  year  trial_number      punishment  \\\n",
       "0  OBC2-17200427.xml  1720             1  Transportation   \n",
       "1  OBC2-17200427.xml  1720             2  Transportation   \n",
       "2  OBC2-17200427.xml  1720             3  Transportation   \n",
       "3  OBC2-17200427.xml  1720             4  Transportation   \n",
       "4  OBC2-17200427.xml  1720             5  Transportation   \n",
       "\n",
       "                                                text punish_type  \n",
       "0  ,of St. Leonard Eastcheap      , was indicted ...   transport  \n",
       "1  Alice  Jones         , of St. Michael's Cornhi...   transport  \n",
       "2  James  Wilson         , of St Katharine Colema...   transport  \n",
       "3  James  Mercy , alias   Masse          , of St....   transport  \n",
       "4  Benjamin  Cook , alias   Richard Smith        ...   transport  "
      ]
     },
     "execution_count": 19,
     "metadata": {},
     "output_type": "execute_result"
    }
   ],
   "source": [
    "# let's create a punishment category column\n",
    "d['punish_type'] = d['punishment'].apply(get_punishment_category, list_of_words=punishment_words)\n",
    "# head\n",
    "d.head()"
   ]
  },
  {
   "cell_type": "markdown",
   "metadata": {},
   "source": [
    "## Creating parsed text column using spacy and scattertext"
   ]
  },
  {
   "cell_type": "code",
   "execution_count": 20,
   "metadata": {},
   "outputs": [
    {
     "data": {
      "text/html": [
       "<div>\n",
       "<style scoped>\n",
       "    .dataframe tbody tr th:only-of-type {\n",
       "        vertical-align: middle;\n",
       "    }\n",
       "\n",
       "    .dataframe tbody tr th {\n",
       "        vertical-align: top;\n",
       "    }\n",
       "\n",
       "    .dataframe thead th {\n",
       "        text-align: right;\n",
       "    }\n",
       "</style>\n",
       "<table border=\"1\" class=\"dataframe\">\n",
       "  <thead>\n",
       "    <tr style=\"text-align: right;\">\n",
       "      <th></th>\n",
       "      <th>file_name</th>\n",
       "      <th>year</th>\n",
       "      <th>trial_number</th>\n",
       "      <th>punishment</th>\n",
       "      <th>text</th>\n",
       "      <th>punish_type</th>\n",
       "      <th>parse</th>\n",
       "    </tr>\n",
       "  </thead>\n",
       "  <tbody>\n",
       "    <tr>\n",
       "      <th>0</th>\n",
       "      <td>OBC2-17200427.xml</td>\n",
       "      <td>1720</td>\n",
       "      <td>1</td>\n",
       "      <td>Transportation</td>\n",
       "      <td>,of St. Leonard Eastcheap      , was indicted ...</td>\n",
       "      <td>transport</td>\n",
       "      <td>(,, of, st, ., leonard, eastcheap, ,, was, ind...</td>\n",
       "    </tr>\n",
       "    <tr>\n",
       "      <th>1</th>\n",
       "      <td>OBC2-17200427.xml</td>\n",
       "      <td>1720</td>\n",
       "      <td>2</td>\n",
       "      <td>Transportation</td>\n",
       "      <td>Alice  Jones         , of St. Michael's Cornhi...</td>\n",
       "      <td>transport</td>\n",
       "      <td>(alice, jones, ,, of, st, ., michael, ', s, co...</td>\n",
       "    </tr>\n",
       "    <tr>\n",
       "      <th>2</th>\n",
       "      <td>OBC2-17200427.xml</td>\n",
       "      <td>1720</td>\n",
       "      <td>3</td>\n",
       "      <td>Transportation</td>\n",
       "      <td>James  Wilson         , of St Katharine Colema...</td>\n",
       "      <td>transport</td>\n",
       "      <td>(james, wilson, ,, of, st, katharine, coleman,...</td>\n",
       "    </tr>\n",
       "    <tr>\n",
       "      <th>3</th>\n",
       "      <td>OBC2-17200427.xml</td>\n",
       "      <td>1720</td>\n",
       "      <td>4</td>\n",
       "      <td>Transportation</td>\n",
       "      <td>James  Mercy , alias   Masse          , of St....</td>\n",
       "      <td>transport</td>\n",
       "      <td>(james, mercy, ,, alias, masse, ,, of, st, ., ...</td>\n",
       "    </tr>\n",
       "    <tr>\n",
       "      <th>4</th>\n",
       "      <td>OBC2-17200427.xml</td>\n",
       "      <td>1720</td>\n",
       "      <td>5</td>\n",
       "      <td>Transportation</td>\n",
       "      <td>Benjamin  Cook , alias   Richard Smith        ...</td>\n",
       "      <td>transport</td>\n",
       "      <td>(benjamin, cook, ,, alias, richard, smith, ,, ...</td>\n",
       "    </tr>\n",
       "  </tbody>\n",
       "</table>\n",
       "</div>"
      ],
      "text/plain": [
       "           file_name  year  trial_number      punishment  \\\n",
       "0  OBC2-17200427.xml  1720             1  Transportation   \n",
       "1  OBC2-17200427.xml  1720             2  Transportation   \n",
       "2  OBC2-17200427.xml  1720             3  Transportation   \n",
       "3  OBC2-17200427.xml  1720             4  Transportation   \n",
       "4  OBC2-17200427.xml  1720             5  Transportation   \n",
       "\n",
       "                                                text punish_type  \\\n",
       "0  ,of St. Leonard Eastcheap      , was indicted ...   transport   \n",
       "1  Alice  Jones         , of St. Michael's Cornhi...   transport   \n",
       "2  James  Wilson         , of St Katharine Colema...   transport   \n",
       "3  James  Mercy , alias   Masse          , of St....   transport   \n",
       "4  Benjamin  Cook , alias   Richard Smith        ...   transport   \n",
       "\n",
       "                                               parse  \n",
       "0  (,, of, st, ., leonard, eastcheap, ,, was, ind...  \n",
       "1  (alice, jones, ,, of, st, ., michael, ', s, co...  \n",
       "2  (james, wilson, ,, of, st, katharine, coleman,...  \n",
       "3  (james, mercy, ,, alias, masse, ,, of, st, ., ...  \n",
       "4  (benjamin, cook, ,, alias, richard, smith, ,, ...  "
      ]
     },
     "execution_count": 20,
     "metadata": {},
     "output_type": "execute_result"
    }
   ],
   "source": [
    "# Scattertext requires parsed documents\n",
    "\n",
    "# we using assign to create new column\n",
    "# we pass in new column name and function that will be applied to each row\n",
    "# we use st.whitespace_nlp_with_sentences function to parse text\n",
    "\n",
    "d = d.assign(\n",
    "    parse=lambda df: df.text.apply(st.whitespace_nlp_with_sentences)\n",
    ")\n",
    "d.head()"
   ]
  },
  {
   "cell_type": "code",
   "execution_count": null,
   "metadata": {},
   "outputs": [],
   "source": []
  },
  {
   "cell_type": "code",
   "execution_count": 21,
   "metadata": {},
   "outputs": [
    {
     "data": {
      "text/plain": [
       "array(['transport', 'empty', 'death', 'unknown', 'whip', 'fine', 'prison',\n",
       "       'discharg'], dtype=object)"
      ]
     },
     "execution_count": 21,
     "metadata": {},
     "output_type": "execute_result"
    }
   ],
   "source": [
    "# unique punich types\n",
    "d['punish_type'].unique()"
   ]
  },
  {
   "cell_type": "code",
   "execution_count": 22,
   "metadata": {},
   "outputs": [
    {
     "data": {
      "text/plain": [
       "punish_type\n",
       "empty        475\n",
       "fine         350\n",
       "unknown      319\n",
       "transport    309\n",
       "death         85\n",
       "prison        57\n",
       "whip          29\n",
       "discharg      13\n",
       "Name: count, dtype: int64"
      ]
     },
     "execution_count": 22,
     "metadata": {},
     "output_type": "execute_result"
    }
   ],
   "source": [
    "# value counts for punish type\n",
    "d['punish_type'].value_counts()"
   ]
  },
  {
   "cell_type": "code",
   "execution_count": 23,
   "metadata": {},
   "outputs": [
    {
     "data": {
      "text/html": [
       "<div>\n",
       "<style scoped>\n",
       "    .dataframe tbody tr th:only-of-type {\n",
       "        vertical-align: middle;\n",
       "    }\n",
       "\n",
       "    .dataframe tbody tr th {\n",
       "        vertical-align: top;\n",
       "    }\n",
       "\n",
       "    .dataframe thead th {\n",
       "        text-align: right;\n",
       "    }\n",
       "</style>\n",
       "<table border=\"1\" class=\"dataframe\">\n",
       "  <thead>\n",
       "    <tr style=\"text-align: right;\">\n",
       "      <th></th>\n",
       "      <th>file_name</th>\n",
       "      <th>year</th>\n",
       "      <th>trial_number</th>\n",
       "      <th>punishment</th>\n",
       "      <th>text</th>\n",
       "      <th>punish_type</th>\n",
       "      <th>parse</th>\n",
       "      <th>freedom</th>\n",
       "    </tr>\n",
       "  </thead>\n",
       "  <tbody>\n",
       "    <tr>\n",
       "      <th>0</th>\n",
       "      <td>OBC2-17200427.xml</td>\n",
       "      <td>1720</td>\n",
       "      <td>1</td>\n",
       "      <td>Transportation</td>\n",
       "      <td>,of St. Leonard Eastcheap      , was indicted ...</td>\n",
       "      <td>transport</td>\n",
       "      <td>(,, of, st, ., leonard, eastcheap, ,, was, ind...</td>\n",
       "      <td>0</td>\n",
       "    </tr>\n",
       "    <tr>\n",
       "      <th>1</th>\n",
       "      <td>OBC2-17200427.xml</td>\n",
       "      <td>1720</td>\n",
       "      <td>2</td>\n",
       "      <td>Transportation</td>\n",
       "      <td>Alice  Jones         , of St. Michael's Cornhi...</td>\n",
       "      <td>transport</td>\n",
       "      <td>(alice, jones, ,, of, st, ., michael, ', s, co...</td>\n",
       "      <td>0</td>\n",
       "    </tr>\n",
       "    <tr>\n",
       "      <th>2</th>\n",
       "      <td>OBC2-17200427.xml</td>\n",
       "      <td>1720</td>\n",
       "      <td>3</td>\n",
       "      <td>Transportation</td>\n",
       "      <td>James  Wilson         , of St Katharine Colema...</td>\n",
       "      <td>transport</td>\n",
       "      <td>(james, wilson, ,, of, st, katharine, coleman,...</td>\n",
       "      <td>0</td>\n",
       "    </tr>\n",
       "    <tr>\n",
       "      <th>3</th>\n",
       "      <td>OBC2-17200427.xml</td>\n",
       "      <td>1720</td>\n",
       "      <td>4</td>\n",
       "      <td>Transportation</td>\n",
       "      <td>James  Mercy , alias   Masse          , of St....</td>\n",
       "      <td>transport</td>\n",
       "      <td>(james, mercy, ,, alias, masse, ,, of, st, ., ...</td>\n",
       "      <td>0</td>\n",
       "    </tr>\n",
       "    <tr>\n",
       "      <th>4</th>\n",
       "      <td>OBC2-17200427.xml</td>\n",
       "      <td>1720</td>\n",
       "      <td>5</td>\n",
       "      <td>Transportation</td>\n",
       "      <td>Benjamin  Cook , alias   Richard Smith        ...</td>\n",
       "      <td>transport</td>\n",
       "      <td>(benjamin, cook, ,, alias, richard, smith, ,, ...</td>\n",
       "      <td>0</td>\n",
       "    </tr>\n",
       "  </tbody>\n",
       "</table>\n",
       "</div>"
      ],
      "text/plain": [
       "           file_name  year  trial_number      punishment  \\\n",
       "0  OBC2-17200427.xml  1720             1  Transportation   \n",
       "1  OBC2-17200427.xml  1720             2  Transportation   \n",
       "2  OBC2-17200427.xml  1720             3  Transportation   \n",
       "3  OBC2-17200427.xml  1720             4  Transportation   \n",
       "4  OBC2-17200427.xml  1720             5  Transportation   \n",
       "\n",
       "                                                text punish_type  \\\n",
       "0  ,of St. Leonard Eastcheap      , was indicted ...   transport   \n",
       "1  Alice  Jones         , of St. Michael's Cornhi...   transport   \n",
       "2  James  Wilson         , of St Katharine Colema...   transport   \n",
       "3  James  Mercy , alias   Masse          , of St....   transport   \n",
       "4  Benjamin  Cook , alias   Richard Smith        ...   transport   \n",
       "\n",
       "                                               parse  freedom  \n",
       "0  (,, of, st, ., leonard, eastcheap, ,, was, ind...        0  \n",
       "1  (alice, jones, ,, of, st, ., michael, ', s, co...        0  \n",
       "2  (james, wilson, ,, of, st, katharine, coleman,...        0  \n",
       "3  (james, mercy, ,, alias, masse, ,, of, st, ., ...        0  \n",
       "4  (benjamin, cook, ,, alias, richard, smith, ,, ...        0  "
      ]
     },
     "execution_count": 23,
     "metadata": {},
     "output_type": "execute_result"
    }
   ],
   "source": [
    "# let's creata  freedom column\n",
    "d['freedom'] = d['punish_type'].isin(['empty', 'discharg']).astype(int)\n",
    "d.head()"
   ]
  },
  {
   "cell_type": "code",
   "execution_count": 24,
   "metadata": {},
   "outputs": [],
   "source": [
    "# convert 0 to punishment and 1 to freedom\n",
    "d['freedom'] = d['freedom'].replace({0: 'punishment', 1: 'freedom'})"
   ]
  },
  {
   "cell_type": "markdown",
   "metadata": {},
   "source": [
    "## Creating Corpus for visualization"
   ]
  },
  {
   "cell_type": "code",
   "execution_count": 25,
   "metadata": {},
   "outputs": [],
   "source": [
    "# we need to build a corpus\n",
    "# TODO - can we use column with more than two categories?\n",
    "\n",
    "corpus = st.CorpusFromParsedDocuments(\n",
    "    d, category_col='freedom', parsed_col='parse'\n",
    ").build().get_unigram_corpus().compact(st.AssociationCompactor(2000))"
   ]
  },
  {
   "cell_type": "code",
   "execution_count": 26,
   "metadata": {},
   "outputs": [
    {
     "data": {
      "text/html": [
       "<div>\n",
       "<style scoped>\n",
       "    .dataframe tbody tr th:only-of-type {\n",
       "        vertical-align: middle;\n",
       "    }\n",
       "\n",
       "    .dataframe tbody tr th {\n",
       "        vertical-align: top;\n",
       "    }\n",
       "\n",
       "    .dataframe thead th {\n",
       "        text-align: right;\n",
       "    }\n",
       "</style>\n",
       "<table border=\"1\" class=\"dataframe\">\n",
       "  <thead>\n",
       "    <tr style=\"text-align: right;\">\n",
       "      <th></th>\n",
       "      <th>index</th>\n",
       "      <th>file_name</th>\n",
       "      <th>year</th>\n",
       "      <th>trial_number</th>\n",
       "      <th>punishment</th>\n",
       "      <th>text</th>\n",
       "      <th>punish_type</th>\n",
       "      <th>parse</th>\n",
       "      <th>freedom</th>\n",
       "    </tr>\n",
       "  </thead>\n",
       "  <tbody>\n",
       "    <tr>\n",
       "      <th>0</th>\n",
       "      <td>0</td>\n",
       "      <td>OBC2-17200427.xml</td>\n",
       "      <td>1720</td>\n",
       "      <td>1</td>\n",
       "      <td>Transportation</td>\n",
       "      <td>,of St. Leonard Eastcheap      , was indicted ...</td>\n",
       "      <td>transport</td>\n",
       "      <td>(,, of, st, ., leonard, eastcheap, ,, was, ind...</td>\n",
       "      <td>punishment</td>\n",
       "    </tr>\n",
       "    <tr>\n",
       "      <th>1</th>\n",
       "      <td>1</td>\n",
       "      <td>OBC2-17200427.xml</td>\n",
       "      <td>1720</td>\n",
       "      <td>2</td>\n",
       "      <td>Transportation</td>\n",
       "      <td>Alice  Jones         , of St. Michael's Cornhi...</td>\n",
       "      <td>transport</td>\n",
       "      <td>(alice, jones, ,, of, st, ., michael, ', s, co...</td>\n",
       "      <td>punishment</td>\n",
       "    </tr>\n",
       "    <tr>\n",
       "      <th>2</th>\n",
       "      <td>2</td>\n",
       "      <td>OBC2-17200427.xml</td>\n",
       "      <td>1720</td>\n",
       "      <td>3</td>\n",
       "      <td>Transportation</td>\n",
       "      <td>James  Wilson         , of St Katharine Colema...</td>\n",
       "      <td>transport</td>\n",
       "      <td>(james, wilson, ,, of, st, katharine, coleman,...</td>\n",
       "      <td>punishment</td>\n",
       "    </tr>\n",
       "    <tr>\n",
       "      <th>3</th>\n",
       "      <td>3</td>\n",
       "      <td>OBC2-17200427.xml</td>\n",
       "      <td>1720</td>\n",
       "      <td>4</td>\n",
       "      <td>Transportation</td>\n",
       "      <td>James  Mercy , alias   Masse          , of St....</td>\n",
       "      <td>transport</td>\n",
       "      <td>(james, mercy, ,, alias, masse, ,, of, st, ., ...</td>\n",
       "      <td>punishment</td>\n",
       "    </tr>\n",
       "    <tr>\n",
       "      <th>4</th>\n",
       "      <td>4</td>\n",
       "      <td>OBC2-17200427.xml</td>\n",
       "      <td>1720</td>\n",
       "      <td>5</td>\n",
       "      <td>Transportation</td>\n",
       "      <td>Benjamin  Cook , alias   Richard Smith        ...</td>\n",
       "      <td>transport</td>\n",
       "      <td>(benjamin, cook, ,, alias, richard, smith, ,, ...</td>\n",
       "      <td>punishment</td>\n",
       "    </tr>\n",
       "    <tr>\n",
       "      <th>...</th>\n",
       "      <td>...</td>\n",
       "      <td>...</td>\n",
       "      <td>...</td>\n",
       "      <td>...</td>\n",
       "      <td>...</td>\n",
       "      <td>...</td>\n",
       "      <td>...</td>\n",
       "      <td>...</td>\n",
       "      <td>...</td>\n",
       "    </tr>\n",
       "    <tr>\n",
       "      <th>1632</th>\n",
       "      <td>1632</td>\n",
       "      <td>OBC2-19130304.xml</td>\n",
       "      <td>1913</td>\n",
       "      <td>65</td>\n",
       "      <td>Six months' hard labour</td>\n",
       "      <td>SUDDABY , John (30, labourer) , and          S...</td>\n",
       "      <td>unknown</td>\n",
       "      <td>(suddaby, ,, john, (, 30, ,, labourer, ), ,, a...</td>\n",
       "      <td>punishment</td>\n",
       "    </tr>\n",
       "    <tr>\n",
       "      <th>1633</th>\n",
       "      <td>1633</td>\n",
       "      <td>OBC2-19130304.xml</td>\n",
       "      <td>1913</td>\n",
       "      <td>66</td>\n",
       "      <td>Nine months' imprisonment, second division.</td>\n",
       "      <td>STEVENSON , Ella, otherwise   Ethel Slade  (53...</td>\n",
       "      <td>prison</td>\n",
       "      <td>(stevenson, ,, ella, ,, otherwise, ethel, slad...</td>\n",
       "      <td>punishment</td>\n",
       "    </tr>\n",
       "    <tr>\n",
       "      <th>1634</th>\n",
       "      <td>1634</td>\n",
       "      <td>OBC2-19130304.xml</td>\n",
       "      <td>1913</td>\n",
       "      <td>67</td>\n",
       "      <td>Four months' hard labour.</td>\n",
       "      <td>WELLAND , John (35, labourer) ,    pleaded gui...</td>\n",
       "      <td>unknown</td>\n",
       "      <td>(welland, ,, john, (, 35, ,, labourer, ), ,, p...</td>\n",
       "      <td>punishment</td>\n",
       "    </tr>\n",
       "    <tr>\n",
       "      <th>1635</th>\n",
       "      <td>1635</td>\n",
       "      <td>OBC2-19130304.xml</td>\n",
       "      <td>1913</td>\n",
       "      <td>68</td>\n",
       "      <td>Eighteen months' imprisonment, second division;</td>\n",
       "      <td>WHARRY , Olive, otherwise   known as Joyce Loc...</td>\n",
       "      <td>prison</td>\n",
       "      <td>(wharry, ,, olive, ,, otherwise, known, as, jo...</td>\n",
       "      <td>punishment</td>\n",
       "    </tr>\n",
       "    <tr>\n",
       "      <th>1636</th>\n",
       "      <td>1636</td>\n",
       "      <td>OBC2-19130304.xml</td>\n",
       "      <td>1913</td>\n",
       "      <td>69</td>\n",
       "      <td>Three years' penal servitude.</td>\n",
       "      <td>DENMAN , George (40, commission agent) ,    pl...</td>\n",
       "      <td>unknown</td>\n",
       "      <td>(denman, ,, george, (, 40, ,, commission, agen...</td>\n",
       "      <td>punishment</td>\n",
       "    </tr>\n",
       "  </tbody>\n",
       "</table>\n",
       "<p>1637 rows × 9 columns</p>\n",
       "</div>"
      ],
      "text/plain": [
       "      index          file_name  year  trial_number  \\\n",
       "0         0  OBC2-17200427.xml  1720             1   \n",
       "1         1  OBC2-17200427.xml  1720             2   \n",
       "2         2  OBC2-17200427.xml  1720             3   \n",
       "3         3  OBC2-17200427.xml  1720             4   \n",
       "4         4  OBC2-17200427.xml  1720             5   \n",
       "...     ...                ...   ...           ...   \n",
       "1632   1632  OBC2-19130304.xml  1913            65   \n",
       "1633   1633  OBC2-19130304.xml  1913            66   \n",
       "1634   1634  OBC2-19130304.xml  1913            67   \n",
       "1635   1635  OBC2-19130304.xml  1913            68   \n",
       "1636   1636  OBC2-19130304.xml  1913            69   \n",
       "\n",
       "                                           punishment  \\\n",
       "0                                      Transportation   \n",
       "1                                      Transportation   \n",
       "2                                      Transportation   \n",
       "3                                      Transportation   \n",
       "4                                      Transportation   \n",
       "...                                               ...   \n",
       "1632                          Six months' hard labour   \n",
       "1633      Nine months' imprisonment, second division.   \n",
       "1634                        Four months' hard labour.   \n",
       "1635  Eighteen months' imprisonment, second division;   \n",
       "1636                    Three years' penal servitude.   \n",
       "\n",
       "                                                   text punish_type  \\\n",
       "0     ,of St. Leonard Eastcheap      , was indicted ...   transport   \n",
       "1     Alice  Jones         , of St. Michael's Cornhi...   transport   \n",
       "2     James  Wilson         , of St Katharine Colema...   transport   \n",
       "3     James  Mercy , alias   Masse          , of St....   transport   \n",
       "4     Benjamin  Cook , alias   Richard Smith        ...   transport   \n",
       "...                                                 ...         ...   \n",
       "1632  SUDDABY , John (30, labourer) , and          S...     unknown   \n",
       "1633  STEVENSON , Ella, otherwise   Ethel Slade  (53...      prison   \n",
       "1634  WELLAND , John (35, labourer) ,    pleaded gui...     unknown   \n",
       "1635  WHARRY , Olive, otherwise   known as Joyce Loc...      prison   \n",
       "1636  DENMAN , George (40, commission agent) ,    pl...     unknown   \n",
       "\n",
       "                                                  parse     freedom  \n",
       "0     (,, of, st, ., leonard, eastcheap, ,, was, ind...  punishment  \n",
       "1     (alice, jones, ,, of, st, ., michael, ', s, co...  punishment  \n",
       "2     (james, wilson, ,, of, st, katharine, coleman,...  punishment  \n",
       "3     (james, mercy, ,, alias, masse, ,, of, st, ., ...  punishment  \n",
       "4     (benjamin, cook, ,, alias, richard, smith, ,, ...  punishment  \n",
       "...                                                 ...         ...  \n",
       "1632  (suddaby, ,, john, (, 30, ,, labourer, ), ,, a...  punishment  \n",
       "1633  (stevenson, ,, ella, ,, otherwise, ethel, slad...  punishment  \n",
       "1634  (welland, ,, john, (, 35, ,, labourer, ), ,, p...  punishment  \n",
       "1635  (wharry, ,, olive, ,, otherwise, known, as, jo...  punishment  \n",
       "1636  (denman, ,, george, (, 40, ,, commission, agen...  punishment  \n",
       "\n",
       "[1637 rows x 9 columns]"
      ]
     },
     "execution_count": 26,
     "metadata": {},
     "output_type": "execute_result"
    }
   ],
   "source": [
    "cdf = corpus.get_df()\n",
    "cdf"
   ]
  },
  {
   "cell_type": "markdown",
   "metadata": {},
   "source": [
    "## Creating html visualization"
   ]
  },
  {
   "cell_type": "code",
   "execution_count": 27,
   "metadata": {},
   "outputs": [
    {
     "data": {
      "text/plain": [
       "6597976"
      ]
     },
     "execution_count": 27,
     "metadata": {},
     "output_type": "execute_result"
    }
   ],
   "source": [
    "## finally we are ready to feed our data to scattertext from our dataframe d\n",
    "# we have our parse column - parse and we have our category column - punish_type\n",
    "\n",
    "\n",
    "# and we have a corpus\n",
    "\n",
    "html = st.produce_scattertext_explorer(\n",
    "    corpus,\n",
    "    category='freedom', category_name='freedom', not_category_name='punishment',\n",
    "    minimum_term_frequency=0, pmi_threshold_coefficient=0,\n",
    "    width_in_pixels=1000, metadata=corpus.get_df()['year'],\n",
    "    transform=st.Scalers.dense_rank\n",
    ")\n",
    "open('../data/fine_vs_freedom_bailey.html', 'w', encoding=\"utf-8\").write(html)"
   ]
  },
  {
   "cell_type": "markdown",
   "metadata": {},
   "source": [
    "## Conclusions from working with scattertext and spacy\n",
    "\n",
    "* creating parse for scattertext was easy for English language\n",
    "* tricky was creation of suitable category\n",
    "* currently it looks like only support for two categories is available - TODO ready docs!/code\n",
    "* resulting plot is interactive and allows to explore the data and search terms\n",
    "\n",
    "Overall very promising library for text visualization to explore word associations and differences between corpora."
   ]
  }
 ],
 "metadata": {
  "kernelspec": {
   "display_name": "venv",
   "language": "python",
   "name": "python3"
  },
  "language_info": {
   "codemirror_mode": {
    "name": "ipython",
    "version": 3
   },
   "file_extension": ".py",
   "mimetype": "text/x-python",
   "name": "python",
   "nbconvert_exporter": "python",
   "pygments_lexer": "ipython3",
   "version": "3.12.3"
  },
  "orig_nbformat": 4
 },
 "nbformat": 4,
 "nbformat_minor": 2
}
