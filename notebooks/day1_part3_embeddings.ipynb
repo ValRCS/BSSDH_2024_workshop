{
 "cells": [
  {
   "cell_type": "markdown",
   "metadata": {},
   "source": [
    "# Building embeddings from our corpus\n",
    "\n",
    "Now we have our corpus, we can build our embeddings.\n",
    "\n",
    "There are different types of embeddings. At our corpus we will work with word embeddings. However we could think of sentence embeddings, paragraph embeddings, document embeddings, even character or subword embeddings.\n",
    "\n",
    "Word embeddings are vector representations of words. They are useful for many NLP tasks, such as sentiment analysis, text classification, and machine translation. They are also useful for visualising the relationships between words. For example, we can use them to find words with similar meanings, or to find words that are often used together.\n",
    "\n",
    "## Why do we need embeddings?\n",
    "\n",
    "Computers and most machine learning algorithms in particular work better with numerical data. However, words are not numbers. So we need to find a way to represent words as numbers.\n",
    "\n",
    "Large Language Models such as ChatGPT also use word embeddings to represent words. However, they are trained on huge amounts of data, and so are not always suitable for smaller projects. In this notebook, we will build our own word embeddings from our corpus.\n",
    "\n",
    "## Different types of embedddings\n",
    "\n",
    "There are different types of word embeddings as well, such as:\n",
    "\n",
    "- Bag of Words converted to numeric vectors\n",
    "- TF-IDF converted to numeric vectors\n",
    "- Word2Vec\n",
    "- GloVe\n",
    "- FastText\n",
    "- BERT\n",
    "\n",
    " We will  also use the gensim library to do this. Gensim is a library for topic modelling, document indexing and similarity retrieval with large corpora. It uses the word2vec algorithm to create vector representations of words, which can then be used to find words with similar meanings."
   ]
  },
  {
   "cell_type": "code",
   "execution_count": 1,
   "metadata": {},
   "outputs": [
    {
     "name": "stdout",
     "output_type": "stream",
     "text": [
      "Python ver: 3.12.3 (tags/v3.12.3:f6650f9, Apr  9 2024, 14:05:25) [MSC v.1938 64 bit (AMD64)]\n",
      "Pandas ver: 2.2.2\n",
      "Gensim ver: 4.3.3\n",
      "Scikit learn ver: 1.5.0\n"
     ]
    }
   ],
   "source": [
    "# We will be using the same dataset as in the previous notebook\n",
    "# usual standard imports\n",
    "from pathlib import Path\n",
    "from datetime import datetime\n",
    "\n",
    "#python version\n",
    "import sys\n",
    "print(\"Python ver:\", sys.version)\n",
    "\n",
    "\n",
    "import pandas as pd\n",
    "# print version\n",
    "print(\"Pandas ver:\", pd.__version__)\n",
    "\n",
    "# we will need gensim for word2vec embeddings\n",
    "import gensim\n",
    "# print version\n",
    "print(\"Gensim ver:\", gensim.__version__)\n",
    "\n",
    "# we will need scikit learn for tfidf embeddings\n",
    "import sklearn\n",
    "# print version\n",
    "print(\"Scikit learn ver:\", sklearn.__version__)"
   ]
  },
  {
   "cell_type": "markdown",
   "metadata": {},
   "source": [
    "## Loading Data from Parquet Url"
   ]
  },
  {
   "cell_type": "code",
   "execution_count": 2,
   "metadata": {},
   "outputs": [
    {
     "name": "stdout",
     "output_type": "stream",
     "text": [
      "Dataframe shape: (1637, 9)\n"
     ]
    }
   ],
   "source": [
    "# now let's load parquet file directly from url\n",
    "url = \"https://github.com/ValRCS/BSSDH_2024_workshop/raw/main/data/old_bailey_sample_1720_1913_cleaned.parquet\"\n",
    "df = pd.read_parquet(url)\n",
    "# instead url i could have used local path\n",
    "print(\"Dataframe shape:\", df.shape)"
   ]
  },
  {
   "cell_type": "code",
   "execution_count": null,
   "metadata": {},
   "outputs": [],
   "source": []
  },
  {
   "cell_type": "code",
   "execution_count": 3,
   "metadata": {},
   "outputs": [
    {
     "name": "stdout",
     "output_type": "stream",
     "text": [
      "Dataframe size: 5664174\n"
     ]
    }
   ],
   "source": [
    "# how much memory does this dataframe use?\n",
    "print(\"Dataframe size:\", df.memory_usage(deep=True).sum())\n",
    "# supposedly Pandas 2.0 has better memory management for strings\n"
   ]
  },
  {
   "cell_type": "code",
   "execution_count": 4,
   "metadata": {},
   "outputs": [
    {
     "name": "stdout",
     "output_type": "stream",
     "text": [
      "<class 'pandas.core.frame.DataFrame'>\n",
      "Index: 1637 entries, 1720 to 1913\n",
      "Data columns (total 9 columns):\n",
      " #   Column              Non-Null Count  Dtype \n",
      "---  ------              --------------  ----- \n",
      " 0   trial_number        1637 non-null   int64 \n",
      " 1   punishment          1162 non-null   object\n",
      " 2   text                1637 non-null   object\n",
      " 3   dirty_len           1637 non-null   int64 \n",
      " 4   clean_len           1637 non-null   int64 \n",
      " 5   words               1637 non-null   object\n",
      " 6   word_count          1637 non-null   int64 \n",
      " 7   word_count_cleaned  1637 non-null   int64 \n",
      " 8   words_lemmatized    1637 non-null   object\n",
      "dtypes: int64(5), object(4)\n",
      "memory usage: 127.9+ KB\n"
     ]
    }
   ],
   "source": [
    "# let's get some statistics about our dataframe\n",
    "df.info()"
   ]
  },
  {
   "cell_type": "code",
   "execution_count": 5,
   "metadata": {},
   "outputs": [
    {
     "data": {
      "text/html": [
       "<div>\n",
       "<style scoped>\n",
       "    .dataframe tbody tr th:only-of-type {\n",
       "        vertical-align: middle;\n",
       "    }\n",
       "\n",
       "    .dataframe tbody tr th {\n",
       "        vertical-align: top;\n",
       "    }\n",
       "\n",
       "    .dataframe thead th {\n",
       "        text-align: right;\n",
       "    }\n",
       "</style>\n",
       "<table border=\"1\" class=\"dataframe\">\n",
       "  <thead>\n",
       "    <tr style=\"text-align: right;\">\n",
       "      <th></th>\n",
       "      <th>trial_number</th>\n",
       "      <th>dirty_len</th>\n",
       "      <th>clean_len</th>\n",
       "      <th>word_count</th>\n",
       "      <th>word_count_cleaned</th>\n",
       "    </tr>\n",
       "  </thead>\n",
       "  <tbody>\n",
       "    <tr>\n",
       "      <th>count</th>\n",
       "      <td>1637.000000</td>\n",
       "      <td>1637.000000</td>\n",
       "      <td>1637.000000</td>\n",
       "      <td>1637.000000</td>\n",
       "      <td>1637.000000</td>\n",
       "    </tr>\n",
       "    <tr>\n",
       "      <th>mean</th>\n",
       "      <td>49.329872</td>\n",
       "      <td>3227.827734</td>\n",
       "      <td>3091.967013</td>\n",
       "      <td>608.543677</td>\n",
       "      <td>257.531460</td>\n",
       "    </tr>\n",
       "    <tr>\n",
       "      <th>std</th>\n",
       "      <td>34.327506</td>\n",
       "      <td>7288.101079</td>\n",
       "      <td>7020.877032</td>\n",
       "      <td>1376.101195</td>\n",
       "      <td>544.264694</td>\n",
       "    </tr>\n",
       "    <tr>\n",
       "      <th>min</th>\n",
       "      <td>1.000000</td>\n",
       "      <td>57.000000</td>\n",
       "      <td>51.000000</td>\n",
       "      <td>10.000000</td>\n",
       "      <td>6.000000</td>\n",
       "    </tr>\n",
       "    <tr>\n",
       "      <th>25%</th>\n",
       "      <td>22.000000</td>\n",
       "      <td>302.000000</td>\n",
       "      <td>285.000000</td>\n",
       "      <td>50.000000</td>\n",
       "      <td>31.000000</td>\n",
       "    </tr>\n",
       "    <tr>\n",
       "      <th>50%</th>\n",
       "      <td>44.000000</td>\n",
       "      <td>1359.000000</td>\n",
       "      <td>1291.000000</td>\n",
       "      <td>245.000000</td>\n",
       "      <td>115.000000</td>\n",
       "    </tr>\n",
       "    <tr>\n",
       "      <th>75%</th>\n",
       "      <td>70.000000</td>\n",
       "      <td>3453.000000</td>\n",
       "      <td>3299.000000</td>\n",
       "      <td>654.000000</td>\n",
       "      <td>277.000000</td>\n",
       "    </tr>\n",
       "    <tr>\n",
       "      <th>max</th>\n",
       "      <td>173.000000</td>\n",
       "      <td>161044.000000</td>\n",
       "      <td>156144.000000</td>\n",
       "      <td>29928.000000</td>\n",
       "      <td>11270.000000</td>\n",
       "    </tr>\n",
       "  </tbody>\n",
       "</table>\n",
       "</div>"
      ],
      "text/plain": [
       "       trial_number      dirty_len      clean_len    word_count  \\\n",
       "count   1637.000000    1637.000000    1637.000000   1637.000000   \n",
       "mean      49.329872    3227.827734    3091.967013    608.543677   \n",
       "std       34.327506    7288.101079    7020.877032   1376.101195   \n",
       "min        1.000000      57.000000      51.000000     10.000000   \n",
       "25%       22.000000     302.000000     285.000000     50.000000   \n",
       "50%       44.000000    1359.000000    1291.000000    245.000000   \n",
       "75%       70.000000    3453.000000    3299.000000    654.000000   \n",
       "max      173.000000  161044.000000  156144.000000  29928.000000   \n",
       "\n",
       "       word_count_cleaned  \n",
       "count         1637.000000  \n",
       "mean           257.531460  \n",
       "std            544.264694  \n",
       "min              6.000000  \n",
       "25%             31.000000  \n",
       "50%            115.000000  \n",
       "75%            277.000000  \n",
       "max          11270.000000  "
      ]
     },
     "execution_count": 5,
     "metadata": {},
     "output_type": "execute_result"
    }
   ],
   "source": [
    "# we can get basic statistics about our dataframe\n",
    "df.describe() # for numerical columns - returns a dataframe as well"
   ]
  },
  {
   "cell_type": "code",
   "execution_count": 6,
   "metadata": {},
   "outputs": [
    {
     "data": {
      "text/html": [
       "<div>\n",
       "<style scoped>\n",
       "    .dataframe tbody tr th:only-of-type {\n",
       "        vertical-align: middle;\n",
       "    }\n",
       "\n",
       "    .dataframe tbody tr th {\n",
       "        vertical-align: top;\n",
       "    }\n",
       "\n",
       "    .dataframe thead th {\n",
       "        text-align: right;\n",
       "    }\n",
       "</style>\n",
       "<table border=\"1\" class=\"dataframe\">\n",
       "  <thead>\n",
       "    <tr style=\"text-align: right;\">\n",
       "      <th></th>\n",
       "      <th>trial_number</th>\n",
       "      <th>punishment</th>\n",
       "      <th>text</th>\n",
       "      <th>dirty_len</th>\n",
       "      <th>clean_len</th>\n",
       "      <th>words</th>\n",
       "      <th>word_count</th>\n",
       "      <th>word_count_cleaned</th>\n",
       "      <th>words_lemmatized</th>\n",
       "    </tr>\n",
       "    <tr>\n",
       "      <th>year</th>\n",
       "      <th></th>\n",
       "      <th></th>\n",
       "      <th></th>\n",
       "      <th></th>\n",
       "      <th></th>\n",
       "      <th></th>\n",
       "      <th></th>\n",
       "      <th></th>\n",
       "      <th></th>\n",
       "    </tr>\n",
       "  </thead>\n",
       "  <tbody>\n",
       "    <tr>\n",
       "      <th>1896</th>\n",
       "      <td>37</td>\n",
       "      <td>Eighteen Months' Hard Labour.</td>\n",
       "      <td>95 john leigh 40 unlawfully obtaining from wal...</td>\n",
       "      <td>18027</td>\n",
       "      <td>17288</td>\n",
       "      <td>[95, john, leigh, 40, unlawfully, obtaining, w...</td>\n",
       "      <td>3237</td>\n",
       "      <td>1466</td>\n",
       "      <td>[95, john, leigh, 40, unlawfully, obtain, walt...</td>\n",
       "    </tr>\n",
       "    <tr>\n",
       "      <th>1841</th>\n",
       "      <td>71</td>\n",
       "      <td>Confined Three Months</td>\n",
       "      <td>368 john johnson was indicted for stealing on ...</td>\n",
       "      <td>192</td>\n",
       "      <td>179</td>\n",
       "      <td>[368, john, johnson, indicted, stealing, 9th, ...</td>\n",
       "      <td>34</td>\n",
       "      <td>23</td>\n",
       "      <td>[368, john, johnson, indict, steal, 9th, decem...</td>\n",
       "    </tr>\n",
       "    <tr>\n",
       "      <th>1762</th>\n",
       "      <td>19</td>\n",
       "      <td>None</td>\n",
       "      <td>107 m eleanor coshee otherwise southwall late ...</td>\n",
       "      <td>3708</td>\n",
       "      <td>3544</td>\n",
       "      <td>[107, m, eleanor, coshee, southwall, late, par...</td>\n",
       "      <td>704</td>\n",
       "      <td>312</td>\n",
       "      <td>[107, m, eleanor, coshee, southwall, late, par...</td>\n",
       "    </tr>\n",
       "    <tr>\n",
       "      <th>1835</th>\n",
       "      <td>2</td>\n",
       "      <td>DEATH</td>\n",
       "      <td>186 josiah allen was indicted for burglariousl...</td>\n",
       "      <td>3395</td>\n",
       "      <td>3260</td>\n",
       "      <td>[186, josiah, allen, indicted, burglariously, ...</td>\n",
       "      <td>655</td>\n",
       "      <td>275</td>\n",
       "      <td>[186, josiah, allen, indict, burglariously, br...</td>\n",
       "    </tr>\n",
       "    <tr>\n",
       "      <th>1731</th>\n",
       "      <td>49</td>\n",
       "      <td>[Transportation. See summary.]</td>\n",
       "      <td>william simpson of st jamess clerkenwell was i...</td>\n",
       "      <td>3557</td>\n",
       "      <td>3428</td>\n",
       "      <td>[william, simpson, st, jamess, clerkenwell, in...</td>\n",
       "      <td>667</td>\n",
       "      <td>261</td>\n",
       "      <td>[william, simpson, st, jamess, clerkenwell, in...</td>\n",
       "    </tr>\n",
       "  </tbody>\n",
       "</table>\n",
       "</div>"
      ],
      "text/plain": [
       "      trial_number                      punishment  \\\n",
       "year                                                 \n",
       "1896            37   Eighteen Months' Hard Labour.   \n",
       "1841            71           Confined Three Months   \n",
       "1762            19                            None   \n",
       "1835             2                           DEATH   \n",
       "1731            49  [Transportation. See summary.]   \n",
       "\n",
       "                                                   text  dirty_len  clean_len  \\\n",
       "year                                                                            \n",
       "1896  95 john leigh 40 unlawfully obtaining from wal...      18027      17288   \n",
       "1841  368 john johnson was indicted for stealing on ...        192        179   \n",
       "1762  107 m eleanor coshee otherwise southwall late ...       3708       3544   \n",
       "1835  186 josiah allen was indicted for burglariousl...       3395       3260   \n",
       "1731  william simpson of st jamess clerkenwell was i...       3557       3428   \n",
       "\n",
       "                                                  words  word_count  \\\n",
       "year                                                                  \n",
       "1896  [95, john, leigh, 40, unlawfully, obtaining, w...        3237   \n",
       "1841  [368, john, johnson, indicted, stealing, 9th, ...          34   \n",
       "1762  [107, m, eleanor, coshee, southwall, late, par...         704   \n",
       "1835  [186, josiah, allen, indicted, burglariously, ...         655   \n",
       "1731  [william, simpson, st, jamess, clerkenwell, in...         667   \n",
       "\n",
       "      word_count_cleaned                                   words_lemmatized  \n",
       "year                                                                         \n",
       "1896                1466  [95, john, leigh, 40, unlawfully, obtain, walt...  \n",
       "1841                  23  [368, john, johnson, indict, steal, 9th, decem...  \n",
       "1762                 312  [107, m, eleanor, coshee, southwall, late, par...  \n",
       "1835                 275  [186, josiah, allen, indict, burglariously, br...  \n",
       "1731                 261  [william, simpson, st, jamess, clerkenwell, in...  "
      ]
     },
     "execution_count": 6,
     "metadata": {},
     "output_type": "execute_result"
    }
   ],
   "source": [
    "# random sample of 5 rows\n",
    "# let's set seed first\n",
    "import numpy as np\n",
    "np.random.seed(2023) # so we will get the same results\n",
    "df.sample(5)"
   ]
  },
  {
   "cell_type": "code",
   "execution_count": 7,
   "metadata": {},
   "outputs": [
    {
     "data": {
      "text/plain": [
       "<Axes: >"
      ]
     },
     "execution_count": 7,
     "metadata": {},
     "output_type": "execute_result"
    },
    {
     "data": {
      "image/png": "[encoded data removed]",
      "text/plain": [
       "<Figure size 640x480 with 1 Axes>"
      ]
     },
     "metadata": {},
     "output_type": "display_data"
    }
   ],
   "source": [
    "# we might want to plot histogram of word_count_cleaned\n",
    "# this will give us a more detailed view of the distribution of word counts\n",
    "df.word_count_cleaned.hist() # this will plot histogram of word counts "
   ]
  },
  {
   "cell_type": "code",
   "execution_count": 8,
   "metadata": {},
   "outputs": [
    {
     "data": {
      "text/html": [
       "<div>\n",
       "<style scoped>\n",
       "    .dataframe tbody tr th:only-of-type {\n",
       "        vertical-align: middle;\n",
       "    }\n",
       "\n",
       "    .dataframe tbody tr th {\n",
       "        vertical-align: top;\n",
       "    }\n",
       "\n",
       "    .dataframe thead th {\n",
       "        text-align: right;\n",
       "    }\n",
       "</style>\n",
       "<table border=\"1\" class=\"dataframe\">\n",
       "  <thead>\n",
       "    <tr style=\"text-align: right;\">\n",
       "      <th></th>\n",
       "      <th>trial_number</th>\n",
       "      <th>punishment</th>\n",
       "      <th>text</th>\n",
       "      <th>dirty_len</th>\n",
       "      <th>clean_len</th>\n",
       "      <th>words</th>\n",
       "      <th>word_count</th>\n",
       "      <th>word_count_cleaned</th>\n",
       "      <th>words_lemmatized</th>\n",
       "    </tr>\n",
       "    <tr>\n",
       "      <th>year</th>\n",
       "      <th></th>\n",
       "      <th></th>\n",
       "      <th></th>\n",
       "      <th></th>\n",
       "      <th></th>\n",
       "      <th></th>\n",
       "      <th></th>\n",
       "      <th></th>\n",
       "      <th></th>\n",
       "    </tr>\n",
       "  </thead>\n",
       "  <tbody>\n",
       "    <tr>\n",
       "      <th>1872</th>\n",
       "      <td>1</td>\n",
       "      <td>DEATH</td>\n",
       "      <td>117 john selby watson 67 was indicted for the ...</td>\n",
       "      <td>161044</td>\n",
       "      <td>156144</td>\n",
       "      <td>[117, john, selby, watson, 67, indicted, wilfu...</td>\n",
       "      <td>29928</td>\n",
       "      <td>11270</td>\n",
       "      <td>[117, john, selby, watson, 67, indict, wilful,...</td>\n",
       "    </tr>\n",
       "  </tbody>\n",
       "</table>\n",
       "</div>"
      ],
      "text/plain": [
       "      trial_number punishment  \\\n",
       "year                            \n",
       "1872             1      DEATH   \n",
       "\n",
       "                                                   text  dirty_len  clean_len  \\\n",
       "year                                                                            \n",
       "1872  117 john selby watson 67 was indicted for the ...     161044     156144   \n",
       "\n",
       "                                                  words  word_count  \\\n",
       "year                                                                  \n",
       "1872  [117, john, selby, watson, 67, indicted, wilfu...       29928   \n",
       "\n",
       "      word_count_cleaned                                   words_lemmatized  \n",
       "year                                                                         \n",
       "1872               11270  [117, john, selby, watson, 67, indict, wilful,...  "
      ]
     },
     "execution_count": 8,
     "metadata": {},
     "output_type": "execute_result"
    }
   ],
   "source": [
    "# looks like we have some outliers, let's see what they are\n",
    "df[df.word_count_cleaned > 10000]\n",
    "# looks like there was a very long trial that ended up badly for the defendant"
   ]
  },
  {
   "cell_type": "code",
   "execution_count": 9,
   "metadata": {},
   "outputs": [
    {
     "data": {
      "text/plain": [
       "<Axes: >"
      ]
     },
     "execution_count": 9,
     "metadata": {},
     "output_type": "execute_result"
    },
    {
     "data": {
      "image/png": "[encoded data removed]",
      "text/plain": [
       "<Figure size 640x480 with 1 Axes>"
      ]
     },
     "metadata": {},
     "output_type": "display_data"
    }
   ],
   "source": [
    "# for our histogram we will skip this outlier\n",
    "# so we want all rows which have word_count_cleaned < 10000\n",
    "df[df.word_count_cleaned < 10000].word_count_cleaned.hist()"
   ]
  },
  {
   "cell_type": "code",
   "execution_count": 10,
   "metadata": {},
   "outputs": [
    {
     "data": {
      "text/plain": [
       "<Axes: >"
      ]
     },
     "execution_count": 10,
     "metadata": {},
     "output_type": "execute_result"
    },
    {
     "data": {
      "image/png": "[encoded data removed]",
      "text/plain": [
       "<Figure size 640x480 with 1 Axes>"
      ]
     },
     "metadata": {},
     "output_type": "display_data"
    }
   ],
   "source": [
    "# we are still not getting a good view of the distribution\n",
    "# let's increase the number of bins\n",
    "df[df.word_count_cleaned < 10000].word_count_cleaned.hist(bins=50)\n"
   ]
  },
  {
   "cell_type": "code",
   "execution_count": 11,
   "metadata": {},
   "outputs": [
    {
     "data": {
      "text/plain": [
       "<Axes: >"
      ]
     },
     "execution_count": 11,
     "metadata": {},
     "output_type": "execute_result"
    },
    {
     "data": {
      "image/png": "[encoded data removed]",
      "text/plain": [
       "<Figure size 640x480 with 1 Axes>"
      ]
     },
     "metadata": {},
     "output_type": "display_data"
    }
   ],
   "source": [
    "# again we can see that most of the documents are short\n",
    "# certainly Justice in England was swift and brutal\n",
    "\n",
    "# let's see distribution among shorter documents of less than 1000 words\n",
    "df[df.word_count_cleaned < 1000].word_count_cleaned.hist(bins=50)"
   ]
  },
  {
   "cell_type": "code",
   "execution_count": 13,
   "metadata": {},
   "outputs": [
    {
     "data": {
      "text/plain": [
       "(11, 9)"
      ]
     },
     "execution_count": 13,
     "metadata": {},
     "output_type": "execute_result"
    }
   ],
   "source": [
    "# let's look at rows that have word count cleaned less than 10\n",
    "df[df.word_count_cleaned < 10].shape"
   ]
  },
  {
   "cell_type": "code",
   "execution_count": 14,
   "metadata": {},
   "outputs": [
    {
     "data": {
      "text/plain": [
       "<Axes: >"
      ]
     },
     "execution_count": 14,
     "metadata": {},
     "output_type": "execute_result"
    },
    {
     "data": {
      "image/png": "[encoded data removed]",
      "text/plain": [
       "<Figure size 640x480 with 1 Axes>"
      ]
     },
     "metadata": {},
     "output_type": "display_data"
    }
   ],
   "source": [
    "# let's look at a histogram of word counts for documents that have less than 50 words\n",
    "# let's use use bins=50\n",
    "df[df.word_count_cleaned < 50].word_count_cleaned.hist(bins=50)"
   ]
  },
  {
   "cell_type": "code",
   "execution_count": 15,
   "metadata": {},
   "outputs": [
    {
     "data": {
      "text/plain": [
       "<Axes: ylabel='Density'>"
      ]
     },
     "execution_count": 15,
     "metadata": {},
     "output_type": "execute_result"
    },
    {
     "data": {
      "image/png": "[encoded data removed]",
      "text/plain": [
       "<Figure size 640x480 with 1 Axes>"
      ]
     },
     "metadata": {},
     "output_type": "display_data"
    }
   ],
   "source": [
    "# lets create a kernel density plot of word count cleaned for documents with less than 60 words\n",
    "df[df.word_count_cleaned < 60].word_count_cleaned.plot.kde()"
   ]
  },
  {
   "cell_type": "code",
   "execution_count": 17,
   "metadata": {},
   "outputs": [
    {
     "data": {
      "text/plain": [
       "<Axes: >"
      ]
     },
     "execution_count": 17,
     "metadata": {},
     "output_type": "execute_result"
    },
    {
     "data": {
      "image/png": "[encoded data removed]",
      "text/plain": [
       "<Figure size 640x480 with 2 Axes>"
      ]
     },
     "metadata": {},
     "output_type": "display_data"
    }
   ],
   "source": [
    "# let's plot both histogram and kernel density plot on the same plot for documents with less than 60 words\n",
    "# let's use secondary y axis\n",
    "ax = df[df.word_count_cleaned < 60].word_count_cleaned.hist(bins=60)\n",
    "df[df.word_count_cleaned < 60].word_count_cleaned.plot.kde(secondary_y=True, ax=ax)\n",
    "\n"
   ]
  },
  {
   "cell_type": "markdown",
   "metadata": {},
   "source": [
    "## Concerns on short texts\n",
    "\n",
    "Short texts might not have enough information to build good embeddings. However, we will try to build them anyway."
   ]
  },
  {
   "cell_type": "code",
   "execution_count": 12,
   "metadata": {},
   "outputs": [],
   "source": [
    "# I am concerned that we will not get very useful embeddings from the very short documents but for now we will leave them in\n",
    "\n",
    "# Also I noticed that our cleaning still left numerical digits in the text\n",
    "# sometimes they are important, but in general we can remove them"
   ]
  },
  {
   "cell_type": "code",
   "execution_count": 18,
   "metadata": {},
   "outputs": [
    {
     "data": {
      "text/plain": [
       "False"
      ]
     },
     "execution_count": 18,
     "metadata": {},
     "output_type": "execute_result"
    }
   ],
   "source": [
    "\"Valdis\".isdigit() # False"
   ]
  },
  {
   "cell_type": "code",
   "execution_count": 14,
   "metadata": {},
   "outputs": [
    {
     "data": {
      "text/plain": [
       "True"
      ]
     },
     "execution_count": 14,
     "metadata": {},
     "output_type": "execute_result"
    }
   ],
   "source": [
    "\"123456\".isdigit() # True"
   ]
  },
  {
   "cell_type": "code",
   "execution_count": 19,
   "metadata": {},
   "outputs": [
    {
     "name": "stdout",
     "output_type": "stream",
     "text": [
      "Words removed with digits only: 12700\n",
      "Total words remaining: 408879\n"
     ]
    }
   ],
   "source": [
    "# let's remove digits from our words_lemmatized column that contains list of wordsd\n",
    "# let's build a function that will remove any digits in from a list of words\n",
    "def remove_digits(words):\n",
    "    \"\"\"Removes digits from a list of words\"\"\"\n",
    "    return [word for word in words if not word.isdigit()]\n",
    "# let's apply it to our dataframe\n",
    "df.words_lemmatized = df.words_lemmatized.apply(remove_digits)\n",
    "# let's make a column with word count after removing digits\n",
    "df[\"word_count_cleaned_no_digits\"] = df.words_lemmatized.apply(len)\n",
    "# let's see how many documents we have now\n",
    "df.shape\n",
    "# how many words did we remove?\n",
    "print(\"Words removed with digits only:\", df.word_count_cleaned.sum() - df.word_count_cleaned_no_digits.sum())\n",
    "# total words remaining\n",
    "print(\"Total words remaining:\", df.word_count_cleaned_no_digits.sum())\n",
    "# this will make our embeddings smaller and faster to train"
   ]
  },
  {
   "cell_type": "code",
   "execution_count": 16,
   "metadata": {},
   "outputs": [
    {
     "name": "stdout",
     "output_type": "stream",
     "text": [
      "0123456789\n",
      "abcdefghijklmnopqrstuvwxyzABCDEFGHIJKLMNOPQRSTUVWXYZ\n"
     ]
    },
    {
     "data": {
      "text/plain": [
       "{48: None,\n",
       " 49: None,\n",
       " 50: None,\n",
       " 51: None,\n",
       " 52: None,\n",
       " 53: None,\n",
       " 54: None,\n",
       " 55: None,\n",
       " 56: None,\n",
       " 57: None}"
      ]
     },
     "execution_count": 16,
     "metadata": {},
     "output_type": "execute_result"
    }
   ],
   "source": [
    "import string\n",
    "digits = string.digits\n",
    "print(digits) # this is a string\n",
    "print(string.ascii_letters) # this is a string\n",
    "table = str.maketrans(\"\", \"\", digits)\n",
    "table"
   ]
  },
  {
   "cell_type": "code",
   "execution_count": 21,
   "metadata": {},
   "outputs": [
    {
     "data": {
      "text/plain": [
       "['', 'abc', '', 'Valdis', 'BSSDH']"
      ]
     },
     "execution_count": 21,
     "metadata": {},
     "output_type": "execute_result"
    }
   ],
   "source": [
    "def remove_digits_from_words(words):\n",
    "    \"\"\"Removes digits from individual words in a list of words\"\"\"\n",
    "    # we need a translation table\n",
    "    import string\n",
    "    digits = string.digits\n",
    "    # we need to make a translation table\n",
    "    # we will replace digits with empty string\n",
    "    table = str.maketrans(\"\", \"\", digits)\n",
    "    return [word.translate(table) for word in words] # this could potentially leave empty strings in our list of words\n",
    "\n",
    "# let's test it\n",
    "remove_digits_from_words([\"123\", \"abc\", \"456\", \"Valdis2024\", \"2020BSSDH2024\"])"
   ]
  },
  {
   "cell_type": "code",
   "execution_count": 22,
   "metadata": {},
   "outputs": [
    {
     "name": "stdout",
     "output_type": "stream",
     "text": [
      "Start time: 2024-07-24 11:56:34.256359\n",
      "Time elapsed: 0:00:00.483611\n",
      "Documents: 1637\n",
      "Words removed with digits only: 19435\n",
      "Total words remaining: 402144\n"
     ]
    }
   ],
   "source": [
    "# we might still have words that contain a digit in them let's remove those as well\n",
    "# let's build a function that will remove any words that contain digits\n",
    "def remove_words_with_digits(words):\n",
    "    \"\"\"Removes words that contain digits from a list of words\"\"\"\n",
    "    return [word for word in words if not any(char.isdigit() for char in word)] # this is slower but more general that previous function\n",
    "\n",
    "# so using this approach John2 will be removed but not John\n",
    "\n",
    "# let's apply it to our dataframe\n",
    "# start of timer\n",
    "start = datetime.now()\n",
    "print(f\"Start time: {start}\")\n",
    "df.words_lemmatized = df.words_lemmatized.apply(remove_words_with_digits)\n",
    "#if i wanted to save results in a new column i would do this\n",
    "#df[\"words_lemmatized_no_digits\"] = df.words_lemmatized.apply(remove_words_with_digits)\n",
    "print(f\"Time elapsed: {datetime.now() - start}\")\n",
    "# let's update our word count cleaned no digits column\n",
    "df[\"word_count_cleaned_no_digits\"] = df.words_lemmatized.apply(len)\n",
    "# let's see how many documents we have now\n",
    "print(\"Documents:\", df.shape[0])\n",
    "# how many words did we remove?\n",
    "print(\"Words removed with digits only:\", df.word_count_cleaned.sum() - df.word_count_cleaned_no_digits.sum())\n",
    "# total words remaining\n",
    "print(\"Total words remaining:\", df.word_count_cleaned_no_digits.sum())"
   ]
  },
  {
   "cell_type": "code",
   "execution_count": null,
   "metadata": {},
   "outputs": [],
   "source": []
  },
  {
   "cell_type": "markdown",
   "metadata": {},
   "source": [
    "## Bag of Words\n",
    "\n",
    "The simplest way to build embeddings is to use a bag of words model. This is a simple model that counts the number of times each word appears in a document. It then uses these counts to build a vector representation of the document.\n",
    "\n",
    "We will use the gensim library to build our embeddings. Gensim is a library for topic modelling, document indexing and similarity retrieval with large corpora. It uses the word2vec algorithm to create vector representations of words, which can then be used to find words with similar meanings."
   ]
  },
  {
   "cell_type": "code",
   "execution_count": 23,
   "metadata": {},
   "outputs": [
    {
     "data": {
      "text/html": [
       "<div>\n",
       "<style scoped>\n",
       "    .dataframe tbody tr th:only-of-type {\n",
       "        vertical-align: middle;\n",
       "    }\n",
       "\n",
       "    .dataframe tbody tr th {\n",
       "        vertical-align: top;\n",
       "    }\n",
       "\n",
       "    .dataframe thead th {\n",
       "        text-align: right;\n",
       "    }\n",
       "</style>\n",
       "<table border=\"1\" class=\"dataframe\">\n",
       "  <thead>\n",
       "    <tr style=\"text-align: right;\">\n",
       "      <th></th>\n",
       "      <th>trial_number</th>\n",
       "      <th>punishment</th>\n",
       "      <th>text</th>\n",
       "      <th>dirty_len</th>\n",
       "      <th>clean_len</th>\n",
       "      <th>words</th>\n",
       "      <th>word_count</th>\n",
       "      <th>word_count_cleaned</th>\n",
       "      <th>words_lemmatized</th>\n",
       "      <th>word_count_cleaned_no_digits</th>\n",
       "    </tr>\n",
       "    <tr>\n",
       "      <th>year</th>\n",
       "      <th></th>\n",
       "      <th></th>\n",
       "      <th></th>\n",
       "      <th></th>\n",
       "      <th></th>\n",
       "      <th></th>\n",
       "      <th></th>\n",
       "      <th></th>\n",
       "      <th></th>\n",
       "      <th></th>\n",
       "    </tr>\n",
       "  </thead>\n",
       "  <tbody>\n",
       "    <tr>\n",
       "      <th>1720</th>\n",
       "      <td>1</td>\n",
       "      <td>Transportation</td>\n",
       "      <td>of st leonard eastcheap was indicted for felon...</td>\n",
       "      <td>705</td>\n",
       "      <td>684</td>\n",
       "      <td>[st, leonard, eastcheap, indicted, feloniously...</td>\n",
       "      <td>129</td>\n",
       "      <td>66</td>\n",
       "      <td>[st, leonard, eastcheap, indict, feloniously, ...</td>\n",
       "      <td>60</td>\n",
       "    </tr>\n",
       "    <tr>\n",
       "      <th>1720</th>\n",
       "      <td>2</td>\n",
       "      <td>Transportation</td>\n",
       "      <td>alice jones of st michaels cornhill was indict...</td>\n",
       "      <td>1087</td>\n",
       "      <td>1053</td>\n",
       "      <td>[alice, jones, st, michaels, cornhill, indicte...</td>\n",
       "      <td>200</td>\n",
       "      <td>87</td>\n",
       "      <td>[alice, jones, st, michaels, cornhill, indict,...</td>\n",
       "      <td>82</td>\n",
       "    </tr>\n",
       "    <tr>\n",
       "      <th>1720</th>\n",
       "      <td>3</td>\n",
       "      <td>Transportation</td>\n",
       "      <td>james wilson of st katharine coleman was indic...</td>\n",
       "      <td>904</td>\n",
       "      <td>883</td>\n",
       "      <td>[james, wilson, st, katharine, coleman, indict...</td>\n",
       "      <td>177</td>\n",
       "      <td>79</td>\n",
       "      <td>[james, wilson, st, katharine, coleman, indict...</td>\n",
       "      <td>71</td>\n",
       "    </tr>\n",
       "    <tr>\n",
       "      <th>1720</th>\n",
       "      <td>4</td>\n",
       "      <td>Transportation</td>\n",
       "      <td>james mercy alias masse of st andrew undershaf...</td>\n",
       "      <td>804</td>\n",
       "      <td>778</td>\n",
       "      <td>[james, mercy, alias, masse, st, andrew, under...</td>\n",
       "      <td>143</td>\n",
       "      <td>67</td>\n",
       "      <td>[james, mercy, alias, masse, st, andrew, under...</td>\n",
       "      <td>64</td>\n",
       "    </tr>\n",
       "    <tr>\n",
       "      <th>1720</th>\n",
       "      <td>5</td>\n",
       "      <td>Transportation</td>\n",
       "      <td>benjamin cook alias richard smith of st mary a...</td>\n",
       "      <td>483</td>\n",
       "      <td>466</td>\n",
       "      <td>[benjamin, cook, alias, richard, smith, st, ma...</td>\n",
       "      <td>88</td>\n",
       "      <td>46</td>\n",
       "      <td>[benjamin, cook, alias, richard, smith, st, ma...</td>\n",
       "      <td>43</td>\n",
       "    </tr>\n",
       "  </tbody>\n",
       "</table>\n",
       "</div>"
      ],
      "text/plain": [
       "      trial_number      punishment  \\\n",
       "year                                 \n",
       "1720             1  Transportation   \n",
       "1720             2  Transportation   \n",
       "1720             3  Transportation   \n",
       "1720             4  Transportation   \n",
       "1720             5  Transportation   \n",
       "\n",
       "                                                   text  dirty_len  clean_len  \\\n",
       "year                                                                            \n",
       "1720  of st leonard eastcheap was indicted for felon...        705        684   \n",
       "1720  alice jones of st michaels cornhill was indict...       1087       1053   \n",
       "1720  james wilson of st katharine coleman was indic...        904        883   \n",
       "1720  james mercy alias masse of st andrew undershaf...        804        778   \n",
       "1720  benjamin cook alias richard smith of st mary a...        483        466   \n",
       "\n",
       "                                                  words  word_count  \\\n",
       "year                                                                  \n",
       "1720  [st, leonard, eastcheap, indicted, feloniously...         129   \n",
       "1720  [alice, jones, st, michaels, cornhill, indicte...         200   \n",
       "1720  [james, wilson, st, katharine, coleman, indict...         177   \n",
       "1720  [james, mercy, alias, masse, st, andrew, under...         143   \n",
       "1720  [benjamin, cook, alias, richard, smith, st, ma...          88   \n",
       "\n",
       "      word_count_cleaned                                   words_lemmatized  \\\n",
       "year                                                                          \n",
       "1720                  66  [st, leonard, eastcheap, indict, feloniously, ...   \n",
       "1720                  87  [alice, jones, st, michaels, cornhill, indict,...   \n",
       "1720                  79  [james, wilson, st, katharine, coleman, indict...   \n",
       "1720                  67  [james, mercy, alias, masse, st, andrew, under...   \n",
       "1720                  46  [benjamin, cook, alias, richard, smith, st, ma...   \n",
       "\n",
       "      word_count_cleaned_no_digits  \n",
       "year                                \n",
       "1720                            60  \n",
       "1720                            82  \n",
       "1720                            71  \n",
       "1720                            64  \n",
       "1720                            43  "
      ]
     },
     "execution_count": 23,
     "metadata": {},
     "output_type": "execute_result"
    }
   ],
   "source": [
    "# let's show first 5 rows of our dataframe\n",
    "df.head()"
   ]
  },
  {
   "cell_type": "code",
   "execution_count": 24,
   "metadata": {},
   "outputs": [
    {
     "name": "stdout",
     "output_type": "stream",
     "text": [
      "Word count in bow vectorizer 18093\n"
     ]
    },
    {
     "data": {
      "text/plain": [
       "[('st', 15191),\n",
       " ('leonard', 9450),\n",
       " ('eastcheap', 5131),\n",
       " ('indict', 8306),\n",
       " ('feloniously', 5881),\n",
       " ('steal', 15305),\n",
       " ('pound', 12590),\n",
       " ('weight', 17460),\n",
       " ('tobacco', 16298),\n",
       " ('value', 16988),\n",
       " ('good', 6844),\n",
       " ('job', 8747),\n",
       " ('wick', 17671),\n",
       " ('dwelling', 5084),\n",
       " ('house', 7957),\n",
       " ('say', 14094),\n",
       " ('april', 626),\n",
       " ('appear', 583),\n",
       " ('prisoner', 12747),\n",
       " ('prosecutor', 12842)]"
      ]
     },
     "execution_count": 24,
     "metadata": {},
     "output_type": "execute_result"
    }
   ],
   "source": [
    "# we can use scikit learn count vectorizer to get a bag of words representation\n",
    "from sklearn.feature_extraction.text import CountVectorizer\n",
    "\n",
    "# now we will use CountVectorizer to get a bag of words representation\n",
    "\n",
    "# we will use the words_lemmatized column\n",
    "# we will use the default tokenizer\n",
    "# we will use the default vocabulary\n",
    "# we will use the default ngram_range\n",
    "\n",
    "# let's create an instance of CountVectorizer\n",
    "count_vectorizer = CountVectorizer() # there area many custom parameters we can set, but we will use defaults for now\n",
    "# if you check the documentation you will see that many of the tasks we did previously can be done with CountVectorizer such as tokenization, stopword removal, etc.\n",
    "# docs: https://scikit-learn.org/stable/modules/generated/sklearn.feature_extraction.text.CountVectorizer.html\n",
    "\n",
    "# let's fit it to our words_lemmatized column\n",
    "# we will need to convert it back to a string with space separated words\n",
    "# we can use apply and join to do this\n",
    "count_vectorizer.fit(df.words_lemmatized.apply(\" \".join)) # fit is often used in scikit learn to learn the vocabulary, fit is also used in training models\n",
    "# above might seem a bit wasteful, but it is a common pattern in scikit learn\n",
    "\n",
    "# let's see what we have in our vocabulary\n",
    "# how many unique words do we have?\n",
    "print(\"Word count in bow vectorizer\", len(count_vectorizer.vocabulary_)) # this will return a dictionary with words as keys and their index as values\n",
    "# first 20 words\n",
    "list(count_vectorizer.vocabulary_.items())[:20]# this will return a dictionary with words as keys and their index as values"
   ]
  },
  {
   "cell_type": "code",
   "execution_count": 25,
   "metadata": {},
   "outputs": [
    {
     "data": {
      "text/plain": [
       "dict"
      ]
     },
     "execution_count": 25,
     "metadata": {},
     "output_type": "execute_result"
    }
   ],
   "source": [
    "type(count_vectorizer.vocabulary_) # this is a dictionary"
   ]
  },
  {
   "cell_type": "code",
   "execution_count": 26,
   "metadata": {},
   "outputs": [
    {
     "data": {
      "text/plain": [
       "18093"
      ]
     },
     "execution_count": 26,
     "metadata": {},
     "output_type": "execute_result"
    }
   ],
   "source": [
    "# how many unique words do we have?\n",
    "len(count_vectorizer.vocabulary_)"
   ]
  },
  {
   "cell_type": "code",
   "execution_count": 27,
   "metadata": {},
   "outputs": [
    {
     "name": "stdout",
     "output_type": "stream",
     "text": [
      "['st', 'leonard', 'eastcheap', 'indict', 'feloniously', 'steal', 'pound', 'weight', 'tobacco', 'value', 'l', 's', 'good', 'job', 'wick', 'dwelling', 'house', 'say', 'job', 'wick', 'april', 'appear', 'prisoner', 'prosecutor', 'servant', 'fellow', 'servant', 'depose', 'perceive', 'pocket', 'stick', 'search', 'find', 'paper', 'tobacco', 'worth', 'd', 'own', 'master', 'take', 'cellar', 'constable', 'depose', 'confest', 'take', 'tobacco', 'time', 'say', 'paper', 'tobacco', 'produce', 'court', 'jury', 'consider', 'matter', 'find', 'guilty', 'value', 'd', 'transportation']\n",
      "60\n"
     ]
    }
   ],
   "source": [
    "# can we get a bag of words representation for a single document?\n",
    "# let's get the first document\n",
    "# get words from first row\n",
    "first_doc = df.words_lemmatized.iloc[0] # iloc is used to get row by numerical index\n",
    "# let's see what it looks like\n",
    "print(first_doc)\n",
    "print(len(first_doc))\n",
    "# assert False quick way to stop execution of code"
   ]
  },
  {
   "cell_type": "code",
   "execution_count": 31,
   "metadata": {},
   "outputs": [
    {
     "name": "stdout",
     "output_type": "stream",
     "text": [
      "Unique words in first document 47\n"
     ]
    }
   ],
   "source": [
    "# let's see how many unique words are in first document\n",
    "print(\"Unique words in first document\", len(set(first_doc))) # this will give us a set of unique words in the document"
   ]
  },
  {
   "cell_type": "code",
   "execution_count": 28,
   "metadata": {},
   "outputs": [
    {
     "data": {
      "text/plain": [
       "'st leonard eastcheap indict feloniously steal pound weight tobacco value l s good job wick dwelling house say job wick april appear prisoner prosecutor servant fellow servant depose perceive pocket stick search find paper tobacco worth d own master take cellar constable depose confest take tobacco time say paper tobacco produce court jury consider matter find guilty value d transportation'"
      ]
     },
     "execution_count": 28,
     "metadata": {},
     "output_type": "execute_result"
    }
   ],
   "source": [
    "# our first document\n",
    "\" \".join(first_doc)"
   ]
  },
  {
   "cell_type": "code",
   "execution_count": 29,
   "metadata": {},
   "outputs": [
    {
     "data": {
      "text/plain": [
       "<1x18093 sparse matrix of type '<class 'numpy.int64'>'\n",
       "\twith 44 stored elements in Compressed Sparse Row format>"
      ]
     },
     "execution_count": 29,
     "metadata": {},
     "output_type": "execute_result"
    }
   ],
   "source": [
    "# let's get bag of words representation of first document\n",
    "first_doc_bow = count_vectorizer.transform([\" \".join(first_doc)]) # we need to pass a list of documents\n",
    "# this will return a sparse matrix\n",
    "first_doc_bow"
   ]
  },
  {
   "cell_type": "code",
   "execution_count": 30,
   "metadata": {},
   "outputs": [
    {
     "name": "stdout",
     "output_type": "stream",
     "text": [
      "[  583   626  2732  3513  3577  3595  3837  4445  5084  5131  5870  5881\n",
      "  5983  6844  7090  7957  8306  8747  8860  9450 10216 10239 11682 11770\n",
      " 12050 12408 12590 12747 12786 12842 14094 14233 14364 15191 15305 15356\n",
      " 15847 16262 16298 16468 16988 17460 17671 17956]\n"
     ]
    }
   ],
   "source": [
    "# print element indexes of sparse matrix\n",
    "print(first_doc_bow.indices)\n",
    "# sparse matrix is a matrix that has many zero elements so those are generally not stored and are skipped"
   ]
  },
  {
   "cell_type": "code",
   "execution_count": 32,
   "metadata": {},
   "outputs": [
    {
     "data": {
      "text/plain": [
       "['abc', 'abcd', 'abcde']"
      ]
     },
     "execution_count": 32,
     "metadata": {},
     "output_type": "execute_result"
    }
   ],
   "source": [
    "# let me show how you could remove short words from a list\n",
    "def remove_short_words(words, min_len = 2):\n",
    "    return [word for word in words if len(word) >= min_len]\n",
    "\n",
    "# let's test it\n",
    "remove_short_words([\"a\", \"ab\", \"abc\", \"abcd\", \"abcde\"], min_len=3)"
   ]
  },
  {
   "cell_type": "code",
   "execution_count": 33,
   "metadata": {},
   "outputs": [
    {
     "data": {
      "text/plain": [
       "array(['appear', 'april', 'cellar', 'confest', 'consider', 'constable',\n",
       "       'court', 'depose', 'dwelling', 'eastcheap', 'fellow',\n",
       "       'feloniously', 'find', 'good', 'guilty', 'house', 'indict', 'job',\n",
       "       'jury', 'leonard', 'master', 'matter', 'own', 'paper', 'perceive',\n",
       "       'pocket', 'pound', 'prisoner', 'produce', 'prosecutor', 'say',\n",
       "       'search', 'servant', 'st', 'steal', 'stick', 'take', 'time',\n",
       "       'tobacco', 'transportation', 'value', 'weight', 'wick', 'worth'],\n",
       "      dtype=object)"
      ]
     },
     "execution_count": 33,
     "metadata": {},
     "output_type": "execute_result"
    }
   ],
   "source": [
    "# what are those words from indices?\n",
    "# we can use get_feature_names method\n",
    "first_bag = count_vectorizer.get_feature_names_out()[first_doc_bow.indices]\n",
    "first_bag\n",
    "\n",
    "# note get_features_names was depreceated in favor of get_feature_names_out\n",
    "\n",
    "# now results show that we have the same words as in our first document except the order is different\n",
    "# here it looks like we have a bag of words representation for a single document in our corpus in an ordered list of words by lexical order"
   ]
  },
  {
   "cell_type": "code",
   "execution_count": 27,
   "metadata": {},
   "outputs": [],
   "source": [
    "# we could create a huge sparse matrix for each document in our corpus\n",
    "# however that would not be particularly useful\n",
    "# we already saw that most of the words in our vocabulary are quite rare\n",
    "\n",
    "# armed with these embbeddings we could compare documents by things like jaccard similarity\n",
    "# jackquard similarity is a measure of how similar two sets are\n",
    "# we could also use cosine similarity but that is a bit more complicated for now\n",
    "\n",
    "# luckily we have many more options for creating embeddings beyond bag of words"
   ]
  },
  {
   "cell_type": "code",
   "execution_count": 34,
   "metadata": {},
   "outputs": [
    {
     "data": {
      "text/plain": [
       "array(['agreed', 'alice', 'april', 'askd', 'bermundas',\n",
       "       'bishopsgatestreet', 'call', 'character', 'coach', 'come',\n",
       "       'consider', 'cornhill', 'country', 'deny', 'depose', 'deposed',\n",
       "       'edward', 'evidence', 'fact', 'fall', 'fetch', 'fetcht', 'find',\n",
       "       'france', 'give', 'go', 'good', 'guilty', 'hardly', 'hat',\n",
       "       'hillior', 'house', 'indict', 'indictment', 'jones', 'jury',\n",
       "       'justice', 'kingstreet', 'leg', 'livd', 'master', 'matter',\n",
       "       'mention', 'michaels', 'perceive', 'person', 'petticoat', 'petty',\n",
       "       'price', 'prisner', 'prisoner', 'privately', 'prosecutors', 'rent',\n",
       "       'reputation', 'say', 'see', 'servant', 'shew', 'shop', 'st',\n",
       "       'steal', 'stop', 'tell', 'transportation', 'value', 'walk',\n",
       "       'westminster', 'year'], dtype=object)"
      ]
     },
     "execution_count": 34,
     "metadata": {},
     "output_type": "execute_result"
    }
   ],
   "source": [
    "# let me get second document\n",
    "second_doc = df.words_lemmatized.iloc[1]\n",
    "second_bow = count_vectorizer.transform([\" \".join(second_doc)])\n",
    "second_bag = count_vectorizer.get_feature_names_out()[second_bow.indices]\n",
    "second_bag"
   ]
  },
  {
   "cell_type": "code",
   "execution_count": 35,
   "metadata": {},
   "outputs": [
    {
     "data": {
      "text/plain": [
       "0.20212765957446807"
      ]
     },
     "execution_count": 35,
     "metadata": {},
     "output_type": "execute_result"
    }
   ],
   "source": [
    "# we could compare these two documents by jaccard similarity\n",
    "# jaccard similarity is a measure of how similar two sets are\n",
    "# formula is |A intersect B| / |A union B|\n",
    "# we can use set operations to do this\n",
    "\n",
    "# wikipedia Jackquard similarity : https://en.wikipedia.org/wiki/Jaccard_index\n",
    "\n",
    "# jacquard = len(set(first_bag).intersection(set(second_bag))) / len(set(first_bag).union(set(second_bag)))\n",
    "# jacquard\n",
    "\n",
    "# we could make our own function to do this\n",
    "def jaccard_similarity(first_bag, second_bag):\n",
    "    \"\"\"Calculates jaccard similarity between two bags of words\"\"\"\n",
    "    return len(set(first_bag).intersection(set(second_bag))) / len(set(first_bag).union(set(second_bag)))\n",
    "\n",
    "# let's test it\n",
    "jaccard_similarity(first_bag, second_bag)"
   ]
  },
  {
   "cell_type": "code",
   "execution_count": null,
   "metadata": {},
   "outputs": [],
   "source": [
    "# so with jaccard the minimum is 0 and maximum is 1\n",
    "# 1 would signify that two documents are identical\n",
    "# while 0 would signify that two documents have no words in common whatsoever\n",
    "\n",
    "# downside to jaccard is that it does not take into account the frequency of words\n",
    "# another downside is that for large corpora it can be quite slow because we have to go through all unique words in both documents"
   ]
  },
  {
   "cell_type": "markdown",
   "metadata": {},
   "source": [
    "## TF-IDF embeddings\n",
    "\n",
    "TF-IDF is a widely used technique for text analysis. It stands for term frequency-inverse document frequency. It is a way of measuring how important a word is to a document in a collection of documents. It is often used to find keywords in a document.\n",
    "\n",
    "TF-IDF consists of two parts: term frequency and inverse document frequency. Term frequency is the number of times a word appears in a document, while inverse document frequency is the number of documents in a collection that contain a word. The TF-IDF score is the product of these two numbers.\n",
    "\n",
    "The idea is that first part - TF - is the number of times a word appears in a document, and the bottom part - IDF - is the number of documents in a collection that contain a word. The TF-IDF score is the product of these two numbers.\n",
    "\n",
    "If IDF is high - this means the word is not particularly common in the collection of documents. If TF is high - this means the word is common in the document. So if a word is common in a document, but not common in the collection of documents, it will have a high TF-IDF score - ergo this word is common to the document, but not common to the collection of documents."
   ]
  },
  {
   "cell_type": "code",
   "execution_count": 36,
   "metadata": {},
   "outputs": [],
   "source": [
    "# we can use tfidf to create embeddings\n",
    "\n",
    "# scikit learn has a tfidf vectorizer\n",
    "from sklearn.feature_extraction.text import TfidfVectorizer\n",
    "# let's create an instance of tfidf vectorizer\n",
    "# tfidf_vectorizer = sklearn.feature_extraction.text.TfidfVectorizer() # there area many custom parameters we can set, but we will use defaults for now\n",
    "tfidf_vectorizer = TfidfVectorizer() # there area many custom parameters we can set, but we will use defaults for now"
   ]
  },
  {
   "cell_type": "code",
   "execution_count": 37,
   "metadata": {},
   "outputs": [
    {
     "name": "stdout",
     "output_type": "stream",
     "text": [
      "Unique words: 18093\n"
     ]
    },
    {
     "data": {
      "text/plain": [
       "[('st', 15191),\n",
       " ('leonard', 9450),\n",
       " ('eastcheap', 5131),\n",
       " ('indict', 8306),\n",
       " ('feloniously', 5881),\n",
       " ('steal', 15305),\n",
       " ('pound', 12590),\n",
       " ('weight', 17460),\n",
       " ('tobacco', 16298),\n",
       " ('value', 16988),\n",
       " ('good', 6844),\n",
       " ('job', 8747),\n",
       " ('wick', 17671),\n",
       " ('dwelling', 5084),\n",
       " ('house', 7957),\n",
       " ('say', 14094),\n",
       " ('april', 626),\n",
       " ('appear', 583),\n",
       " ('prisoner', 12747),\n",
       " ('prosecutor', 12842)]"
      ]
     },
     "execution_count": 37,
     "metadata": {},
     "output_type": "execute_result"
    }
   ],
   "source": [
    "# let's create tfidf embeddings for our corpus\n",
    "# we will use the words_lemmatized column\n",
    "\n",
    "# let's fit it to our words_lemmatized column\n",
    "# we will need to convert it back to a string with space separated words\n",
    "\n",
    "# we can use apply and join to do this\n",
    "tfidf_vectorizer.fit(df.words_lemmatized.apply(\" \".join)) # fit is often used in scikit learn to learn the vocabulary, fit is also used in training models\n",
    "\n",
    "# let's see what we have in our vocabulary\n",
    "# how many unique words do we have?\n",
    "print(\"Unique words:\", len(tfidf_vectorizer.vocabulary_))\n",
    "# first 20 words\n",
    "list(tfidf_vectorizer.vocabulary_.items())[:20]# this will return a dictionary with words as keys and their index as values"
   ]
  },
  {
   "cell_type": "code",
   "execution_count": 38,
   "metadata": {},
   "outputs": [
    {
     "name": "stdout",
     "output_type": "stream",
     "text": [
      "[  583   626  2732  3513  3577  3595  3837  4445  5084  5131  5870  5881\n",
      "  5983  6844  7090  7957  8306  8747  8860  9450 10216 10239 11682 11770\n",
      " 12050 12408 12590 12747 12786 12842 14094 14233 14364 15191 15305 15356\n",
      " 15847 16262 16298 16468 16988 17460 17671 17956]\n"
     ]
    }
   ],
   "source": [
    "# Those attentive  have noticed that both bow and tfidf vectorizers have the same vocabulary, which makes sense as we used same data to fit them\n",
    "# also we used same hyper parameters for fitting so they should be the same \n",
    "# in this case we used default hyper parameters - which means we only used unigrams\n",
    "\n",
    "# now let's create tifidf embeddings for our corpus\n",
    "\n",
    "# we will use the transform method\n",
    "\n",
    "# let's get the first document\n",
    "# get words from first row\n",
    "first_doc = df.words_lemmatized.iloc[0] # iloc is used to get row by numerical index\n",
    "# let's see what it looks like\n",
    "# show tfidf embeddings for first document\n",
    "sparse_tfidf_first_doc = tfidf_vectorizer.transform([\" \".join(first_doc)])\n",
    "\n",
    "# print element indexes of sparse matrix\n",
    "print(sparse_tfidf_first_doc.indices)\n"
   ]
  },
  {
   "cell_type": "code",
   "execution_count": 39,
   "metadata": {},
   "outputs": [
    {
     "name": "stdout",
     "output_type": "stream",
     "text": [
      "Common indices: {16262, 17671, 5131, 3595, 14094, 12050, 7957, 14233, 14364, 8860, 11682, 17956, 12842, 8747, 2732, 16298, 12590, 7090, 17460, 3513, 6844, 583, 15305, 12747, 3577, 16468, 15191, 5084, 4445, 16988, 5983, 15847, 10216, 9450, 5870, 626, 8306, 12786, 12408, 5881, 11770, 15356, 3837, 10239}\n",
      "Common indices: 44 44 44\n"
     ]
    }
   ],
   "source": [
    "# compare indices of tfidf and bow\n",
    "common_indices = set(first_doc_bow.indices).intersection(set(sparse_tfidf_first_doc.indices))\n",
    "print(\"Common indices:\", common_indices)\n",
    "# length of common indices and length of tfidf indices and bow indices\n",
    "print(\"Common indices:\", len(common_indices), len(sparse_tfidf_first_doc.indices), len(first_doc_bow.indices))"
   ]
  },
  {
   "cell_type": "code",
   "execution_count": 40,
   "metadata": {},
   "outputs": [
    {
     "name": "stdout",
     "output_type": "stream",
     "text": [
      "[0.08560634 0.10001348 0.13877142 0.19723912 0.11371992 0.07788469\n",
      " 0.07063989 0.21576343 0.1396641  0.18583865 0.12566637 0.06070487\n",
      " 0.09419189 0.04642964 0.03137085 0.05520719 0.03752959 0.26499458\n",
      " 0.05287715 0.16007528 0.08108325 0.10184287 0.12918558 0.18846137\n",
      " 0.15061469 0.07474145 0.09590149 0.03825868 0.06048691 0.06912378\n",
      " 0.08669131 0.07622164 0.1623928  0.0725742  0.03811135 0.12253903\n",
      " 0.0880047  0.05984298 0.54500717 0.09667718 0.09338854 0.1152001\n",
      " 0.37167729 0.0976779 ]\n"
     ]
    }
   ],
   "source": [
    "# well the indices are all common,but bag of words either has count for word or not\n",
    "# tfidf has a value for each word which indicates how important that word is for that document\n",
    "# let's print those values for first doc\n",
    "print(sparse_tfidf_first_doc.data)"
   ]
  },
  {
   "cell_type": "code",
   "execution_count": 41,
   "metadata": {},
   "outputs": [
    {
     "data": {
      "text/plain": [
       "0.5450071694542095"
      ]
     },
     "execution_count": 41,
     "metadata": {},
     "output_type": "execute_result"
    }
   ],
   "source": [
    "max(sparse_tfidf_first_doc.data) # this is the maximum tfidf value for this document"
   ]
  },
  {
   "cell_type": "code",
   "execution_count": 42,
   "metadata": {},
   "outputs": [
    {
     "name": "stdout",
     "output_type": "stream",
     "text": [
      "[24 19 32  9 23  3  7 17 42 38]\n"
     ]
    }
   ],
   "source": [
    "# what are most important words for first document?\n",
    "# let's get indices of top 10 most important words\n",
    "top_10_indices = np.argsort(sparse_tfidf_first_doc.data)[-10:]\n",
    "print(top_10_indices)\n",
    "# now these are indices of top 10 most important words"
   ]
  },
  {
   "cell_type": "code",
   "execution_count": 43,
   "metadata": {},
   "outputs": [
    {
     "name": "stdout",
     "output_type": "stream",
     "text": [
      "[0.15061469 0.16007528 0.1623928  0.18583865 0.18846137 0.19723912\n",
      " 0.21576343 0.26499458 0.37167729 0.54500717]\n"
     ]
    }
   ],
   "source": [
    "# top 10 most important words values\n",
    "print(sparse_tfidf_first_doc.data[top_10_indices])"
   ]
  },
  {
   "cell_type": "code",
   "execution_count": 44,
   "metadata": {},
   "outputs": [
    {
     "name": "stdout",
     "output_type": "stream",
     "text": [
      "[12050  9450 14364  5131 11770  3513  4445  8747 17671 16298]\n"
     ]
    }
   ],
   "source": [
    "# let's print word indexes for these top 10 words\n",
    "top_10_word_indexes = sparse_tfidf_first_doc.indices[top_10_indices]\n",
    "print(top_10_word_indexes)"
   ]
  },
  {
   "cell_type": "code",
   "execution_count": 45,
   "metadata": {},
   "outputs": [
    {
     "data": {
      "text/plain": [
       "array(['perceive', 'leonard', 'servant', 'eastcheap', 'paper', 'confest',\n",
       "       'depose', 'job', 'wick', 'tobacco'], dtype=object)"
      ]
     },
     "execution_count": 45,
     "metadata": {},
     "output_type": "execute_result"
    }
   ],
   "source": [
    "tfidf_vectorizer.get_feature_names_out()[top_10_word_indexes]"
   ]
  },
  {
   "cell_type": "code",
   "execution_count": 46,
   "metadata": {},
   "outputs": [
    {
     "name": "stdout",
     "output_type": "stream",
     "text": [
      "perceive 0.150614686372503\n",
      "leonard 0.16007528280052968\n",
      "servant 0.16239279925933367\n",
      "eastcheap 0.18583864714836273\n",
      "paper 0.18846136671056873\n",
      "confest 0.19723911748724512\n",
      "depose 0.21576343212843105\n",
      "job 0.264994575194677\n",
      "wick 0.37167729429672547\n",
      "tobacco 0.5450071694542095\n"
     ]
    }
   ],
   "source": [
    "# that is not so nice looking so we can zip them together\n",
    "# list(zip(tfidf_vectorizer.get_feature_names_out()[top_10_indices], sparse_tfidf_first_doc.data[top_10_indices]))\n",
    "# print them in a nicer way\n",
    "top_10_word_indexes = sparse_tfidf_first_doc.indices[top_10_indices]\n",
    "for word, tfidf in zip(tfidf_vectorizer.get_feature_names_out()[top_10_word_indexes], sparse_tfidf_first_doc.data[top_10_indices]):\n",
    "    print(word, tfidf)"
   ]
  },
  {
   "cell_type": "code",
   "execution_count": 41,
   "metadata": {},
   "outputs": [],
   "source": [
    "# we can see that tfidf embeddings are much more informative than bag of words embeddings\n",
    "# we can find the most important words for each document\n",
    "# tfidf is great because it will automatically filter out stopwords and rare words\n",
    "# using scikit learn indexing can get pretty tricky though"
   ]
  },
  {
   "cell_type": "code",
   "execution_count": 47,
   "metadata": {},
   "outputs": [
    {
     "data": {
      "text/plain": [
       "[('confest', 0.19723911748724512),\n",
       " ('depose', 0.21576343212843105),\n",
       " ('job', 0.264994575194677),\n",
       " ('wick', 0.37167729429672547),\n",
       " ('tobacco', 0.5450071694542095)]"
      ]
     },
     "execution_count": 47,
     "metadata": {},
     "output_type": "execute_result"
    }
   ],
   "source": [
    "# let's get top 5 words for each document\n",
    "# we will need to iterate over each document\n",
    "# we will need to get tfidf embeddings for each document\n",
    "\n",
    "# let's create a function that will return top n words for a document\n",
    "def get_top_n_words(document, n=5):\n",
    "    \"\"\"Returns top n words for a document\"\"\"\n",
    "    # get tfidf embeddings for document\n",
    "    # TODO pass tfidf_vectorizer as parameter to avoid global variable\n",
    "    sparse_tfidf_doc = tfidf_vectorizer.transform([\" \".join(document)])\n",
    "    # get indices of top n words\n",
    "    top_n_indices = np.argsort(sparse_tfidf_doc.data)[-n:]\n",
    "    # get word indexes for top n words\n",
    "    top_n_word_indexes = sparse_tfidf_doc.indices[top_n_indices]\n",
    "    # get top n words\n",
    "    top_n_words = tfidf_vectorizer.get_feature_names_out()[top_n_word_indexes]\n",
    "    # get top n tfidf values\n",
    "    top_n_tfidf = sparse_tfidf_doc.data[top_n_indices]\n",
    "    # return top n words and top n tfidf values\n",
    "    return list(zip(top_n_words, top_n_tfidf))\n",
    "\n",
    "# let's test it on first document\n",
    "get_top_n_words(first_doc)"
   ]
  },
  {
   "cell_type": "code",
   "execution_count": 48,
   "metadata": {},
   "outputs": [
    {
     "data": {
      "text/plain": [
       "[('cornhill', 0.15884808501366063),\n",
       " ('prisner', 0.17961123347931332),\n",
       " ('petty', 0.17961123347931332),\n",
       " ('michaels', 0.17961123347931332),\n",
       " ('fetcht', 0.18697707761950694),\n",
       " ('shop', 0.18964859164396325),\n",
       " ('bermundas', 0.19735865185233328),\n",
       " ('hillior', 0.19735865185233328),\n",
       " ('agreed', 0.19735865185233328),\n",
       " ('hat', 0.39621153198799697)]"
      ]
     },
     "execution_count": 48,
     "metadata": {},
     "output_type": "execute_result"
    }
   ],
   "source": [
    "# let's do it for second document and get top 10 words\n",
    "second_doc = df.words_lemmatized.iloc[1]\n",
    "get_top_n_words(second_doc, n=10)\n"
   ]
  },
  {
   "cell_type": "code",
   "execution_count": 49,
   "metadata": {},
   "outputs": [
    {
     "name": "stdout",
     "output_type": "stream",
     "text": [
      "Start time: 2024-07-24 12:27:40.450278\n"
     ]
    },
    {
     "name": "stderr",
     "output_type": "stream",
     "text": [
      "C:\\Users\\val-wd\\AppData\\Local\\Temp\\ipykernel_10376\\445162352.py:12: FutureWarning: the convert_dtype parameter is deprecated and will be removed in a future version.  Do ``ser.astype(object).apply()`` instead if you want ``convert_dtype=False``.\n",
      "  df[\"top_10_words_tfidf\"] = df.words_lemmatized.apply(get_top_n_words,(10,))\n"
     ]
    },
    {
     "name": "stdout",
     "output_type": "stream",
     "text": [
      "Time elapsed: 0:00:38.228945\n"
     ]
    },
    {
     "data": {
      "text/plain": [
       "(1637, 11)"
      ]
     },
     "execution_count": 49,
     "metadata": {},
     "output_type": "execute_result"
    }
   ],
   "source": [
    "# now we can apply it to our dataframe\n",
    "# we will use apply method\n",
    "# we will use lambda function\n",
    "\n",
    "# start of timer\n",
    "start = datetime.now()\n",
    "print(f\"Start time: {start}\")\n",
    "# df[\"top_5_words_tfidf\"] = df.words_lemmatized.apply(lambda x: get_top_n_words(x, n=10))\n",
    "# i am using lambda to pass a specific value for n\n",
    "# here I could have gotten away with just passing get_top_n_words without lambda because n is the default value\n",
    "# like this\n",
    "# so next example shows how to pass a specific value for n\n",
    "df[\"top_10_words_tfidf\"] = df.words_lemmatized.apply(get_top_n_words,(10,)) \n",
    "print(f\"Time elapsed: {datetime.now() - start}\")\n",
    "# print shape\n",
    "df.shape"
   ]
  },
  {
   "cell_type": "code",
   "execution_count": 44,
   "metadata": {},
   "outputs": [
    {
     "data": {
      "text/html": [
       "<div>\n",
       "<style scoped>\n",
       "    .dataframe tbody tr th:only-of-type {\n",
       "        vertical-align: middle;\n",
       "    }\n",
       "\n",
       "    .dataframe tbody tr th {\n",
       "        vertical-align: top;\n",
       "    }\n",
       "\n",
       "    .dataframe thead th {\n",
       "        text-align: right;\n",
       "    }\n",
       "</style>\n",
       "<table border=\"1\" class=\"dataframe\">\n",
       "  <thead>\n",
       "    <tr style=\"text-align: right;\">\n",
       "      <th></th>\n",
       "      <th>top_5_words_tfidf</th>\n",
       "    </tr>\n",
       "    <tr>\n",
       "      <th>year</th>\n",
       "      <th></th>\n",
       "    </tr>\n",
       "  </thead>\n",
       "  <tbody>\n",
       "    <tr>\n",
       "      <th>1902</th>\n",
       "      <td>[(office, 0.18194225183146615), (book, 0.25306...</td>\n",
       "    </tr>\n",
       "    <tr>\n",
       "      <th>1841</th>\n",
       "      <td>[(coal, 0.19814038693423272), (charlotte, 0.21...</td>\n",
       "    </tr>\n",
       "    <tr>\n",
       "      <th>1902</th>\n",
       "      <td>[(herbert, 0.3214283443450827), (manslaughter,...</td>\n",
       "    </tr>\n",
       "    <tr>\n",
       "      <th>1865</th>\n",
       "      <td>[(lung, 0.18396441631576374), (food, 0.1896795...</td>\n",
       "    </tr>\n",
       "    <tr>\n",
       "      <th>1814</th>\n",
       "      <td>[(see, 0.17690868106143018), (step, 0.17693100...</td>\n",
       "    </tr>\n",
       "  </tbody>\n",
       "</table>\n",
       "</div>"
      ],
      "text/plain": [
       "                                      top_5_words_tfidf\n",
       "year                                                   \n",
       "1902  [(office, 0.18194225183146615), (book, 0.25306...\n",
       "1841  [(coal, 0.19814038693423272), (charlotte, 0.21...\n",
       "1902  [(herbert, 0.3214283443450827), (manslaughter,...\n",
       "1865  [(lung, 0.18396441631576374), (food, 0.1896795...\n",
       "1814  [(see, 0.17690868106143018), (step, 0.17693100..."
      ]
     },
     "execution_count": 44,
     "metadata": {},
     "output_type": "execute_result"
    }
   ],
   "source": [
    "# let's see what we have\n",
    "df.sample(5)[['top_10_words_tfidf']] # note the double brackets this gives you dataframe instead of series"
   ]
  },
  {
   "cell_type": "code",
   "execution_count": 52,
   "metadata": {},
   "outputs": [
    {
     "data": {
      "text/html": [
       "<div>\n",
       "<style scoped>\n",
       "    .dataframe tbody tr th:only-of-type {\n",
       "        vertical-align: middle;\n",
       "    }\n",
       "\n",
       "    .dataframe tbody tr th {\n",
       "        vertical-align: top;\n",
       "    }\n",
       "\n",
       "    .dataframe thead th {\n",
       "        text-align: right;\n",
       "    }\n",
       "</style>\n",
       "<table border=\"1\" class=\"dataframe\">\n",
       "  <thead>\n",
       "    <tr style=\"text-align: right;\">\n",
       "      <th></th>\n",
       "      <th>trial_number</th>\n",
       "      <th>punishment</th>\n",
       "      <th>text</th>\n",
       "      <th>dirty_len</th>\n",
       "      <th>clean_len</th>\n",
       "      <th>words</th>\n",
       "      <th>word_count</th>\n",
       "      <th>word_count_cleaned</th>\n",
       "      <th>words_lemmatized</th>\n",
       "      <th>word_count_cleaned_no_digits</th>\n",
       "      <th>top_10_words_tfidf</th>\n",
       "    </tr>\n",
       "    <tr>\n",
       "      <th>year</th>\n",
       "      <th></th>\n",
       "      <th></th>\n",
       "      <th></th>\n",
       "      <th></th>\n",
       "      <th></th>\n",
       "      <th></th>\n",
       "      <th></th>\n",
       "      <th></th>\n",
       "      <th></th>\n",
       "      <th></th>\n",
       "      <th></th>\n",
       "    </tr>\n",
       "  </thead>\n",
       "  <tbody>\n",
       "    <tr>\n",
       "      <th>1720</th>\n",
       "      <td>1</td>\n",
       "      <td>Transportation</td>\n",
       "      <td>of st leonard eastcheap was indicted for felon...</td>\n",
       "      <td>705</td>\n",
       "      <td>684</td>\n",
       "      <td>[st, leonard, eastcheap, indicted, feloniously...</td>\n",
       "      <td>129</td>\n",
       "      <td>66</td>\n",
       "      <td>[st, leonard, eastcheap, indict, feloniously, ...</td>\n",
       "      <td>60</td>\n",
       "      <td>[(confest, 0.19723911748724512), (depose, 0.21...</td>\n",
       "    </tr>\n",
       "    <tr>\n",
       "      <th>1720</th>\n",
       "      <td>2</td>\n",
       "      <td>Transportation</td>\n",
       "      <td>alice jones of st michaels cornhill was indict...</td>\n",
       "      <td>1087</td>\n",
       "      <td>1053</td>\n",
       "      <td>[alice, jones, st, michaels, cornhill, indicte...</td>\n",
       "      <td>200</td>\n",
       "      <td>87</td>\n",
       "      <td>[alice, jones, st, michaels, cornhill, indict,...</td>\n",
       "      <td>82</td>\n",
       "      <td>[(shop, 0.18964859164396325), (bermundas, 0.19...</td>\n",
       "    </tr>\n",
       "    <tr>\n",
       "      <th>1720</th>\n",
       "      <td>3</td>\n",
       "      <td>Transportation</td>\n",
       "      <td>james wilson of st katharine coleman was indic...</td>\n",
       "      <td>904</td>\n",
       "      <td>883</td>\n",
       "      <td>[james, wilson, st, katharine, coleman, indict...</td>\n",
       "      <td>177</td>\n",
       "      <td>79</td>\n",
       "      <td>[james, wilson, st, katharine, coleman, indict...</td>\n",
       "      <td>71</td>\n",
       "      <td>[(hung, 0.21832648950390215), (deposed, 0.2419...</td>\n",
       "    </tr>\n",
       "    <tr>\n",
       "      <th>1720</th>\n",
       "      <td>4</td>\n",
       "      <td>Transportation</td>\n",
       "      <td>james mercy alias masse of st andrew undershaf...</td>\n",
       "      <td>804</td>\n",
       "      <td>778</td>\n",
       "      <td>[james, mercy, alias, masse, st, andrew, under...</td>\n",
       "      <td>143</td>\n",
       "      <td>67</td>\n",
       "      <td>[james, mercy, alias, masse, st, andrew, under...</td>\n",
       "      <td>64</td>\n",
       "      <td>[(masse, 0.2126517359898944), (undershaft, 0.2...</td>\n",
       "    </tr>\n",
       "    <tr>\n",
       "      <th>1720</th>\n",
       "      <td>5</td>\n",
       "      <td>Transportation</td>\n",
       "      <td>benjamin cook alias richard smith of st mary a...</td>\n",
       "      <td>483</td>\n",
       "      <td>466</td>\n",
       "      <td>[benjamin, cook, alias, richard, smith, st, ma...</td>\n",
       "      <td>88</td>\n",
       "      <td>46</td>\n",
       "      <td>[benjamin, cook, alias, richard, smith, st, ma...</td>\n",
       "      <td>43</td>\n",
       "      <td>[(stopt, 0.23416420335477436), (abchurch, 0.26...</td>\n",
       "    </tr>\n",
       "  </tbody>\n",
       "</table>\n",
       "</div>"
      ],
      "text/plain": [
       "      trial_number      punishment  \\\n",
       "year                                 \n",
       "1720             1  Transportation   \n",
       "1720             2  Transportation   \n",
       "1720             3  Transportation   \n",
       "1720             4  Transportation   \n",
       "1720             5  Transportation   \n",
       "\n",
       "                                                   text  dirty_len  clean_len  \\\n",
       "year                                                                            \n",
       "1720  of st leonard eastcheap was indicted for felon...        705        684   \n",
       "1720  alice jones of st michaels cornhill was indict...       1087       1053   \n",
       "1720  james wilson of st katharine coleman was indic...        904        883   \n",
       "1720  james mercy alias masse of st andrew undershaf...        804        778   \n",
       "1720  benjamin cook alias richard smith of st mary a...        483        466   \n",
       "\n",
       "                                                  words  word_count  \\\n",
       "year                                                                  \n",
       "1720  [st, leonard, eastcheap, indicted, feloniously...         129   \n",
       "1720  [alice, jones, st, michaels, cornhill, indicte...         200   \n",
       "1720  [james, wilson, st, katharine, coleman, indict...         177   \n",
       "1720  [james, mercy, alias, masse, st, andrew, under...         143   \n",
       "1720  [benjamin, cook, alias, richard, smith, st, ma...          88   \n",
       "\n",
       "      word_count_cleaned                                   words_lemmatized  \\\n",
       "year                                                                          \n",
       "1720                  66  [st, leonard, eastcheap, indict, feloniously, ...   \n",
       "1720                  87  [alice, jones, st, michaels, cornhill, indict,...   \n",
       "1720                  79  [james, wilson, st, katharine, coleman, indict...   \n",
       "1720                  67  [james, mercy, alias, masse, st, andrew, under...   \n",
       "1720                  46  [benjamin, cook, alias, richard, smith, st, ma...   \n",
       "\n",
       "      word_count_cleaned_no_digits  \\\n",
       "year                                 \n",
       "1720                            60   \n",
       "1720                            82   \n",
       "1720                            71   \n",
       "1720                            64   \n",
       "1720                            43   \n",
       "\n",
       "                                     top_10_words_tfidf  \n",
       "year                                                     \n",
       "1720  [(confest, 0.19723911748724512), (depose, 0.21...  \n",
       "1720  [(shop, 0.18964859164396325), (bermundas, 0.19...  \n",
       "1720  [(hung, 0.21832648950390215), (deposed, 0.2419...  \n",
       "1720  [(masse, 0.2126517359898944), (undershaft, 0.2...  \n",
       "1720  [(stopt, 0.23416420335477436), (abchurch, 0.26...  "
      ]
     },
     "execution_count": 52,
     "metadata": {},
     "output_type": "execute_result"
    }
   ],
   "source": [
    "# let's do head again\n",
    "df.head()"
   ]
  },
  {
   "cell_type": "code",
   "execution_count": 50,
   "metadata": {},
   "outputs": [
    {
     "data": {
      "text/html": [
       "<div>\n",
       "<style scoped>\n",
       "    .dataframe tbody tr th:only-of-type {\n",
       "        vertical-align: middle;\n",
       "    }\n",
       "\n",
       "    .dataframe tbody tr th {\n",
       "        vertical-align: top;\n",
       "    }\n",
       "\n",
       "    .dataframe thead th {\n",
       "        text-align: right;\n",
       "    }\n",
       "</style>\n",
       "<table border=\"1\" class=\"dataframe\">\n",
       "  <thead>\n",
       "    <tr style=\"text-align: right;\">\n",
       "      <th></th>\n",
       "      <th>top_10_words_tfidf</th>\n",
       "    </tr>\n",
       "    <tr>\n",
       "      <th>year</th>\n",
       "      <th></th>\n",
       "    </tr>\n",
       "  </thead>\n",
       "  <tbody>\n",
       "    <tr>\n",
       "      <th>1902</th>\n",
       "      <td>[(office, 0.18194225183146615), (book, 0.25306...</td>\n",
       "    </tr>\n",
       "    <tr>\n",
       "      <th>1841</th>\n",
       "      <td>[(coal, 0.19814038693423272), (charlotte, 0.21...</td>\n",
       "    </tr>\n",
       "    <tr>\n",
       "      <th>1902</th>\n",
       "      <td>[(herbert, 0.3214283443450827), (manslaughter,...</td>\n",
       "    </tr>\n",
       "    <tr>\n",
       "      <th>1865</th>\n",
       "      <td>[(lung, 0.18396441631576374), (food, 0.1896795...</td>\n",
       "    </tr>\n",
       "    <tr>\n",
       "      <th>1814</th>\n",
       "      <td>[(see, 0.17690868106143018), (step, 0.17693100...</td>\n",
       "    </tr>\n",
       "  </tbody>\n",
       "</table>\n",
       "</div>"
      ],
      "text/plain": [
       "                                     top_10_words_tfidf\n",
       "year                                                   \n",
       "1902  [(office, 0.18194225183146615), (book, 0.25306...\n",
       "1841  [(coal, 0.19814038693423272), (charlotte, 0.21...\n",
       "1902  [(herbert, 0.3214283443450827), (manslaughter,...\n",
       "1865  [(lung, 0.18396441631576374), (food, 0.1896795...\n",
       "1814  [(see, 0.17690868106143018), (step, 0.17693100..."
      ]
     },
     "execution_count": 50,
     "metadata": {},
     "output_type": "execute_result"
    }
   ],
   "source": [
    "# let's see what we really have\n",
    "df.sample(5)[['top_10_words_tfidf']]"
   ]
  },
  {
   "cell_type": "code",
   "execution_count": 51,
   "metadata": {},
   "outputs": [
    {
     "data": {
      "text/plain": [
       "Index(['trial_number', 'punishment', 'text', 'dirty_len', 'clean_len', 'words',\n",
       "       'word_count', 'word_count_cleaned', 'words_lemmatized',\n",
       "       'word_count_cleaned_no_digits', 'top_10_words_tfidf'],\n",
       "      dtype='object')"
      ]
     },
     "execution_count": 51,
     "metadata": {},
     "output_type": "execute_result"
    }
   ],
   "source": [
    "df.columns"
   ]
  },
  {
   "cell_type": "code",
   "execution_count": 53,
   "metadata": {},
   "outputs": [
    {
     "data": {
      "text/html": [
       "<div>\n",
       "<style scoped>\n",
       "    .dataframe tbody tr th:only-of-type {\n",
       "        vertical-align: middle;\n",
       "    }\n",
       "\n",
       "    .dataframe tbody tr th {\n",
       "        vertical-align: top;\n",
       "    }\n",
       "\n",
       "    .dataframe thead th {\n",
       "        text-align: right;\n",
       "    }\n",
       "</style>\n",
       "<table border=\"1\" class=\"dataframe\">\n",
       "  <thead>\n",
       "    <tr style=\"text-align: right;\">\n",
       "      <th></th>\n",
       "      <th>top_10_words_tfidf</th>\n",
       "      <th>word_count_cleaned</th>\n",
       "      <th>word_count_cleaned_no_digits</th>\n",
       "    </tr>\n",
       "    <tr>\n",
       "      <th>year</th>\n",
       "      <th></th>\n",
       "      <th></th>\n",
       "      <th></th>\n",
       "    </tr>\n",
       "  </thead>\n",
       "  <tbody>\n",
       "    <tr>\n",
       "      <th>1902</th>\n",
       "      <td>[(prisoner, 0.1678846871306937), (shot, 0.2407...</td>\n",
       "      <td>630</td>\n",
       "      <td>608</td>\n",
       "    </tr>\n",
       "    <tr>\n",
       "      <th>1865</th>\n",
       "      <td>[(page, 0.2688358847960135), (robinson, 0.2725...</td>\n",
       "      <td>24</td>\n",
       "      <td>21</td>\n",
       "    </tr>\n",
       "    <tr>\n",
       "      <th>1773</th>\n",
       "      <td>[(fox, 0.29931349659777884), (silver, 0.339855...</td>\n",
       "      <td>27</td>\n",
       "      <td>22</td>\n",
       "    </tr>\n",
       "    <tr>\n",
       "      <th>1881</th>\n",
       "      <td>[(original, 0.2666105486026002), (image, 0.278...</td>\n",
       "      <td>25</td>\n",
       "      <td>19</td>\n",
       "    </tr>\n",
       "    <tr>\n",
       "      <th>1881</th>\n",
       "      <td>[(josiah, 0.27682582893519736), (jessie, 0.283...</td>\n",
       "      <td>32</td>\n",
       "      <td>27</td>\n",
       "    </tr>\n",
       "  </tbody>\n",
       "</table>\n",
       "</div>"
      ],
      "text/plain": [
       "                                     top_10_words_tfidf  word_count_cleaned  \\\n",
       "year                                                                          \n",
       "1902  [(prisoner, 0.1678846871306937), (shot, 0.2407...                 630   \n",
       "1865  [(page, 0.2688358847960135), (robinson, 0.2725...                  24   \n",
       "1773  [(fox, 0.29931349659777884), (silver, 0.339855...                  27   \n",
       "1881  [(original, 0.2666105486026002), (image, 0.278...                  25   \n",
       "1881  [(josiah, 0.27682582893519736), (jessie, 0.283...                  32   \n",
       "\n",
       "      word_count_cleaned_no_digits  \n",
       "year                                \n",
       "1902                           608  \n",
       "1865                            21  \n",
       "1773                            22  \n",
       "1881                            19  \n",
       "1881                            27  "
      ]
     },
     "execution_count": 53,
     "metadata": {},
     "output_type": "execute_result"
    }
   ],
   "source": [
    "df.sample(5)[['top_10_words_tfidf', 'word_count_cleaned', 'word_count_cleaned_no_digits']] # so 3 columns in any order"
   ]
  },
  {
   "cell_type": "code",
   "execution_count": 54,
   "metadata": {},
   "outputs": [
    {
     "name": "stdout",
     "output_type": "stream",
     "text": [
      "Start time: 2024-07-24 12:32:37.248990\n",
      "Time elapsed: 0:00:01.847934\n",
      "File size: 3319507\n"
     ]
    }
   ],
   "source": [
    "# we would love to save our data to parquet file but alas we have datatypes that are not supported by parquet\n",
    "# thus we will use pickle that will faithfully save everything\n",
    "# we will use to_pickle method\n",
    "# we will use compression to save space\n",
    "# start of timer\n",
    "start = datetime.now()\n",
    "pickle_file = Path(\"old_bailey_sample_1720_1913_cleaned_embeddings.pkl\") # will save in current folder not in data folder\n",
    "print(f\"Start time: {start}\")\n",
    "df.to_pickle(pickle_file, compression=\"zip\") # just regular zip compression not related to zip in python loops\n",
    "print(f\"Time elapsed: {datetime.now() - start}\")\n",
    "# how big is our file?\n",
    "print(\"File size:\", pickle_file.stat().st_size)\n",
    "# not too bad a compression ratio and we kept all our data and datatypes\n"
   ]
  },
  {
   "cell_type": "code",
   "execution_count": 55,
   "metadata": {},
   "outputs": [
    {
     "data": {
      "text/plain": [
       "9235442"
      ]
     },
     "execution_count": 55,
     "metadata": {},
     "output_type": "execute_result"
    }
   ],
   "source": [
    "# getting memory usage for dataframe\n",
    "df.memory_usage(deep=True).sum()\n",
    "# deep might be a recent addition to pandas"
   ]
  },
  {
   "cell_type": "code",
   "execution_count": 49,
   "metadata": {},
   "outputs": [
    {
     "data": {
      "text/plain": [
       "4294967296"
      ]
     },
     "execution_count": 49,
     "metadata": {},
     "output_type": "execute_result"
    }
   ],
   "source": [
    "# 4 bytes would be 32 bits\n",
    "# enough for\n",
    "2**32 # 4 294 967 296 - 4gb memory"
   ]
  },
  {
   "cell_type": "code",
   "execution_count": 50,
   "metadata": {},
   "outputs": [
    {
     "data": {
      "text/plain": [
       "18446744073709551616"
      ]
     },
     "execution_count": 50,
     "metadata": {},
     "output_type": "execute_result"
    }
   ],
   "source": [
    "# 64 bits \n",
    "2**64 # 18 446 744 073 709 551 616 - 18 exabytes"
   ]
  },
  {
   "cell_type": "code",
   "execution_count": 51,
   "metadata": {},
   "outputs": [],
   "source": [
    "# generic python list will take quite a bit of memory\n",
    "# let me store 100 Milllion integers in a list\n",
    "big_nums = list(range(100_000_000))"
   ]
  },
  {
   "cell_type": "code",
   "execution_count": 52,
   "metadata": {},
   "outputs": [
    {
     "data": {
      "text/plain": [
       "[0, 1, 2, 3, 4, 5, 6, 7, 8, 9]"
      ]
     },
     "execution_count": 52,
     "metadata": {},
     "output_type": "execute_result"
    }
   ],
   "source": [
    "big_nums = list(range(10)) # not so big # so big numbers will be garbage collected by Python\n",
    "big_nums "
   ]
  },
  {
   "cell_type": "markdown",
   "metadata": {},
   "source": [
    "## word2vec embeddings\n",
    "\n",
    "word2vec embeddings is a technique for creating word embeddings. It is a neural network model that takes a word as input and outputs a vector representation of that word. The word2vec model is trained on a large corpus of text, and learns to predict the context of a word based on its vector representation.\n",
    "\n",
    "word2vec came to prominence in 2013, when Google released a paper describing the model. It has since been used in many applications, including machine translation, sentiment analysis, and text classification.\n",
    "\n",
    "Original Google paper: Efficient Estimation of Word Representations in\n",
    "Vector Space https://arxiv.org/pdf/1301.3781.pdf"
   ]
  },
  {
   "cell_type": "code",
   "execution_count": 56,
   "metadata": {},
   "outputs": [
    {
     "name": "stdout",
     "output_type": "stream",
     "text": [
      "Start time: 2024-07-24 12:34:14.574800\n",
      "Time elapsed: 0:00:00\n"
     ]
    },
    {
     "data": {
      "text/plain": [
       "[['st',\n",
       "  'leonard',\n",
       "  'eastcheap',\n",
       "  'indict',\n",
       "  'feloniously',\n",
       "  'steal',\n",
       "  'pound',\n",
       "  'weight',\n",
       "  'tobacco',\n",
       "  'value',\n",
       "  'l',\n",
       "  's',\n",
       "  'good',\n",
       "  'job',\n",
       "  'wick',\n",
       "  'dwelling',\n",
       "  'house',\n",
       "  'say',\n",
       "  'job',\n",
       "  'wick',\n",
       "  'april',\n",
       "  'appear',\n",
       "  'prisoner',\n",
       "  'prosecutor',\n",
       "  'servant',\n",
       "  'fellow',\n",
       "  'servant',\n",
       "  'depose',\n",
       "  'perceive',\n",
       "  'pocket',\n",
       "  'stick',\n",
       "  'search',\n",
       "  'find',\n",
       "  'paper',\n",
       "  'tobacco',\n",
       "  'worth',\n",
       "  'd',\n",
       "  'own',\n",
       "  'master',\n",
       "  'take',\n",
       "  'cellar',\n",
       "  'constable',\n",
       "  'depose',\n",
       "  'confest',\n",
       "  'take',\n",
       "  'tobacco',\n",
       "  'time',\n",
       "  'say',\n",
       "  'paper',\n",
       "  'tobacco',\n",
       "  'produce',\n",
       "  'court',\n",
       "  'jury',\n",
       "  'consider',\n",
       "  'matter',\n",
       "  'find',\n",
       "  'guilty',\n",
       "  'value',\n",
       "  'd',\n",
       "  'transportation'],\n",
       " ['alice',\n",
       "  'jones',\n",
       "  'st',\n",
       "  'michaels',\n",
       "  'cornhill',\n",
       "  'indict',\n",
       "  'privately',\n",
       "  'steal',\n",
       "  'bermundas',\n",
       "  'hat',\n",
       "  'value',\n",
       "  's',\n",
       "  'shop',\n",
       "  'edward',\n",
       "  'hillior',\n",
       "  'april',\n",
       "  'prosecutors',\n",
       "  'servant',\n",
       "  'deposed',\n",
       "  'prisner',\n",
       "  'come',\n",
       "  'master',\n",
       "  'shop',\n",
       "  'askd',\n",
       "  'hat',\n",
       "  's',\n",
       "  'price',\n",
       "  'shew',\n",
       "  'agreed',\n",
       "  'say',\n",
       "  'country',\n",
       "  'stop',\n",
       "  'bishopsgatestreet',\n",
       "  'coach',\n",
       "  'go',\n",
       "  'come',\n",
       "  'fetch',\n",
       "  'go',\n",
       "  'shop',\n",
       "  'perceive',\n",
       "  'hardly',\n",
       "  'walk',\n",
       "  'fetcht',\n",
       "  'hat',\n",
       "  'mention',\n",
       "  'indictment',\n",
       "  'fall',\n",
       "  'leg',\n",
       "  'depose',\n",
       "  'see',\n",
       "  'evidence',\n",
       "  'hat',\n",
       "  'petticoat',\n",
       "  'prisoner',\n",
       "  'deny',\n",
       "  'fact',\n",
       "  'call',\n",
       "  'person',\n",
       "  'reputation',\n",
       "  'give',\n",
       "  'good',\n",
       "  'character',\n",
       "  'say',\n",
       "  'rent',\n",
       "  'house',\n",
       "  'l',\n",
       "  'year',\n",
       "  'petty',\n",
       "  'france',\n",
       "  'westminster',\n",
       "  'tell',\n",
       "  'justice',\n",
       "  'livd',\n",
       "  'kingstreet',\n",
       "  'jury',\n",
       "  'consider',\n",
       "  'matter',\n",
       "  'find',\n",
       "  'guilty',\n",
       "  'value',\n",
       "  'd',\n",
       "  'transportation']]"
      ]
     },
     "execution_count": 56,
     "metadata": {},
     "output_type": "execute_result"
    }
   ],
   "source": [
    "# we can use gensim to create word2vec embeddings for our whole corpus\n",
    "\n",
    "# we will use the words_lemmatized column\n",
    "# we will use the default tokenizer\n",
    "# we will use the default vocabulary\n",
    "# we will use the default ngram_range\n",
    "\n",
    "# we need to use a list of lists of words\n",
    "# we can use apply and split to do this\n",
    "# start of timer\n",
    "start = datetime.now()\n",
    "print(f\"Start time: {start}\")\n",
    "# sentences = df.words_lemmatized.apply(lambda x: x.split()).tolist() # we would use this if our words were a string separated by spaces\n",
    "sentences = df.words_lemmatized.tolist()\n",
    "print(f\"Time elapsed: {datetime.now() - start}\")\n",
    "# let's see what we have\n",
    "sentences[:2]"
   ]
  },
  {
   "cell_type": "code",
   "execution_count": 57,
   "metadata": {},
   "outputs": [
    {
     "data": {
      "text/plain": [
       "1637"
      ]
     },
     "execution_count": 57,
     "metadata": {},
     "output_type": "execute_result"
    }
   ],
   "source": [
    "# how many sentences do we have?\n",
    "len(sentences)"
   ]
  },
  {
   "cell_type": "code",
   "execution_count": 61,
   "metadata": {},
   "outputs": [
    {
     "name": "stdout",
     "output_type": "stream",
     "text": [
      "Start time: 2024-07-24 12:39:49.603193\n",
      "Time elapsed: 0:00:03.327523\n"
     ]
    },
    {
     "data": {
      "text/plain": [
       "<gensim.models.word2vec.Word2Vec at 0x21969c7b500>"
      ]
     },
     "execution_count": 61,
     "metadata": {},
     "output_type": "execute_result"
    }
   ],
   "source": [
    "# let's feed our sentences to gensim word2vec model\n",
    "# we will use default hyper parameters\n",
    "# start of timer\n",
    "start = datetime.now()\n",
    "print(f\"Start time: {start}\")\n",
    "w2v_model = gensim.models.Word2Vec(sentences=sentences, epochs=10)\n",
    "print(f\"Time elapsed: {datetime.now() - start}\")\n",
    "# cool think about word2vec is that it trains very fast - unlike more modern embeddings such as BERT\n",
    "# let's see what we have\n",
    "w2v_model"
   ]
  },
  {
   "cell_type": "code",
   "execution_count": 62,
   "metadata": {},
   "outputs": [
    {
     "data": {
      "text/plain": [
       "[('highway', 0.835797131061554),\n",
       " ('johnson', 0.7857441306114197),\n",
       " ('pauls', 0.782382607460022),\n",
       " ('queen', 0.7804726958274841),\n",
       " ('clements', 0.7612759470939636),\n",
       " ('prince', 0.76038658618927),\n",
       " ('butler', 0.7531979084014893),\n",
       " ('alias', 0.7530476450920105),\n",
       " ('churchyard', 0.7522007822990417),\n",
       " ('crickett', 0.7483892440795898)]"
      ]
     },
     "execution_count": 62,
     "metadata": {},
     "output_type": "execute_result"
    }
   ],
   "source": [
    "# we can now use our model to get embeddings for words\n",
    "# we can compare words by similarity\n",
    "# we can get most similar words\n",
    "\n",
    "# let's try king and queen\n",
    "w2v_model.wv.most_similar(\"king\")"
   ]
  },
  {
   "cell_type": "code",
   "execution_count": 63,
   "metadata": {},
   "outputs": [
    {
     "data": {
      "text/plain": [
       "[('churchyard', 0.9438380002975464),\n",
       " ('pauls', 0.9382634162902832),\n",
       " ('oxford', 0.917610228061676),\n",
       " ('victoria', 0.9173659086227417),\n",
       " ('square', 0.9043251872062683),\n",
       " ('peterinchain', 0.9030390977859497),\n",
       " ('lambeth', 0.9015888571739197),\n",
       " ('castlestreet', 0.8997366428375244),\n",
       " ('euston', 0.8981679081916809),\n",
       " ('prince', 0.8962473273277283)]"
      ]
     },
     "execution_count": 63,
     "metadata": {},
     "output_type": "execute_result"
    }
   ],
   "source": [
    "# how about queen\n",
    "w2v_model.wv.most_similar(\"queen\")"
   ]
  },
  {
   "cell_type": "code",
   "execution_count": null,
   "metadata": {},
   "outputs": [],
   "source": [
    "# a bit surprising but then again court transcripts seldom deal with royalty"
   ]
  },
  {
   "cell_type": "code",
   "execution_count": 65,
   "metadata": {},
   "outputs": [
    {
     "data": {
      "text/plain": [
       "[('cake', 0.9212360382080078),\n",
       " ('loaf', 0.9049498438835144),\n",
       " ('pipe', 0.8886724710464478),\n",
       " ('butter', 0.8879395127296448),\n",
       " ('cheese', 0.8768537640571594),\n",
       " ('counter', 0.8686412572860718),\n",
       " ('ribbon', 0.8617796301841736),\n",
       " ('bacon', 0.8609875440597534),\n",
       " ('halfsovereign', 0.8505585789680481),\n",
       " ('basket', 0.8421703577041626)]"
      ]
     },
     "execution_count": 65,
     "metadata": {},
     "output_type": "execute_result"
    }
   ],
   "source": [
    "# how about tobacco?\n",
    "w2v_model.wv.most_similar(\"tobacco\")"
   ]
  },
  {
   "cell_type": "code",
   "execution_count": 66,
   "metadata": {},
   "outputs": [
    {
     "data": {
      "text/plain": [
       "[('pint', 0.9706339836120605),\n",
       " ('drank', 0.9451059103012085),\n",
       " ('gin', 0.929814875125885),\n",
       " ('rum', 0.9210976958274841),\n",
       " ('ale', 0.9138795733451843),\n",
       " ('drink', 0.8978064656257629),\n",
       " ('water', 0.8804354071617126),\n",
       " ('quartern', 0.8618340492248535),\n",
       " ('halfapint', 0.8469358682632446),\n",
       " ('pot', 0.835966944694519)]"
      ]
     },
     "execution_count": 66,
     "metadata": {},
     "output_type": "execute_result"
    }
   ],
   "source": [
    "# how about beer?\n",
    "w2v_model.wv.most_similar(\"beer\")\n",
    "# now we are talking! or drinking!"
   ]
  },
  {
   "cell_type": "code",
   "execution_count": 67,
   "metadata": {},
   "outputs": [
    {
     "name": "stdout",
     "output_type": "stream",
     "text": [
      "Shape (100,)\n"
     ]
    },
    {
     "data": {
      "text/plain": [
       "array([-0.20704958, -1.0188049 ,  0.7589901 ,  1.3463948 , -0.78081214,\n",
       "       -0.5508044 , -0.4154636 ,  0.5938753 ,  0.8991826 ,  0.5423463 ,\n",
       "       -0.75328827, -0.2646693 , -0.37275392,  0.6842783 , -0.39355528,\n",
       "       -0.9859432 ,  0.60919046, -0.25134945, -0.41177657, -2.196357  ,\n",
       "        1.9641587 ,  0.1062551 ,  1.1531996 , -0.0402808 ,  0.48315954,\n",
       "        0.7236104 , -0.53410774,  0.14795913,  0.07646044,  1.2497494 ,\n",
       "       -0.0208775 , -0.51773584, -0.08169967, -2.027364  , -0.36247703,\n",
       "       -0.68623483,  0.3421864 , -0.76016766, -0.14152855, -1.24315   ,\n",
       "       -1.122587  , -0.8270694 , -0.56890464, -0.338976  ,  0.3964246 ,\n",
       "       -0.43062323,  0.7337306 ,  0.11415987,  1.1421694 ,  0.794361  ,\n",
       "        0.69448525, -0.10535423,  0.6486222 , -0.35316145, -1.0183859 ,\n",
       "        0.5835147 ,  0.07040794, -0.2787218 , -0.2978369 ,  0.90940416,\n",
       "        0.01565441, -0.01230239, -0.30026245,  0.14256316, -1.278911  ,\n",
       "        0.33065367,  0.3320252 ,  1.5820879 , -0.9880115 ,  1.5952867 ,\n",
       "        1.0217919 ,  0.15998223,  0.718315  , -0.578979  , -0.04757527,\n",
       "        0.6648072 , -0.05780106,  0.44345605, -0.7596246 , -0.57492113,\n",
       "       -1.0756115 , -0.7273959 , -1.0745953 ,  0.14213215,  0.25067872,\n",
       "       -0.3979408 , -0.42805672, -1.5758406 , -0.22748755, -0.51564676,\n",
       "        1.3099556 , -1.5869693 ,  0.4352681 ,  0.10165444,  0.10577991,\n",
       "        0.7998206 ,  0.63170063, -0.8252966 , -1.5104725 , -0.25724864],\n",
       "      dtype=float32)"
      ]
     },
     "execution_count": 67,
     "metadata": {},
     "output_type": "execute_result"
    }
   ],
   "source": [
    "# let's get the actual vector for beer\n",
    "print(\"Shape\", w2v_model.wv[\"beer\"].shape)\n",
    "w2v_model.wv[\"beer\"]"
   ]
  },
  {
   "cell_type": "code",
   "execution_count": 68,
   "metadata": {},
   "outputs": [
    {
     "name": "stdout",
     "output_type": "stream",
     "text": [
      "Sentences: 1637\n",
      "Min sentence length: 5\n",
      "Max sentence length: 11127\n"
     ]
    }
   ],
   "source": [
    "# let's check dimensions of our sentences\n",
    "print(\"Sentences:\", len(sentences))\n",
    "# how about min and max of sentence lengths\n",
    "print(\"Min sentence length:\", min([len(sentence) for sentence in sentences]))\n",
    "print(\"Max sentence length:\", max([len(sentence) for sentence in sentences]))\n"
   ]
  },
  {
   "cell_type": "code",
   "execution_count": 69,
   "metadata": {},
   "outputs": [
    {
     "name": "stdout",
     "output_type": "stream",
     "text": [
      "Start time: 2024-07-24 12:49:41.214088\n"
     ]
    },
    {
     "name": "stderr",
     "output_type": "stream",
     "text": [
      "1637it [00:00, 410355.94it/s]"
     ]
    },
    {
     "name": "stdout",
     "output_type": "stream",
     "text": [
      "Time elapsed: 0:00:00.011987\n"
     ]
    },
    {
     "name": "stderr",
     "output_type": "stream",
     "text": [
      "\n"
     ]
    },
    {
     "data": {
      "text/plain": [
       "[TaggedDocument(words=['st', 'leonard', 'eastcheap', 'indict', 'feloniously', 'steal', 'pound', 'weight', 'tobacco', 'value', 'l', 's', 'good', 'job', 'wick', 'dwelling', 'house', 'say', 'job', 'wick', 'april', 'appear', 'prisoner', 'prosecutor', 'servant', 'fellow', 'servant', 'depose', 'perceive', 'pocket', 'stick', 'search', 'find', 'paper', 'tobacco', 'worth', 'd', 'own', 'master', 'take', 'cellar', 'constable', 'depose', 'confest', 'take', 'tobacco', 'time', 'say', 'paper', 'tobacco', 'produce', 'court', 'jury', 'consider', 'matter', 'find', 'guilty', 'value', 'd', 'transportation'], tags=[0]),\n",
       " TaggedDocument(words=['alice', 'jones', 'st', 'michaels', 'cornhill', 'indict', 'privately', 'steal', 'bermundas', 'hat', 'value', 's', 'shop', 'edward', 'hillior', 'april', 'prosecutors', 'servant', 'deposed', 'prisner', 'come', 'master', 'shop', 'askd', 'hat', 's', 'price', 'shew', 'agreed', 'say', 'country', 'stop', 'bishopsgatestreet', 'coach', 'go', 'come', 'fetch', 'go', 'shop', 'perceive', 'hardly', 'walk', 'fetcht', 'hat', 'mention', 'indictment', 'fall', 'leg', 'depose', 'see', 'evidence', 'hat', 'petticoat', 'prisoner', 'deny', 'fact', 'call', 'person', 'reputation', 'give', 'good', 'character', 'say', 'rent', 'house', 'l', 'year', 'petty', 'france', 'westminster', 'tell', 'justice', 'livd', 'kingstreet', 'jury', 'consider', 'matter', 'find', 'guilty', 'value', 'd', 'transportation'], tags=[1]),\n",
       " TaggedDocument(words=['james', 'wilson', 'st', 'katharine', 'coleman', 'indict', 'feloniously', 'steal', 'pound', 'beef', 'value', 's', 'good', 'charle', 'watts', 'april', 'mary', 'watts', 'deposed', 'gentleman', 'come', 'bar', 'clock', 'night', 'tell', 'fellow', 'lurking', 'house', 'prisoner', 'come', 'bar', 'take', 'rump', 'beef', 'hung', 'pursue', 'dropt', 'door', 'see', 'plain', 'sure', 'prisoner', 'person', 'cookmaid', 'deposed', 'see', 'prisoner', 'beef', 'lift', 'times', 'hook', 'prisoner', 'defence', 'say', 'drinking', 'run', 'head', 'beef', 'fall', 'appear', 'evidence', 'dropt', 'yard', 'place', 'hung', 'jury', 'find', 'guilty', 'value', 'd', 'transportation'], tags=[2]),\n",
       " TaggedDocument(words=['james', 'mercy', 'alias', 'masse', 'st', 'andrew', 'undershaft', 'indict', 'feloniously', 'steal', 'silk', 'gown', 'petticoat', 'camblet', 'cloak', 'good', 'dwell', 'house', 'mary', 'robinson', 'april', 'prosecutor', 'depose', 'hearing', 'noise', 'stair', 'send', 'maid', 'mary', 'gough', 'depose', 'go', 'find', 'prisoner', 'arm', 'clothe', 'lockd', 'run', 'calld', 'assistance', 'go', 'clothe', 'find', 'wet', 'floor', 'lockt', 'drawer', 'constable', 'depose', 'prisoner', 'shammd', 'drunk', 'find', 'chissel', 'pocket', 'believe', 'opend', 'drawer', 'jury', 'find', 'guilty', 'value', 's', 'transportation'], tags=[3]),\n",
       " TaggedDocument(words=['benjamin', 'cook', 'alias', 'richard', 'smith', 'st', 'mary', 'abchurch', 'indict', 'feloniously', 'steal', 'silver', 'cup', 'value', 's', 'good', 'philip', 'austin', 'march', 'prosecutor', 'depose', 'lose', 'cup', 'kitchen', 'produce', 'court', 'swear', 'goldsmith', 'depose', 'prisoner', 'offer', 'sell', 'stopt', 'send', 'mr', 'austin', 'own', 'jury', 'find', 'guilty', 'value', 'd', 'transportation'], tags=[4])]"
      ]
     },
     "execution_count": 69,
     "metadata": {},
     "output_type": "execute_result"
    }
   ],
   "source": [
    "from tqdm import tqdm\n",
    "# So word 2 vec is a great way to get embeddings for words, but we would like to get embeddings for documents\n",
    "# we can do that by averaging word embeddings for each document\n",
    "# but also we can use doc2vec which is an extension of word2vec\n",
    "\n",
    "# more info: https://radimrehurek.com/gensim/models/doc2vec.html\n",
    "\n",
    "# let's use doc2vec to get embeddings for our corpus\n",
    "\n",
    "# we will use the words_lemmatized column\n",
    "\n",
    "# we need to use a list of lists of words\n",
    "\n",
    "# we already have sentences variable from previous example\n",
    "# it is a list of lists\n",
    "# first index represents document\n",
    "\n",
    "# let's feed our sentences to gensim doc2vec model\n",
    "# we will use default hyper parameters\n",
    "\n",
    "# for doc2vec training data we need TaggedDocument objects\n",
    "# we can use gensim TaggedDocument class to create them\n",
    "# we will use apply and split to do this\n",
    "# start of timer\n",
    "tagged_sentences = []\n",
    "start = datetime.now()\n",
    "print(f\"Start time: {start}\")\n",
    "# this will be slow as we will iterate over all documents\n",
    "# so enumerate starts from 0 and adds 1 for each iteration\n",
    "for i, sentence in tqdm(enumerate(sentences)):\n",
    "    tagged_sentences.append(gensim.models.doc2vec.TaggedDocument(sentence, [i])) # we need to pass a list of words and a list of tags\n",
    "\n",
    "print(f\"Time elapsed: {datetime.now() - start}\")\n",
    "\n",
    "# print first 5 sentences\n",
    "tagged_sentences[:5]"
   ]
  },
  {
   "cell_type": "code",
   "execution_count": 70,
   "metadata": {},
   "outputs": [
    {
     "data": {
      "text/plain": [
       "gensim.models.doc2vec.TaggedDocument"
      ]
     },
     "execution_count": 70,
     "metadata": {},
     "output_type": "execute_result"
    }
   ],
   "source": [
    "first_tagged_sentence = tagged_sentences[0]\n",
    "type(first_tagged_sentence)"
   ]
  },
  {
   "cell_type": "code",
   "execution_count": 71,
   "metadata": {},
   "outputs": [
    {
     "data": {
      "text/plain": [
       "[0]"
      ]
     },
     "execution_count": 71,
     "metadata": {},
     "output_type": "execute_result"
    }
   ],
   "source": [
    "first_tagged_sentence.tags # so basically we added a tag 0"
   ]
  },
  {
   "cell_type": "code",
   "execution_count": 72,
   "metadata": {},
   "outputs": [
    {
     "name": "stdout",
     "output_type": "stream",
     "text": [
      "Start time: 2024-07-24 12:51:58.794637\n",
      "Time elapsed: 0:00:00.001990\n"
     ]
    }
   ],
   "source": [
    "# now we are ready to train our doc2vec model\n",
    "# start of timer\n",
    "start = datetime.now()\n",
    "print(f\"Start time: {start}\")\n",
    "# so instead of default vector size of 100 we will use 50\n",
    "# and instead of defaul epochs of 5 we will use 40\n",
    "# and instead of default min_count of 5 we will use 2\n",
    "d2v_model = gensim.models.Doc2Vec(vector_size=50, min_count=2, epochs=40)\n",
    "print(f\"Time elapsed: {datetime.now() - start}\")\n",
    "# we have created and instance of the model but we have not trained it yet\n"
   ]
  },
  {
   "cell_type": "code",
   "execution_count": 73,
   "metadata": {},
   "outputs": [
    {
     "name": "stdout",
     "output_type": "stream",
     "text": [
      "Start time: 2024-07-24 12:52:14.141956\n",
      "Time elapsed: 0:00:00.279199\n"
     ]
    }
   ],
   "source": [
    "# now let's train it with our tagged sentences\n",
    "# start of timer\n",
    "start = datetime.now()\n",
    "print(f\"Start time: {start}\")\n",
    "d2v_model.build_vocab(tagged_sentences)\n",
    "print(f\"Time elapsed: {datetime.now() - start}\")\n",
    "\n",
    "\n"
   ]
  },
  {
   "cell_type": "code",
   "execution_count": 74,
   "metadata": {},
   "outputs": [
    {
     "data": {
      "text/plain": [
       "(293, 1265, 426, 669)"
      ]
     },
     "execution_count": 74,
     "metadata": {},
     "output_type": "execute_result"
    }
   ],
   "source": [
    "# who key to index \n",
    "d2v_model.wv.key_to_index[\"king\"], d2v_model.wv.key_to_index[\"queen\"], d2v_model.wv.key_to_index[\"beer\"], d2v_model.wv.key_to_index[\"tobacco\"]"
   ]
  },
  {
   "cell_type": "code",
   "execution_count": 75,
   "metadata": {},
   "outputs": [
    {
     "data": {
      "text/plain": [
       "'king'"
      ]
     },
     "execution_count": 75,
     "metadata": {},
     "output_type": "execute_result"
    }
   ],
   "source": [
    "d2v_model.wv.index_to_key[293]"
   ]
  },
  {
   "cell_type": "code",
   "execution_count": 76,
   "metadata": {},
   "outputs": [
    {
     "data": {
      "text/plain": [
       "('say', 'prisoner', 'do', 'mr')"
      ]
     },
     "execution_count": 76,
     "metadata": {},
     "output_type": "execute_result"
    }
   ],
   "source": [
    "# index to key\n",
    "d2v_model.wv.index_to_key[0], d2v_model.wv.index_to_key[1], d2v_model.wv.index_to_key[2], d2v_model.wv.index_to_key[3]"
   ]
  },
  {
   "cell_type": "code",
   "execution_count": 77,
   "metadata": {},
   "outputs": [
    {
     "data": {
      "text/plain": [
       "1637"
      ]
     },
     "execution_count": 77,
     "metadata": {},
     "output_type": "execute_result"
    }
   ],
   "source": [
    "d2v_model.corpus_count # so that's how many documents we have"
   ]
  },
  {
   "cell_type": "code",
   "execution_count": 78,
   "metadata": {},
   "outputs": [
    {
     "data": {
      "text/plain": [
       "40"
      ]
     },
     "execution_count": 78,
     "metadata": {},
     "output_type": "execute_result"
    }
   ],
   "source": [
    "# finally number of epochs we specified\n",
    "d2v_model.epochs"
   ]
  },
  {
   "cell_type": "code",
   "execution_count": 79,
   "metadata": {},
   "outputs": [
    {
     "name": "stdout",
     "output_type": "stream",
     "text": [
      "Start time: 2024-07-24 12:53:20.107621\n",
      "Time elapsed: 0:00:30.425634\n"
     ]
    }
   ],
   "source": [
    "# now we will finaly train our model\n",
    "# start of timer\n",
    "start = datetime.now()\n",
    "print(f\"Start time: {start}\")\n",
    "d2v_model.train(tagged_sentences, total_examples=d2v_model.corpus_count, epochs=d2v_model.epochs)\n",
    "print(f\"Time elapsed: {datetime.now() - start}\")\n"
   ]
  },
  {
   "cell_type": "code",
   "execution_count": 80,
   "metadata": {},
   "outputs": [
    {
     "data": {
      "text/plain": [
       "array([ 0.91934407,  0.10369361, -0.47893998,  0.36896503,  0.5935016 ,\n",
       "        1.0707822 ,  0.42577276,  0.58713037,  0.52633387, -0.44031435,\n",
       "        0.4316449 ,  0.2217436 , -0.34043258, -0.61832774, -0.25430122,\n",
       "        0.00862007, -0.834393  , -0.43783528,  0.5313231 , -0.3245354 ,\n",
       "       -0.9674761 ,  0.2782799 ,  0.19714694, -0.20649123, -0.03989292,\n",
       "       -0.39101386, -0.9537217 , -1.1435323 ,  0.16649729,  0.40458196,\n",
       "       -0.1376205 ,  0.12284689, -0.02144223,  0.10431359,  0.3322978 ,\n",
       "       -0.06357827,  0.15921514,  0.959302  , -1.0685375 , -0.14352907,\n",
       "        0.05050782, -0.11962064,  0.18787526, -0.48553732,  0.44496465,\n",
       "        1.2385678 , -0.13819677, -0.39829925,  0.69497836,  0.3766298 ],\n",
       "      dtype=float32)"
      ]
     },
     "execution_count": 80,
     "metadata": {},
     "output_type": "execute_result"
    }
   ],
   "source": [
    "# now each document should have a corresponding vector\n",
    "# let's get this vector for first document\n",
    "d2v_model.dv[0] # old gensim used docvecs instead of dv\n",
    "# basically we have a 50 length vector for each document\n",
    "# we can use cosine similarity to compare documents and find most similar documents"
   ]
  },
  {
   "cell_type": "code",
   "execution_count": 82,
   "metadata": {},
   "outputs": [
    {
     "data": {
      "text/plain": [
       "1637"
      ]
     },
     "execution_count": 82,
     "metadata": {},
     "output_type": "execute_result"
    }
   ],
   "source": [
    "# how many documents do we have?\n",
    "len(d2v_model.dv)"
   ]
  },
  {
   "cell_type": "code",
   "execution_count": 83,
   "metadata": {},
   "outputs": [
    {
     "data": {
      "text/plain": [
       "(1637, 11)"
      ]
     },
     "execution_count": 83,
     "metadata": {},
     "output_type": "execute_result"
    }
   ],
   "source": [
    "# how many rows in our dataframe?\n",
    "df.shape"
   ]
  },
  {
   "cell_type": "code",
   "execution_count": 84,
   "metadata": {},
   "outputs": [
    {
     "data": {
      "text/html": [
       "<div>\n",
       "<style scoped>\n",
       "    .dataframe tbody tr th:only-of-type {\n",
       "        vertical-align: middle;\n",
       "    }\n",
       "\n",
       "    .dataframe tbody tr th {\n",
       "        vertical-align: top;\n",
       "    }\n",
       "\n",
       "    .dataframe thead th {\n",
       "        text-align: right;\n",
       "    }\n",
       "</style>\n",
       "<table border=\"1\" class=\"dataframe\">\n",
       "  <thead>\n",
       "    <tr style=\"text-align: right;\">\n",
       "      <th></th>\n",
       "      <th>trial_number</th>\n",
       "      <th>punishment</th>\n",
       "      <th>text</th>\n",
       "      <th>dirty_len</th>\n",
       "      <th>clean_len</th>\n",
       "      <th>words</th>\n",
       "      <th>word_count</th>\n",
       "      <th>word_count_cleaned</th>\n",
       "      <th>words_lemmatized</th>\n",
       "      <th>word_count_cleaned_no_digits</th>\n",
       "      <th>top_10_words_tfidf</th>\n",
       "    </tr>\n",
       "    <tr>\n",
       "      <th>year</th>\n",
       "      <th></th>\n",
       "      <th></th>\n",
       "      <th></th>\n",
       "      <th></th>\n",
       "      <th></th>\n",
       "      <th></th>\n",
       "      <th></th>\n",
       "      <th></th>\n",
       "      <th></th>\n",
       "      <th></th>\n",
       "      <th></th>\n",
       "    </tr>\n",
       "  </thead>\n",
       "  <tbody>\n",
       "    <tr>\n",
       "      <th>1720</th>\n",
       "      <td>1</td>\n",
       "      <td>Transportation</td>\n",
       "      <td>of st leonard eastcheap was indicted for felon...</td>\n",
       "      <td>705</td>\n",
       "      <td>684</td>\n",
       "      <td>[st, leonard, eastcheap, indicted, feloniously...</td>\n",
       "      <td>129</td>\n",
       "      <td>66</td>\n",
       "      <td>[st, leonard, eastcheap, indict, feloniously, ...</td>\n",
       "      <td>60</td>\n",
       "      <td>[(confest, 0.19723911748724512), (depose, 0.21...</td>\n",
       "    </tr>\n",
       "    <tr>\n",
       "      <th>1720</th>\n",
       "      <td>2</td>\n",
       "      <td>Transportation</td>\n",
       "      <td>alice jones of st michaels cornhill was indict...</td>\n",
       "      <td>1087</td>\n",
       "      <td>1053</td>\n",
       "      <td>[alice, jones, st, michaels, cornhill, indicte...</td>\n",
       "      <td>200</td>\n",
       "      <td>87</td>\n",
       "      <td>[alice, jones, st, michaels, cornhill, indict,...</td>\n",
       "      <td>82</td>\n",
       "      <td>[(shop, 0.18964859164396325), (bermundas, 0.19...</td>\n",
       "    </tr>\n",
       "    <tr>\n",
       "      <th>1720</th>\n",
       "      <td>3</td>\n",
       "      <td>Transportation</td>\n",
       "      <td>james wilson of st katharine coleman was indic...</td>\n",
       "      <td>904</td>\n",
       "      <td>883</td>\n",
       "      <td>[james, wilson, st, katharine, coleman, indict...</td>\n",
       "      <td>177</td>\n",
       "      <td>79</td>\n",
       "      <td>[james, wilson, st, katharine, coleman, indict...</td>\n",
       "      <td>71</td>\n",
       "      <td>[(hung, 0.21832648950390215), (deposed, 0.2419...</td>\n",
       "    </tr>\n",
       "    <tr>\n",
       "      <th>1720</th>\n",
       "      <td>4</td>\n",
       "      <td>Transportation</td>\n",
       "      <td>james mercy alias masse of st andrew undershaf...</td>\n",
       "      <td>804</td>\n",
       "      <td>778</td>\n",
       "      <td>[james, mercy, alias, masse, st, andrew, under...</td>\n",
       "      <td>143</td>\n",
       "      <td>67</td>\n",
       "      <td>[james, mercy, alias, masse, st, andrew, under...</td>\n",
       "      <td>64</td>\n",
       "      <td>[(masse, 0.2126517359898944), (undershaft, 0.2...</td>\n",
       "    </tr>\n",
       "    <tr>\n",
       "      <th>1720</th>\n",
       "      <td>5</td>\n",
       "      <td>Transportation</td>\n",
       "      <td>benjamin cook alias richard smith of st mary a...</td>\n",
       "      <td>483</td>\n",
       "      <td>466</td>\n",
       "      <td>[benjamin, cook, alias, richard, smith, st, ma...</td>\n",
       "      <td>88</td>\n",
       "      <td>46</td>\n",
       "      <td>[benjamin, cook, alias, richard, smith, st, ma...</td>\n",
       "      <td>43</td>\n",
       "      <td>[(stopt, 0.23416420335477436), (abchurch, 0.26...</td>\n",
       "    </tr>\n",
       "  </tbody>\n",
       "</table>\n",
       "</div>"
      ],
      "text/plain": [
       "      trial_number      punishment  \\\n",
       "year                                 \n",
       "1720             1  Transportation   \n",
       "1720             2  Transportation   \n",
       "1720             3  Transportation   \n",
       "1720             4  Transportation   \n",
       "1720             5  Transportation   \n",
       "\n",
       "                                                   text  dirty_len  clean_len  \\\n",
       "year                                                                            \n",
       "1720  of st leonard eastcheap was indicted for felon...        705        684   \n",
       "1720  alice jones of st michaels cornhill was indict...       1087       1053   \n",
       "1720  james wilson of st katharine coleman was indic...        904        883   \n",
       "1720  james mercy alias masse of st andrew undershaf...        804        778   \n",
       "1720  benjamin cook alias richard smith of st mary a...        483        466   \n",
       "\n",
       "                                                  words  word_count  \\\n",
       "year                                                                  \n",
       "1720  [st, leonard, eastcheap, indicted, feloniously...         129   \n",
       "1720  [alice, jones, st, michaels, cornhill, indicte...         200   \n",
       "1720  [james, wilson, st, katharine, coleman, indict...         177   \n",
       "1720  [james, mercy, alias, masse, st, andrew, under...         143   \n",
       "1720  [benjamin, cook, alias, richard, smith, st, ma...          88   \n",
       "\n",
       "      word_count_cleaned                                   words_lemmatized  \\\n",
       "year                                                                          \n",
       "1720                  66  [st, leonard, eastcheap, indict, feloniously, ...   \n",
       "1720                  87  [alice, jones, st, michaels, cornhill, indict,...   \n",
       "1720                  79  [james, wilson, st, katharine, coleman, indict...   \n",
       "1720                  67  [james, mercy, alias, masse, st, andrew, under...   \n",
       "1720                  46  [benjamin, cook, alias, richard, smith, st, ma...   \n",
       "\n",
       "      word_count_cleaned_no_digits  \\\n",
       "year                                 \n",
       "1720                            60   \n",
       "1720                            82   \n",
       "1720                            71   \n",
       "1720                            64   \n",
       "1720                            43   \n",
       "\n",
       "                                     top_10_words_tfidf  \n",
       "year                                                     \n",
       "1720  [(confest, 0.19723911748724512), (depose, 0.21...  \n",
       "1720  [(shop, 0.18964859164396325), (bermundas, 0.19...  \n",
       "1720  [(hung, 0.21832648950390215), (deposed, 0.2419...  \n",
       "1720  [(masse, 0.2126517359898944), (undershaft, 0.2...  \n",
       "1720  [(stopt, 0.23416420335477436), (abchurch, 0.26...  "
      ]
     },
     "execution_count": 84,
     "metadata": {},
     "output_type": "execute_result"
    }
   ],
   "source": [
    "# head \n",
    "df.head()"
   ]
  },
  {
   "cell_type": "code",
   "execution_count": 85,
   "metadata": {},
   "outputs": [
    {
     "data": {
      "text/html": [
       "<div>\n",
       "<style scoped>\n",
       "    .dataframe tbody tr th:only-of-type {\n",
       "        vertical-align: middle;\n",
       "    }\n",
       "\n",
       "    .dataframe tbody tr th {\n",
       "        vertical-align: top;\n",
       "    }\n",
       "\n",
       "    .dataframe thead th {\n",
       "        text-align: right;\n",
       "    }\n",
       "</style>\n",
       "<table border=\"1\" class=\"dataframe\">\n",
       "  <thead>\n",
       "    <tr style=\"text-align: right;\">\n",
       "      <th></th>\n",
       "      <th>year</th>\n",
       "      <th>trial_number</th>\n",
       "      <th>punishment</th>\n",
       "      <th>text</th>\n",
       "      <th>dirty_len</th>\n",
       "      <th>clean_len</th>\n",
       "      <th>words</th>\n",
       "      <th>word_count</th>\n",
       "      <th>word_count_cleaned</th>\n",
       "      <th>words_lemmatized</th>\n",
       "      <th>word_count_cleaned_no_digits</th>\n",
       "      <th>top_10_words_tfidf</th>\n",
       "    </tr>\n",
       "  </thead>\n",
       "  <tbody>\n",
       "    <tr>\n",
       "      <th>0</th>\n",
       "      <td>1720</td>\n",
       "      <td>1</td>\n",
       "      <td>Transportation</td>\n",
       "      <td>of st leonard eastcheap was indicted for felon...</td>\n",
       "      <td>705</td>\n",
       "      <td>684</td>\n",
       "      <td>[st, leonard, eastcheap, indicted, feloniously...</td>\n",
       "      <td>129</td>\n",
       "      <td>66</td>\n",
       "      <td>[st, leonard, eastcheap, indict, feloniously, ...</td>\n",
       "      <td>60</td>\n",
       "      <td>[(confest, 0.19723911748724512), (depose, 0.21...</td>\n",
       "    </tr>\n",
       "    <tr>\n",
       "      <th>1</th>\n",
       "      <td>1720</td>\n",
       "      <td>2</td>\n",
       "      <td>Transportation</td>\n",
       "      <td>alice jones of st michaels cornhill was indict...</td>\n",
       "      <td>1087</td>\n",
       "      <td>1053</td>\n",
       "      <td>[alice, jones, st, michaels, cornhill, indicte...</td>\n",
       "      <td>200</td>\n",
       "      <td>87</td>\n",
       "      <td>[alice, jones, st, michaels, cornhill, indict,...</td>\n",
       "      <td>82</td>\n",
       "      <td>[(shop, 0.18964859164396325), (bermundas, 0.19...</td>\n",
       "    </tr>\n",
       "    <tr>\n",
       "      <th>2</th>\n",
       "      <td>1720</td>\n",
       "      <td>3</td>\n",
       "      <td>Transportation</td>\n",
       "      <td>james wilson of st katharine coleman was indic...</td>\n",
       "      <td>904</td>\n",
       "      <td>883</td>\n",
       "      <td>[james, wilson, st, katharine, coleman, indict...</td>\n",
       "      <td>177</td>\n",
       "      <td>79</td>\n",
       "      <td>[james, wilson, st, katharine, coleman, indict...</td>\n",
       "      <td>71</td>\n",
       "      <td>[(hung, 0.21832648950390215), (deposed, 0.2419...</td>\n",
       "    </tr>\n",
       "    <tr>\n",
       "      <th>3</th>\n",
       "      <td>1720</td>\n",
       "      <td>4</td>\n",
       "      <td>Transportation</td>\n",
       "      <td>james mercy alias masse of st andrew undershaf...</td>\n",
       "      <td>804</td>\n",
       "      <td>778</td>\n",
       "      <td>[james, mercy, alias, masse, st, andrew, under...</td>\n",
       "      <td>143</td>\n",
       "      <td>67</td>\n",
       "      <td>[james, mercy, alias, masse, st, andrew, under...</td>\n",
       "      <td>64</td>\n",
       "      <td>[(masse, 0.2126517359898944), (undershaft, 0.2...</td>\n",
       "    </tr>\n",
       "    <tr>\n",
       "      <th>4</th>\n",
       "      <td>1720</td>\n",
       "      <td>5</td>\n",
       "      <td>Transportation</td>\n",
       "      <td>benjamin cook alias richard smith of st mary a...</td>\n",
       "      <td>483</td>\n",
       "      <td>466</td>\n",
       "      <td>[benjamin, cook, alias, richard, smith, st, ma...</td>\n",
       "      <td>88</td>\n",
       "      <td>46</td>\n",
       "      <td>[benjamin, cook, alias, richard, smith, st, ma...</td>\n",
       "      <td>43</td>\n",
       "      <td>[(stopt, 0.23416420335477436), (abchurch, 0.26...</td>\n",
       "    </tr>\n",
       "  </tbody>\n",
       "</table>\n",
       "</div>"
      ],
      "text/plain": [
       "   year  trial_number      punishment  \\\n",
       "0  1720             1  Transportation   \n",
       "1  1720             2  Transportation   \n",
       "2  1720             3  Transportation   \n",
       "3  1720             4  Transportation   \n",
       "4  1720             5  Transportation   \n",
       "\n",
       "                                                text  dirty_len  clean_len  \\\n",
       "0  of st leonard eastcheap was indicted for felon...        705        684   \n",
       "1  alice jones of st michaels cornhill was indict...       1087       1053   \n",
       "2  james wilson of st katharine coleman was indic...        904        883   \n",
       "3  james mercy alias masse of st andrew undershaf...        804        778   \n",
       "4  benjamin cook alias richard smith of st mary a...        483        466   \n",
       "\n",
       "                                               words  word_count  \\\n",
       "0  [st, leonard, eastcheap, indicted, feloniously...         129   \n",
       "1  [alice, jones, st, michaels, cornhill, indicte...         200   \n",
       "2  [james, wilson, st, katharine, coleman, indict...         177   \n",
       "3  [james, mercy, alias, masse, st, andrew, under...         143   \n",
       "4  [benjamin, cook, alias, richard, smith, st, ma...          88   \n",
       "\n",
       "   word_count_cleaned                                   words_lemmatized  \\\n",
       "0                  66  [st, leonard, eastcheap, indict, feloniously, ...   \n",
       "1                  87  [alice, jones, st, michaels, cornhill, indict,...   \n",
       "2                  79  [james, wilson, st, katharine, coleman, indict...   \n",
       "3                  67  [james, mercy, alias, masse, st, andrew, under...   \n",
       "4                  46  [benjamin, cook, alias, richard, smith, st, ma...   \n",
       "\n",
       "   word_count_cleaned_no_digits  \\\n",
       "0                            60   \n",
       "1                            82   \n",
       "2                            71   \n",
       "3                            64   \n",
       "4                            43   \n",
       "\n",
       "                                  top_10_words_tfidf  \n",
       "0  [(confest, 0.19723911748724512), (depose, 0.21...  \n",
       "1  [(shop, 0.18964859164396325), (bermundas, 0.19...  \n",
       "2  [(hung, 0.21832648950390215), (deposed, 0.2419...  \n",
       "3  [(masse, 0.2126517359898944), (undershaft, 0.2...  \n",
       "4  [(stopt, 0.23416420335477436), (abchurch, 0.26...  "
      ]
     },
     "execution_count": 85,
     "metadata": {},
     "output_type": "execute_result"
    }
   ],
   "source": [
    "# what is df.index\n",
    "df.index\n",
    "# looks like we started using year as index\n",
    "# let's reset index by moving year to a column\n",
    "df = df.reset_index() # this will move year to a column and create a new index in this case numerical\n",
    "# let's see what we have\n",
    "df.head()"
   ]
  },
  {
   "cell_type": "code",
   "execution_count": 88,
   "metadata": {},
   "outputs": [
    {
     "name": "stdout",
     "output_type": "stream",
     "text": [
      "Type of dv2_model.dv: <class 'gensim.models.keyedvectors.KeyedVectors'>\n",
      "Type of first element: <class 'numpy.ndarray'>\n",
      "Shape of first element: (50,)\n"
     ]
    }
   ],
   "source": [
    "# let's check the type of dv2_model.dv\n",
    "print(f\"Type of dv2_model.dv: {type(d2v_model.dv)}\")\n",
    "# now type of first element\n",
    "print(f\"Type of first element: {type(d2v_model.dv[0])}\")\n",
    "# shape of first element\n",
    "print(f\"Shape of first element: {d2v_model.dv[0].shape}\")"
   ]
  },
  {
   "cell_type": "code",
   "execution_count": 94,
   "metadata": {},
   "outputs": [
    {
     "name": "stdout",
     "output_type": "stream",
     "text": [
      "Start time: 2024-07-24 13:01:40.101674\n",
      "Time elapsed: 0:00:00.001995\n"
     ]
    },
    {
     "data": {
      "text/html": [
       "<div>\n",
       "<style scoped>\n",
       "    .dataframe tbody tr th:only-of-type {\n",
       "        vertical-align: middle;\n",
       "    }\n",
       "\n",
       "    .dataframe tbody tr th {\n",
       "        vertical-align: top;\n",
       "    }\n",
       "\n",
       "    .dataframe thead th {\n",
       "        text-align: right;\n",
       "    }\n",
       "</style>\n",
       "<table border=\"1\" class=\"dataframe\">\n",
       "  <thead>\n",
       "    <tr style=\"text-align: right;\">\n",
       "      <th></th>\n",
       "      <th>year</th>\n",
       "      <th>trial_number</th>\n",
       "      <th>punishment</th>\n",
       "      <th>text</th>\n",
       "      <th>dirty_len</th>\n",
       "      <th>clean_len</th>\n",
       "      <th>words</th>\n",
       "      <th>word_count</th>\n",
       "      <th>word_count_cleaned</th>\n",
       "      <th>words_lemmatized</th>\n",
       "      <th>word_count_cleaned_no_digits</th>\n",
       "      <th>top_10_words_tfidf</th>\n",
       "      <th>doc2vec</th>\n",
       "    </tr>\n",
       "  </thead>\n",
       "  <tbody>\n",
       "    <tr>\n",
       "      <th>0</th>\n",
       "      <td>1720</td>\n",
       "      <td>1</td>\n",
       "      <td>Transportation</td>\n",
       "      <td>of st leonard eastcheap was indicted for felon...</td>\n",
       "      <td>705</td>\n",
       "      <td>684</td>\n",
       "      <td>[st, leonard, eastcheap, indicted, feloniously...</td>\n",
       "      <td>129</td>\n",
       "      <td>66</td>\n",
       "      <td>[st, leonard, eastcheap, indict, feloniously, ...</td>\n",
       "      <td>60</td>\n",
       "      <td>[(confest, 0.19723911748724512), (depose, 0.21...</td>\n",
       "      <td>[0.91934407, 0.10369361, -0.47893998, 0.368965...</td>\n",
       "    </tr>\n",
       "    <tr>\n",
       "      <th>1</th>\n",
       "      <td>1720</td>\n",
       "      <td>2</td>\n",
       "      <td>Transportation</td>\n",
       "      <td>alice jones of st michaels cornhill was indict...</td>\n",
       "      <td>1087</td>\n",
       "      <td>1053</td>\n",
       "      <td>[alice, jones, st, michaels, cornhill, indicte...</td>\n",
       "      <td>200</td>\n",
       "      <td>87</td>\n",
       "      <td>[alice, jones, st, michaels, cornhill, indict,...</td>\n",
       "      <td>82</td>\n",
       "      <td>[(shop, 0.18964859164396325), (bermundas, 0.19...</td>\n",
       "      <td>[-0.4580645, 0.047241077, -1.1409273, 0.387530...</td>\n",
       "    </tr>\n",
       "    <tr>\n",
       "      <th>2</th>\n",
       "      <td>1720</td>\n",
       "      <td>3</td>\n",
       "      <td>Transportation</td>\n",
       "      <td>james wilson of st katharine coleman was indic...</td>\n",
       "      <td>904</td>\n",
       "      <td>883</td>\n",
       "      <td>[james, wilson, st, katharine, coleman, indict...</td>\n",
       "      <td>177</td>\n",
       "      <td>79</td>\n",
       "      <td>[james, wilson, st, katharine, coleman, indict...</td>\n",
       "      <td>71</td>\n",
       "      <td>[(hung, 0.21832648950390215), (deposed, 0.2419...</td>\n",
       "      <td>[-0.52152157, 0.11271813, -0.039994188, -0.399...</td>\n",
       "    </tr>\n",
       "    <tr>\n",
       "      <th>3</th>\n",
       "      <td>1720</td>\n",
       "      <td>4</td>\n",
       "      <td>Transportation</td>\n",
       "      <td>james mercy alias masse of st andrew undershaf...</td>\n",
       "      <td>804</td>\n",
       "      <td>778</td>\n",
       "      <td>[james, mercy, alias, masse, st, andrew, under...</td>\n",
       "      <td>143</td>\n",
       "      <td>67</td>\n",
       "      <td>[james, mercy, alias, masse, st, andrew, under...</td>\n",
       "      <td>64</td>\n",
       "      <td>[(masse, 0.2126517359898944), (undershaft, 0.2...</td>\n",
       "      <td>[0.7243695, 0.5472455, -0.86394536, 0.5828498,...</td>\n",
       "    </tr>\n",
       "    <tr>\n",
       "      <th>4</th>\n",
       "      <td>1720</td>\n",
       "      <td>5</td>\n",
       "      <td>Transportation</td>\n",
       "      <td>benjamin cook alias richard smith of st mary a...</td>\n",
       "      <td>483</td>\n",
       "      <td>466</td>\n",
       "      <td>[benjamin, cook, alias, richard, smith, st, ma...</td>\n",
       "      <td>88</td>\n",
       "      <td>46</td>\n",
       "      <td>[benjamin, cook, alias, richard, smith, st, ma...</td>\n",
       "      <td>43</td>\n",
       "      <td>[(stopt, 0.23416420335477436), (abchurch, 0.26...</td>\n",
       "      <td>[-0.29857674, 0.11186821, -0.69514287, -0.0988...</td>\n",
       "    </tr>\n",
       "  </tbody>\n",
       "</table>\n",
       "</div>"
      ],
      "text/plain": [
       "   year  trial_number      punishment  \\\n",
       "0  1720             1  Transportation   \n",
       "1  1720             2  Transportation   \n",
       "2  1720             3  Transportation   \n",
       "3  1720             4  Transportation   \n",
       "4  1720             5  Transportation   \n",
       "\n",
       "                                                text  dirty_len  clean_len  \\\n",
       "0  of st leonard eastcheap was indicted for felon...        705        684   \n",
       "1  alice jones of st michaels cornhill was indict...       1087       1053   \n",
       "2  james wilson of st katharine coleman was indic...        904        883   \n",
       "3  james mercy alias masse of st andrew undershaf...        804        778   \n",
       "4  benjamin cook alias richard smith of st mary a...        483        466   \n",
       "\n",
       "                                               words  word_count  \\\n",
       "0  [st, leonard, eastcheap, indicted, feloniously...         129   \n",
       "1  [alice, jones, st, michaels, cornhill, indicte...         200   \n",
       "2  [james, wilson, st, katharine, coleman, indict...         177   \n",
       "3  [james, mercy, alias, masse, st, andrew, under...         143   \n",
       "4  [benjamin, cook, alias, richard, smith, st, ma...          88   \n",
       "\n",
       "   word_count_cleaned                                   words_lemmatized  \\\n",
       "0                  66  [st, leonard, eastcheap, indict, feloniously, ...   \n",
       "1                  87  [alice, jones, st, michaels, cornhill, indict,...   \n",
       "2                  79  [james, wilson, st, katharine, coleman, indict...   \n",
       "3                  67  [james, mercy, alias, masse, st, andrew, under...   \n",
       "4                  46  [benjamin, cook, alias, richard, smith, st, ma...   \n",
       "\n",
       "   word_count_cleaned_no_digits  \\\n",
       "0                            60   \n",
       "1                            82   \n",
       "2                            71   \n",
       "3                            64   \n",
       "4                            43   \n",
       "\n",
       "                                  top_10_words_tfidf  \\\n",
       "0  [(confest, 0.19723911748724512), (depose, 0.21...   \n",
       "1  [(shop, 0.18964859164396325), (bermundas, 0.19...   \n",
       "2  [(hung, 0.21832648950390215), (deposed, 0.2419...   \n",
       "3  [(masse, 0.2126517359898944), (undershaft, 0.2...   \n",
       "4  [(stopt, 0.23416420335477436), (abchurch, 0.26...   \n",
       "\n",
       "                                             doc2vec  \n",
       "0  [0.91934407, 0.10369361, -0.47893998, 0.368965...  \n",
       "1  [-0.4580645, 0.047241077, -1.1409273, 0.387530...  \n",
       "2  [-0.52152157, 0.11271813, -0.039994188, -0.399...  \n",
       "3  [0.7243695, 0.5472455, -0.86394536, 0.5828498,...  \n",
       "4  [-0.29857674, 0.11186821, -0.69514287, -0.0988...  "
      ]
     },
     "execution_count": 94,
     "metadata": {},
     "output_type": "execute_result"
    }
   ],
   "source": [
    "# let's assign these vectors to our dataframe\n",
    "# start of timer\n",
    "start = datetime.now()\n",
    "print(f\"Start time: {start}\")\n",
    "# crucially here our indexing should match our tags in tagged_sentences\n",
    "df[\"doc2vec\"] = df.index.map(lambda x: d2v_model.dv[x])\n",
    "# we could skip map and just assign the whole d2v_model.dv directly since it is a\n",
    "# TODO see if we can convert dv2_model.dv to a numpy array\n",
    "# so our lambda function returns a corresponding vector for each index\n",
    "print(f\"Time elapsed: {datetime.now() - start}\")\n",
    "# let's see what we have\n",
    "df.head()"
   ]
  },
  {
   "cell_type": "code",
   "execution_count": 95,
   "metadata": {},
   "outputs": [
    {
     "data": {
      "text/html": [
       "<div>\n",
       "<style scoped>\n",
       "    .dataframe tbody tr th:only-of-type {\n",
       "        vertical-align: middle;\n",
       "    }\n",
       "\n",
       "    .dataframe tbody tr th {\n",
       "        vertical-align: top;\n",
       "    }\n",
       "\n",
       "    .dataframe thead th {\n",
       "        text-align: right;\n",
       "    }\n",
       "</style>\n",
       "<table border=\"1\" class=\"dataframe\">\n",
       "  <thead>\n",
       "    <tr style=\"text-align: right;\">\n",
       "      <th></th>\n",
       "      <th>word_count_cleaned</th>\n",
       "      <th>word_count_cleaned_no_digits</th>\n",
       "      <th>doc2vec</th>\n",
       "    </tr>\n",
       "  </thead>\n",
       "  <tbody>\n",
       "    <tr>\n",
       "      <th>0</th>\n",
       "      <td>66</td>\n",
       "      <td>60</td>\n",
       "      <td>[0.91934407, 0.10369361, -0.47893998, 0.368965...</td>\n",
       "    </tr>\n",
       "    <tr>\n",
       "      <th>1</th>\n",
       "      <td>87</td>\n",
       "      <td>82</td>\n",
       "      <td>[-0.4580645, 0.047241077, -1.1409273, 0.387530...</td>\n",
       "    </tr>\n",
       "    <tr>\n",
       "      <th>2</th>\n",
       "      <td>79</td>\n",
       "      <td>71</td>\n",
       "      <td>[-0.52152157, 0.11271813, -0.039994188, -0.399...</td>\n",
       "    </tr>\n",
       "    <tr>\n",
       "      <th>3</th>\n",
       "      <td>67</td>\n",
       "      <td>64</td>\n",
       "      <td>[0.7243695, 0.5472455, -0.86394536, 0.5828498,...</td>\n",
       "    </tr>\n",
       "    <tr>\n",
       "      <th>4</th>\n",
       "      <td>46</td>\n",
       "      <td>43</td>\n",
       "      <td>[-0.29857674, 0.11186821, -0.69514287, -0.0988...</td>\n",
       "    </tr>\n",
       "  </tbody>\n",
       "</table>\n",
       "</div>"
      ],
      "text/plain": [
       "   word_count_cleaned  word_count_cleaned_no_digits  \\\n",
       "0                  66                            60   \n",
       "1                  87                            82   \n",
       "2                  79                            71   \n",
       "3                  67                            64   \n",
       "4                  46                            43   \n",
       "\n",
       "                                             doc2vec  \n",
       "0  [0.91934407, 0.10369361, -0.47893998, 0.368965...  \n",
       "1  [-0.4580645, 0.047241077, -1.1409273, 0.387530...  \n",
       "2  [-0.52152157, 0.11271813, -0.039994188, -0.399...  \n",
       "3  [0.7243695, 0.5472455, -0.86394536, 0.5828498,...  \n",
       "4  [-0.29857674, 0.11186821, -0.69514287, -0.0988...  "
      ]
     },
     "execution_count": 95,
     "metadata": {},
     "output_type": "execute_result"
    }
   ],
   "source": [
    "# let's see last 3 columns of our first 5 rows\n",
    "# here we are specifying column names so the order might be off, it is our choice\n",
    "df.head()[['word_count_cleaned', 'word_count_cleaned_no_digits', 'doc2vec']]"
   ]
  },
  {
   "cell_type": "code",
   "execution_count": 92,
   "metadata": {},
   "outputs": [],
   "source": [
    "# other recipe to do the same thing using numerical indexing\n",
    "# so first 5 rows and last 3 columns\n",
    "df.iloc[:5, -3:]\n",
    "# reminder these are not copies of dataframes but views into the original dataframe\n",
    "# if you need a true copy then use copy method\n",
    "head_copy = df.iloc[:5, -3:].copy() # this will create a copy of dataframe modifiying which would not affect original dataframe"
   ]
  },
  {
   "cell_type": "code",
   "execution_count": null,
   "metadata": {},
   "outputs": [],
   "source": [
    "# we now have a 50 length vector for each document that we can use for comparison and other operations"
   ]
  },
  {
   "cell_type": "code",
   "execution_count": 96,
   "metadata": {},
   "outputs": [
    {
     "name": "stdout",
     "output_type": "stream",
     "text": [
      "Time elapsed: 0:00:01.655548\n",
      "2024-07-24 13:01:55.873612\n"
     ]
    }
   ],
   "source": [
    "# finally let's save our dataframe to pickle file again\n",
    "\n",
    "# we will use to_pickle method\n",
    "\n",
    "# start of timer\n",
    "start = datetime.now()\n",
    "pickle_file = Path(\"old_bailey_sample_1720_1913_cleaned_embeddings.pkl\")\n",
    "\n",
    "df.to_pickle(pickle_file, compression=\"zip\")\n",
    "print(f\"Time elapsed: {datetime.now() - start}\")\n",
    "# time stamp\n",
    "print(datetime.now())\n"
   ]
  },
  {
   "cell_type": "code",
   "execution_count": 82,
   "metadata": {},
   "outputs": [
    {
     "name": "stdout",
     "output_type": "stream",
     "text": [
      "[ 0.46941298  0.10782915  0.05696239 -0.23876129  0.7029075   0.78458995\n",
      "  0.3101819   0.45940688  0.21628317 -0.2267827   0.7696115   0.08565889\n",
      " -0.53790504 -0.30994055  0.00953871  0.24236478 -0.49237555 -0.93977135\n",
      " -0.35476077 -1.150464   -0.80335796  0.2772099   0.08553981  0.04565765\n",
      "  0.46071115 -0.5386743  -1.4627562  -0.56049395  0.4044869   0.47857508\n",
      "  0.6745728   0.00992709  0.41797698  0.71954036  0.37194362  0.40921926\n",
      " -0.02076414  0.86204815 -0.27037346  0.5724609  -0.4609507  -0.07518563\n",
      " -0.14565916 -0.48912826  0.27267945  1.2223395   0.5629345  -0.07947258\n",
      "  0.41420782  0.78247523]\n"
     ]
    },
    {
     "data": {
      "text/plain": [
       "0"
      ]
     },
     "execution_count": 82,
     "metadata": {},
     "output_type": "execute_result"
    }
   ],
   "source": [
    "# let's find the closesq document to our first document\n",
    "# we will use cosine similarity\n",
    "# we will use sklearn cosine_similarity function\n",
    "# we will use our doc2vec embeddings\n",
    "\n",
    "# let's get embeddings for first document\n",
    "first_doc_d2v = df.doc2vec.iloc[0]\n",
    "# let's see what we have\n",
    "print(first_doc_d2v)\n",
    "\n",
    "# let's get embeddings for all documents\n",
    "all_docs_d2v = df.doc2vec.tolist()\n",
    "\n",
    "# now simply use cosine_similarity function\n",
    "from sklearn.metrics.pairwise import cosine_similarity\n",
    "# let's see what we have\n",
    "cosine_similarity([first_doc_d2v], all_docs_d2v)\n",
    "# find index of most similar document\n",
    "np.argmax(cosine_similarity([first_doc_d2v], all_docs_d2v))\n",
    "# unsurprisingly it is the first document - which is the same document\n",
    "# somewhat surprisingly sometimes it is not the same document - due to the way doc2vec works\n"
   ]
  },
  {
   "cell_type": "code",
   "execution_count": 83,
   "metadata": {},
   "outputs": [
    {
     "name": "stdout",
     "output_type": "stream",
     "text": [
      "Start time: 2024-07-23 00:12:06.714678\n",
      "Time elapsed: 0:00:00.013512\n"
     ]
    },
    {
     "data": {
      "text/plain": [
       "array([[1.        , 0.4603207 , 0.6461071 , ..., 0.5848043 , 0.34339896,\n",
       "        0.48783186]], dtype=float32)"
      ]
     },
     "execution_count": 83,
     "metadata": {},
     "output_type": "execute_result"
    }
   ],
   "source": [
    "# so now let's find top 5 most similar documents to our first document\n",
    "# we will use cosine similarity\n",
    "# we will use sklearn cosine_similarity function\n",
    "# we will use our doc2vec embeddings\n",
    "\n",
    "# we already have our first document embeddings\n",
    "# we already have our all documents embeddings\n",
    "\n",
    "# let's get cosine similarity for all documents\n",
    "# start of timer\n",
    "start = datetime.now()\n",
    "print(f\"Start time: {start}\")\n",
    "cosine_similarities = cosine_similarity([first_doc_d2v], all_docs_d2v)\n",
    "print(f\"Time elapsed: {datetime.now() - start}\")\n",
    "# let's see what we have\n",
    "cosine_similarities[:5] # i get everything not the first 5 entries\n",
    "# why? let's check our shape - notice the double brackets\n"
   ]
  },
  {
   "cell_type": "code",
   "execution_count": 84,
   "metadata": {},
   "outputs": [
    {
     "data": {
      "text/plain": [
       "(1, 1637)"
      ]
     },
     "execution_count": 84,
     "metadata": {},
     "output_type": "execute_result"
    }
   ],
   "source": [
    "# let's print the shape of cosine similarities\n",
    "cosine_similarities.shape"
   ]
  },
  {
   "cell_type": "code",
   "execution_count": 85,
   "metadata": {},
   "outputs": [
    {
     "name": "stdout",
     "output_type": "stream",
     "text": [
      "[264  76  99  56   0]\n"
     ]
    },
    {
     "data": {
      "text/html": [
       "<div>\n",
       "<style scoped>\n",
       "    .dataframe tbody tr th:only-of-type {\n",
       "        vertical-align: middle;\n",
       "    }\n",
       "\n",
       "    .dataframe tbody tr th {\n",
       "        vertical-align: top;\n",
       "    }\n",
       "\n",
       "    .dataframe thead th {\n",
       "        text-align: right;\n",
       "    }\n",
       "</style>\n",
       "<table border=\"1\" class=\"dataframe\">\n",
       "  <thead>\n",
       "    <tr style=\"text-align: right;\">\n",
       "      <th></th>\n",
       "      <th>year</th>\n",
       "      <th>trial_number</th>\n",
       "      <th>punishment</th>\n",
       "      <th>text</th>\n",
       "      <th>dirty_len</th>\n",
       "      <th>clean_len</th>\n",
       "      <th>words</th>\n",
       "      <th>word_count</th>\n",
       "      <th>word_count_cleaned</th>\n",
       "      <th>words_lemmatized</th>\n",
       "      <th>word_count_cleaned_no_digits</th>\n",
       "      <th>top_5_words_tfidf</th>\n",
       "      <th>doc2vec</th>\n",
       "    </tr>\n",
       "  </thead>\n",
       "  <tbody>\n",
       "    <tr>\n",
       "      <th>264</th>\n",
       "      <td>1754</td>\n",
       "      <td>25</td>\n",
       "      <td>[Transportation. See summary.]</td>\n",
       "      <td>110 m elizabeth hore widow was indicted for st...</td>\n",
       "      <td>846</td>\n",
       "      <td>804</td>\n",
       "      <td>[110, m, elizabeth, hore, widow, indicted, ste...</td>\n",
       "      <td>145</td>\n",
       "      <td>80</td>\n",
       "      <td>[m, elizabeth, hore, widow, indict, steal, sil...</td>\n",
       "      <td>74</td>\n",
       "      <td>[(handkerchief, 0.24678087995418604), (pair, 0...</td>\n",
       "      <td>[-0.27726516, 0.14446229, -0.7846294, 0.946607...</td>\n",
       "    </tr>\n",
       "    <tr>\n",
       "      <th>76</th>\n",
       "      <td>1731</td>\n",
       "      <td>2</td>\n",
       "      <td>None</td>\n",
       "      <td>henry hudson of st giless cripplegate was indi...</td>\n",
       "      <td>227</td>\n",
       "      <td>217</td>\n",
       "      <td>[henry, hudson, st, giless, cripplegate, indic...</td>\n",
       "      <td>37</td>\n",
       "      <td>21</td>\n",
       "      <td>[henry, hudson, st, giless, cripplegate, indic...</td>\n",
       "      <td>19</td>\n",
       "      <td>[(giless, 0.2829950927892045), (cripplegate, 0...</td>\n",
       "      <td>[-0.048283905, 0.04989565, -0.04383657, 0.0590...</td>\n",
       "    </tr>\n",
       "    <tr>\n",
       "      <th>99</th>\n",
       "      <td>1731</td>\n",
       "      <td>25</td>\n",
       "      <td>None</td>\n",
       "      <td>sarah davis of st brides was indicted for felo...</td>\n",
       "      <td>249</td>\n",
       "      <td>240</td>\n",
       "      <td>[sarah, davis, st, brides, indicted, felonious...</td>\n",
       "      <td>44</td>\n",
       "      <td>22</td>\n",
       "      <td>[sarah, davis, st, bride, indict, feloniously,...</td>\n",
       "      <td>21</td>\n",
       "      <td>[(chair, 0.2540785345847826), (cane, 0.3206741...</td>\n",
       "      <td>[-0.054091346, 0.1674503, -0.16330098, 0.13334...</td>\n",
       "    </tr>\n",
       "    <tr>\n",
       "      <th>56</th>\n",
       "      <td>1720</td>\n",
       "      <td>57</td>\n",
       "      <td>Transportation</td>\n",
       "      <td>elizabeth cullin of st clements danes was indi...</td>\n",
       "      <td>453</td>\n",
       "      <td>433</td>\n",
       "      <td>[elizabeth, cullin, st, clements, danes, indic...</td>\n",
       "      <td>80</td>\n",
       "      <td>41</td>\n",
       "      <td>[elizabeth, cullin, st, clements, dane, indict...</td>\n",
       "      <td>38</td>\n",
       "      <td>[(clements, 0.24462958688630737), (dane, 0.267...</td>\n",
       "      <td>[-0.17040512, 0.397113, -0.40952003, 0.1877905...</td>\n",
       "    </tr>\n",
       "    <tr>\n",
       "      <th>0</th>\n",
       "      <td>1720</td>\n",
       "      <td>1</td>\n",
       "      <td>Transportation</td>\n",
       "      <td>of st leonard eastcheap was indicted for felon...</td>\n",
       "      <td>705</td>\n",
       "      <td>684</td>\n",
       "      <td>[st, leonard, eastcheap, indicted, feloniously...</td>\n",
       "      <td>129</td>\n",
       "      <td>66</td>\n",
       "      <td>[st, leonard, eastcheap, indict, feloniously, ...</td>\n",
       "      <td>60</td>\n",
       "      <td>[(confest, 0.19723911748724512), (depose, 0.21...</td>\n",
       "      <td>[0.46941298, 0.107829146, 0.05696239, -0.23876...</td>\n",
       "    </tr>\n",
       "  </tbody>\n",
       "</table>\n",
       "</div>"
      ],
      "text/plain": [
       "     year  trial_number                      punishment  \\\n",
       "264  1754            25  [Transportation. See summary.]   \n",
       "76   1731             2                            None   \n",
       "99   1731            25                            None   \n",
       "56   1720            57                  Transportation   \n",
       "0    1720             1                  Transportation   \n",
       "\n",
       "                                                  text  dirty_len  clean_len  \\\n",
       "264  110 m elizabeth hore widow was indicted for st...        846        804   \n",
       "76   henry hudson of st giless cripplegate was indi...        227        217   \n",
       "99   sarah davis of st brides was indicted for felo...        249        240   \n",
       "56   elizabeth cullin of st clements danes was indi...        453        433   \n",
       "0    of st leonard eastcheap was indicted for felon...        705        684   \n",
       "\n",
       "                                                 words  word_count  \\\n",
       "264  [110, m, elizabeth, hore, widow, indicted, ste...         145   \n",
       "76   [henry, hudson, st, giless, cripplegate, indic...          37   \n",
       "99   [sarah, davis, st, brides, indicted, felonious...          44   \n",
       "56   [elizabeth, cullin, st, clements, danes, indic...          80   \n",
       "0    [st, leonard, eastcheap, indicted, feloniously...         129   \n",
       "\n",
       "     word_count_cleaned                                   words_lemmatized  \\\n",
       "264                  80  [m, elizabeth, hore, widow, indict, steal, sil...   \n",
       "76                   21  [henry, hudson, st, giless, cripplegate, indic...   \n",
       "99                   22  [sarah, davis, st, bride, indict, feloniously,...   \n",
       "56                   41  [elizabeth, cullin, st, clements, dane, indict...   \n",
       "0                    66  [st, leonard, eastcheap, indict, feloniously, ...   \n",
       "\n",
       "     word_count_cleaned_no_digits  \\\n",
       "264                            74   \n",
       "76                             19   \n",
       "99                             21   \n",
       "56                             38   \n",
       "0                              60   \n",
       "\n",
       "                                     top_5_words_tfidf  \\\n",
       "264  [(handkerchief, 0.24678087995418604), (pair, 0...   \n",
       "76   [(giless, 0.2829950927892045), (cripplegate, 0...   \n",
       "99   [(chair, 0.2540785345847826), (cane, 0.3206741...   \n",
       "56   [(clements, 0.24462958688630737), (dane, 0.267...   \n",
       "0    [(confest, 0.19723911748724512), (depose, 0.21...   \n",
       "\n",
       "                                               doc2vec  \n",
       "264  [-0.27726516, 0.14446229, -0.7846294, 0.946607...  \n",
       "76   [-0.048283905, 0.04989565, -0.04383657, 0.0590...  \n",
       "99   [-0.054091346, 0.1674503, -0.16330098, 0.13334...  \n",
       "56   [-0.17040512, 0.397113, -0.40952003, 0.1877905...  \n",
       "0    [0.46941298, 0.107829146, 0.05696239, -0.23876...  "
      ]
     },
     "execution_count": 85,
     "metadata": {},
     "output_type": "execute_result"
    }
   ],
   "source": [
    "# we want indexes of top 5 most similar documents\n",
    "# we can use argsort\n",
    "# let's see what we have\n",
    "top_5_similar = np.argsort(cosine_similarities)[0][-5:] # note 0 is because we have double brackets\n",
    "# let's see what we have\n",
    "print(top_5_similar)\n",
    "# good news is that 0 is the first document so it makes sense for it to be most similar to itself\n",
    "# let's print the rest of the documents\n",
    "df.iloc[top_5_similar]\n",
    "\n",
    "# we still have to make some decisions about how to use these embeddings\n",
    "# there will be need for human judgement on how to use them\n",
    "# at a brief glance it looks like we have some documents that some similarities lie in gender of the defendant\n",
    "# also these documents seem early in our corpus - which make sense as language changes over time\n",
    "\n",
    "# there are many more things we can do with embeddings"
   ]
  },
  {
   "cell_type": "markdown",
   "metadata": {},
   "source": [
    "## Further discussion\n",
    "\n",
    "There are other ways to build embeddings, such as GloVe and FastText. We will not cover them here, but they are worth looking into.\n",
    "\n",
    "There are also below word embeddings which do their own tokenization.\n",
    "\n",
    "for example Byte Level BPE (BBPE) and WordPiece (WP) tokenization.\n",
    "\n",
    "## References\n",
    "\n",
    "https://www.kaggle.com/pierremegret/gensim-word2vec-tutorial\n",
    "Official gensim docs:\n",
    "https://radimrehurek.com/gensim/auto_examples/index.html"
   ]
  },
  {
   "cell_type": "markdown",
   "metadata": {},
   "source": [
    "## Tasks for tomorrow\n",
    "\n",
    "What type of dataset do you want to use?\n",
    "What type of embeddings do you want to build? What type of model do you want to use? \n",
    "What type of evaluation do you want to use?\n",
    "\n",
    "Tomorrow in the first part we will do some topic modelling using LDA - Latent Dirichlet Allocation and extra visualisations."
   ]
  }
 ],
 "metadata": {
  "kernelspec": {
   "display_name": "venv",
   "language": "python",
   "name": "python3"
  },
  "language_info": {
   "codemirror_mode": {
    "name": "ipython",
    "version": 3
   },
   "file_extension": ".py",
   "mimetype": "text/x-python",
   "name": "python",
   "nbconvert_exporter": "python",
   "pygments_lexer": "ipython3",
   "version": "3.12.3"
  },
  "orig_nbformat": 4
 },
 "nbformat": 4,
 "nbformat_minor": 2
}
