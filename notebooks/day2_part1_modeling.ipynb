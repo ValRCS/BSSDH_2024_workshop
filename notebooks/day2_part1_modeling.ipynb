{
 "cells": [
  {
   "cell_type": "markdown",
   "metadata": {},
   "source": [
    "# Building models \n",
    "\n",
    "Now that we've created some embeddings, we can use them to build models. We'll start with a k-means clustering model. We'll use the embeddings to cluster the data into 10 clusters. We'll then use the cluster assignments to create a new feature for each data point. We'll then use this new feature to train a logistic regression model to predict the target variable.\n",
    "\n",
    "Time allowing we will build a Latent Dirichlet Allocation (LDA) model. LDA is a topic modeling technique that is often used to discover topics in text data. "
   ]
  },
  {
   "cell_type": "markdown",
   "metadata": {},
   "source": [
    "## Clustering\n",
    "\n",
    "Clustering is an unsupervised learning technique that groups data points into clusters based on their similarity. The similarity is measured using a distance metric. The most common distance metric is Euclidean distance. The goal of clustering is to group data points that are similar to each other into the same cluster.\n",
    "\n",
    "### Uses of clustering\n",
    "\n",
    "Clustering leaves room for interpretation. There is no right or wrong answer. This makes clustering useful for exploratory data analysis. Clustering can help us understand the structure of the data. It can help us identify outliers. It can help us identify groups of similar data points. It can help us identify groups of dissimilar data points. It can help us identify groups of data points that are similar to each other but dissimilar to data points in other groups.\n",
    "\n",
    "As far as text analysis goes, clustering can help us identify groups of similar documents. Then we as human curators can label the clusters. This can help us understand the structure of the corpus. It can help us identify outliers. It can help us identify groups of similar documents. It can help us identify groups of dissimilar documents. It can help us identify groups of documents that are similar to each other but dissimilar to documents in other groups.\n",
    "\n",
    "### k-means clustering\n",
    "\n",
    "The most common clustering algorithm is k-means clustering. The algorithm works as follows:\n",
    "\n",
    "1. Randomly initialize k cluster centroids\n",
    "2. Assign each data point to the cluster whose centroid is closest to it\n",
    "3. Recompute the cluster centroids\n",
    "4. Repeat steps 2 and 3 until the cluster assignments stop changing\n",
    "\n",
    "There are some edge cases that can cause the algorithm to fail to converge. For example, if a cluster ends up with no data points assigned to it, then the centroid of that cluster will be undefined. In this case, the algorithm will fail to converge. To avoid this, we can use a modified version of the algorithm that allows for empty clusters. This modified version of the algorithm is called k-means++.\n",
    "\n",
    "More about k-means: https://en.wikipedia.org/wiki/K-means_clustering\n",
    "\n",
    "### k-means in practice\n",
    "\n",
    "We do not have to implement the k-means algorithm ourselves. We can use the implementation provided by scikit-learn. The scikit-learn implementation of k-means uses the k-means++ initialization method by default."
   ]
  },
  {
   "cell_type": "markdown",
   "metadata": {},
   "source": [
    "### Various Clustering Algorithms on Scikit-Learn\n",
    "\n",
    "![Clustering Algorithms](https://scikit-learn.org/stable/_images/sphx_glr_plot_cluster_comparison_001.png)"
   ]
  },
  {
   "cell_type": "code",
   "execution_count": 3,
   "metadata": {},
   "outputs": [
    {
     "name": "stdout",
     "output_type": "stream",
     "text": [
      "Python 3.12.3 (tags/v3.12.3:f6650f9, Apr  9 2024, 14:05:25) [MSC v.1938 64 bit (AMD64)]\n",
      "Pandas 2.2.2\n",
      "Scikit-learn 1.5.0\n",
      "Gensim 4.3.3\n"
     ]
    }
   ],
   "source": [
    "# Building models from our embeddings\n",
    "\n",
    "# As before we will be using Path for our file work\n",
    "\n",
    "# python version\n",
    "import sys\n",
    "print(\"Python\", sys.version)\n",
    "\n",
    "from pathlib import Path\n",
    "\n",
    "# we will be using pandas for our dataframes\n",
    "import pandas as pd\n",
    "# version\n",
    "print(\"Pandas\", pd.__version__)\n",
    "\n",
    "# we will want to use scikit-learn clustering algorithms for our models\n",
    "# import sklearn # sklearn is a bit library so better idea would be to import specific modules\n",
    "from sklearn.cluster import KMeans # KMeans is a clustering algorithm\n",
    "# sklearn version\n",
    "from sklearn import __version__ as sklearn_version # we can import just a single variable and rename it\n",
    "print(\"Scikit-learn\", sklearn_version)\n",
    "\n",
    "# we will also want to use gensim for LDAModel\n",
    "import gensim # gensim is also pretty big so we could have imported specific modules\n",
    "# gensim version\n",
    "print(\"Gensim\", gensim.__version__)\n"
   ]
  },
  {
   "cell_type": "code",
   "execution_count": 1,
   "metadata": {},
   "outputs": [
    {
     "name": "stdout",
     "output_type": "stream",
     "text": [
      "Will import data from https://github.com/ValRCS/BSSDH_2023_workshop/raw/main/data/old_bailey_sample_1720_1913_cleaned_embeddings.pkl\n"
     ]
    }
   ],
   "source": [
    "# url for our data in a pickle format on our repository\n",
    "url = \"https://github.com/ValRCS/BSSDH_2023_workshop/raw/main/data/old_bailey_sample_1720_1913_cleaned_embeddings.pkl\"\n",
    "print(\"Will import data from\", url)"
   ]
  },
  {
   "cell_type": "code",
   "execution_count": 4,
   "metadata": {},
   "outputs": [
    {
     "name": "stdout",
     "output_type": "stream",
     "text": [
      "Dataframe shape (1637, 13)\n"
     ]
    },
    {
     "data": {
      "text/html": [
       "<div>\n",
       "<style scoped>\n",
       "    .dataframe tbody tr th:only-of-type {\n",
       "        vertical-align: middle;\n",
       "    }\n",
       "\n",
       "    .dataframe tbody tr th {\n",
       "        vertical-align: top;\n",
       "    }\n",
       "\n",
       "    .dataframe thead th {\n",
       "        text-align: right;\n",
       "    }\n",
       "</style>\n",
       "<table border=\"1\" class=\"dataframe\">\n",
       "  <thead>\n",
       "    <tr style=\"text-align: right;\">\n",
       "      <th></th>\n",
       "      <th>year</th>\n",
       "      <th>trial_number</th>\n",
       "      <th>punishment</th>\n",
       "      <th>text</th>\n",
       "      <th>dirty_len</th>\n",
       "      <th>clean_len</th>\n",
       "      <th>words</th>\n",
       "      <th>word_count</th>\n",
       "      <th>word_count_cleaned</th>\n",
       "      <th>words_lemmatized</th>\n",
       "      <th>word_count_cleaned_no_digits</th>\n",
       "      <th>top_5_words_tfidf</th>\n",
       "      <th>doc2vec</th>\n",
       "    </tr>\n",
       "  </thead>\n",
       "  <tbody>\n",
       "    <tr>\n",
       "      <th>0</th>\n",
       "      <td>1720</td>\n",
       "      <td>1</td>\n",
       "      <td>Transportation</td>\n",
       "      <td>of st leonard eastcheap was indicted for felon...</td>\n",
       "      <td>705</td>\n",
       "      <td>684</td>\n",
       "      <td>[st, leonard, eastcheap, indicted, feloniously...</td>\n",
       "      <td>129</td>\n",
       "      <td>66</td>\n",
       "      <td>[st, leonard, eastcheap, indict, feloniously, ...</td>\n",
       "      <td>60</td>\n",
       "      <td>[(confest, 0.1972391174872452), (depose, 0.215...</td>\n",
       "      <td>[0.5782519, -0.7623888, 0.6419972, -0.01352496...</td>\n",
       "    </tr>\n",
       "    <tr>\n",
       "      <th>1</th>\n",
       "      <td>1720</td>\n",
       "      <td>2</td>\n",
       "      <td>Transportation</td>\n",
       "      <td>alice jones of st michaels cornhill was indict...</td>\n",
       "      <td>1087</td>\n",
       "      <td>1053</td>\n",
       "      <td>[alice, jones, st, michaels, cornhill, indicte...</td>\n",
       "      <td>200</td>\n",
       "      <td>87</td>\n",
       "      <td>[alice, jones, st, michaels, cornhill, indict,...</td>\n",
       "      <td>82</td>\n",
       "      <td>[(shop, 0.18964859164396325), (bermundas, 0.19...</td>\n",
       "      <td>[0.539647, 0.2990364, 0.90089196, 0.06318843, ...</td>\n",
       "    </tr>\n",
       "    <tr>\n",
       "      <th>2</th>\n",
       "      <td>1720</td>\n",
       "      <td>3</td>\n",
       "      <td>Transportation</td>\n",
       "      <td>james wilson of st katharine coleman was indic...</td>\n",
       "      <td>904</td>\n",
       "      <td>883</td>\n",
       "      <td>[james, wilson, st, katharine, coleman, indict...</td>\n",
       "      <td>177</td>\n",
       "      <td>79</td>\n",
       "      <td>[james, wilson, st, katharine, coleman, indict...</td>\n",
       "      <td>71</td>\n",
       "      <td>[(hung, 0.21832648950390215), (deposed, 0.2419...</td>\n",
       "      <td>[0.46213368, -0.7192513, 1.1036029, 0.02122612...</td>\n",
       "    </tr>\n",
       "    <tr>\n",
       "      <th>3</th>\n",
       "      <td>1720</td>\n",
       "      <td>4</td>\n",
       "      <td>Transportation</td>\n",
       "      <td>james mercy alias masse of st andrew undershaf...</td>\n",
       "      <td>804</td>\n",
       "      <td>778</td>\n",
       "      <td>[james, mercy, alias, masse, st, andrew, under...</td>\n",
       "      <td>143</td>\n",
       "      <td>67</td>\n",
       "      <td>[james, mercy, alias, masse, st, andrew, under...</td>\n",
       "      <td>64</td>\n",
       "      <td>[(undershaft, 0.2126517359898944), (lockt, 0.2...</td>\n",
       "      <td>[-0.18796237, -0.011926579, 0.8681372, -0.6687...</td>\n",
       "    </tr>\n",
       "    <tr>\n",
       "      <th>4</th>\n",
       "      <td>1720</td>\n",
       "      <td>5</td>\n",
       "      <td>Transportation</td>\n",
       "      <td>benjamin cook alias richard smith of st mary a...</td>\n",
       "      <td>483</td>\n",
       "      <td>466</td>\n",
       "      <td>[benjamin, cook, alias, richard, smith, st, ma...</td>\n",
       "      <td>88</td>\n",
       "      <td>46</td>\n",
       "      <td>[benjamin, cook, alias, richard, smith, st, ma...</td>\n",
       "      <td>43</td>\n",
       "      <td>[(stopt, 0.23416420335477436), (abchurch, 0.26...</td>\n",
       "      <td>[0.13697092, 0.5740971, 0.84388906, -0.2005741...</td>\n",
       "    </tr>\n",
       "  </tbody>\n",
       "</table>\n",
       "</div>"
      ],
      "text/plain": [
       "   year  trial_number      punishment  \\\n",
       "0  1720             1  Transportation   \n",
       "1  1720             2  Transportation   \n",
       "2  1720             3  Transportation   \n",
       "3  1720             4  Transportation   \n",
       "4  1720             5  Transportation   \n",
       "\n",
       "                                                text  dirty_len  clean_len  \\\n",
       "0  of st leonard eastcheap was indicted for felon...        705        684   \n",
       "1  alice jones of st michaels cornhill was indict...       1087       1053   \n",
       "2  james wilson of st katharine coleman was indic...        904        883   \n",
       "3  james mercy alias masse of st andrew undershaf...        804        778   \n",
       "4  benjamin cook alias richard smith of st mary a...        483        466   \n",
       "\n",
       "                                               words  word_count  \\\n",
       "0  [st, leonard, eastcheap, indicted, feloniously...         129   \n",
       "1  [alice, jones, st, michaels, cornhill, indicte...         200   \n",
       "2  [james, wilson, st, katharine, coleman, indict...         177   \n",
       "3  [james, mercy, alias, masse, st, andrew, under...         143   \n",
       "4  [benjamin, cook, alias, richard, smith, st, ma...          88   \n",
       "\n",
       "   word_count_cleaned                                   words_lemmatized  \\\n",
       "0                  66  [st, leonard, eastcheap, indict, feloniously, ...   \n",
       "1                  87  [alice, jones, st, michaels, cornhill, indict,...   \n",
       "2                  79  [james, wilson, st, katharine, coleman, indict...   \n",
       "3                  67  [james, mercy, alias, masse, st, andrew, under...   \n",
       "4                  46  [benjamin, cook, alias, richard, smith, st, ma...   \n",
       "\n",
       "   word_count_cleaned_no_digits  \\\n",
       "0                            60   \n",
       "1                            82   \n",
       "2                            71   \n",
       "3                            64   \n",
       "4                            43   \n",
       "\n",
       "                                   top_5_words_tfidf  \\\n",
       "0  [(confest, 0.1972391174872452), (depose, 0.215...   \n",
       "1  [(shop, 0.18964859164396325), (bermundas, 0.19...   \n",
       "2  [(hung, 0.21832648950390215), (deposed, 0.2419...   \n",
       "3  [(undershaft, 0.2126517359898944), (lockt, 0.2...   \n",
       "4  [(stopt, 0.23416420335477436), (abchurch, 0.26...   \n",
       "\n",
       "                                             doc2vec  \n",
       "0  [0.5782519, -0.7623888, 0.6419972, -0.01352496...  \n",
       "1  [0.539647, 0.2990364, 0.90089196, 0.06318843, ...  \n",
       "2  [0.46213368, -0.7192513, 1.1036029, 0.02122612...  \n",
       "3  [-0.18796237, -0.011926579, 0.8681372, -0.6687...  \n",
       "4  [0.13697092, 0.5740971, 0.84388906, -0.2005741...  "
      ]
     },
     "execution_count": 4,
     "metadata": {},
     "output_type": "execute_result"
    }
   ],
   "source": [
    "# lets import our data into a dataframe\n",
    "df = pd.read_pickle(url, compression='zip') # we need to specify compression as zip else we will get an error for load unpickling\n",
    "# so your pickle might not have been compressed then you do not need to specify compression\n",
    "# shape of our dataframe\n",
    "print(\"Dataframe shape\", df.shape)\n",
    "# lets see first 5 rows\n",
    "df.head()\n",
    "# whew we are back in business!"
   ]
  },
  {
   "cell_type": "code",
   "execution_count": 5,
   "metadata": {},
   "outputs": [
    {
     "name": "stdout",
     "output_type": "stream",
     "text": [
      "Number of values in doc2vec column for first row 50\n"
     ]
    }
   ],
   "source": [
    "# let's print how many values are in doc2vec column for single row\n",
    "print(\"Number of values in doc2vec column for first row\", len(df.doc2vec[0]))"
   ]
  },
  {
   "cell_type": "code",
   "execution_count": 6,
   "metadata": {},
   "outputs": [
    {
     "name": "stdout",
     "output_type": "stream",
     "text": [
      "Range of values in doc2vec column for first row -1.173319 1.5427929\n"
     ]
    }
   ],
   "source": [
    "# what is range of values in doc2vec column for first row\n",
    "print(\"Range of values in doc2vec column for first row\", min(df.doc2vec[0]), max(df.doc2vec[0]))"
   ]
  },
  {
   "cell_type": "code",
   "execution_count": 7,
   "metadata": {},
   "outputs": [
    {
     "name": "stdout",
     "output_type": "stream",
     "text": [
      "Range of values across all rows for doc2vec column 50 50\n"
     ]
    }
   ],
   "source": [
    "# what is range of values across all rows for values inside doc2vec column?\n",
    "\n",
    "print(\"Range of values across all rows for doc2vec column\", df.doc2vec.apply(lambda x: len(x)).min(), df.doc2vec.apply(lambda x: len(x)).max())\n",
    "# not quite what we want but it is good to know we have 50 values in each column of doc2vec for each row"
   ]
  },
  {
   "cell_type": "code",
   "execution_count": 8,
   "metadata": {},
   "outputs": [
    {
     "name": "stdout",
     "output_type": "stream",
     "text": [
      "Numpy 1.26.4\n",
      "Number of values in our list 81850\n",
      "SHould be same as 1637 * 50  81850\n"
     ]
    },
    {
     "data": {
      "text/plain": [
       "count    81850.000000\n",
       "mean        -0.041636\n",
       "std          1.287664\n",
       "min        -14.923249\n",
       "25%         -0.525724\n",
       "50%         -0.036388\n",
       "75%          0.450801\n",
       "max         17.326731\n",
       "dtype: float64"
      ]
     },
     "execution_count": 8,
     "metadata": {},
     "output_type": "execute_result"
    }
   ],
   "source": [
    "# what we want is figure out min and max values for values inside list of doc2vec column\n",
    "\n",
    "# easiest would be to create a big list of all values in doc2vec column and then find min and max values\n",
    "# we can use list comprehension for that\n",
    "# we will use numpy for min and max functions\n",
    "\n",
    "import numpy as np\n",
    "# version\n",
    "print(\"Numpy\", np.__version__)\n",
    "\n",
    "# one way to flatten our list of lists:\n",
    "all_doc2vec_values = [value for row in df.doc2vec for value in row] # this trick is due to https://stackoverflow.com/questions/952914/how-to-make-a-flat-list-out-of-list-of-lists\n",
    "# provided by Python guru Alex Martelli - author of some nice Python books\n",
    "# it looks the wrong way around but it works\n",
    "# there are other ways to flatten a list of lists but this is one of the fastest\n",
    "\n",
    "# how many values we have in our list\n",
    "print(\"Number of values in our list\", len(all_doc2vec_values))\n",
    "print(\"SHould be same as 1637 * 50 \", 1637 * 50)\n",
    "\n",
    "\n",
    "# let's convert list to pandas series and get some statistics\n",
    "all_doc2vec_values_series = pd.Series(all_doc2vec_values)\n",
    "# let's get some statistics\n",
    "all_doc2vec_values_series.describe()\n",
    "# so it looks like a nice centered distribution with standard deviation or araound 1.28\n"
   ]
  },
  {
   "cell_type": "code",
   "execution_count": 9,
   "metadata": {},
   "outputs": [
    {
     "name": "stdout",
     "output_type": "stream",
     "text": [
      "Seaborn 0.13.2\n"
     ]
    },
    {
     "data": {
      "text/plain": [
       "<Axes: ylabel='Count'>"
      ]
     },
     "execution_count": 9,
     "metadata": {},
     "output_type": "execute_result"
    },
    {
     "data": {
      "image/png": "[encoded data removed]",
      "text/plain": [
       "<Figure size 640x480 with 1 Axes>"
      ]
     },
     "metadata": {},
     "output_type": "display_data"
    }
   ],
   "source": [
    "# let's plot the distribution of our values\n",
    "import matplotlib.pyplot as plt\n",
    "# we will use seaborn for plotting\n",
    "import seaborn as sns\n",
    "# seaborn version\n",
    "print(\"Seaborn\", sns.__version__)\n",
    "# let's plot a histogram of our values\n",
    "sns.histplot(all_doc2vec_values_series)\n"
   ]
  },
  {
   "cell_type": "markdown",
   "metadata": {},
   "source": [
    "### Normal distribution\n",
    "\n",
    "Now that certainly looks like a normal distribution - also known as Gaussian distribution.\n",
    "\n",
    "Link on wikipedia: https://en.wikipedia.org/wiki/Normal_distribution\n",
    "\n",
    "![Normal](https://upload.wikimedia.org/wikipedia/commons/thumb/8/8c/Standard_deviation_diagram.svg/525px-Standard_deviation_diagram.svg.png)\n",
    "\n",
    "We would have to read the paper behind word2vec and doc2vec to see how this type of distribution was achieved.\n",
    "\n",
    "Now for each document the values will not be as smooth which is good because we want to see the differences between documents."
   ]
  },
  {
   "cell_type": "markdown",
   "metadata": {},
   "source": [
    "## Building k-means clustering model"
   ]
  },
  {
   "cell_type": "code",
   "execution_count": 10,
   "metadata": {},
   "outputs": [
    {
     "name": "stdout",
     "output_type": "stream",
     "text": [
      "Dimensions of our numpy array (1637,)\n"
     ]
    }
   ],
   "source": [
    "# but enough playing around, let's build our kmeans model\n",
    "\n",
    "# we will use KMeans from sklearn\n",
    "# we will start with 5 clusters\n",
    "# we will use random_state=42 for reproducibility\n",
    "\n",
    "kmeans_model = KMeans(n_clusters=5, random_state=42)\n",
    "# our features will be doc2vec column\n",
    "\n",
    "# we can pass in numpy array or pandas dataframe\n",
    "# we will pass in numpy array\n",
    "\n",
    "# let's print dimensions of our numpy array\n",
    "X = df.doc2vec.to_numpy() # it is very common to use X for features\n",
    "# why X it indicates a matrix of features, so generally a 2D array\n",
    "print(\"Dimensions of our numpy array\", X.shape)\n",
    "\n",
    " # kmeans model expects numpy array of dimensions (n_samples, n_features)"
   ]
  },
  {
   "cell_type": "code",
   "execution_count": 11,
   "metadata": {},
   "outputs": [
    {
     "name": "stdout",
     "output_type": "stream",
     "text": [
      "First row of our numpy array [ 0.5782519  -0.7623888   0.6419972  -0.01352497 -0.02889981  0.33993718\n",
      "  0.5432642  -0.79231936 -0.17276347  0.2894747  -0.1814085  -1.173319\n",
      " -0.6315174  -0.39531848 -0.8824809   0.44549268 -0.00762038 -0.2669511\n",
      "  0.2836903   0.31825238 -0.46722114 -0.12032476  1.5427929  -0.16820197\n",
      " -0.5314884  -1.1173726  -0.06433648 -1.0612508   0.8740516   0.24408202\n",
      "  0.44927603 -0.25962996 -0.23105077  0.64783835  0.34015447  0.6314114\n",
      "  0.5084683  -0.12150066 -0.8327542  -0.24457273  0.46525353 -0.43322456\n",
      "  0.48058265 -0.8931239  -0.274334   -0.0263922   0.47523484 -0.10395955\n",
      "  0.0836495   0.5372703 ]\n"
     ]
    }
   ],
   "source": [
    "# we got one dimension right, but we need to reshape our array to have 50 features\n",
    "# let's check out first row\n",
    "print(\"First row of our numpy array\", X[0])\n",
    "# that certainly looks like 50 features "
   ]
  },
  {
   "cell_type": "code",
   "execution_count": 12,
   "metadata": {},
   "outputs": [
    {
     "name": "stdout",
     "output_type": "stream",
     "text": [
      "Type of our numpy array <class 'numpy.ndarray'>\n",
      "Type of our numpy array <class 'numpy.ndarray'>\n",
      "Type of our first value <class 'numpy.float32'>\n",
      "First value of first value 0.5782519\n",
      "Last value of first value 0.5372703\n"
     ]
    }
   ],
   "source": [
    "# what type is it though>?\n",
    "print(\"Type of our numpy array\", type(X))\n",
    "print(\"Type of our numpy array\", type(X[0]))\n",
    "# how about first value\n",
    "print(\"Type of our first value\", type(X[0][0]))\n",
    "# print first value of first value\n",
    "print(\"First value of first value\", X[0][0])\n",
    "# print last value of first value\n",
    "print(\"Last value of first value\", X[0][-1])\n",
    "# so we can certainly access values in our numpy array as if it was a list of lists\n",
    "# for some reason shape is not showing 50 features"
   ]
  },
  {
   "cell_type": "code",
   "execution_count": 13,
   "metadata": {},
   "outputs": [
    {
     "name": "stdout",
     "output_type": "stream",
     "text": [
      "First row of our list of lists [0.5782519, -0.7623888, 0.6419972, -0.013524966, -0.028899806, 0.33993718, 0.5432642, -0.79231936, -0.17276347, 0.2894747, -0.1814085, -1.173319, -0.6315174, -0.39531848, -0.8824809, 0.44549268, -0.007620384, -0.2669511, 0.2836903, 0.31825238, -0.46722114, -0.12032476, 1.5427929, -0.16820197, -0.5314884, -1.1173726, -0.06433648, -1.0612508, 0.8740516, 0.24408202, 0.44927603, -0.25962996, -0.23105077, 0.64783835, 0.34015447, 0.6314114, 0.5084683, -0.12150066, -0.8327542, -0.24457273, 0.46525353, -0.43322456, 0.48058265, -0.8931239, -0.274334, -0.026392203, 0.47523484, -0.103959545, 0.0836495, 0.5372703]\n"
     ]
    }
   ],
   "source": [
    "# for the time being we will convert it to list of lists which is much less efficient but easier to work with\n",
    "X_list = df.doc2vec.apply(lambda x: list(x)).to_list()\n",
    "# let's check out first row\n",
    "print(\"First row of our list of lists\", X_list[0])"
   ]
  },
  {
   "cell_type": "code",
   "execution_count": 14,
   "metadata": {},
   "outputs": [
    {
     "data": {
      "text/html": [
       "<style>#sk-container-id-1 {\n",
       "  /* Definition of color scheme common for light and dark mode */\n",
       "  --sklearn-color-text: black;\n",
       "  --sklearn-color-line: gray;\n",
       "  /* Definition of color scheme for unfitted estimators */\n",
       "  --sklearn-color-unfitted-level-0: #fff5e6;\n",
       "  --sklearn-color-unfitted-level-1: #f6e4d2;\n",
       "  --sklearn-color-unfitted-level-2: #ffe0b3;\n",
       "  --sklearn-color-unfitted-level-3: chocolate;\n",
       "  /* Definition of color scheme for fitted estimators */\n",
       "  --sklearn-color-fitted-level-0: #f0f8ff;\n",
       "  --sklearn-color-fitted-level-1: #d4ebff;\n",
       "  --sklearn-color-fitted-level-2: #b3dbfd;\n",
       "  --sklearn-color-fitted-level-3: cornflowerblue;\n",
       "\n",
       "  /* Specific color for light theme */\n",
       "  --sklearn-color-text-on-default-background: var(--sg-text-color, var(--theme-code-foreground, var(--jp-content-font-color1, black)));\n",
       "  --sklearn-color-background: var(--sg-background-color, var(--theme-background, var(--jp-layout-color0, white)));\n",
       "  --sklearn-color-border-box: var(--sg-text-color, var(--theme-code-foreground, var(--jp-content-font-color1, black)));\n",
       "  --sklearn-color-icon: #696969;\n",
       "\n",
       "  @media (prefers-color-scheme: dark) {\n",
       "    /* Redefinition of color scheme for dark theme */\n",
       "    --sklearn-color-text-on-default-background: var(--sg-text-color, var(--theme-code-foreground, var(--jp-content-font-color1, white)));\n",
       "    --sklearn-color-background: var(--sg-background-color, var(--theme-background, var(--jp-layout-color0, #111)));\n",
       "    --sklearn-color-border-box: var(--sg-text-color, var(--theme-code-foreground, var(--jp-content-font-color1, white)));\n",
       "    --sklearn-color-icon: #878787;\n",
       "  }\n",
       "}\n",
       "\n",
       "#sk-container-id-1 {\n",
       "  color: var(--sklearn-color-text);\n",
       "}\n",
       "\n",
       "#sk-container-id-1 pre {\n",
       "  padding: 0;\n",
       "}\n",
       "\n",
       "#sk-container-id-1 input.sk-hidden--visually {\n",
       "  border: 0;\n",
       "  clip: rect(1px 1px 1px 1px);\n",
       "  clip: rect(1px, 1px, 1px, 1px);\n",
       "  height: 1px;\n",
       "  margin: -1px;\n",
       "  overflow: hidden;\n",
       "  padding: 0;\n",
       "  position: absolute;\n",
       "  width: 1px;\n",
       "}\n",
       "\n",
       "#sk-container-id-1 div.sk-dashed-wrapped {\n",
       "  border: 1px dashed var(--sklearn-color-line);\n",
       "  margin: 0 0.4em 0.5em 0.4em;\n",
       "  box-sizing: border-box;\n",
       "  padding-bottom: 0.4em;\n",
       "  background-color: var(--sklearn-color-background);\n",
       "}\n",
       "\n",
       "#sk-container-id-1 div.sk-container {\n",
       "  /* jupyter's `normalize.less` sets `[hidden] { display: none; }`\n",
       "     but bootstrap.min.css set `[hidden] { display: none !important; }`\n",
       "     so we also need the `!important` here to be able to override the\n",
       "     default hidden behavior on the sphinx rendered scikit-learn.org.\n",
       "     See: https://github.com/scikit-learn/scikit-learn/issues/21755 */\n",
       "  display: inline-block !important;\n",
       "  position: relative;\n",
       "}\n",
       "\n",
       "#sk-container-id-1 div.sk-text-repr-fallback {\n",
       "  display: none;\n",
       "}\n",
       "\n",
       "div.sk-parallel-item,\n",
       "div.sk-serial,\n",
       "div.sk-item {\n",
       "  /* draw centered vertical line to link estimators */\n",
       "  background-image: linear-gradient(var(--sklearn-color-text-on-default-background), var(--sklearn-color-text-on-default-background));\n",
       "  background-size: 2px 100%;\n",
       "  background-repeat: no-repeat;\n",
       "  background-position: center center;\n",
       "}\n",
       "\n",
       "/* Parallel-specific style estimator block */\n",
       "\n",
       "#sk-container-id-1 div.sk-parallel-item::after {\n",
       "  content: \"\";\n",
       "  width: 100%;\n",
       "  border-bottom: 2px solid var(--sklearn-color-text-on-default-background);\n",
       "  flex-grow: 1;\n",
       "}\n",
       "\n",
       "#sk-container-id-1 div.sk-parallel {\n",
       "  display: flex;\n",
       "  align-items: stretch;\n",
       "  justify-content: center;\n",
       "  background-color: var(--sklearn-color-background);\n",
       "  position: relative;\n",
       "}\n",
       "\n",
       "#sk-container-id-1 div.sk-parallel-item {\n",
       "  display: flex;\n",
       "  flex-direction: column;\n",
       "}\n",
       "\n",
       "#sk-container-id-1 div.sk-parallel-item:first-child::after {\n",
       "  align-self: flex-end;\n",
       "  width: 50%;\n",
       "}\n",
       "\n",
       "#sk-container-id-1 div.sk-parallel-item:last-child::after {\n",
       "  align-self: flex-start;\n",
       "  width: 50%;\n",
       "}\n",
       "\n",
       "#sk-container-id-1 div.sk-parallel-item:only-child::after {\n",
       "  width: 0;\n",
       "}\n",
       "\n",
       "/* Serial-specific style estimator block */\n",
       "\n",
       "#sk-container-id-1 div.sk-serial {\n",
       "  display: flex;\n",
       "  flex-direction: column;\n",
       "  align-items: center;\n",
       "  background-color: var(--sklearn-color-background);\n",
       "  padding-right: 1em;\n",
       "  padding-left: 1em;\n",
       "}\n",
       "\n",
       "\n",
       "/* Toggleable style: style used for estimator/Pipeline/ColumnTransformer box that is\n",
       "clickable and can be expanded/collapsed.\n",
       "- Pipeline and ColumnTransformer use this feature and define the default style\n",
       "- Estimators will overwrite some part of the style using the `sk-estimator` class\n",
       "*/\n",
       "\n",
       "/* Pipeline and ColumnTransformer style (default) */\n",
       "\n",
       "#sk-container-id-1 div.sk-toggleable {\n",
       "  /* Default theme specific background. It is overwritten whether we have a\n",
       "  specific estimator or a Pipeline/ColumnTransformer */\n",
       "  background-color: var(--sklearn-color-background);\n",
       "}\n",
       "\n",
       "/* Toggleable label */\n",
       "#sk-container-id-1 label.sk-toggleable__label {\n",
       "  cursor: pointer;\n",
       "  display: block;\n",
       "  width: 100%;\n",
       "  margin-bottom: 0;\n",
       "  padding: 0.5em;\n",
       "  box-sizing: border-box;\n",
       "  text-align: center;\n",
       "}\n",
       "\n",
       "#sk-container-id-1 label.sk-toggleable__label-arrow:before {\n",
       "  /* Arrow on the left of the label */\n",
       "  content: \"▸\";\n",
       "  float: left;\n",
       "  margin-right: 0.25em;\n",
       "  color: var(--sklearn-color-icon);\n",
       "}\n",
       "\n",
       "#sk-container-id-1 label.sk-toggleable__label-arrow:hover:before {\n",
       "  color: var(--sklearn-color-text);\n",
       "}\n",
       "\n",
       "/* Toggleable content - dropdown */\n",
       "\n",
       "#sk-container-id-1 div.sk-toggleable__content {\n",
       "  max-height: 0;\n",
       "  max-width: 0;\n",
       "  overflow: hidden;\n",
       "  text-align: left;\n",
       "  /* unfitted */\n",
       "  background-color: var(--sklearn-color-unfitted-level-0);\n",
       "}\n",
       "\n",
       "#sk-container-id-1 div.sk-toggleable__content.fitted {\n",
       "  /* fitted */\n",
       "  background-color: var(--sklearn-color-fitted-level-0);\n",
       "}\n",
       "\n",
       "#sk-container-id-1 div.sk-toggleable__content pre {\n",
       "  margin: 0.2em;\n",
       "  border-radius: 0.25em;\n",
       "  color: var(--sklearn-color-text);\n",
       "  /* unfitted */\n",
       "  background-color: var(--sklearn-color-unfitted-level-0);\n",
       "}\n",
       "\n",
       "#sk-container-id-1 div.sk-toggleable__content.fitted pre {\n",
       "  /* unfitted */\n",
       "  background-color: var(--sklearn-color-fitted-level-0);\n",
       "}\n",
       "\n",
       "#sk-container-id-1 input.sk-toggleable__control:checked~div.sk-toggleable__content {\n",
       "  /* Expand drop-down */\n",
       "  max-height: 200px;\n",
       "  max-width: 100%;\n",
       "  overflow: auto;\n",
       "}\n",
       "\n",
       "#sk-container-id-1 input.sk-toggleable__control:checked~label.sk-toggleable__label-arrow:before {\n",
       "  content: \"▾\";\n",
       "}\n",
       "\n",
       "/* Pipeline/ColumnTransformer-specific style */\n",
       "\n",
       "#sk-container-id-1 div.sk-label input.sk-toggleable__control:checked~label.sk-toggleable__label {\n",
       "  color: var(--sklearn-color-text);\n",
       "  background-color: var(--sklearn-color-unfitted-level-2);\n",
       "}\n",
       "\n",
       "#sk-container-id-1 div.sk-label.fitted input.sk-toggleable__control:checked~label.sk-toggleable__label {\n",
       "  background-color: var(--sklearn-color-fitted-level-2);\n",
       "}\n",
       "\n",
       "/* Estimator-specific style */\n",
       "\n",
       "/* Colorize estimator box */\n",
       "#sk-container-id-1 div.sk-estimator input.sk-toggleable__control:checked~label.sk-toggleable__label {\n",
       "  /* unfitted */\n",
       "  background-color: var(--sklearn-color-unfitted-level-2);\n",
       "}\n",
       "\n",
       "#sk-container-id-1 div.sk-estimator.fitted input.sk-toggleable__control:checked~label.sk-toggleable__label {\n",
       "  /* fitted */\n",
       "  background-color: var(--sklearn-color-fitted-level-2);\n",
       "}\n",
       "\n",
       "#sk-container-id-1 div.sk-label label.sk-toggleable__label,\n",
       "#sk-container-id-1 div.sk-label label {\n",
       "  /* The background is the default theme color */\n",
       "  color: var(--sklearn-color-text-on-default-background);\n",
       "}\n",
       "\n",
       "/* On hover, darken the color of the background */\n",
       "#sk-container-id-1 div.sk-label:hover label.sk-toggleable__label {\n",
       "  color: var(--sklearn-color-text);\n",
       "  background-color: var(--sklearn-color-unfitted-level-2);\n",
       "}\n",
       "\n",
       "/* Label box, darken color on hover, fitted */\n",
       "#sk-container-id-1 div.sk-label.fitted:hover label.sk-toggleable__label.fitted {\n",
       "  color: var(--sklearn-color-text);\n",
       "  background-color: var(--sklearn-color-fitted-level-2);\n",
       "}\n",
       "\n",
       "/* Estimator label */\n",
       "\n",
       "#sk-container-id-1 div.sk-label label {\n",
       "  font-family: monospace;\n",
       "  font-weight: bold;\n",
       "  display: inline-block;\n",
       "  line-height: 1.2em;\n",
       "}\n",
       "\n",
       "#sk-container-id-1 div.sk-label-container {\n",
       "  text-align: center;\n",
       "}\n",
       "\n",
       "/* Estimator-specific */\n",
       "#sk-container-id-1 div.sk-estimator {\n",
       "  font-family: monospace;\n",
       "  border: 1px dotted var(--sklearn-color-border-box);\n",
       "  border-radius: 0.25em;\n",
       "  box-sizing: border-box;\n",
       "  margin-bottom: 0.5em;\n",
       "  /* unfitted */\n",
       "  background-color: var(--sklearn-color-unfitted-level-0);\n",
       "}\n",
       "\n",
       "#sk-container-id-1 div.sk-estimator.fitted {\n",
       "  /* fitted */\n",
       "  background-color: var(--sklearn-color-fitted-level-0);\n",
       "}\n",
       "\n",
       "/* on hover */\n",
       "#sk-container-id-1 div.sk-estimator:hover {\n",
       "  /* unfitted */\n",
       "  background-color: var(--sklearn-color-unfitted-level-2);\n",
       "}\n",
       "\n",
       "#sk-container-id-1 div.sk-estimator.fitted:hover {\n",
       "  /* fitted */\n",
       "  background-color: var(--sklearn-color-fitted-level-2);\n",
       "}\n",
       "\n",
       "/* Specification for estimator info (e.g. \"i\" and \"?\") */\n",
       "\n",
       "/* Common style for \"i\" and \"?\" */\n",
       "\n",
       ".sk-estimator-doc-link,\n",
       "a:link.sk-estimator-doc-link,\n",
       "a:visited.sk-estimator-doc-link {\n",
       "  float: right;\n",
       "  font-size: smaller;\n",
       "  line-height: 1em;\n",
       "  font-family: monospace;\n",
       "  background-color: var(--sklearn-color-background);\n",
       "  border-radius: 1em;\n",
       "  height: 1em;\n",
       "  width: 1em;\n",
       "  text-decoration: none !important;\n",
       "  margin-left: 1ex;\n",
       "  /* unfitted */\n",
       "  border: var(--sklearn-color-unfitted-level-1) 1pt solid;\n",
       "  color: var(--sklearn-color-unfitted-level-1);\n",
       "}\n",
       "\n",
       ".sk-estimator-doc-link.fitted,\n",
       "a:link.sk-estimator-doc-link.fitted,\n",
       "a:visited.sk-estimator-doc-link.fitted {\n",
       "  /* fitted */\n",
       "  border: var(--sklearn-color-fitted-level-1) 1pt solid;\n",
       "  color: var(--sklearn-color-fitted-level-1);\n",
       "}\n",
       "\n",
       "/* On hover */\n",
       "div.sk-estimator:hover .sk-estimator-doc-link:hover,\n",
       ".sk-estimator-doc-link:hover,\n",
       "div.sk-label-container:hover .sk-estimator-doc-link:hover,\n",
       ".sk-estimator-doc-link:hover {\n",
       "  /* unfitted */\n",
       "  background-color: var(--sklearn-color-unfitted-level-3);\n",
       "  color: var(--sklearn-color-background);\n",
       "  text-decoration: none;\n",
       "}\n",
       "\n",
       "div.sk-estimator.fitted:hover .sk-estimator-doc-link.fitted:hover,\n",
       ".sk-estimator-doc-link.fitted:hover,\n",
       "div.sk-label-container:hover .sk-estimator-doc-link.fitted:hover,\n",
       ".sk-estimator-doc-link.fitted:hover {\n",
       "  /* fitted */\n",
       "  background-color: var(--sklearn-color-fitted-level-3);\n",
       "  color: var(--sklearn-color-background);\n",
       "  text-decoration: none;\n",
       "}\n",
       "\n",
       "/* Span, style for the box shown on hovering the info icon */\n",
       ".sk-estimator-doc-link span {\n",
       "  display: none;\n",
       "  z-index: 9999;\n",
       "  position: relative;\n",
       "  font-weight: normal;\n",
       "  right: .2ex;\n",
       "  padding: .5ex;\n",
       "  margin: .5ex;\n",
       "  width: min-content;\n",
       "  min-width: 20ex;\n",
       "  max-width: 50ex;\n",
       "  color: var(--sklearn-color-text);\n",
       "  box-shadow: 2pt 2pt 4pt #999;\n",
       "  /* unfitted */\n",
       "  background: var(--sklearn-color-unfitted-level-0);\n",
       "  border: .5pt solid var(--sklearn-color-unfitted-level-3);\n",
       "}\n",
       "\n",
       ".sk-estimator-doc-link.fitted span {\n",
       "  /* fitted */\n",
       "  background: var(--sklearn-color-fitted-level-0);\n",
       "  border: var(--sklearn-color-fitted-level-3);\n",
       "}\n",
       "\n",
       ".sk-estimator-doc-link:hover span {\n",
       "  display: block;\n",
       "}\n",
       "\n",
       "/* \"?\"-specific style due to the `<a>` HTML tag */\n",
       "\n",
       "#sk-container-id-1 a.estimator_doc_link {\n",
       "  float: right;\n",
       "  font-size: 1rem;\n",
       "  line-height: 1em;\n",
       "  font-family: monospace;\n",
       "  background-color: var(--sklearn-color-background);\n",
       "  border-radius: 1rem;\n",
       "  height: 1rem;\n",
       "  width: 1rem;\n",
       "  text-decoration: none;\n",
       "  /* unfitted */\n",
       "  color: var(--sklearn-color-unfitted-level-1);\n",
       "  border: var(--sklearn-color-unfitted-level-1) 1pt solid;\n",
       "}\n",
       "\n",
       "#sk-container-id-1 a.estimator_doc_link.fitted {\n",
       "  /* fitted */\n",
       "  border: var(--sklearn-color-fitted-level-1) 1pt solid;\n",
       "  color: var(--sklearn-color-fitted-level-1);\n",
       "}\n",
       "\n",
       "/* On hover */\n",
       "#sk-container-id-1 a.estimator_doc_link:hover {\n",
       "  /* unfitted */\n",
       "  background-color: var(--sklearn-color-unfitted-level-3);\n",
       "  color: var(--sklearn-color-background);\n",
       "  text-decoration: none;\n",
       "}\n",
       "\n",
       "#sk-container-id-1 a.estimator_doc_link.fitted:hover {\n",
       "  /* fitted */\n",
       "  background-color: var(--sklearn-color-fitted-level-3);\n",
       "}\n",
       "</style><div id=\"sk-container-id-1\" class=\"sk-top-container\"><div class=\"sk-text-repr-fallback\"><pre>KMeans(n_clusters=5, random_state=42)</pre><b>In a Jupyter environment, please rerun this cell to show the HTML representation or trust the notebook. <br />On GitHub, the HTML representation is unable to render, please try loading this page with nbviewer.org.</b></div><div class=\"sk-container\" hidden><div class=\"sk-item\"><div class=\"sk-estimator fitted sk-toggleable\"><input class=\"sk-toggleable__control sk-hidden--visually\" id=\"sk-estimator-id-1\" type=\"checkbox\" checked><label for=\"sk-estimator-id-1\" class=\"sk-toggleable__label fitted sk-toggleable__label-arrow fitted\">&nbsp;&nbsp;KMeans<a class=\"sk-estimator-doc-link fitted\" rel=\"noreferrer\" target=\"_blank\" href=\"https://scikit-learn.org/1.5/modules/generated/sklearn.cluster.KMeans.html\">?<span>Documentation for KMeans</span></a><span class=\"sk-estimator-doc-link fitted\">i<span>Fitted</span></span></label><div class=\"sk-toggleable__content fitted\"><pre>KMeans(n_clusters=5, random_state=42)</pre></div> </div></div></div></div>"
      ],
      "text/plain": [
       "KMeans(n_clusters=5, random_state=42)"
      ]
     },
     "execution_count": 14,
     "metadata": {},
     "output_type": "execute_result"
    }
   ],
   "source": [
    "# in Machine Learning it is very common for training data to be in a form of list of lists\n",
    "# also it is common to call the process of building a model training\n",
    "# in sklearn as well as in gensim we will be using fit method to train our model\n",
    "# fit method expects a list of lists\n",
    "# let's train our model\n",
    "\n",
    "kmeans_model.fit(X_list)\n",
    "# we got a warning that in the future n_init will be changed to 10"
   ]
  },
  {
   "cell_type": "code",
   "execution_count": 15,
   "metadata": {},
   "outputs": [
    {
     "name": "stdout",
     "output_type": "stream",
     "text": [
      "Dimensions of our numpy array (1637, 50)\n",
      "First row of our numpy array [ 0.5782519  -0.7623888   0.6419972  -0.01352497 -0.02889981  0.33993718\n",
      "  0.5432642  -0.79231936 -0.17276347  0.2894747  -0.1814085  -1.173319\n",
      " -0.6315174  -0.39531848 -0.8824809   0.44549268 -0.00762038 -0.2669511\n",
      "  0.2836903   0.31825238 -0.46722114 -0.12032476  1.5427929  -0.16820197\n",
      " -0.5314884  -1.1173726  -0.06433648 -1.0612508   0.8740516   0.24408202\n",
      "  0.44927603 -0.25962996 -0.23105077  0.64783835  0.34015447  0.6314114\n",
      "  0.5084683  -0.12150066 -0.8327542  -0.24457273  0.46525353 -0.43322456\n",
      "  0.48058265 -0.8931239  -0.274334   -0.0263922   0.47523484 -0.10395955\n",
      "  0.0836495   0.5372703 ]\n"
     ]
    }
   ],
   "source": [
    "# let's convert our X_list back to numpy array\n",
    "X = np.array(X_list)\n",
    "# let's check out shape\n",
    "print(\"Dimensions of our numpy array\", X.shape)\n",
    "# now that looks better\n",
    "# print first row\n",
    "print(\"First row of our numpy array\", X[0])"
   ]
  },
  {
   "cell_type": "markdown",
   "metadata": {},
   "source": [
    "### Dealing with errors\n",
    "\n",
    "One takeaway is that even if you encounter some error with external libraries you can often fall back to tried and true data structures\n",
    "such as lists and dictionaries. In our case it was list of lists that saved the day."
   ]
  },
  {
   "cell_type": "markdown",
   "metadata": {},
   "source": [
    "### K-means clustering results\n"
   ]
  },
  {
   "cell_type": "code",
   "execution_count": 16,
   "metadata": {},
   "outputs": [
    {
     "name": "stdout",
     "output_type": "stream",
     "text": [
      "Shape of y_pred (1637,)\n"
     ]
    }
   ],
   "source": [
    "# now that we have run the fit method we can use our model to predict clusters for our data\n",
    "# we will use predict method\n",
    "# predict method expects a numpy array\n",
    "\n",
    "# let's predict clusters for our data\n",
    "y_pred = kmeans_model.predict(X_list)\n",
    "# y_pred = kmeans_model.predict(X) # this does not work of data type mismatch between double and float\n",
    "# note in many supervised machine learning algorithms it is required to have a test set and training set so not to overfit our model\n",
    "# with unsupervised kmeans we can use predict method to predict clusters for our data itself with no ill effects because we are not using labels\n",
    "\n",
    "# shape of y_pred\n",
    "print(\"Shape of y_pred\", y_pred.shape)\n",
    "\n"
   ]
  },
  {
   "cell_type": "code",
   "execution_count": 17,
   "metadata": {},
   "outputs": [
    {
     "data": {
      "text/html": [
       "<div>\n",
       "<style scoped>\n",
       "    .dataframe tbody tr th:only-of-type {\n",
       "        vertical-align: middle;\n",
       "    }\n",
       "\n",
       "    .dataframe tbody tr th {\n",
       "        vertical-align: top;\n",
       "    }\n",
       "\n",
       "    .dataframe thead th {\n",
       "        text-align: right;\n",
       "    }\n",
       "</style>\n",
       "<table border=\"1\" class=\"dataframe\">\n",
       "  <thead>\n",
       "    <tr style=\"text-align: right;\">\n",
       "      <th></th>\n",
       "      <th>year</th>\n",
       "      <th>trial_number</th>\n",
       "      <th>punishment</th>\n",
       "      <th>text</th>\n",
       "      <th>dirty_len</th>\n",
       "      <th>clean_len</th>\n",
       "      <th>words</th>\n",
       "      <th>word_count</th>\n",
       "      <th>word_count_cleaned</th>\n",
       "      <th>words_lemmatized</th>\n",
       "      <th>word_count_cleaned_no_digits</th>\n",
       "      <th>top_5_words_tfidf</th>\n",
       "      <th>doc2vec</th>\n",
       "      <th>cluster</th>\n",
       "    </tr>\n",
       "  </thead>\n",
       "  <tbody>\n",
       "    <tr>\n",
       "      <th>0</th>\n",
       "      <td>1720</td>\n",
       "      <td>1</td>\n",
       "      <td>Transportation</td>\n",
       "      <td>of st leonard eastcheap was indicted for felon...</td>\n",
       "      <td>705</td>\n",
       "      <td>684</td>\n",
       "      <td>[st, leonard, eastcheap, indicted, feloniously...</td>\n",
       "      <td>129</td>\n",
       "      <td>66</td>\n",
       "      <td>[st, leonard, eastcheap, indict, feloniously, ...</td>\n",
       "      <td>60</td>\n",
       "      <td>[(confest, 0.1972391174872452), (depose, 0.215...</td>\n",
       "      <td>[0.5782519, -0.7623888, 0.6419972, -0.01352496...</td>\n",
       "      <td>1</td>\n",
       "    </tr>\n",
       "    <tr>\n",
       "      <th>1</th>\n",
       "      <td>1720</td>\n",
       "      <td>2</td>\n",
       "      <td>Transportation</td>\n",
       "      <td>alice jones of st michaels cornhill was indict...</td>\n",
       "      <td>1087</td>\n",
       "      <td>1053</td>\n",
       "      <td>[alice, jones, st, michaels, cornhill, indicte...</td>\n",
       "      <td>200</td>\n",
       "      <td>87</td>\n",
       "      <td>[alice, jones, st, michaels, cornhill, indict,...</td>\n",
       "      <td>82</td>\n",
       "      <td>[(shop, 0.18964859164396325), (bermundas, 0.19...</td>\n",
       "      <td>[0.539647, 0.2990364, 0.90089196, 0.06318843, ...</td>\n",
       "      <td>1</td>\n",
       "    </tr>\n",
       "    <tr>\n",
       "      <th>2</th>\n",
       "      <td>1720</td>\n",
       "      <td>3</td>\n",
       "      <td>Transportation</td>\n",
       "      <td>james wilson of st katharine coleman was indic...</td>\n",
       "      <td>904</td>\n",
       "      <td>883</td>\n",
       "      <td>[james, wilson, st, katharine, coleman, indict...</td>\n",
       "      <td>177</td>\n",
       "      <td>79</td>\n",
       "      <td>[james, wilson, st, katharine, coleman, indict...</td>\n",
       "      <td>71</td>\n",
       "      <td>[(hung, 0.21832648950390215), (deposed, 0.2419...</td>\n",
       "      <td>[0.46213368, -0.7192513, 1.1036029, 0.02122612...</td>\n",
       "      <td>1</td>\n",
       "    </tr>\n",
       "    <tr>\n",
       "      <th>3</th>\n",
       "      <td>1720</td>\n",
       "      <td>4</td>\n",
       "      <td>Transportation</td>\n",
       "      <td>james mercy alias masse of st andrew undershaf...</td>\n",
       "      <td>804</td>\n",
       "      <td>778</td>\n",
       "      <td>[james, mercy, alias, masse, st, andrew, under...</td>\n",
       "      <td>143</td>\n",
       "      <td>67</td>\n",
       "      <td>[james, mercy, alias, masse, st, andrew, under...</td>\n",
       "      <td>64</td>\n",
       "      <td>[(undershaft, 0.2126517359898944), (lockt, 0.2...</td>\n",
       "      <td>[-0.18796237, -0.011926579, 0.8681372, -0.6687...</td>\n",
       "      <td>1</td>\n",
       "    </tr>\n",
       "    <tr>\n",
       "      <th>4</th>\n",
       "      <td>1720</td>\n",
       "      <td>5</td>\n",
       "      <td>Transportation</td>\n",
       "      <td>benjamin cook alias richard smith of st mary a...</td>\n",
       "      <td>483</td>\n",
       "      <td>466</td>\n",
       "      <td>[benjamin, cook, alias, richard, smith, st, ma...</td>\n",
       "      <td>88</td>\n",
       "      <td>46</td>\n",
       "      <td>[benjamin, cook, alias, richard, smith, st, ma...</td>\n",
       "      <td>43</td>\n",
       "      <td>[(stopt, 0.23416420335477436), (abchurch, 0.26...</td>\n",
       "      <td>[0.13697092, 0.5740971, 0.84388906, -0.2005741...</td>\n",
       "      <td>1</td>\n",
       "    </tr>\n",
       "  </tbody>\n",
       "</table>\n",
       "</div>"
      ],
      "text/plain": [
       "   year  trial_number      punishment  \\\n",
       "0  1720             1  Transportation   \n",
       "1  1720             2  Transportation   \n",
       "2  1720             3  Transportation   \n",
       "3  1720             4  Transportation   \n",
       "4  1720             5  Transportation   \n",
       "\n",
       "                                                text  dirty_len  clean_len  \\\n",
       "0  of st leonard eastcheap was indicted for felon...        705        684   \n",
       "1  alice jones of st michaels cornhill was indict...       1087       1053   \n",
       "2  james wilson of st katharine coleman was indic...        904        883   \n",
       "3  james mercy alias masse of st andrew undershaf...        804        778   \n",
       "4  benjamin cook alias richard smith of st mary a...        483        466   \n",
       "\n",
       "                                               words  word_count  \\\n",
       "0  [st, leonard, eastcheap, indicted, feloniously...         129   \n",
       "1  [alice, jones, st, michaels, cornhill, indicte...         200   \n",
       "2  [james, wilson, st, katharine, coleman, indict...         177   \n",
       "3  [james, mercy, alias, masse, st, andrew, under...         143   \n",
       "4  [benjamin, cook, alias, richard, smith, st, ma...          88   \n",
       "\n",
       "   word_count_cleaned                                   words_lemmatized  \\\n",
       "0                  66  [st, leonard, eastcheap, indict, feloniously, ...   \n",
       "1                  87  [alice, jones, st, michaels, cornhill, indict,...   \n",
       "2                  79  [james, wilson, st, katharine, coleman, indict...   \n",
       "3                  67  [james, mercy, alias, masse, st, andrew, under...   \n",
       "4                  46  [benjamin, cook, alias, richard, smith, st, ma...   \n",
       "\n",
       "   word_count_cleaned_no_digits  \\\n",
       "0                            60   \n",
       "1                            82   \n",
       "2                            71   \n",
       "3                            64   \n",
       "4                            43   \n",
       "\n",
       "                                   top_5_words_tfidf  \\\n",
       "0  [(confest, 0.1972391174872452), (depose, 0.215...   \n",
       "1  [(shop, 0.18964859164396325), (bermundas, 0.19...   \n",
       "2  [(hung, 0.21832648950390215), (deposed, 0.2419...   \n",
       "3  [(undershaft, 0.2126517359898944), (lockt, 0.2...   \n",
       "4  [(stopt, 0.23416420335477436), (abchurch, 0.26...   \n",
       "\n",
       "                                             doc2vec  cluster  \n",
       "0  [0.5782519, -0.7623888, 0.6419972, -0.01352496...        1  \n",
       "1  [0.539647, 0.2990364, 0.90089196, 0.06318843, ...        1  \n",
       "2  [0.46213368, -0.7192513, 1.1036029, 0.02122612...        1  \n",
       "3  [-0.18796237, -0.011926579, 0.8681372, -0.6687...        1  \n",
       "4  [0.13697092, 0.5740971, 0.84388906, -0.2005741...        1  "
      ]
     },
     "execution_count": 17,
     "metadata": {},
     "output_type": "execute_result"
    }
   ],
   "source": [
    "# let's assign our predicted clusters to our dataframe\n",
    "df['cluster'] = y_pred\n",
    "# let's check out first 5 rows\n",
    "df.head()"
   ]
  },
  {
   "cell_type": "code",
   "execution_count": null,
   "metadata": {},
   "outputs": [],
   "source": []
  },
  {
   "cell_type": "code",
   "execution_count": 18,
   "metadata": {},
   "outputs": [
    {
     "data": {
      "text/plain": [
       "cluster\n",
       "1    1441\n",
       "0     110\n",
       "4      83\n",
       "3       2\n",
       "2       1\n",
       "Name: count, dtype: int64"
      ]
     },
     "execution_count": 18,
     "metadata": {},
     "output_type": "execute_result"
    }
   ],
   "source": [
    "# value counts for our clusters\n",
    "df.cluster.value_counts()"
   ]
  },
  {
   "cell_type": "code",
   "execution_count": 19,
   "metadata": {},
   "outputs": [
    {
     "data": {
      "text/html": [
       "<div>\n",
       "<style scoped>\n",
       "    .dataframe tbody tr th:only-of-type {\n",
       "        vertical-align: middle;\n",
       "    }\n",
       "\n",
       "    .dataframe tbody tr th {\n",
       "        vertical-align: top;\n",
       "    }\n",
       "\n",
       "    .dataframe thead th {\n",
       "        text-align: right;\n",
       "    }\n",
       "</style>\n",
       "<table border=\"1\" class=\"dataframe\">\n",
       "  <thead>\n",
       "    <tr style=\"text-align: right;\">\n",
       "      <th>cluster</th>\n",
       "      <th>0</th>\n",
       "      <th>1</th>\n",
       "      <th>2</th>\n",
       "      <th>3</th>\n",
       "      <th>4</th>\n",
       "    </tr>\n",
       "    <tr>\n",
       "      <th>year</th>\n",
       "      <th></th>\n",
       "      <th></th>\n",
       "      <th></th>\n",
       "      <th></th>\n",
       "      <th></th>\n",
       "    </tr>\n",
       "  </thead>\n",
       "  <tbody>\n",
       "    <tr>\n",
       "      <th>1720</th>\n",
       "      <td>NaN</td>\n",
       "      <td>73.0</td>\n",
       "      <td>NaN</td>\n",
       "      <td>NaN</td>\n",
       "      <td>2.0</td>\n",
       "    </tr>\n",
       "    <tr>\n",
       "      <th>1731</th>\n",
       "      <td>NaN</td>\n",
       "      <td>76.0</td>\n",
       "      <td>NaN</td>\n",
       "      <td>NaN</td>\n",
       "      <td>2.0</td>\n",
       "    </tr>\n",
       "    <tr>\n",
       "      <th>1742</th>\n",
       "      <td>2.0</td>\n",
       "      <td>82.0</td>\n",
       "      <td>1.0</td>\n",
       "      <td>NaN</td>\n",
       "      <td>2.0</td>\n",
       "    </tr>\n",
       "    <tr>\n",
       "      <th>1754</th>\n",
       "      <td>NaN</td>\n",
       "      <td>60.0</td>\n",
       "      <td>NaN</td>\n",
       "      <td>NaN</td>\n",
       "      <td>2.0</td>\n",
       "    </tr>\n",
       "    <tr>\n",
       "      <th>1762</th>\n",
       "      <td>NaN</td>\n",
       "      <td>26.0</td>\n",
       "      <td>NaN</td>\n",
       "      <td>NaN</td>\n",
       "      <td>1.0</td>\n",
       "    </tr>\n",
       "  </tbody>\n",
       "</table>\n",
       "</div>"
      ],
      "text/plain": [
       "cluster    0     1    2   3    4\n",
       "year                            \n",
       "1720     NaN  73.0  NaN NaN  2.0\n",
       "1731     NaN  76.0  NaN NaN  2.0\n",
       "1742     2.0  82.0  1.0 NaN  2.0\n",
       "1754     NaN  60.0  NaN NaN  2.0\n",
       "1762     NaN  26.0  NaN NaN  1.0"
      ]
     },
     "execution_count": 19,
     "metadata": {},
     "output_type": "execute_result"
    }
   ],
   "source": [
    "# now it would be interesting to plot our clusters over the years\n",
    "\n",
    "# let's plot our clusters over the years\n",
    "# we ill use 100% stacked bar chart to show relative proportions of clusters over the years\n",
    "\n",
    "# we will use pandas groupby method to group our data by year and cluster\n",
    "# we will use size method to get number of rows in each group\n",
    "# we will use unstack method to convert our data into a dataframe\n",
    "\n",
    "df_year_cluster = df.groupby(['year', 'cluster']).size().unstack()\n",
    "# let's check out first 5 rows\n",
    "df_year_cluster.head()"
   ]
  },
  {
   "cell_type": "code",
   "execution_count": 20,
   "metadata": {},
   "outputs": [
    {
     "data": {
      "text/html": [
       "<div>\n",
       "<style scoped>\n",
       "    .dataframe tbody tr th:only-of-type {\n",
       "        vertical-align: middle;\n",
       "    }\n",
       "\n",
       "    .dataframe tbody tr th {\n",
       "        vertical-align: top;\n",
       "    }\n",
       "\n",
       "    .dataframe thead th {\n",
       "        text-align: right;\n",
       "    }\n",
       "</style>\n",
       "<table border=\"1\" class=\"dataframe\">\n",
       "  <thead>\n",
       "    <tr style=\"text-align: right;\">\n",
       "      <th>cluster</th>\n",
       "      <th>0</th>\n",
       "      <th>1</th>\n",
       "      <th>2</th>\n",
       "      <th>3</th>\n",
       "      <th>4</th>\n",
       "    </tr>\n",
       "    <tr>\n",
       "      <th>year</th>\n",
       "      <th></th>\n",
       "      <th></th>\n",
       "      <th></th>\n",
       "      <th></th>\n",
       "      <th></th>\n",
       "    </tr>\n",
       "  </thead>\n",
       "  <tbody>\n",
       "    <tr>\n",
       "      <th>1720</th>\n",
       "      <td>0.0</td>\n",
       "      <td>73.0</td>\n",
       "      <td>0.0</td>\n",
       "      <td>0.0</td>\n",
       "      <td>2.0</td>\n",
       "    </tr>\n",
       "    <tr>\n",
       "      <th>1731</th>\n",
       "      <td>0.0</td>\n",
       "      <td>76.0</td>\n",
       "      <td>0.0</td>\n",
       "      <td>0.0</td>\n",
       "      <td>2.0</td>\n",
       "    </tr>\n",
       "    <tr>\n",
       "      <th>1742</th>\n",
       "      <td>2.0</td>\n",
       "      <td>82.0</td>\n",
       "      <td>1.0</td>\n",
       "      <td>0.0</td>\n",
       "      <td>2.0</td>\n",
       "    </tr>\n",
       "    <tr>\n",
       "      <th>1754</th>\n",
       "      <td>0.0</td>\n",
       "      <td>60.0</td>\n",
       "      <td>0.0</td>\n",
       "      <td>0.0</td>\n",
       "      <td>2.0</td>\n",
       "    </tr>\n",
       "    <tr>\n",
       "      <th>1762</th>\n",
       "      <td>0.0</td>\n",
       "      <td>26.0</td>\n",
       "      <td>0.0</td>\n",
       "      <td>0.0</td>\n",
       "      <td>1.0</td>\n",
       "    </tr>\n",
       "  </tbody>\n",
       "</table>\n",
       "</div>"
      ],
      "text/plain": [
       "cluster    0     1    2    3    4\n",
       "year                             \n",
       "1720     0.0  73.0  0.0  0.0  2.0\n",
       "1731     0.0  76.0  0.0  0.0  2.0\n",
       "1742     2.0  82.0  1.0  0.0  2.0\n",
       "1754     0.0  60.0  0.0  0.0  2.0\n",
       "1762     0.0  26.0  0.0  0.0  1.0"
      ]
     },
     "execution_count": 20,
     "metadata": {},
     "output_type": "execute_result"
    }
   ],
   "source": [
    "# now we need to fill in missing values with 0\n",
    "df_year_cluster.fillna(0, inplace=True) # note inplace=True means we will change our dataframe in place\n",
    "# let's check out first 5 rows\n",
    "df_year_cluster.head()"
   ]
  },
  {
   "cell_type": "code",
   "execution_count": 21,
   "metadata": {},
   "outputs": [
    {
     "data": {
      "text/html": [
       "<div>\n",
       "<style scoped>\n",
       "    .dataframe tbody tr th:only-of-type {\n",
       "        vertical-align: middle;\n",
       "    }\n",
       "\n",
       "    .dataframe tbody tr th {\n",
       "        vertical-align: top;\n",
       "    }\n",
       "\n",
       "    .dataframe thead th {\n",
       "        text-align: right;\n",
       "    }\n",
       "</style>\n",
       "<table border=\"1\" class=\"dataframe\">\n",
       "  <thead>\n",
       "    <tr style=\"text-align: right;\">\n",
       "      <th>cluster</th>\n",
       "      <th>0</th>\n",
       "      <th>1</th>\n",
       "      <th>2</th>\n",
       "      <th>3</th>\n",
       "      <th>4</th>\n",
       "      <th>total</th>\n",
       "    </tr>\n",
       "    <tr>\n",
       "      <th>year</th>\n",
       "      <th></th>\n",
       "      <th></th>\n",
       "      <th></th>\n",
       "      <th></th>\n",
       "      <th></th>\n",
       "      <th></th>\n",
       "    </tr>\n",
       "  </thead>\n",
       "  <tbody>\n",
       "    <tr>\n",
       "      <th>1720</th>\n",
       "      <td>0.0</td>\n",
       "      <td>73.0</td>\n",
       "      <td>0.0</td>\n",
       "      <td>0.0</td>\n",
       "      <td>2.0</td>\n",
       "      <td>75.0</td>\n",
       "    </tr>\n",
       "    <tr>\n",
       "      <th>1731</th>\n",
       "      <td>0.0</td>\n",
       "      <td>76.0</td>\n",
       "      <td>0.0</td>\n",
       "      <td>0.0</td>\n",
       "      <td>2.0</td>\n",
       "      <td>78.0</td>\n",
       "    </tr>\n",
       "    <tr>\n",
       "      <th>1742</th>\n",
       "      <td>2.0</td>\n",
       "      <td>82.0</td>\n",
       "      <td>1.0</td>\n",
       "      <td>0.0</td>\n",
       "      <td>2.0</td>\n",
       "      <td>87.0</td>\n",
       "    </tr>\n",
       "    <tr>\n",
       "      <th>1754</th>\n",
       "      <td>0.0</td>\n",
       "      <td>60.0</td>\n",
       "      <td>0.0</td>\n",
       "      <td>0.0</td>\n",
       "      <td>2.0</td>\n",
       "      <td>62.0</td>\n",
       "    </tr>\n",
       "    <tr>\n",
       "      <th>1762</th>\n",
       "      <td>0.0</td>\n",
       "      <td>26.0</td>\n",
       "      <td>0.0</td>\n",
       "      <td>0.0</td>\n",
       "      <td>1.0</td>\n",
       "      <td>27.0</td>\n",
       "    </tr>\n",
       "  </tbody>\n",
       "</table>\n",
       "</div>"
      ],
      "text/plain": [
       "cluster    0     1    2    3    4  total\n",
       "year                                    \n",
       "1720     0.0  73.0  0.0  0.0  2.0   75.0\n",
       "1731     0.0  76.0  0.0  0.0  2.0   78.0\n",
       "1742     2.0  82.0  1.0  0.0  2.0   87.0\n",
       "1754     0.0  60.0  0.0  0.0  2.0   62.0\n",
       "1762     0.0  26.0  0.0  0.0  1.0   27.0"
      ]
     },
     "execution_count": 21,
     "metadata": {},
     "output_type": "execute_result"
    }
   ],
   "source": [
    "# now let's create a column of total values for each year\n",
    "df_year_cluster['total'] = df_year_cluster.sum(axis=1)\n",
    "# let's check out first 5 rows\n",
    "df_year_cluster.head()"
   ]
  },
  {
   "cell_type": "code",
   "execution_count": 22,
   "metadata": {},
   "outputs": [
    {
     "data": {
      "text/html": [
       "<div>\n",
       "<style scoped>\n",
       "    .dataframe tbody tr th:only-of-type {\n",
       "        vertical-align: middle;\n",
       "    }\n",
       "\n",
       "    .dataframe tbody tr th {\n",
       "        vertical-align: top;\n",
       "    }\n",
       "\n",
       "    .dataframe thead th {\n",
       "        text-align: right;\n",
       "    }\n",
       "</style>\n",
       "<table border=\"1\" class=\"dataframe\">\n",
       "  <thead>\n",
       "    <tr style=\"text-align: right;\">\n",
       "      <th>cluster</th>\n",
       "      <th>0</th>\n",
       "      <th>1</th>\n",
       "      <th>2</th>\n",
       "      <th>3</th>\n",
       "      <th>4</th>\n",
       "      <th>total</th>\n",
       "      <th>c_0_perc</th>\n",
       "      <th>c_1_perc</th>\n",
       "      <th>c_2_perc</th>\n",
       "      <th>c_3_perc</th>\n",
       "      <th>c_4_perc</th>\n",
       "    </tr>\n",
       "    <tr>\n",
       "      <th>year</th>\n",
       "      <th></th>\n",
       "      <th></th>\n",
       "      <th></th>\n",
       "      <th></th>\n",
       "      <th></th>\n",
       "      <th></th>\n",
       "      <th></th>\n",
       "      <th></th>\n",
       "      <th></th>\n",
       "      <th></th>\n",
       "      <th></th>\n",
       "    </tr>\n",
       "  </thead>\n",
       "  <tbody>\n",
       "    <tr>\n",
       "      <th>1720</th>\n",
       "      <td>0.0</td>\n",
       "      <td>73.0</td>\n",
       "      <td>0.0</td>\n",
       "      <td>0.0</td>\n",
       "      <td>2.0</td>\n",
       "      <td>75.0</td>\n",
       "      <td>0.000000</td>\n",
       "      <td>0.973333</td>\n",
       "      <td>0.000000</td>\n",
       "      <td>0.0</td>\n",
       "      <td>0.026667</td>\n",
       "    </tr>\n",
       "    <tr>\n",
       "      <th>1731</th>\n",
       "      <td>0.0</td>\n",
       "      <td>76.0</td>\n",
       "      <td>0.0</td>\n",
       "      <td>0.0</td>\n",
       "      <td>2.0</td>\n",
       "      <td>78.0</td>\n",
       "      <td>0.000000</td>\n",
       "      <td>0.974359</td>\n",
       "      <td>0.000000</td>\n",
       "      <td>0.0</td>\n",
       "      <td>0.025641</td>\n",
       "    </tr>\n",
       "    <tr>\n",
       "      <th>1742</th>\n",
       "      <td>2.0</td>\n",
       "      <td>82.0</td>\n",
       "      <td>1.0</td>\n",
       "      <td>0.0</td>\n",
       "      <td>2.0</td>\n",
       "      <td>87.0</td>\n",
       "      <td>0.022989</td>\n",
       "      <td>0.942529</td>\n",
       "      <td>0.011494</td>\n",
       "      <td>0.0</td>\n",
       "      <td>0.022989</td>\n",
       "    </tr>\n",
       "    <tr>\n",
       "      <th>1754</th>\n",
       "      <td>0.0</td>\n",
       "      <td>60.0</td>\n",
       "      <td>0.0</td>\n",
       "      <td>0.0</td>\n",
       "      <td>2.0</td>\n",
       "      <td>62.0</td>\n",
       "      <td>0.000000</td>\n",
       "      <td>0.967742</td>\n",
       "      <td>0.000000</td>\n",
       "      <td>0.0</td>\n",
       "      <td>0.032258</td>\n",
       "    </tr>\n",
       "    <tr>\n",
       "      <th>1762</th>\n",
       "      <td>0.0</td>\n",
       "      <td>26.0</td>\n",
       "      <td>0.0</td>\n",
       "      <td>0.0</td>\n",
       "      <td>1.0</td>\n",
       "      <td>27.0</td>\n",
       "      <td>0.000000</td>\n",
       "      <td>0.962963</td>\n",
       "      <td>0.000000</td>\n",
       "      <td>0.0</td>\n",
       "      <td>0.037037</td>\n",
       "    </tr>\n",
       "  </tbody>\n",
       "</table>\n",
       "</div>"
      ],
      "text/plain": [
       "cluster    0     1    2    3    4  total  c_0_perc  c_1_perc  c_2_perc  \\\n",
       "year                                                                     \n",
       "1720     0.0  73.0  0.0  0.0  2.0   75.0  0.000000  0.973333  0.000000   \n",
       "1731     0.0  76.0  0.0  0.0  2.0   78.0  0.000000  0.974359  0.000000   \n",
       "1742     2.0  82.0  1.0  0.0  2.0   87.0  0.022989  0.942529  0.011494   \n",
       "1754     0.0  60.0  0.0  0.0  2.0   62.0  0.000000  0.967742  0.000000   \n",
       "1762     0.0  26.0  0.0  0.0  1.0   27.0  0.000000  0.962963  0.000000   \n",
       "\n",
       "cluster  c_3_perc  c_4_perc  \n",
       "year                         \n",
       "1720          0.0  0.026667  \n",
       "1731          0.0  0.025641  \n",
       "1742          0.0  0.022989  \n",
       "1754          0.0  0.032258  \n",
       "1762          0.0  0.037037  "
      ]
     },
     "execution_count": 22,
     "metadata": {},
     "output_type": "execute_result"
    }
   ],
   "source": [
    "# now let's create a proportion column for each cluster\n",
    "# we will divide each cluster column by total column and create a new column with results\n",
    "for cluster in range(5):\n",
    "    df_year_cluster[f\"c_{cluster}_perc\"] = df_year_cluster[cluster] / df_year_cluster['total']\n",
    "# let's check out first 5 rows\n",
    "df_year_cluster.head()"
   ]
  },
  {
   "cell_type": "code",
   "execution_count": 23,
   "metadata": {},
   "outputs": [
    {
     "data": {
      "text/html": [
       "<div>\n",
       "<style scoped>\n",
       "    .dataframe tbody tr th:only-of-type {\n",
       "        vertical-align: middle;\n",
       "    }\n",
       "\n",
       "    .dataframe tbody tr th {\n",
       "        vertical-align: top;\n",
       "    }\n",
       "\n",
       "    .dataframe thead th {\n",
       "        text-align: right;\n",
       "    }\n",
       "</style>\n",
       "<table border=\"1\" class=\"dataframe\">\n",
       "  <thead>\n",
       "    <tr style=\"text-align: right;\">\n",
       "      <th>cluster</th>\n",
       "      <th>0</th>\n",
       "      <th>1</th>\n",
       "      <th>2</th>\n",
       "      <th>3</th>\n",
       "      <th>4</th>\n",
       "      <th>total</th>\n",
       "      <th>c_0_perc</th>\n",
       "      <th>c_1_perc</th>\n",
       "      <th>c_2_perc</th>\n",
       "      <th>c_3_perc</th>\n",
       "      <th>c_4_perc</th>\n",
       "    </tr>\n",
       "    <tr>\n",
       "      <th>year</th>\n",
       "      <th></th>\n",
       "      <th></th>\n",
       "      <th></th>\n",
       "      <th></th>\n",
       "      <th></th>\n",
       "      <th></th>\n",
       "      <th></th>\n",
       "      <th></th>\n",
       "      <th></th>\n",
       "      <th></th>\n",
       "      <th></th>\n",
       "    </tr>\n",
       "  </thead>\n",
       "  <tbody>\n",
       "    <tr>\n",
       "      <th>1720</th>\n",
       "      <td>0.0</td>\n",
       "      <td>73.0</td>\n",
       "      <td>0.0</td>\n",
       "      <td>0.0</td>\n",
       "      <td>2.0</td>\n",
       "      <td>75.0</td>\n",
       "      <td>0.000000</td>\n",
       "      <td>0.973333</td>\n",
       "      <td>0.000000</td>\n",
       "      <td>0.000000</td>\n",
       "      <td>0.026667</td>\n",
       "    </tr>\n",
       "    <tr>\n",
       "      <th>1731</th>\n",
       "      <td>0.0</td>\n",
       "      <td>76.0</td>\n",
       "      <td>0.0</td>\n",
       "      <td>0.0</td>\n",
       "      <td>2.0</td>\n",
       "      <td>78.0</td>\n",
       "      <td>0.000000</td>\n",
       "      <td>0.974359</td>\n",
       "      <td>0.000000</td>\n",
       "      <td>0.000000</td>\n",
       "      <td>0.025641</td>\n",
       "    </tr>\n",
       "    <tr>\n",
       "      <th>1742</th>\n",
       "      <td>2.0</td>\n",
       "      <td>82.0</td>\n",
       "      <td>1.0</td>\n",
       "      <td>0.0</td>\n",
       "      <td>2.0</td>\n",
       "      <td>87.0</td>\n",
       "      <td>0.022989</td>\n",
       "      <td>0.942529</td>\n",
       "      <td>0.011494</td>\n",
       "      <td>0.000000</td>\n",
       "      <td>0.022989</td>\n",
       "    </tr>\n",
       "    <tr>\n",
       "      <th>1754</th>\n",
       "      <td>0.0</td>\n",
       "      <td>60.0</td>\n",
       "      <td>0.0</td>\n",
       "      <td>0.0</td>\n",
       "      <td>2.0</td>\n",
       "      <td>62.0</td>\n",
       "      <td>0.000000</td>\n",
       "      <td>0.967742</td>\n",
       "      <td>0.000000</td>\n",
       "      <td>0.000000</td>\n",
       "      <td>0.032258</td>\n",
       "    </tr>\n",
       "    <tr>\n",
       "      <th>1762</th>\n",
       "      <td>0.0</td>\n",
       "      <td>26.0</td>\n",
       "      <td>0.0</td>\n",
       "      <td>0.0</td>\n",
       "      <td>1.0</td>\n",
       "      <td>27.0</td>\n",
       "      <td>0.000000</td>\n",
       "      <td>0.962963</td>\n",
       "      <td>0.000000</td>\n",
       "      <td>0.000000</td>\n",
       "      <td>0.037037</td>\n",
       "    </tr>\n",
       "    <tr>\n",
       "      <th>1773</th>\n",
       "      <td>1.0</td>\n",
       "      <td>78.0</td>\n",
       "      <td>0.0</td>\n",
       "      <td>0.0</td>\n",
       "      <td>1.0</td>\n",
       "      <td>80.0</td>\n",
       "      <td>0.012500</td>\n",
       "      <td>0.975000</td>\n",
       "      <td>0.000000</td>\n",
       "      <td>0.000000</td>\n",
       "      <td>0.012500</td>\n",
       "    </tr>\n",
       "    <tr>\n",
       "      <th>1784</th>\n",
       "      <td>0.0</td>\n",
       "      <td>0.0</td>\n",
       "      <td>0.0</td>\n",
       "      <td>0.0</td>\n",
       "      <td>1.0</td>\n",
       "      <td>1.0</td>\n",
       "      <td>0.000000</td>\n",
       "      <td>0.000000</td>\n",
       "      <td>0.000000</td>\n",
       "      <td>0.000000</td>\n",
       "      <td>1.000000</td>\n",
       "    </tr>\n",
       "    <tr>\n",
       "      <th>1796</th>\n",
       "      <td>2.0</td>\n",
       "      <td>49.0</td>\n",
       "      <td>0.0</td>\n",
       "      <td>0.0</td>\n",
       "      <td>0.0</td>\n",
       "      <td>51.0</td>\n",
       "      <td>0.039216</td>\n",
       "      <td>0.960784</td>\n",
       "      <td>0.000000</td>\n",
       "      <td>0.000000</td>\n",
       "      <td>0.000000</td>\n",
       "    </tr>\n",
       "    <tr>\n",
       "      <th>1802</th>\n",
       "      <td>9.0</td>\n",
       "      <td>81.0</td>\n",
       "      <td>0.0</td>\n",
       "      <td>0.0</td>\n",
       "      <td>2.0</td>\n",
       "      <td>92.0</td>\n",
       "      <td>0.097826</td>\n",
       "      <td>0.880435</td>\n",
       "      <td>0.000000</td>\n",
       "      <td>0.000000</td>\n",
       "      <td>0.021739</td>\n",
       "    </tr>\n",
       "    <tr>\n",
       "      <th>1814</th>\n",
       "      <td>3.0</td>\n",
       "      <td>109.0</td>\n",
       "      <td>0.0</td>\n",
       "      <td>0.0</td>\n",
       "      <td>3.0</td>\n",
       "      <td>115.0</td>\n",
       "      <td>0.026087</td>\n",
       "      <td>0.947826</td>\n",
       "      <td>0.000000</td>\n",
       "      <td>0.000000</td>\n",
       "      <td>0.026087</td>\n",
       "    </tr>\n",
       "    <tr>\n",
       "      <th>1821</th>\n",
       "      <td>7.0</td>\n",
       "      <td>165.0</td>\n",
       "      <td>0.0</td>\n",
       "      <td>0.0</td>\n",
       "      <td>1.0</td>\n",
       "      <td>173.0</td>\n",
       "      <td>0.040462</td>\n",
       "      <td>0.953757</td>\n",
       "      <td>0.000000</td>\n",
       "      <td>0.000000</td>\n",
       "      <td>0.005780</td>\n",
       "    </tr>\n",
       "    <tr>\n",
       "      <th>1835</th>\n",
       "      <td>12.0</td>\n",
       "      <td>104.0</td>\n",
       "      <td>0.0</td>\n",
       "      <td>0.0</td>\n",
       "      <td>4.0</td>\n",
       "      <td>120.0</td>\n",
       "      <td>0.100000</td>\n",
       "      <td>0.866667</td>\n",
       "      <td>0.000000</td>\n",
       "      <td>0.000000</td>\n",
       "      <td>0.033333</td>\n",
       "    </tr>\n",
       "    <tr>\n",
       "      <th>1841</th>\n",
       "      <td>3.0</td>\n",
       "      <td>99.0</td>\n",
       "      <td>0.0</td>\n",
       "      <td>0.0</td>\n",
       "      <td>5.0</td>\n",
       "      <td>107.0</td>\n",
       "      <td>0.028037</td>\n",
       "      <td>0.925234</td>\n",
       "      <td>0.000000</td>\n",
       "      <td>0.000000</td>\n",
       "      <td>0.046729</td>\n",
       "    </tr>\n",
       "    <tr>\n",
       "      <th>1853</th>\n",
       "      <td>13.0</td>\n",
       "      <td>74.0</td>\n",
       "      <td>0.0</td>\n",
       "      <td>0.0</td>\n",
       "      <td>5.0</td>\n",
       "      <td>92.0</td>\n",
       "      <td>0.141304</td>\n",
       "      <td>0.804348</td>\n",
       "      <td>0.000000</td>\n",
       "      <td>0.000000</td>\n",
       "      <td>0.054348</td>\n",
       "    </tr>\n",
       "    <tr>\n",
       "      <th>1865</th>\n",
       "      <td>9.0</td>\n",
       "      <td>63.0</td>\n",
       "      <td>0.0</td>\n",
       "      <td>1.0</td>\n",
       "      <td>8.0</td>\n",
       "      <td>81.0</td>\n",
       "      <td>0.111111</td>\n",
       "      <td>0.777778</td>\n",
       "      <td>0.000000</td>\n",
       "      <td>0.012346</td>\n",
       "      <td>0.098765</td>\n",
       "    </tr>\n",
       "    <tr>\n",
       "      <th>1872</th>\n",
       "      <td>4.0</td>\n",
       "      <td>54.0</td>\n",
       "      <td>0.0</td>\n",
       "      <td>0.0</td>\n",
       "      <td>11.0</td>\n",
       "      <td>69.0</td>\n",
       "      <td>0.057971</td>\n",
       "      <td>0.782609</td>\n",
       "      <td>0.000000</td>\n",
       "      <td>0.000000</td>\n",
       "      <td>0.159420</td>\n",
       "    </tr>\n",
       "    <tr>\n",
       "      <th>1881</th>\n",
       "      <td>12.0</td>\n",
       "      <td>68.0</td>\n",
       "      <td>0.0</td>\n",
       "      <td>0.0</td>\n",
       "      <td>5.0</td>\n",
       "      <td>85.0</td>\n",
       "      <td>0.141176</td>\n",
       "      <td>0.800000</td>\n",
       "      <td>0.000000</td>\n",
       "      <td>0.000000</td>\n",
       "      <td>0.058824</td>\n",
       "    </tr>\n",
       "    <tr>\n",
       "      <th>1896</th>\n",
       "      <td>9.0</td>\n",
       "      <td>35.0</td>\n",
       "      <td>0.0</td>\n",
       "      <td>0.0</td>\n",
       "      <td>5.0</td>\n",
       "      <td>49.0</td>\n",
       "      <td>0.183673</td>\n",
       "      <td>0.714286</td>\n",
       "      <td>0.000000</td>\n",
       "      <td>0.000000</td>\n",
       "      <td>0.102041</td>\n",
       "    </tr>\n",
       "    <tr>\n",
       "      <th>1902</th>\n",
       "      <td>10.0</td>\n",
       "      <td>96.0</td>\n",
       "      <td>0.0</td>\n",
       "      <td>1.0</td>\n",
       "      <td>17.0</td>\n",
       "      <td>124.0</td>\n",
       "      <td>0.080645</td>\n",
       "      <td>0.774194</td>\n",
       "      <td>0.000000</td>\n",
       "      <td>0.008065</td>\n",
       "      <td>0.137097</td>\n",
       "    </tr>\n",
       "    <tr>\n",
       "      <th>1913</th>\n",
       "      <td>14.0</td>\n",
       "      <td>49.0</td>\n",
       "      <td>0.0</td>\n",
       "      <td>0.0</td>\n",
       "      <td>6.0</td>\n",
       "      <td>69.0</td>\n",
       "      <td>0.202899</td>\n",
       "      <td>0.710145</td>\n",
       "      <td>0.000000</td>\n",
       "      <td>0.000000</td>\n",
       "      <td>0.086957</td>\n",
       "    </tr>\n",
       "  </tbody>\n",
       "</table>\n",
       "</div>"
      ],
      "text/plain": [
       "cluster     0      1    2    3     4  total  c_0_perc  c_1_perc  c_2_perc  \\\n",
       "year                                                                        \n",
       "1720      0.0   73.0  0.0  0.0   2.0   75.0  0.000000  0.973333  0.000000   \n",
       "1731      0.0   76.0  0.0  0.0   2.0   78.0  0.000000  0.974359  0.000000   \n",
       "1742      2.0   82.0  1.0  0.0   2.0   87.0  0.022989  0.942529  0.011494   \n",
       "1754      0.0   60.0  0.0  0.0   2.0   62.0  0.000000  0.967742  0.000000   \n",
       "1762      0.0   26.0  0.0  0.0   1.0   27.0  0.000000  0.962963  0.000000   \n",
       "1773      1.0   78.0  0.0  0.0   1.0   80.0  0.012500  0.975000  0.000000   \n",
       "1784      0.0    0.0  0.0  0.0   1.0    1.0  0.000000  0.000000  0.000000   \n",
       "1796      2.0   49.0  0.0  0.0   0.0   51.0  0.039216  0.960784  0.000000   \n",
       "1802      9.0   81.0  0.0  0.0   2.0   92.0  0.097826  0.880435  0.000000   \n",
       "1814      3.0  109.0  0.0  0.0   3.0  115.0  0.026087  0.947826  0.000000   \n",
       "1821      7.0  165.0  0.0  0.0   1.0  173.0  0.040462  0.953757  0.000000   \n",
       "1835     12.0  104.0  0.0  0.0   4.0  120.0  0.100000  0.866667  0.000000   \n",
       "1841      3.0   99.0  0.0  0.0   5.0  107.0  0.028037  0.925234  0.000000   \n",
       "1853     13.0   74.0  0.0  0.0   5.0   92.0  0.141304  0.804348  0.000000   \n",
       "1865      9.0   63.0  0.0  1.0   8.0   81.0  0.111111  0.777778  0.000000   \n",
       "1872      4.0   54.0  0.0  0.0  11.0   69.0  0.057971  0.782609  0.000000   \n",
       "1881     12.0   68.0  0.0  0.0   5.0   85.0  0.141176  0.800000  0.000000   \n",
       "1896      9.0   35.0  0.0  0.0   5.0   49.0  0.183673  0.714286  0.000000   \n",
       "1902     10.0   96.0  0.0  1.0  17.0  124.0  0.080645  0.774194  0.000000   \n",
       "1913     14.0   49.0  0.0  0.0   6.0   69.0  0.202899  0.710145  0.000000   \n",
       "\n",
       "cluster  c_3_perc  c_4_perc  \n",
       "year                         \n",
       "1720     0.000000  0.026667  \n",
       "1731     0.000000  0.025641  \n",
       "1742     0.000000  0.022989  \n",
       "1754     0.000000  0.032258  \n",
       "1762     0.000000  0.037037  \n",
       "1773     0.000000  0.012500  \n",
       "1784     0.000000  1.000000  \n",
       "1796     0.000000  0.000000  \n",
       "1802     0.000000  0.021739  \n",
       "1814     0.000000  0.026087  \n",
       "1821     0.000000  0.005780  \n",
       "1835     0.000000  0.033333  \n",
       "1841     0.000000  0.046729  \n",
       "1853     0.000000  0.054348  \n",
       "1865     0.012346  0.098765  \n",
       "1872     0.000000  0.159420  \n",
       "1881     0.000000  0.058824  \n",
       "1896     0.000000  0.102041  \n",
       "1902     0.008065  0.137097  \n",
       "1913     0.000000  0.086957  "
      ]
     },
     "execution_count": 23,
     "metadata": {},
     "output_type": "execute_result"
    }
   ],
   "source": [
    "# full df\n",
    "df_year_cluster"
   ]
  },
  {
   "cell_type": "code",
   "execution_count": 24,
   "metadata": {},
   "outputs": [
    {
     "data": {
      "application/vnd.plotly.v1+json": {
       "config": {
        "plotlyServerURL": "https://plot.ly"
       },
       "data": [
        {
         "alignmentgroup": "True",
         "hovertemplate": "variable=c_0_perc<br>year=%{x}<br>value=%{y}<extra></extra>",
         "legendgroup": "c_0_perc",
         "marker": {
          "color": "#636efa",
          "pattern": {
           "shape": ""
          }
         },
         "name": "c_0_perc",
         "offsetgroup": "c_0_perc",
         "orientation": "v",
         "showlegend": true,
         "textposition": "auto",
         "type": "bar",
         "x": [
          1720,
          1731,
          1742,
          1754,
          1762,
          1773,
          1784,
          1796,
          1802,
          1814,
          1821,
          1835,
          1841,
          1853,
          1865,
          1872,
          1881,
          1896,
          1902,
          1913
         ],
         "xaxis": "x",
         "y": [
          0,
          0,
          0.022988505747126436,
          0,
          0,
          0.0125,
          0,
          0.0392156862745098,
          0.09782608695652174,
          0.02608695652173913,
          0.04046242774566474,
          0.1,
          0.028037383177570093,
          0.14130434782608695,
          0.1111111111111111,
          0.057971014492753624,
          0.1411764705882353,
          0.1836734693877551,
          0.08064516129032258,
          0.2028985507246377
         ],
         "yaxis": "y"
        },
        {
         "alignmentgroup": "True",
         "hovertemplate": "variable=c_1_perc<br>year=%{x}<br>value=%{y}<extra></extra>",
         "legendgroup": "c_1_perc",
         "marker": {
          "color": "#EF553B",
          "pattern": {
           "shape": ""
          }
         },
         "name": "c_1_perc",
         "offsetgroup": "c_1_perc",
         "orientation": "v",
         "showlegend": true,
         "textposition": "auto",
         "type": "bar",
         "x": [
          1720,
          1731,
          1742,
          1754,
          1762,
          1773,
          1784,
          1796,
          1802,
          1814,
          1821,
          1835,
          1841,
          1853,
          1865,
          1872,
          1881,
          1896,
          1902,
          1913
         ],
         "xaxis": "x",
         "y": [
          0.9733333333333334,
          0.9743589743589743,
          0.9425287356321839,
          0.967741935483871,
          0.9629629629629629,
          0.975,
          0,
          0.9607843137254902,
          0.8804347826086957,
          0.9478260869565217,
          0.953757225433526,
          0.8666666666666667,
          0.9252336448598131,
          0.8043478260869565,
          0.7777777777777778,
          0.782608695652174,
          0.8,
          0.7142857142857143,
          0.7741935483870968,
          0.7101449275362319
         ],
         "yaxis": "y"
        },
        {
         "alignmentgroup": "True",
         "hovertemplate": "variable=c_2_perc<br>year=%{x}<br>value=%{y}<extra></extra>",
         "legendgroup": "c_2_perc",
         "marker": {
          "color": "#00cc96",
          "pattern": {
           "shape": ""
          }
         },
         "name": "c_2_perc",
         "offsetgroup": "c_2_perc",
         "orientation": "v",
         "showlegend": true,
         "textposition": "auto",
         "type": "bar",
         "x": [
          1720,
          1731,
          1742,
          1754,
          1762,
          1773,
          1784,
          1796,
          1802,
          1814,
          1821,
          1835,
          1841,
          1853,
          1865,
          1872,
          1881,
          1896,
          1902,
          1913
         ],
         "xaxis": "x",
         "y": [
          0,
          0,
          0.011494252873563218,
          0,
          0,
          0,
          0,
          0,
          0,
          0,
          0,
          0,
          0,
          0,
          0,
          0,
          0,
          0,
          0,
          0
         ],
         "yaxis": "y"
        },
        {
         "alignmentgroup": "True",
         "hovertemplate": "variable=c_3_perc<br>year=%{x}<br>value=%{y}<extra></extra>",
         "legendgroup": "c_3_perc",
         "marker": {
          "color": "#ab63fa",
          "pattern": {
           "shape": ""
          }
         },
         "name": "c_3_perc",
         "offsetgroup": "c_3_perc",
         "orientation": "v",
         "showlegend": true,
         "textposition": "auto",
         "type": "bar",
         "x": [
          1720,
          1731,
          1742,
          1754,
          1762,
          1773,
          1784,
          1796,
          1802,
          1814,
          1821,
          1835,
          1841,
          1853,
          1865,
          1872,
          1881,
          1896,
          1902,
          1913
         ],
         "xaxis": "x",
         "y": [
          0,
          0,
          0,
          0,
          0,
          0,
          0,
          0,
          0,
          0,
          0,
          0,
          0,
          0,
          0.012345679012345678,
          0,
          0,
          0,
          0.008064516129032258,
          0
         ],
         "yaxis": "y"
        },
        {
         "alignmentgroup": "True",
         "hovertemplate": "variable=c_4_perc<br>year=%{x}<br>value=%{y}<extra></extra>",
         "legendgroup": "c_4_perc",
         "marker": {
          "color": "#FFA15A",
          "pattern": {
           "shape": ""
          }
         },
         "name": "c_4_perc",
         "offsetgroup": "c_4_perc",
         "orientation": "v",
         "showlegend": true,
         "textposition": "auto",
         "type": "bar",
         "x": [
          1720,
          1731,
          1742,
          1754,
          1762,
          1773,
          1784,
          1796,
          1802,
          1814,
          1821,
          1835,
          1841,
          1853,
          1865,
          1872,
          1881,
          1896,
          1902,
          1913
         ],
         "xaxis": "x",
         "y": [
          0.02666666666666667,
          0.02564102564102564,
          0.022988505747126436,
          0.03225806451612903,
          0.037037037037037035,
          0.0125,
          1,
          0,
          0.021739130434782608,
          0.02608695652173913,
          0.005780346820809248,
          0.03333333333333333,
          0.04672897196261682,
          0.05434782608695652,
          0.09876543209876543,
          0.15942028985507245,
          0.058823529411764705,
          0.10204081632653061,
          0.13709677419354838,
          0.08695652173913043
         ],
         "yaxis": "y"
        }
       ],
       "layout": {
        "barmode": "relative",
        "legend": {
         "title": {
          "text": "variable"
         },
         "tracegroupgap": 0
        },
        "template": {
         "data": {
          "bar": [
           {
            "error_x": {
             "color": "#2a3f5f"
            },
            "error_y": {
             "color": "#2a3f5f"
            },
            "marker": {
             "line": {
              "color": "#E5ECF6",
              "width": 0.5
             },
             "pattern": {
              "fillmode": "overlay",
              "size": 10,
              "solidity": 0.2
             }
            },
            "type": "bar"
           }
          ],
          "barpolar": [
           {
            "marker": {
             "line": {
              "color": "#E5ECF6",
              "width": 0.5
             },
             "pattern": {
              "fillmode": "overlay",
              "size": 10,
              "solidity": 0.2
             }
            },
            "type": "barpolar"
           }
          ],
          "carpet": [
           {
            "aaxis": {
             "endlinecolor": "#2a3f5f",
             "gridcolor": "white",
             "linecolor": "white",
             "minorgridcolor": "white",
             "startlinecolor": "#2a3f5f"
            },
            "baxis": {
             "endlinecolor": "#2a3f5f",
             "gridcolor": "white",
             "linecolor": "white",
             "minorgridcolor": "white",
             "startlinecolor": "#2a3f5f"
            },
            "type": "carpet"
           }
          ],
          "choropleth": [
           {
            "colorbar": {
             "outlinewidth": 0,
             "ticks": ""
            },
            "type": "choropleth"
           }
          ],
          "contour": [
           {
            "colorbar": {
             "outlinewidth": 0,
             "ticks": ""
            },
            "colorscale": [
             [
              0,
              "#0d0887"
             ],
             [
              0.1111111111111111,
              "#46039f"
             ],
             [
              0.2222222222222222,
              "#7201a8"
             ],
             [
              0.3333333333333333,
              "#9c179e"
             ],
             [
              0.4444444444444444,
              "#bd3786"
             ],
             [
              0.5555555555555556,
              "#d8576b"
             ],
             [
              0.6666666666666666,
              "#ed7953"
             ],
             [
              0.7777777777777778,
              "#fb9f3a"
             ],
             [
              0.8888888888888888,
              "#fdca26"
             ],
             [
              1,
              "#f0f921"
             ]
            ],
            "type": "contour"
           }
          ],
          "contourcarpet": [
           {
            "colorbar": {
             "outlinewidth": 0,
             "ticks": ""
            },
            "type": "contourcarpet"
           }
          ],
          "heatmap": [
           {
            "colorbar": {
             "outlinewidth": 0,
             "ticks": ""
            },
            "colorscale": [
             [
              0,
              "#0d0887"
             ],
             [
              0.1111111111111111,
              "#46039f"
             ],
             [
              0.2222222222222222,
              "#7201a8"
             ],
             [
              0.3333333333333333,
              "#9c179e"
             ],
             [
              0.4444444444444444,
              "#bd3786"
             ],
             [
              0.5555555555555556,
              "#d8576b"
             ],
             [
              0.6666666666666666,
              "#ed7953"
             ],
             [
              0.7777777777777778,
              "#fb9f3a"
             ],
             [
              0.8888888888888888,
              "#fdca26"
             ],
             [
              1,
              "#f0f921"
             ]
            ],
            "type": "heatmap"
           }
          ],
          "heatmapgl": [
           {
            "colorbar": {
             "outlinewidth": 0,
             "ticks": ""
            },
            "colorscale": [
             [
              0,
              "#0d0887"
             ],
             [
              0.1111111111111111,
              "#46039f"
             ],
             [
              0.2222222222222222,
              "#7201a8"
             ],
             [
              0.3333333333333333,
              "#9c179e"
             ],
             [
              0.4444444444444444,
              "#bd3786"
             ],
             [
              0.5555555555555556,
              "#d8576b"
             ],
             [
              0.6666666666666666,
              "#ed7953"
             ],
             [
              0.7777777777777778,
              "#fb9f3a"
             ],
             [
              0.8888888888888888,
              "#fdca26"
             ],
             [
              1,
              "#f0f921"
             ]
            ],
            "type": "heatmapgl"
           }
          ],
          "histogram": [
           {
            "marker": {
             "pattern": {
              "fillmode": "overlay",
              "size": 10,
              "solidity": 0.2
             }
            },
            "type": "histogram"
           }
          ],
          "histogram2d": [
           {
            "colorbar": {
             "outlinewidth": 0,
             "ticks": ""
            },
            "colorscale": [
             [
              0,
              "#0d0887"
             ],
             [
              0.1111111111111111,
              "#46039f"
             ],
             [
              0.2222222222222222,
              "#7201a8"
             ],
             [
              0.3333333333333333,
              "#9c179e"
             ],
             [
              0.4444444444444444,
              "#bd3786"
             ],
             [
              0.5555555555555556,
              "#d8576b"
             ],
             [
              0.6666666666666666,
              "#ed7953"
             ],
             [
              0.7777777777777778,
              "#fb9f3a"
             ],
             [
              0.8888888888888888,
              "#fdca26"
             ],
             [
              1,
              "#f0f921"
             ]
            ],
            "type": "histogram2d"
           }
          ],
          "histogram2dcontour": [
           {
            "colorbar": {
             "outlinewidth": 0,
             "ticks": ""
            },
            "colorscale": [
             [
              0,
              "#0d0887"
             ],
             [
              0.1111111111111111,
              "#46039f"
             ],
             [
              0.2222222222222222,
              "#7201a8"
             ],
             [
              0.3333333333333333,
              "#9c179e"
             ],
             [
              0.4444444444444444,
              "#bd3786"
             ],
             [
              0.5555555555555556,
              "#d8576b"
             ],
             [
              0.6666666666666666,
              "#ed7953"
             ],
             [
              0.7777777777777778,
              "#fb9f3a"
             ],
             [
              0.8888888888888888,
              "#fdca26"
             ],
             [
              1,
              "#f0f921"
             ]
            ],
            "type": "histogram2dcontour"
           }
          ],
          "mesh3d": [
           {
            "colorbar": {
             "outlinewidth": 0,
             "ticks": ""
            },
            "type": "mesh3d"
           }
          ],
          "parcoords": [
           {
            "line": {
             "colorbar": {
              "outlinewidth": 0,
              "ticks": ""
             }
            },
            "type": "parcoords"
           }
          ],
          "pie": [
           {
            "automargin": true,
            "type": "pie"
           }
          ],
          "scatter": [
           {
            "fillpattern": {
             "fillmode": "overlay",
             "size": 10,
             "solidity": 0.2
            },
            "type": "scatter"
           }
          ],
          "scatter3d": [
           {
            "line": {
             "colorbar": {
              "outlinewidth": 0,
              "ticks": ""
             }
            },
            "marker": {
             "colorbar": {
              "outlinewidth": 0,
              "ticks": ""
             }
            },
            "type": "scatter3d"
           }
          ],
          "scattercarpet": [
           {
            "marker": {
             "colorbar": {
              "outlinewidth": 0,
              "ticks": ""
             }
            },
            "type": "scattercarpet"
           }
          ],
          "scattergeo": [
           {
            "marker": {
             "colorbar": {
              "outlinewidth": 0,
              "ticks": ""
             }
            },
            "type": "scattergeo"
           }
          ],
          "scattergl": [
           {
            "marker": {
             "colorbar": {
              "outlinewidth": 0,
              "ticks": ""
             }
            },
            "type": "scattergl"
           }
          ],
          "scattermapbox": [
           {
            "marker": {
             "colorbar": {
              "outlinewidth": 0,
              "ticks": ""
             }
            },
            "type": "scattermapbox"
           }
          ],
          "scatterpolar": [
           {
            "marker": {
             "colorbar": {
              "outlinewidth": 0,
              "ticks": ""
             }
            },
            "type": "scatterpolar"
           }
          ],
          "scatterpolargl": [
           {
            "marker": {
             "colorbar": {
              "outlinewidth": 0,
              "ticks": ""
             }
            },
            "type": "scatterpolargl"
           }
          ],
          "scatterternary": [
           {
            "marker": {
             "colorbar": {
              "outlinewidth": 0,
              "ticks": ""
             }
            },
            "type": "scatterternary"
           }
          ],
          "surface": [
           {
            "colorbar": {
             "outlinewidth": 0,
             "ticks": ""
            },
            "colorscale": [
             [
              0,
              "#0d0887"
             ],
             [
              0.1111111111111111,
              "#46039f"
             ],
             [
              0.2222222222222222,
              "#7201a8"
             ],
             [
              0.3333333333333333,
              "#9c179e"
             ],
             [
              0.4444444444444444,
              "#bd3786"
             ],
             [
              0.5555555555555556,
              "#d8576b"
             ],
             [
              0.6666666666666666,
              "#ed7953"
             ],
             [
              0.7777777777777778,
              "#fb9f3a"
             ],
             [
              0.8888888888888888,
              "#fdca26"
             ],
             [
              1,
              "#f0f921"
             ]
            ],
            "type": "surface"
           }
          ],
          "table": [
           {
            "cells": {
             "fill": {
              "color": "#EBF0F8"
             },
             "line": {
              "color": "white"
             }
            },
            "header": {
             "fill": {
              "color": "#C8D4E3"
             },
             "line": {
              "color": "white"
             }
            },
            "type": "table"
           }
          ]
         },
         "layout": {
          "annotationdefaults": {
           "arrowcolor": "#2a3f5f",
           "arrowhead": 0,
           "arrowwidth": 1
          },
          "autotypenumbers": "strict",
          "coloraxis": {
           "colorbar": {
            "outlinewidth": 0,
            "ticks": ""
           }
          },
          "colorscale": {
           "diverging": [
            [
             0,
             "#8e0152"
            ],
            [
             0.1,
             "#c51b7d"
            ],
            [
             0.2,
             "#de77ae"
            ],
            [
             0.3,
             "#f1b6da"
            ],
            [
             0.4,
             "#fde0ef"
            ],
            [
             0.5,
             "#f7f7f7"
            ],
            [
             0.6,
             "#e6f5d0"
            ],
            [
             0.7,
             "#b8e186"
            ],
            [
             0.8,
             "#7fbc41"
            ],
            [
             0.9,
             "#4d9221"
            ],
            [
             1,
             "#276419"
            ]
           ],
           "sequential": [
            [
             0,
             "#0d0887"
            ],
            [
             0.1111111111111111,
             "#46039f"
            ],
            [
             0.2222222222222222,
             "#7201a8"
            ],
            [
             0.3333333333333333,
             "#9c179e"
            ],
            [
             0.4444444444444444,
             "#bd3786"
            ],
            [
             0.5555555555555556,
             "#d8576b"
            ],
            [
             0.6666666666666666,
             "#ed7953"
            ],
            [
             0.7777777777777778,
             "#fb9f3a"
            ],
            [
             0.8888888888888888,
             "#fdca26"
            ],
            [
             1,
             "#f0f921"
            ]
           ],
           "sequentialminus": [
            [
             0,
             "#0d0887"
            ],
            [
             0.1111111111111111,
             "#46039f"
            ],
            [
             0.2222222222222222,
             "#7201a8"
            ],
            [
             0.3333333333333333,
             "#9c179e"
            ],
            [
             0.4444444444444444,
             "#bd3786"
            ],
            [
             0.5555555555555556,
             "#d8576b"
            ],
            [
             0.6666666666666666,
             "#ed7953"
            ],
            [
             0.7777777777777778,
             "#fb9f3a"
            ],
            [
             0.8888888888888888,
             "#fdca26"
            ],
            [
             1,
             "#f0f921"
            ]
           ]
          },
          "colorway": [
           "#636efa",
           "#EF553B",
           "#00cc96",
           "#ab63fa",
           "#FFA15A",
           "#19d3f3",
           "#FF6692",
           "#B6E880",
           "#FF97FF",
           "#FECB52"
          ],
          "font": {
           "color": "#2a3f5f"
          },
          "geo": {
           "bgcolor": "white",
           "lakecolor": "white",
           "landcolor": "#E5ECF6",
           "showlakes": true,
           "showland": true,
           "subunitcolor": "white"
          },
          "hoverlabel": {
           "align": "left"
          },
          "hovermode": "closest",
          "mapbox": {
           "style": "light"
          },
          "paper_bgcolor": "white",
          "plot_bgcolor": "#E5ECF6",
          "polar": {
           "angularaxis": {
            "gridcolor": "white",
            "linecolor": "white",
            "ticks": ""
           },
           "bgcolor": "#E5ECF6",
           "radialaxis": {
            "gridcolor": "white",
            "linecolor": "white",
            "ticks": ""
           }
          },
          "scene": {
           "xaxis": {
            "backgroundcolor": "#E5ECF6",
            "gridcolor": "white",
            "gridwidth": 2,
            "linecolor": "white",
            "showbackground": true,
            "ticks": "",
            "zerolinecolor": "white"
           },
           "yaxis": {
            "backgroundcolor": "#E5ECF6",
            "gridcolor": "white",
            "gridwidth": 2,
            "linecolor": "white",
            "showbackground": true,
            "ticks": "",
            "zerolinecolor": "white"
           },
           "zaxis": {
            "backgroundcolor": "#E5ECF6",
            "gridcolor": "white",
            "gridwidth": 2,
            "linecolor": "white",
            "showbackground": true,
            "ticks": "",
            "zerolinecolor": "white"
           }
          },
          "shapedefaults": {
           "line": {
            "color": "#2a3f5f"
           }
          },
          "ternary": {
           "aaxis": {
            "gridcolor": "white",
            "linecolor": "white",
            "ticks": ""
           },
           "baxis": {
            "gridcolor": "white",
            "linecolor": "white",
            "ticks": ""
           },
           "bgcolor": "#E5ECF6",
           "caxis": {
            "gridcolor": "white",
            "linecolor": "white",
            "ticks": ""
           }
          },
          "title": {
           "x": 0.05
          },
          "xaxis": {
           "automargin": true,
           "gridcolor": "white",
           "linecolor": "white",
           "ticks": "",
           "title": {
            "standoff": 15
           },
           "zerolinecolor": "white",
           "zerolinewidth": 2
          },
          "yaxis": {
           "automargin": true,
           "gridcolor": "white",
           "linecolor": "white",
           "ticks": "",
           "title": {
            "standoff": 15
           },
           "zerolinecolor": "white",
           "zerolinewidth": 2
          }
         }
        },
        "title": {
         "text": "Proportion of clusters over the years"
        },
        "xaxis": {
         "anchor": "y",
         "domain": [
          0,
          1
         ],
         "title": {
          "text": "year"
         }
        },
        "yaxis": {
         "anchor": "x",
         "domain": [
          0,
          1
         ],
         "title": {
          "text": "value"
         }
        }
       }
      }
     },
     "metadata": {},
     "output_type": "display_data"
    }
   ],
   "source": [
    "# now we can plot our last 5 columns as 100% stacked bar chart\n",
    "# using x as year and y as proportion of each cluster\n",
    "\n",
    "# let's use plotly express for our plot\n",
    "\n",
    "import plotly.express as px\n",
    "\n",
    "# let's create a list of our columns to plot\n",
    "\n",
    "columns_to_plot = [f\"c_{cluster}_perc\" for cluster in range(5)]\n",
    "# let's check out our list\n",
    "\n",
    "# so x axis will be year and y axis will be proportion of each cluster\n",
    "\n",
    "# let's plot our data\n",
    "\n",
    "fig = px.bar(df_year_cluster, \n",
    "             x=df_year_cluster.index, \n",
    "             y=columns_to_plot, \n",
    "             title=\"Proportion of clusters over the years\", \n",
    "             labels={'x':'Year', 'y':'Proportion of clusters'})\n",
    "\n",
    "# let's show our plot\n",
    "fig.show()"
   ]
  },
  {
   "cell_type": "markdown",
   "metadata": {},
   "source": [
    "### Conclusions from 5 clusters\n",
    "\n",
    "We can certainly see some interesting trends over the years.\n",
    "\n",
    "What is really interesting is that year 1784 is all one cluster. This would require further investigation. It is quite surprising that the year 1784 is so different from the rest of the years.\n",
    "\n",
    "Some possible explanations:\n",
    "\n",
    "* It is possible that there is some corruption in the data.\n",
    "* It is possible that the year 1784 is a year of some major event that is not captured in the data.\n",
    "* It is possible that doc2vec that generated the embeddings is not working properly.\n",
    "* it is quite possible that 1784 has some unique characteristics that are not present in other years. Maybe a special header is present in the documents from 1784 that is not present in other years.\n",
    "\n",
    "\n",
    "\n",
    "We have to remember that kmeans is an unsupervised algorithm and it is up to us to interpret the results.\n",
    "\n",
    "Also it is \"how high to jump\" question. We can try 10 clusters and see what happens. We can also try 3 clusters and see what happens."
   ]
  },
  {
   "cell_type": "markdown",
   "metadata": {},
   "source": [
    "## How to determine the number of clusters\n",
    "\n",
    "This is the million dollar question. There are many ways to determine the number of clusters. One way is to use the elbow method. The elbow method is a heuristic that looks at the percentage of variance explained as a function of the number of clusters. The idea is that as we increase the number of clusters, the percentage of variance explained will increase. At some point, adding more clusters will not add much explanatory power. This point is called the elbow. The elbow method looks for the point where the percentage of variance explained stops increasing quickly."
   ]
  },
  {
   "cell_type": "code",
   "execution_count": 25,
   "metadata": {},
   "outputs": [
    {
     "name": "stderr",
     "output_type": "stream",
     "text": [
      "100%|██████████| 20/20 [00:02<00:00,  7.56it/s]\n"
     ]
    },
    {
     "data": {
      "text/plain": [
       "[116454.24168168934,\n",
       " 109547.91759786427,\n",
       " 104767.04338962861,\n",
       " 101978.89930226818,\n",
       " 99699.21626579801,\n",
       " 97622.49416295285,\n",
       " 96519.19296511401,\n",
       " 94214.89038892224,\n",
       " 93088.05295048565,\n",
       " 92143.85968502212,\n",
       " 90281.7602267529,\n",
       " 89502.79298458582,\n",
       " 88626.78820392436,\n",
       " 88243.05197473442,\n",
       " 86478.22856132852,\n",
       " 86294.93443609167,\n",
       " 84768.5104794911,\n",
       " 84649.90035167981,\n",
       " 83762.45609139431,\n",
       " 82851.86178853942]"
      ]
     },
     "execution_count": 25,
     "metadata": {},
     "output_type": "execute_result"
    }
   ],
   "source": [
    "# now let's see if we can find the elbow of our kmeans model\n",
    "# we will calculate km.inertia_ for each number of clusters from 1 to 20\n",
    "# we will plot the results\n",
    "\n",
    "# let's create a list of inertia values\n",
    "inertia_values = []\n",
    "# let's create a list of number of clusters\n",
    "n_clusters = list(range(1, 21)) # 1 is kind of silly of course but we will do it for completeness\n",
    "\n",
    "from tqdm import tqdm # tqdm is a nice progress bar library\n",
    "\n",
    "# let's loop through our number of clusters\n",
    "# kmeans is fast enough and our dataset small enough so we can do it in a loop\n",
    "for n_cluster in tqdm(n_clusters):\n",
    "    # let's create a kmeans model\n",
    "    kmeans_model = KMeans(n_clusters=n_cluster, random_state=42, n_init=10)\n",
    "    # let's train our model\n",
    "    kmeans_model.fit(X_list)\n",
    "    # let's get inertia value\n",
    "    inertia_values.append(kmeans_model.inertia_)\n",
    "\n",
    "# let's check out our inertia values\n",
    "inertia_values\n"
   ]
  },
  {
   "cell_type": "code",
   "execution_count": 26,
   "metadata": {},
   "outputs": [
    {
     "data": {
      "application/vnd.plotly.v1+json": {
       "config": {
        "plotlyServerURL": "https://plot.ly"
       },
       "data": [
        {
         "hovertemplate": "x=%{x}<br>y=%{y}<extra></extra>",
         "legendgroup": "",
         "line": {
          "color": "#636efa",
          "dash": "solid"
         },
         "marker": {
          "symbol": "circle"
         },
         "mode": "lines",
         "name": "",
         "orientation": "v",
         "showlegend": false,
         "type": "scatter",
         "x": [
          1,
          2,
          3,
          4,
          5,
          6,
          7,
          8,
          9,
          10,
          11,
          12,
          13,
          14,
          15,
          16,
          17,
          18,
          19,
          20
         ],
         "xaxis": "x",
         "y": [
          116454.24168168934,
          109547.91759786427,
          104767.04338962861,
          101978.89930226818,
          99699.21626579801,
          97622.49416295285,
          96519.19296511401,
          94214.89038892224,
          93088.05295048565,
          92143.85968502212,
          90281.7602267529,
          89502.79298458582,
          88626.78820392436,
          88243.05197473442,
          86478.22856132852,
          86294.93443609167,
          84768.5104794911,
          84649.90035167981,
          83762.45609139431,
          82851.86178853942
         ],
         "yaxis": "y"
        }
       ],
       "layout": {
        "legend": {
         "tracegroupgap": 0
        },
        "template": {
         "data": {
          "bar": [
           {
            "error_x": {
             "color": "#2a3f5f"
            },
            "error_y": {
             "color": "#2a3f5f"
            },
            "marker": {
             "line": {
              "color": "#E5ECF6",
              "width": 0.5
             },
             "pattern": {
              "fillmode": "overlay",
              "size": 10,
              "solidity": 0.2
             }
            },
            "type": "bar"
           }
          ],
          "barpolar": [
           {
            "marker": {
             "line": {
              "color": "#E5ECF6",
              "width": 0.5
             },
             "pattern": {
              "fillmode": "overlay",
              "size": 10,
              "solidity": 0.2
             }
            },
            "type": "barpolar"
           }
          ],
          "carpet": [
           {
            "aaxis": {
             "endlinecolor": "#2a3f5f",
             "gridcolor": "white",
             "linecolor": "white",
             "minorgridcolor": "white",
             "startlinecolor": "#2a3f5f"
            },
            "baxis": {
             "endlinecolor": "#2a3f5f",
             "gridcolor": "white",
             "linecolor": "white",
             "minorgridcolor": "white",
             "startlinecolor": "#2a3f5f"
            },
            "type": "carpet"
           }
          ],
          "choropleth": [
           {
            "colorbar": {
             "outlinewidth": 0,
             "ticks": ""
            },
            "type": "choropleth"
           }
          ],
          "contour": [
           {
            "colorbar": {
             "outlinewidth": 0,
             "ticks": ""
            },
            "colorscale": [
             [
              0,
              "#0d0887"
             ],
             [
              0.1111111111111111,
              "#46039f"
             ],
             [
              0.2222222222222222,
              "#7201a8"
             ],
             [
              0.3333333333333333,
              "#9c179e"
             ],
             [
              0.4444444444444444,
              "#bd3786"
             ],
             [
              0.5555555555555556,
              "#d8576b"
             ],
             [
              0.6666666666666666,
              "#ed7953"
             ],
             [
              0.7777777777777778,
              "#fb9f3a"
             ],
             [
              0.8888888888888888,
              "#fdca26"
             ],
             [
              1,
              "#f0f921"
             ]
            ],
            "type": "contour"
           }
          ],
          "contourcarpet": [
           {
            "colorbar": {
             "outlinewidth": 0,
             "ticks": ""
            },
            "type": "contourcarpet"
           }
          ],
          "heatmap": [
           {
            "colorbar": {
             "outlinewidth": 0,
             "ticks": ""
            },
            "colorscale": [
             [
              0,
              "#0d0887"
             ],
             [
              0.1111111111111111,
              "#46039f"
             ],
             [
              0.2222222222222222,
              "#7201a8"
             ],
             [
              0.3333333333333333,
              "#9c179e"
             ],
             [
              0.4444444444444444,
              "#bd3786"
             ],
             [
              0.5555555555555556,
              "#d8576b"
             ],
             [
              0.6666666666666666,
              "#ed7953"
             ],
             [
              0.7777777777777778,
              "#fb9f3a"
             ],
             [
              0.8888888888888888,
              "#fdca26"
             ],
             [
              1,
              "#f0f921"
             ]
            ],
            "type": "heatmap"
           }
          ],
          "heatmapgl": [
           {
            "colorbar": {
             "outlinewidth": 0,
             "ticks": ""
            },
            "colorscale": [
             [
              0,
              "#0d0887"
             ],
             [
              0.1111111111111111,
              "#46039f"
             ],
             [
              0.2222222222222222,
              "#7201a8"
             ],
             [
              0.3333333333333333,
              "#9c179e"
             ],
             [
              0.4444444444444444,
              "#bd3786"
             ],
             [
              0.5555555555555556,
              "#d8576b"
             ],
             [
              0.6666666666666666,
              "#ed7953"
             ],
             [
              0.7777777777777778,
              "#fb9f3a"
             ],
             [
              0.8888888888888888,
              "#fdca26"
             ],
             [
              1,
              "#f0f921"
             ]
            ],
            "type": "heatmapgl"
           }
          ],
          "histogram": [
           {
            "marker": {
             "pattern": {
              "fillmode": "overlay",
              "size": 10,
              "solidity": 0.2
             }
            },
            "type": "histogram"
           }
          ],
          "histogram2d": [
           {
            "colorbar": {
             "outlinewidth": 0,
             "ticks": ""
            },
            "colorscale": [
             [
              0,
              "#0d0887"
             ],
             [
              0.1111111111111111,
              "#46039f"
             ],
             [
              0.2222222222222222,
              "#7201a8"
             ],
             [
              0.3333333333333333,
              "#9c179e"
             ],
             [
              0.4444444444444444,
              "#bd3786"
             ],
             [
              0.5555555555555556,
              "#d8576b"
             ],
             [
              0.6666666666666666,
              "#ed7953"
             ],
             [
              0.7777777777777778,
              "#fb9f3a"
             ],
             [
              0.8888888888888888,
              "#fdca26"
             ],
             [
              1,
              "#f0f921"
             ]
            ],
            "type": "histogram2d"
           }
          ],
          "histogram2dcontour": [
           {
            "colorbar": {
             "outlinewidth": 0,
             "ticks": ""
            },
            "colorscale": [
             [
              0,
              "#0d0887"
             ],
             [
              0.1111111111111111,
              "#46039f"
             ],
             [
              0.2222222222222222,
              "#7201a8"
             ],
             [
              0.3333333333333333,
              "#9c179e"
             ],
             [
              0.4444444444444444,
              "#bd3786"
             ],
             [
              0.5555555555555556,
              "#d8576b"
             ],
             [
              0.6666666666666666,
              "#ed7953"
             ],
             [
              0.7777777777777778,
              "#fb9f3a"
             ],
             [
              0.8888888888888888,
              "#fdca26"
             ],
             [
              1,
              "#f0f921"
             ]
            ],
            "type": "histogram2dcontour"
           }
          ],
          "mesh3d": [
           {
            "colorbar": {
             "outlinewidth": 0,
             "ticks": ""
            },
            "type": "mesh3d"
           }
          ],
          "parcoords": [
           {
            "line": {
             "colorbar": {
              "outlinewidth": 0,
              "ticks": ""
             }
            },
            "type": "parcoords"
           }
          ],
          "pie": [
           {
            "automargin": true,
            "type": "pie"
           }
          ],
          "scatter": [
           {
            "fillpattern": {
             "fillmode": "overlay",
             "size": 10,
             "solidity": 0.2
            },
            "type": "scatter"
           }
          ],
          "scatter3d": [
           {
            "line": {
             "colorbar": {
              "outlinewidth": 0,
              "ticks": ""
             }
            },
            "marker": {
             "colorbar": {
              "outlinewidth": 0,
              "ticks": ""
             }
            },
            "type": "scatter3d"
           }
          ],
          "scattercarpet": [
           {
            "marker": {
             "colorbar": {
              "outlinewidth": 0,
              "ticks": ""
             }
            },
            "type": "scattercarpet"
           }
          ],
          "scattergeo": [
           {
            "marker": {
             "colorbar": {
              "outlinewidth": 0,
              "ticks": ""
             }
            },
            "type": "scattergeo"
           }
          ],
          "scattergl": [
           {
            "marker": {
             "colorbar": {
              "outlinewidth": 0,
              "ticks": ""
             }
            },
            "type": "scattergl"
           }
          ],
          "scattermapbox": [
           {
            "marker": {
             "colorbar": {
              "outlinewidth": 0,
              "ticks": ""
             }
            },
            "type": "scattermapbox"
           }
          ],
          "scatterpolar": [
           {
            "marker": {
             "colorbar": {
              "outlinewidth": 0,
              "ticks": ""
             }
            },
            "type": "scatterpolar"
           }
          ],
          "scatterpolargl": [
           {
            "marker": {
             "colorbar": {
              "outlinewidth": 0,
              "ticks": ""
             }
            },
            "type": "scatterpolargl"
           }
          ],
          "scatterternary": [
           {
            "marker": {
             "colorbar": {
              "outlinewidth": 0,
              "ticks": ""
             }
            },
            "type": "scatterternary"
           }
          ],
          "surface": [
           {
            "colorbar": {
             "outlinewidth": 0,
             "ticks": ""
            },
            "colorscale": [
             [
              0,
              "#0d0887"
             ],
             [
              0.1111111111111111,
              "#46039f"
             ],
             [
              0.2222222222222222,
              "#7201a8"
             ],
             [
              0.3333333333333333,
              "#9c179e"
             ],
             [
              0.4444444444444444,
              "#bd3786"
             ],
             [
              0.5555555555555556,
              "#d8576b"
             ],
             [
              0.6666666666666666,
              "#ed7953"
             ],
             [
              0.7777777777777778,
              "#fb9f3a"
             ],
             [
              0.8888888888888888,
              "#fdca26"
             ],
             [
              1,
              "#f0f921"
             ]
            ],
            "type": "surface"
           }
          ],
          "table": [
           {
            "cells": {
             "fill": {
              "color": "#EBF0F8"
             },
             "line": {
              "color": "white"
             }
            },
            "header": {
             "fill": {
              "color": "#C8D4E3"
             },
             "line": {
              "color": "white"
             }
            },
            "type": "table"
           }
          ]
         },
         "layout": {
          "annotationdefaults": {
           "arrowcolor": "#2a3f5f",
           "arrowhead": 0,
           "arrowwidth": 1
          },
          "autotypenumbers": "strict",
          "coloraxis": {
           "colorbar": {
            "outlinewidth": 0,
            "ticks": ""
           }
          },
          "colorscale": {
           "diverging": [
            [
             0,
             "#8e0152"
            ],
            [
             0.1,
             "#c51b7d"
            ],
            [
             0.2,
             "#de77ae"
            ],
            [
             0.3,
             "#f1b6da"
            ],
            [
             0.4,
             "#fde0ef"
            ],
            [
             0.5,
             "#f7f7f7"
            ],
            [
             0.6,
             "#e6f5d0"
            ],
            [
             0.7,
             "#b8e186"
            ],
            [
             0.8,
             "#7fbc41"
            ],
            [
             0.9,
             "#4d9221"
            ],
            [
             1,
             "#276419"
            ]
           ],
           "sequential": [
            [
             0,
             "#0d0887"
            ],
            [
             0.1111111111111111,
             "#46039f"
            ],
            [
             0.2222222222222222,
             "#7201a8"
            ],
            [
             0.3333333333333333,
             "#9c179e"
            ],
            [
             0.4444444444444444,
             "#bd3786"
            ],
            [
             0.5555555555555556,
             "#d8576b"
            ],
            [
             0.6666666666666666,
             "#ed7953"
            ],
            [
             0.7777777777777778,
             "#fb9f3a"
            ],
            [
             0.8888888888888888,
             "#fdca26"
            ],
            [
             1,
             "#f0f921"
            ]
           ],
           "sequentialminus": [
            [
             0,
             "#0d0887"
            ],
            [
             0.1111111111111111,
             "#46039f"
            ],
            [
             0.2222222222222222,
             "#7201a8"
            ],
            [
             0.3333333333333333,
             "#9c179e"
            ],
            [
             0.4444444444444444,
             "#bd3786"
            ],
            [
             0.5555555555555556,
             "#d8576b"
            ],
            [
             0.6666666666666666,
             "#ed7953"
            ],
            [
             0.7777777777777778,
             "#fb9f3a"
            ],
            [
             0.8888888888888888,
             "#fdca26"
            ],
            [
             1,
             "#f0f921"
            ]
           ]
          },
          "colorway": [
           "#636efa",
           "#EF553B",
           "#00cc96",
           "#ab63fa",
           "#FFA15A",
           "#19d3f3",
           "#FF6692",
           "#B6E880",
           "#FF97FF",
           "#FECB52"
          ],
          "font": {
           "color": "#2a3f5f"
          },
          "geo": {
           "bgcolor": "white",
           "lakecolor": "white",
           "landcolor": "#E5ECF6",
           "showlakes": true,
           "showland": true,
           "subunitcolor": "white"
          },
          "hoverlabel": {
           "align": "left"
          },
          "hovermode": "closest",
          "mapbox": {
           "style": "light"
          },
          "paper_bgcolor": "white",
          "plot_bgcolor": "#E5ECF6",
          "polar": {
           "angularaxis": {
            "gridcolor": "white",
            "linecolor": "white",
            "ticks": ""
           },
           "bgcolor": "#E5ECF6",
           "radialaxis": {
            "gridcolor": "white",
            "linecolor": "white",
            "ticks": ""
           }
          },
          "scene": {
           "xaxis": {
            "backgroundcolor": "#E5ECF6",
            "gridcolor": "white",
            "gridwidth": 2,
            "linecolor": "white",
            "showbackground": true,
            "ticks": "",
            "zerolinecolor": "white"
           },
           "yaxis": {
            "backgroundcolor": "#E5ECF6",
            "gridcolor": "white",
            "gridwidth": 2,
            "linecolor": "white",
            "showbackground": true,
            "ticks": "",
            "zerolinecolor": "white"
           },
           "zaxis": {
            "backgroundcolor": "#E5ECF6",
            "gridcolor": "white",
            "gridwidth": 2,
            "linecolor": "white",
            "showbackground": true,
            "ticks": "",
            "zerolinecolor": "white"
           }
          },
          "shapedefaults": {
           "line": {
            "color": "#2a3f5f"
           }
          },
          "ternary": {
           "aaxis": {
            "gridcolor": "white",
            "linecolor": "white",
            "ticks": ""
           },
           "baxis": {
            "gridcolor": "white",
            "linecolor": "white",
            "ticks": ""
           },
           "bgcolor": "#E5ECF6",
           "caxis": {
            "gridcolor": "white",
            "linecolor": "white",
            "ticks": ""
           }
          },
          "title": {
           "x": 0.05
          },
          "xaxis": {
           "automargin": true,
           "gridcolor": "white",
           "linecolor": "white",
           "ticks": "",
           "title": {
            "standoff": 15
           },
           "zerolinecolor": "white",
           "zerolinewidth": 2
          },
          "yaxis": {
           "automargin": true,
           "gridcolor": "white",
           "linecolor": "white",
           "ticks": "",
           "title": {
            "standoff": 15
           },
           "zerolinecolor": "white",
           "zerolinewidth": 2
          }
         }
        },
        "title": {
         "text": "Inertia values for different number of clusters"
        },
        "xaxis": {
         "anchor": "y",
         "domain": [
          0,
          1
         ],
         "title": {
          "text": "x"
         }
        },
        "yaxis": {
         "anchor": "x",
         "domain": [
          0,
          1
         ],
         "title": {
          "text": "y"
         }
        }
       }
      }
     },
     "metadata": {},
     "output_type": "display_data"
    }
   ],
   "source": [
    "# it is hard to tell from these values where the elbow is\n",
    "# so let's plot it\n",
    "\n",
    "# let's plot our inertia values\n",
    "fig = px.line(x=n_clusters, y=inertia_values, title=\"Inertia values for different number of clusters\")\n",
    "# let's show our plot\n",
    "fig.show()"
   ]
  },
  {
   "cell_type": "code",
   "execution_count": 27,
   "metadata": {},
   "outputs": [
    {
     "data": {
      "text/plain": [
       "<Axes: >"
      ]
     },
     "execution_count": 27,
     "metadata": {},
     "output_type": "execute_result"
    },
    {
     "data": {
      "image/png": "[encoded data removed]",
      "text/plain": [
       "<Figure size 640x480 with 1 Axes>"
      ]
     },
     "metadata": {},
     "output_type": "display_data"
    }
   ],
   "source": [
    "# alternatively simpler graph using sns\n",
    "sns.lineplot(x=n_clusters, y=inertia_values)"
   ]
  },
  {
   "cell_type": "markdown",
   "metadata": {},
   "source": [
    "### Limitations of the elbow method\n",
    "\n",
    "It certainly looks like we do not have a clear cut elbow - break point.\n",
    "We can choose any number of cluster of our liking. We can also choose 10 clusters as we did before.\n",
    "\n",
    "Elbow method is just a tool. It might not provide enough additional information to justify the additional complexity of the model. It is up to us to decide if the additional complexity is worth it."
   ]
  },
  {
   "cell_type": "code",
   "execution_count": 26,
   "metadata": {},
   "outputs": [],
   "source": [
    "# We could play around with different clustering methods and different number of clusters\n",
    "\n",
    "# the general process is the same\n",
    "# initialize model from skleanr.cluster selection\n",
    "# docs: https://scikit-learn.org/stable/modules/clustering.html\n",
    "\n",
    "# train model using fit method\n",
    "\n",
    "# predict clusters using predict method\n",
    "\n",
    "# what would change is some of the parameters we pass in to our model\n",
    "# we can generally use default parameters for most models\n",
    "\n",
    "# the parameters that are used for fine-tuning are called hyperparameters. So we can say we are fine-tuning our model by changing hyperparameters.\n",
    "# Sounds fancy but it is just a matter of trying out different values for different parameters and seeing what works best for our data"
   ]
  },
  {
   "cell_type": "markdown",
   "metadata": {},
   "source": [
    "## Topic Modeling using Latent Dirichlet Allocation (LDA)\n",
    "\n",
    "If kmeans gives us strict clustering then LDA gives us soft clustering. In other words each document can belong to multiple topics.\n",
    "\n",
    "### LDA\n",
    "\n",
    "LDA is a generative probabilistic model. It assumes that each document is a mixture of topics and that each word in the document is attributable to the document's topics.\n",
    "\n",
    "### LDA in practice\n",
    "\n",
    "We do not have to implement LDA ourselves. We can use the implementation provided by gensim.\n",
    "\n",
    "Some more information on LDA: https://en.wikipedia.org/wiki/Latent_Dirichlet_allocation"
   ]
  },
  {
   "cell_type": "code",
   "execution_count": 28,
   "metadata": {},
   "outputs": [
    {
     "name": "stdout",
     "output_type": "stream",
     "text": [
      "['st', 'leonard', 'eastcheap', 'indict', 'feloniously', 'steal', 'pound', 'weight', 'tobacco', 'value', 'l', 's', 'good', 'job', 'wick', 'dwelling', 'house', 'say', 'job', 'wick', 'april', 'appear', 'prisoner', 'prosecutor', 'servant', 'fellow', 'servant', 'depose', 'perceive', 'pocket', 'stick', 'search', 'find', 'paper', 'tobacco', 'worth', 'd', 'own', 'master', 'take', 'cellar', 'constable', 'depose', 'confest', 'take', 'tobacco', 'time', 'say', 'paper', 'tobacco', 'produce', 'court', 'jury', 'consider', 'matter', 'find', 'guilty', 'value', 'd', 'transportation']\n",
      "['alice', 'jones', 'st', 'michaels', 'cornhill', 'indict', 'privately', 'steal', 'bermundas', 'hat', 'value', 's', 'shop', 'edward', 'hillior', 'april', 'prosecutors', 'servant', 'deposed', 'prisner', 'come', 'master', 'shop', 'askd', 'hat', 's', 'price', 'shew', 'agreed', 'say', 'country', 'stop', 'bishopsgatestreet', 'coach', 'go', 'come', 'fetch', 'go', 'shop', 'perceive', 'hardly', 'walk', 'fetcht', 'hat', 'mention', 'indictment', 'fall', 'leg', 'depose', 'see', 'evidence', 'hat', 'petticoat', 'prisoner', 'deny', 'fact', 'call', 'person', 'reputation', 'give', 'good', 'character', 'say', 'rent', 'house', 'l', 'year', 'petty', 'france', 'westminster', 'tell', 'justice', 'livd', 'kingstreet', 'jury', 'consider', 'matter', 'find', 'guilty', 'value', 'd', 'transportation']\n",
      "['james', 'wilson', 'st', 'katharine', 'coleman', 'indict', 'feloniously', 'steal', 'pound', 'beef', 'value', 's', 'good', 'charle', 'watts', 'april', 'mary', 'watts', 'deposed', 'gentleman', 'come', 'bar', 'clock', 'night', 'tell', 'fellow', 'lurking', 'house', 'prisoner', 'come', 'bar', 'take', 'rump', 'beef', 'hung', 'pursue', 'dropt', 'door', 'see', 'plain', 'sure', 'prisoner', 'person', 'cookmaid', 'deposed', 'see', 'prisoner', 'beef', 'lift', 'times', 'hook', 'prisoner', 'defence', 'say', 'drinking', 'run', 'head', 'beef', 'fall', 'appear', 'evidence', 'dropt', 'yard', 'place', 'hung', 'jury', 'find', 'guilty', 'value', 'd', 'transportation']\n"
     ]
    }
   ],
   "source": [
    "### LDA MODEL\n",
    "## Doc for gensim LDA model: https://radimrehurek.com/gensim/models/ldamodel.html\n",
    "\n",
    "# gensim needs list of lists of tokens - here words\n",
    "\n",
    "# we already have our lemma column with list of lemmas\n",
    "# we can use that\n",
    "texts = df.words_lemmatized.to_list()\n",
    "# print first 3 rows\n",
    "print(*texts[:3], sep = \"\\n\")\n",
    "# here we can see that we could have cleaned our data we have some really short lists\n",
    "# also getting rid of say digits actually robbed us of some information"
   ]
  },
  {
   "cell_type": "code",
   "execution_count": 29,
   "metadata": {},
   "outputs": [
    {
     "name": "stdout",
     "output_type": "stream",
     "text": [
      "Number of words in our dictionary 18118\n"
     ]
    }
   ],
   "source": [
    "# now we need to create a dictionary of our words\n",
    "# we will use gensim corpora Dictionary class\n",
    "# docs: https://radimrehurek.com/gensim/corpora/dictionary.html\n",
    "\n",
    "from gensim.corpora import Dictionary\n",
    "\n",
    "# let's create our dictionary\n",
    "dictionary = Dictionary(texts)\n",
    "# let's check out our dictionary\n",
    "# print how many words we have in our dictionary\n",
    "print(\"Number of words in our dictionary\", len(dictionary)) \n",
    "# that certainly seems familiar from our previous work that's good news\n",
    "\n"
   ]
  },
  {
   "cell_type": "code",
   "execution_count": 30,
   "metadata": {},
   "outputs": [
    {
     "name": "stdout",
     "output_type": "stream",
     "text": [
      "First 10 words in our dictionary [(0, 'appear'), (1, 'april'), (2, 'cellar'), (3, 'confest'), (4, 'consider'), (5, 'constable'), (6, 'court'), (7, 'd'), (8, 'depose'), (9, 'dwelling')]\n",
      "Last 10 words in our dictionary [(18108, 'mb'), (18109, 'morally'), (18110, 'noncombatant'), (18111, 'olive'), (18112, 'prain'), (18113, 'radius'), (18114, 'towingpath'), (18115, 'unclimbable'), (18116, 'wharry'), (18117, 'yeddon')]\n",
      "Middle 10 words in our dictionary [(9054, 'judging'), (9055, 'juries'), (9056, 'kin'), (9057, 'kingstonuponhull'), (9058, 'lawyer'), (9059, 'learned'), (9060, 'lease'), (9061, 'ledgerclerk'), (9062, 'legally'), (9063, 'levitt')]\n"
     ]
    }
   ],
   "source": [
    "# print first 10 words in our dictionary\n",
    "print(\"First 10 words in our dictionary\", list(dictionary.items())[:10])\n",
    "# last 10 words in our dictionary\n",
    "print(\"Last 10 words in our dictionary\", list(dictionary.items())[-10:])\n",
    "# how about m iddle 10 words in our dictionary\n",
    "print(\"Middle 10 words in our dictionary\", list(dictionary.items())[len(dictionary)//2-5:len(dictionary)//2+5])"
   ]
  },
  {
   "cell_type": "code",
   "execution_count": 31,
   "metadata": {},
   "outputs": [
    {
     "name": "stdout",
     "output_type": "stream",
     "text": [
      "Words starting with b [(50, 'bermundas'), (51, 'bishopsgatestreet'), (97, 'bar'), (98, 'beef'), (131, 'believe'), (160, 'benjamin'), (177, 'bengodwin'), (187, 'bring'), (200, 'botolph'), (241, 'brandy'), (242, 'break'), (243, 'breeche'), (268, 'book'), (301, 'bride'), (305, 'bishopsgate'), (306, 'breaking'), (319, 'burglary'), (343, 'bridge'), (354, 'blackwellhall'), (355, 'blue'), (356, 'broadcloth'), (357, 'bundle'), (358, 'buy'), (412, 'barter'), (413, 'bent'), (430, 'baker'), (431, 'broad'), (449, 'brandyshop'), (460, 'black'), (461, 'boney'), (462, 'boy'), (504, 'bid'), (505, 'bigness'), (548, 'beat'), (549, 'believd'), (550, 'bell'), (551, 'bloody'), (552, 'bull'), (641, 'box'), (642, 'brass'), (643, 'brother'), (684, 'busy'), (698, 'bed'), (716, 'brown'), (736, 'beesley'), (737, 'blackd'), (738, 'body'), (775, 'beer'), (790, 'bigg'), (791, 'biggs'), (792, 'bolearmoniac'), (793, 'boyle'), (794, 'breakfast'), (882, 'blanket'), (921, 'breech'), (924, 'bay'), (953, 'barbara'), (954, 'bartholomew'), (962, 'burn'), (965, 'barrimore'), (979, 'binks'), (1009, 'brooks'), (1013, 'bespoke'), (1014, 'blank'), (1077, 'becket'), (1080, 'burra'), (1081, 'button'), (1103, 'boat'), (1104, 'brillant'), (1165, 'bagnal'), (1183, 'bartrum'), (1195, 'burglariously'), (1205, 'bailey'), (1206, 'buckle'), (1223, 'bobbin'), (1257, 'bloomsbury'), (1280, 'bosom'), (1281, 'bullyd'), (1303, 'bellas'), (1319, 'bakersshop'), (1320, 'beard'), (1321, 'behavd'), (1322, 'bockhole'), (1323, 'borrow'), (1324, 'borrowd'), (1325, 'bowd'), (1392, 'bridget'), (1428, 'botolphs'), (1457, 'bad'), (1458, 'belong'), (1459, 'bind'), (1460, 'bravely'), (1461, 'breakings'), (1462, 'build'), (1463, 'building'), (1464, 'business'), (1510, 'belladine'), (1520, 'bastock'), (1533, 'brasspot'), (1538, 'bellamy'), (1589, 'bitch'), (1590, 'browns'), (1591, 'bye'), (1613, 'bushel'), (1620, 'barnard'), (1624, 'bail'), (1625, 'bottle'), (1626, 'buying'), (1642, 'balak'), (1671, 'bacon'), (1710, 'bank'), (1711, 'banknote'), (1712, 'basket'), (1713, 'bayne'), (1714, 'baynes'), (1715, 'bayness'), (1716, 'bearer'), (1717, 'bird'), (1718, 'blame'), (1719, 'blewet'), (1720, 'bostock'), (1721, 'breast'), (1781, 'bashrite'), (1782, 'beauffet'), (1783, 'bury'), (1799, 'barbarously'), (1800, 'blood'), (1801, 'bridewell'), (1802, 'butler'), (1843, 'backside'), (1844, 'backwards'), (1845, 'bear'), (1846, 'bench'), (1847, 'bene'), (1848, 'bidding'), (1849, 'blockhead'), (1850, 'blow'), (1851, 'brandyface'), (1931, 'ball'), (1932, 'betwixt'), (1933, 'bullet'), (1993, 'bargain'), (1994, 'barrat'), (1995, 'brentford'), (2019, 'blind'), (2020, 'bluedick'), (2021, 'bone'), (2022, 'boot'), (2023, 'bridle'), (2024, 'burch'), (2063, 'bartholomews'), (2064, 'beggd'), (2065, 'bentley'), (2066, 'bently'), (2115, 'barne'), (2116, 'barnes'), (2117, 'bartrup'), (2118, 'behave'), (2119, 'bowl'), (2120, 'brace'), (2121, 'brewd'), (2221, 'barn'), (2222, 'bread'), (2223, 'bush'), (2224, 'butter'), (2284, 'bag'), (2285, 'belongd'), (2286, 'board'), (2287, 'butcher'), (2322, 'bare'), (2323, 'bathmetal'), (2324, 'beaumont'), (2325, 'bedchamber'), (2326, 'bencher'), (2327, 'borough'), (2328, 'burley'), (2362, 'bedside'), (2363, 'beg'), (2364, 'begin'), (2365, 'belly'), (2366, 'billy'), (2367, 'bineham'), (2368, 'bit'), (2369, 'bo'), (2370, 'bowel'), (2371, 'branding'), (2372, 'bruise'), (2373, 'burst'), (2374, 'bystander'), (2485, 'bakewell'), (2486, 'bennet'), (2508, 'botham'), (2511, 'b'), (2512, 'barbarcusly'), (2513, 'bawdyhouse'), (2514, 'binggs'), (2515, 'birk'), (2516, 'brag'), (2553, 'bunch'), (2567, 'bellow'), (2568, 'benfield'), (2572, 'bristow'), (2573, 'behaviour'), (2574, 'boys'), (2575, 'buggery'), (2587, 'beach'), (2588, 'brownstreet'), (2631, 'banister'), (2632, 'beck'), (2633, 'belive'), (2634, 'boomer'), (2635, 'bore'), (2636, 'bricklayer'), (2637, 'brokery'), (2638, 'bus'), (2639, 'bustle'), (2695, 'bluck'), (2705, 'bagley'), (2706, 'bagleys'), (2707, 'blackswanalley'), (2708, 'boiler'), (2709, 'bolt'), (2710, 'broke'), (2765, 'baldwins'), (2766, 'barber'), (2767, 'beachlane'), (2768, 'bean'), (2769, 'bleed'), (2770, 'bless'), (2771, 'breath'), (2772, 'bristol'), (2816, 'baize'), (2839, 'barnabas'), (2840, 'behalf'), (2841, 'benefit'), (2842, 'bequeath'), (2843, 'blackish'), (2844, 'bodily'), (2845, 'bolton'), (2846, 'borne'), (2847, 'boyden'), (2848, 'branch'), (2849, 'brow'), (2850, 'burton'), (3090, 'bonus'), (3096, 'blade'), (3097, 'broomstick'), (3098, 'burnham'), (3163, 'baffle'), (3164, 'bald'), (3165, 'ballet'), (3166, 'bartholmews'), (3167, 'beerlane'), (3168, 'big'), (3169, 'blunderbuss'), (3170, 'bobbd'), (3171, 'bolter'), (3172, 'breadth'), (3173, 'burgess'), (3174, 'buttonhole'), (3313, 'bonnell'), (3314, 'briers'), (3327, 'berrit'), (3329, 'burk'), (3332, 'badly'), (3333, 'bankrupt'), (3334, 'bookkeeper'), (3335, 'brasier'), (3336, 'brifant'), (3337, 'brooker'), (3438, 'barret'), (3439, 'barrett'), (3451, 'bine'), (3453, 'bobin'), (3462, 'bartin'), (3470, 'bullenger'), (3483, 'bolster'), (3489, 'broker'), (3490, 'busbey'), (3514, 'berkshire'), (3536, 'beezley'), (3537, 'blackfriar'), (3538, 'blankets'), (3552, 'bowstreet'), (3553, 'bully'), (3576, 'bat'), (3577, 'bound'), (3578, 'brain'), (3579, 'brick'), (3580, 'brickbat'), (3642, 'begged'), (3643, 'bishop'), (3658, 'boulster'), (3666, 'barefoot'), (3667, 'bess'), (3668, 'bill'), (3669, 'brewer'), (3716, 'bonnet'), (3724, 'bane'), (3725, 'beecher'), (3726, 'borehams'), (3727, 'brand'), (3750, 'barrel'), (3753, 'bulkley'), (3756, 'birth'), (3757, 'briant'), (3783, 'bevil'), (3784, 'brittin'), (3833, 'bullock'), (3836, 'booth'), (3837, 'bulk'), (3859, 'bow'), (3866, 'bargaining'), (3867, 'barnet'), (3868, 'bunn'), (3883, 'beset'), (3884, 'bluster'), (3885, 'britain'), (3945, 'band'), (3946, 'barnett'), (3947, 'barwell'), (3948, 'bob'), (3949, 'boyce'), (4018, 'bramley'), (4019, 'brotherinlaw'), (4052, 'baild'), (4067, 'breeches'), (4078, 'barleymow'), (4079, 'breeding'), (4080, 'briley'), (4081, 'burnet'), (4100, 'bason'), (4101, 'basons'), (4110, 'back'), (4111, 'battle'), (4112, 'baulk'), (4158, 'blackboyalley'), (4159, 'brookers'), (4160, 'burry'), (4187, 'brownridge'), (4188, 'bucker'), (4207, 'barbarous'), (4208, 'butts'), (4228, 'burrel'), (4241, 'belonged'), (4252, 'bundled'), (4271, 'bisborn'), (4287, 'barge'), (4288, 'bargeman'), (4289, 'bate'), (4290, 'bushels'), (4331, 'boyd'), (4336, 'benbrook'), (4390, 'brookss'), (4432, 'bottles'), (4449, 'beforementione'), (4450, 'berry'), (4487, 'banknotes'), (4488, 'blenheimstreet'), (4559, 'balance'), (4560, 'blackiston'), (4577, 'bedcloath'), (4578, 'belton'), (4579, 'bradfield'), (4580, 'brenton'), (4611, 'banker'), (4635, 'blare'), (4636, 'bloor'), (4648, 'bladin'), (4650, 'bourset'), (4651, 'butson'), (4670, 'batcock'), (4687, 'brainsout'), (4732, 'base'), (4750, 'belford'), (4751, 'blacksmith'), (4796, 'bayley'), (4811, 'burland'), (4817, 'bannister'), (4818, 'barrow'), (4833, 'bagnio'), (4850, 'badge'), (4851, 'beadle'), (4896, 'bayonet'), (4897, 'bromley'), (4918, 'barlow'), (4919, 'barrack'), (4920, 'belied'), (4921, 'bond'), (4922, 'brickmaker'), (5008, 'bounce'), (5014, 'bass'), (5015, 'bunns'), (5025, 'burridge'), (5030, 'boots'), (5037, 'byhen'), (5042, 'baird'), (5056, 'brutton'), (5057, 'bryan'), (5066, 'beckon'), (5080, 'banyer'), (5081, 'blackhorseyard'), (5082, 'boose'), (5115, 'blond'), (5123, 'bowre'), (5124, 'bowring'), (5137, 'barnsby'), (5138, 'bradley'), (5161, 'barton'), (5162, 'breed'), (5219, 'beadles'), (5220, 'blower'), (5221, 'broadstreet'), (5245, 'beli'), (5254, 'bright'), (5295, 'bethnallgreen'), (5296, 'blemish'), (5297, 'bruce'), (5326, 'bellyard'), (5327, 'blakesley'), (5328, 'blakesleys'), (5329, 'burleystreet'), (5362, 'bryant'), (5369, 'blanchville'), (5370, 'booty'), (5371, 'brindley'), (5372, 'bugger'), (5409, 'budd'), (5423, 'broadus'), (5436, 'bath'), (5437, 'beaver'), (5464, 'bastard'), (5465, 'bowman'), (5466, 'bradford'), (5490, 'brookhouse'), (5491, 'brookhouses'), (5492, 'brookstreet'), (5493, 'bureau'), (5513, 'bathfield'), (5514, 'bible'), (5515, 'bluecourt'), (5516, 'bumford'), (5532, 'bochero'), (5566, 'burke'), (5575, 'beneficially'), (5618, 'badrou'), (5619, 'baron'), (5620, 'barracks'), (5621, 'battlement'), (5622, 'beginning'), (5623, 'berkleysquare'), (5624, 'blacks'), (5625, 'brazill'), (5626, 'bribe'), (5627, 'brig'), (5628, 'briton'), (5629, 'brook'), (5630, 'burial'), (5948, 'backward'), (5949, 'bayswater'), (5950, 'belief'), (5951, 'bourne'), (5952, 'bouse'), (5953, 'boxall'), (5954, 'budds'), (6033, 'blackwall'), (6060, 'bedroom'), (6061, 'bookcase'), (6085, 'byng'), (6103, 'bowden'), (6106, 'brewhouse'), (6111, 'bedstead'), (6123, 'brazier'), (6139, 'backdoor'), (6140, 'builder'), (6168, 'bodys'), (6169, 'brush'), (6187, 'briggs'), (6188, 'briggss'), (6189, 'broomhall'), (6190, 'bushell'), (6213, 'barrington'), (6214, 'bleach'), (6215, 'bleached'), (6216, 'bleaching'), (6217, 'bleachingfield'), (6218, 'bramble'), (6266, 'bearquaystair'), (6267, 'blast'), (6284, 'basinghallstreet'), (6285, 'breechesmaker'), (6286, 'briscoe'), (6297, 'beachstreet'), (6309, 'blanks'), (6371, 'bringing'), (6384, 'backparlour'), (6393, 'beneath'), (6408, 'benchi'), (6409, 'buck'), (6425, 'beale'), (6440, 'bastwicke'), (6456, 'bourn'), (6457, 'buckinghamstreet'), (6461, 'bart'), (6462, 'bray'), (6485, 'bournes'), (6492, 'bucklersbury'), (6497, 'babe'), (6520, 'brewerstreet'), (6526, 'bloodyback'), (6550, 'baldwinsgarden'), (6551, 'baldwinsplace'), (6552, 'balley'), (6553, 'brassfounder'), (6554, 'breechespocket'), (6555, 'brightening'), (6556, 'brogden'), (6597, 'branford'), (6644, 'bumboat'), (6699, 'beet'), (6714, 'bead'), (6715, 'blanc'), (6716, 'breastpin'), (6781, 'briggive'), (6803, 'blaise'), (6813, 'barbican'), (6814, 'bennett'), (6829, 'batband'), (6848, 'bedfordsquare'), (6849, 'bowle'), (6871, 'blows'), (6872, 'blunt'), (6873, 'boil'), (6874, 'brady'), (6875, 'brandish'), (6876, 'burden'), (6927, 'blackman'), (6928, 'brownbear'), (6945, 'bennetts'), (6946, 'brodie'), (6960, 'beam'), (6961, 'bolland'), (6989, 'bend'), (7015, 'bankinghouse'), (7040, 'barr'), (7041, 'basement'), (7067, 'barker'), (7092, 'byrne'), (7109, 'beefshop'), (7116, 'bedford'), (7151, 'bliss'), (7152, 'buttend'), (7165, 'barrier'), (7174, 'blacklionyard'), (7183, 'bernard'), (7193, 'betts'), (7198, 'bly'), (7209, 'batter'), (7210, 'bulls'), (7250, 'bridport'), (7259, 'bowyer'), (7271, 'bin'), (7272, 'boar'), (7273, 'boltintun'), (7274, 'brides'), (7275, 'bunhillrow'), (7314, 'brickfield'), (7319, 'block'), (7324, 'benwell'), (7336, 'bartholomewlane'), (7337, 'billingsgate'), (7338, 'billiterlane'), (7339, 'broughton'), (7340, 'buckles'), (7372, 'brererons'), (7373, 'brereton'), (7384, 'bastardchild'), (7385, 'ballspond'), (7386, 'barring'), (7387, 'bloodtub'), (7388, 'butchershill'), (7415, 'befor'), (7416, 'bellalley'), (7417, 'bish'), (7418, 'bishs'), (7419, 'bosomfriend'), (7420, 'brookes'), (7421, 'byename'), (7483, 'blueanchoralley'), (7507, 'butlerwilliam'), (7515, 'bankside'), (7516, 'bethlemwall'), (7525, 'blueboar'), (7526, 'butterboat'), (7533, 'bridgesstreet'), (7552, 'blessed'), (7553, 'bricklane'), (7567, 'boothby'), (7575, 'buffler'), (7599, 'browne'), (7631, 'beadblower'), (7632, 'bracelet'), (7633, 'brownes'), (7671, 'bernersstreet'), (7672, 'blenheim'), (7684, 'bankers'), (7685, 'bluhm'), (7723, 'bridelane'), (7735, 'bolen'), (7736, 'bookbinder'), (7737, 'bookseller'), (7738, 'butcherhallhall'), (7777, 'bereave'), (7778, 'bobbery'), (7779, 'bullhead'), (7780, 'bullinn'), (7829, 'bought'), (7860, 'backroad'), (7861, 'balam'), (7862, 'bedfordshire'), (7888, 'birdsbuilding'), (7889, 'buffett'), (7921, 'backlane'), (7942, 'blacklinslane'), (7943, 'blot'), (7944, 'boltonstreet'), (7945, 'bondstreet'), (7946, 'brighton'), (7947, 'bromptonrow'), (7977, 'broom'), (8017, 'bootmaker'), (8035, 'bombazett'), (8036, 'bootlace'), (8047, 'baileys'), (8048, 'barnwell'), (8049, 'bleeding'), (8069, 'bailiff'), (8070, 'bladder'), (8084, 'barry'), (8085, 'beast'), (8086, 'boddy'), (8087, 'boddys'), (8119, 'balsover'), (8120, 'belsover'), (8134, 'bramwell'), (8137, 'berridge'), (8140, 'boarding'), (8187, 'barbers'), (8192, 'bland'), (8193, 'broach'), (8198, 'banefield'), (8217, 'barnets'), (8218, 'bewen'), (8265, 'beal'), (8279, 'bedfordstreet'), (8280, 'briskly'), (8290, 'bargan'), (8291, 'bartell'), (8292, 'boothstreet'), (8328, 'burdon'), (8349, 'best'), (8359, 'bethnalgreen'), (8378, 'backhill'), (8379, 'bedpi'), (8380, 'bedpillar'), (8381, 'bedpost'), (8382, 'blackhall'), (8414, 'baby'), (8417, 'billet'), (8433, 'blinman'), (8436, 'battlebridge'), (8444, 'bloomsburysquare'), (8457, 'beech'), (8458, 'beechs'), (8459, 'biddy'), (8460, 'bigby'), (8473, 'barclay'), (8485, 'baldwyn'), (8495, 'bannerstreet'), (8514, 'brompton'), (8528, 'burt'), (8546, 'brokers'), (8551, 'bowker'), (8566, 'blackwater'), (8577, 'boston'), (8578, 'brodrick'), (8587, 'bedsteadmaker'), (8588, 'buckland'), (8589, 'bundock'), (8604, 'bramhall'), (8605, 'broken'), (8632, 'bedclothe'), (8633, 'boutle'), (8650, 'baldwin'), (8651, 'butterfield'), (8652, 'byrom'), (8671, 'bedgown'), (8672, 'blackfriarsroad'), (8691, 'bethell'), (8707, 'bang'), (8708, 'billbook'), (8717, 'betsy'), (8732, 'battalion'), (8739, 'bodied'), (8746, 'bleaden'), (8749, 'bridgestreet'), (8761, 'bandbox'), (8762, 'buttonmerchant'), (8777, 'birchinlane'), (8794, 'brickhill'), (8810, 'brownslane'), (8821, 'birdsneste'), (8841, 'beecroft'), (8842, 'bugg'), (8849, 'balcony'), (8850, 'boswell'), (8853, 'branchs'), (8860, 'brunswicksquare'), (8866, 'bryson'), (8893, 'bartlett'), (8894, 'bartletts'), (8899, 'beatty'), (8901, 'blackheath'), (8915, 'blythe'), (8955, 'ballan'), (8956, 'barrister'), (8957, 'beverley'), (8958, 'blunder'), (8959, 'boards'), (8960, 'botany'), (8961, 'bounty'), (9174, 'bedfordbury'), (9175, 'bew'), (9176, 'bulky'), (9181, 'blake'), (9182, 'buckinghamshire'), (9203, 'bertrand'), (9209, 'bite'), (9234, 'basay'), (9235, 'becks'), (9236, 'ben'), (9237, 'berkelysquare'), (9238, 'berkelystreet'), (9239, 'bronze'), (9240, 'brutonstreet'), (9241, 'buff'), (9242, 'bulwark'), (9243, 'burlington'), (9318, 'balduck'), (9323, 'bakerscourt'), (9329, 'bampton'), (9330, 'brackleystreet'), (9335, 'beaumontstreet'), (9353, 'berkeleysquare'), (9362, 'brooch'), (9365, 'barrs'), (9391, 'brownlowstreet'), (9398, 'buckley'), (9413, 'beechstreet'), (9442, 'boss'), (9443, 'braybrook'), (9455, 'boothook'), (9470, 'burystreet'), (9496, 'barnetts'), (9503, 'brightness'), (9512, 'bryanstonesquare'), (9531, 'blackfriarsbridge'), (9532, 'border'), (9533, 'bouste'), (9567, 'betray'), (9568, 'bosanquet'), (9569, 'broderick'), (9570, 'byelaw'), (9679, 'bonner'), (9686, 'belllane'), (9698, 'baylis'), (9702, 'boxglass'), (9703, 'brett'), (9710, 'brewery'), (9736, 'birdseye'), (9740, 'basinghouse'), (9750, 'bowsyard'), (9758, 'bother'), (9761, 'burlingtongarden'), (9769, 'butterworth'), (9793, 'burrell'), (9801, 'blackshall'), (9802, 'bradshall'), (9814, 'berwickstreet'), (9821, 'bebetween'), (9833, 'beaufortsbuilding'), (9840, 'barrettsbuilding'), (9850, 'badger'), (9851, 'bitterly'), (9852, 'bowser'), (9853, 'butt'), (9861, 'bassano'), (9862, 'bidgood'), (9863, 'brindle'), (9878, 'beris'), (9879, 'bowfield'), (9880, 'burrough'), (9887, 'buckeringestreet'), (9894, 'bedding'), (9927, 'brockelbank'), (9945, 'betty'), (9973, 'bullard'), (9975, 'boulton'), (9977, 'boucher'), (9985, 'bowcommon'), (9992, 'bakers'), (10005, 'bryand'), (10006, 'bryands'), (10013, 'bursey'), (10032, 'bryanstonstreet'), (10033, 'buckeridge'), (10050, 'brickeridge'), (10051, 'bridgewatersquare'), (10071, 'balme'), (10077, 'burrow'), (10082, 'belcher'), (10107, 'bot'), (10128, 'benton'), (10129, 'browsers'), (10140, 'browser'), (10164, 'benedicto'), (10172, 'bale'), (10173, 'boroughtroad'), (10211, 'boykett'), (10221, 'blackburn'), (10267, 'bartram'), (10298, 'bagatelles'), (10299, 'bawker'), (10300, 'beercaller'), (10301, 'beercellar'), (10302, 'bide'), (10303, 'brooke'), (10342, 'bankbook'), (10343, 'beseech'), (10403, 'barparlour'), (10404, 'breakfasted'), (10432, 'basin'), (10433, 'beans'), (10434, 'benson'), (10435, 'brushel'), (10436, 'bsh'), (10506, 'blay'), (10516, 'belonging'), (10523, 'beckenham'), (10524, 'blundell'), (10555, 'bootjack'), (10559, 'bushnell'), (10581, 'boywho'), (10588, 'blair'), (10589, 'bodkin'), (10590, 'bricker'), (10608, 'bolstercase'), (10633, 'brenford'), (10648, 'britanniastreet'), (10649, 'burgesss'), (10650, 'burgkes'), (10669, 'britanniaplace'), (10679, 'backroom'), (10680, 'bloomsburry'), (10687, 'bidmead'), (10725, 'banns'), (10726, 'beating'), (10727, 'bowlingstreet'), (10728, 'brutal'), (10771, 'beckman'), (10779, 'bates'), (10780, 'battlebridgeroad'), (10781, 'beershop'), (10798, 'birch'), (10805, 'brunewickstreet'), (10806, 'burtoncrescent'), (10815, 'bigamy'), (10816, 'blackfrairsroad'), (10817, 'bursell'), (10823, 'berrys'), (10831, 'bankruptcy'), (10832, 'biden'), (10833, 'bits'), (10863, 'believeabout'), (10864, 'birdsalley'), (10865, 'bloom'), (10878, 'burning'), (10906, 'begent'), (10907, 'bransgrove'), (10920, 'balconyfront'), (10921, 'beall'), (10966, 'binder'), (10967, 'bock'), (10968, 'books'), (10969, 'bookshop'), (10970, 'botanical'), (10971, 'brandyu'), (10972, 'britannica'), (11033, 'beautifully'), (11034, 'booksellers'), (11035, 'bullandmouthstreet'), (11036, 'buyer'), (11139, 'background'), (11140, 'backing'), (11141, 'balls'), (11142, 'ballsd'), (11143, 'banch'), (11144, 'banjamin'), (11145, 'banking'), (11146, 'bargin'), (11147, 'barmiess'), (11148, 'beeen'), (11149, 'ber'), (11150, 'bettter'), (11151, 'birmingham'), (11152, 'bishopaagtestreet'), (11153, 'blan'), (11154, 'blus'), (11155, 'boor'), (11156, 'borkin'), (11157, 'branston'), (11158, 'british'), (11159, 'brookersgarden'), (11160, 'brought'), (11161, 'busicess'), (11162, 'bussiness'), (11518, 'bavk'), (11557, 'byt'), (11620, 'ballss'), (11621, 'beady'), (11622, 'booknote'), (11623, 'brassplate'), (11624, 'bussellstreet'), (11625, 'bytheby'), (11677, 'bark'), (11678, 'bellyache'), (11679, 'blindfold'), (11680, 'byandby'), (11757, 'blackmanstreet'), (11760, 'boroughmarket'), (11761, 'bre'), (11781, 'bastable'), (11805, 'bakerstreet'), (11806, 'bellhanger'), (11863, 'breakfasttime'), (11893, 'bulpit'), (11934, 'broning'), (11935, 'braddick'), (11942, 'bartholomewclose'), (11945, 'bake'), (11946, 'breadshelf'), (11952, 'burlingtonstreet'), (11967, 'brainfever'), (11993, 'basto'), (11994, 'brito'), (12038, 'balleras'), (12039, 'boyn'), (12072, 'bateman'), (12076, 'brannan'), (12081, 'ballantine'), (12082, 'barkingalley'), (12107, 'bladon'), (12115, 'bastone'), (12128, 'blandfordplace'), (12129, 'burnett'), (12133, 'boswellcourt'), (12134, 'buckeridgestreet'), (12146, 'bermondsey'), (12156, 'bruin'), (12166, 'barmaid'), (12198, 'brine'), (12215, 'belt'), (12216, 'breadandbutter'), (12258, 'bolar'), (12259, 'bottlejack'), (12266, 'bundy'), (12316, 'belgravestreet'), (12317, 'biscuit'), (12318, 'bitten'), (12332, 'berkley'), (12333, 'bothcounterfeit'), (12339, 'backyard'), (12358, 'barrackgate'), (12364, 'bretts'), (12391, 'betwen'), (12392, 'brushmaker'), (12410, 'bermondseystreet'), (12411, 'bowler'), (12412, 'burys'), (12429, 'bentinckstreet'), (12430, 'bramah'), (12431, 'browning'), (12478, 'brind'), (12480, 'blanchard'), (12483, 'bragg'), (12487, 'burgoyne'), (12493, 'broadway'), (12494, 'bunter'), (12519, 'blackwood'), (12543, 'barman'), (12561, 'badham'), (12586, 'baxter'), (12587, 'baxters'), (12588, 'boggis'), (12589, 'bottled'), (12590, 'bovill'), (12591, 'bowerstreet'), (12592, 'bradshaw'), (12593, 'bramleystreet'), (12594, 'brewster'), (12595, 'brixton'), (12596, 'bromleystreet'), (12597, 'bunk'), (12598, 'burnell'), (12686, 'bathplace'), (12687, 'brize'), (12724, 'bellesauvage'), (12725, 'bogs'), (12745, 'bareface'), (12746, 'brownish'), (12761, 'byford'), (12776, 'bold'), (12780, 'backhand'), (12781, 'bade'), (12782, 'beautiful'), (12800, 'burglar'), (12830, 'beda'), (12833, 'buyrus'), (12845, 'babys'), (12846, 'bandage'), (12847, 'bottomed'), (12848, 'breathe'), (12849, 'bronchitis'), (12850, 'bucket'), (12899, 'behold'), (12959, 'burchett'), (12960, 'bet'), (12961, 'burchetts'), (13023, 'brasil'), (13033, 'borrowing'), (13060, 'brassey'), (13061, 'brasseys'), (13062, 'bridgeplace'), (13096, 'baldfaced'), (13122, 'bowles'), (13151, 'bowsel'), (13157, 'bowling'), (13167, 'besley'), (13168, 'billitersquare'), (13169, 'bligh'), (13214, 'bliar'), (13215, 'bowlane'), (13228, 'bif'), (13229, 'brewerslane'), (13246, 'borea'), (13250, 'backway'), (13251, 'breaksman'), (13279, 'baugham'), (13291, 'bearstreet'), (13301, 'belinda'), (13304, 'batcher'), (13305, 'busame'), (13306, 'byandbye'), (13334, 'bingham'), (13356, 'barege'), (13357, 'brixtonroad'), (13389, 'bilberry'), (13418, 'backboard'), (13435, 'barleycourt'), (13436, 'bresnahan'), (13467, 'ballast'), (13506, 'bathe'), (13507, 'brothel'), (13538, 'billingsgatemarket'), (13539, 'boyhood'), (13540, 'bridgehouseplace'), (13541, 'brisklayer'), (13563, 'bithray'), (13571, 'bedfordcourt'), (13579, 'behindhand'), (13602, 'bun'), (13606, 'baggott'), (13611, 'bethnalgreenroad'), (13622, 'beresfordstreet'), (13663, 'bagatelle'), (13664, 'bagatelleboard'), (13665, 'bagatelleroom'), (13666, 'bagatelleroomdoor'), (13667, 'balantine'), (13668, 'baldock'), (13669, 'barometer'), (13670, 'baud'), (13671, 'bickleystreet'), (13672, 'blindroller'), (13673, 'bordessa'), (13674, 'bordessas'), (13675, 'boxingnight'), (13676, 'broomhandle'), (13677, 'byle'), (13758, 'backwall'), (13759, 'bakersrow'), (13760, 'bellcourt'), (13761, 'brushing'), (13762, 'byestreet'), (13807, 'bhas'), (13824, 'billiard'), (13825, 'billiardroom'), (13826, 'bullcourt'), (13860, 'brothers'), (13871, 'batturs'), (13872, 'buchanan'), (13877, 'blostock'), (13892, 'blackheathroad'), (13893, 'brasswork'), (13894, 'breastpocket'), (13915, 'bailee'), (13916, 'bookingclerk'), (13917, 'brightonrailway'), (13958, 'blyth'), (13966, 'biss'), (13967, 'bridgeroad'), (13968, 'brotherconstable'), (14020, 'badness'), (14021, 'baptism'), (14022, 'baptize'), (14023, 'baugh'), (14024, 'beasley'), (14025, 'beaulah'), (14026, 'begley'), (14027, 'beranger'), (14028, 'beulah'), (14029, 'biographical'), (14030, 'biography'), (14031, 'blackland'), (14032, 'blameless'), (14033, 'blandford'), (14034, 'bloq'), (14035, 'boarder'), (14036, 'bohn'), (14037, 'breathing'), (14038, 'brief'), (14039, 'broadmoor'), (14040, 'brutus'), (14041, 'bythebye'), (14525, 'bri'), (14532, 'bachelor'), (14533, 'beedlestonb'), (14534, 'buckingham'), (14559, 'boxingday'), (14575, 'broomfield'), (14610, 'buckleys'), (14618, 'bottomley'), (14627, 'baptiste'), (14628, 'boulogne'), (14710, 'bromby'), (14726, 'belsize'), (14739, 'beerhouse'), (14770, 'balanced'), (14771, 'blackmore'), (14772, 'brougham'), (14825, 'barnsford'), (14850, 'beloved'), (14851, 'beverly'), (14852, 'brinsley'), (14896, 'banque'), (14897, 'belon'), (14913, 'biscuitdish'), (14914, 'brennan'), (14941, 'boyes'), (14942, 'britannia'), (14949, 'bendall'), (14955, 'blaze'), (14956, 'brickbuilt'), (14996, 'battersea'), (15014, 'boyer'), (15017, 'bottler'), (15018, 'brownfield'), (15022, 'billiardmarker'), (15023, 'bloodpoisoning'), (15055, 'beaton'), (15056, 'beatona'), (15057, 'blewett'), (15058, 'bluish'), (15059, 'byron'), (15112, 'bryce'), (15122, 'be'), (15135, 'bookingoffice'), (15154, 'blantyre'), (15155, 'blottingpaper'), (15156, 'bowe'), (15157, 'buchans'), (15158, 'buss'), (15210, 'batch'), (15211, 'bv'), (15223, 'bossie'), (15226, 'botter'), (15231, 'boad'), (15248, 'birthday'), (15249, 'blacken'), (15267, 'blackeby'), (15269, 'befog'), (15296, 'boother'), (15297, 'burnie'), (15298, 'bussell'), (15338, 'burglarioualy'), (15340, 'bbown'), (15341, 'benbow'), (15370, 'beslet'), (15371, 'birkbeck'), (15372, 'bishopegate'), (15373, 'bobert'), (15374, 'booney'), (15375, 'breton'), (15376, 'bridgman'), (15457, 'bangor'), (15458, 'bosworth'), (15459, 'bunt'), (15507, 'bracebuckle'), (15524, 'brocklington'), (15569, 'bazaar'), (15570, 'belvedere'), (15571, 'bichmond'), (15572, 'bochester'), (15573, 'brinste'), (15574, 'brinsted'), (15623, 'beechey'), (15624, 'burr'), (15638, 'bevington'), (15639, 'bramston'), (15640, 'bramstone'), (15649, 'bust'), (15669, 'breach'), (15680, 'beagin'), (15681, 'boilermaker'), (15689, 'brochet'), (15690, 'broohet'), (15693, 'bobsart'), (15710, 'brill'), (15737, 'batts'), (15738, 'bicycle'), (15739, 'billhead'), (15747, 'bearing'), (15764, 'bedfearn'), (15765, 'bedfearns'), (15766, 'bedthing'), (15767, 'blaydon'), (15768, 'bordblay'), (15769, 'bordelay'), (15770, 'buspinis'), (15818, 'baling'), (15819, 'billing'), (15820, 'bournemouth'), (15859, 'baumgartner'), (15861, 'bonn'), (15873, 'barnacot'), (15874, 'billycock'), (15875, 'biron'), (15876, 'burglarious'), (15920, 'balancesheet'), (15921, 'beira'), (15922, 'bertram'), (15923, 'bicker'), (15924, 'biennial'), (15925, 'bodley'), (15926, 'borrower'), (15927, 'boxbook'), (15928, 'boxer'), (15929, 'buke'), (15930, 'bursar'), (16124, 'bradbury'), (16125, 'bueno'), (16155, 'beermoney'), (16156, 'beimon'), (16157, 'boxlid'), (16158, 'busmese'), (16189, 'bearma'), (16190, 'beerman'), (16191, 'bethnal'), (16192, 'booking'), (16193, 'breaker'), (16208, 'bills'), (16209, 'bolitho'), (16238, 'baths'), (16239, 'blackguard'), (16240, 'blackleg'), (16271, 'beading'), (16272, 'becker'), (16273, 'bettor'), (16274, 'binocular'), (16275, 'blouse'), (16276, 'bootshop'), (16277, 'brasseur'), (16278, 'bruge'), (16279, 'brussels'), (16331, 'bellthis'), (16332, 'bertha'), (16333, 'blau'), (16334, 'braybourne'), (16335, 'bulbs'), (16336, 'buswell'), (16398, 'beetle'), (16414, 'burnand'), (16422, 'bebman'), (16423, 'bevonshire'), (16424, 'bitter'), (16425, 'bridgwater'), (16426, 'burrows'), (16484, 'banged'), (16485, 'barricade'), (16486, 'barrie'), (16487, 'blister'), (16488, 'bonham'), (16489, 'borstall'), (16538, 'bodice'), (16546, 'bertie'), (16548, 'betted'), (16563, 'bangle'), (16570, 'barnsbury'), (16577, 'bacchus'), (16578, 'bathurst'), (16579, 'battery'), (16580, 'boyles'), (16581, 'bromide'), (16595, 'boatswain'), (16596, 'bout'), (16597, 'brake'), (16648, 'berth'), (16662, 'buoy'), (16691, 'baldree'), (16692, 'bottista'), (16723, 'boe'), (16740, 'ballis'), (16744, 'blackhandle'), (16745, 'brew'), (16760, 'belmont'), (16796, 'boysmeane'), (16803, 'billot'), (16821, 'bissell'), (16822, 'boden'), (16823, 'burchell'), (16857, 'barely'), (16858, 'barley'), (16870, 'belfrage'), (16905, 'builders'), (16925, 'boizot'), (16926, 'brute'), (16927, 'buchs'), (16928, 'bullethole'), (16975, 'brockley'), (16994, 'bloxam'), (16999, 'bastardand'), (17000, 'blandy'), (17009, 'buglass'), (17011, 'botte'), (17020, 'bike'), (17021, 'billeter'), (17022, 'billiter'), (17023, 'boardinghouse'), (17024, 'bookmake'), (17025, 'bookmaker'), (17026, 'boult'), (17097, 'beatrice'), (17104, 'bonchord'), (17105, 'brocklebank'), (17106, 'buckhurst'), (17135, 'beldam'), (17136, 'bogus'), (17137, 'bois'), (17151, 'brunet'), (17153, 'bronchial'), (17154, 'buttock'), (17190, 'begrimed'), (17191, 'broadly'), (17216, 'bernstein'), (17242, 'bremin'), (17294, 'bree'), (17318, 'baltico'), (17328, 'beyer'), (17353, 'brows'), (17354, 'browse'), (17370, 'burgay'), (17376, 'braganza'), (17381, 'boysand'), (17391, 'bifurcation'), (17392, 'blur'), (17393, 'bordelott'), (17415, 'balham'), (17425, 'bloxham'), (17430, 'brutally'), (17441, 'banke'), (17442, 'belfast'), (17443, 'bros'), (17444, 'bunche'), (17500, 'bash'), (17501, 'birdsall'), (17509, 'bankes'), (17520, 'brigade'), (17543, 'bassett'), (17546, 'billingley'), (17572, 'brassfinisher'), (17575, 'barron'), (17590, 'beresford'), (17591, 'bibby'), (17592, 'biddle'), (17593, 'bourner'), (17594, 'bro'), (17595, 'brv'), (17662, 'boon'), (17673, 'bonallack'), (17674, 'bonnallack'), (17675, 'borden'), (17684, 'boleyn'), (17708, 'bowlis'), (17709, 'bremner'), (17738, 'borstal'), (17751, 'barney'), (17752, 'boustred'), (17753, 'bracket'), (17754, 'bravery'), (17850, 'bannatyne'), (17851, 'begg'), (17852, 'bernards'), (17853, 'bewildered'), (17854, 'blackmail'), (17855, 'businesslike'), (17952, 'bransbury'), (17963, 'beechcroft'), (17964, 'bookstall'), (17965, 'brankescombe'), (17977, 'bomze'), (17991, 'broxholm'), (18003, 'basketmaker'), (18004, 'bloch'), (18005, 'brickwell'), (18006, 'bryanston'), (18046, 'beauchamp'), (18053, 'batting'), (18054, 'blackhorse'), (18055, 'breakfastroom'), (18096, 'balcombe')]\n"
     ]
    }
   ],
   "source": [
    "# strange that there are no words seemingly starting with b\n",
    "# is that the case?\n",
    "# let's check out words starting with b\n",
    "print(\"Words starting with b\", [(key, word)  for key, word in dictionary.items() if word.startswith('b')])\n",
    "# so there are words starting with b"
   ]
  },
  {
   "cell_type": "code",
   "execution_count": 32,
   "metadata": {},
   "outputs": [
    {
     "name": "stdout",
     "output_type": "stream",
     "text": [
      "[(0, 1), (1, 1), (2, 1), (3, 1), (4, 1), (5, 1), (6, 1), (7, 2), (8, 2), (9, 1), (10, 1), (11, 1), (12, 1), (13, 2), (14, 1), (15, 1), (16, 1), (17, 1), (18, 2), (19, 1), (20, 1), (21, 1), (22, 1), (23, 1), (24, 1), (25, 2), (26, 1), (27, 1), (28, 1), (29, 1), (30, 1), (31, 1), (32, 1), (33, 2), (34, 1), (35, 2), (36, 1), (37, 1), (38, 1), (39, 2), (40, 1), (41, 4), (42, 1), (43, 2), (44, 1), (45, 2), (46, 1)]\n",
      "[(1, 1), (4, 1), (7, 1), (8, 1), (13, 1), (14, 1), (15, 1), (16, 1), (17, 1), (19, 1), (20, 1), (22, 1), (23, 1), (26, 1), (29, 1), (32, 2), (33, 2), (35, 1), (36, 1), (37, 1), (42, 1), (43, 2), (47, 1), (48, 1), (49, 1), (50, 1), (51, 1), (52, 1), (53, 1), (54, 1), (55, 2), (56, 1), (57, 1), (58, 1), (59, 1), (60, 1), (61, 1), (62, 1), (63, 1), (64, 1), (65, 1), (66, 1), (67, 1), (68, 2), (69, 1), (70, 4), (71, 1), (72, 1), (73, 1), (74, 1), (75, 1), (76, 1), (77, 1), (78, 1), (79, 1), (80, 1), (81, 1), (82, 1), (83, 1), (84, 1), (85, 1), (86, 1), (87, 1), (88, 1), (89, 1), (90, 1), (91, 3), (92, 1), (93, 1), (94, 1), (95, 1), (96, 1)]\n"
     ]
    }
   ],
   "source": [
    "# now we need to create a corpus for gensim \n",
    "\n",
    "corpus = [dictionary.doc2bow(text) for text in texts]\n",
    "# let's check out first 2 rows\n",
    "print(*corpus[:2], sep = \"\\n\")"
   ]
  },
  {
   "cell_type": "code",
   "execution_count": 33,
   "metadata": {},
   "outputs": [],
   "source": [
    "# what could word no 1 be?\n",
    "# so each document was converted into a list of tuples, first value is word id and second value is number of times that word appears in the document\n",
    "\n",
    "# now we can create our LDA model\n",
    "\n",
    "# we need to import LdaModel from gensim.models\n",
    "from gensim.models import LdaModel\n",
    "# Train the model on the corpus.\n",
    "lda = LdaModel(corpus, \n",
    "               num_topics=10,\n",
    "               id2word=dictionary) # again this is our default number of topics, you can play around with it and choose a different number"
   ]
  },
  {
   "cell_type": "code",
   "execution_count": 34,
   "metadata": {},
   "outputs": [
    {
     "data": {
      "text/plain": [
       "[(0,\n",
       "  '0.023*\"prisoner\" + 0.021*\"mr\" + 0.021*\"say\" + 0.012*\"see\" + 0.012*\"value\" + 0.012*\"go\" + 0.010*\"do\" + 0.009*\"q\" + 0.008*\"take\" + 0.008*\"house\"'),\n",
       " (1,\n",
       "  '0.026*\"say\" + 0.016*\"prisoner\" + 0.015*\"mr\" + 0.014*\"go\" + 0.013*\"do\" + 0.011*\"come\" + 0.010*\"see\" + 0.009*\"know\" + 0.009*\"q\" + 0.008*\"take\"'),\n",
       " (2,\n",
       "  '0.018*\"say\" + 0.016*\"prisoner\" + 0.015*\"go\" + 0.013*\"q\" + 0.013*\"do\" + 0.011*\"know\" + 0.011*\"come\" + 0.010*\"take\" + 0.010*\"see\" + 0.009*\"find\"'),\n",
       " (3,\n",
       "  '0.018*\"say\" + 0.015*\"go\" + 0.014*\"do\" + 0.013*\"prisoner\" + 0.013*\"mr\" + 0.010*\"see\" + 0.010*\"come\" + 0.009*\"know\" + 0.008*\"find\" + 0.008*\"take\"'),\n",
       " (4,\n",
       "  '0.020*\"say\" + 0.019*\"do\" + 0.015*\"mr\" + 0.013*\"prisoner\" + 0.012*\"come\" + 0.011*\"see\" + 0.011*\"know\" + 0.011*\"go\" + 0.010*\"q\" + 0.008*\"take\"'),\n",
       " (5,\n",
       "  '0.024*\"prisoner\" + 0.018*\"do\" + 0.017*\"say\" + 0.014*\"mr\" + 0.013*\"go\" + 0.012*\"see\" + 0.010*\"man\" + 0.009*\"know\" + 0.009*\"find\" + 0.009*\"q\"'),\n",
       " (6,\n",
       "  '0.024*\"say\" + 0.019*\"prisoner\" + 0.016*\"mr\" + 0.013*\"do\" + 0.011*\"go\" + 0.010*\"q\" + 0.010*\"take\" + 0.009*\"give\" + 0.009*\"come\" + 0.008*\"know\"'),\n",
       " (7,\n",
       "  '0.021*\"prisoner\" + 0.018*\"say\" + 0.017*\"do\" + 0.016*\"go\" + 0.015*\"q\" + 0.014*\"come\" + 0.012*\"see\" + 0.011*\"take\" + 0.009*\"know\" + 0.008*\"ask\"'),\n",
       " (8,\n",
       "  '0.025*\"say\" + 0.018*\"prisoner\" + 0.015*\"go\" + 0.014*\"take\" + 0.013*\"do\" + 0.010*\"come\" + 0.010*\"mr\" + 0.009*\"know\" + 0.008*\"see\" + 0.008*\"time\"'),\n",
       " (9,\n",
       "  '0.021*\"say\" + 0.019*\"q\" + 0.019*\"prisoner\" + 0.016*\"do\" + 0.010*\"go\" + 0.010*\"mr\" + 0.009*\"come\" + 0.009*\"know\" + 0.009*\"take\" + 0.008*\"see\"')]"
      ]
     },
     "execution_count": 34,
     "metadata": {},
     "output_type": "execute_result"
    }
   ],
   "source": [
    "# let's show our topics\n",
    "lda.show_topics()"
   ]
  },
  {
   "cell_type": "code",
   "execution_count": 35,
   "metadata": {},
   "outputs": [],
   "source": [
    "# now let's save our model just in case\n",
    "# let's create models folder in our current directory if it does not exist\n",
    "# Path(\"models\").mkdir(parents=True, exist_ok=True)\n",
    "# we will use save method\n",
    "from gensim.test.utils import datapath\n",
    "# we will use datapath to create a path to our model\n",
    "temp_file = datapath(\"lda_model_10.model\")\n",
    "lda.save(temp_file)"
   ]
  },
  {
   "cell_type": "code",
   "execution_count": 36,
   "metadata": {},
   "outputs": [],
   "source": [
    "# let's load our model\n",
    "loaded_model = LdaModel.load(temp_file)"
   ]
  },
  {
   "cell_type": "code",
   "execution_count": 37,
   "metadata": {},
   "outputs": [
    {
     "data": {
      "text/plain": [
       "[(0,\n",
       "  '0.023*\"prisoner\" + 0.021*\"mr\" + 0.021*\"say\" + 0.012*\"see\" + 0.012*\"value\" + 0.012*\"go\" + 0.010*\"do\" + 0.009*\"q\" + 0.008*\"take\" + 0.008*\"house\"'),\n",
       " (1,\n",
       "  '0.026*\"say\" + 0.016*\"prisoner\" + 0.015*\"mr\" + 0.014*\"go\" + 0.013*\"do\" + 0.011*\"come\" + 0.010*\"see\" + 0.009*\"know\" + 0.009*\"q\" + 0.008*\"take\"'),\n",
       " (2,\n",
       "  '0.018*\"say\" + 0.016*\"prisoner\" + 0.015*\"go\" + 0.013*\"q\" + 0.013*\"do\" + 0.011*\"know\" + 0.011*\"come\" + 0.010*\"take\" + 0.010*\"see\" + 0.009*\"find\"'),\n",
       " (3,\n",
       "  '0.018*\"say\" + 0.015*\"go\" + 0.014*\"do\" + 0.013*\"prisoner\" + 0.013*\"mr\" + 0.010*\"see\" + 0.010*\"come\" + 0.009*\"know\" + 0.008*\"find\" + 0.008*\"take\"'),\n",
       " (4,\n",
       "  '0.020*\"say\" + 0.019*\"do\" + 0.015*\"mr\" + 0.013*\"prisoner\" + 0.012*\"come\" + 0.011*\"see\" + 0.011*\"know\" + 0.011*\"go\" + 0.010*\"q\" + 0.008*\"take\"'),\n",
       " (5,\n",
       "  '0.024*\"prisoner\" + 0.018*\"do\" + 0.017*\"say\" + 0.014*\"mr\" + 0.013*\"go\" + 0.012*\"see\" + 0.010*\"man\" + 0.009*\"know\" + 0.009*\"find\" + 0.009*\"q\"'),\n",
       " (6,\n",
       "  '0.024*\"say\" + 0.019*\"prisoner\" + 0.016*\"mr\" + 0.013*\"do\" + 0.011*\"go\" + 0.010*\"q\" + 0.010*\"take\" + 0.009*\"give\" + 0.009*\"come\" + 0.008*\"know\"'),\n",
       " (7,\n",
       "  '0.021*\"prisoner\" + 0.018*\"say\" + 0.017*\"do\" + 0.016*\"go\" + 0.015*\"q\" + 0.014*\"come\" + 0.012*\"see\" + 0.011*\"take\" + 0.009*\"know\" + 0.008*\"ask\"'),\n",
       " (8,\n",
       "  '0.025*\"say\" + 0.018*\"prisoner\" + 0.015*\"go\" + 0.014*\"take\" + 0.013*\"do\" + 0.010*\"come\" + 0.010*\"mr\" + 0.009*\"know\" + 0.008*\"see\" + 0.008*\"time\"'),\n",
       " (9,\n",
       "  '0.021*\"say\" + 0.019*\"q\" + 0.019*\"prisoner\" + 0.016*\"do\" + 0.010*\"go\" + 0.010*\"mr\" + 0.009*\"come\" + 0.009*\"know\" + 0.009*\"take\" + 0.008*\"see\"')]"
      ]
     },
     "execution_count": 37,
     "metadata": {},
     "output_type": "execute_result"
    }
   ],
   "source": [
    "# use loaded model to print topics\n",
    "loaded_model.print_topics()"
   ]
  },
  {
   "cell_type": "code",
   "execution_count": 37,
   "metadata": {},
   "outputs": [
    {
     "name": "stdout",
     "output_type": "stream",
     "text": [
      "Shape of our topic array (10, 18118)\n",
      "go, q, mr, say, prisoner\n",
      "q, do, go, prisoner, say\n",
      "go, prisoner, mr, do, say\n",
      "come, go, house, q, say\n",
      "q, go, say, prisoner, do\n",
      "know, go, mr, prisoner, say\n",
      "mr, go, prisoner, do, say\n",
      "value, prisoner, mr, do, say\n",
      "see, mr, take, prisoner, say\n",
      "come, mr, do, prisoner, say\n"
     ]
    }
   ],
   "source": [
    "topic_array = loaded_model.get_topics()\n",
    "# let's check out shape\n",
    "print(\"Shape of our topic array\", topic_array.shape)\n",
    "# we probably do not want to print out all the words in our topics\n",
    "# so let's find out 5 most important words for each topic\n",
    "# we will use argsort method\n",
    "topic_array.argsort(axis=1)[:,-5:]\n",
    "# so we can see that last 5 words in each topic are the most important\n",
    "# let's print out our topics with 5 most important words\n",
    "for topic in topic_array.argsort(axis=1)[:,-5:]:\n",
    "    print(*[dictionary[word] for word in topic], sep = \", \")"
   ]
  },
  {
   "cell_type": "code",
   "execution_count": 38,
   "metadata": {},
   "outputs": [
    {
     "data": {
      "text/plain": [
       "[(0,\n",
       "  '0.023*\"prisoner\" + 0.021*\"mr\" + 0.021*\"say\" + 0.012*\"see\" + 0.012*\"value\" + 0.012*\"go\" + 0.010*\"do\" + 0.009*\"q\" + 0.008*\"take\" + 0.008*\"house\"'),\n",
       " (1,\n",
       "  '0.026*\"say\" + 0.016*\"prisoner\" + 0.015*\"mr\" + 0.014*\"go\" + 0.013*\"do\" + 0.011*\"come\" + 0.010*\"see\" + 0.009*\"know\" + 0.009*\"q\" + 0.008*\"take\"'),\n",
       " (2,\n",
       "  '0.018*\"say\" + 0.016*\"prisoner\" + 0.015*\"go\" + 0.013*\"q\" + 0.013*\"do\" + 0.011*\"know\" + 0.011*\"come\" + 0.010*\"take\" + 0.010*\"see\" + 0.009*\"find\"'),\n",
       " (3,\n",
       "  '0.018*\"say\" + 0.015*\"go\" + 0.014*\"do\" + 0.013*\"prisoner\" + 0.013*\"mr\" + 0.010*\"see\" + 0.010*\"come\" + 0.009*\"know\" + 0.008*\"find\" + 0.008*\"take\"'),\n",
       " (4,\n",
       "  '0.020*\"say\" + 0.019*\"do\" + 0.015*\"mr\" + 0.013*\"prisoner\" + 0.012*\"come\" + 0.011*\"see\" + 0.011*\"know\" + 0.011*\"go\" + 0.010*\"q\" + 0.008*\"take\"'),\n",
       " (5,\n",
       "  '0.024*\"prisoner\" + 0.018*\"do\" + 0.017*\"say\" + 0.014*\"mr\" + 0.013*\"go\" + 0.012*\"see\" + 0.010*\"man\" + 0.009*\"know\" + 0.009*\"find\" + 0.009*\"q\"'),\n",
       " (6,\n",
       "  '0.024*\"say\" + 0.019*\"prisoner\" + 0.016*\"mr\" + 0.013*\"do\" + 0.011*\"go\" + 0.010*\"q\" + 0.010*\"take\" + 0.009*\"give\" + 0.009*\"come\" + 0.008*\"know\"'),\n",
       " (7,\n",
       "  '0.021*\"prisoner\" + 0.018*\"say\" + 0.017*\"do\" + 0.016*\"go\" + 0.015*\"q\" + 0.014*\"come\" + 0.012*\"see\" + 0.011*\"take\" + 0.009*\"know\" + 0.008*\"ask\"'),\n",
       " (8,\n",
       "  '0.025*\"say\" + 0.018*\"prisoner\" + 0.015*\"go\" + 0.014*\"take\" + 0.013*\"do\" + 0.010*\"come\" + 0.010*\"mr\" + 0.009*\"know\" + 0.008*\"see\" + 0.008*\"time\"'),\n",
       " (9,\n",
       "  '0.021*\"say\" + 0.019*\"q\" + 0.019*\"prisoner\" + 0.016*\"do\" + 0.010*\"go\" + 0.010*\"mr\" + 0.009*\"come\" + 0.009*\"know\" + 0.009*\"take\" + 0.008*\"see\"')]"
      ]
     },
     "execution_count": 38,
     "metadata": {},
     "output_type": "execute_result"
    }
   ],
   "source": [
    "loaded_model.show_topics()"
   ]
  },
  {
   "cell_type": "code",
   "execution_count": 39,
   "metadata": {},
   "outputs": [],
   "source": [
    "# now that is certainly not very interesting\n",
    "# bag of words model is not very good at capturing context\n",
    "# we got a lot of prison related words in our topics"
   ]
  },
  {
   "cell_type": "code",
   "execution_count": 40,
   "metadata": {},
   "outputs": [],
   "source": [
    "# how about using LDAvis to visualize our topics?\n",
    "\n",
    "# we will need to import pyLDAvis\n",
    "import pyLDAvis\n",
    "import pyLDAvis.gensim_models as gensimvis"
   ]
  },
  {
   "cell_type": "code",
   "execution_count": 41,
   "metadata": {},
   "outputs": [],
   "source": [
    "# now lets prepare our data for pyLDAvis\n",
    "# we will use prepare method\n",
    "lda_data = gensimvis.prepare(lda, corpus, dictionary)   "
   ]
  },
  {
   "cell_type": "code",
   "execution_count": 42,
   "metadata": {},
   "outputs": [
    {
     "data": {
      "text/html": [
       "\n",
       "<link rel=\"stylesheet\" type=\"text/css\" href=\"https://cdn.jsdelivr.net/gh/bmabey/pyLDAvis@3.4.0/pyLDAvis/js/ldavis.v1.0.0.css\">\n",
       "\n",
       "\n",
       "<div id=\"ldavis_el182522265711981008300318068\" style=\"background-color:white;\"></div>\n",
       "<script type=\"text/javascript\">\n",
       "\n",
       "var ldavis_el182522265711981008300318068_data = {\"mdsDat\": {\"x\": [0.006205147106101906, -0.010742031461102171, -0.004321409477265113, 0.004470051124646085, -0.005982940827836247, 0.003291668511069504, -0.009431307350992346, -0.00494242447982742, 0.01778900447849567, 0.0036642423767101772], \"y\": [-0.0007761179865031171, 0.008132946636882276, -0.005610893466146478, -0.0012816057707006321, -0.01678940851271058, -0.004898525177582593, 0.006160135809457623, 0.005075171077518791, 0.0025429592754039948, 0.007445338114380665], \"topics\": [1, 2, 3, 4, 5, 6, 7, 8, 9, 10], \"cluster\": [1, 1, 1, 1, 1, 1, 1, 1, 1, 1], \"Freq\": [16.519733736955125, 12.845514295032967, 12.50048025811111, 12.189048427014354, 11.594552155820935, 9.544820505773375, 8.837149914854152, 6.686739318415051, 5.211707158238894, 4.0702542297840365]}, \"tinfo\": {\"Term\": [\"say\", \"q\", \"prisoner\", \"go\", \"do\", \"mr\", \"take\", \"value\", \"come\", \"know\", \"find\", \"john\", \"s\", \"guilty\", \"tell\", \"see\", \"man\", \"ask\", \"door\", \"yes\", \"time\", \"william\", \"steal\", \"thing\", \"crossexamine\", \"money\", \"shop\", \"live\", \"l\", \"good\", \"soden\", \"kirk\", \"concertina\", \"bragg\", \"trounce\", \"botham\", \"cuprial\", \"kenealey\", \"briers\", \"connoway\", \"pretender\", \"tuff\", \"hasenach\", \"swansdown\", \"dodgson\", \"lewington\", \"barret\", \"colstain\", \"arden\", \"freshwater\", \"eme\", \"toilenett\", \"leaper\", \"bonnell\", \"executors\", \"baggott\", \"shearwood\", \"peruke\", \"hopkinson\", \"nigel\", \"sheep\", \"barry\", \"invoice\", \"rooney\", \"loom\", \"sunstreet\", \"hogan\", \"hooper\", \"write\", \"globe\", \"hoe\", \"do\", \"waste\", \"dean\", \"spurrell\", \"strike\", \"griffin\", \"peto\", \"mr\", \"come\", \"know\", \"print\", \"hear\", \"say\", \"give\", \"parcel\", \"paper\", \"see\", \"yes\", \"receive\", \"pay\", \"bill\", \"think\", \"q\", \"call\", \"send\", \"great\", \"go\", \"take\", \"note\", \"prisoner\", \"good\", \"piece\", \"leave\", \"ask\", \"letter\", \"man\", \"find\", \"house\", \"time\", \"tell\", \"oclock\", \"bring\", \"steal\", \"money\", \"surman\", \"suddaby\", \"gannon\", \"joyes\", \"requester\", \"burglarioualy\", \"baugham\", \"twoyear\", \"tod\", \"ferdinando\", \"rowlandson\", \"tivoli\", \"franciscis\", \"checkerd\", \"cambrick\", \"sutch\", \"pasquale\", \"rowd\", \"toothbrush\", \"brasspot\", \"onbehalf\", \"hillier\", \"martineau\", \"waterglasse\", \"basons\", \"casanover\", \"dishes\", \"saucepans\", \"walpole\", \"moulin\", \"brunet\", \"oilcloth\", \"snapper\", \"eyeglass\", \"seaton\", \"child\", \"jepson\", \"milk\", \"ask\", \"q\", \"deceased\", \"open\", \"come\", \"go\", \"prisoner\", \"door\", \"bradley\", \"do\", \"watch\", \"take\", \"see\", \"house\", \"time\", \"say\", \"way\", \"give\", \"call\", \"year\", \"know\", \"steal\", \"shop\", \"knife\", \"street\", \"hear\", \"look\", \"good\", \"leave\", \"mrs\", \"oclock\", \"tell\", \"find\", \"get\", \"mr\", \"man\", \"yes\", \"value\", \"sear\", \"rodd\", \"glessing\", \"sloman\", \"elliot\", \"spurrel\", \"stapleton\", \"morland\", \"prosser\", \"chilton\", \"paulshead\", \"lowry\", \"flockhart\", \"griffis\", \"grouch\", \"coxall\", \"sachell\", \"gaynor\", \"delamont\", \"macclery\", \"grady\", \"bobin\", \"bruin\", \"balak\", \"cordys\", \"goss\", \"glascow\", \"delfoise\", \"acquicte\", \"ethelbert\", \"clough\", \"rickard\", \"martinscourt\", \"battlebridge\", \"bursey\", \"handkerchief\", \"capt\", \"scarrolt\", \"crossan\", \"clarks\", \"felt\", \"chaldron\", \"man\", \"prisoner\", \"scissor\", \"john\", \"howell\", \"groce\", \"do\", \"find\", \"watch\", \"prosecutor\", \"see\", \"december\", \"value\", \"mr\", \"s\", \"bill\", \"go\", \"person\", \"know\", \"say\", \"tell\", \"st\", \"smith\", \"money\", \"indict\", \"run\", \"house\", \"q\", \"take\", \"crossexamine\", \"time\", \"live\", \"ask\", \"come\", \"day\", \"pay\", \"steal\", \"give\", \"good\", \"guilty\", \"reddon\", \"logwood\", \"rivett\", \"carat\", \"asher\", \"lumper\", \"wharnsley\", \"heron\", \"stanniland\", \"pneumatic\", \"mackenne\", \"cordeaux\", \"lebutt\", \"sparrow\", \"crowhurst\", \"ewen\", \"platelayer\", \"portington\", \"dunlop\", \"fitzgenald\", \"fazakerley\", \"speller\", \"seabrook\", \"bloxham\", \"dolman\", \"fowke\", \"swanny\", \"henson\", \"tyre\", \"ethelburgh\", \"leverett\", \"hoop\", \"burridge\", \"boulton\", \"arrow\", \"postal\", \"boat\", \"dowla\", \"bombazett\", \"forster\", \"beef\", \"postman\", \"hewlett\", \"cooper\", \"say\", \"watkins\", \"mackenzie\", \"peperell\", \"order\", \"waggoner\", \"brookhouse\", \"mr\", \"piece\", \"buy\", \"go\", \"johnson\", \"money\", \"work\", \"hour\", \"time\", \"come\", \"prisoner\", \"book\", \"receive\", \"do\", \"bring\", \"know\", \"see\", \"want\", \"day\", \"pay\", \"leave\", \"take\", \"q\", \"house\", \"john\", \"man\", \"give\", \"yes\", \"tell\", \"month\", \"property\", \"get\", \"good\", \"live\", \"find\", \"guilty\", \"s\", \"value\", \"indecency\", \"millett\", \"hibbert\", \"rein\", \"bullard\", \"tillot\", \"corkscrew\", \"jacock\", \"pattison\", \"sumption\", \"fane\", \"fowl\", \"winfield\", \"poore\", \"snufferstand\", \"hampsteadroad\", \"mobun\", \"chapley\", \"bootjack\", \"decanter\", \"carrington\", \"rothwell\", \"twitch\", \"claude\", \"wpbsley\", \"spikesman\", \"broxholm\", \"reginal\", \"ashlee\", \"richardby\", \"rape\", \"whipping\", \"oats\", \"lustring\", \"lustre\", \"fleming\", \"gum\", \"corn\", \"cowley\", \"craggs\", \"heyburn\", \"downing\", \"gross\", \"pickaxe\", \"granary\", \"value\", \"potato\", \"s\", \"mr\", \"oat\", \"prisoner\", \"key\", \"night\", \"property\", \"house\", \"guilty\", \"jury\", \"say\", \"see\", \"l\", \"d\", \"find\", \"silver\", \"seven\", \"go\", \"steal\", \"swear\", \"man\", \"take\", \"q\", \"tell\", \"produce\", \"indict\", \"know\", \"do\", \"year\", \"come\", \"give\", \"away\", \"day\", \"time\", \"live\", \"get\", \"william\", \"good\", \"pinner\", \"wighton\", \"zephaniah\", \"riselys\", \"perriwigs\", \"purceell\", \"rishton\", \"knutsford\", \"rearden\", \"burgay\", \"colla\", \"hern\", \"sill\", \"meeke\", \"rample\", \"kosminski\", \"stow\", \"sable\", \"shearman\", \"malin\", \"christy\", \"eighteenpenny\", \"bastone\", \"monmouthshire\", \"limes\", \"masonic\", \"godby\", \"monmouth\", \"dudmash\", \"courthorpe\", \"coleman\", \"douglas\", \"furnishd\", \"sock\", \"rooke\", \"trap\", \"ryan\", \"give\", \"goodman\", \"say\", \"mr\", \"pocket\", \"halfcrown\", \"good\", \"ask\", \"prisoner\", \"pay\", \"yes\", \"shop\", \"receive\", \"guilty\", \"take\", \"money\", \"get\", \"bad\", \"q\", \"find\", \"do\", \"leave\", \"go\", \"away\", \"tell\", \"william\", \"come\", \"oclock\", \"man\", \"know\", \"morning\", \"see\", \"house\", \"crossexamine\", \"time\", \"value\", \"live\", \"darby\", \"pidworth\", \"moroner\", \"linscott\", \"malan\", \"mulling\", \"knox\", \"feagin\", \"connell\", \"mallett\", \"greenway\", \"crab\", \"kenneth\", \"reddeford\", \"sutcliffe\", \"metcalf\", \"waldron\", \"cuain\", \"derter\", \"wetworth\", \"ophelia\", \"cheapend\", \"goff\", \"coombs\", \"fercley\", \"pigsfeet\", \"beris\", \"harrild\", \"gumley\", \"chink\", \"hocknell\", \"ribbon\", \"bed\", \"slater\", \"loufer\", \"q\", \"go\", \"know\", \"mother\", \"thing\", \"find\", \"tell\", \"mrs\", \"night\", \"take\", \"william\", \"say\", \"come\", \"fire\", \"watchman\", \"shop\", \"morris\", \"prisoner\", \"see\", \"till\", \"hear\", \"give\", \"do\", \"live\", \"door\", \"ask\", \"hand\", \"man\", \"time\", \"think\", \"year\", \"get\", \"mr\", \"yes\", \"house\", \"john\", \"good\", \"value\", \"guilty\", \"s\", \"becket\", \"whitroe\", \"dudey\", \"sinvin\", \"whittington\", \"reardon\", \"beda\", \"ewell\", \"rogerson\", \"crux\", \"fortyfour\", \"bowling\", \"spiegelhalter\", \"mathematical\", \"westall\", \"berrit\", \"toogood\", \"waddy\", \"bloxam\", \"wickhart\", \"tweed\", \"bampton\", \"collyer\", \"tottlestreet\", \"prigg\", \"monks\", \"vinall\", \"pintpot\", \"coffeepot\", \"ida\", \"wardle\", \"schofield\", \"say\", \"take\", \"time\", \"dalton\", \"go\", \"door\", \"prisoner\", \"fire\", \"thing\", \"live\", \"timepiece\", \"november\", \"do\", \"know\", \"come\", \"tell\", \"money\", \"wheelerbread\", \"s\", \"room\", \"man\", \"ask\", \"bring\", \"find\", \"letter\", \"oclock\", \"see\", \"receive\", \"mrs\", \"mr\", \"thomas\", \"day\", \"give\", \"year\", \"house\", \"guilty\", \"crossexamine\", \"value\", \"q\", \"good\", \"brocklington\", \"trent\", \"moist\", \"madlock\", \"strangeway\", \"knapper\", \"stadward\", \"barrimore\", \"indicted\", \"obryan\", \"lathbury\", \"carton\", \"carolina\", \"bullenger\", \"bartrum\", \"harriette\", \"teawen\", \"xciv\", \"gravel\", \"maccartey\", \"rickson\", \"cartey\", \"spreadborough\", \"hopton\", \"yarrow\", \"donohue\", \"cumenel\", \"mongus\", \"simond\", \"whelon\", \"warrenden\", \"latham\", \"davadge\", \"yeo\", \"warcup\", \"crape\", \"craddock\", \"henderson\", \"indecent\", \"matthews\", \"john\", \"indigo\", \"go\", \"knell\", \"acquit\", \"cliff\", \"say\", \"find\", \"mr\", \"pocket\", \"do\", \"boot\", \"affidavit\", \"langford\", \"evidence\", \"know\", \"come\", \"see\", \"crossexamine\", \"george\", \"man\", \"william\", \"prisoner\", \"take\", \"month\", \"cheque\", \"away\", \"hand\", \"steal\", \"labour\", \"street\", \"guilty\", \"q\", \"indict\", \"tell\", \"house\", \"year\", \"court\", \"give\", \"ask\", \"money\", \"yes\", \"shop\", \"good\", \"lowrie\", \"wilcoxon\", \"larkin\", \"mcarthy\", \"geofry\", \"amoth\", \"womersley\", \"lupton\", \"burk\", \"degen\", \"muncreef\", \"poulter\", \"callan\", \"northey\", \"lillian\", \"thane\", \"calamanco\", \"ilson\", \"foresight\", \"allentransportation\", \"faulkener\", \"lowerheath\", \"persian\", \"macdonel\", \"thodey\", \"eggleton\", \"bodice\", \"tarrant\", \"shadwel\", \"boe\", \"dickson\", \"q\", \"slipper\", \"say\", \"gardiner\", \"image\", \"prisoner\", \"do\", \"plead\", \"trial\", \"original\", \"moore\", \"kenny\", \"burnett\", \"guilty\", \"yes\", \"l\", \"tell\", \"steal\", \"fact\", \"take\", \"know\", \"come\", \"s\", \"go\", \"april\", \"mr\", \"good\", \"see\", \"paper\", \"value\", \"indict\", \"house\", \"door\", \"letter\", \"month\", \"william\", \"leave\", \"find\", \"crossexamine\", \"year\", \"live\", \"ask\", \"time\", \"money\", \"man\", \"thing\"], \"Freq\": [8374.0, 4133.0, 7384.0, 5252.0, 6066.0, 5463.0, 3740.0, 2014.0, 4069.0, 3768.0, 2806.0, 1463.0, 1672.0, 1660.0, 2346.0, 4173.0, 2531.0, 2141.0, 1376.0, 1490.0, 2181.0, 1184.0, 1533.0, 1356.0, 1268.0, 1532.0, 1202.0, 1490.0, 702.0, 1710.0, 7.038404078118162, 7.266887598778405, 7.08008411954668, 4.830482321424079, 1.4418157781729055, 1.4417984978903895, 1.4417876221881067, 1.441719830310544, 1.441614819362947, 1.4415107751444418, 1.4413245589531334, 1.4412808144617293, 1.4411026946265646, 1.4409377464752757, 1.4409406466625512, 1.440780652997858, 1.4406704458813924, 1.4404882174475877, 1.4403942030434098, 1.4402891920958127, 1.440236384519173, 1.439801356427862, 1.4397862512858026, 1.4397788799764775, 1.4383295113855927, 6.52140557701947, 1.4321702386594461, 2.752288358381703, 4.2078140468522784, 1.3578552357087226, 100.1567456106251, 16.47293804953252, 51.649102632924134, 28.803505744811424, 7.019904266852883, 2.6581277364287756, 18.4720951422164, 23.602431692961225, 224.70268958520032, 7.392136053183244, 13.388952372275188, 1282.193366452718, 19.216890302955612, 14.8822230314061, 10.774106789062321, 120.90292206502671, 7.745491970631615, 11.235642592070667, 995.4884315620149, 778.8798630430001, 715.7937520150992, 49.76179222924543, 278.8290471166174, 1352.1836865099522, 502.0674592148791, 82.74629495590253, 154.62670959659974, 725.1680853491443, 313.1872486812277, 250.68700641829003, 256.32498594934765, 75.93561889965937, 255.5940614176176, 650.9880696816965, 221.1927514693457, 209.93702411366374, 136.88373506962807, 712.8078738729944, 552.9503555711387, 193.4697143609037, 864.4761913690274, 298.77423051471516, 161.78205164248507, 258.3338335344477, 340.93670456229046, 153.86212742480953, 375.50242032683065, 397.5752429808292, 358.6908312760652, 334.2917645415459, 345.70776784681595, 241.06192675932957, 219.1788459576373, 239.0167765633741, 226.25839644272529, 3.543238927134642, 2.398890900723573, 2.0941841473990292, 1.9616872296520096, 1.2575502043092508, 1.2574962687548645, 1.2572465114315914, 1.257201220600208, 1.2571352576051222, 1.2570699523606998, 1.2570557637392497, 1.2569832232375315, 1.2569567252822407, 1.2566289775231827, 1.2564790103719623, 1.256206701597378, 1.2560418880740443, 1.2422460377343338, 2.4508035899272267, 1.2332871918077637, 1.2276857871595495, 1.226364647970227, 2.905930214857236, 1.2194080890269623, 1.2116761360161097, 1.2107356465320465, 1.209359256287011, 1.2037010971529967, 1.7830957092108997, 2.2697772644595364, 8.501147684475457, 2.839664842395243, 4.451377978434223, 3.740556233100882, 2.749674215581157, 128.41337611506742, 5.179916895632794, 9.074397307944164, 439.0559495593209, 756.8704858926145, 67.14196691905629, 181.89289805979067, 703.1220183464125, 814.9041381209544, 1061.3630440291727, 266.3718253886882, 17.37477017310983, 855.027006757406, 160.44983554610505, 552.9130434033199, 598.7966712566719, 371.6338214503336, 331.9462018379112, 916.5644930102891, 107.137182313645, 350.9637986327192, 181.3708951059969, 213.2676197309891, 464.3326264940861, 234.11406104878202, 187.20268838766793, 81.34444398079148, 169.80174800702633, 186.85118643322858, 146.3830099742978, 233.4961152005293, 201.2087994388247, 143.25223107792715, 190.77238467748103, 267.20253666291296, 295.38538003898793, 183.99889089881137, 397.6359936080854, 228.61369592302307, 187.45289523653713, 200.03157759805083, 1.9349553567377138, 1.9331762909254868, 3.716767309202812, 1.7793476317599424, 1.6951629617338955, 5.340488196366925, 6.006344907685961, 1.6152416122480042, 2.191057257107508, 6.110956098863845, 2.0517471502344264, 1.5526434771944102, 1.0143745700724562, 1.0140116428413333, 1.0139512921301865, 1.013898988180526, 1.0138618633491236, 1.0138192520894354, 1.0137805727700187, 1.013752500545288, 1.0137475627598307, 1.0137441794623876, 1.013697910583842, 1.0136926070364987, 1.01357666051872, 1.013509543212687, 1.0134592509533982, 1.013448460977769, 1.0133936881353798, 1.0133896647546365, 1.9724949621184917, 1.9680884458000698, 2.3480345774664233, 4.774340735433119, 2.744104956103627, 118.13495599789796, 4.868258877881469, 5.9337199591777035, 8.036329957242781, 2.2128316108082875, 1.4267333313267345, 1.4300742003910603, 491.47325099308927, 1215.5545815476762, 10.95121005220194, 297.94984280057713, 8.631651317706778, 1.442605934120197, 924.6599051306134, 465.19186082940206, 159.19623971054975, 168.2001971256536, 598.0335814078778, 159.3458099869606, 328.54183920100826, 714.9083735917019, 274.8762253401386, 60.26034747823734, 635.0285058927959, 177.81164699373124, 471.3919988200558, 877.3449944091376, 321.2634468755808, 96.196101620532, 88.97609074425841, 226.11533206225394, 182.1869667493949, 130.2842432471174, 307.9509783078145, 459.46092803796245, 424.30480852254504, 188.05232434908075, 268.096322573545, 203.98998008849307, 262.4193703842501, 392.0199607754979, 180.6813971926568, 166.7697228732, 193.79120441477366, 224.9986171336712, 188.79520136948895, 179.47780064878353, 4.966114186810003, 11.552197199897453, 1.7682535007239064, 10.49220651937021, 1.7131878964664957, 3.3459745254487183, 1.5195600599399943, 6.117234150107198, 1.0247101150321059, 1.0243535547501292, 1.0243456192999927, 1.0243158390713905, 1.0242251609501676, 1.0240573573866067, 1.0239788053464913, 1.0238186697459837, 1.0237920993623806, 1.023713368997543, 1.0236234041752088, 1.0235719574928632, 1.0234544415009539, 1.0233128516715517, 1.023223243498662, 1.0231941765689483, 1.0230327035330244, 1.0229599470463797, 1.0227336529739472, 1.0224137384223764, 1.0220306969191577, 1.0236597824185314, 13.249499751788425, 21.15543072709369, 5.508837632443149, 5.465181600559546, 4.737599258287831, 13.692859235631305, 21.250329437840847, 2.3448226219752573, 2.3021835759821836, 4.374195230123801, 8.676712481522387, 4.990435539017169, 16.297622773591833, 43.03141601915842, 1296.9176198798446, 10.17287829948577, 42.17222182898887, 5.8904036769106325, 113.73852077380378, 3.214332362348112, 11.073623576518445, 757.8290540811311, 143.6540250836427, 128.14218235200016, 700.7428652362051, 34.8318313041677, 250.31634697501292, 139.25023187278276, 93.52578157819022, 327.126836468543, 519.5867231011183, 791.1715886356333, 115.72473291447163, 180.9650579223974, 646.5825485431504, 190.03294708096382, 437.0102677750026, 468.50443377247575, 112.05189416637963, 193.82357715433614, 175.250951772214, 201.40942523953274, 394.76119797694344, 417.3381463667028, 286.4328038989251, 202.8464999509605, 292.70919500346463, 288.75583006843436, 203.31227841887443, 265.5350181570187, 158.40771669248988, 160.59649430475935, 183.54278315268377, 204.6774754278881, 189.81627541053976, 245.9211932402926, 188.4237105497654, 180.78716688595284, 183.05937193624177, 8.172446220695946, 2.814181762123128, 4.050648195900277, 3.82015116624337, 1.9063912783124883, 2.3690585412468317, 2.875816348004161, 1.7463806652071079, 1.7182712175622459, 2.2228286190716515, 1.6853085634304625, 8.773030650672895, 2.0877567802458703, 1.5433585074910483, 1.5244637232969225, 1.4954927386296888, 0.9995005824788458, 0.9993168761202657, 0.9991393611578888, 0.9990922895840144, 0.9990887274108564, 0.9990444546873204, 0.9990310541311545, 0.998989325817017, 0.9989637969093843, 0.998930549959909, 0.9989156227581039, 0.9989111276348329, 0.9988522669640783, 0.9987802601780974, 6.6610460041334, 5.218867971905854, 31.078016196810477, 2.365553702113884, 3.2462691255138463, 1.9604011173623337, 2.359723781672481, 21.549948002063708, 4.853304870751137, 1.8496806334996583, 1.4356765573322006, 1.8402837903359812, 9.888089911485887, 2.7825596724898296, 8.963656445798897, 547.8695161845795, 13.639590876627066, 367.78710223764, 977.3390297008178, 13.816491788202342, 1095.3333598767538, 95.47962626505424, 198.19140038363517, 206.70107787645955, 385.7982747919612, 285.43054902725703, 148.40324405095592, 965.9777681365925, 549.670420659535, 136.15022602281363, 141.20188422966166, 363.11874200470965, 75.99346704595602, 105.56063329714323, 538.4804256667127, 215.43430514351883, 148.87022120415693, 304.6713321890444, 396.12403365292187, 422.20262599305585, 272.2570491708511, 155.12292749632607, 163.34288700036802, 365.83104171308446, 486.46619472707835, 177.57752092255646, 346.23081153182744, 254.45368497795207, 150.7528290396841, 165.29581009850784, 196.92505257550798, 165.2890575752185, 161.34318476580737, 154.56669110440325, 161.90439327294968, 1.8527812503545538, 2.2497584860254882, 1.5511814155782466, 2.0136202988457397, 0.9708939301179792, 0.970282377189798, 0.9701122957954551, 0.9696495291773497, 0.9695202226328822, 0.9693627088292542, 0.969302663673616, 1.4315766322229486, 5.954274246067934, 0.9355944304174526, 1.881281194738631, 0.9291104612678464, 7.457293302668808, 0.9220752636254909, 0.9183378716066976, 0.9186956988423327, 2.297399289988188, 1.3604482579730008, 0.8908751025563493, 0.8798654741703261, 1.293044498691286, 0.8569590851336981, 4.277242094188935, 0.8507017515366522, 0.8502273948071096, 0.8486590991257755, 1.656061451092273, 9.393494310272366, 1.6344558076946467, 2.7170698242131834, 3.6249710099305643, 8.061734091624476, 6.083408195623029, 358.3232857019752, 4.342376844787006, 905.8656113735951, 629.905502668271, 106.6894122159685, 58.00689574001173, 234.9121812820091, 270.2940981253254, 716.5807239313189, 162.39699071200903, 192.69512161525563, 160.57417394927654, 153.54011241712166, 205.84011101534185, 383.4827398973857, 188.15136002117285, 171.5552409493611, 92.42807221920853, 387.41303326246236, 287.839089287145, 508.5847159001262, 166.80693036592027, 436.2856208632735, 136.37920470145903, 237.47517439901503, 143.33045642343427, 342.09238416769864, 155.65295119150423, 243.63371835464733, 319.17857187415495, 127.0998408716664, 304.08741788054635, 205.0691200457544, 140.60037802571188, 178.7155458852066, 157.0602174951678, 145.7513698553295, 2.744439389961727, 1.9927307447739324, 2.5725325038364883, 1.044451117920733, 1.0441521423404592, 1.0440806467746682, 1.044043993984611, 1.0439951882412364, 1.0439911157090078, 1.0438239479575293, 1.0433742240414288, 1.0432415758488403, 1.0432022080372971, 1.0431943215463146, 1.0431396332563878, 1.0359265322458586, 3.097121198105024, 1.033086619771785, 1.0215868876954999, 1.0133453106888286, 0.9892833034848078, 0.9846114625849219, 0.9143151605702962, 0.936374839428591, 2.7246083558830043, 0.8950622321379278, 1.374496951573704, 1.2966256103271536, 5.372766361050394, 0.8750873665638301, 1.7480708500496942, 20.326436033446168, 122.75011581289945, 1.6498601192729025, 12.459540783303776, 449.6847742822615, 534.8310916204274, 408.44276013596203, 65.7765742013669, 179.36013207904819, 310.157004782595, 258.0189609117855, 120.41959515283145, 130.5940766301182, 359.3585145118435, 147.32207593536648, 647.1462742034876, 373.3072833660915, 49.10483220989074, 31.490248585667192, 142.8417133479159, 30.8223098598338, 561.967190434591, 359.0407794259706, 108.75525054814631, 139.50076201736738, 236.99606860111373, 447.0616394665475, 158.48904101539264, 149.16800094337117, 204.45326048585866, 123.52765659465659, 212.33246176481524, 190.08324441229328, 126.02644446061811, 135.06144021184204, 136.65614764322729, 291.2937677798226, 140.66915005215293, 180.83587916330856, 138.3184647982237, 145.3233236607974, 152.15202986078916, 137.32339959791153, 136.30750785564257, 1.7583061884387334, 3.144127534206961, 1.5456601237441823, 1.4997131101528112, 0.9214880630251838, 0.9212683448931698, 0.921121703094466, 0.9208338977763959, 0.9207796041151012, 0.9206940060004475, 0.9205772012588515, 0.9205049075368753, 0.9201312106249013, 0.919648535084671, 0.9005093836065973, 0.8936077299050879, 0.8885216366719882, 0.8882989837474718, 0.8669741944664339, 1.2926987166175583, 1.261683144667134, 1.7053102923886485, 2.0687377784382055, 1.2356236546419521, 1.2843886559941406, 2.3550835263703687, 1.9518909714829416, 1.170542967851845, 1.5460884077967012, 0.770884832488283, 2.90947346053681, 2.7023653492943134, 683.2989323942363, 364.393103217871, 220.57593664497946, 9.736507519185501, 395.8588872077811, 141.74408549720255, 496.66689035419694, 41.98406466633388, 130.2437183795524, 138.03274220298226, 6.751838413846182, 83.23670704082356, 359.8027183515464, 247.76688465842452, 259.2812135622728, 169.8540821741448, 124.30675366931507, 12.077280801661269, 131.3118263281642, 97.8249955249386, 175.17649037781806, 153.43296803298105, 103.02454627095882, 180.17174200032625, 67.35352862618224, 105.3811830851743, 225.16957717445337, 92.18124084664373, 77.68002256910164, 255.85575505790897, 79.04673743741498, 97.26567259588127, 145.1616302357572, 97.37431157081862, 133.83420144024396, 108.89810068047201, 92.89952778985847, 114.61485734400026, 128.87592663804352, 100.88557558183969, 1.630188359855038, 1.5706679540734407, 1.5376292902411988, 1.5346603914054873, 1.4783524168156872, 1.3945339781261539, 0.8578732230412978, 0.8575825701479357, 0.8575500890008811, 0.857499156122401, 0.8574755958537629, 0.8574767395561239, 0.8574749096323462, 0.8573449087973036, 0.8572981694941475, 0.8572589786265746, 0.8572354183579364, 0.8572357233452327, 0.8572087319695112, 0.8572101806591685, 0.857205377109252, 0.8572051483687798, 0.8571404148151428, 0.857119370691699, 0.8570923030691534, 0.8570846021399222, 0.8570762912360983, 0.857075986248802, 0.8570503673159139, 0.8570432001144511, 1.271023577735865, 1.7157940241008165, 1.7328682804025328, 7.904070289776144, 1.578146700059357, 13.997618873667381, 4.687195433072049, 2.8290533157320925, 3.5517978760714977, 8.146346708175672, 139.93716012234248, 5.429807170878925, 315.9442552546277, 2.103801454829907, 26.823400918148362, 2.1676924810609535, 383.1085869218612, 174.56578860738773, 277.1171570094973, 58.9830401246238, 293.8036219639839, 23.980358140122853, 7.8734635946445, 4.4131658722941305, 42.36158870211221, 195.52186099884403, 206.18054726990923, 206.58379415336557, 89.94903957007583, 50.303155350043134, 141.46276025613716, 84.14360394534319, 277.87522367355626, 170.00128529379003, 73.9113582316424, 40.86190028901013, 72.82706739588075, 74.61253134550267, 89.21388843151074, 23.375582970974783, 67.26906674467703, 88.08571846345761, 149.20850066086774, 68.44819155029553, 98.15699432207619, 96.85575748282089, 71.03963200837562, 57.93435716567833, 90.27835753291205, 82.37375046549445, 71.05413476428869, 68.68787252680364, 64.09915566177908, 64.66571958254987, 1.3398739742067083, 1.3198161246358087, 1.5869669016336703, 2.9919219694694354, 0.7024890861264124, 0.7024475815421585, 0.7022038537611667, 0.7021543102689153, 0.702144187199585, 0.7020840442582702, 0.7020347389558854, 0.702020745301223, 0.7020138973425585, 0.7020086571654934, 0.7019900783558991, 0.7019744173721706, 0.7019600664327084, 0.7019419044553806, 0.7018005387695574, 0.7017529007962388, 0.7017684426850339, 0.7017015708799879, 0.7015300741760405, 0.7015132817904457, 0.7014807688736557, 0.7014635001083277, 0.7014277716283387, 0.7013852547371517, 0.7013439287952978, 0.7008049646746635, 2.0005378725187803, 311.15249141136223, 2.240224047854153, 346.4794709391715, 3.007399785190543, 12.806240067017253, 303.452792461128, 261.9650415614742, 32.26779083449493, 16.69145597352617, 12.807217598229753, 10.228815150634244, 3.3269262510485684, 1.4193372101705433, 90.06986311706227, 82.37879997863124, 48.32993965288659, 110.78375332096344, 81.24038199160206, 18.17820472698052, 142.6926053651346, 143.15508243218812, 148.53463677406054, 81.00598791872265, 167.95190518706008, 18.90784126496205, 166.05568518670444, 76.78604093441159, 138.09332291584363, 38.97462676689684, 82.51929007850485, 57.74500961260729, 89.81177201073523, 62.48934397409686, 40.26066530564597, 51.43375178856802, 54.83337668336917, 59.5994301496542, 86.15542417220074, 55.26948517943135, 56.46750779867687, 59.32897603649148, 70.60116855910573, 71.10886740147123, 59.747900562818145, 66.11645353012727, 56.10784110012079], \"Total\": [8374.0, 4133.0, 7384.0, 5252.0, 6066.0, 5463.0, 3740.0, 2014.0, 4069.0, 3768.0, 2806.0, 1463.0, 1672.0, 1660.0, 2346.0, 4173.0, 2531.0, 2141.0, 1376.0, 1490.0, 2181.0, 1184.0, 1533.0, 1356.0, 1268.0, 1532.0, 1202.0, 1490.0, 702.0, 1710.0, 8.496943016576846, 9.463698056115787, 9.379556230016425, 6.885922585428239, 2.243338259176437, 2.243316303587731, 2.2433095382539907, 2.243243364802015, 2.243138885392714, 2.2430283204764296, 2.2428494136323542, 2.2427979604152277, 2.2426219815240045, 2.2424559116884843, 2.2424671714218998, 2.242303694725139, 2.242189545142709, 2.24201935705893, 2.241922333383505, 2.241812196138754, 2.241761794452751, 2.2413217138781225, 2.2413088478752745, 2.241308220682834, 2.239850246147854, 10.185104614852012, 2.2405868280180323, 4.332119299455458, 6.695604249713818, 2.231873561527755, 167.42387013454046, 28.608747130899655, 115.54097533227744, 62.45689336142678, 13.023107328089248, 4.428774844281071, 38.41416209441642, 53.65393717580309, 745.2950674938842, 14.868725029255591, 29.82752153919758, 6066.146758854644, 46.29589577113041, 34.680497997706325, 23.833431367486853, 417.88451720776067, 16.253463505066286, 25.734002064970827, 5463.428750245956, 4069.2354419378885, 3768.424846916902, 152.1817915087086, 1232.2867587729675, 8374.887437778167, 2504.4169397562828, 285.9002567372225, 617.6861597491943, 4173.148083995884, 1490.1042447210677, 1138.1386400660947, 1172.1035782502236, 260.2795782362546, 1211.672557897845, 4133.194982227029, 1081.3567929096935, 1016.7096125295968, 575.8978113126174, 5252.835568922832, 3740.981687412894, 917.0471212704635, 7384.441586313055, 1710.220256827179, 731.279184611136, 1428.9320949841838, 2141.766560944944, 690.0182877011437, 2531.691778718997, 2806.081467943876, 2416.9134398679626, 2181.309426246426, 2346.2547838411647, 1343.6780434564796, 1224.2802977122792, 1533.3013946707908, 1532.3176797956412, 4.361599181832128, 3.217249741852751, 3.1599631767747973, 3.137266122599305, 2.0759104430024276, 2.0758519951571928, 2.075607699793727, 2.075562381190379, 2.0754912448648892, 2.0754284547572732, 2.075412616502721, 2.075341633451699, 2.0753191889108145, 2.074986112617238, 2.074837910371285, 2.0745654153118385, 2.074406584651425, 2.07271331806123, 4.107330185417514, 2.068282856299055, 2.065785985678133, 2.0653985549130818, 4.906585783896582, 2.067401887406524, 2.065508876720183, 2.065931869086443, 2.065147353803999, 2.0630340261913713, 3.098450913922175, 4.023093861929958, 15.871869727033706, 5.139236209209275, 8.438948528186952, 7.0793505487360635, 5.201667347774589, 428.2643776235707, 11.069611956054553, 21.617977675748246, 2141.766560944944, 4133.194982227029, 231.92308699230782, 771.0947032435174, 4069.2354419378885, 5252.835568922832, 7384.441586313055, 1376.6328318967358, 50.95409971763561, 6066.146758854644, 775.4041565596725, 3740.981687412894, 4173.148083995884, 2416.9134398679626, 2181.309426246426, 8374.887437778167, 540.716993717984, 2504.4169397562828, 1081.3567929096935, 1346.224803734446, 3768.424846916902, 1533.3013946707908, 1202.7941971333098, 396.8897705300573, 1061.38480086735, 1232.2867587729675, 899.0759523523027, 1710.220256827179, 1428.9320949841838, 888.4983893406384, 1343.6780434564796, 2346.2547838411647, 2806.081467943876, 1370.816992394578, 5463.428750245956, 2531.691778718997, 1490.1042447210677, 2014.0709084497712, 2.7754786154110294, 2.773695297401028, 5.695856949691807, 2.77068362360286, 2.7780553723916257, 8.915609354637212, 10.101392861784221, 2.7715285328359585, 3.7731252235964146, 10.735843259160072, 3.6379322208059497, 2.7738757106342438, 1.8548869055127069, 1.8545246960138722, 1.8544704370543612, 1.854421060786697, 1.854378808196299, 1.854335595346161, 1.8542982087373687, 1.854274374777639, 1.8542690266837276, 1.8542694278392637, 1.8542113326902292, 1.8542066788782268, 1.8540861235555886, 1.8540310520511436, 1.8539761462876618, 1.8539662679992854, 1.8539131713401107, 1.8539058619407398, 3.6897380945977996, 3.7280385065357122, 4.59338260755734, 10.090305345421816, 5.501401951555017, 372.80005455502635, 10.925296654152218, 14.021721065560886, 20.25838351409614, 4.570837289749038, 2.7513714845104706, 2.761429175210757, 2531.691778718997, 7384.441586313055, 29.97345919863822, 1463.5322916406913, 22.786532214582813, 2.801350734879238, 6066.146758854644, 2806.081467943876, 775.4041565596725, 828.636116344386, 4173.148083995884, 821.604178435101, 2014.0709084497712, 5463.428750245956, 1672.6201930382426, 260.2795782362546, 5252.835568922832, 1078.5762041047824, 3768.424846916902, 8374.887437778167, 2346.2547838411647, 495.4271576181991, 450.9578846070999, 1532.3176797956412, 1163.8424211440515, 772.274574198417, 2416.9134398679626, 4133.194982227029, 3740.981687412894, 1268.6196654101063, 2181.309426246426, 1490.0728868873302, 2141.766560944944, 4069.2354419378885, 1322.7433574836732, 1172.1035782502236, 1533.3013946707908, 2504.4169397562828, 1710.220256827179, 1660.2158354170376, 6.501286576761723, 18.278478890215553, 2.8022798082257268, 16.936414054371866, 2.8000186491926033, 5.681261791395525, 2.656905511764529, 10.983315236271453, 1.8642873015133985, 1.8639260455534454, 1.8639244344945027, 1.8638884616336975, 1.8638005235943662, 1.8636416138310088, 1.8635583732782743, 1.8633961267693042, 1.863399837807738, 1.8632943620888374, 1.8631970832151343, 1.863151644436765, 1.863038819587011, 1.862942200739272, 1.8628070795975118, 1.862771572163408, 1.8626187852036087, 1.8625851056281837, 1.8623680244692904, 1.8620002525373163, 1.8616077581857597, 1.8647475140696885, 24.6950868359826, 42.599609253596235, 11.029392837703911, 11.024997271920412, 9.48690817480366, 29.439160553238107, 50.690822371347835, 4.6042299653405125, 4.670679484487224, 9.791279160517997, 22.139121200924862, 11.984855910847516, 48.28111567665158, 151.35198614400167, 8374.887437778167, 28.636569174349304, 159.60524260243866, 15.028707855302578, 533.2601960206214, 7.305438226586052, 32.74654934212664, 5463.428750245956, 731.279184611136, 641.5584278971403, 5252.835568922832, 133.01972971196597, 1532.3176797956412, 738.2878656465098, 452.5753572654503, 2181.309426246426, 4069.2354419378885, 7384.441586313055, 621.8977279710699, 1138.1386400660947, 6066.146758854644, 1224.2802977122792, 3768.424846916902, 4173.148083995884, 624.410685881073, 1322.7433574836732, 1172.1035782502236, 1428.9320949841838, 3740.981687412894, 4133.194982227029, 2416.9134398679626, 1463.5322916406913, 2531.691778718997, 2504.4169397562828, 1490.1042447210677, 2346.2547838411647, 1061.0860578514603, 1084.8990309840797, 1370.816992394578, 1710.220256827179, 1490.0728868873302, 2806.081467943876, 1660.2158354170376, 1672.6201930382426, 2014.0709084497712, 10.002060544575569, 3.6560998972984082, 5.502284261219391, 5.3755969274429996, 2.7482715032468903, 3.6043259635182165, 4.5378921840990305, 2.7788231564485426, 2.7508886489238202, 3.663159886136666, 2.824606469225632, 15.396636641345015, 3.6735761380129848, 2.7565238501195752, 2.7387066393111232, 2.7032155304620145, 1.8413821534152537, 1.8411980233749994, 1.8410112503835465, 1.8409675956781653, 1.8409713758310204, 1.8409222270116599, 1.8409046496445347, 1.840865226776326, 1.8408420095698723, 1.8408096638691118, 1.8407923601985676, 1.8407984731717242, 1.840739366340703, 1.8406581153799098, 12.282453255138174, 9.646562663934393, 60.96888516865611, 4.469741869831527, 6.203945830130761, 3.7082308146663943, 4.521186547947784, 46.85526947015159, 9.732420913872486, 3.5267577813183415, 2.7135651356157613, 3.57212451533805, 22.623946133176773, 5.644646020298172, 20.72236111424251, 2014.0709084497712, 33.13982954458171, 1672.6201930382426, 5463.428750245956, 37.36776281316602, 7384.441586313055, 411.5345951124515, 1003.0263500641996, 1084.8990309840797, 2416.9134398679626, 1660.2158354170376, 769.3950709876387, 8374.887437778167, 4173.148083995884, 702.2488441440177, 744.6518811580636, 2806.081467943876, 356.4857049217173, 579.9109748851761, 5252.835568922832, 1533.3013946707908, 940.1594334131997, 2531.691778718997, 3740.981687412894, 4133.194982227029, 2346.2547838411647, 1075.6230803181418, 1163.8424211440515, 3768.424846916902, 6066.146758854644, 1346.224803734446, 4069.2354419378885, 2504.4169397562828, 1100.057798050232, 1322.7433574836732, 2181.309426246426, 1490.0728868873302, 1370.816992394578, 1184.6653764176629, 1710.220256827179, 2.697275592025469, 3.55068060311102, 2.7203470550716986, 3.707033496149467, 1.8153781313795763, 1.814765456732179, 1.8146029507716162, 1.814135793302516, 1.8140090567923943, 1.8138624146496736, 1.8138164251734585, 2.705127126721424, 11.489757415583078, 1.8163120081442987, 3.671465110861142, 1.8167761411553154, 14.68455882684195, 1.816739337957345, 1.8170193065571765, 1.8189320149679162, 4.552829180586086, 2.7341529611818607, 1.8108438113746013, 1.8105433988726758, 2.730566571386978, 1.8197455732791414, 9.09001465113237, 1.8086636787644275, 1.8083925151535098, 1.8201214479055698, 3.720336028873814, 25.87964347541101, 3.723319993139933, 6.568613982749507, 9.195825073557959, 22.861714215179184, 16.843944414599367, 2504.4169397562828, 11.995123165043816, 8374.887437778167, 5463.428750245956, 631.8142980990837, 298.34427591055385, 1710.220256827179, 2141.766560944944, 7384.441586313055, 1172.1035782502236, 1490.1042447210677, 1202.7941971333098, 1138.1386400660947, 1660.2158354170376, 3740.981687412894, 1532.3176797956412, 1370.816992394578, 619.163301152044, 4133.194982227029, 2806.081467943876, 6066.146758854644, 1428.9320949841838, 5252.835568922832, 1100.057798050232, 2346.2547838411647, 1184.6653764176629, 4069.2354419378885, 1343.6780434564796, 2531.691778718997, 3768.424846916902, 1021.7205210211259, 4173.148083995884, 2416.9134398679626, 1268.6196654101063, 2181.309426246426, 2014.0709084497712, 1490.0728868873302, 3.8189638146684928, 2.830507974435652, 4.6326501881867514, 1.8822186775394047, 1.8819211131604896, 1.8818585119106572, 1.8818128969955417, 1.8817666444217922, 1.8817896659186557, 1.8816016580658563, 1.8811462131316778, 1.8810384708196657, 1.880973916753901, 1.880964047519299, 1.8809618145561964, 1.8813183061536247, 5.634441676251056, 1.8807080791026531, 1.8778921100055186, 1.8753201077169264, 1.8919415701525237, 1.893726520850933, 1.872390215005801, 1.921828389217613, 5.598125375916727, 1.8863804127915926, 2.9135260570804067, 2.7685313585181808, 11.556461459305826, 1.8857624353697133, 3.829620566921366, 60.51623652779711, 618.1276160070441, 3.7609980552413385, 46.697828634814755, 4133.194982227029, 5252.835568922832, 3768.424846916902, 380.9713574674776, 1356.5199923113132, 2806.081467943876, 2346.2547838411647, 888.4983893406384, 1003.0263500641996, 3740.981687412894, 1184.6653764176629, 8374.887437778167, 4069.2354419378885, 285.7860881185812, 164.33487075445336, 1202.7941971333098, 161.70928262243856, 7384.441586313055, 4173.148083995884, 874.003179935348, 1232.2867587729675, 2504.4169397562828, 6066.146758854644, 1490.0728868873302, 1376.6328318967358, 2141.766560944944, 1143.2922707178993, 2531.691778718997, 2181.309426246426, 1211.672557897845, 1346.224803734446, 1370.816992394578, 5463.428750245956, 1490.1042447210677, 2416.9134398679626, 1463.5322916406913, 1710.220256827179, 2014.0709084497712, 1660.2158354170376, 1672.6201930382426, 2.6072939807932958, 5.218905903612317, 2.5923812449508583, 2.5879290722327766, 1.770466131072012, 1.7702490372171544, 1.7701052225333156, 1.7698189628143879, 1.7697547430150478, 1.7696800605941736, 1.7695620507783032, 1.7694935487358157, 1.7691194881502001, 1.7686380623026012, 1.7718189435079343, 1.7710982010572023, 1.7677783626826304, 1.7884649625441134, 1.76424565766976, 2.691230772298723, 2.665645112371989, 3.617486428851155, 4.3948224356516254, 2.6521018302628527, 2.780485602351167, 5.167583017104941, 4.404260689172945, 2.6529655252404094, 3.535837480741754, 1.790009940422739, 7.718601119873585, 7.1619837527129455, 8374.887437778167, 3740.981687412894, 2181.309426246426, 39.87291716265882, 5252.835568922832, 1376.6328318967358, 7384.441586313055, 285.7860881185812, 1356.5199923113132, 1490.0728868873302, 26.071666877021332, 808.4878226232612, 6066.146758854644, 3768.424846916902, 4069.2354419378885, 2346.2547838411647, 1532.3176797956412, 60.1678458822846, 1672.6201930382426, 1112.076643680394, 2531.691778718997, 2141.766560944944, 1224.2802977122792, 2806.081467943876, 690.0182877011437, 1343.6780434564796, 4173.148083995884, 1138.1386400660947, 888.4983893406384, 5463.428750245956, 958.0810461778826, 1322.7433574836732, 2504.4169397562828, 1346.224803734446, 2416.9134398679626, 1660.2158354170376, 1268.6196654101063, 2014.0709084497712, 4133.194982227029, 1710.220256827179, 2.4922234778828147, 2.4972931253196142, 2.473363414518915, 2.509308052529088, 2.4616559097885693, 2.5726499503293283, 1.7126601359667661, 1.7123726757005524, 1.7123432885146368, 1.712294234154842, 1.7122594830627098, 1.7122688966973465, 1.7122736534612373, 1.7121441228444803, 1.7120874525115422, 1.712053896984764, 1.712022695276162, 1.7120260138075103, 1.7119987140121984, 1.7120034388500869, 1.7119976696128543, 1.7120005115108983, 1.7119301172997357, 1.7119072036724607, 1.71188164796582, 1.7118814211482363, 1.7118656386053464, 1.7118736868524496, 1.7118451941421726, 1.7118320325797538, 2.549493426381707, 3.5151390627781085, 3.5737410022946174, 19.099104741136816, 3.541263697932136, 50.57150269014198, 14.075668279934945, 7.643891323046628, 10.635113119890601, 32.13332961916207, 1463.5322916406913, 20.553472621661673, 5252.835568922832, 5.836222592402394, 195.46054275813995, 6.11430744769528, 8374.887437778167, 2806.081467943876, 5463.428750245956, 631.8142980990837, 6066.146758854644, 178.83797750800676, 37.645877367169284, 17.179244768753087, 417.5561842845053, 3768.424846916902, 4069.2354419378885, 4173.148083995884, 1268.6196654101063, 546.7564134566456, 2531.691778718997, 1184.6653764176629, 7384.441586313055, 3740.981687412894, 1061.0860578514603, 431.79292991283427, 1100.057798050232, 1143.2922707178993, 1533.3013946707908, 189.48872690122306, 1061.38480086735, 1660.2158354170376, 4133.194982227029, 1163.8424211440515, 2346.2547838411647, 2416.9134398679626, 1346.224803734446, 907.258193393719, 2504.4169397562828, 2141.766560944944, 1532.3176797956412, 1490.1042447210677, 1202.7941971333098, 1710.220256827179, 2.208826695689936, 2.2159028855075555, 3.1313851547825693, 6.280560510625711, 1.5714550268950456, 1.5713856469989598, 1.571145592934497, 1.5710993120198884, 1.57109322688285, 1.571036759328463, 1.570984407909761, 1.5709667295610763, 1.5709575644899507, 1.5709497982507226, 1.5709370198509105, 1.5709208042986118, 1.5708990317244775, 1.5708880971665238, 1.5707477096195328, 1.5706984844745935, 1.5707335308171495, 1.5706836807840794, 1.5704699012921057, 1.5704609883784468, 1.570428321814711, 1.5704479142062597, 1.5703732307414922, 1.5703315205823372, 1.57029215740656, 1.5697571752741952, 4.578486503938144, 4133.194982227029, 6.969674659237755, 8374.887437778167, 11.58666991967819, 87.52060734022842, 7384.441586313055, 6066.146758854644, 332.54836854686545, 136.84879601093527, 95.05193952357449, 69.70932309034598, 14.147150266435379, 4.280758003030181, 1660.2158354170376, 1490.1042447210677, 702.2488441440177, 2346.2547838411647, 1533.3013946707908, 176.79889860807725, 3740.981687412894, 3768.424846916902, 4069.2354419378885, 1672.6201930382426, 5252.835568922832, 206.05377109926062, 5463.428750245956, 1710.220256827179, 4173.148083995884, 617.6861597491943, 2014.0709084497712, 1163.8424211440515, 2416.9134398679626, 1376.6328318967358, 690.0182877011437, 1061.0860578514603, 1184.6653764176629, 1428.9320949841838, 2806.081467943876, 1268.6196654101063, 1346.224803734446, 1490.0728868873302, 2141.766560944944, 2181.309426246426, 1532.3176797956412, 2531.691778718997, 1356.5199923113132], \"Category\": [\"Default\", \"Default\", \"Default\", \"Default\", \"Default\", \"Default\", \"Default\", \"Default\", \"Default\", \"Default\", \"Default\", \"Default\", \"Default\", \"Default\", \"Default\", \"Default\", \"Default\", \"Default\", \"Default\", \"Default\", \"Default\", \"Default\", \"Default\", \"Default\", \"Default\", \"Default\", \"Default\", \"Default\", \"Default\", \"Default\", \"Topic1\", \"Topic1\", \"Topic1\", \"Topic1\", \"Topic1\", \"Topic1\", \"Topic1\", \"Topic1\", \"Topic1\", \"Topic1\", \"Topic1\", \"Topic1\", \"Topic1\", \"Topic1\", \"Topic1\", \"Topic1\", \"Topic1\", \"Topic1\", \"Topic1\", \"Topic1\", \"Topic1\", \"Topic1\", \"Topic1\", \"Topic1\", \"Topic1\", \"Topic1\", \"Topic1\", \"Topic1\", \"Topic1\", \"Topic1\", \"Topic1\", \"Topic1\", \"Topic1\", \"Topic1\", \"Topic1\", \"Topic1\", \"Topic1\", \"Topic1\", \"Topic1\", \"Topic1\", \"Topic1\", \"Topic1\", \"Topic1\", \"Topic1\", \"Topic1\", \"Topic1\", \"Topic1\", \"Topic1\", \"Topic1\", \"Topic1\", \"Topic1\", \"Topic1\", \"Topic1\", \"Topic1\", \"Topic1\", \"Topic1\", \"Topic1\", \"Topic1\", \"Topic1\", \"Topic1\", \"Topic1\", \"Topic1\", \"Topic1\", \"Topic1\", \"Topic1\", \"Topic1\", \"Topic1\", \"Topic1\", \"Topic1\", \"Topic1\", \"Topic1\", \"Topic1\", \"Topic1\", \"Topic1\", \"Topic1\", \"Topic1\", \"Topic1\", \"Topic1\", \"Topic1\", \"Topic1\", \"Topic1\", \"Topic1\", \"Topic1\", \"Topic1\", \"Topic1\", \"Topic2\", \"Topic2\", \"Topic2\", \"Topic2\", \"Topic2\", \"Topic2\", \"Topic2\", \"Topic2\", \"Topic2\", \"Topic2\", \"Topic2\", \"Topic2\", \"Topic2\", \"Topic2\", \"Topic2\", \"Topic2\", \"Topic2\", \"Topic2\", \"Topic2\", \"Topic2\", \"Topic2\", \"Topic2\", \"Topic2\", \"Topic2\", \"Topic2\", \"Topic2\", \"Topic2\", \"Topic2\", \"Topic2\", \"Topic2\", \"Topic2\", \"Topic2\", \"Topic2\", \"Topic2\", \"Topic2\", \"Topic2\", \"Topic2\", \"Topic2\", \"Topic2\", \"Topic2\", \"Topic2\", \"Topic2\", \"Topic2\", \"Topic2\", \"Topic2\", \"Topic2\", \"Topic2\", \"Topic2\", \"Topic2\", \"Topic2\", \"Topic2\", \"Topic2\", \"Topic2\", \"Topic2\", \"Topic2\", \"Topic2\", \"Topic2\", \"Topic2\", \"Topic2\", \"Topic2\", \"Topic2\", \"Topic2\", \"Topic2\", \"Topic2\", \"Topic2\", \"Topic2\", \"Topic2\", \"Topic2\", \"Topic2\", \"Topic2\", \"Topic2\", \"Topic2\", \"Topic2\", \"Topic2\", \"Topic2\", \"Topic2\", \"Topic3\", \"Topic3\", \"Topic3\", \"Topic3\", \"Topic3\", \"Topic3\", \"Topic3\", \"Topic3\", \"Topic3\", \"Topic3\", \"Topic3\", \"Topic3\", \"Topic3\", \"Topic3\", \"Topic3\", \"Topic3\", \"Topic3\", \"Topic3\", \"Topic3\", \"Topic3\", \"Topic3\", \"Topic3\", \"Topic3\", \"Topic3\", \"Topic3\", \"Topic3\", \"Topic3\", \"Topic3\", \"Topic3\", \"Topic3\", \"Topic3\", \"Topic3\", \"Topic3\", \"Topic3\", \"Topic3\", \"Topic3\", \"Topic3\", \"Topic3\", \"Topic3\", \"Topic3\", \"Topic3\", \"Topic3\", \"Topic3\", \"Topic3\", \"Topic3\", \"Topic3\", \"Topic3\", \"Topic3\", \"Topic3\", \"Topic3\", \"Topic3\", \"Topic3\", \"Topic3\", \"Topic3\", \"Topic3\", \"Topic3\", \"Topic3\", \"Topic3\", \"Topic3\", \"Topic3\", \"Topic3\", \"Topic3\", \"Topic3\", \"Topic3\", \"Topic3\", \"Topic3\", \"Topic3\", \"Topic3\", \"Topic3\", \"Topic3\", \"Topic3\", \"Topic3\", \"Topic3\", \"Topic3\", \"Topic3\", \"Topic3\", \"Topic3\", \"Topic3\", \"Topic3\", \"Topic3\", \"Topic3\", \"Topic3\", \"Topic4\", \"Topic4\", \"Topic4\", \"Topic4\", \"Topic4\", \"Topic4\", \"Topic4\", \"Topic4\", \"Topic4\", \"Topic4\", \"Topic4\", \"Topic4\", \"Topic4\", \"Topic4\", \"Topic4\", \"Topic4\", \"Topic4\", \"Topic4\", \"Topic4\", \"Topic4\", \"Topic4\", \"Topic4\", \"Topic4\", \"Topic4\", \"Topic4\", \"Topic4\", \"Topic4\", \"Topic4\", \"Topic4\", \"Topic4\", \"Topic4\", \"Topic4\", \"Topic4\", \"Topic4\", \"Topic4\", \"Topic4\", \"Topic4\", \"Topic4\", \"Topic4\", \"Topic4\", \"Topic4\", \"Topic4\", \"Topic4\", \"Topic4\", \"Topic4\", \"Topic4\", \"Topic4\", \"Topic4\", \"Topic4\", \"Topic4\", \"Topic4\", \"Topic4\", \"Topic4\", \"Topic4\", \"Topic4\", \"Topic4\", \"Topic4\", \"Topic4\", \"Topic4\", \"Topic4\", \"Topic4\", \"Topic4\", \"Topic4\", \"Topic4\", \"Topic4\", \"Topic4\", \"Topic4\", \"Topic4\", \"Topic4\", \"Topic4\", \"Topic4\", \"Topic4\", \"Topic4\", \"Topic4\", \"Topic4\", \"Topic4\", \"Topic4\", \"Topic4\", \"Topic4\", \"Topic4\", \"Topic4\", \"Topic4\", \"Topic4\", \"Topic4\", \"Topic4\", \"Topic4\", \"Topic4\", \"Topic4\", \"Topic4\", \"Topic5\", \"Topic5\", \"Topic5\", \"Topic5\", \"Topic5\", \"Topic5\", \"Topic5\", \"Topic5\", \"Topic5\", \"Topic5\", \"Topic5\", \"Topic5\", \"Topic5\", \"Topic5\", \"Topic5\", \"Topic5\", \"Topic5\", \"Topic5\", \"Topic5\", \"Topic5\", \"Topic5\", \"Topic5\", \"Topic5\", \"Topic5\", \"Topic5\", \"Topic5\", \"Topic5\", \"Topic5\", \"Topic5\", \"Topic5\", \"Topic5\", \"Topic5\", \"Topic5\", \"Topic5\", \"Topic5\", \"Topic5\", \"Topic5\", \"Topic5\", \"Topic5\", \"Topic5\", \"Topic5\", \"Topic5\", \"Topic5\", \"Topic5\", \"Topic5\", \"Topic5\", \"Topic5\", \"Topic5\", \"Topic5\", \"Topic5\", \"Topic5\", \"Topic5\", \"Topic5\", \"Topic5\", \"Topic5\", \"Topic5\", \"Topic5\", \"Topic5\", \"Topic5\", \"Topic5\", \"Topic5\", \"Topic5\", \"Topic5\", \"Topic5\", \"Topic5\", \"Topic5\", \"Topic5\", \"Topic5\", \"Topic5\", \"Topic5\", \"Topic5\", \"Topic5\", \"Topic5\", \"Topic5\", \"Topic5\", \"Topic5\", \"Topic5\", \"Topic5\", \"Topic5\", \"Topic5\", \"Topic5\", \"Topic5\", \"Topic5\", \"Topic5\", \"Topic5\", \"Topic6\", \"Topic6\", \"Topic6\", \"Topic6\", \"Topic6\", \"Topic6\", \"Topic6\", \"Topic6\", \"Topic6\", \"Topic6\", \"Topic6\", \"Topic6\", \"Topic6\", \"Topic6\", \"Topic6\", \"Topic6\", \"Topic6\", \"Topic6\", \"Topic6\", \"Topic6\", \"Topic6\", \"Topic6\", \"Topic6\", \"Topic6\", \"Topic6\", \"Topic6\", \"Topic6\", \"Topic6\", \"Topic6\", \"Topic6\", \"Topic6\", \"Topic6\", \"Topic6\", \"Topic6\", \"Topic6\", \"Topic6\", \"Topic6\", \"Topic6\", \"Topic6\", \"Topic6\", \"Topic6\", \"Topic6\", \"Topic6\", \"Topic6\", \"Topic6\", \"Topic6\", \"Topic6\", \"Topic6\", \"Topic6\", \"Topic6\", \"Topic6\", \"Topic6\", \"Topic6\", \"Topic6\", \"Topic6\", \"Topic6\", \"Topic6\", \"Topic6\", \"Topic6\", \"Topic6\", \"Topic6\", \"Topic6\", \"Topic6\", \"Topic6\", \"Topic6\", \"Topic6\", \"Topic6\", \"Topic6\", \"Topic6\", \"Topic6\", \"Topic6\", \"Topic6\", \"Topic6\", \"Topic6\", \"Topic7\", \"Topic7\", \"Topic7\", \"Topic7\", \"Topic7\", \"Topic7\", \"Topic7\", \"Topic7\", \"Topic7\", \"Topic7\", \"Topic7\", \"Topic7\", \"Topic7\", \"Topic7\", \"Topic7\", \"Topic7\", \"Topic7\", \"Topic7\", \"Topic7\", \"Topic7\", \"Topic7\", \"Topic7\", \"Topic7\", \"Topic7\", \"Topic7\", \"Topic7\", \"Topic7\", \"Topic7\", \"Topic7\", \"Topic7\", \"Topic7\", \"Topic7\", \"Topic7\", \"Topic7\", \"Topic7\", \"Topic7\", \"Topic7\", \"Topic7\", \"Topic7\", \"Topic7\", \"Topic7\", \"Topic7\", \"Topic7\", \"Topic7\", \"Topic7\", \"Topic7\", \"Topic7\", \"Topic7\", \"Topic7\", \"Topic7\", \"Topic7\", \"Topic7\", \"Topic7\", \"Topic7\", \"Topic7\", \"Topic7\", \"Topic7\", \"Topic7\", \"Topic7\", \"Topic7\", \"Topic7\", \"Topic7\", \"Topic7\", \"Topic7\", \"Topic7\", \"Topic7\", \"Topic7\", \"Topic7\", \"Topic7\", \"Topic7\", \"Topic7\", \"Topic7\", \"Topic7\", \"Topic7\", \"Topic7\", \"Topic8\", \"Topic8\", \"Topic8\", \"Topic8\", \"Topic8\", \"Topic8\", \"Topic8\", \"Topic8\", \"Topic8\", \"Topic8\", \"Topic8\", \"Topic8\", \"Topic8\", \"Topic8\", \"Topic8\", \"Topic8\", \"Topic8\", \"Topic8\", \"Topic8\", \"Topic8\", \"Topic8\", \"Topic8\", \"Topic8\", \"Topic8\", \"Topic8\", \"Topic8\", \"Topic8\", \"Topic8\", \"Topic8\", \"Topic8\", \"Topic8\", \"Topic8\", \"Topic8\", \"Topic8\", \"Topic8\", \"Topic8\", \"Topic8\", \"Topic8\", \"Topic8\", \"Topic8\", \"Topic8\", \"Topic8\", \"Topic8\", \"Topic8\", \"Topic8\", \"Topic8\", \"Topic8\", \"Topic8\", \"Topic8\", \"Topic8\", \"Topic8\", \"Topic8\", \"Topic8\", \"Topic8\", \"Topic8\", \"Topic8\", \"Topic8\", \"Topic8\", \"Topic8\", \"Topic8\", \"Topic8\", \"Topic8\", \"Topic8\", \"Topic8\", \"Topic8\", \"Topic8\", \"Topic8\", \"Topic8\", \"Topic8\", \"Topic8\", \"Topic8\", \"Topic8\", \"Topic9\", \"Topic9\", \"Topic9\", \"Topic9\", \"Topic9\", \"Topic9\", \"Topic9\", \"Topic9\", \"Topic9\", \"Topic9\", \"Topic9\", \"Topic9\", \"Topic9\", \"Topic9\", \"Topic9\", \"Topic9\", \"Topic9\", \"Topic9\", \"Topic9\", \"Topic9\", \"Topic9\", \"Topic9\", \"Topic9\", \"Topic9\", \"Topic9\", \"Topic9\", \"Topic9\", \"Topic9\", \"Topic9\", \"Topic9\", \"Topic9\", \"Topic9\", \"Topic9\", \"Topic9\", \"Topic9\", \"Topic9\", \"Topic9\", \"Topic9\", \"Topic9\", \"Topic9\", \"Topic9\", \"Topic9\", \"Topic9\", \"Topic9\", \"Topic9\", \"Topic9\", \"Topic9\", \"Topic9\", \"Topic9\", \"Topic9\", \"Topic9\", \"Topic9\", \"Topic9\", \"Topic9\", \"Topic9\", \"Topic9\", \"Topic9\", \"Topic9\", \"Topic9\", \"Topic9\", \"Topic9\", \"Topic9\", \"Topic9\", \"Topic9\", \"Topic9\", \"Topic9\", \"Topic9\", \"Topic9\", \"Topic9\", \"Topic9\", \"Topic9\", \"Topic9\", \"Topic9\", \"Topic9\", \"Topic9\", \"Topic9\", \"Topic9\", \"Topic9\", \"Topic9\", \"Topic9\", \"Topic9\", \"Topic9\", \"Topic9\", \"Topic9\", \"Topic10\", \"Topic10\", \"Topic10\", \"Topic10\", \"Topic10\", \"Topic10\", \"Topic10\", \"Topic10\", \"Topic10\", \"Topic10\", \"Topic10\", \"Topic10\", \"Topic10\", \"Topic10\", \"Topic10\", \"Topic10\", \"Topic10\", \"Topic10\", \"Topic10\", \"Topic10\", \"Topic10\", \"Topic10\", \"Topic10\", \"Topic10\", \"Topic10\", \"Topic10\", \"Topic10\", \"Topic10\", \"Topic10\", \"Topic10\", \"Topic10\", \"Topic10\", \"Topic10\", \"Topic10\", \"Topic10\", \"Topic10\", \"Topic10\", \"Topic10\", \"Topic10\", \"Topic10\", \"Topic10\", \"Topic10\", \"Topic10\", \"Topic10\", \"Topic10\", \"Topic10\", \"Topic10\", \"Topic10\", \"Topic10\", \"Topic10\", \"Topic10\", \"Topic10\", \"Topic10\", \"Topic10\", \"Topic10\", \"Topic10\", \"Topic10\", \"Topic10\", \"Topic10\", \"Topic10\", \"Topic10\", \"Topic10\", \"Topic10\", \"Topic10\", \"Topic10\", \"Topic10\", \"Topic10\", \"Topic10\", \"Topic10\", \"Topic10\", \"Topic10\", \"Topic10\", \"Topic10\", \"Topic10\", \"Topic10\", \"Topic10\", \"Topic10\"], \"logprob\": [30.0, 29.0, 28.0, 27.0, 26.0, 25.0, 24.0, 23.0, 22.0, 21.0, 20.0, 19.0, 18.0, 17.0, 16.0, 15.0, 14.0, 13.0, 12.0, 11.0, 10.0, 9.0, 8.0, 7.0, 6.0, 5.0, 4.0, 3.0, 2.0, 1.0, -9.1526, -9.1206, -9.1467, -9.529, -10.738, -10.7381, -10.7381, -10.7381, -10.7382, -10.7383, -10.7384, -10.7384, -10.7385, -10.7387, -10.7387, -10.7388, -10.7388, -10.739, -10.739, -10.7391, -10.7391, -10.7394, -10.7395, -10.7395, -10.7405, -9.2289, -10.7448, -10.0915, -9.667, -10.798, -6.4972, -8.3022, -7.1595, -7.7435, -9.1552, -10.1263, -8.1877, -7.9426, -5.6892, -9.1035, -8.5095, -3.9476, -8.1482, -8.4038, -8.7268, -6.309, -9.0568, -8.6849, -4.2007, -4.4461, -4.5306, -7.1967, -5.4734, -3.8945, -4.8852, -6.6882, -6.0629, -4.5175, -5.3571, -5.5797, -5.5575, -6.7741, -5.5604, -4.6255, -5.7049, -5.7571, -6.1848, -4.5347, -4.7887, -5.8388, -4.3418, -5.4043, -6.0177, -5.5497, -5.2723, -6.0679, -5.1757, -5.1186, -5.2215, -5.2919, -5.2584, -5.6189, -5.7141, -5.6274, -5.6823, -9.5873, -9.9774, -10.1132, -10.1786, -10.6232, -10.6233, -10.6235, -10.6235, -10.6236, -10.6236, -10.6236, -10.6237, -10.6237, -10.624, -10.6241, -10.6243, -10.6244, -10.6355, -9.956, -10.6427, -10.6473, -10.6483, -9.7856, -10.654, -10.6604, -10.6612, -10.6623, -10.667, -10.274, -10.0327, -8.7122, -9.8087, -9.3592, -9.5332, -9.8409, -5.9971, -9.2076, -8.6469, -4.7678, -4.2232, -6.6456, -5.649, -4.2969, -4.1493, -3.8851, -5.2675, -7.9974, -4.1013, -5.7744, -4.5372, -4.4575, -4.9345, -5.0474, -4.0318, -6.1783, -4.9917, -5.6518, -5.4898, -4.7118, -5.3966, -5.6202, -6.4537, -5.7178, -5.6221, -5.8662, -5.3992, -5.548, -5.8878, -5.6013, -5.2644, -5.1641, -5.6375, -4.8669, -5.4204, -5.6189, -5.5539, -10.1651, -10.166, -9.5123, -10.2489, -10.2974, -9.1498, -9.0323, -10.3457, -10.0408, -9.0151, -10.1065, -10.3852, -10.8109, -10.8112, -10.8113, -10.8114, -10.8114, -10.8114, -10.8115, -10.8115, -10.8115, -10.8115, -10.8116, -10.8116, -10.8117, -10.8117, -10.8118, -10.8118, -10.8119, -10.8119, -10.1459, -10.1481, -9.9716, -9.2619, -9.8157, -6.0533, -9.2424, -9.0445, -8.7412, -10.0309, -10.4698, -10.4674, -4.6278, -3.7222, -8.4317, -5.1282, -8.6697, -10.4587, -3.9957, -4.6827, -5.755, -5.7, -4.4315, -5.7541, -5.0305, -4.253, -5.2088, -6.7265, -4.3715, -5.6444, -4.6695, -4.0483, -5.0529, -6.2588, -6.3368, -5.4041, -5.6201, -5.9554, -5.0952, -4.6951, -4.7747, -5.5884, -5.2338, -5.5071, -5.2552, -4.8538, -5.6284, -5.7085, -5.5584, -5.4091, -5.5845, -5.6351, -9.1973, -8.3531, -10.2299, -8.4493, -10.2616, -9.5922, -10.3815, -8.9888, -10.7755, -10.7759, -10.7759, -10.7759, -10.776, -10.7762, -10.7762, -10.7764, -10.7764, -10.7765, -10.7766, -10.7766, -10.7767, -10.7769, -10.777, -10.777, -10.7772, -10.7772, -10.7775, -10.7778, -10.7781, -10.7765, -8.216, -7.748, -9.0936, -9.1015, -9.2444, -8.1831, -7.7436, -9.9477, -9.9661, -9.3242, -8.6393, -9.1924, -8.0089, -7.038, -3.6322, -8.4802, -7.0582, -9.0266, -6.066, -9.6323, -8.3954, -4.1695, -5.8325, -5.9468, -4.2478, -7.2494, -5.2772, -5.8637, -6.2617, -5.0096, -4.5469, -4.1264, -6.0487, -5.6016, -4.3282, -5.5527, -4.72, -4.6504, -6.081, -5.533, -5.6337, -5.4946, -4.8217, -4.766, -5.1424, -5.4875, -5.1208, -5.1344, -5.4852, -5.2182, -5.7348, -5.721, -5.5875, -5.4785, -5.5539, -5.2949, -5.5612, -5.6026, -5.5901, -8.6492, -9.7153, -9.3511, -9.4096, -10.1047, -9.8874, -9.6936, -10.1924, -10.2086, -9.9512, -10.228, -8.5782, -10.0138, -10.316, -10.3283, -10.3475, -10.7504, -10.7506, -10.7508, -10.7508, -10.7508, -10.7509, -10.7509, -10.7509, -10.751, -10.751, -10.751, -10.751, -10.7511, -10.7512, -8.8537, -9.0977, -7.3134, -9.8889, -9.5724, -10.0768, -9.8914, -7.6796, -9.1703, -10.1349, -10.3883, -10.14, -8.4586, -9.7266, -8.5568, -4.4439, -8.137, -4.8424, -3.8651, -8.1241, -3.7511, -6.191, -5.4607, -5.4187, -4.7946, -5.0959, -5.75, -3.8768, -4.4406, -5.8362, -5.7997, -4.8552, -6.4193, -6.0906, -4.4612, -5.3773, -5.7469, -5.0307, -4.7682, -4.7044, -5.1432, -5.7057, -5.6541, -4.8478, -4.5628, -5.5705, -4.9028, -5.2108, -5.7343, -5.6422, -5.4671, -5.6422, -5.6664, -5.7093, -5.6629, -9.9387, -9.7446, -10.1164, -9.8555, -10.5849, -10.5856, -10.5857, -10.5862, -10.5863, -10.5865, -10.5866, -10.1966, -8.7713, -10.622, -9.9234, -10.6289, -8.5462, -10.6365, -10.6406, -10.6402, -9.7236, -10.2476, -10.6709, -10.6834, -10.2984, -10.7098, -9.1021, -10.7171, -10.7176, -10.7195, -10.051, -8.3154, -10.0641, -9.5558, -9.2675, -8.4683, -8.7498, -4.674, -9.087, -3.7465, -4.1098, -5.8855, -6.4948, -5.0962, -4.9559, -3.9809, -5.4654, -5.2943, -5.4766, -5.5214, -5.2283, -4.6061, -5.3181, -5.4105, -6.029, -4.5959, -4.893, -4.3238, -5.4386, -4.4771, -5.64, -5.0853, -5.5902, -4.7203, -5.5078, -5.0597, -4.7896, -5.7104, -4.8381, -5.232, -5.6095, -5.3696, -5.4988, -5.5735, -9.4688, -9.7889, -9.5335, -10.4349, -10.4352, -10.4352, -10.4353, -10.4353, -10.4353, -10.4355, -10.4359, -10.436, -10.4361, -10.4361, -10.4361, -10.4431, -9.3479, -10.4458, -10.457, -10.4651, -10.4891, -10.4939, -10.5679, -10.5441, -9.476, -10.5892, -10.1603, -10.2186, -8.797, -10.6118, -9.9198, -7.4664, -5.6682, -9.9777, -7.9559, -4.3698, -4.1964, -4.466, -6.2921, -5.289, -4.7413, -4.9253, -5.6874, -5.6063, -4.594, -5.4857, -4.0058, -4.556, -6.5844, -7.0287, -5.5166, -7.0501, -4.1469, -4.5949, -5.7893, -5.5403, -5.0103, -4.3757, -5.4127, -5.4733, -5.158, -5.6619, -5.1202, -5.2309, -5.6419, -5.5726, -5.5609, -4.804, -5.5319, -5.2808, -5.5488, -5.4994, -5.4535, -5.556, -5.5634, -9.6352, -9.054, -9.7641, -9.7942, -10.2813, -10.2815, -10.2817, -10.282, -10.2821, -10.2821, -10.2823, -10.2824, -10.2828, -10.2833, -10.3043, -10.312, -10.3177, -10.318, -10.3423, -9.9428, -9.9671, -9.6658, -9.4726, -9.9879, -9.9492, -9.3429, -9.5307, -10.0421, -9.7638, -10.4597, -9.1315, -9.2054, -3.6726, -4.3013, -4.8033, -7.9236, -4.2185, -5.2455, -3.9916, -6.4622, -5.3301, -5.272, -8.2897, -5.7778, -4.314, -4.687, -4.6416, -5.0646, -5.3768, -7.7082, -5.3219, -5.6163, -5.0337, -5.1663, -5.5646, -5.0056, -5.9896, -5.5419, -4.7827, -5.6758, -5.8469, -4.6549, -5.8295, -5.6221, -5.2217, -5.621, -5.3029, -5.5091, -5.668, -5.4579, -5.3407, -5.5855, -9.4616, -9.4988, -9.5201, -9.522, -9.5594, -9.6177, -10.1036, -10.1039, -10.104, -10.104, -10.1041, -10.1041, -10.1041, -10.1042, -10.1043, -10.1043, -10.1043, -10.1043, -10.1044, -10.1044, -10.1044, -10.1044, -10.1045, -10.1045, -10.1045, -10.1045, -10.1045, -10.1045, -10.1046, -10.1046, -9.7105, -9.4104, -9.4005, -7.8829, -9.4941, -7.3114, -8.4055, -8.9104, -8.6828, -7.8527, -5.0091, -8.2584, -4.1947, -9.2066, -6.661, -9.1766, -4.002, -4.788, -4.3259, -5.8731, -4.2674, -6.7731, -7.8868, -8.4657, -6.2041, -4.6746, -4.6216, -4.6196, -5.4511, -6.0322, -4.9983, -5.5178, -4.3231, -4.8145, -5.6474, -6.2401, -5.6622, -5.638, -5.4593, -6.7986, -5.7416, -5.472, -4.945, -5.7242, -5.3637, -5.3771, -5.6871, -5.891, -5.4474, -5.539, -5.6869, -5.7207, -5.7899, -5.7811, -9.4105, -9.4256, -9.2413, -8.6072, -10.0562, -10.0563, -10.0566, -10.0567, -10.0567, -10.0568, -10.0569, -10.0569, -10.0569, -10.0569, -10.0569, -10.057, -10.057, -10.057, -10.0572, -10.0573, -10.0573, -10.0573, -10.0576, -10.0576, -10.0577, -10.0577, -10.0577, -10.0578, -10.0579, -10.0586, -9.0097, -3.9628, -8.8965, -3.8553, -8.602, -7.1532, -3.9879, -4.1349, -6.229, -6.8882, -7.1531, -7.3779, -8.5011, -9.3529, -5.2025, -5.2918, -5.825, -4.9955, -5.3057, -6.8029, -4.7424, -4.7392, -4.7023, -5.3086, -4.5794, -6.7635, -4.5908, -5.3621, -4.7752, -6.0402, -5.2901, -5.6471, -5.2054, -5.5681, -6.0077, -5.7628, -5.6988, -5.6155, -5.2469, -5.6909, -5.6694, -5.62, -5.4461, -5.4389, -5.613, -5.5117, -5.6758], \"loglift\": [30.0, 29.0, 28.0, 27.0, 26.0, 25.0, 24.0, 23.0, 22.0, 21.0, 20.0, 19.0, 18.0, 17.0, 16.0, 15.0, 14.0, 13.0, 12.0, 11.0, 10.0, 9.0, 8.0, 7.0, 6.0, 5.0, 4.0, 3.0, 2.0, 1.0, 1.6123, 1.5365, 1.5194, 1.4461, 1.3586, 1.3586, 1.3585, 1.3585, 1.3585, 1.3585, 1.3584, 1.3584, 1.3584, 1.3583, 1.3583, 1.3583, 1.3583, 1.3582, 1.3582, 1.3582, 1.3582, 1.3581, 1.358, 1.358, 1.3577, 1.3548, 1.3531, 1.347, 1.3361, 1.3037, 1.2868, 1.2486, 0.9955, 1.0266, 1.1826, 1.2901, 1.0684, 0.9794, 0.6016, 1.1018, 0.9996, 0.2465, 0.9214, 0.9546, 1.0067, 0.5604, 1.0594, 0.9719, 0.098, 0.1473, 0.1396, 0.6828, 0.3146, -0.0229, 0.1935, 0.5608, 0.4156, 0.0506, 0.2408, 0.2877, 0.2805, 0.5687, 0.2444, -0.0477, 0.2137, 0.2231, 0.3638, -0.1967, -0.1112, 0.2446, -0.3444, 0.0559, 0.2921, 0.0902, -0.0371, 0.3, -0.1078, -0.1535, -0.1072, -0.0751, -0.1144, 0.0825, 0.0804, -0.058, -0.1122, 1.8444, 1.7587, 1.6408, 1.5826, 1.5509, 1.5509, 1.5508, 1.5508, 1.5508, 1.5508, 1.5508, 1.5508, 1.5508, 1.5507, 1.5506, 1.5505, 1.5505, 1.5402, 1.5358, 1.5351, 1.5318, 1.5309, 1.5284, 1.5242, 1.5188, 1.5178, 1.5171, 1.5134, 1.4996, 1.4798, 1.4278, 1.459, 1.4125, 1.4142, 1.4147, 0.8477, 1.2928, 1.1841, 0.4674, 0.3546, 0.8126, 0.6078, 0.2965, 0.1887, 0.1124, 0.4097, 0.9763, 0.0928, 0.4768, 0.1403, 0.1107, 0.1798, 0.1695, -0.1602, 0.4334, 0.087, 0.2667, 0.2097, -0.0416, 0.1728, 0.192, 0.4672, 0.2195, 0.1659, 0.237, 0.061, 0.0918, 0.2272, 0.1001, -0.1204, -0.1991, 0.0439, -0.5681, -0.3524, -0.0209, -0.2573, 1.7187, 1.7184, 1.6525, 1.6366, 1.5854, 1.5669, 1.5595, 1.5395, 1.5359, 1.5159, 1.5067, 1.4991, 1.4759, 1.4757, 1.4757, 1.4756, 1.4756, 1.4756, 1.4756, 1.4756, 1.4756, 1.4756, 1.4755, 1.4755, 1.4755, 1.4755, 1.4754, 1.4754, 1.4754, 1.4754, 1.4531, 1.4406, 1.4084, 1.3311, 1.3839, 0.9302, 1.2711, 1.2194, 1.1548, 1.354, 1.4227, 1.4214, 0.4402, 0.2752, 1.0725, 0.4877, 1.1087, 1.4158, 0.1984, 0.2823, 0.4962, 0.4848, 0.1366, 0.4392, 0.2662, 0.0457, 0.2736, 0.6163, -0.0335, 0.2767, 0.0007, -0.1767, 0.0911, 0.4404, 0.4564, 0.1659, 0.225, 0.2998, 0.0191, -0.1173, -0.0972, 0.1704, -0.0169, 0.0909, -0.02, -0.2605, 0.0887, 0.1295, 0.011, -0.3303, -0.1243, -0.1452, 1.8353, 1.6458, 1.6442, 1.6258, 1.6134, 1.5752, 1.5459, 1.5194, 1.5062, 1.506, 1.506, 1.506, 1.506, 1.5059, 1.5058, 1.5058, 1.5057, 1.5057, 1.5057, 1.5057, 1.5056, 1.5055, 1.5055, 1.5055, 1.5054, 1.5054, 1.5053, 1.5051, 1.505, 1.5049, 1.482, 1.4047, 1.4104, 1.4029, 1.4103, 1.3392, 1.2353, 1.4299, 1.3972, 1.2989, 1.1679, 1.2285, 1.0186, 0.847, 0.2394, 1.0697, 0.7737, 1.168, 0.5595, 1.2836, 1.0204, 0.1293, 0.4772, 0.4939, 0.0903, 0.7647, 0.2928, 0.4366, 0.5279, 0.2073, 0.0465, -0.129, 0.4231, 0.2658, -0.1341, 0.2417, -0.0498, -0.0822, 0.3868, 0.1841, 0.2043, 0.1453, -0.1442, -0.1883, -0.0281, 0.1285, -0.0528, -0.0556, 0.1128, -0.0742, 0.2028, 0.1943, 0.0939, -0.0183, 0.0441, -0.3299, -0.0714, -0.1202, -0.2935, 1.9526, 1.8929, 1.8483, 1.8131, 1.7889, 1.735, 1.6985, 1.6902, 1.684, 1.6551, 1.6382, 1.5922, 1.5896, 1.5746, 1.5688, 1.5626, 1.5436, 1.5435, 1.5435, 1.5434, 1.5434, 1.5434, 1.5434, 1.5434, 1.5434, 1.5434, 1.5434, 1.5433, 1.5433, 1.5433, 1.5427, 1.5403, 1.4808, 1.5183, 1.507, 1.5172, 1.5044, 1.3779, 1.4588, 1.5093, 1.518, 1.4914, 1.327, 1.4473, 1.3166, 0.8528, 1.2669, 0.64, 0.4336, 1.1597, 0.2463, 0.6937, 0.5331, 0.4967, 0.3197, 0.3939, 0.509, -0.0052, 0.1275, 0.5141, 0.4919, 0.1098, 0.609, 0.451, -0.1231, 0.1921, 0.3117, 0.0372, -0.0907, -0.1267, 0.0008, 0.2182, 0.191, -0.1776, -0.3687, 0.129, -0.3095, -0.1321, 0.1672, 0.0749, -0.2502, -0.0442, 0.015, 0.118, -0.2027, 1.9736, 1.8929, 1.7874, 1.7389, 1.7233, 1.723, 1.723, 1.7227, 1.7227, 1.7226, 1.7226, 1.7128, 1.6918, 1.6858, 1.6805, 1.6786, 1.6716, 1.671, 1.6668, 1.6661, 1.6652, 1.6512, 1.6398, 1.6276, 1.6017, 1.5961, 1.5953, 1.5949, 1.5945, 1.5862, 1.5398, 1.3357, 1.5259, 1.4664, 1.4183, 1.3068, 1.3307, 0.4048, 1.3331, 0.1251, 0.1889, 0.5705, 0.7115, 0.364, 0.2793, 0.0165, 0.3727, 0.3037, 0.3355, 0.346, 0.2616, 0.0714, 0.2519, 0.2709, 0.4472, -0.0181, 0.072, -0.1297, 0.2013, -0.1391, 0.2615, 0.0587, 0.2371, -0.127, 0.1936, 0.0082, -0.1195, 0.2649, -0.2699, -0.1177, 0.1494, -0.1527, -0.2021, 0.0245, 2.0958, 2.0753, 1.838, 1.8372, 1.8371, 1.8371, 1.8371, 1.837, 1.837, 1.837, 1.8368, 1.8367, 1.8367, 1.8367, 1.8367, 1.8295, 1.8278, 1.8271, 1.8174, 1.8107, 1.7778, 1.7722, 1.7094, 1.7072, 1.7061, 1.6807, 1.6749, 1.6677, 1.6603, 1.6584, 1.642, 1.3352, 0.8097, 1.6022, 1.105, 0.2079, 0.1416, 0.2041, 0.6697, 0.4029, 0.2237, 0.2187, 0.4277, 0.3875, 0.0834, 0.3416, -0.1342, 0.0374, 0.6649, 0.774, 0.2955, 0.7686, -0.1495, -0.0268, 0.3422, 0.2476, 0.0684, -0.1816, 0.1853, 0.2039, 0.0772, 0.201, -0.0523, -0.014, 0.1629, 0.1269, 0.1205, -0.5053, 0.066, -0.1665, 0.0672, -0.0392, -0.1568, -0.0662, -0.081, 2.3111, 2.1983, 2.1879, 2.1595, 2.052, 2.0519, 2.0518, 2.0517, 2.0517, 2.0516, 2.0516, 2.0515, 2.0513, 2.0511, 2.0282, 2.021, 2.0171, 2.0052, 1.9946, 1.9718, 1.957, 1.953, 1.9516, 1.9413, 1.9327, 1.9192, 1.8913, 1.8868, 1.8778, 1.8626, 1.7294, 1.7304, 0.199, 0.3762, 0.4136, 1.2952, 0.1196, 0.4317, 0.0058, 0.7871, 0.3618, 0.326, 1.354, 0.4316, -0.1199, -0.0169, -0.0483, 0.0794, 0.1933, 1.0992, 0.1605, 0.2742, 0.0342, 0.0689, 0.2299, -0.0406, 0.3783, 0.1595, -0.2145, 0.1917, 0.2681, -0.3562, 0.2102, 0.095, -0.1429, 0.0785, -0.1886, -0.0192, 0.0909, -0.1613, -0.7629, -0.1253, 2.5298, 2.4906, 2.4789, 2.4626, 2.4444, 2.3419, 2.2629, 2.2627, 2.2627, 2.2627, 2.2627, 2.2627, 2.2627, 2.2626, 2.2626, 2.2626, 2.2625, 2.2625, 2.2625, 2.2625, 2.2625, 2.2625, 2.2625, 2.2625, 2.2625, 2.2625, 2.2625, 2.2624, 2.2624, 2.2624, 2.2582, 2.2371, 2.2304, 2.072, 2.146, 1.6698, 1.8546, 1.9603, 1.8576, 1.5819, 0.6068, 1.6231, 0.1433, 1.9339, 0.9682, 1.9173, -0.1304, 0.177, -0.0271, 0.5829, -0.0733, 0.945, 1.3895, 1.5952, 0.6661, -0.0045, -0.0282, -0.0515, 0.3078, 0.5683, 0.0697, 0.3096, -0.3257, -0.137, 0.2901, 0.5965, 0.2392, 0.2249, 0.1101, 0.8616, 0.1956, 0.0179, -0.3672, 0.1209, -0.2197, -0.2628, 0.0124, 0.2031, -0.3687, -0.3039, -0.1168, -0.1228, 0.0223, -0.3209, 2.7016, 2.6833, 2.5218, 2.4599, 2.3963, 2.3963, 2.3961, 2.3961, 2.3961, 2.396, 2.396, 2.396, 2.396, 2.396, 2.396, 2.3959, 2.3959, 2.3959, 2.3958, 2.3958, 2.3958, 2.3957, 2.3956, 2.3956, 2.3956, 2.3955, 2.3955, 2.3955, 2.3954, 2.395, 2.3735, 0.6149, 2.0665, 0.0163, 1.8527, 1.2795, 0.0096, 0.0592, 0.8687, 1.0975, 1.1971, 1.2823, 1.754, 2.0975, 0.2873, 0.3062, 0.5252, 0.1485, 0.2637, 0.9267, -0.0649, -0.069, -0.1089, 0.1738, -0.2414, 0.8129, -0.292, 0.0981, -0.207, 0.4384, 0.0066, 0.198, -0.0911, 0.1091, 0.3601, 0.1747, 0.1285, 0.0244, -0.2819, 0.068, 0.0301, -0.022, -0.2109, -0.222, -0.0429, -0.4438, 0.0161]}, \"token.table\": {\"Topic\": [3, 1, 2, 3, 4, 5, 6, 7, 8, 9, 10, 1, 2, 3, 4, 5, 6, 7, 8, 9, 10, 10, 10, 1, 2, 3, 4, 5, 6, 7, 8, 9, 10, 1, 2, 4, 5, 7, 4, 5, 1, 2, 3, 4, 5, 6, 7, 8, 9, 10, 1, 2, 3, 4, 5, 6, 7, 8, 9, 10, 1, 2, 3, 4, 5, 6, 7, 8, 9, 10, 1, 4, 7, 9, 3, 4, 8, 1, 9, 1, 2, 3, 4, 5, 6, 7, 9, 9, 2, 6, 1, 3, 4, 5, 6, 8, 2, 8, 1, 2, 3, 4, 5, 6, 7, 8, 9, 10, 8, 1, 2, 3, 4, 5, 6, 7, 8, 10, 1, 7, 8, 1, 2, 3, 4, 5, 6, 7, 8, 9, 10, 8, 4, 1, 2, 3, 4, 5, 6, 7, 8, 9, 10, 3, 10, 10, 4, 5, 7, 1, 1, 2, 3, 4, 5, 6, 7, 8, 9, 10, 1, 2, 3, 4, 5, 6, 7, 8, 9, 10, 5, 1, 1, 2, 4, 5, 8, 10, 8, 1, 2, 3, 4, 5, 6, 7, 8, 9, 10, 1, 3, 6, 2, 1, 1, 2, 3, 4, 5, 6, 7, 8, 9, 10, 9, 1, 2, 3, 4, 5, 6, 7, 8, 5, 3, 1, 2, 3, 4, 5, 6, 5, 9, 6, 2, 10, 1, 7, 10, 3, 4, 5, 9, 3, 5, 1, 2, 3, 4, 5, 6, 7, 8, 9, 10, 10, 1, 2, 3, 4, 5, 6, 7, 8, 9, 10, 10, 2, 1, 3, 4, 5, 6, 7, 8, 9, 1, 3, 4, 6, 8, 9, 10, 9, 5, 9, 9, 2, 3, 5, 7, 2, 1, 2, 3, 4, 5, 6, 7, 8, 9, 10, 1, 2, 3, 4, 5, 6, 7, 8, 9, 10, 1, 3, 7, 6, 7, 3, 8, 5, 1, 3, 4, 5, 6, 9, 3, 5, 8, 1, 6, 6, 6, 8, 1, 1, 2, 3, 4, 5, 6, 7, 8, 9, 10, 1, 3, 6, 7, 1, 7, 1, 2, 3, 4, 5, 6, 7, 8, 9, 10, 4, 3, 5, 6, 1, 2, 3, 4, 5, 6, 7, 8, 9, 10, 1, 2, 3, 4, 5, 6, 7, 8, 9, 10, 6, 4, 5, 6, 9, 3, 7, 1, 3, 4, 5, 6, 7, 9, 5, 1, 2, 3, 4, 5, 6, 7, 8, 9, 10, 1, 3, 4, 5, 6, 7, 8, 9, 1, 2, 3, 4, 5, 6, 7, 8, 9, 10, 4, 8, 7, 9, 1, 1, 2, 3, 4, 5, 6, 7, 8, 9, 10, 1, 2, 3, 4, 5, 6, 7, 8, 9, 10, 7, 2, 9, 1, 2, 3, 4, 5, 6, 7, 8, 9, 10, 1, 2, 3, 4, 5, 6, 7, 8, 9, 5, 1, 2, 3, 4, 5, 6, 7, 8, 9, 10, 1, 2, 3, 4, 5, 6, 7, 8, 9, 10, 10, 3, 3, 7, 9, 10, 2, 1, 2, 3, 4, 5, 6, 7, 8, 9, 10, 1, 4, 9, 1, 2, 3, 4, 5, 6, 7, 8, 9, 10, 1, 2, 3, 4, 5, 6, 7, 8, 9, 10, 4, 8, 5, 6, 8, 6, 4, 10, 6, 3, 1, 3, 4, 1, 2, 3, 4, 5, 6, 7, 8, 9, 10, 8, 4, 1, 2, 4, 7, 1, 2, 3, 4, 5, 6, 7, 8, 9, 10, 5, 10, 4, 7, 3, 2, 4, 7, 8, 2, 1, 2, 3, 4, 5, 6, 7, 8, 9, 10, 1, 2, 3, 4, 5, 6, 7, 8, 9, 10, 4, 5, 3, 10, 1, 2, 4, 5, 10, 8, 4, 2, 3, 4, 5, 6, 7, 8, 9, 2, 1, 5, 6, 2, 1, 2, 4, 5, 6, 7, 8, 10, 3, 10, 1, 2, 3, 4, 5, 6, 7, 8, 9, 10, 1, 2, 3, 4, 5, 6, 7, 8, 9, 10, 1, 2, 3, 4, 5, 6, 7, 8, 9, 10, 3, 2, 3, 1, 2, 3, 4, 5, 6, 7, 8, 9, 10, 1, 2, 3, 4, 5, 6, 7, 8, 9, 10, 3, 4, 6, 8, 7, 1, 2, 3, 4, 5, 6, 7, 8, 9, 10, 2, 3, 4, 5, 6, 8, 9, 3, 3, 1, 2, 3, 4, 5, 6, 7, 8, 10, 9, 1, 2, 3, 4, 5, 6, 7, 8, 9, 10, 7, 1, 2, 3, 4, 5, 7, 9, 3, 3, 1, 2, 3, 4, 5, 6, 7, 8, 9, 3, 1, 2, 3, 4, 5, 6, 7, 8, 9, 10, 3, 5, 1, 2, 4, 7, 1, 2, 3, 4, 5, 6, 7, 8, 9, 10, 5, 1, 2, 3, 4, 5, 6, 7, 8, 9, 10, 1, 2, 3, 4, 5, 6, 7, 8, 9, 10, 9, 7, 1, 1, 2, 3, 4, 5, 6, 7, 8, 9, 10, 4, 5, 8, 9, 4, 6, 1, 4, 5, 8, 9, 1, 2, 3, 4, 5, 6, 7, 8, 9, 10, 5, 5, 2, 1, 4, 7, 1, 2, 3, 4, 5, 6, 7, 8, 9, 10, 1, 2, 3, 4, 5, 6, 7, 8, 9, 1, 2, 3, 4, 5, 6, 7, 8, 1, 2, 3, 4, 5, 6, 7, 8, 9, 10, 1, 3, 9, 1, 2, 3, 4, 5, 6, 7, 8, 9, 10, 1, 2, 3, 4, 5, 6, 7, 8, 9, 10, 1, 2, 3, 4, 5, 6, 7, 9, 8, 10, 1, 2, 3, 4, 5, 6, 7, 8, 9, 10, 5, 6, 1, 4, 5, 6, 8, 9, 1, 2, 3, 4, 5, 6, 7, 8, 9, 10, 9, 1, 2, 3, 4, 5, 6, 7, 8, 9, 1, 2, 3, 4, 5, 6, 7, 8, 9, 10, 5, 1, 2, 3, 4, 5, 8, 9, 1, 2, 3, 4, 5, 6, 7, 8, 9, 10, 1, 2, 3, 4, 5, 6, 7, 8, 9, 10, 2, 1, 2, 3, 4, 5, 6, 7, 8, 9, 10, 1, 7, 1, 2, 3, 4, 5, 6, 7, 9, 10, 1, 2, 3, 4, 5, 6, 7, 8, 9, 10, 1, 3, 9, 6, 9, 1, 2, 3, 4, 5, 6, 7, 8, 9, 10, 1, 2, 3, 4, 5, 6, 7, 8, 9, 10, 7, 6, 6, 1, 2, 3, 4, 5, 6, 7, 8, 9, 10, 1, 2, 3, 4, 5, 6, 7, 8, 9, 10, 1, 2, 3, 4, 5, 6, 7, 8, 9, 10, 2, 10, 1, 9, 9, 1, 1, 2, 3, 4, 5, 6, 7, 8, 9, 10, 4, 1, 2, 3, 4, 5, 6, 7, 8, 9, 10, 1, 2, 3, 4, 5, 6, 7, 1, 10, 6, 7, 1, 2, 3, 4, 5, 6, 7, 8, 9, 10, 1, 2, 3, 4, 5, 1, 2, 3, 4, 5, 6, 7, 8, 9, 10, 1, 2, 3, 4, 5, 6, 8, 9, 1, 2, 3, 4, 5, 6, 7, 8, 9, 10, 10, 10, 3, 1, 4, 5, 10, 4, 5, 6, 5, 9, 3, 10, 4, 1, 2, 3, 4, 5, 6, 7, 8, 9, 10, 9, 7, 6, 7, 1, 2, 3, 4, 5, 6, 7, 8, 9, 10, 2, 8, 3, 5, 6, 6, 8, 1, 2, 3, 4, 5, 6, 7, 8, 9, 10, 2, 7, 10, 6, 7, 1, 2, 3, 4, 5, 6, 7, 8, 5, 5, 9, 1, 2, 3, 4, 5, 6, 7, 8, 9, 10, 9, 5, 6, 8, 9, 6, 6, 1, 2, 3, 4, 5, 6, 7, 8, 9, 10, 1, 2, 3, 4, 5, 6, 7, 8, 9, 10, 3, 1, 2, 3, 4, 5, 6, 7, 8, 9, 10, 2, 7, 1, 2, 3, 4, 5, 6, 7, 8, 9, 10, 1, 2, 3, 4, 5, 6, 7, 8, 9, 10, 2, 1, 2, 3, 4, 5, 6, 7, 8, 9, 10, 1, 2, 3, 4, 5, 6, 7, 8, 9, 10, 7, 10, 1, 1, 2, 3, 4, 5, 6, 7, 8, 9, 10, 10, 1, 2, 3, 4, 5, 6, 7, 8, 9, 10, 1, 2, 3, 4, 5, 6, 7, 8, 9, 10, 1, 2, 3, 4, 5, 6, 7, 8, 9, 10, 1, 2, 3, 4, 5, 6, 7, 8, 9, 10, 9, 1, 2, 3, 4, 5, 6, 7, 8, 9, 10, 2, 7, 2, 1, 2, 3, 4, 5, 6, 7, 8, 9, 10, 7, 1, 2, 3, 4, 5, 6, 7, 8, 9, 10, 1, 2, 3, 4, 5, 6, 7, 8, 9, 10, 1, 2, 3, 4, 5, 6, 7, 8, 9, 10, 1, 2, 3, 4, 5, 6, 7, 8, 9, 10, 2, 5, 3, 1, 2, 3, 4, 5, 6, 7, 8, 9, 10, 2, 3, 4, 5, 6, 8, 10, 6, 10, 1, 2, 3, 4, 5, 6, 7, 8, 9, 10, 1, 9, 1, 2, 3, 4, 5, 6, 7, 8, 9, 10, 1, 2, 5, 7, 1, 2, 3, 4, 5, 6, 7, 8, 9, 10, 7, 6, 5, 8, 4, 1, 2, 3, 4, 5, 6, 7, 8, 9, 10, 4, 1, 2, 3, 4, 5, 6, 7, 8, 9, 10, 5, 4, 1, 2, 3, 4, 5, 6, 7, 8, 9, 10, 1, 2, 3, 4, 5, 6, 8, 10, 1, 2, 3, 4, 5, 6, 7, 8, 9, 10, 10, 1, 2, 8, 1, 2, 3, 4, 5, 6, 7, 8, 9, 10, 1, 2, 3, 4, 5, 6, 7, 8, 9, 10, 1, 2, 3, 4, 5, 6, 7, 8, 9, 10, 1, 2, 3, 4, 5, 6, 7, 8, 9, 10, 1, 2, 3, 4, 5, 6, 7, 8, 9, 10, 3, 6, 1, 2, 3, 4, 5, 6, 7, 8, 9, 10, 6, 1, 3, 5, 7, 9, 6, 8, 1, 2, 3, 4, 5, 6, 7, 8, 9, 10, 7, 4, 7, 5, 5, 9, 2, 1, 2, 3, 4, 5, 6, 7, 8, 9, 10, 5, 3, 9, 6, 6, 4, 3, 8, 1, 2, 4, 5, 6, 7, 10, 1, 2, 3, 4, 5, 6, 7, 8, 9, 10, 1, 2, 3, 4, 5, 6, 7, 8, 9, 10, 5, 2, 2, 1, 2, 3, 4, 5, 6, 7, 8, 9, 10, 1, 2, 3, 4, 5, 6, 8, 9, 10, 1, 2, 3, 4, 5, 6, 7, 8, 9, 10, 6, 3, 2, 1, 2, 3, 4, 5, 6, 7, 8, 9, 10, 2, 3, 5, 10, 5, 7, 8, 9, 1, 2, 3, 4, 5, 6, 7, 8, 9, 4, 3, 1, 2, 1, 2, 3, 4, 5, 6, 7, 8, 9, 10, 1, 2, 3, 4, 5, 6, 7, 8, 9, 10, 1, 2, 3, 4, 5, 6, 7, 8, 9, 10, 10, 6, 1, 1, 2, 3, 4, 5, 6, 7, 8, 9, 10, 1, 2, 3, 4, 5, 6, 7, 8, 9, 10, 3, 4, 5, 6, 10, 1, 2, 3, 4, 5, 6, 7, 8, 9, 10, 9, 8, 7, 8, 1, 4, 7, 10, 3, 1, 2, 3, 4, 5, 6, 7, 8, 9, 10, 1, 2, 3, 5, 2, 6, 7, 1, 4, 4, 4, 8, 5, 9, 3, 4, 9, 10, 1, 2, 3, 4, 5, 6, 7, 9, 10, 1, 2, 3, 4, 5, 6, 7, 8, 9, 10, 9, 4, 2, 3, 5, 6, 7, 1, 2, 3, 4, 5, 6, 7, 8, 9, 10, 1, 4, 6, 8, 10, 9, 1, 2, 3, 4, 5, 6, 7, 8, 9, 10, 1, 2, 3, 4, 5, 6, 7, 8, 9, 10, 2, 3, 5, 1, 2, 2, 7, 4, 1, 1, 2, 3, 4, 5, 6, 7, 8, 9, 10, 1, 2, 3, 4, 5, 6, 7, 8, 9, 10, 10, 9, 1, 2, 3, 4, 5, 6, 7, 8, 9, 10, 10, 1, 2, 3, 4, 5, 6, 7, 8, 9, 10, 1, 2, 3, 4, 5, 6, 7, 8, 9, 10, 10, 1, 2, 3, 4, 5, 6, 7, 8, 9, 10, 1, 2, 3, 4, 5, 6, 7, 8, 9, 10, 5, 1, 2, 3, 4, 5, 6, 7, 8, 9, 10, 1, 2, 3, 4, 5, 6, 7, 8, 10, 2, 2, 1, 8, 2, 4, 8, 1, 2, 3, 4, 5, 6, 7, 8, 9, 10, 9, 1, 2, 3, 4, 5, 6, 7, 8, 9, 10, 1, 1, 7, 8, 5, 2, 4, 1, 2, 3, 4, 5, 6, 7, 8, 9, 10, 6, 8, 8, 2, 4, 6, 8, 3, 4, 7, 2, 3, 1, 2, 3, 4, 5, 6, 7, 8, 9, 10, 2, 9, 3, 4, 8, 10, 5, 9, 1, 2, 3, 4, 5, 6, 7, 8, 9, 10, 1, 2, 3, 4, 5, 6, 7, 8, 9, 10, 1, 2, 3, 4, 5, 6, 7, 8, 9, 10, 2, 1, 2, 3, 4, 5, 6, 7, 8, 9, 10, 1, 2, 3, 4, 5, 6, 7, 8, 9, 10, 8, 7, 4, 1, 2, 3, 4, 5, 6, 7, 8, 9, 10, 9, 1, 2, 5, 8, 3, 5, 8, 8, 8, 6, 8, 10, 1, 2, 3, 4, 5, 6, 7, 8, 9, 10, 4, 5, 10, 1, 2, 3, 4, 5, 6, 7, 8, 9, 10, 5, 1, 2, 3, 4, 5, 6, 7, 8, 9, 10, 9, 9, 1, 2, 3, 4, 5, 6, 7, 8, 9, 10, 1, 3, 4, 5, 6, 7, 8, 9, 1, 2, 3, 4, 5, 6, 7, 8, 9, 10, 6], \"Freq\": [0.5393995875638258, 0.13813529635702185, 0.1074385638332392, 0.16883202888080445, 0.08185795339675368, 0.13301917426972473, 0.04092897669837684, 0.07162570922215947, 0.06650958713486237, 0.13813529635702185, 0.05116122087297105, 0.318760003464951, 0.026563333622079247, 0.10625333448831699, 0.053126667244158494, 0.10625333448831699, 0.07969000086623775, 0.053126667244158494, 0.026563333622079247, 0.21250666897663398, 0.026563333622079247, 0.6366594288365313, 0.636381019458721, 0.18927098393755115, 0.15044616671959196, 0.12618065595836744, 0.12618065595836744, 0.11162134950163274, 0.07764963443591842, 0.03882481721795921, 0.04367791937020411, 0.03882481721795921, 0.09220894089265314, 0.4460457818317024, 0.1054084198533624, 0.527042099266812, 0.1054084198533624, 0.1054084198533624, 0.714280956870308, 0.5432599629723515, 0.15921436360905333, 0.2049709842357021, 0.12232892453246913, 0.08077444253479832, 0.06770112235575582, 0.12606415886933842, 0.0952484755901668, 0.0714363566926251, 0.038286151952910186, 0.03315020473971492, 0.14090168741563, 0.11635752251097187, 0.1099942204986531, 0.14090168741563, 0.13726551483716212, 0.12362986766790761, 0.07817771043705922, 0.056360674966251995, 0.06636014955703864, 0.030907466916976902, 0.21803617841821815, 0.10982563061065803, 0.12597645864163715, 0.09528988538277681, 0.06783347773011231, 0.1485876178850079, 0.11144071341375594, 0.06944856053321022, 0.040377070077447806, 0.01453574522788121, 0.6872781640153737, 0.0981825948593391, 0.0981825948593391, 0.0981825948593391, 0.5393142045011877, 0.2764350384356745, 0.552870076871349, 0.44599262456036154, 0.583985025100268, 0.5592695103631002, 0.034954344397693765, 0.034954344397693765, 0.10486303319308131, 0.034954344397693765, 0.034954344397693765, 0.10486303319308131, 0.06990868879538753, 0.5840823133964639, 0.4841421943380354, 0.5522287420475572, 0.09910502861578128, 0.49552514307890644, 0.09910502861578128, 0.09910502861578128, 0.09910502861578128, 0.09910502861578128, 0.4817866112654041, 0.7670788237663478, 0.1294231125229136, 0.13589426814905928, 0.13265869033598643, 0.10192070111179445, 0.09383175657911236, 0.09221396767257593, 0.19898803550397964, 0.061475978448383956, 0.02750241141111914, 0.02588462250458272, 0.564938167104458, 0.22584455609697485, 0.04516891121939497, 0.1355067336581849, 0.4065202009745547, 0.04516891121939497, 0.04516891121939497, 0.04516891121939497, 0.04516891121939497, 0.04516891121939497, 0.34322672267502646, 0.34322672267502646, 0.564621430592093, 0.29199371120470746, 0.06147236025362263, 0.23052135095108486, 0.09605056289628536, 0.07299842780117687, 0.06531438276947404, 0.04994629270606839, 0.04994629270606839, 0.04226224767436556, 0.03457820264266273, 0.566814488477083, 0.5368344755436696, 0.1380920583359215, 0.07890974762052658, 0.07890974762052658, 0.41427617500776454, 0.11836462143078987, 0.07890974762052658, 0.03945487381026329, 0.019727436905131644, 0.019727436905131644, 0.019727436905131644, 0.5392959539678526, 0.6367912929385737, 0.637041203411175, 0.4282032211036147, 0.21410161055180735, 0.21410161055180735, 0.44616799723125156, 0.22672538209780882, 0.08039907166588965, 0.09004696026579641, 0.18652584626486401, 0.10130283029902097, 0.1157746631988811, 0.059495313032758346, 0.040199535832944826, 0.0707511830659829, 0.027335684366402484, 0.11183306967953481, 0.09505810922760459, 0.07269149529169763, 0.07828314877567437, 0.09505810922760459, 0.18452456497123246, 0.09505810922760459, 0.07269149529169763, 0.13419968361544177, 0.06150818832374415, 0.5431797333078031, 0.44576861426126224, 0.09070297028978883, 0.09070297028978883, 0.4535148514489441, 0.09070297028978883, 0.09070297028978883, 0.09070297028978883, 0.5651334534191621, 0.0785020248059759, 0.33363360542539755, 0.11775303720896385, 0.058876518604481926, 0.1570040496119518, 0.0785020248059759, 0.058876518604481926, 0.058876518604481926, 0.019625506201493975, 0.019625506201493975, 0.7261191130119345, 0.14522382260238692, 0.14522382260238692, 0.4834928631518904, 0.4458038717584474, 0.17888060471873057, 0.14130750966365474, 0.09066551198072645, 0.15519321870574798, 0.12088734930763527, 0.08249744783831867, 0.06697812596774387, 0.08413106066680022, 0.038389901469316604, 0.04084032071203894, 0.8024962519408706, 0.12215027477274434, 0.2137629808523026, 0.06107513738637217, 0.335913255625047, 0.030537568693186086, 0.030537568693186086, 0.12215027477274434, 0.09161270607955826, 0.543244323271816, 0.5393128508977048, 0.12600909876380267, 0.5670409444371121, 0.06300454938190134, 0.06300454938190134, 0.06300454938190134, 0.06300454938190134, 0.7277301378838081, 0.5840629808305181, 0.551309731059805, 0.4817299125048053, 0.6364994660336385, 0.23360348781504098, 0.23360348781504098, 0.23360348781504098, 0.18133364451060374, 0.5440009335318112, 0.09066682225530187, 0.09066682225530187, 0.5453155443681087, 0.18177184812270292, 0.13872469931026948, 0.12937247239047606, 0.09196356471130225, 0.19951417428892693, 0.10443320060436018, 0.1013157916310957, 0.0826113377915088, 0.045202430112335004, 0.05143724805886397, 0.056113361518760695, 0.6365781503488708, 0.20437287808156046, 0.16738231191295222, 0.13501556651542002, 0.11652028343111591, 0.10079929280945742, 0.0665830191034948, 0.061034434178203575, 0.059184905869773166, 0.05086202848183631, 0.03699056616860823, 0.6365544318981488, 0.48196535980058963, 0.0915306953811588, 0.45765347690579394, 0.0915306953811588, 0.0915306953811588, 0.0915306953811588, 0.0915306953811588, 0.0915306953811588, 0.0915306953811588, 0.05904437602845839, 0.05904437602845839, 0.5904437602845839, 0.05904437602845839, 0.05904437602845839, 0.17713312808537518, 0.05904437602845839, 0.5840187974501461, 0.5431914983189767, 0.5841119750118919, 0.5840204198819573, 0.4840430679072688, 0.3621313227863895, 0.543124632605761, 0.5280593522821114, 0.48193093626957917, 0.24548803988383538, 0.10421662070540182, 0.11116439541909527, 0.08800514637345043, 0.08105737165975697, 0.12274401994191769, 0.06484589732780557, 0.05789812261411212, 0.09495292108714389, 0.030107023759338304, 0.15644541899978112, 0.2988808004771938, 0.10040526891030728, 0.10974529392521959, 0.11208030017894767, 0.04203011256710538, 0.07238519386557037, 0.053705143835745754, 0.02568506879100884, 0.028020075044736917, 0.18629184049362432, 0.5588755214808729, 0.5302894899398847, 0.43928729163138514, 0.21964364581569257, 0.4375565948246235, 0.21877829741231175, 0.5432228201470095, 0.1635508205229259, 0.1635508205229259, 0.1635508205229259, 0.1635508205229259, 0.1635508205229259, 0.3271016410458518, 0.5420438927435608, 0.2710219463717804, 0.5656368571500172, 0.2687929241441964, 0.5375858482883928, 0.5513237095668975, 0.22754047851576711, 0.45508095703153423, 0.4460264791432466, 0.19143645314094127, 0.17275972600523967, 0.09633259259467135, 0.1277881330337477, 0.08502825774937828, 0.08404527211065714, 0.09166341081074594, 0.06364832010719357, 0.05062376039413851, 0.03661621504236232, 0.7463039645307123, 0.10661485207581606, 0.10661485207581606, 0.5314090188245444, 0.44582584663380237, 0.5203378228828774, 0.13874941806194635, 0.05285692116645575, 0.19160633922840212, 0.2841059512696997, 0.09249961204129757, 0.05285692116645575, 0.09249961204129757, 0.046249806020648786, 0.01982134543742091, 0.026428460583227877, 0.5365127906438674, 0.5393492714795233, 0.661099884768556, 0.22036662825618533, 0.12805390018773033, 0.04268463339591011, 0.14939621688568538, 0.04268463339591011, 0.4695309673550112, 0.04268463339591011, 0.04268463339591011, 0.04268463339591011, 0.021342316697955055, 0.021342316697955055, 0.19839997181693808, 0.11242665069626491, 0.137777758206207, 0.1476977567970539, 0.09038220938327178, 0.08156443285807453, 0.08597332112067316, 0.04849777088858486, 0.06392887980768004, 0.03416888403513933, 0.5494138872714834, 0.10274935792949634, 0.5137467896474817, 0.10274935792949634, 0.10274935792949634, 0.5392518566283819, 0.5316212376901831, 0.07104458417974467, 0.14208916835948934, 0.07104458417974467, 0.14208916835948934, 0.14208916835948934, 0.07104458417974467, 0.3552229208987233, 0.5670930991048605, 0.1384178762274455, 0.1384178762274455, 0.039547964636413, 0.158191858545652, 0.0593219469546195, 0.079095929272826, 0.039547964636413, 0.0593219469546195, 0.276835752454891, 0.0197739823182065, 0.09872456006217697, 0.3948982402487079, 0.09872456006217697, 0.04936228003108849, 0.04936228003108849, 0.04936228003108849, 0.14808684009326545, 0.04936228003108849, 0.15922817965674488, 0.11350919737906566, 0.14819256324489127, 0.10168532265207966, 0.10877964748827126, 0.11114442243366845, 0.07015499004678363, 0.07330802330731324, 0.07094324836191604, 0.04335420733228203, 0.5366078220779595, 0.5650738923194105, 0.5317146297777018, 0.5841579954923904, 0.44576995860246665, 0.15980621685254356, 0.13294802914623371, 0.14100548545812666, 0.10206111328397739, 0.18935022332948437, 0.07386001619235207, 0.07386001619235207, 0.05908801295388165, 0.029544006476940825, 0.03625855340351829, 0.20063743937682188, 0.05015935984420547, 0.10031871968841094, 0.0752390397663082, 0.0752390397663082, 0.0752390397663082, 0.10031871968841094, 0.2507967992210273, 0.05015935984420547, 0.05015935984420547, 0.7855533976198245, 0.2798188227288779, 0.5596376454577559, 0.14212885586334953, 0.11793671018448151, 0.13683682399609715, 0.14666488317813728, 0.12474075115666314, 0.08920853719082576, 0.08316050077110876, 0.07333244158906864, 0.046116277700342136, 0.04006824128062513, 0.4325197406620879, 0.02883464937747253, 0.05766929875494506, 0.08650394813241759, 0.05766929875494506, 0.05766929875494506, 0.20184254564230772, 0.05766929875494506, 0.02883464937747253, 0.5431926136818425, 0.12072967966715911, 0.28888887634641647, 0.0733001626550609, 0.1466003253101218, 0.060364839833579556, 0.04742951701209822, 0.09917080829802356, 0.09917080829802356, 0.030182419916789778, 0.030182419916789778, 0.14605573237049801, 0.1326672902365357, 0.19352384539090986, 0.14118720795814807, 0.09006770162847377, 0.09980475045317365, 0.049902375226586825, 0.06085655515437417, 0.06450794846363662, 0.021908359855574704, 0.6365223436448733, 0.5392875834577445, 0.5393841394315948, 0.532511955650669, 0.21841278753139468, 0.43682557506278935, 0.48422694785338255, 0.2113367926894759, 0.1409461448904071, 0.15248559534927084, 0.10665749209835484, 0.08011675604296824, 0.08390828976516633, 0.07368763364445845, 0.05934574521701351, 0.0484656919272277, 0.04319051457460428, 0.44593740891462935, 0.5368785110210766, 0.5841526098982106, 0.1285745885895573, 0.19322508793684884, 0.08644280249806395, 0.0886220328131412, 0.11114074606893937, 0.10024459449355315, 0.10823510564883637, 0.10315023491365614, 0.03486768504123588, 0.04503742651159635, 0.03864040866521707, 0.03864040866521707, 0.1159212259956512, 0.07728081733043414, 0.1159212259956512, 0.3477636779869536, 0.07728081733043414, 0.1159212259956512, 0.03864040866521707, 0.03864040866521707, 0.4343831683159829, 0.21719158415799145, 0.5598908972552231, 0.27994544862761156, 0.7714914632619603, 0.5529772942657377, 0.5367118749855486, 0.6367610099984901, 0.3657439851381766, 0.7199280546658801, 0.4460777244373172, 0.5394017142559556, 0.5362656297728833, 0.11974436466717996, 0.10058526632043116, 0.15566767406733395, 0.10298015361377476, 0.09100571714705677, 0.12213925196052355, 0.07424150609365157, 0.09819037902708756, 0.10058526632043116, 0.031133534813466788, 0.56502954314027, 0.5366545446961767, 0.44645841913753964, 0.5650235812540959, 0.14125589531352398, 0.14125589531352398, 0.12443516432061588, 0.13574745198612642, 0.13574745198612642, 0.13009130815337117, 0.10181058898959482, 0.07918601365857375, 0.07918601365857375, 0.04524915066204214, 0.06787372599306321, 0.10181058898959482, 0.7080632370527359, 0.6366452236362241, 0.5367574682215559, 0.5314155200722397, 0.3634551007124078, 0.1786312261425985, 0.1786312261425985, 0.5358936784277955, 0.1786312261425985, 0.48182822091882355, 0.141834798649531, 0.10512880804425036, 0.1657115109850048, 0.08766673484367997, 0.12936188922055214, 0.10263422615845459, 0.11047434065666988, 0.06414639134903412, 0.06236454714489428, 0.03064772031120519, 0.13296658437842734, 0.11897010181227712, 0.0839788953969015, 0.08747801603843905, 0.0839788953969015, 0.08747801603843905, 0.17145691143534053, 0.14696306694457761, 0.04548856833998831, 0.03849032705691318, 0.5367249643827582, 0.5393407530323667, 0.5391164264667615, 0.6366394767764585, 0.10213170144636098, 0.10213170144636098, 0.4085268057854439, 0.10213170144636098, 0.20426340289272196, 0.5651115763700809, 0.5368882189481138, 0.06494924984555862, 0.06494924984555862, 0.06494924984555862, 0.5845432486100276, 0.06494924984555862, 0.06494924984555862, 0.06494924984555862, 0.06494924984555862, 0.4818535892422543, 0.44606769546636293, 0.2685775065915526, 0.5371550131831052, 0.6329187677564304, 0.2589182242004632, 0.17261214946697542, 0.08630607473348771, 0.08630607473348771, 0.08630607473348771, 0.08630607473348771, 0.08630607473348771, 0.2589182242004632, 0.5392767104884936, 0.6363529231732752, 0.12619879401830056, 0.1115670497842947, 0.13534363416455422, 0.12619879401830056, 0.1115670497842947, 0.11888292190129762, 0.08596149737478444, 0.056698008906772714, 0.09144840146253663, 0.03475039255576392, 0.1458983957082666, 0.13422652405160526, 0.11015328875974127, 0.13422652405160526, 0.1174482085451546, 0.12547262030910927, 0.09994040106016261, 0.0598183422403893, 0.04449901069102131, 0.029179679141653318, 0.20044585708993493, 0.14015238214854014, 0.08984127060803856, 0.11539612091432508, 0.10142081215307464, 0.14294744390079023, 0.09463280504046728, 0.0578977077251804, 0.035936508243215426, 0.0207633158738578, 0.5393812655046105, 0.17556620695224945, 0.7022648278089978, 0.47078683520119263, 0.06725526217159894, 0.06725526217159894, 0.13451052434319788, 0.06725526217159894, 0.06725526217159894, 0.06725526217159894, 0.06725526217159894, 0.06725526217159894, 0.06725526217159894, 0.1357362115460642, 0.1551542951052487, 0.12088708882433487, 0.1334517311273366, 0.10242087210628686, 0.08300278854710237, 0.10184975200160497, 0.07538785381801041, 0.060157984359826486, 0.031982725862186236, 0.11001082378623307, 0.22002164757246614, 0.4400432951449323, 0.11001082378623307, 0.5340767068668439, 0.174831281997974, 0.1362397615569496, 0.11051208126293338, 0.11986760136984838, 0.09472464108251433, 0.137409201570314, 0.08478440096891715, 0.05905672067490091, 0.03800680043434217, 0.04502344051452842, 0.16673442802391553, 0.08336721401195776, 0.16673442802391553, 0.08336721401195776, 0.33346885604783105, 0.08336721401195776, 0.08336721401195776, 0.5393652921258705, 0.5392960706400045, 0.14477114762458682, 0.04825704920819561, 0.19302819683278244, 0.04825704920819561, 0.4343134428737605, 0.04825704920819561, 0.04825704920819561, 0.04825704920819561, 0.04825704920819561, 0.584112588295364, 0.23788942640317073, 0.08682095854130319, 0.10765798859121596, 0.12849501864112872, 0.09376663522460744, 0.11113082693286809, 0.07292960517469468, 0.07640244351634681, 0.03993764092899947, 0.04341047927065159, 0.5315907891791297, 0.4922027848099182, 0.061525348101239774, 0.12305069620247955, 0.12305069620247955, 0.061525348101239774, 0.12305069620247955, 0.061525348101239774, 0.5392217219589508, 0.3569706526030945, 0.08840190779393299, 0.08840190779393299, 0.08840190779393299, 0.08840190779393299, 0.442009538969665, 0.08840190779393299, 0.08840190779393299, 0.044200953896966495, 0.044200953896966495, 0.53923749875916, 0.11805693923571438, 0.10841963807361525, 0.10781730675098405, 0.11323828865466481, 0.1716644269498908, 0.12408025246202634, 0.08251939120047383, 0.06565411416680035, 0.05300515639154523, 0.054209819036807626, 0.2211808757269507, 0.4423617514539014, 0.08653167784285312, 0.17306335568570624, 0.17306335568570624, 0.43265838921426564, 0.2111654390141138, 0.12401779751622556, 0.12736962988152897, 0.12401779751622556, 0.08044397676728145, 0.19440627718759684, 0.0536293178448543, 0.0502774854795509, 0.023462826557123756, 0.0067036647306067875, 0.36992980719857255, 0.16356272563845675, 0.13907205014178944, 0.13382404824964644, 0.12332804446536044, 0.09271470009452629, 0.09096536613047862, 0.10845870577095529, 0.05510401986750148, 0.06560002365178746, 0.027989343424762655, 0.08583689730999411, 0.1636265854971763, 0.3165235588306033, 0.056330463859683634, 0.11266092771936727, 0.07510728514624485, 0.0992489125146807, 0.03218883649124779, 0.03487123953218511, 0.024141627368435843, 0.584093761160896, 0.3612023381722635, 0.44590662547614746, 0.22640834044002095, 0.15175039305478108, 0.1209134147869646, 0.11523291879026157, 0.08683043880674639, 0.06735445253233599, 0.1136099199340607, 0.050312964542226876, 0.04057497140502168, 0.02759098055541474, 0.13082341934728473, 0.13082341934728473, 0.13082341934728473, 0.39247025804185415, 0.537056855195007, 0.3696683938148171, 0.0910471909881623, 0.5462831459289739, 0.0910471909881623, 0.0910471909881623, 0.0910471909881623, 0.1864082855971023, 0.04142406346602273, 0.10356015866505683, 0.33139250772818185, 0.04142406346602273, 0.08284812693204546, 0.08284812693204546, 0.020712031733011366, 0.06213609519903409, 0.020712031733011366, 0.3685188856810251, 0.7269708015982326, 0.48416805445188427, 0.2611224748053566, 0.2611224748053566, 0.5222449496107132, 0.4358390952099779, 0.03352608424692138, 0.10057825274076412, 0.10057825274076412, 0.06705216849384275, 0.10057825274076412, 0.03352608424692138, 0.03352608424692138, 0.03352608424692138, 0.06705216849384275, 0.46857718660525827, 0.05206413184502869, 0.10412826369005738, 0.07809619776754304, 0.07809619776754304, 0.05206413184502869, 0.07809619776754304, 0.026032065922514346, 0.05206413184502869, 0.023474393721477166, 0.0704231811644315, 0.0704231811644315, 0.49296226815102046, 0.09389757488590866, 0.023474393721477166, 0.18779514977181733, 0.023474393721477166, 0.44731106910870927, 0.07455184485145154, 0.07455184485145154, 0.07455184485145154, 0.11182776727717732, 0.07455184485145154, 0.05591388363858866, 0.018637961212862885, 0.05591388363858866, 0.018637961212862885, 0.5974068733484311, 0.14935171833710778, 0.5841438121498378, 0.1458320673904674, 0.1325746067186067, 0.11268841571081571, 0.20770021719248385, 0.09722137826031159, 0.08617349436709436, 0.08396391758845091, 0.061868149802016464, 0.048610689130155794, 0.026514921343721343, 0.1485365566172748, 0.1539153177204073, 0.12743526305883185, 0.1183327442689153, 0.15970782967762695, 0.08481892508785886, 0.07488890458976807, 0.0554426144476736, 0.04013383284645029, 0.037237576867840474, 0.2633134319648757, 0.04388557199414595, 0.39497014794731355, 0.0877711439882919, 0.0877711439882919, 0.04388557199414595, 0.04388557199414595, 0.04388557199414595, 0.5586561154871768, 0.6365825814096763, 0.17138820737028093, 0.11425880491352061, 0.03427764147405619, 0.0914070439308165, 0.10283292442216856, 0.07998116343946443, 0.12568468540487268, 0.022851760982704125, 0.0914070439308165, 0.1485364463875768, 0.7998351903937085, 0.09997939879921357, 0.09402814889949065, 0.09402814889949065, 0.1880562977989813, 0.09402814889949065, 0.09402814889949065, 0.3761125955979626, 0.15466011268352023, 0.11943197590560728, 0.15637855838000378, 0.08935917621714501, 0.14005332426340997, 0.0902183990653868, 0.081626170582969, 0.05928637652868275, 0.05842715368044097, 0.04983492519802318, 0.5839950474343523, 0.048653578809163475, 0.048653578809163475, 0.24326789404581736, 0.048653578809163475, 0.048653578809163475, 0.048653578809163475, 0.1946143152366539, 0.048653578809163475, 0.24326789404581736, 0.4500567859190758, 0.060584567335260193, 0.07789444371676311, 0.07789444371676311, 0.05192962914450874, 0.12116913467052039, 0.05192962914450874, 0.03461975276300583, 0.05192962914450874, 0.02596481457225437, 0.7197291397830754, 0.09033740333174438, 0.4516870166587219, 0.09033740333174438, 0.09033740333174438, 0.09033740333174438, 0.09033740333174438, 0.09033740333174438, 0.10044192454080109, 0.11137437891258896, 0.20361696267454915, 0.13870551484205865, 0.09360914055843367, 0.07037767501838443, 0.09429241895667041, 0.05466227185893937, 0.09565897575314389, 0.03689703350478407, 0.0676591361258073, 0.1127652268763455, 0.12028290866810187, 0.26311886271147283, 0.1353182722516146, 0.06014145433405094, 0.10524754508458914, 0.06014145433405094, 0.0451060907505382, 0.037588408958781835, 0.6374977199393429, 0.14037001804724994, 0.13907029565792356, 0.11827473742870134, 0.09877890158880552, 0.19235891362030547, 0.08708140008486802, 0.09877890158880552, 0.04549028362642359, 0.04938945079440276, 0.03119333734383332, 0.4457831083736465, 0.5316394826600012, 0.14137122758532308, 0.14137122758532308, 0.14137122758532308, 0.07068561379266154, 0.14137122758532308, 0.07068561379266154, 0.07068561379266154, 0.07068561379266154, 0.2120568413779846, 0.11420668045454913, 0.16280526788201682, 0.09962710422630881, 0.08018766925532173, 0.23084329028047162, 0.08990738674081526, 0.09476724548356204, 0.04859858742746771, 0.02915915245648063, 0.046168658056094325, 0.7396685691463227, 0.10566693844947468, 0.3887042618728555, 0.3426874092505663, 0.3426874092505663, 0.13605792844668557, 0.20408689267002839, 0.07810732929346766, 0.07558773802593644, 0.15369506731940408, 0.09826405943371737, 0.05543100788568672, 0.08566610309606129, 0.08566610309606129, 0.02771550394284336, 0.1899998086961421, 0.12312836764666192, 0.12498590767581416, 0.11596357039136047, 0.09712280723853074, 0.08465075275708007, 0.1082680474134441, 0.06580998960425034, 0.052011120816262364, 0.03794688916696693, 0.5314024585529075, 0.5512266522119412, 0.5504255462998787, 0.1110717385303431, 0.06835183909559576, 0.12103971506511749, 0.15521563461291538, 0.19366354410418798, 0.10822374523469329, 0.054111872617346644, 0.054111872617346644, 0.06407984915212103, 0.06835183909559576, 0.10026981715859196, 0.15304340513679823, 0.05277358797820629, 0.1635981227324395, 0.15832076393461886, 0.06860566437166818, 0.0738830231694888, 0.058050946776026915, 0.12137925234987447, 0.0369415115847444, 0.11641955318302186, 0.05820977659151093, 0.05820977659151093, 0.11641955318302186, 0.11641955318302186, 0.11641955318302186, 0.05820977659151093, 0.05820977659151093, 0.2328391063660437, 0.05820977659151093, 0.31934749338410146, 0.6386949867682029, 0.284483766400318, 0.568967532800636, 0.5840236307007073, 0.4461678723786703, 0.18055441606051664, 0.1406644869308676, 0.11407120084443494, 0.1406644869308676, 0.0930765013025144, 0.11687049411669101, 0.07838021162317002, 0.049687455582545274, 0.04478869235609715, 0.04198939908384108, 0.5365381044487988, 0.22318249058740816, 0.09999734967877379, 0.0985481127269075, 0.1304313256679658, 0.07101261064144805, 0.06666489978584919, 0.09999734967877379, 0.09709887577504121, 0.05362176721905261, 0.05796947807465147, 0.040493884740786766, 0.1214816542223603, 0.040493884740786766, 0.526420501630228, 0.08098776948157353, 0.040493884740786766, 0.16197553896314706, 0.44596992028886606, 0.6365627567264949, 0.366224361815158, 0.531287895467749, 0.12818164915340963, 0.11945724371364877, 0.13690605459317048, 0.1275105410426588, 0.1107328382738879, 0.09798178416962203, 0.10603508149863206, 0.09261291928361534, 0.04026648664505015, 0.039595378534299314, 0.10941829525380241, 0.054709147626901204, 0.054709147626901204, 0.6565097715228145, 0.054709147626901204, 0.15793993780889976, 0.1623889501415448, 0.11789882681509417, 0.11344981448244912, 0.11011305523296532, 0.09454151206870759, 0.10566404290032025, 0.06339842574019215, 0.042265617160128104, 0.03225533941167671, 0.5375061284261904, 0.07678658977517006, 0.07678658977517006, 0.07678658977517006, 0.07678658977517006, 0.07678658977517006, 0.07678658977517006, 0.07678658977517006, 0.19272844719144405, 0.1284856314609627, 0.021414271910160453, 0.06424281573048135, 0.08565708764064181, 0.08565708764064181, 0.2569712629219254, 0.08565708764064181, 0.06424281573048135, 0.021414271910160453, 0.6366654293503602, 0.45272904476901293, 0.7210128385826999, 0.17601723643760545, 0.5280517093128163, 0.17601723643760545, 0.6364970007620633, 0.1611877388005696, 0.4835632164017088, 0.1611877388005696, 0.4474531322488616, 0.5841109762441113, 0.5392945152035109, 0.636755708928837, 0.5365024362005322, 0.10651279195349095, 0.11904370865390165, 0.11904370865390165, 0.2631492507086247, 0.06892004185225885, 0.06892004185225885, 0.0877164169028749, 0.0626545835020535, 0.05638912515184815, 0.0501236668016428, 0.7970324719534673, 0.5313719013017526, 0.5497731590686411, 0.5314621167096143, 0.14851728917421816, 0.09045334899174458, 0.19394146006526894, 0.11573288757459022, 0.12047280105887377, 0.09637824084709902, 0.0837384715556762, 0.06912373831246856, 0.055693983440331815, 0.026069524163559572, 0.6114231223361063, 0.20380770744536877, 0.4354089721830414, 0.2177044860915207, 0.2177044860915207, 0.5495273705752294, 0.5654068072571579, 0.06224067109458025, 0.1244813421891605, 0.06224067109458025, 0.1244813421891605, 0.1244813421891605, 0.06224067109458025, 0.06224067109458025, 0.09336100664187037, 0.248962684378321, 0.031120335547290125, 0.15922145775176574, 0.15922145775176574, 0.47766437325529726, 0.5505661998137018, 0.531542162072781, 0.13877338782551793, 0.41632016347655376, 0.09251559188367861, 0.046257795941839305, 0.046257795941839305, 0.046257795941839305, 0.046257795941839305, 0.046257795941839305, 0.8205465070078588, 0.5430703225537823, 0.8086155023801921, 0.14748899851507338, 0.09658571584172947, 0.14748899851507338, 0.1631515470299484, 0.09854353440608885, 0.12268996336652122, 0.05742934455454184, 0.08092316732685442, 0.046335039356505354, 0.03915637128718762, 0.5841552491169241, 0.19351406580019195, 0.19351406580019195, 0.3870281316003839, 0.19351406580019195, 0.5528943892339018, 0.5523203700185503, 0.12534327354117253, 0.13288271856620545, 0.13759487170685103, 0.14890403924440043, 0.10366736909420284, 0.07162472773781287, 0.09047334030039521, 0.07068229710968375, 0.06973986648155464, 0.048063962034584955, 0.11476226773327997, 0.17214340159991995, 0.12910755119993997, 0.12910755119993997, 0.08607170079995997, 0.02869056693331999, 0.11476226773327997, 0.04303585039997999, 0.02869056693331999, 0.14345283466659994, 0.7216234566250364, 0.18302461010874954, 0.11059775904967217, 0.148768667040267, 0.12332139504653712, 0.11255524151072832, 0.12430013627706518, 0.08710796951699844, 0.03719216676006675, 0.03914964922112289, 0.03425594306848253, 0.21585916470662905, 0.6475774941198871, 0.22262172842639702, 0.10512692731246526, 0.055655432106599255, 0.074207242808799, 0.0865751166102655, 0.0865751166102655, 0.19170204392273077, 0.08039117970953226, 0.06802330590806575, 0.024735747602933, 0.1233688545838049, 0.17061650102015571, 0.0997450313656295, 0.1312434623231967, 0.07612120814745409, 0.06037199266867048, 0.17324137026661965, 0.08137094664038196, 0.047247646436350814, 0.036748169450495076, 0.49712983803976185, 0.18212006516149892, 0.07284802606459956, 0.13087019757836355, 0.1387407129572022, 0.17882543081686877, 0.11531220206205459, 0.05326325523818712, 0.046857021790295196, 0.05070076185903035, 0.030383850067144544, 0.13618482762787568, 0.16094570537839853, 0.1328083442982589, 0.1057964776613249, 0.08216109435400763, 0.06527867770592387, 0.1350593331846701, 0.08778856657003556, 0.05177274438745687, 0.04164329439860661, 0.5313895777343519, 0.63654355508883, 0.448054055228596, 0.17546896947297044, 0.10867112313951009, 0.07078577745784603, 0.10767414035841368, 0.19740259065709173, 0.08574051917429237, 0.1306047443236314, 0.04087629402495334, 0.048852156273724724, 0.035891380119471225, 0.6365575788058382, 0.2104581057215693, 0.13848797630383058, 0.1504829978734537, 0.11667884617724308, 0.10468382460761996, 0.12213112870888995, 0.02835186916456374, 0.037075521215198734, 0.047980086278492484, 0.04361826025317499, 0.12616145493576583, 0.10142391475228232, 0.13358271699081087, 0.09400265269723727, 0.13976710203668175, 0.1175033158715466, 0.11008205381650155, 0.10266079176145651, 0.039580064293573594, 0.03586943326605107, 0.1070441390885369, 0.08028310431640268, 0.16056620863280535, 0.05352206954426845, 0.3746544868098792, 0.05352206954426845, 0.08028310431640268, 0.05352206954426845, 0.026761034772134224, 0.026761034772134224, 0.09841085306714087, 0.049205426533570434, 0.1312144707561878, 0.03280361768904695, 0.5084560741802278, 0.03280361768904695, 0.08200904422261739, 0.016401808844523476, 0.016401808844523476, 0.03280361768904695, 0.5840117779136144, 0.17935844168447615, 0.14214714672919063, 0.09600514098463661, 0.11163388486585653, 0.10642430357211655, 0.11609924026049079, 0.09005133379179092, 0.07814371940609957, 0.04242087624902548, 0.03721129495528551, 0.5837443304559806, 0.19458144348532685, 0.4840772504668393, 0.14265433225944646, 0.23602807701108414, 0.09856117501561755, 0.09078002961964775, 0.14265433225944646, 0.060952305601763485, 0.07392088126171316, 0.080405169091688, 0.04279629967783394, 0.033718296715869164, 0.5285575494381586, 0.1894009730216097, 0.10126388656600914, 0.13689377257997531, 0.21377931608379708, 0.09001234361423034, 0.08063605782108135, 0.052507200441634365, 0.058132971917523764, 0.041255657489855574, 0.041255657489855574, 0.14728789407319526, 0.10520563862371089, 0.04208225544948436, 0.11572620248608198, 0.13676733021082416, 0.07364394703659763, 0.10520563862371089, 0.02104112772474218, 0.10520563862371089, 0.13676733021082416, 0.25093649510122795, 0.11332615907797391, 0.11818299446702994, 0.07285253083584037, 0.12303982985608596, 0.08742303700300845, 0.06799569544678434, 0.05990096979835764, 0.04047362824213354, 0.06313886005772833, 0.29031103695820465, 0.05246585005268759, 0.14690438014752524, 0.0979362534316835, 0.16089527349490862, 0.09443853009483766, 0.05596357338953343, 0.031479510031612555, 0.03847495670530423, 0.03497723336845839, 0.4820655735471627, 0.7270377886005758, 0.5497628538986136, 0.21841073156876625, 0.08702302585943031, 0.14247887567181236, 0.1493042110333363, 0.06910652053542995, 0.1382130410708599, 0.05716218365276304, 0.06142801825371551, 0.035833010648000714, 0.040952012169143674, 0.06653931992211626, 0.06653931992211626, 0.3992359195326976, 0.13307863984423252, 0.13307863984423252, 0.06653931992211626, 0.13307863984423252, 0.5508494250947383, 0.63675209513869, 0.17893960506962037, 0.11682067481229101, 0.16503238187768096, 0.11125778553551524, 0.10754919268433141, 0.07324470881088087, 0.10569489625873948, 0.06397322668292127, 0.04728455885259398, 0.03152303923506265, 0.692501704737701, 0.23083390157923367, 0.42745003176063395, 0.03885909379642127, 0.1165772813892638, 0.1165772813892638, 0.07771818759284253, 0.1165772813892638, 0.03885909379642127, 0.03885909379642127, 0.03885909379642127, 0.03885909379642127, 0.17715902758188834, 0.17715902758188834, 0.531477082745665, 0.7065869511986663, 0.2215296201629818, 0.11486721045487945, 0.07657814030325297, 0.1969152179226505, 0.11486721045487945, 0.09572267537906622, 0.07794560709438249, 0.045126404107274073, 0.034186669778237935, 0.02461440224033131, 0.530115767328252, 0.7414889327264246, 0.37693667350214843, 0.37693667350214843, 0.5366534759262859, 0.10524784756256446, 0.10524784756256446, 0.11727617299828612, 0.09923368484470363, 0.13832574251079902, 0.11126201028042529, 0.07216995261432992, 0.05713454581967785, 0.09622660348577322, 0.09622660348577322, 0.5365019724820013, 0.07438894646956734, 0.08863363834671854, 0.14877789293913468, 0.11870576564292662, 0.10920930439149248, 0.16935355898390864, 0.09971284314005836, 0.056978767508604776, 0.09338186897243561, 0.03798584500573652, 0.7255514948340613, 0.5366838543315049, 0.06793671974386557, 0.06793671974386557, 0.033968359871932786, 0.475557038207059, 0.10190507961579837, 0.033968359871932786, 0.06793671974386557, 0.06793671974386557, 0.033968359871932786, 0.06793671974386557, 0.08343863350871812, 0.08343863350871812, 0.08343863350871812, 0.4171931675435906, 0.08343863350871812, 0.08343863350871812, 0.08343863350871812, 0.08343863350871812, 0.0905255108800188, 0.0301751702933396, 0.150875851466698, 0.1207006811733584, 0.4224523841067544, 0.0603503405866792, 0.0603503405866792, 0.0301751702933396, 0.0301751702933396, 0.0603503405866792, 0.6365507182188366, 0.44586140911728595, 0.35964940769857046, 0.35964940769857046, 0.328554418398595, 0.07228197204769089, 0.17741938593524129, 0.1117085022555223, 0.0854241487836347, 0.059139795311747095, 0.059139795311747095, 0.0459976185758033, 0.0459976185758033, 0.0262843534718876, 0.11700275368166094, 0.14368046487991, 0.16467054221863392, 0.10711710435439098, 0.14828473990904945, 0.0970960351733228, 0.0761059578345989, 0.06730366733771469, 0.037646719355904794, 0.04103221570086026, 0.18036057755716786, 0.10319600056105996, 0.14410252330598464, 0.11621171234353599, 0.14410252330598464, 0.0920396761760805, 0.0687973337073733, 0.06693794630987673, 0.04834407233491097, 0.03532836055243494, 0.13457473537197995, 0.09493971057064339, 0.12351379821811859, 0.14840090681430665, 0.19080116590410856, 0.08664400770524737, 0.08203528389113847, 0.053461196243663266, 0.048852472429554365, 0.037791535275693, 0.17619314089771287, 0.14964348952956436, 0.2027427922658614, 0.1074054078075099, 0.098957791463099, 0.08568296577902476, 0.08447616344410891, 0.03741087238239109, 0.034997267712559406, 0.02172244202848515, 0.5300645702115522, 0.5510353948441828, 0.15750527202305642, 0.1831512917380241, 0.11105210423745451, 0.1008904737843541, 0.10210019169543749, 0.09363216631785382, 0.10887461199750444, 0.031210722105951272, 0.0360495937502848, 0.0752444540693864, 0.544741660238983, 0.16283391912469367, 0.08141695956234683, 0.5699187169364278, 0.08141695956234683, 0.08141695956234683, 0.5512651638951799, 0.5648922716388017, 0.2205355227948537, 0.07819785469618318, 0.10104217179843894, 0.15903159213493434, 0.06941157888762327, 0.13530864745182258, 0.07204746163019124, 0.08083373743875115, 0.051839027270503456, 0.03338784807252765, 0.5316422721204297, 0.7690785417569593, 0.15381570835139186, 0.5432425192514336, 0.744103409163654, 0.1860258522909135, 0.48171634926296797, 0.09914694541925127, 0.09914694541925127, 0.06609796361283418, 0.16524490903208544, 0.08262245451604272, 0.016524490903208545, 0.3304898180641709, 0.08262245451604272, 0.03304898180641709, 0.03304898180641709, 0.5432839437396559, 0.5364751454400895, 0.5841129446315992, 0.5395149523405764, 0.5510847425740018, 0.7137046037049052, 0.7210597364007554, 0.565050046593658, 0.10874500025837157, 0.10874500025837157, 0.10874500025837157, 0.10874500025837157, 0.4349800010334863, 0.10874500025837157, 0.10874500025837157, 0.1573632545872389, 0.14027810123205295, 0.14477419422025978, 0.09172029695941925, 0.09711560854526743, 0.11060388750988791, 0.08542576677592968, 0.08812342256885379, 0.04316249268678553, 0.04226327408914416, 0.46432024455943127, 0.06404417166336983, 0.08005521457921229, 0.04803312874752737, 0.04803312874752737, 0.1120773004108972, 0.06404417166336983, 0.04803312874752737, 0.04803312874752737, 0.032022085831684914, 0.5432060004095254, 0.48245938851561865, 0.48183189793126563, 0.14373126308762987, 0.12819274815923745, 0.1683339117242512, 0.09064133708228911, 0.14114151059956445, 0.07639769839792938, 0.0880515845942237, 0.06862844093373317, 0.06085918346953697, 0.032371906100817534, 0.1781055509420805, 0.0593685169806935, 0.0593685169806935, 0.0593685169806935, 0.118737033961387, 0.356211101884161, 0.0593685169806935, 0.0593685169806935, 0.0593685169806935, 0.09864761927828014, 0.10462626287090318, 0.16441269879713358, 0.108213449026477, 0.22001408420852783, 0.07174372311147646, 0.08130955285967333, 0.0783202310633618, 0.023914574370492155, 0.048427013100246614, 0.5504366967274195, 0.5392641436474737, 0.4847229795070951, 0.16143500555019777, 0.10949400894196107, 0.10471782534580137, 0.1548677531054782, 0.1153448338472567, 0.10818055845301715, 0.07725476966788311, 0.08155333490442683, 0.0457319579332291, 0.041313988106781385, 0.2139537640189105, 0.427907528037821, 0.07131792133963683, 0.2139537640189105, 0.2792522391917468, 0.1396261195958734, 0.41887835878762025, 0.1396261195958734, 0.133451396900553, 0.133451396900553, 0.3669913414765207, 0.0667256984502765, 0.0667256984502765, 0.0667256984502765, 0.0667256984502765, 0.03336284922513825, 0.03336284922513825, 0.5368242428067567, 0.7205964365550745, 0.19224604980320906, 0.5767381494096272, 0.17372975638712443, 0.14353672286329314, 0.143297095613104, 0.11238518033870531, 0.13179498760402542, 0.0728466840574977, 0.08602618281790024, 0.053916131292555854, 0.049602840789151385, 0.033068560526100924, 0.20654865205563974, 0.13868266638021526, 0.12196206121380633, 0.12983058129211641, 0.0777016357733121, 0.0826194608222559, 0.10130719600824235, 0.061964595616691924, 0.03835903538176167, 0.04229329542091671, 0.17416466384344298, 0.12070818286179218, 0.07587371494169794, 0.13795220898490534, 0.18278667690499958, 0.09829094890174506, 0.08794453322787715, 0.05345648098165082, 0.0413856626954716, 0.029314844409292384, 0.6368241701286754, 0.5503518847550192, 0.44631164813397356, 0.5972863960177291, 0.029864319800886458, 0.11348441524336855, 0.023891455840709168, 0.07764723148230479, 0.059728639601772916, 0.04181004772124104, 0.011945727920354584, 0.017918591880531874, 0.017918591880531874, 0.10891306285998054, 0.1554713187390562, 0.09976769116944782, 0.11556424227127707, 0.10475607572792021, 0.1338549856523425, 0.11888983197692532, 0.06651179411296522, 0.05320943529037218, 0.04323266617342739, 0.08703403943443938, 0.26110211830331814, 0.08703403943443938, 0.5222042366066363, 0.08703403943443938, 0.13184259382945243, 0.11781678597525536, 0.08134968555434298, 0.13745291697113124, 0.2131922793837954, 0.11220646283357653, 0.04488258513343061, 0.08696000869602181, 0.04768774670427003, 0.022441292566715305, 0.584164972055848, 0.38640935361386636, 0.5317737394766248, 0.2658868697383124, 0.2869574403088037, 0.14347872015440186, 0.14347872015440186, 0.2869574403088037, 0.7218435129014473, 0.1397026244587988, 0.15522513828755422, 0.1973576758227475, 0.10865759680128795, 0.08204757309485008, 0.07539506716824061, 0.10422259285021497, 0.07317756519270413, 0.026610023706437867, 0.037697533584120306, 0.11849817505817195, 0.4739927002326878, 0.11849817505817195, 0.7302717170551232, 0.1522391181193171, 0.45671735435795124, 0.1522391181193171, 0.8238256966468491, 0.11768938523526416, 0.5365838542016362, 0.5367853063842613, 0.5652529445852212, 0.543239216757558, 0.5841359935750892, 0.5608141632404953, 0.11216283264809905, 0.11216283264809905, 0.11216283264809905, 0.46153656309036584, 0.04195786937185144, 0.08391573874370288, 0.04195786937185144, 0.08391573874370288, 0.08391573874370288, 0.04195786937185144, 0.08391573874370288, 0.04195786937185144, 0.13725529364783873, 0.1110153110386931, 0.19377217926753704, 0.1130337712393966, 0.1130337712393966, 0.0746830274260299, 0.10697839063728608, 0.06055380602110532, 0.044406124415477234, 0.044406124415477234, 0.5838870065341468, 0.5363980107509266, 0.0989962487038019, 0.5939774922228114, 0.0989962487038019, 0.0989962487038019, 0.0989962487038019, 0.15587281197987482, 0.15261187449075608, 0.12652437457780633, 0.10043687466485657, 0.14022031203210494, 0.08934968720185292, 0.07239281225843558, 0.05087062483025203, 0.058044687306313215, 0.05282718732372326, 0.06809874316224583, 0.06809874316224583, 0.47669120213572086, 0.13619748632449166, 0.13619748632449166, 0.4062306173757199, 0.18843307331757775, 0.16016811231994108, 0.09421653665878887, 0.10646468642443142, 0.0923322059256131, 0.10363819032466776, 0.08573704835949787, 0.07160456786067955, 0.06312507956138855, 0.03297578783057611, 0.28955368054433595, 0.14836634870866802, 0.13161530933833454, 0.10768525309500099, 0.09332721934900085, 0.047860112486667106, 0.05264612373533381, 0.059825140608333875, 0.045467106862333746, 0.023930056243333553, 0.6216489736504693, 0.27298835734266713, 0.5459767146853343, 0.6773882406494283, 0.917094816199907, 0.48202866615786366, 0.5316429032536979, 0.53695079966, 0.4459396480384035, 0.1872022911699574, 0.1435926665224105, 0.0872192492950938, 0.08190100238685637, 0.1584837578654753, 0.11381048383628092, 0.09891939249321613, 0.04892787155578432, 0.035100429594367016, 0.04467327402919438, 0.14782216172312557, 0.14782216172312557, 0.11333923430489193, 0.10558725837366112, 0.10585456788853115, 0.10237954419522077, 0.09596411583834011, 0.09730066341269024, 0.04544261752790479, 0.03822526062641402, 0.6368082069887784, 0.5841044063020979, 0.14746906533038456, 0.11379838278385167, 0.13681378604350705, 0.11337217161237656, 0.11592943864122716, 0.10101204763959867, 0.10996248224057577, 0.07245589915076697, 0.04176869480455979, 0.047309440033736085, 0.6365693275330211, 0.14153864380049413, 0.13195529812650234, 0.10025653935868334, 0.11278860677851876, 0.11205142634205785, 0.08846165237530883, 0.13195529812650234, 0.0958334567399179, 0.0427564653147326, 0.04128210444181079, 0.2112782024577164, 0.1254464327092691, 0.13204887653607275, 0.08583176974844728, 0.11059093409896092, 0.08583176974844728, 0.10398849027215729, 0.06354852183298501, 0.04786771774432637, 0.03548813556906955, 0.6367689541184843, 0.1304691294109912, 0.13151288244627912, 0.14299416583444635, 0.13881915369329464, 0.13255663548156704, 0.09915653835235332, 0.08141273675245851, 0.08245648978774643, 0.036531356235077535, 0.022962566776334452, 0.1441642352025773, 0.14073175341203975, 0.14187591400888558, 0.10068613252243494, 0.12013686266881442, 0.08352372356974716, 0.12471350505619781, 0.061784672229675985, 0.0377572996959131, 0.04576642387383406, 0.5548887698402786, 0.15311903757494122, 0.15220215711042062, 0.12286198224576123, 0.1499099559491191, 0.09031272575527971, 0.08206080157459425, 0.08710364412945759, 0.10131529132952698, 0.028423294400138792, 0.03254925649048152, 0.30684651034149735, 0.03835581379268717, 0.03835581379268717, 0.07671162758537434, 0.07671162758537434, 0.1150674413780615, 0.03835581379268717, 0.2684906965488102, 0.03835581379268717, 0.4818483780604374, 0.4818136441067465, 0.4461653112126042, 0.5656817738635995, 0.48693431248861185, 0.24346715624430593, 0.37705942833307005, 0.13122375565381403, 0.043741251884604676, 0.13122375565381403, 0.043741251884604676, 0.13122375565381403, 0.3499300150768374, 0.043741251884604676, 0.08748250376920935, 0.043741251884604676, 0.043741251884604676, 0.8008671387921398, 0.1534540354912727, 0.10961002535090908, 0.07307335023393938, 0.10961002535090908, 0.11691736037430302, 0.0949953553041212, 0.0949953553041212, 0.04384401014036363, 0.08038068525733331, 0.12422469539769695, 0.4457642515164499, 0.4458716378602653, 0.37514371112595823, 0.37514371112595823, 0.5432111870612597, 0.48179713077401165, 0.5371700862347907, 0.10327342454893876, 0.09930136975859497, 0.16335075325288873, 0.09086075332911439, 0.2720857531385502, 0.07795157526049705, 0.07546904101653218, 0.05709828761119211, 0.019860273951718993, 0.04121006844981691, 0.2270528632554185, 0.454105726510837, 0.559138714452358, 0.1368843276726078, 0.41065298301782344, 0.1368843276726078, 0.1368843276726078, 0.17747987421982903, 0.17747987421982903, 0.5324396226594871, 0.6454838419461354, 0.3227419209730677, 0.1089026846234202, 0.11370721482739463, 0.14413590611923263, 0.17936912761504506, 0.12972231550730937, 0.08968456380752253, 0.08167701346756516, 0.08808305373953106, 0.03363171142782095, 0.030428691291838, 0.28238507078248193, 0.5647701415649639, 0.1295571547835572, 0.2591143095671144, 0.38867146435067157, 0.1295571547835572, 0.3922347826639508, 0.3922347826639508, 0.41040355054212346, 0.06480056061191423, 0.15120130809446655, 0.0864007474825523, 0.12960112122382847, 0.04320037374127615, 0.021600186870638076, 0.021600186870638076, 0.021600186870638076, 0.04320037374127615, 0.1341236039556831, 0.20634400608566628, 0.20505435604763086, 0.11864780349925812, 0.0812479523962311, 0.05029635148338116, 0.09414445277658524, 0.0361102010649916, 0.039979151179097845, 0.033530900988920774, 0.21906488765729246, 0.1764689372794856, 0.09736217229212997, 0.07910676498735561, 0.08519190075561373, 0.060851357682581236, 0.18863920881600182, 0.030425678841290618, 0.04259595037780686, 0.01825540730477437, 0.48369889090817336, 0.17460192139492256, 0.06984076855796903, 0.10476115283695354, 0.3492038427898451, 0.034920384278984515, 0.06984076855796903, 0.10476115283695354, 0.034920384278984515, 0.06984076855796903, 0.034920384278984515, 0.12390955116706481, 0.19788540261008858, 0.13685532516959398, 0.11651196602276244, 0.11466256973668684, 0.09062041801770411, 0.0943192105898553, 0.05918068115441901, 0.046234907151889854, 0.022192755432907132, 0.5643917532680572, 0.5332422960138957, 0.7527554108131385, 0.083100864368358, 0.18282190161038758, 0.166201728736716, 0.083100864368358, 0.0498605186210148, 0.0997210372420296, 0.0332403457473432, 0.1994420744840592, 0.0498605186210148, 0.0166201728736716, 0.5841694634566376, 0.10366386814017187, 0.10366386814017187, 0.5183193407008594, 0.10366386814017187, 0.19161104232744267, 0.19161104232744267, 0.5748331269823279, 0.5648230047724793, 0.371577201885904, 0.5632722915847876, 0.2816361457923938, 0.45128331504967945, 0.1485651589921624, 0.10129442658556527, 0.10973562880102905, 0.09116498392700875, 0.13083863433968848, 0.12070919168113195, 0.12408567256731746, 0.056556054843607276, 0.07090609860989569, 0.04642661218505075, 0.2722143117308286, 0.5444286234616572, 0.6364782516000038, 0.1693106521404615, 0.06636977563906091, 0.1340940364952455, 0.1882734451801932, 0.12325815475825598, 0.06095183477056614, 0.10564984693564798, 0.047406982599329225, 0.06095183477056614, 0.04334352694795815, 0.5432296714228388, 0.30189385360697607, 0.10197303499613414, 0.10465653591708503, 0.07782152670757604, 0.10599828637756048, 0.08587202947042874, 0.07513802578662515, 0.05501176887949341, 0.06172052118187066, 0.02951851013045988, 0.5841032740945453, 0.5841525325002879, 0.1448495076446871, 0.1582202314272736, 0.10548015428484905, 0.10770860824861347, 0.13222160185002207, 0.08468125062304784, 0.10028042836939875, 0.07205334482838281, 0.05274007714242453, 0.041597807323602444, 0.10471695019779007, 0.10471695019779007, 0.10471695019779007, 0.10471695019779007, 0.10471695019779007, 0.05235847509889503, 0.05235847509889503, 0.41886780079116026, 0.21005241821761966, 0.12549457574023923, 0.07046486873115036, 0.1362320795468907, 0.08724221842904331, 0.12952113966773354, 0.0946242522961162, 0.044963297190353094, 0.046305485166184525, 0.05502970700908886, 0.7352003106630405], \"Term\": [\"acquicte\", \"acquit\", \"acquit\", \"acquit\", \"acquit\", \"acquit\", \"acquit\", \"acquit\", \"acquit\", \"acquit\", \"acquit\", \"affidavit\", \"affidavit\", \"affidavit\", \"affidavit\", \"affidavit\", \"affidavit\", \"affidavit\", \"affidavit\", \"affidavit\", \"affidavit\", \"allentransportation\", \"amoth\", \"april\", \"april\", \"april\", \"april\", \"april\", \"april\", \"april\", \"april\", \"april\", \"april\", \"arden\", \"arrow\", \"arrow\", \"arrow\", \"arrow\", \"asher\", \"ashlee\", \"ask\", \"ask\", \"ask\", \"ask\", \"ask\", \"ask\", \"ask\", \"ask\", \"ask\", \"ask\", \"away\", \"away\", \"away\", \"away\", \"away\", \"away\", \"away\", \"away\", \"away\", \"away\", \"bad\", \"bad\", \"bad\", \"bad\", \"bad\", \"bad\", \"bad\", \"bad\", \"bad\", \"bad\", \"baggott\", \"baggott\", \"baggott\", \"baggott\", \"balak\", \"bampton\", \"bampton\", \"barret\", \"barrimore\", \"barry\", \"barry\", \"barry\", \"barry\", \"barry\", \"barry\", \"barry\", \"barry\", \"bartrum\", \"basons\", \"bastone\", \"battlebridge\", \"battlebridge\", \"battlebridge\", \"battlebridge\", \"battlebridge\", \"battlebridge\", \"baugham\", \"becket\", \"bed\", \"bed\", \"bed\", \"bed\", \"bed\", \"bed\", \"bed\", \"bed\", \"bed\", \"bed\", \"beda\", \"beef\", \"beef\", \"beef\", \"beef\", \"beef\", \"beef\", \"beef\", \"beef\", \"beef\", \"beris\", \"beris\", \"berrit\", \"bill\", \"bill\", \"bill\", \"bill\", \"bill\", \"bill\", \"bill\", \"bill\", \"bill\", \"bill\", \"bloxam\", \"bloxham\", \"boat\", \"boat\", \"boat\", \"boat\", \"boat\", \"boat\", \"boat\", \"boat\", \"boat\", \"boat\", \"bobin\", \"bodice\", \"boe\", \"bombazett\", \"bombazett\", \"bombazett\", \"bonnell\", \"book\", \"book\", \"book\", \"book\", \"book\", \"book\", \"book\", \"book\", \"book\", \"book\", \"boot\", \"boot\", \"boot\", \"boot\", \"boot\", \"boot\", \"boot\", \"boot\", \"boot\", \"boot\", \"bootjack\", \"botham\", \"boulton\", \"boulton\", \"boulton\", \"boulton\", \"boulton\", \"boulton\", \"bowling\", \"bradley\", \"bradley\", \"bradley\", \"bradley\", \"bradley\", \"bradley\", \"bradley\", \"bradley\", \"bradley\", \"bradley\", \"bragg\", \"bragg\", \"bragg\", \"brasspot\", \"briers\", \"bring\", \"bring\", \"bring\", \"bring\", \"bring\", \"bring\", \"bring\", \"bring\", \"bring\", \"bring\", \"brocklington\", \"brookhouse\", \"brookhouse\", \"brookhouse\", \"brookhouse\", \"brookhouse\", \"brookhouse\", \"brookhouse\", \"brookhouse\", \"broxholm\", \"bruin\", \"brunet\", \"brunet\", \"brunet\", \"brunet\", \"brunet\", \"brunet\", \"bullard\", \"bullenger\", \"burgay\", \"burglarioualy\", \"burk\", \"burnett\", \"burnett\", \"burnett\", \"burridge\", \"burridge\", \"burridge\", \"burridge\", \"bursey\", \"bursey\", \"buy\", \"buy\", \"buy\", \"buy\", \"buy\", \"buy\", \"buy\", \"buy\", \"buy\", \"buy\", \"calamanco\", \"call\", \"call\", \"call\", \"call\", \"call\", \"call\", \"call\", \"call\", \"call\", \"call\", \"callan\", \"cambrick\", \"capt\", \"capt\", \"capt\", \"capt\", \"capt\", \"capt\", \"capt\", \"capt\", \"carat\", \"carat\", \"carat\", \"carat\", \"carat\", \"carat\", \"carat\", \"carolina\", \"carrington\", \"cartey\", \"carton\", \"casanover\", \"chaldron\", \"chapley\", \"cheapend\", \"checkerd\", \"cheque\", \"cheque\", \"cheque\", \"cheque\", \"cheque\", \"cheque\", \"cheque\", \"cheque\", \"cheque\", \"cheque\", \"child\", \"child\", \"child\", \"child\", \"child\", \"child\", \"child\", \"child\", \"child\", \"child\", \"chilton\", \"chilton\", \"chink\", \"christy\", \"christy\", \"clarks\", \"clarks\", \"claude\", \"cliff\", \"cliff\", \"cliff\", \"cliff\", \"cliff\", \"cliff\", \"clough\", \"clough\", \"coffeepot\", \"coleman\", \"coleman\", \"colla\", \"collyer\", \"collyer\", \"colstain\", \"come\", \"come\", \"come\", \"come\", \"come\", \"come\", \"come\", \"come\", \"come\", \"come\", \"concertina\", \"concertina\", \"concertina\", \"connell\", \"connoway\", \"coombs\", \"cooper\", \"cooper\", \"cooper\", \"cooper\", \"cooper\", \"cooper\", \"cooper\", \"cooper\", \"cooper\", \"cooper\", \"cordeaux\", \"cordys\", \"corkscrew\", \"corkscrew\", \"corn\", \"corn\", \"corn\", \"corn\", \"corn\", \"corn\", \"corn\", \"corn\", \"corn\", \"corn\", \"court\", \"court\", \"court\", \"court\", \"court\", \"court\", \"court\", \"court\", \"court\", \"court\", \"courthorpe\", \"cowley\", \"cowley\", \"cowley\", \"cowley\", \"coxall\", \"crab\", \"craddock\", \"craddock\", \"craddock\", \"craddock\", \"craddock\", \"craddock\", \"craddock\", \"craggs\", \"crape\", \"crape\", \"crape\", \"crape\", \"crape\", \"crape\", \"crape\", \"crape\", \"crape\", \"crape\", \"crossan\", \"crossan\", \"crossan\", \"crossan\", \"crossan\", \"crossan\", \"crossan\", \"crossan\", \"crossexamine\", \"crossexamine\", \"crossexamine\", \"crossexamine\", \"crossexamine\", \"crossexamine\", \"crossexamine\", \"crossexamine\", \"crossexamine\", \"crossexamine\", \"crowhurst\", \"crux\", \"cuain\", \"cumenel\", \"cuprial\", \"d\", \"d\", \"d\", \"d\", \"d\", \"d\", \"d\", \"d\", \"d\", \"d\", \"dalton\", \"dalton\", \"dalton\", \"dalton\", \"dalton\", \"dalton\", \"dalton\", \"dalton\", \"dalton\", \"dalton\", \"darby\", \"davadge\", \"davadge\", \"day\", \"day\", \"day\", \"day\", \"day\", \"day\", \"day\", \"day\", \"day\", \"day\", \"dean\", \"dean\", \"dean\", \"dean\", \"dean\", \"dean\", \"dean\", \"dean\", \"dean\", \"decanter\", \"deceased\", \"deceased\", \"deceased\", \"deceased\", \"deceased\", \"deceased\", \"deceased\", \"deceased\", \"deceased\", \"deceased\", \"december\", \"december\", \"december\", \"december\", \"december\", \"december\", \"december\", \"december\", \"december\", \"december\", \"degen\", \"delamont\", \"delfoise\", \"derter\", \"dickson\", \"dickson\", \"dishes\", \"do\", \"do\", \"do\", \"do\", \"do\", \"do\", \"do\", \"do\", \"do\", \"do\", \"dodgson\", \"dolman\", \"donohue\", \"door\", \"door\", \"door\", \"door\", \"door\", \"door\", \"door\", \"door\", \"door\", \"door\", \"douglas\", \"douglas\", \"douglas\", \"douglas\", \"douglas\", \"douglas\", \"douglas\", \"douglas\", \"douglas\", \"douglas\", \"dowla\", \"dowla\", \"downing\", \"downing\", \"dudey\", \"dudmash\", \"dunlop\", \"eggleton\", \"eighteenpenny\", \"elliot\", \"eme\", \"ethelbert\", \"ethelburgh\", \"evidence\", \"evidence\", \"evidence\", \"evidence\", \"evidence\", \"evidence\", \"evidence\", \"evidence\", \"evidence\", \"evidence\", \"ewell\", \"ewen\", \"executors\", \"eyeglass\", \"eyeglass\", \"eyeglass\", \"fact\", \"fact\", \"fact\", \"fact\", \"fact\", \"fact\", \"fact\", \"fact\", \"fact\", \"fact\", \"fane\", \"faulkener\", \"fazakerley\", \"feagin\", \"felt\", \"fercley\", \"fercley\", \"fercley\", \"fercley\", \"ferdinando\", \"find\", \"find\", \"find\", \"find\", \"find\", \"find\", \"find\", \"find\", \"find\", \"find\", \"fire\", \"fire\", \"fire\", \"fire\", \"fire\", \"fire\", \"fire\", \"fire\", \"fire\", \"fire\", \"fitzgenald\", \"fleming\", \"flockhart\", \"foresight\", \"forster\", \"forster\", \"forster\", \"forster\", \"forster\", \"fortyfour\", \"fowke\", \"fowl\", \"fowl\", \"fowl\", \"fowl\", \"fowl\", \"fowl\", \"fowl\", \"fowl\", \"franciscis\", \"freshwater\", \"furnishd\", \"furnishd\", \"gannon\", \"gardiner\", \"gardiner\", \"gardiner\", \"gardiner\", \"gardiner\", \"gardiner\", \"gardiner\", \"gardiner\", \"gaynor\", \"geofry\", \"george\", \"george\", \"george\", \"george\", \"george\", \"george\", \"george\", \"george\", \"george\", \"george\", \"get\", \"get\", \"get\", \"get\", \"get\", \"get\", \"get\", \"get\", \"get\", \"get\", \"give\", \"give\", \"give\", \"give\", \"give\", \"give\", \"give\", \"give\", \"give\", \"give\", \"glascow\", \"glessing\", \"glessing\", \"globe\", \"globe\", \"globe\", \"globe\", \"globe\", \"globe\", \"globe\", \"globe\", \"globe\", \"globe\", \"go\", \"go\", \"go\", \"go\", \"go\", \"go\", \"go\", \"go\", \"go\", \"go\", \"godby\", \"godby\", \"godby\", \"godby\", \"goff\", \"good\", \"good\", \"good\", \"good\", \"good\", \"good\", \"good\", \"good\", \"good\", \"good\", \"goodman\", \"goodman\", \"goodman\", \"goodman\", \"goodman\", \"goodman\", \"goodman\", \"goss\", \"grady\", \"granary\", \"granary\", \"granary\", \"granary\", \"granary\", \"granary\", \"granary\", \"granary\", \"granary\", \"gravel\", \"great\", \"great\", \"great\", \"great\", \"great\", \"great\", \"great\", \"great\", \"great\", \"great\", \"greenway\", \"griffin\", \"griffin\", \"griffin\", \"griffin\", \"griffin\", \"griffin\", \"griffin\", \"griffis\", \"groce\", \"gross\", \"gross\", \"gross\", \"gross\", \"gross\", \"gross\", \"gross\", \"gross\", \"gross\", \"grouch\", \"guilty\", \"guilty\", \"guilty\", \"guilty\", \"guilty\", \"guilty\", \"guilty\", \"guilty\", \"guilty\", \"guilty\", \"gum\", \"gum\", \"gumley\", \"gumley\", \"gumley\", \"gumley\", \"halfcrown\", \"halfcrown\", \"halfcrown\", \"halfcrown\", \"halfcrown\", \"halfcrown\", \"halfcrown\", \"halfcrown\", \"halfcrown\", \"halfcrown\", \"hampsteadroad\", \"hand\", \"hand\", \"hand\", \"hand\", \"hand\", \"hand\", \"hand\", \"hand\", \"hand\", \"hand\", \"handkerchief\", \"handkerchief\", \"handkerchief\", \"handkerchief\", \"handkerchief\", \"handkerchief\", \"handkerchief\", \"handkerchief\", \"handkerchief\", \"handkerchief\", \"harriette\", \"harrild\", \"hasenach\", \"hear\", \"hear\", \"hear\", \"hear\", \"hear\", \"hear\", \"hear\", \"hear\", \"hear\", \"hear\", \"henderson\", \"henderson\", \"henderson\", \"henderson\", \"henson\", \"hern\", \"heron\", \"heron\", \"heron\", \"heron\", \"heron\", \"hewlett\", \"hewlett\", \"hewlett\", \"hewlett\", \"hewlett\", \"hewlett\", \"hewlett\", \"hewlett\", \"hewlett\", \"hewlett\", \"heyburn\", \"hibbert\", \"hillier\", \"hocknell\", \"hocknell\", \"hocknell\", \"hoe\", \"hoe\", \"hoe\", \"hoe\", \"hoe\", \"hoe\", \"hoe\", \"hoe\", \"hoe\", \"hoe\", \"hogan\", \"hogan\", \"hogan\", \"hogan\", \"hogan\", \"hogan\", \"hogan\", \"hogan\", \"hogan\", \"hoop\", \"hoop\", \"hoop\", \"hoop\", \"hoop\", \"hoop\", \"hoop\", \"hoop\", \"hooper\", \"hooper\", \"hooper\", \"hooper\", \"hooper\", \"hooper\", \"hooper\", \"hooper\", \"hooper\", \"hooper\", \"hopkinson\", \"hopkinson\", \"hopton\", \"hour\", \"hour\", \"hour\", \"hour\", \"hour\", \"hour\", \"hour\", \"hour\", \"hour\", \"hour\", \"house\", \"house\", \"house\", \"house\", \"house\", \"house\", \"house\", \"house\", \"house\", \"house\", \"howell\", \"howell\", \"howell\", \"howell\", \"howell\", \"howell\", \"howell\", \"howell\", \"ida\", \"ilson\", \"image\", \"image\", \"image\", \"image\", \"image\", \"image\", \"image\", \"image\", \"image\", \"image\", \"indecency\", \"indecency\", \"indecent\", \"indecent\", \"indecent\", \"indecent\", \"indecent\", \"indecent\", \"indict\", \"indict\", \"indict\", \"indict\", \"indict\", \"indict\", \"indict\", \"indict\", \"indict\", \"indict\", \"indicted\", \"indigo\", \"indigo\", \"indigo\", \"indigo\", \"indigo\", \"indigo\", \"indigo\", \"indigo\", \"indigo\", \"invoice\", \"invoice\", \"invoice\", \"invoice\", \"invoice\", \"invoice\", \"invoice\", \"invoice\", \"invoice\", \"invoice\", \"jacock\", \"jepson\", \"jepson\", \"jepson\", \"jepson\", \"jepson\", \"jepson\", \"jepson\", \"john\", \"john\", \"john\", \"john\", \"john\", \"john\", \"john\", \"john\", \"john\", \"john\", \"johnson\", \"johnson\", \"johnson\", \"johnson\", \"johnson\", \"johnson\", \"johnson\", \"johnson\", \"johnson\", \"johnson\", \"joyes\", \"jury\", \"jury\", \"jury\", \"jury\", \"jury\", \"jury\", \"jury\", \"jury\", \"jury\", \"jury\", \"kenealey\", \"kenneth\", \"kenny\", \"kenny\", \"kenny\", \"kenny\", \"kenny\", \"kenny\", \"kenny\", \"kenny\", \"kenny\", \"key\", \"key\", \"key\", \"key\", \"key\", \"key\", \"key\", \"key\", \"key\", \"key\", \"kirk\", \"kirk\", \"knapper\", \"knell\", \"knell\", \"knife\", \"knife\", \"knife\", \"knife\", \"knife\", \"knife\", \"knife\", \"knife\", \"knife\", \"knife\", \"know\", \"know\", \"know\", \"know\", \"know\", \"know\", \"know\", \"know\", \"know\", \"know\", \"knox\", \"knutsford\", \"kosminski\", \"l\", \"l\", \"l\", \"l\", \"l\", \"l\", \"l\", \"l\", \"l\", \"l\", \"labour\", \"labour\", \"labour\", \"labour\", \"labour\", \"labour\", \"labour\", \"labour\", \"labour\", \"labour\", \"langford\", \"langford\", \"langford\", \"langford\", \"langford\", \"langford\", \"langford\", \"langford\", \"langford\", \"langford\", \"larkin\", \"larkin\", \"latham\", \"latham\", \"lathbury\", \"leaper\", \"leave\", \"leave\", \"leave\", \"leave\", \"leave\", \"leave\", \"leave\", \"leave\", \"leave\", \"leave\", \"lebutt\", \"letter\", \"letter\", \"letter\", \"letter\", \"letter\", \"letter\", \"letter\", \"letter\", \"letter\", \"letter\", \"leverett\", \"leverett\", \"leverett\", \"leverett\", \"leverett\", \"leverett\", \"leverett\", \"lewington\", \"lillian\", \"limes\", \"linscott\", \"live\", \"live\", \"live\", \"live\", \"live\", \"live\", \"live\", \"live\", \"live\", \"live\", \"logwood\", \"logwood\", \"logwood\", \"logwood\", \"logwood\", \"look\", \"look\", \"look\", \"look\", \"look\", \"look\", \"look\", \"look\", \"look\", \"look\", \"loom\", \"loom\", \"loom\", \"loom\", \"loom\", \"loom\", \"loom\", \"loom\", \"loufer\", \"loufer\", \"loufer\", \"loufer\", \"loufer\", \"loufer\", \"loufer\", \"loufer\", \"loufer\", \"loufer\", \"lowerheath\", \"lowrie\", \"lowry\", \"lumper\", \"lumper\", \"lumper\", \"lupton\", \"lustre\", \"lustre\", \"lustre\", \"lustring\", \"maccartey\", \"macclery\", \"macdonel\", \"mackenne\", \"mackenzie\", \"mackenzie\", \"mackenzie\", \"mackenzie\", \"mackenzie\", \"mackenzie\", \"mackenzie\", \"mackenzie\", \"mackenzie\", \"mackenzie\", \"madlock\", \"malan\", \"malin\", \"mallett\", \"man\", \"man\", \"man\", \"man\", \"man\", \"man\", \"man\", \"man\", \"man\", \"man\", \"martineau\", \"martineau\", \"martinscourt\", \"martinscourt\", \"martinscourt\", \"masonic\", \"mathematical\", \"matthews\", \"matthews\", \"matthews\", \"matthews\", \"matthews\", \"matthews\", \"matthews\", \"matthews\", \"matthews\", \"matthews\", \"mcarthy\", \"mcarthy\", \"mcarthy\", \"meeke\", \"metcalf\", \"milk\", \"milk\", \"milk\", \"milk\", \"milk\", \"milk\", \"milk\", \"milk\", \"millett\", \"mobun\", \"moist\", \"money\", \"money\", \"money\", \"money\", \"money\", \"money\", \"money\", \"money\", \"money\", \"money\", \"mongus\", \"monks\", \"monks\", \"monks\", \"monks\", \"monmouth\", \"monmouthshire\", \"month\", \"month\", \"month\", \"month\", \"month\", \"month\", \"month\", \"month\", \"month\", \"month\", \"moore\", \"moore\", \"moore\", \"moore\", \"moore\", \"moore\", \"moore\", \"moore\", \"moore\", \"moore\", \"morland\", \"morning\", \"morning\", \"morning\", \"morning\", \"morning\", \"morning\", \"morning\", \"morning\", \"morning\", \"morning\", \"moroner\", \"moroner\", \"morris\", \"morris\", \"morris\", \"morris\", \"morris\", \"morris\", \"morris\", \"morris\", \"morris\", \"morris\", \"mother\", \"mother\", \"mother\", \"mother\", \"mother\", \"mother\", \"mother\", \"mother\", \"mother\", \"mother\", \"moulin\", \"mr\", \"mr\", \"mr\", \"mr\", \"mr\", \"mr\", \"mr\", \"mr\", \"mr\", \"mr\", \"mrs\", \"mrs\", \"mrs\", \"mrs\", \"mrs\", \"mrs\", \"mrs\", \"mrs\", \"mrs\", \"mrs\", \"mulling\", \"muncreef\", \"nigel\", \"night\", \"night\", \"night\", \"night\", \"night\", \"night\", \"night\", \"night\", \"night\", \"night\", \"northey\", \"note\", \"note\", \"note\", \"note\", \"note\", \"note\", \"note\", \"note\", \"note\", \"note\", \"november\", \"november\", \"november\", \"november\", \"november\", \"november\", \"november\", \"november\", \"november\", \"november\", \"oat\", \"oat\", \"oat\", \"oat\", \"oat\", \"oat\", \"oat\", \"oat\", \"oat\", \"oat\", \"oats\", \"oats\", \"oats\", \"oats\", \"oats\", \"oats\", \"oats\", \"oats\", \"oats\", \"oats\", \"obryan\", \"oclock\", \"oclock\", \"oclock\", \"oclock\", \"oclock\", \"oclock\", \"oclock\", \"oclock\", \"oclock\", \"oclock\", \"oilcloth\", \"oilcloth\", \"onbehalf\", \"open\", \"open\", \"open\", \"open\", \"open\", \"open\", \"open\", \"open\", \"open\", \"open\", \"ophelia\", \"order\", \"order\", \"order\", \"order\", \"order\", \"order\", \"order\", \"order\", \"order\", \"order\", \"original\", \"original\", \"original\", \"original\", \"original\", \"original\", \"original\", \"original\", \"original\", \"original\", \"paper\", \"paper\", \"paper\", \"paper\", \"paper\", \"paper\", \"paper\", \"paper\", \"paper\", \"paper\", \"parcel\", \"parcel\", \"parcel\", \"parcel\", \"parcel\", \"parcel\", \"parcel\", \"parcel\", \"parcel\", \"parcel\", \"pasquale\", \"pattison\", \"paulshead\", \"pay\", \"pay\", \"pay\", \"pay\", \"pay\", \"pay\", \"pay\", \"pay\", \"pay\", \"pay\", \"peperell\", \"peperell\", \"peperell\", \"peperell\", \"peperell\", \"peperell\", \"peperell\", \"perriwigs\", \"persian\", \"person\", \"person\", \"person\", \"person\", \"person\", \"person\", \"person\", \"person\", \"person\", \"person\", \"peruke\", \"peruke\", \"peto\", \"peto\", \"peto\", \"peto\", \"peto\", \"peto\", \"peto\", \"peto\", \"peto\", \"peto\", \"pickaxe\", \"pickaxe\", \"pickaxe\", \"pidworth\", \"piece\", \"piece\", \"piece\", \"piece\", \"piece\", \"piece\", \"piece\", \"piece\", \"piece\", \"piece\", \"pigsfeet\", \"pinner\", \"pintpot\", \"pintpot\", \"platelayer\", \"plead\", \"plead\", \"plead\", \"plead\", \"plead\", \"plead\", \"plead\", \"plead\", \"plead\", \"plead\", \"pneumatic\", \"pocket\", \"pocket\", \"pocket\", \"pocket\", \"pocket\", \"pocket\", \"pocket\", \"pocket\", \"pocket\", \"pocket\", \"poore\", \"portington\", \"postal\", \"postal\", \"postal\", \"postal\", \"postal\", \"postal\", \"postal\", \"postal\", \"postal\", \"postal\", \"postman\", \"postman\", \"postman\", \"postman\", \"postman\", \"postman\", \"postman\", \"postman\", \"potato\", \"potato\", \"potato\", \"potato\", \"potato\", \"potato\", \"potato\", \"potato\", \"potato\", \"potato\", \"poulter\", \"pretender\", \"prigg\", \"prigg\", \"print\", \"print\", \"print\", \"print\", \"print\", \"print\", \"print\", \"print\", \"print\", \"print\", \"prisoner\", \"prisoner\", \"prisoner\", \"prisoner\", \"prisoner\", \"prisoner\", \"prisoner\", \"prisoner\", \"prisoner\", \"prisoner\", \"produce\", \"produce\", \"produce\", \"produce\", \"produce\", \"produce\", \"produce\", \"produce\", \"produce\", \"produce\", \"property\", \"property\", \"property\", \"property\", \"property\", \"property\", \"property\", \"property\", \"property\", \"property\", \"prosecutor\", \"prosecutor\", \"prosecutor\", \"prosecutor\", \"prosecutor\", \"prosecutor\", \"prosecutor\", \"prosecutor\", \"prosecutor\", \"prosecutor\", \"prosser\", \"purceell\", \"q\", \"q\", \"q\", \"q\", \"q\", \"q\", \"q\", \"q\", \"q\", \"q\", \"rample\", \"rape\", \"rape\", \"rape\", \"rape\", \"rape\", \"rearden\", \"reardon\", \"receive\", \"receive\", \"receive\", \"receive\", \"receive\", \"receive\", \"receive\", \"receive\", \"receive\", \"receive\", \"reddeford\", \"reddon\", \"reddon\", \"reginal\", \"rein\", \"rein\", \"requester\", \"ribbon\", \"ribbon\", \"ribbon\", \"ribbon\", \"ribbon\", \"ribbon\", \"ribbon\", \"ribbon\", \"ribbon\", \"ribbon\", \"richardby\", \"rickard\", \"rickson\", \"riselys\", \"rishton\", \"rivett\", \"rodd\", \"rogerson\", \"rooke\", \"rooke\", \"rooke\", \"rooke\", \"rooke\", \"rooke\", \"rooke\", \"room\", \"room\", \"room\", \"room\", \"room\", \"room\", \"room\", \"room\", \"room\", \"room\", \"rooney\", \"rooney\", \"rooney\", \"rooney\", \"rooney\", \"rooney\", \"rooney\", \"rooney\", \"rooney\", \"rooney\", \"rothwell\", \"rowd\", \"rowlandson\", \"run\", \"run\", \"run\", \"run\", \"run\", \"run\", \"run\", \"run\", \"run\", \"run\", \"ryan\", \"ryan\", \"ryan\", \"ryan\", \"ryan\", \"ryan\", \"ryan\", \"ryan\", \"ryan\", \"s\", \"s\", \"s\", \"s\", \"s\", \"s\", \"s\", \"s\", \"s\", \"s\", \"sable\", \"sachell\", \"saucepans\", \"say\", \"say\", \"say\", \"say\", \"say\", \"say\", \"say\", \"say\", \"say\", \"say\", \"scarrolt\", \"scarrolt\", \"scarrolt\", \"scarrolt\", \"schofield\", \"schofield\", \"schofield\", \"schofield\", \"scissor\", \"scissor\", \"scissor\", \"scissor\", \"scissor\", \"scissor\", \"scissor\", \"scissor\", \"scissor\", \"seabrook\", \"sear\", \"seaton\", \"seaton\", \"see\", \"see\", \"see\", \"see\", \"see\", \"see\", \"see\", \"see\", \"see\", \"see\", \"send\", \"send\", \"send\", \"send\", \"send\", \"send\", \"send\", \"send\", \"send\", \"send\", \"seven\", \"seven\", \"seven\", \"seven\", \"seven\", \"seven\", \"seven\", \"seven\", \"seven\", \"seven\", \"shadwel\", \"shearman\", \"shearwood\", \"sheep\", \"sheep\", \"sheep\", \"sheep\", \"sheep\", \"sheep\", \"sheep\", \"sheep\", \"sheep\", \"sheep\", \"shop\", \"shop\", \"shop\", \"shop\", \"shop\", \"shop\", \"shop\", \"shop\", \"shop\", \"shop\", \"sill\", \"sill\", \"sill\", \"sill\", \"sill\", \"silver\", \"silver\", \"silver\", \"silver\", \"silver\", \"silver\", \"silver\", \"silver\", \"silver\", \"silver\", \"simond\", \"sinvin\", \"slater\", \"slater\", \"slipper\", \"slipper\", \"slipper\", \"slipper\", \"sloman\", \"smith\", \"smith\", \"smith\", \"smith\", \"smith\", \"smith\", \"smith\", \"smith\", \"smith\", \"smith\", \"snapper\", \"snapper\", \"snapper\", \"snufferstand\", \"sock\", \"sock\", \"sock\", \"soden\", \"soden\", \"sparrow\", \"speller\", \"spiegelhalter\", \"spikesman\", \"spreadborough\", \"spurrel\", \"spurrel\", \"spurrel\", \"spurrel\", \"spurrell\", \"spurrell\", \"spurrell\", \"spurrell\", \"spurrell\", \"spurrell\", \"spurrell\", \"spurrell\", \"spurrell\", \"st\", \"st\", \"st\", \"st\", \"st\", \"st\", \"st\", \"st\", \"st\", \"st\", \"stadward\", \"stanniland\", \"stapleton\", \"stapleton\", \"stapleton\", \"stapleton\", \"stapleton\", \"steal\", \"steal\", \"steal\", \"steal\", \"steal\", \"steal\", \"steal\", \"steal\", \"steal\", \"steal\", \"stow\", \"stow\", \"stow\", \"stow\", \"stow\", \"strangeway\", \"street\", \"street\", \"street\", \"street\", \"street\", \"street\", \"street\", \"street\", \"street\", \"street\", \"strike\", \"strike\", \"strike\", \"strike\", \"strike\", \"strike\", \"strike\", \"strike\", \"strike\", \"strike\", \"suddaby\", \"sumption\", \"sumption\", \"sunstreet\", \"surman\", \"sutch\", \"sutcliffe\", \"swanny\", \"swansdown\", \"swear\", \"swear\", \"swear\", \"swear\", \"swear\", \"swear\", \"swear\", \"swear\", \"swear\", \"swear\", \"take\", \"take\", \"take\", \"take\", \"take\", \"take\", \"take\", \"take\", \"take\", \"take\", \"tarrant\", \"teawen\", \"tell\", \"tell\", \"tell\", \"tell\", \"tell\", \"tell\", \"tell\", \"tell\", \"tell\", \"tell\", \"thane\", \"thing\", \"thing\", \"thing\", \"thing\", \"thing\", \"thing\", \"thing\", \"thing\", \"thing\", \"thing\", \"think\", \"think\", \"think\", \"think\", \"think\", \"think\", \"think\", \"think\", \"think\", \"think\", \"thodey\", \"thomas\", \"thomas\", \"thomas\", \"thomas\", \"thomas\", \"thomas\", \"thomas\", \"thomas\", \"thomas\", \"thomas\", \"till\", \"till\", \"till\", \"till\", \"till\", \"till\", \"till\", \"till\", \"till\", \"till\", \"tillot\", \"time\", \"time\", \"time\", \"time\", \"time\", \"time\", \"time\", \"time\", \"time\", \"time\", \"timepiece\", \"timepiece\", \"timepiece\", \"timepiece\", \"timepiece\", \"timepiece\", \"timepiece\", \"timepiece\", \"timepiece\", \"tivoli\", \"tod\", \"toilenett\", \"toogood\", \"toothbrush\", \"toothbrush\", \"tottlestreet\", \"trap\", \"trap\", \"trap\", \"trap\", \"trap\", \"trap\", \"trap\", \"trap\", \"trap\", \"trap\", \"trent\", \"trial\", \"trial\", \"trial\", \"trial\", \"trial\", \"trial\", \"trial\", \"trial\", \"trial\", \"trial\", \"trounce\", \"tuff\", \"tweed\", \"tweed\", \"twitch\", \"twoyear\", \"tyre\", \"value\", \"value\", \"value\", \"value\", \"value\", \"value\", \"value\", \"value\", \"value\", \"value\", \"vinall\", \"vinall\", \"waddy\", \"waggoner\", \"waggoner\", \"waggoner\", \"waggoner\", \"waldron\", \"waldron\", \"waldron\", \"walpole\", \"walpole\", \"want\", \"want\", \"want\", \"want\", \"want\", \"want\", \"want\", \"want\", \"want\", \"want\", \"warcup\", \"warcup\", \"wardle\", \"wardle\", \"wardle\", \"wardle\", \"warrenden\", \"warrenden\", \"waste\", \"waste\", \"waste\", \"waste\", \"waste\", \"waste\", \"waste\", \"waste\", \"waste\", \"waste\", \"watch\", \"watch\", \"watch\", \"watch\", \"watch\", \"watch\", \"watch\", \"watch\", \"watch\", \"watch\", \"watchman\", \"watchman\", \"watchman\", \"watchman\", \"watchman\", \"watchman\", \"watchman\", \"watchman\", \"watchman\", \"watchman\", \"waterglasse\", \"watkins\", \"watkins\", \"watkins\", \"watkins\", \"watkins\", \"watkins\", \"watkins\", \"watkins\", \"watkins\", \"watkins\", \"way\", \"way\", \"way\", \"way\", \"way\", \"way\", \"way\", \"way\", \"way\", \"way\", \"westall\", \"wetworth\", \"wharnsley\", \"wheelerbread\", \"wheelerbread\", \"wheelerbread\", \"wheelerbread\", \"wheelerbread\", \"wheelerbread\", \"wheelerbread\", \"wheelerbread\", \"wheelerbread\", \"wheelerbread\", \"whelon\", \"whipping\", \"whipping\", \"whipping\", \"whipping\", \"whitroe\", \"whitroe\", \"whitroe\", \"whittington\", \"wickhart\", \"wighton\", \"wighton\", \"wilcoxon\", \"william\", \"william\", \"william\", \"william\", \"william\", \"william\", \"william\", \"william\", \"william\", \"william\", \"winfield\", \"winfield\", \"womersley\", \"work\", \"work\", \"work\", \"work\", \"work\", \"work\", \"work\", \"work\", \"work\", \"work\", \"wpbsley\", \"write\", \"write\", \"write\", \"write\", \"write\", \"write\", \"write\", \"write\", \"write\", \"write\", \"xciv\", \"yarrow\", \"year\", \"year\", \"year\", \"year\", \"year\", \"year\", \"year\", \"year\", \"year\", \"year\", \"yeo\", \"yeo\", \"yeo\", \"yeo\", \"yeo\", \"yeo\", \"yeo\", \"yeo\", \"yes\", \"yes\", \"yes\", \"yes\", \"yes\", \"yes\", \"yes\", \"yes\", \"yes\", \"yes\", \"zephaniah\"]}, \"R\": 30, \"lambda.step\": 0.01, \"plot.opts\": {\"xlab\": \"PC1\", \"ylab\": \"PC2\"}, \"topic.order\": [5, 8, 6, 2, 1, 7, 3, 9, 4, 10]};\n",
       "\n",
       "function LDAvis_load_lib(url, callback){\n",
       "  var s = document.createElement('script');\n",
       "  s.src = url;\n",
       "  s.async = true;\n",
       "  s.onreadystatechange = s.onload = callback;\n",
       "  s.onerror = function(){console.warn(\"failed to load library \" + url);};\n",
       "  document.getElementsByTagName(\"head\")[0].appendChild(s);\n",
       "}\n",
       "\n",
       "if(typeof(LDAvis) !== \"undefined\"){\n",
       "   // already loaded: just create the visualization\n",
       "   !function(LDAvis){\n",
       "       new LDAvis(\"#\" + \"ldavis_el182522265711981008300318068\", ldavis_el182522265711981008300318068_data);\n",
       "   }(LDAvis);\n",
       "}else if(typeof define === \"function\" && define.amd){\n",
       "   // require.js is available: use it to load d3/LDAvis\n",
       "   require.config({paths: {d3: \"https://d3js.org/d3.v5\"}});\n",
       "   require([\"d3\"], function(d3){\n",
       "      window.d3 = d3;\n",
       "      LDAvis_load_lib(\"https://cdn.jsdelivr.net/gh/bmabey/pyLDAvis@3.4.0/pyLDAvis/js/ldavis.v3.0.0.js\", function(){\n",
       "        new LDAvis(\"#\" + \"ldavis_el182522265711981008300318068\", ldavis_el182522265711981008300318068_data);\n",
       "      });\n",
       "    });\n",
       "}else{\n",
       "    // require.js not available: dynamically load d3 & LDAvis\n",
       "    LDAvis_load_lib(\"https://d3js.org/d3.v5.js\", function(){\n",
       "         LDAvis_load_lib(\"https://cdn.jsdelivr.net/gh/bmabey/pyLDAvis@3.4.0/pyLDAvis/js/ldavis.v3.0.0.js\", function(){\n",
       "                 new LDAvis(\"#\" + \"ldavis_el182522265711981008300318068\", ldavis_el182522265711981008300318068_data);\n",
       "            })\n",
       "         });\n",
       "}\n",
       "</script>"
      ],
      "text/plain": [
       "<IPython.core.display.HTML object>"
      ]
     },
     "execution_count": 42,
     "metadata": {},
     "output_type": "execute_result"
    }
   ],
   "source": [
    "# now let's display our data\n",
    "pyLDAvis.display(lda_data)"
   ]
  },
  {
   "cell_type": "code",
   "execution_count": 43,
   "metadata": {},
   "outputs": [],
   "source": [
    "# if we like our results we can save our data as html\n",
    "pyLDAvis.save_html(lda_data, 'lda_10_topics.html')"
   ]
  },
  {
   "cell_type": "markdown",
   "metadata": {},
   "source": [
    "## Conclusions on LDA model\n",
    "\n",
    "We are getting a lot of overlap on the topics. This is not surprising because the documents are quite short. If we had longer documents we would get better results.\n",
    "\n",
    "Also we are getting some topics that are not very meaningful. The short words are not very meaningful. We can try to remove the short words and see what happens.\n",
    "\n",
    "## Next steps\n",
    "\n",
    "We can try to remove the short words and see what happens.\n",
    "\n",
    "We can try to use a different number of topics and see what happens.\n",
    "\n"
   ]
  },
  {
   "cell_type": "markdown",
   "metadata": {},
   "source": [
    "## Futher discussion\n",
    "\n",
    "1. Differences between clustering and LDA models\n",
    "2. How to determine the number of clusters\n",
    "3. How about supervised learning models?"
   ]
  },
  {
   "cell_type": "code",
   "execution_count": null,
   "metadata": {},
   "outputs": [],
   "source": []
  },
  {
   "cell_type": "markdown",
   "metadata": {},
   "source": []
  }
 ],
 "metadata": {
  "kernelspec": {
   "display_name": "venv",
   "language": "python",
   "name": "python3"
  },
  "language_info": {
   "codemirror_mode": {
    "name": "ipython",
    "version": 3
   },
   "file_extension": ".py",
   "mimetype": "text/x-python",
   "name": "python",
   "nbconvert_exporter": "python",
   "pygments_lexer": "ipython3",
   "version": "3.12.3"
  },
  "orig_nbformat": 4
 },
 "nbformat": 4,
 "nbformat_minor": 2
}
