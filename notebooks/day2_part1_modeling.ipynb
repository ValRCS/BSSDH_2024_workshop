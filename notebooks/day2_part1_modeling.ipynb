{
 "cells": [
  {
   "cell_type": "markdown",
   "metadata": {},
   "source": [
    "# Building models \n",
    "\n",
    "Now that we've created some embeddings, we can use them to build models. We'll start with a k-means clustering model. We'll use the embeddings to cluster the data into 10 clusters. We'll then use the cluster assignments to create a new feature for each data point. We'll then use this new feature to train a logistic regression model to predict the target variable.\n",
    "\n",
    "Time allowing we will build a Latent Dirichlet Allocation (LDA) model. LDA is a topic modeling technique that is often used to discover topics in text data. "
   ]
  },
  {
   "cell_type": "markdown",
   "metadata": {},
   "source": [
    "## Clustering\n",
    "\n",
    "Clustering is an unsupervised learning technique that groups data points into clusters based on their similarity. The similarity is measured using a distance metric. The most common distance metric is Euclidean distance. The goal of clustering is to group data points that are similar to each other into the same cluster.\n",
    "\n",
    "### Uses of clustering\n",
    "\n",
    "Clustering leaves room for interpretation. There is no right or wrong answer. This makes clustering useful for exploratory data analysis. Clustering can help us understand the structure of the data. It can help us identify outliers. It can help us identify groups of similar data points. It can help us identify groups of dissimilar data points. It can help us identify groups of data points that are similar to each other but dissimilar to data points in other groups.\n",
    "\n",
    "As far as text analysis goes, clustering can help us identify groups of similar documents. Then we as human curators can label the clusters. This can help us understand the structure of the corpus. It can help us identify outliers. It can help us identify groups of similar documents. It can help us identify groups of dissimilar documents. It can help us identify groups of documents that are similar to each other but dissimilar to documents in other groups.\n",
    "\n",
    "### k-means clustering\n",
    "\n",
    "The most common clustering algorithm is k-means clustering. The algorithm works as follows:\n",
    "\n",
    "1. Randomly initialize k cluster centroids\n",
    "2. Assign each data point to the cluster whose centroid is closest to it\n",
    "3. Recompute the cluster centroids\n",
    "4. Repeat steps 2 and 3 until the cluster assignments stop changing\n",
    "\n",
    "There are some edge cases that can cause the algorithm to fail to converge. For example, if a cluster ends up with no data points assigned to it, then the centroid of that cluster will be undefined. In this case, the algorithm will fail to converge. To avoid this, we can use a modified version of the algorithm that allows for empty clusters. This modified version of the algorithm is called k-means++.\n",
    "\n",
    "More about k-means: https://en.wikipedia.org/wiki/K-means_clustering\n",
    "\n",
    "### k-means in practice\n",
    "\n",
    "We do not have to implement the k-means algorithm ourselves. We can use the implementation provided by scikit-learn. The scikit-learn implementation of k-means uses the k-means++ initialization method by default."
   ]
  },
  {
   "cell_type": "markdown",
   "metadata": {},
   "source": [
    "### Various Clustering Algorithms on Scikit-Learn\n",
    "\n",
    "![Clustering Algorithms](https://scikit-learn.org/stable/_images/sphx_glr_plot_cluster_comparison_001.png)"
   ]
  },
  {
   "cell_type": "code",
   "execution_count": 1,
   "metadata": {},
   "outputs": [
    {
     "name": "stdout",
     "output_type": "stream",
     "text": [
      "Python 3.12.3 (tags/v3.12.3:f6650f9, Apr  9 2024, 14:05:25) [MSC v.1938 64 bit (AMD64)]\n",
      "Pandas 2.2.2\n",
      "Scikit-learn 1.5.0\n",
      "Gensim 4.3.3\n"
     ]
    }
   ],
   "source": [
    "# Building models from our embeddings\n",
    "\n",
    "# As before we will be using Path for our file work\n",
    "\n",
    "# python version\n",
    "import sys\n",
    "print(\"Python\", sys.version)\n",
    "\n",
    "from pathlib import Path\n",
    "\n",
    "# we will be using pandas for our dataframes\n",
    "import pandas as pd\n",
    "# version\n",
    "print(\"Pandas\", pd.__version__)\n",
    "\n",
    "# we will want to use scikit-learn clustering algorithms for our models\n",
    "# import sklearn # sklearn is a bit library so better idea would be to import specific modules\n",
    "from sklearn.cluster import KMeans # KMeans is a clustering algorithm\n",
    "# sklearn version\n",
    "from sklearn import __version__ as sklearn_version # we can import just a single variable and rename it\n",
    "print(\"Scikit-learn\", sklearn_version)\n",
    "\n",
    "# we will also want to use gensim for LDAModel\n",
    "import gensim # gensim is also pretty big so we could have imported specific modules\n",
    "# gensim version\n",
    "print(\"Gensim\", gensim.__version__)\n"
   ]
  },
  {
   "cell_type": "code",
   "execution_count": 2,
   "metadata": {},
   "outputs": [
    {
     "name": "stdout",
     "output_type": "stream",
     "text": [
      "Will import data from https://github.com/ValRCS/BSSDH_2024_workshop/raw/main/data/old_bailey_sample_1720_1913_cleaned_embeddings.pkl\n"
     ]
    }
   ],
   "source": [
    "# url for our data in a pickle format on our repository\n",
    "url = \"https://github.com/ValRCS/BSSDH_2024_workshop/raw/main/data/old_bailey_sample_1720_1913_cleaned_embeddings.pkl\"\n",
    "print(\"Will import data from\", url)"
   ]
  },
  {
   "cell_type": "code",
   "execution_count": 3,
   "metadata": {},
   "outputs": [
    {
     "name": "stdout",
     "output_type": "stream",
     "text": [
      "Dataframe shape (1637, 13)\n"
     ]
    },
    {
     "data": {
      "text/html": [
       "<div>\n",
       "<style scoped>\n",
       "    .dataframe tbody tr th:only-of-type {\n",
       "        vertical-align: middle;\n",
       "    }\n",
       "\n",
       "    .dataframe tbody tr th {\n",
       "        vertical-align: top;\n",
       "    }\n",
       "\n",
       "    .dataframe thead th {\n",
       "        text-align: right;\n",
       "    }\n",
       "</style>\n",
       "<table border=\"1\" class=\"dataframe\">\n",
       "  <thead>\n",
       "    <tr style=\"text-align: right;\">\n",
       "      <th></th>\n",
       "      <th>year</th>\n",
       "      <th>trial_number</th>\n",
       "      <th>punishment</th>\n",
       "      <th>text</th>\n",
       "      <th>dirty_len</th>\n",
       "      <th>clean_len</th>\n",
       "      <th>words</th>\n",
       "      <th>word_count</th>\n",
       "      <th>word_count_cleaned</th>\n",
       "      <th>words_lemmatized</th>\n",
       "      <th>word_count_cleaned_no_digits</th>\n",
       "      <th>top_5_words_tfidf</th>\n",
       "      <th>doc2vec</th>\n",
       "    </tr>\n",
       "  </thead>\n",
       "  <tbody>\n",
       "    <tr>\n",
       "      <th>0</th>\n",
       "      <td>1720</td>\n",
       "      <td>1</td>\n",
       "      <td>Transportation</td>\n",
       "      <td>of st leonard eastcheap was indicted for felon...</td>\n",
       "      <td>705</td>\n",
       "      <td>684</td>\n",
       "      <td>[st, leonard, eastcheap, indicted, feloniously...</td>\n",
       "      <td>129</td>\n",
       "      <td>66</td>\n",
       "      <td>[st, leonard, eastcheap, indict, feloniously, ...</td>\n",
       "      <td>60</td>\n",
       "      <td>[(confest, 0.1972391174872452), (depose, 0.215...</td>\n",
       "      <td>[0.5782519, -0.7623888, 0.6419972, -0.01352496...</td>\n",
       "    </tr>\n",
       "    <tr>\n",
       "      <th>1</th>\n",
       "      <td>1720</td>\n",
       "      <td>2</td>\n",
       "      <td>Transportation</td>\n",
       "      <td>alice jones of st michaels cornhill was indict...</td>\n",
       "      <td>1087</td>\n",
       "      <td>1053</td>\n",
       "      <td>[alice, jones, st, michaels, cornhill, indicte...</td>\n",
       "      <td>200</td>\n",
       "      <td>87</td>\n",
       "      <td>[alice, jones, st, michaels, cornhill, indict,...</td>\n",
       "      <td>82</td>\n",
       "      <td>[(shop, 0.18964859164396325), (bermundas, 0.19...</td>\n",
       "      <td>[0.539647, 0.2990364, 0.90089196, 0.06318843, ...</td>\n",
       "    </tr>\n",
       "    <tr>\n",
       "      <th>2</th>\n",
       "      <td>1720</td>\n",
       "      <td>3</td>\n",
       "      <td>Transportation</td>\n",
       "      <td>james wilson of st katharine coleman was indic...</td>\n",
       "      <td>904</td>\n",
       "      <td>883</td>\n",
       "      <td>[james, wilson, st, katharine, coleman, indict...</td>\n",
       "      <td>177</td>\n",
       "      <td>79</td>\n",
       "      <td>[james, wilson, st, katharine, coleman, indict...</td>\n",
       "      <td>71</td>\n",
       "      <td>[(hung, 0.21832648950390215), (deposed, 0.2419...</td>\n",
       "      <td>[0.46213368, -0.7192513, 1.1036029, 0.02122612...</td>\n",
       "    </tr>\n",
       "    <tr>\n",
       "      <th>3</th>\n",
       "      <td>1720</td>\n",
       "      <td>4</td>\n",
       "      <td>Transportation</td>\n",
       "      <td>james mercy alias masse of st andrew undershaf...</td>\n",
       "      <td>804</td>\n",
       "      <td>778</td>\n",
       "      <td>[james, mercy, alias, masse, st, andrew, under...</td>\n",
       "      <td>143</td>\n",
       "      <td>67</td>\n",
       "      <td>[james, mercy, alias, masse, st, andrew, under...</td>\n",
       "      <td>64</td>\n",
       "      <td>[(undershaft, 0.2126517359898944), (lockt, 0.2...</td>\n",
       "      <td>[-0.18796237, -0.011926579, 0.8681372, -0.6687...</td>\n",
       "    </tr>\n",
       "    <tr>\n",
       "      <th>4</th>\n",
       "      <td>1720</td>\n",
       "      <td>5</td>\n",
       "      <td>Transportation</td>\n",
       "      <td>benjamin cook alias richard smith of st mary a...</td>\n",
       "      <td>483</td>\n",
       "      <td>466</td>\n",
       "      <td>[benjamin, cook, alias, richard, smith, st, ma...</td>\n",
       "      <td>88</td>\n",
       "      <td>46</td>\n",
       "      <td>[benjamin, cook, alias, richard, smith, st, ma...</td>\n",
       "      <td>43</td>\n",
       "      <td>[(stopt, 0.23416420335477436), (abchurch, 0.26...</td>\n",
       "      <td>[0.13697092, 0.5740971, 0.84388906, -0.2005741...</td>\n",
       "    </tr>\n",
       "  </tbody>\n",
       "</table>\n",
       "</div>"
      ],
      "text/plain": [
       "   year  trial_number      punishment  \\\n",
       "0  1720             1  Transportation   \n",
       "1  1720             2  Transportation   \n",
       "2  1720             3  Transportation   \n",
       "3  1720             4  Transportation   \n",
       "4  1720             5  Transportation   \n",
       "\n",
       "                                                text  dirty_len  clean_len  \\\n",
       "0  of st leonard eastcheap was indicted for felon...        705        684   \n",
       "1  alice jones of st michaels cornhill was indict...       1087       1053   \n",
       "2  james wilson of st katharine coleman was indic...        904        883   \n",
       "3  james mercy alias masse of st andrew undershaf...        804        778   \n",
       "4  benjamin cook alias richard smith of st mary a...        483        466   \n",
       "\n",
       "                                               words  word_count  \\\n",
       "0  [st, leonard, eastcheap, indicted, feloniously...         129   \n",
       "1  [alice, jones, st, michaels, cornhill, indicte...         200   \n",
       "2  [james, wilson, st, katharine, coleman, indict...         177   \n",
       "3  [james, mercy, alias, masse, st, andrew, under...         143   \n",
       "4  [benjamin, cook, alias, richard, smith, st, ma...          88   \n",
       "\n",
       "   word_count_cleaned                                   words_lemmatized  \\\n",
       "0                  66  [st, leonard, eastcheap, indict, feloniously, ...   \n",
       "1                  87  [alice, jones, st, michaels, cornhill, indict,...   \n",
       "2                  79  [james, wilson, st, katharine, coleman, indict...   \n",
       "3                  67  [james, mercy, alias, masse, st, andrew, under...   \n",
       "4                  46  [benjamin, cook, alias, richard, smith, st, ma...   \n",
       "\n",
       "   word_count_cleaned_no_digits  \\\n",
       "0                            60   \n",
       "1                            82   \n",
       "2                            71   \n",
       "3                            64   \n",
       "4                            43   \n",
       "\n",
       "                                   top_5_words_tfidf  \\\n",
       "0  [(confest, 0.1972391174872452), (depose, 0.215...   \n",
       "1  [(shop, 0.18964859164396325), (bermundas, 0.19...   \n",
       "2  [(hung, 0.21832648950390215), (deposed, 0.2419...   \n",
       "3  [(undershaft, 0.2126517359898944), (lockt, 0.2...   \n",
       "4  [(stopt, 0.23416420335477436), (abchurch, 0.26...   \n",
       "\n",
       "                                             doc2vec  \n",
       "0  [0.5782519, -0.7623888, 0.6419972, -0.01352496...  \n",
       "1  [0.539647, 0.2990364, 0.90089196, 0.06318843, ...  \n",
       "2  [0.46213368, -0.7192513, 1.1036029, 0.02122612...  \n",
       "3  [-0.18796237, -0.011926579, 0.8681372, -0.6687...  \n",
       "4  [0.13697092, 0.5740971, 0.84388906, -0.2005741...  "
      ]
     },
     "execution_count": 3,
     "metadata": {},
     "output_type": "execute_result"
    }
   ],
   "source": [
    "# lets import our data into a dataframe\n",
    "df = pd.read_pickle(url, compression='zip') # we need to specify compression as zip else we will get an error for load unpickling\n",
    "# so your pickle might not have been compressed then you do not need to specify compression\n",
    "# shape of our dataframe\n",
    "print(\"Dataframe shape\", df.shape)\n",
    "# lets see first 5 rows\n",
    "df.head()\n",
    "# whew we are back in business!"
   ]
  },
  {
   "cell_type": "code",
   "execution_count": 4,
   "metadata": {},
   "outputs": [
    {
     "name": "stdout",
     "output_type": "stream",
     "text": [
      "Number of values in doc2vec column for first row 50\n"
     ]
    }
   ],
   "source": [
    "# let's print how many values are in doc2vec column for single row\n",
    "print(\"Number of values in doc2vec column for first row\", len(df.doc2vec[0]))"
   ]
  },
  {
   "cell_type": "code",
   "execution_count": 5,
   "metadata": {},
   "outputs": [
    {
     "name": "stdout",
     "output_type": "stream",
     "text": [
      "Range of values in doc2vec column for first row -1.173319 1.5427929\n"
     ]
    }
   ],
   "source": [
    "# what is range of values in doc2vec column for first row\n",
    "print(\"Range of values in doc2vec column for first row\", min(df.doc2vec[0]), max(df.doc2vec[0]))"
   ]
  },
  {
   "cell_type": "code",
   "execution_count": 6,
   "metadata": {},
   "outputs": [
    {
     "name": "stdout",
     "output_type": "stream",
     "text": [
      "Range of values across all rows for doc2vec column 50 50\n"
     ]
    }
   ],
   "source": [
    "# what is range of values across all rows for values inside doc2vec column?\n",
    "\n",
    "print(\"Range of values across all rows for doc2vec column\", df.doc2vec.apply(lambda x: len(x)).min(), df.doc2vec.apply(lambda x: len(x)).max())\n",
    "# not quite what we want but it is good to know we have 50 values in each column of doc2vec for each row"
   ]
  },
  {
   "cell_type": "code",
   "execution_count": 7,
   "metadata": {},
   "outputs": [
    {
     "name": "stdout",
     "output_type": "stream",
     "text": [
      "Numpy 1.26.4\n",
      "Number of values in our list 81850\n",
      "SHould be same as 1637 * 50  81850\n"
     ]
    },
    {
     "data": {
      "text/plain": [
       "count    81850.000000\n",
       "mean        -0.041636\n",
       "std          1.287664\n",
       "min        -14.923249\n",
       "25%         -0.525724\n",
       "50%         -0.036388\n",
       "75%          0.450801\n",
       "max         17.326731\n",
       "dtype: float64"
      ]
     },
     "execution_count": 7,
     "metadata": {},
     "output_type": "execute_result"
    }
   ],
   "source": [
    "# what we want is figure out min and max values for values inside list of doc2vec column\n",
    "\n",
    "# easiest would be to create a big list of all values in doc2vec column and then find min and max values\n",
    "# we can use list comprehension for that\n",
    "# we will use numpy for min and max functions\n",
    "\n",
    "import numpy as np\n",
    "# version\n",
    "print(\"Numpy\", np.__version__)\n",
    "\n",
    "# one way to flatten our list of lists:\n",
    "all_doc2vec_values = [value for row in df.doc2vec for value in row] # this trick is due to https://stackoverflow.com/questions/952914/how-to-make-a-flat-list-out-of-list-of-lists\n",
    "# provided by Python guru Alex Martelli - author of some nice Python books\n",
    "# it looks the wrong way around but it works\n",
    "# there are other ways to flatten a list of lists but this is one of the fastest\n",
    "\n",
    "# how many values we have in our list\n",
    "print(\"Number of values in our list\", len(all_doc2vec_values))\n",
    "print(\"SHould be same as 1637 * 50 \", 1637 * 50)\n",
    "\n",
    "\n",
    "# let's convert list to pandas series and get some statistics\n",
    "all_doc2vec_values_series = pd.Series(all_doc2vec_values)\n",
    "# let's get some statistics\n",
    "all_doc2vec_values_series.describe()\n",
    "# so it looks like a nice centered distribution with standard deviation or araound 1.28\n"
   ]
  },
  {
   "cell_type": "code",
   "execution_count": 8,
   "metadata": {},
   "outputs": [
    {
     "name": "stdout",
     "output_type": "stream",
     "text": [
      "Seaborn 0.13.2\n"
     ]
    },
    {
     "data": {
      "text/plain": [
       "<Axes: ylabel='Count'>"
      ]
     },
     "execution_count": 8,
     "metadata": {},
     "output_type": "execute_result"
    },
    {
     "data": {
      "image/png": "[encoded data removed]",
      "text/plain": [
       "<Figure size 640x480 with 1 Axes>"
      ]
     },
     "metadata": {},
     "output_type": "display_data"
    }
   ],
   "source": [
    "# let's plot the distribution of our values\n",
    "import matplotlib.pyplot as plt\n",
    "# we will use seaborn for plotting\n",
    "import seaborn as sns\n",
    "# if you do not have seaborn installed you can install it with pip install seaborn\n",
    "# seaborn version\n",
    "print(\"Seaborn\", sns.__version__)\n",
    "# let's plot a histogram of our values\n",
    "sns.histplot(all_doc2vec_values_series)\n"
   ]
  },
  {
   "cell_type": "markdown",
   "metadata": {},
   "source": [
    "### Normal distribution\n",
    "\n",
    "Now that certainly looks like a normal distribution - also known as Gaussian distribution.\n",
    "\n",
    "Link on wikipedia: https://en.wikipedia.org/wiki/Normal_distribution\n",
    "\n",
    "![Normal](https://upload.wikimedia.org/wikipedia/commons/thumb/8/8c/Standard_deviation_diagram.svg/525px-Standard_deviation_diagram.svg.png)\n",
    "\n",
    "We would have to read the paper behind word2vec and doc2vec to see how this type of distribution was achieved.\n",
    "\n",
    "Now for each document the values will not be as smooth which is good because we want to see the differences between documents."
   ]
  },
  {
   "cell_type": "markdown",
   "metadata": {},
   "source": [
    "## Building k-means clustering model"
   ]
  },
  {
   "cell_type": "code",
   "execution_count": 9,
   "metadata": {},
   "outputs": [
    {
     "name": "stdout",
     "output_type": "stream",
     "text": [
      "Dimensions of our numpy array (1637,)\n"
     ]
    }
   ],
   "source": [
    "# but enough playing around, let's build our kmeans model\n",
    "\n",
    "# we will use KMeans from sklearn\n",
    "# we will start with 5 clusters\n",
    "# we will use random_state=42 for reproducibility\n",
    "\n",
    "kmeans_model = KMeans(n_clusters=5, random_state=42)\n",
    "# our features will be doc2vec column\n",
    "\n",
    "# we can pass in numpy array or pandas dataframe\n",
    "# we will pass in numpy array\n",
    "\n",
    "# let's print dimensions of our numpy array\n",
    "X = df.doc2vec.to_numpy() # it is very common to use X for features\n",
    "# why X it indicates a matrix of features, so generally a 2D array\n",
    "print(\"Dimensions of our numpy array\", X.shape)\n",
    "\n",
    " # kmeans model expects numpy array of dimensions (n_samples, n_features)"
   ]
  },
  {
   "cell_type": "code",
   "execution_count": 10,
   "metadata": {},
   "outputs": [
    {
     "name": "stdout",
     "output_type": "stream",
     "text": [
      "First row of our numpy array [ 0.5782519  -0.7623888   0.6419972  -0.01352497 -0.02889981  0.33993718\n",
      "  0.5432642  -0.79231936 -0.17276347  0.2894747  -0.1814085  -1.173319\n",
      " -0.6315174  -0.39531848 -0.8824809   0.44549268 -0.00762038 -0.2669511\n",
      "  0.2836903   0.31825238 -0.46722114 -0.12032476  1.5427929  -0.16820197\n",
      " -0.5314884  -1.1173726  -0.06433648 -1.0612508   0.8740516   0.24408202\n",
      "  0.44927603 -0.25962996 -0.23105077  0.64783835  0.34015447  0.6314114\n",
      "  0.5084683  -0.12150066 -0.8327542  -0.24457273  0.46525353 -0.43322456\n",
      "  0.48058265 -0.8931239  -0.274334   -0.0263922   0.47523484 -0.10395955\n",
      "  0.0836495   0.5372703 ]\n"
     ]
    }
   ],
   "source": [
    "# we got one dimension right, but we need to reshape our array to have 50 features\n",
    "# let's check out first row\n",
    "print(\"First row of our numpy array\", X[0])\n",
    "# that certainly looks like 50 features "
   ]
  },
  {
   "cell_type": "code",
   "execution_count": 11,
   "metadata": {},
   "outputs": [
    {
     "name": "stdout",
     "output_type": "stream",
     "text": [
      "Type of our numpy array <class 'numpy.ndarray'>\n",
      "Type of our numpy array <class 'numpy.ndarray'>\n",
      "Type of our first value <class 'numpy.float32'>\n",
      "First value of first value 0.5782519\n",
      "Last value of first value 0.5372703\n"
     ]
    }
   ],
   "source": [
    "# what type is it though>?\n",
    "print(\"Type of our numpy array\", type(X))\n",
    "print(\"Type of our numpy array\", type(X[0]))\n",
    "# how about first value\n",
    "print(\"Type of our first value\", type(X[0][0]))\n",
    "# print first value of first value\n",
    "print(\"First value of first value\", X[0][0])\n",
    "# print last value of first value\n",
    "print(\"Last value of first value\", X[0][-1])\n",
    "# so we can certainly access values in our numpy array as if it was a list of lists\n",
    "# for some reason shape is not showing 50 features"
   ]
  },
  {
   "cell_type": "code",
   "execution_count": 12,
   "metadata": {},
   "outputs": [
    {
     "name": "stdout",
     "output_type": "stream",
     "text": [
      "First row of our list of lists [0.5782519, -0.7623888, 0.6419972, -0.013524966, -0.028899806, 0.33993718, 0.5432642, -0.79231936, -0.17276347, 0.2894747, -0.1814085, -1.173319, -0.6315174, -0.39531848, -0.8824809, 0.44549268, -0.007620384, -0.2669511, 0.2836903, 0.31825238, -0.46722114, -0.12032476, 1.5427929, -0.16820197, -0.5314884, -1.1173726, -0.06433648, -1.0612508, 0.8740516, 0.24408202, 0.44927603, -0.25962996, -0.23105077, 0.64783835, 0.34015447, 0.6314114, 0.5084683, -0.12150066, -0.8327542, -0.24457273, 0.46525353, -0.43322456, 0.48058265, -0.8931239, -0.274334, -0.026392203, 0.47523484, -0.103959545, 0.0836495, 0.5372703]\n"
     ]
    }
   ],
   "source": [
    "# for the time being we will convert it to list of lists which is much less efficient but easier to work with\n",
    "X_list = df.doc2vec.apply(lambda x: list(x)).to_list()\n",
    "# let's check out first row\n",
    "print(\"First row of our list of lists\", X_list[0])"
   ]
  },
  {
   "cell_type": "code",
   "execution_count": 15,
   "metadata": {},
   "outputs": [],
   "source": [
    "# let's try fitting Kmeans to X\n",
    "# kmeans_model.fit(X) # this might throw an error because of bad shape"
   ]
  },
  {
   "cell_type": "code",
   "execution_count": 13,
   "metadata": {},
   "outputs": [
    {
     "name": "stdout",
     "output_type": "stream",
     "text": [
      "Shape of our converted numpy array (1637, 50)\n"
     ]
    }
   ],
   "source": [
    "# let's convert it to numpy array\n",
    "X_converted = np.array(X_list)\n",
    "# shape\n",
    "print(\"Shape of our converted numpy array\", X_converted.shape)\n"
   ]
  },
  {
   "cell_type": "code",
   "execution_count": 17,
   "metadata": {},
   "outputs": [
    {
     "data": {
      "text/html": [
       "<style>#sk-container-id-2 {\n",
       "  /* Definition of color scheme common for light and dark mode */\n",
       "  --sklearn-color-text: black;\n",
       "  --sklearn-color-line: gray;\n",
       "  /* Definition of color scheme for unfitted estimators */\n",
       "  --sklearn-color-unfitted-level-0: #fff5e6;\n",
       "  --sklearn-color-unfitted-level-1: #f6e4d2;\n",
       "  --sklearn-color-unfitted-level-2: #ffe0b3;\n",
       "  --sklearn-color-unfitted-level-3: chocolate;\n",
       "  /* Definition of color scheme for fitted estimators */\n",
       "  --sklearn-color-fitted-level-0: #f0f8ff;\n",
       "  --sklearn-color-fitted-level-1: #d4ebff;\n",
       "  --sklearn-color-fitted-level-2: #b3dbfd;\n",
       "  --sklearn-color-fitted-level-3: cornflowerblue;\n",
       "\n",
       "  /* Specific color for light theme */\n",
       "  --sklearn-color-text-on-default-background: var(--sg-text-color, var(--theme-code-foreground, var(--jp-content-font-color1, black)));\n",
       "  --sklearn-color-background: var(--sg-background-color, var(--theme-background, var(--jp-layout-color0, white)));\n",
       "  --sklearn-color-border-box: var(--sg-text-color, var(--theme-code-foreground, var(--jp-content-font-color1, black)));\n",
       "  --sklearn-color-icon: #696969;\n",
       "\n",
       "  @media (prefers-color-scheme: dark) {\n",
       "    /* Redefinition of color scheme for dark theme */\n",
       "    --sklearn-color-text-on-default-background: var(--sg-text-color, var(--theme-code-foreground, var(--jp-content-font-color1, white)));\n",
       "    --sklearn-color-background: var(--sg-background-color, var(--theme-background, var(--jp-layout-color0, #111)));\n",
       "    --sklearn-color-border-box: var(--sg-text-color, var(--theme-code-foreground, var(--jp-content-font-color1, white)));\n",
       "    --sklearn-color-icon: #878787;\n",
       "  }\n",
       "}\n",
       "\n",
       "#sk-container-id-2 {\n",
       "  color: var(--sklearn-color-text);\n",
       "}\n",
       "\n",
       "#sk-container-id-2 pre {\n",
       "  padding: 0;\n",
       "}\n",
       "\n",
       "#sk-container-id-2 input.sk-hidden--visually {\n",
       "  border: 0;\n",
       "  clip: rect(1px 1px 1px 1px);\n",
       "  clip: rect(1px, 1px, 1px, 1px);\n",
       "  height: 1px;\n",
       "  margin: -1px;\n",
       "  overflow: hidden;\n",
       "  padding: 0;\n",
       "  position: absolute;\n",
       "  width: 1px;\n",
       "}\n",
       "\n",
       "#sk-container-id-2 div.sk-dashed-wrapped {\n",
       "  border: 1px dashed var(--sklearn-color-line);\n",
       "  margin: 0 0.4em 0.5em 0.4em;\n",
       "  box-sizing: border-box;\n",
       "  padding-bottom: 0.4em;\n",
       "  background-color: var(--sklearn-color-background);\n",
       "}\n",
       "\n",
       "#sk-container-id-2 div.sk-container {\n",
       "  /* jupyter's `normalize.less` sets `[hidden] { display: none; }`\n",
       "     but bootstrap.min.css set `[hidden] { display: none !important; }`\n",
       "     so we also need the `!important` here to be able to override the\n",
       "     default hidden behavior on the sphinx rendered scikit-learn.org.\n",
       "     See: https://github.com/scikit-learn/scikit-learn/issues/21755 */\n",
       "  display: inline-block !important;\n",
       "  position: relative;\n",
       "}\n",
       "\n",
       "#sk-container-id-2 div.sk-text-repr-fallback {\n",
       "  display: none;\n",
       "}\n",
       "\n",
       "div.sk-parallel-item,\n",
       "div.sk-serial,\n",
       "div.sk-item {\n",
       "  /* draw centered vertical line to link estimators */\n",
       "  background-image: linear-gradient(var(--sklearn-color-text-on-default-background), var(--sklearn-color-text-on-default-background));\n",
       "  background-size: 2px 100%;\n",
       "  background-repeat: no-repeat;\n",
       "  background-position: center center;\n",
       "}\n",
       "\n",
       "/* Parallel-specific style estimator block */\n",
       "\n",
       "#sk-container-id-2 div.sk-parallel-item::after {\n",
       "  content: \"\";\n",
       "  width: 100%;\n",
       "  border-bottom: 2px solid var(--sklearn-color-text-on-default-background);\n",
       "  flex-grow: 1;\n",
       "}\n",
       "\n",
       "#sk-container-id-2 div.sk-parallel {\n",
       "  display: flex;\n",
       "  align-items: stretch;\n",
       "  justify-content: center;\n",
       "  background-color: var(--sklearn-color-background);\n",
       "  position: relative;\n",
       "}\n",
       "\n",
       "#sk-container-id-2 div.sk-parallel-item {\n",
       "  display: flex;\n",
       "  flex-direction: column;\n",
       "}\n",
       "\n",
       "#sk-container-id-2 div.sk-parallel-item:first-child::after {\n",
       "  align-self: flex-end;\n",
       "  width: 50%;\n",
       "}\n",
       "\n",
       "#sk-container-id-2 div.sk-parallel-item:last-child::after {\n",
       "  align-self: flex-start;\n",
       "  width: 50%;\n",
       "}\n",
       "\n",
       "#sk-container-id-2 div.sk-parallel-item:only-child::after {\n",
       "  width: 0;\n",
       "}\n",
       "\n",
       "/* Serial-specific style estimator block */\n",
       "\n",
       "#sk-container-id-2 div.sk-serial {\n",
       "  display: flex;\n",
       "  flex-direction: column;\n",
       "  align-items: center;\n",
       "  background-color: var(--sklearn-color-background);\n",
       "  padding-right: 1em;\n",
       "  padding-left: 1em;\n",
       "}\n",
       "\n",
       "\n",
       "/* Toggleable style: style used for estimator/Pipeline/ColumnTransformer box that is\n",
       "clickable and can be expanded/collapsed.\n",
       "- Pipeline and ColumnTransformer use this feature and define the default style\n",
       "- Estimators will overwrite some part of the style using the `sk-estimator` class\n",
       "*/\n",
       "\n",
       "/* Pipeline and ColumnTransformer style (default) */\n",
       "\n",
       "#sk-container-id-2 div.sk-toggleable {\n",
       "  /* Default theme specific background. It is overwritten whether we have a\n",
       "  specific estimator or a Pipeline/ColumnTransformer */\n",
       "  background-color: var(--sklearn-color-background);\n",
       "}\n",
       "\n",
       "/* Toggleable label */\n",
       "#sk-container-id-2 label.sk-toggleable__label {\n",
       "  cursor: pointer;\n",
       "  display: block;\n",
       "  width: 100%;\n",
       "  margin-bottom: 0;\n",
       "  padding: 0.5em;\n",
       "  box-sizing: border-box;\n",
       "  text-align: center;\n",
       "}\n",
       "\n",
       "#sk-container-id-2 label.sk-toggleable__label-arrow:before {\n",
       "  /* Arrow on the left of the label */\n",
       "  content: \"▸\";\n",
       "  float: left;\n",
       "  margin-right: 0.25em;\n",
       "  color: var(--sklearn-color-icon);\n",
       "}\n",
       "\n",
       "#sk-container-id-2 label.sk-toggleable__label-arrow:hover:before {\n",
       "  color: var(--sklearn-color-text);\n",
       "}\n",
       "\n",
       "/* Toggleable content - dropdown */\n",
       "\n",
       "#sk-container-id-2 div.sk-toggleable__content {\n",
       "  max-height: 0;\n",
       "  max-width: 0;\n",
       "  overflow: hidden;\n",
       "  text-align: left;\n",
       "  /* unfitted */\n",
       "  background-color: var(--sklearn-color-unfitted-level-0);\n",
       "}\n",
       "\n",
       "#sk-container-id-2 div.sk-toggleable__content.fitted {\n",
       "  /* fitted */\n",
       "  background-color: var(--sklearn-color-fitted-level-0);\n",
       "}\n",
       "\n",
       "#sk-container-id-2 div.sk-toggleable__content pre {\n",
       "  margin: 0.2em;\n",
       "  border-radius: 0.25em;\n",
       "  color: var(--sklearn-color-text);\n",
       "  /* unfitted */\n",
       "  background-color: var(--sklearn-color-unfitted-level-0);\n",
       "}\n",
       "\n",
       "#sk-container-id-2 div.sk-toggleable__content.fitted pre {\n",
       "  /* unfitted */\n",
       "  background-color: var(--sklearn-color-fitted-level-0);\n",
       "}\n",
       "\n",
       "#sk-container-id-2 input.sk-toggleable__control:checked~div.sk-toggleable__content {\n",
       "  /* Expand drop-down */\n",
       "  max-height: 200px;\n",
       "  max-width: 100%;\n",
       "  overflow: auto;\n",
       "}\n",
       "\n",
       "#sk-container-id-2 input.sk-toggleable__control:checked~label.sk-toggleable__label-arrow:before {\n",
       "  content: \"▾\";\n",
       "}\n",
       "\n",
       "/* Pipeline/ColumnTransformer-specific style */\n",
       "\n",
       "#sk-container-id-2 div.sk-label input.sk-toggleable__control:checked~label.sk-toggleable__label {\n",
       "  color: var(--sklearn-color-text);\n",
       "  background-color: var(--sklearn-color-unfitted-level-2);\n",
       "}\n",
       "\n",
       "#sk-container-id-2 div.sk-label.fitted input.sk-toggleable__control:checked~label.sk-toggleable__label {\n",
       "  background-color: var(--sklearn-color-fitted-level-2);\n",
       "}\n",
       "\n",
       "/* Estimator-specific style */\n",
       "\n",
       "/* Colorize estimator box */\n",
       "#sk-container-id-2 div.sk-estimator input.sk-toggleable__control:checked~label.sk-toggleable__label {\n",
       "  /* unfitted */\n",
       "  background-color: var(--sklearn-color-unfitted-level-2);\n",
       "}\n",
       "\n",
       "#sk-container-id-2 div.sk-estimator.fitted input.sk-toggleable__control:checked~label.sk-toggleable__label {\n",
       "  /* fitted */\n",
       "  background-color: var(--sklearn-color-fitted-level-2);\n",
       "}\n",
       "\n",
       "#sk-container-id-2 div.sk-label label.sk-toggleable__label,\n",
       "#sk-container-id-2 div.sk-label label {\n",
       "  /* The background is the default theme color */\n",
       "  color: var(--sklearn-color-text-on-default-background);\n",
       "}\n",
       "\n",
       "/* On hover, darken the color of the background */\n",
       "#sk-container-id-2 div.sk-label:hover label.sk-toggleable__label {\n",
       "  color: var(--sklearn-color-text);\n",
       "  background-color: var(--sklearn-color-unfitted-level-2);\n",
       "}\n",
       "\n",
       "/* Label box, darken color on hover, fitted */\n",
       "#sk-container-id-2 div.sk-label.fitted:hover label.sk-toggleable__label.fitted {\n",
       "  color: var(--sklearn-color-text);\n",
       "  background-color: var(--sklearn-color-fitted-level-2);\n",
       "}\n",
       "\n",
       "/* Estimator label */\n",
       "\n",
       "#sk-container-id-2 div.sk-label label {\n",
       "  font-family: monospace;\n",
       "  font-weight: bold;\n",
       "  display: inline-block;\n",
       "  line-height: 1.2em;\n",
       "}\n",
       "\n",
       "#sk-container-id-2 div.sk-label-container {\n",
       "  text-align: center;\n",
       "}\n",
       "\n",
       "/* Estimator-specific */\n",
       "#sk-container-id-2 div.sk-estimator {\n",
       "  font-family: monospace;\n",
       "  border: 1px dotted var(--sklearn-color-border-box);\n",
       "  border-radius: 0.25em;\n",
       "  box-sizing: border-box;\n",
       "  margin-bottom: 0.5em;\n",
       "  /* unfitted */\n",
       "  background-color: var(--sklearn-color-unfitted-level-0);\n",
       "}\n",
       "\n",
       "#sk-container-id-2 div.sk-estimator.fitted {\n",
       "  /* fitted */\n",
       "  background-color: var(--sklearn-color-fitted-level-0);\n",
       "}\n",
       "\n",
       "/* on hover */\n",
       "#sk-container-id-2 div.sk-estimator:hover {\n",
       "  /* unfitted */\n",
       "  background-color: var(--sklearn-color-unfitted-level-2);\n",
       "}\n",
       "\n",
       "#sk-container-id-2 div.sk-estimator.fitted:hover {\n",
       "  /* fitted */\n",
       "  background-color: var(--sklearn-color-fitted-level-2);\n",
       "}\n",
       "\n",
       "/* Specification for estimator info (e.g. \"i\" and \"?\") */\n",
       "\n",
       "/* Common style for \"i\" and \"?\" */\n",
       "\n",
       ".sk-estimator-doc-link,\n",
       "a:link.sk-estimator-doc-link,\n",
       "a:visited.sk-estimator-doc-link {\n",
       "  float: right;\n",
       "  font-size: smaller;\n",
       "  line-height: 1em;\n",
       "  font-family: monospace;\n",
       "  background-color: var(--sklearn-color-background);\n",
       "  border-radius: 1em;\n",
       "  height: 1em;\n",
       "  width: 1em;\n",
       "  text-decoration: none !important;\n",
       "  margin-left: 1ex;\n",
       "  /* unfitted */\n",
       "  border: var(--sklearn-color-unfitted-level-1) 1pt solid;\n",
       "  color: var(--sklearn-color-unfitted-level-1);\n",
       "}\n",
       "\n",
       ".sk-estimator-doc-link.fitted,\n",
       "a:link.sk-estimator-doc-link.fitted,\n",
       "a:visited.sk-estimator-doc-link.fitted {\n",
       "  /* fitted */\n",
       "  border: var(--sklearn-color-fitted-level-1) 1pt solid;\n",
       "  color: var(--sklearn-color-fitted-level-1);\n",
       "}\n",
       "\n",
       "/* On hover */\n",
       "div.sk-estimator:hover .sk-estimator-doc-link:hover,\n",
       ".sk-estimator-doc-link:hover,\n",
       "div.sk-label-container:hover .sk-estimator-doc-link:hover,\n",
       ".sk-estimator-doc-link:hover {\n",
       "  /* unfitted */\n",
       "  background-color: var(--sklearn-color-unfitted-level-3);\n",
       "  color: var(--sklearn-color-background);\n",
       "  text-decoration: none;\n",
       "}\n",
       "\n",
       "div.sk-estimator.fitted:hover .sk-estimator-doc-link.fitted:hover,\n",
       ".sk-estimator-doc-link.fitted:hover,\n",
       "div.sk-label-container:hover .sk-estimator-doc-link.fitted:hover,\n",
       ".sk-estimator-doc-link.fitted:hover {\n",
       "  /* fitted */\n",
       "  background-color: var(--sklearn-color-fitted-level-3);\n",
       "  color: var(--sklearn-color-background);\n",
       "  text-decoration: none;\n",
       "}\n",
       "\n",
       "/* Span, style for the box shown on hovering the info icon */\n",
       ".sk-estimator-doc-link span {\n",
       "  display: none;\n",
       "  z-index: 9999;\n",
       "  position: relative;\n",
       "  font-weight: normal;\n",
       "  right: .2ex;\n",
       "  padding: .5ex;\n",
       "  margin: .5ex;\n",
       "  width: min-content;\n",
       "  min-width: 20ex;\n",
       "  max-width: 50ex;\n",
       "  color: var(--sklearn-color-text);\n",
       "  box-shadow: 2pt 2pt 4pt #999;\n",
       "  /* unfitted */\n",
       "  background: var(--sklearn-color-unfitted-level-0);\n",
       "  border: .5pt solid var(--sklearn-color-unfitted-level-3);\n",
       "}\n",
       "\n",
       ".sk-estimator-doc-link.fitted span {\n",
       "  /* fitted */\n",
       "  background: var(--sklearn-color-fitted-level-0);\n",
       "  border: var(--sklearn-color-fitted-level-3);\n",
       "}\n",
       "\n",
       ".sk-estimator-doc-link:hover span {\n",
       "  display: block;\n",
       "}\n",
       "\n",
       "/* \"?\"-specific style due to the `<a>` HTML tag */\n",
       "\n",
       "#sk-container-id-2 a.estimator_doc_link {\n",
       "  float: right;\n",
       "  font-size: 1rem;\n",
       "  line-height: 1em;\n",
       "  font-family: monospace;\n",
       "  background-color: var(--sklearn-color-background);\n",
       "  border-radius: 1rem;\n",
       "  height: 1rem;\n",
       "  width: 1rem;\n",
       "  text-decoration: none;\n",
       "  /* unfitted */\n",
       "  color: var(--sklearn-color-unfitted-level-1);\n",
       "  border: var(--sklearn-color-unfitted-level-1) 1pt solid;\n",
       "}\n",
       "\n",
       "#sk-container-id-2 a.estimator_doc_link.fitted {\n",
       "  /* fitted */\n",
       "  border: var(--sklearn-color-fitted-level-1) 1pt solid;\n",
       "  color: var(--sklearn-color-fitted-level-1);\n",
       "}\n",
       "\n",
       "/* On hover */\n",
       "#sk-container-id-2 a.estimator_doc_link:hover {\n",
       "  /* unfitted */\n",
       "  background-color: var(--sklearn-color-unfitted-level-3);\n",
       "  color: var(--sklearn-color-background);\n",
       "  text-decoration: none;\n",
       "}\n",
       "\n",
       "#sk-container-id-2 a.estimator_doc_link.fitted:hover {\n",
       "  /* fitted */\n",
       "  background-color: var(--sklearn-color-fitted-level-3);\n",
       "}\n",
       "</style><div id=\"sk-container-id-2\" class=\"sk-top-container\"><div class=\"sk-text-repr-fallback\"><pre>KMeans(n_clusters=5, random_state=42)</pre><b>In a Jupyter environment, please rerun this cell to show the HTML representation or trust the notebook. <br />On GitHub, the HTML representation is unable to render, please try loading this page with nbviewer.org.</b></div><div class=\"sk-container\" hidden><div class=\"sk-item\"><div class=\"sk-estimator fitted sk-toggleable\"><input class=\"sk-toggleable__control sk-hidden--visually\" id=\"sk-estimator-id-2\" type=\"checkbox\" checked><label for=\"sk-estimator-id-2\" class=\"sk-toggleable__label fitted sk-toggleable__label-arrow fitted\">&nbsp;&nbsp;KMeans<a class=\"sk-estimator-doc-link fitted\" rel=\"noreferrer\" target=\"_blank\" href=\"https://scikit-learn.org/1.5/modules/generated/sklearn.cluster.KMeans.html\">?<span>Documentation for KMeans</span></a><span class=\"sk-estimator-doc-link fitted\">i<span>Fitted</span></span></label><div class=\"sk-toggleable__content fitted\"><pre>KMeans(n_clusters=5, random_state=42)</pre></div> </div></div></div></div>"
      ],
      "text/plain": [
       "KMeans(n_clusters=5, random_state=42)"
      ]
     },
     "execution_count": 17,
     "metadata": {},
     "output_type": "execute_result"
    }
   ],
   "source": [
    "# now let's try fitting to X_converted\n",
    "kmeans_model.fit(X_converted)"
   ]
  },
  {
   "cell_type": "code",
   "execution_count": 14,
   "metadata": {},
   "outputs": [
    {
     "data": {
      "text/html": [
       "<style>#sk-container-id-1 {\n",
       "  /* Definition of color scheme common for light and dark mode */\n",
       "  --sklearn-color-text: black;\n",
       "  --sklearn-color-line: gray;\n",
       "  /* Definition of color scheme for unfitted estimators */\n",
       "  --sklearn-color-unfitted-level-0: #fff5e6;\n",
       "  --sklearn-color-unfitted-level-1: #f6e4d2;\n",
       "  --sklearn-color-unfitted-level-2: #ffe0b3;\n",
       "  --sklearn-color-unfitted-level-3: chocolate;\n",
       "  /* Definition of color scheme for fitted estimators */\n",
       "  --sklearn-color-fitted-level-0: #f0f8ff;\n",
       "  --sklearn-color-fitted-level-1: #d4ebff;\n",
       "  --sklearn-color-fitted-level-2: #b3dbfd;\n",
       "  --sklearn-color-fitted-level-3: cornflowerblue;\n",
       "\n",
       "  /* Specific color for light theme */\n",
       "  --sklearn-color-text-on-default-background: var(--sg-text-color, var(--theme-code-foreground, var(--jp-content-font-color1, black)));\n",
       "  --sklearn-color-background: var(--sg-background-color, var(--theme-background, var(--jp-layout-color0, white)));\n",
       "  --sklearn-color-border-box: var(--sg-text-color, var(--theme-code-foreground, var(--jp-content-font-color1, black)));\n",
       "  --sklearn-color-icon: #696969;\n",
       "\n",
       "  @media (prefers-color-scheme: dark) {\n",
       "    /* Redefinition of color scheme for dark theme */\n",
       "    --sklearn-color-text-on-default-background: var(--sg-text-color, var(--theme-code-foreground, var(--jp-content-font-color1, white)));\n",
       "    --sklearn-color-background: var(--sg-background-color, var(--theme-background, var(--jp-layout-color0, #111)));\n",
       "    --sklearn-color-border-box: var(--sg-text-color, var(--theme-code-foreground, var(--jp-content-font-color1, white)));\n",
       "    --sklearn-color-icon: #878787;\n",
       "  }\n",
       "}\n",
       "\n",
       "#sk-container-id-1 {\n",
       "  color: var(--sklearn-color-text);\n",
       "}\n",
       "\n",
       "#sk-container-id-1 pre {\n",
       "  padding: 0;\n",
       "}\n",
       "\n",
       "#sk-container-id-1 input.sk-hidden--visually {\n",
       "  border: 0;\n",
       "  clip: rect(1px 1px 1px 1px);\n",
       "  clip: rect(1px, 1px, 1px, 1px);\n",
       "  height: 1px;\n",
       "  margin: -1px;\n",
       "  overflow: hidden;\n",
       "  padding: 0;\n",
       "  position: absolute;\n",
       "  width: 1px;\n",
       "}\n",
       "\n",
       "#sk-container-id-1 div.sk-dashed-wrapped {\n",
       "  border: 1px dashed var(--sklearn-color-line);\n",
       "  margin: 0 0.4em 0.5em 0.4em;\n",
       "  box-sizing: border-box;\n",
       "  padding-bottom: 0.4em;\n",
       "  background-color: var(--sklearn-color-background);\n",
       "}\n",
       "\n",
       "#sk-container-id-1 div.sk-container {\n",
       "  /* jupyter's `normalize.less` sets `[hidden] { display: none; }`\n",
       "     but bootstrap.min.css set `[hidden] { display: none !important; }`\n",
       "     so we also need the `!important` here to be able to override the\n",
       "     default hidden behavior on the sphinx rendered scikit-learn.org.\n",
       "     See: https://github.com/scikit-learn/scikit-learn/issues/21755 */\n",
       "  display: inline-block !important;\n",
       "  position: relative;\n",
       "}\n",
       "\n",
       "#sk-container-id-1 div.sk-text-repr-fallback {\n",
       "  display: none;\n",
       "}\n",
       "\n",
       "div.sk-parallel-item,\n",
       "div.sk-serial,\n",
       "div.sk-item {\n",
       "  /* draw centered vertical line to link estimators */\n",
       "  background-image: linear-gradient(var(--sklearn-color-text-on-default-background), var(--sklearn-color-text-on-default-background));\n",
       "  background-size: 2px 100%;\n",
       "  background-repeat: no-repeat;\n",
       "  background-position: center center;\n",
       "}\n",
       "\n",
       "/* Parallel-specific style estimator block */\n",
       "\n",
       "#sk-container-id-1 div.sk-parallel-item::after {\n",
       "  content: \"\";\n",
       "  width: 100%;\n",
       "  border-bottom: 2px solid var(--sklearn-color-text-on-default-background);\n",
       "  flex-grow: 1;\n",
       "}\n",
       "\n",
       "#sk-container-id-1 div.sk-parallel {\n",
       "  display: flex;\n",
       "  align-items: stretch;\n",
       "  justify-content: center;\n",
       "  background-color: var(--sklearn-color-background);\n",
       "  position: relative;\n",
       "}\n",
       "\n",
       "#sk-container-id-1 div.sk-parallel-item {\n",
       "  display: flex;\n",
       "  flex-direction: column;\n",
       "}\n",
       "\n",
       "#sk-container-id-1 div.sk-parallel-item:first-child::after {\n",
       "  align-self: flex-end;\n",
       "  width: 50%;\n",
       "}\n",
       "\n",
       "#sk-container-id-1 div.sk-parallel-item:last-child::after {\n",
       "  align-self: flex-start;\n",
       "  width: 50%;\n",
       "}\n",
       "\n",
       "#sk-container-id-1 div.sk-parallel-item:only-child::after {\n",
       "  width: 0;\n",
       "}\n",
       "\n",
       "/* Serial-specific style estimator block */\n",
       "\n",
       "#sk-container-id-1 div.sk-serial {\n",
       "  display: flex;\n",
       "  flex-direction: column;\n",
       "  align-items: center;\n",
       "  background-color: var(--sklearn-color-background);\n",
       "  padding-right: 1em;\n",
       "  padding-left: 1em;\n",
       "}\n",
       "\n",
       "\n",
       "/* Toggleable style: style used for estimator/Pipeline/ColumnTransformer box that is\n",
       "clickable and can be expanded/collapsed.\n",
       "- Pipeline and ColumnTransformer use this feature and define the default style\n",
       "- Estimators will overwrite some part of the style using the `sk-estimator` class\n",
       "*/\n",
       "\n",
       "/* Pipeline and ColumnTransformer style (default) */\n",
       "\n",
       "#sk-container-id-1 div.sk-toggleable {\n",
       "  /* Default theme specific background. It is overwritten whether we have a\n",
       "  specific estimator or a Pipeline/ColumnTransformer */\n",
       "  background-color: var(--sklearn-color-background);\n",
       "}\n",
       "\n",
       "/* Toggleable label */\n",
       "#sk-container-id-1 label.sk-toggleable__label {\n",
       "  cursor: pointer;\n",
       "  display: block;\n",
       "  width: 100%;\n",
       "  margin-bottom: 0;\n",
       "  padding: 0.5em;\n",
       "  box-sizing: border-box;\n",
       "  text-align: center;\n",
       "}\n",
       "\n",
       "#sk-container-id-1 label.sk-toggleable__label-arrow:before {\n",
       "  /* Arrow on the left of the label */\n",
       "  content: \"▸\";\n",
       "  float: left;\n",
       "  margin-right: 0.25em;\n",
       "  color: var(--sklearn-color-icon);\n",
       "}\n",
       "\n",
       "#sk-container-id-1 label.sk-toggleable__label-arrow:hover:before {\n",
       "  color: var(--sklearn-color-text);\n",
       "}\n",
       "\n",
       "/* Toggleable content - dropdown */\n",
       "\n",
       "#sk-container-id-1 div.sk-toggleable__content {\n",
       "  max-height: 0;\n",
       "  max-width: 0;\n",
       "  overflow: hidden;\n",
       "  text-align: left;\n",
       "  /* unfitted */\n",
       "  background-color: var(--sklearn-color-unfitted-level-0);\n",
       "}\n",
       "\n",
       "#sk-container-id-1 div.sk-toggleable__content.fitted {\n",
       "  /* fitted */\n",
       "  background-color: var(--sklearn-color-fitted-level-0);\n",
       "}\n",
       "\n",
       "#sk-container-id-1 div.sk-toggleable__content pre {\n",
       "  margin: 0.2em;\n",
       "  border-radius: 0.25em;\n",
       "  color: var(--sklearn-color-text);\n",
       "  /* unfitted */\n",
       "  background-color: var(--sklearn-color-unfitted-level-0);\n",
       "}\n",
       "\n",
       "#sk-container-id-1 div.sk-toggleable__content.fitted pre {\n",
       "  /* unfitted */\n",
       "  background-color: var(--sklearn-color-fitted-level-0);\n",
       "}\n",
       "\n",
       "#sk-container-id-1 input.sk-toggleable__control:checked~div.sk-toggleable__content {\n",
       "  /* Expand drop-down */\n",
       "  max-height: 200px;\n",
       "  max-width: 100%;\n",
       "  overflow: auto;\n",
       "}\n",
       "\n",
       "#sk-container-id-1 input.sk-toggleable__control:checked~label.sk-toggleable__label-arrow:before {\n",
       "  content: \"▾\";\n",
       "}\n",
       "\n",
       "/* Pipeline/ColumnTransformer-specific style */\n",
       "\n",
       "#sk-container-id-1 div.sk-label input.sk-toggleable__control:checked~label.sk-toggleable__label {\n",
       "  color: var(--sklearn-color-text);\n",
       "  background-color: var(--sklearn-color-unfitted-level-2);\n",
       "}\n",
       "\n",
       "#sk-container-id-1 div.sk-label.fitted input.sk-toggleable__control:checked~label.sk-toggleable__label {\n",
       "  background-color: var(--sklearn-color-fitted-level-2);\n",
       "}\n",
       "\n",
       "/* Estimator-specific style */\n",
       "\n",
       "/* Colorize estimator box */\n",
       "#sk-container-id-1 div.sk-estimator input.sk-toggleable__control:checked~label.sk-toggleable__label {\n",
       "  /* unfitted */\n",
       "  background-color: var(--sklearn-color-unfitted-level-2);\n",
       "}\n",
       "\n",
       "#sk-container-id-1 div.sk-estimator.fitted input.sk-toggleable__control:checked~label.sk-toggleable__label {\n",
       "  /* fitted */\n",
       "  background-color: var(--sklearn-color-fitted-level-2);\n",
       "}\n",
       "\n",
       "#sk-container-id-1 div.sk-label label.sk-toggleable__label,\n",
       "#sk-container-id-1 div.sk-label label {\n",
       "  /* The background is the default theme color */\n",
       "  color: var(--sklearn-color-text-on-default-background);\n",
       "}\n",
       "\n",
       "/* On hover, darken the color of the background */\n",
       "#sk-container-id-1 div.sk-label:hover label.sk-toggleable__label {\n",
       "  color: var(--sklearn-color-text);\n",
       "  background-color: var(--sklearn-color-unfitted-level-2);\n",
       "}\n",
       "\n",
       "/* Label box, darken color on hover, fitted */\n",
       "#sk-container-id-1 div.sk-label.fitted:hover label.sk-toggleable__label.fitted {\n",
       "  color: var(--sklearn-color-text);\n",
       "  background-color: var(--sklearn-color-fitted-level-2);\n",
       "}\n",
       "\n",
       "/* Estimator label */\n",
       "\n",
       "#sk-container-id-1 div.sk-label label {\n",
       "  font-family: monospace;\n",
       "  font-weight: bold;\n",
       "  display: inline-block;\n",
       "  line-height: 1.2em;\n",
       "}\n",
       "\n",
       "#sk-container-id-1 div.sk-label-container {\n",
       "  text-align: center;\n",
       "}\n",
       "\n",
       "/* Estimator-specific */\n",
       "#sk-container-id-1 div.sk-estimator {\n",
       "  font-family: monospace;\n",
       "  border: 1px dotted var(--sklearn-color-border-box);\n",
       "  border-radius: 0.25em;\n",
       "  box-sizing: border-box;\n",
       "  margin-bottom: 0.5em;\n",
       "  /* unfitted */\n",
       "  background-color: var(--sklearn-color-unfitted-level-0);\n",
       "}\n",
       "\n",
       "#sk-container-id-1 div.sk-estimator.fitted {\n",
       "  /* fitted */\n",
       "  background-color: var(--sklearn-color-fitted-level-0);\n",
       "}\n",
       "\n",
       "/* on hover */\n",
       "#sk-container-id-1 div.sk-estimator:hover {\n",
       "  /* unfitted */\n",
       "  background-color: var(--sklearn-color-unfitted-level-2);\n",
       "}\n",
       "\n",
       "#sk-container-id-1 div.sk-estimator.fitted:hover {\n",
       "  /* fitted */\n",
       "  background-color: var(--sklearn-color-fitted-level-2);\n",
       "}\n",
       "\n",
       "/* Specification for estimator info (e.g. \"i\" and \"?\") */\n",
       "\n",
       "/* Common style for \"i\" and \"?\" */\n",
       "\n",
       ".sk-estimator-doc-link,\n",
       "a:link.sk-estimator-doc-link,\n",
       "a:visited.sk-estimator-doc-link {\n",
       "  float: right;\n",
       "  font-size: smaller;\n",
       "  line-height: 1em;\n",
       "  font-family: monospace;\n",
       "  background-color: var(--sklearn-color-background);\n",
       "  border-radius: 1em;\n",
       "  height: 1em;\n",
       "  width: 1em;\n",
       "  text-decoration: none !important;\n",
       "  margin-left: 1ex;\n",
       "  /* unfitted */\n",
       "  border: var(--sklearn-color-unfitted-level-1) 1pt solid;\n",
       "  color: var(--sklearn-color-unfitted-level-1);\n",
       "}\n",
       "\n",
       ".sk-estimator-doc-link.fitted,\n",
       "a:link.sk-estimator-doc-link.fitted,\n",
       "a:visited.sk-estimator-doc-link.fitted {\n",
       "  /* fitted */\n",
       "  border: var(--sklearn-color-fitted-level-1) 1pt solid;\n",
       "  color: var(--sklearn-color-fitted-level-1);\n",
       "}\n",
       "\n",
       "/* On hover */\n",
       "div.sk-estimator:hover .sk-estimator-doc-link:hover,\n",
       ".sk-estimator-doc-link:hover,\n",
       "div.sk-label-container:hover .sk-estimator-doc-link:hover,\n",
       ".sk-estimator-doc-link:hover {\n",
       "  /* unfitted */\n",
       "  background-color: var(--sklearn-color-unfitted-level-3);\n",
       "  color: var(--sklearn-color-background);\n",
       "  text-decoration: none;\n",
       "}\n",
       "\n",
       "div.sk-estimator.fitted:hover .sk-estimator-doc-link.fitted:hover,\n",
       ".sk-estimator-doc-link.fitted:hover,\n",
       "div.sk-label-container:hover .sk-estimator-doc-link.fitted:hover,\n",
       ".sk-estimator-doc-link.fitted:hover {\n",
       "  /* fitted */\n",
       "  background-color: var(--sklearn-color-fitted-level-3);\n",
       "  color: var(--sklearn-color-background);\n",
       "  text-decoration: none;\n",
       "}\n",
       "\n",
       "/* Span, style for the box shown on hovering the info icon */\n",
       ".sk-estimator-doc-link span {\n",
       "  display: none;\n",
       "  z-index: 9999;\n",
       "  position: relative;\n",
       "  font-weight: normal;\n",
       "  right: .2ex;\n",
       "  padding: .5ex;\n",
       "  margin: .5ex;\n",
       "  width: min-content;\n",
       "  min-width: 20ex;\n",
       "  max-width: 50ex;\n",
       "  color: var(--sklearn-color-text);\n",
       "  box-shadow: 2pt 2pt 4pt #999;\n",
       "  /* unfitted */\n",
       "  background: var(--sklearn-color-unfitted-level-0);\n",
       "  border: .5pt solid var(--sklearn-color-unfitted-level-3);\n",
       "}\n",
       "\n",
       ".sk-estimator-doc-link.fitted span {\n",
       "  /* fitted */\n",
       "  background: var(--sklearn-color-fitted-level-0);\n",
       "  border: var(--sklearn-color-fitted-level-3);\n",
       "}\n",
       "\n",
       ".sk-estimator-doc-link:hover span {\n",
       "  display: block;\n",
       "}\n",
       "\n",
       "/* \"?\"-specific style due to the `<a>` HTML tag */\n",
       "\n",
       "#sk-container-id-1 a.estimator_doc_link {\n",
       "  float: right;\n",
       "  font-size: 1rem;\n",
       "  line-height: 1em;\n",
       "  font-family: monospace;\n",
       "  background-color: var(--sklearn-color-background);\n",
       "  border-radius: 1rem;\n",
       "  height: 1rem;\n",
       "  width: 1rem;\n",
       "  text-decoration: none;\n",
       "  /* unfitted */\n",
       "  color: var(--sklearn-color-unfitted-level-1);\n",
       "  border: var(--sklearn-color-unfitted-level-1) 1pt solid;\n",
       "}\n",
       "\n",
       "#sk-container-id-1 a.estimator_doc_link.fitted {\n",
       "  /* fitted */\n",
       "  border: var(--sklearn-color-fitted-level-1) 1pt solid;\n",
       "  color: var(--sklearn-color-fitted-level-1);\n",
       "}\n",
       "\n",
       "/* On hover */\n",
       "#sk-container-id-1 a.estimator_doc_link:hover {\n",
       "  /* unfitted */\n",
       "  background-color: var(--sklearn-color-unfitted-level-3);\n",
       "  color: var(--sklearn-color-background);\n",
       "  text-decoration: none;\n",
       "}\n",
       "\n",
       "#sk-container-id-1 a.estimator_doc_link.fitted:hover {\n",
       "  /* fitted */\n",
       "  background-color: var(--sklearn-color-fitted-level-3);\n",
       "}\n",
       "</style><div id=\"sk-container-id-1\" class=\"sk-top-container\"><div class=\"sk-text-repr-fallback\"><pre>KMeans(n_clusters=5, random_state=42)</pre><b>In a Jupyter environment, please rerun this cell to show the HTML representation or trust the notebook. <br />On GitHub, the HTML representation is unable to render, please try loading this page with nbviewer.org.</b></div><div class=\"sk-container\" hidden><div class=\"sk-item\"><div class=\"sk-estimator fitted sk-toggleable\"><input class=\"sk-toggleable__control sk-hidden--visually\" id=\"sk-estimator-id-1\" type=\"checkbox\" checked><label for=\"sk-estimator-id-1\" class=\"sk-toggleable__label fitted sk-toggleable__label-arrow fitted\">&nbsp;&nbsp;KMeans<a class=\"sk-estimator-doc-link fitted\" rel=\"noreferrer\" target=\"_blank\" href=\"https://scikit-learn.org/1.5/modules/generated/sklearn.cluster.KMeans.html\">?<span>Documentation for KMeans</span></a><span class=\"sk-estimator-doc-link fitted\">i<span>Fitted</span></span></label><div class=\"sk-toggleable__content fitted\"><pre>KMeans(n_clusters=5, random_state=42)</pre></div> </div></div></div></div>"
      ],
      "text/plain": [
       "KMeans(n_clusters=5, random_state=42)"
      ]
     },
     "execution_count": 14,
     "metadata": {},
     "output_type": "execute_result"
    }
   ],
   "source": [
    "# in Machine Learning it is very common for training data to be in a form of list of lists\n",
    "# also it is common to call the process of building a model training\n",
    "# in sklearn as well as in gensim we will be using fit method to train our model\n",
    "# fit method expects a list of lists\n",
    "# let's train our model\n",
    "\n",
    "kmeans_model.fit(X_list) # so list of lists would be slower than numpy array but it works\n",
    "# we got a warning that in the future n_init will be changed to 10"
   ]
  },
  {
   "cell_type": "code",
   "execution_count": 18,
   "metadata": {},
   "outputs": [
    {
     "name": "stdout",
     "output_type": "stream",
     "text": [
      "Dimensions of our numpy array (1637, 50)\n",
      "First row of our numpy array [ 0.5782519  -0.7623888   0.6419972  -0.01352497 -0.02889981  0.33993718\n",
      "  0.5432642  -0.79231936 -0.17276347  0.2894747  -0.1814085  -1.173319\n",
      " -0.6315174  -0.39531848 -0.8824809   0.44549268 -0.00762038 -0.2669511\n",
      "  0.2836903   0.31825238 -0.46722114 -0.12032476  1.5427929  -0.16820197\n",
      " -0.5314884  -1.1173726  -0.06433648 -1.0612508   0.8740516   0.24408202\n",
      "  0.44927603 -0.25962996 -0.23105077  0.64783835  0.34015447  0.6314114\n",
      "  0.5084683  -0.12150066 -0.8327542  -0.24457273  0.46525353 -0.43322456\n",
      "  0.48058265 -0.8931239  -0.274334   -0.0263922   0.47523484 -0.10395955\n",
      "  0.0836495   0.5372703 ]\n"
     ]
    }
   ],
   "source": [
    "# let's convert our X_list back to numpy array\n",
    "X = np.array(X_list)\n",
    "# let's check out shape\n",
    "print(\"Dimensions of our numpy array\", X.shape)\n",
    "# now that looks better\n",
    "# print first row\n",
    "print(\"First row of our numpy array\", X[0])"
   ]
  },
  {
   "cell_type": "markdown",
   "metadata": {},
   "source": [
    "### Dealing with errors\n",
    "\n",
    "One takeaway is that even if you encounter some error with external libraries you can often fall back to tried and true data structures\n",
    "such as lists and dictionaries. In our case it was list of lists that saved the day."
   ]
  },
  {
   "cell_type": "markdown",
   "metadata": {},
   "source": [
    "### K-means clustering results\n"
   ]
  },
  {
   "cell_type": "code",
   "execution_count": 20,
   "metadata": {},
   "outputs": [
    {
     "name": "stdout",
     "output_type": "stream",
     "text": [
      "Shape of y_pred (1637,)\n"
     ]
    }
   ],
   "source": [
    "# now that we have run the fit method we can use our model to predict clusters for our data\n",
    "# we will use predict method\n",
    "# predict method expects a numpy array\n",
    "\n",
    "# let's predict clusters for our data\n",
    "y_pred = kmeans_model.predict(X)\n",
    "# y_pred = kmeans_model.predict(X) # this does not work of data type mismatch between double and float\n",
    "# note in many supervised machine learning algorithms it is required to have a test set and training set so not to overfit our model\n",
    "# with unsupervised kmeans we can use predict method to predict clusters for our data itself with no ill effects because we are not using labels\n",
    "\n",
    "# shape of y_pred\n",
    "print(\"Shape of y_pred\", y_pred.shape)\n",
    "\n"
   ]
  },
  {
   "cell_type": "code",
   "execution_count": 23,
   "metadata": {},
   "outputs": [
    {
     "name": "stdout",
     "output_type": "stream",
     "text": [
      "First 5 values of y_pred [1 1 1 1 1]\n",
      "Some random values of y_pred [1 1 1 1 1]\n",
      "Value counts of y_pred 1    1441\n",
      "0     110\n",
      "4      83\n",
      "3       2\n",
      "2       1\n",
      "Name: count, dtype: int64\n"
     ]
    }
   ],
   "source": [
    "# first 5 values of y_pred\n",
    "print(\"First 5 values of y_pred\", y_pred[:5])\n",
    "# some random values\n",
    "print(\"Some random values of y_pred\", y_pred[100:105])\n",
    "# how about value counts\n",
    "print(\"Value counts of y_pred\", pd.Series(y_pred).value_counts())"
   ]
  },
  {
   "cell_type": "code",
   "execution_count": 24,
   "metadata": {},
   "outputs": [
    {
     "data": {
      "text/html": [
       "<div>\n",
       "<style scoped>\n",
       "    .dataframe tbody tr th:only-of-type {\n",
       "        vertical-align: middle;\n",
       "    }\n",
       "\n",
       "    .dataframe tbody tr th {\n",
       "        vertical-align: top;\n",
       "    }\n",
       "\n",
       "    .dataframe thead th {\n",
       "        text-align: right;\n",
       "    }\n",
       "</style>\n",
       "<table border=\"1\" class=\"dataframe\">\n",
       "  <thead>\n",
       "    <tr style=\"text-align: right;\">\n",
       "      <th></th>\n",
       "      <th>year</th>\n",
       "      <th>trial_number</th>\n",
       "      <th>punishment</th>\n",
       "      <th>text</th>\n",
       "      <th>dirty_len</th>\n",
       "      <th>clean_len</th>\n",
       "      <th>words</th>\n",
       "      <th>word_count</th>\n",
       "      <th>word_count_cleaned</th>\n",
       "      <th>words_lemmatized</th>\n",
       "      <th>word_count_cleaned_no_digits</th>\n",
       "      <th>top_5_words_tfidf</th>\n",
       "      <th>doc2vec</th>\n",
       "      <th>cluster</th>\n",
       "    </tr>\n",
       "  </thead>\n",
       "  <tbody>\n",
       "    <tr>\n",
       "      <th>0</th>\n",
       "      <td>1720</td>\n",
       "      <td>1</td>\n",
       "      <td>Transportation</td>\n",
       "      <td>of st leonard eastcheap was indicted for felon...</td>\n",
       "      <td>705</td>\n",
       "      <td>684</td>\n",
       "      <td>[st, leonard, eastcheap, indicted, feloniously...</td>\n",
       "      <td>129</td>\n",
       "      <td>66</td>\n",
       "      <td>[st, leonard, eastcheap, indict, feloniously, ...</td>\n",
       "      <td>60</td>\n",
       "      <td>[(confest, 0.1972391174872452), (depose, 0.215...</td>\n",
       "      <td>[0.5782519, -0.7623888, 0.6419972, -0.01352496...</td>\n",
       "      <td>1</td>\n",
       "    </tr>\n",
       "    <tr>\n",
       "      <th>1</th>\n",
       "      <td>1720</td>\n",
       "      <td>2</td>\n",
       "      <td>Transportation</td>\n",
       "      <td>alice jones of st michaels cornhill was indict...</td>\n",
       "      <td>1087</td>\n",
       "      <td>1053</td>\n",
       "      <td>[alice, jones, st, michaels, cornhill, indicte...</td>\n",
       "      <td>200</td>\n",
       "      <td>87</td>\n",
       "      <td>[alice, jones, st, michaels, cornhill, indict,...</td>\n",
       "      <td>82</td>\n",
       "      <td>[(shop, 0.18964859164396325), (bermundas, 0.19...</td>\n",
       "      <td>[0.539647, 0.2990364, 0.90089196, 0.06318843, ...</td>\n",
       "      <td>1</td>\n",
       "    </tr>\n",
       "    <tr>\n",
       "      <th>2</th>\n",
       "      <td>1720</td>\n",
       "      <td>3</td>\n",
       "      <td>Transportation</td>\n",
       "      <td>james wilson of st katharine coleman was indic...</td>\n",
       "      <td>904</td>\n",
       "      <td>883</td>\n",
       "      <td>[james, wilson, st, katharine, coleman, indict...</td>\n",
       "      <td>177</td>\n",
       "      <td>79</td>\n",
       "      <td>[james, wilson, st, katharine, coleman, indict...</td>\n",
       "      <td>71</td>\n",
       "      <td>[(hung, 0.21832648950390215), (deposed, 0.2419...</td>\n",
       "      <td>[0.46213368, -0.7192513, 1.1036029, 0.02122612...</td>\n",
       "      <td>1</td>\n",
       "    </tr>\n",
       "    <tr>\n",
       "      <th>3</th>\n",
       "      <td>1720</td>\n",
       "      <td>4</td>\n",
       "      <td>Transportation</td>\n",
       "      <td>james mercy alias masse of st andrew undershaf...</td>\n",
       "      <td>804</td>\n",
       "      <td>778</td>\n",
       "      <td>[james, mercy, alias, masse, st, andrew, under...</td>\n",
       "      <td>143</td>\n",
       "      <td>67</td>\n",
       "      <td>[james, mercy, alias, masse, st, andrew, under...</td>\n",
       "      <td>64</td>\n",
       "      <td>[(undershaft, 0.2126517359898944), (lockt, 0.2...</td>\n",
       "      <td>[-0.18796237, -0.011926579, 0.8681372, -0.6687...</td>\n",
       "      <td>1</td>\n",
       "    </tr>\n",
       "    <tr>\n",
       "      <th>4</th>\n",
       "      <td>1720</td>\n",
       "      <td>5</td>\n",
       "      <td>Transportation</td>\n",
       "      <td>benjamin cook alias richard smith of st mary a...</td>\n",
       "      <td>483</td>\n",
       "      <td>466</td>\n",
       "      <td>[benjamin, cook, alias, richard, smith, st, ma...</td>\n",
       "      <td>88</td>\n",
       "      <td>46</td>\n",
       "      <td>[benjamin, cook, alias, richard, smith, st, ma...</td>\n",
       "      <td>43</td>\n",
       "      <td>[(stopt, 0.23416420335477436), (abchurch, 0.26...</td>\n",
       "      <td>[0.13697092, 0.5740971, 0.84388906, -0.2005741...</td>\n",
       "      <td>1</td>\n",
       "    </tr>\n",
       "  </tbody>\n",
       "</table>\n",
       "</div>"
      ],
      "text/plain": [
       "   year  trial_number      punishment  \\\n",
       "0  1720             1  Transportation   \n",
       "1  1720             2  Transportation   \n",
       "2  1720             3  Transportation   \n",
       "3  1720             4  Transportation   \n",
       "4  1720             5  Transportation   \n",
       "\n",
       "                                                text  dirty_len  clean_len  \\\n",
       "0  of st leonard eastcheap was indicted for felon...        705        684   \n",
       "1  alice jones of st michaels cornhill was indict...       1087       1053   \n",
       "2  james wilson of st katharine coleman was indic...        904        883   \n",
       "3  james mercy alias masse of st andrew undershaf...        804        778   \n",
       "4  benjamin cook alias richard smith of st mary a...        483        466   \n",
       "\n",
       "                                               words  word_count  \\\n",
       "0  [st, leonard, eastcheap, indicted, feloniously...         129   \n",
       "1  [alice, jones, st, michaels, cornhill, indicte...         200   \n",
       "2  [james, wilson, st, katharine, coleman, indict...         177   \n",
       "3  [james, mercy, alias, masse, st, andrew, under...         143   \n",
       "4  [benjamin, cook, alias, richard, smith, st, ma...          88   \n",
       "\n",
       "   word_count_cleaned                                   words_lemmatized  \\\n",
       "0                  66  [st, leonard, eastcheap, indict, feloniously, ...   \n",
       "1                  87  [alice, jones, st, michaels, cornhill, indict,...   \n",
       "2                  79  [james, wilson, st, katharine, coleman, indict...   \n",
       "3                  67  [james, mercy, alias, masse, st, andrew, under...   \n",
       "4                  46  [benjamin, cook, alias, richard, smith, st, ma...   \n",
       "\n",
       "   word_count_cleaned_no_digits  \\\n",
       "0                            60   \n",
       "1                            82   \n",
       "2                            71   \n",
       "3                            64   \n",
       "4                            43   \n",
       "\n",
       "                                   top_5_words_tfidf  \\\n",
       "0  [(confest, 0.1972391174872452), (depose, 0.215...   \n",
       "1  [(shop, 0.18964859164396325), (bermundas, 0.19...   \n",
       "2  [(hung, 0.21832648950390215), (deposed, 0.2419...   \n",
       "3  [(undershaft, 0.2126517359898944), (lockt, 0.2...   \n",
       "4  [(stopt, 0.23416420335477436), (abchurch, 0.26...   \n",
       "\n",
       "                                             doc2vec  cluster  \n",
       "0  [0.5782519, -0.7623888, 0.6419972, -0.01352496...        1  \n",
       "1  [0.539647, 0.2990364, 0.90089196, 0.06318843, ...        1  \n",
       "2  [0.46213368, -0.7192513, 1.1036029, 0.02122612...        1  \n",
       "3  [-0.18796237, -0.011926579, 0.8681372, -0.6687...        1  \n",
       "4  [0.13697092, 0.5740971, 0.84388906, -0.2005741...        1  "
      ]
     },
     "execution_count": 24,
     "metadata": {},
     "output_type": "execute_result"
    }
   ],
   "source": [
    "# let's assign our predicted clusters to our dataframe\n",
    "df['cluster'] = y_pred\n",
    "# let's check out first 5 rows\n",
    "df.head()"
   ]
  },
  {
   "cell_type": "code",
   "execution_count": null,
   "metadata": {},
   "outputs": [],
   "source": []
  },
  {
   "cell_type": "code",
   "execution_count": 25,
   "metadata": {},
   "outputs": [
    {
     "data": {
      "text/plain": [
       "cluster\n",
       "1    1441\n",
       "0     110\n",
       "4      83\n",
       "3       2\n",
       "2       1\n",
       "Name: count, dtype: int64"
      ]
     },
     "execution_count": 25,
     "metadata": {},
     "output_type": "execute_result"
    }
   ],
   "source": [
    "# value counts for our clusters\n",
    "df.cluster.value_counts()"
   ]
  },
  {
   "cell_type": "code",
   "execution_count": 29,
   "metadata": {},
   "outputs": [
    {
     "data": {
      "text/plain": [
       "year  cluster\n",
       "1720  1           73\n",
       "      4            2\n",
       "1731  1           76\n",
       "      4            2\n",
       "1742  0            2\n",
       "      1           82\n",
       "      2            1\n",
       "      4            2\n",
       "1754  1           60\n",
       "      4            2\n",
       "1762  1           26\n",
       "      4            1\n",
       "1773  0            1\n",
       "      1           78\n",
       "      4            1\n",
       "1784  4            1\n",
       "1796  0            2\n",
       "      1           49\n",
       "1802  0            9\n",
       "      1           81\n",
       "      4            2\n",
       "1814  0            3\n",
       "      1          109\n",
       "      4            3\n",
       "1821  0            7\n",
       "      1          165\n",
       "      4            1\n",
       "1835  0           12\n",
       "      1          104\n",
       "      4            4\n",
       "1841  0            3\n",
       "      1           99\n",
       "      4            5\n",
       "1853  0           13\n",
       "      1           74\n",
       "      4            5\n",
       "1865  0            9\n",
       "      1           63\n",
       "      3            1\n",
       "      4            8\n",
       "1872  0            4\n",
       "      1           54\n",
       "      4           11\n",
       "1881  0           12\n",
       "      1           68\n",
       "      4            5\n",
       "1896  0            9\n",
       "      1           35\n",
       "      4            5\n",
       "1902  0           10\n",
       "      1           96\n",
       "      3            1\n",
       "      4           17\n",
       "1913  0           14\n",
       "      1           49\n",
       "      4            6\n",
       "dtype: int64"
      ]
     },
     "execution_count": 29,
     "metadata": {},
     "output_type": "execute_result"
    }
   ],
   "source": [
    "df.groupby(['year', 'cluster']).size()"
   ]
  },
  {
   "cell_type": "code",
   "execution_count": 26,
   "metadata": {},
   "outputs": [
    {
     "data": {
      "text/html": [
       "<div>\n",
       "<style scoped>\n",
       "    .dataframe tbody tr th:only-of-type {\n",
       "        vertical-align: middle;\n",
       "    }\n",
       "\n",
       "    .dataframe tbody tr th {\n",
       "        vertical-align: top;\n",
       "    }\n",
       "\n",
       "    .dataframe thead th {\n",
       "        text-align: right;\n",
       "    }\n",
       "</style>\n",
       "<table border=\"1\" class=\"dataframe\">\n",
       "  <thead>\n",
       "    <tr style=\"text-align: right;\">\n",
       "      <th>cluster</th>\n",
       "      <th>0</th>\n",
       "      <th>1</th>\n",
       "      <th>2</th>\n",
       "      <th>3</th>\n",
       "      <th>4</th>\n",
       "    </tr>\n",
       "    <tr>\n",
       "      <th>year</th>\n",
       "      <th></th>\n",
       "      <th></th>\n",
       "      <th></th>\n",
       "      <th></th>\n",
       "      <th></th>\n",
       "    </tr>\n",
       "  </thead>\n",
       "  <tbody>\n",
       "    <tr>\n",
       "      <th>1720</th>\n",
       "      <td>NaN</td>\n",
       "      <td>73.0</td>\n",
       "      <td>NaN</td>\n",
       "      <td>NaN</td>\n",
       "      <td>2.0</td>\n",
       "    </tr>\n",
       "    <tr>\n",
       "      <th>1731</th>\n",
       "      <td>NaN</td>\n",
       "      <td>76.0</td>\n",
       "      <td>NaN</td>\n",
       "      <td>NaN</td>\n",
       "      <td>2.0</td>\n",
       "    </tr>\n",
       "    <tr>\n",
       "      <th>1742</th>\n",
       "      <td>2.0</td>\n",
       "      <td>82.0</td>\n",
       "      <td>1.0</td>\n",
       "      <td>NaN</td>\n",
       "      <td>2.0</td>\n",
       "    </tr>\n",
       "    <tr>\n",
       "      <th>1754</th>\n",
       "      <td>NaN</td>\n",
       "      <td>60.0</td>\n",
       "      <td>NaN</td>\n",
       "      <td>NaN</td>\n",
       "      <td>2.0</td>\n",
       "    </tr>\n",
       "    <tr>\n",
       "      <th>1762</th>\n",
       "      <td>NaN</td>\n",
       "      <td>26.0</td>\n",
       "      <td>NaN</td>\n",
       "      <td>NaN</td>\n",
       "      <td>1.0</td>\n",
       "    </tr>\n",
       "  </tbody>\n",
       "</table>\n",
       "</div>"
      ],
      "text/plain": [
       "cluster    0     1    2   3    4\n",
       "year                            \n",
       "1720     NaN  73.0  NaN NaN  2.0\n",
       "1731     NaN  76.0  NaN NaN  2.0\n",
       "1742     2.0  82.0  1.0 NaN  2.0\n",
       "1754     NaN  60.0  NaN NaN  2.0\n",
       "1762     NaN  26.0  NaN NaN  1.0"
      ]
     },
     "execution_count": 26,
     "metadata": {},
     "output_type": "execute_result"
    }
   ],
   "source": [
    "# now it would be interesting to plot our clusters over the years\n",
    "\n",
    "# let's plot our clusters over the years\n",
    "# we ill use 100% stacked bar chart to show relative proportions of clusters over the years\n",
    "\n",
    "# we will use pandas groupby method to group our data by year and cluster\n",
    "# we will use size method to get number of rows in each group\n",
    "# we will use unstack method to convert our data into a dataframe\n",
    "\n",
    "df_year_cluster = df.groupby(['year', 'cluster']).size().unstack()\n",
    "# let's check out first 5 rows\n",
    "df_year_cluster.head()"
   ]
  },
  {
   "cell_type": "code",
   "execution_count": 27,
   "metadata": {},
   "outputs": [
    {
     "data": {
      "text/html": [
       "<div>\n",
       "<style scoped>\n",
       "    .dataframe tbody tr th:only-of-type {\n",
       "        vertical-align: middle;\n",
       "    }\n",
       "\n",
       "    .dataframe tbody tr th {\n",
       "        vertical-align: top;\n",
       "    }\n",
       "\n",
       "    .dataframe thead th {\n",
       "        text-align: right;\n",
       "    }\n",
       "</style>\n",
       "<table border=\"1\" class=\"dataframe\">\n",
       "  <thead>\n",
       "    <tr style=\"text-align: right;\">\n",
       "      <th>cluster</th>\n",
       "      <th>0</th>\n",
       "      <th>1</th>\n",
       "      <th>2</th>\n",
       "      <th>3</th>\n",
       "      <th>4</th>\n",
       "    </tr>\n",
       "    <tr>\n",
       "      <th>year</th>\n",
       "      <th></th>\n",
       "      <th></th>\n",
       "      <th></th>\n",
       "      <th></th>\n",
       "      <th></th>\n",
       "    </tr>\n",
       "  </thead>\n",
       "  <tbody>\n",
       "    <tr>\n",
       "      <th>1720</th>\n",
       "      <td>0.0</td>\n",
       "      <td>73.0</td>\n",
       "      <td>0.0</td>\n",
       "      <td>0.0</td>\n",
       "      <td>2.0</td>\n",
       "    </tr>\n",
       "    <tr>\n",
       "      <th>1731</th>\n",
       "      <td>0.0</td>\n",
       "      <td>76.0</td>\n",
       "      <td>0.0</td>\n",
       "      <td>0.0</td>\n",
       "      <td>2.0</td>\n",
       "    </tr>\n",
       "    <tr>\n",
       "      <th>1742</th>\n",
       "      <td>2.0</td>\n",
       "      <td>82.0</td>\n",
       "      <td>1.0</td>\n",
       "      <td>0.0</td>\n",
       "      <td>2.0</td>\n",
       "    </tr>\n",
       "    <tr>\n",
       "      <th>1754</th>\n",
       "      <td>0.0</td>\n",
       "      <td>60.0</td>\n",
       "      <td>0.0</td>\n",
       "      <td>0.0</td>\n",
       "      <td>2.0</td>\n",
       "    </tr>\n",
       "    <tr>\n",
       "      <th>1762</th>\n",
       "      <td>0.0</td>\n",
       "      <td>26.0</td>\n",
       "      <td>0.0</td>\n",
       "      <td>0.0</td>\n",
       "      <td>1.0</td>\n",
       "    </tr>\n",
       "  </tbody>\n",
       "</table>\n",
       "</div>"
      ],
      "text/plain": [
       "cluster    0     1    2    3    4\n",
       "year                             \n",
       "1720     0.0  73.0  0.0  0.0  2.0\n",
       "1731     0.0  76.0  0.0  0.0  2.0\n",
       "1742     2.0  82.0  1.0  0.0  2.0\n",
       "1754     0.0  60.0  0.0  0.0  2.0\n",
       "1762     0.0  26.0  0.0  0.0  1.0"
      ]
     },
     "execution_count": 27,
     "metadata": {},
     "output_type": "execute_result"
    }
   ],
   "source": [
    "# now we need to fill in missing values with 0\n",
    "df_year_cluster.fillna(0, inplace=True) # note inplace=True means we will change our dataframe in place\n",
    "# let's check out first 5 rows\n",
    "df_year_cluster.head()"
   ]
  },
  {
   "cell_type": "code",
   "execution_count": 31,
   "metadata": {},
   "outputs": [
    {
     "data": {
      "text/plain": [
       "Index([1720, 1731, 1742, 1754, 1762, 1773, 1784, 1796, 1802, 1814, 1821, 1835,\n",
       "       1841, 1853, 1865, 1872, 1881, 1896, 1902, 1913],\n",
       "      dtype='int64', name='year')"
      ]
     },
     "execution_count": 31,
     "metadata": {},
     "output_type": "execute_result"
    }
   ],
   "source": [
    "df_year_cluster.index"
   ]
  },
  {
   "cell_type": "code",
   "execution_count": 33,
   "metadata": {},
   "outputs": [
    {
     "data": {
      "text/html": [
       "<div>\n",
       "<style scoped>\n",
       "    .dataframe tbody tr th:only-of-type {\n",
       "        vertical-align: middle;\n",
       "    }\n",
       "\n",
       "    .dataframe tbody tr th {\n",
       "        vertical-align: top;\n",
       "    }\n",
       "\n",
       "    .dataframe thead th {\n",
       "        text-align: right;\n",
       "    }\n",
       "</style>\n",
       "<table border=\"1\" class=\"dataframe\">\n",
       "  <thead>\n",
       "    <tr style=\"text-align: right;\">\n",
       "      <th>cluster</th>\n",
       "      <th>0</th>\n",
       "      <th>1</th>\n",
       "      <th>2</th>\n",
       "      <th>3</th>\n",
       "      <th>4</th>\n",
       "      <th>total</th>\n",
       "    </tr>\n",
       "    <tr>\n",
       "      <th>year</th>\n",
       "      <th></th>\n",
       "      <th></th>\n",
       "      <th></th>\n",
       "      <th></th>\n",
       "      <th></th>\n",
       "      <th></th>\n",
       "    </tr>\n",
       "  </thead>\n",
       "  <tbody>\n",
       "    <tr>\n",
       "      <th>1720</th>\n",
       "      <td>0.0</td>\n",
       "      <td>73.0</td>\n",
       "      <td>0.0</td>\n",
       "      <td>0.0</td>\n",
       "      <td>2.0</td>\n",
       "      <td>75.0</td>\n",
       "    </tr>\n",
       "    <tr>\n",
       "      <th>1731</th>\n",
       "      <td>0.0</td>\n",
       "      <td>76.0</td>\n",
       "      <td>0.0</td>\n",
       "      <td>0.0</td>\n",
       "      <td>2.0</td>\n",
       "      <td>78.0</td>\n",
       "    </tr>\n",
       "    <tr>\n",
       "      <th>1742</th>\n",
       "      <td>2.0</td>\n",
       "      <td>82.0</td>\n",
       "      <td>1.0</td>\n",
       "      <td>0.0</td>\n",
       "      <td>2.0</td>\n",
       "      <td>87.0</td>\n",
       "    </tr>\n",
       "    <tr>\n",
       "      <th>1754</th>\n",
       "      <td>0.0</td>\n",
       "      <td>60.0</td>\n",
       "      <td>0.0</td>\n",
       "      <td>0.0</td>\n",
       "      <td>2.0</td>\n",
       "      <td>62.0</td>\n",
       "    </tr>\n",
       "    <tr>\n",
       "      <th>1762</th>\n",
       "      <td>0.0</td>\n",
       "      <td>26.0</td>\n",
       "      <td>0.0</td>\n",
       "      <td>0.0</td>\n",
       "      <td>1.0</td>\n",
       "      <td>27.0</td>\n",
       "    </tr>\n",
       "  </tbody>\n",
       "</table>\n",
       "</div>"
      ],
      "text/plain": [
       "cluster    0     1    2    3    4  total\n",
       "year                                    \n",
       "1720     0.0  73.0  0.0  0.0  2.0   75.0\n",
       "1731     0.0  76.0  0.0  0.0  2.0   78.0\n",
       "1742     2.0  82.0  1.0  0.0  2.0   87.0\n",
       "1754     0.0  60.0  0.0  0.0  2.0   62.0\n",
       "1762     0.0  26.0  0.0  0.0  1.0   27.0"
      ]
     },
     "execution_count": 33,
     "metadata": {},
     "output_type": "execute_result"
    }
   ],
   "source": [
    "# now let's create a column of total values for each year\n",
    "df_year_cluster['total'] = df_year_cluster.sum(axis=1)\n",
    "# above sums ALL existing columns for each row\n",
    "# instead i could have summed specific columns for example\n",
    "# df_year_cluster['total'] = df_year_cluster[[0, 1, 2, 3, 4]].sum(axis=1)\n",
    "# let's check out first 5 rows\n",
    "df_year_cluster.head()"
   ]
  },
  {
   "cell_type": "code",
   "execution_count": 34,
   "metadata": {},
   "outputs": [
    {
     "data": {
      "text/html": [
       "<div>\n",
       "<style scoped>\n",
       "    .dataframe tbody tr th:only-of-type {\n",
       "        vertical-align: middle;\n",
       "    }\n",
       "\n",
       "    .dataframe tbody tr th {\n",
       "        vertical-align: top;\n",
       "    }\n",
       "\n",
       "    .dataframe thead th {\n",
       "        text-align: right;\n",
       "    }\n",
       "</style>\n",
       "<table border=\"1\" class=\"dataframe\">\n",
       "  <thead>\n",
       "    <tr style=\"text-align: right;\">\n",
       "      <th>cluster</th>\n",
       "      <th>0</th>\n",
       "      <th>1</th>\n",
       "      <th>2</th>\n",
       "      <th>3</th>\n",
       "      <th>4</th>\n",
       "      <th>total</th>\n",
       "      <th>c_0_perc</th>\n",
       "      <th>c_1_perc</th>\n",
       "      <th>c_2_perc</th>\n",
       "      <th>c_3_perc</th>\n",
       "      <th>c_4_perc</th>\n",
       "    </tr>\n",
       "    <tr>\n",
       "      <th>year</th>\n",
       "      <th></th>\n",
       "      <th></th>\n",
       "      <th></th>\n",
       "      <th></th>\n",
       "      <th></th>\n",
       "      <th></th>\n",
       "      <th></th>\n",
       "      <th></th>\n",
       "      <th></th>\n",
       "      <th></th>\n",
       "      <th></th>\n",
       "    </tr>\n",
       "  </thead>\n",
       "  <tbody>\n",
       "    <tr>\n",
       "      <th>1720</th>\n",
       "      <td>0.0</td>\n",
       "      <td>73.0</td>\n",
       "      <td>0.0</td>\n",
       "      <td>0.0</td>\n",
       "      <td>2.0</td>\n",
       "      <td>75.0</td>\n",
       "      <td>0.000000</td>\n",
       "      <td>0.973333</td>\n",
       "      <td>0.000000</td>\n",
       "      <td>0.0</td>\n",
       "      <td>0.026667</td>\n",
       "    </tr>\n",
       "    <tr>\n",
       "      <th>1731</th>\n",
       "      <td>0.0</td>\n",
       "      <td>76.0</td>\n",
       "      <td>0.0</td>\n",
       "      <td>0.0</td>\n",
       "      <td>2.0</td>\n",
       "      <td>78.0</td>\n",
       "      <td>0.000000</td>\n",
       "      <td>0.974359</td>\n",
       "      <td>0.000000</td>\n",
       "      <td>0.0</td>\n",
       "      <td>0.025641</td>\n",
       "    </tr>\n",
       "    <tr>\n",
       "      <th>1742</th>\n",
       "      <td>2.0</td>\n",
       "      <td>82.0</td>\n",
       "      <td>1.0</td>\n",
       "      <td>0.0</td>\n",
       "      <td>2.0</td>\n",
       "      <td>87.0</td>\n",
       "      <td>0.022989</td>\n",
       "      <td>0.942529</td>\n",
       "      <td>0.011494</td>\n",
       "      <td>0.0</td>\n",
       "      <td>0.022989</td>\n",
       "    </tr>\n",
       "    <tr>\n",
       "      <th>1754</th>\n",
       "      <td>0.0</td>\n",
       "      <td>60.0</td>\n",
       "      <td>0.0</td>\n",
       "      <td>0.0</td>\n",
       "      <td>2.0</td>\n",
       "      <td>62.0</td>\n",
       "      <td>0.000000</td>\n",
       "      <td>0.967742</td>\n",
       "      <td>0.000000</td>\n",
       "      <td>0.0</td>\n",
       "      <td>0.032258</td>\n",
       "    </tr>\n",
       "    <tr>\n",
       "      <th>1762</th>\n",
       "      <td>0.0</td>\n",
       "      <td>26.0</td>\n",
       "      <td>0.0</td>\n",
       "      <td>0.0</td>\n",
       "      <td>1.0</td>\n",
       "      <td>27.0</td>\n",
       "      <td>0.000000</td>\n",
       "      <td>0.962963</td>\n",
       "      <td>0.000000</td>\n",
       "      <td>0.0</td>\n",
       "      <td>0.037037</td>\n",
       "    </tr>\n",
       "  </tbody>\n",
       "</table>\n",
       "</div>"
      ],
      "text/plain": [
       "cluster    0     1    2    3    4  total  c_0_perc  c_1_perc  c_2_perc  \\\n",
       "year                                                                     \n",
       "1720     0.0  73.0  0.0  0.0  2.0   75.0  0.000000  0.973333  0.000000   \n",
       "1731     0.0  76.0  0.0  0.0  2.0   78.0  0.000000  0.974359  0.000000   \n",
       "1742     2.0  82.0  1.0  0.0  2.0   87.0  0.022989  0.942529  0.011494   \n",
       "1754     0.0  60.0  0.0  0.0  2.0   62.0  0.000000  0.967742  0.000000   \n",
       "1762     0.0  26.0  0.0  0.0  1.0   27.0  0.000000  0.962963  0.000000   \n",
       "\n",
       "cluster  c_3_perc  c_4_perc  \n",
       "year                         \n",
       "1720          0.0  0.026667  \n",
       "1731          0.0  0.025641  \n",
       "1742          0.0  0.022989  \n",
       "1754          0.0  0.032258  \n",
       "1762          0.0  0.037037  "
      ]
     },
     "execution_count": 34,
     "metadata": {},
     "output_type": "execute_result"
    }
   ],
   "source": [
    "# now let's create a proportion column for each cluster\n",
    "# we will divide each cluster column by total column and create a new column with results\n",
    "for cluster in range(5):\n",
    "    df_year_cluster[f\"c_{cluster}_perc\"] = df_year_cluster[cluster] / df_year_cluster['total']\n",
    "# let's check out first 5 rows\n",
    "df_year_cluster.head()"
   ]
  },
  {
   "cell_type": "code",
   "execution_count": 35,
   "metadata": {},
   "outputs": [
    {
     "data": {
      "text/html": [
       "<div>\n",
       "<style scoped>\n",
       "    .dataframe tbody tr th:only-of-type {\n",
       "        vertical-align: middle;\n",
       "    }\n",
       "\n",
       "    .dataframe tbody tr th {\n",
       "        vertical-align: top;\n",
       "    }\n",
       "\n",
       "    .dataframe thead th {\n",
       "        text-align: right;\n",
       "    }\n",
       "</style>\n",
       "<table border=\"1\" class=\"dataframe\">\n",
       "  <thead>\n",
       "    <tr style=\"text-align: right;\">\n",
       "      <th>cluster</th>\n",
       "      <th>0</th>\n",
       "      <th>1</th>\n",
       "      <th>2</th>\n",
       "      <th>3</th>\n",
       "      <th>4</th>\n",
       "      <th>total</th>\n",
       "      <th>c_0_perc</th>\n",
       "      <th>c_1_perc</th>\n",
       "      <th>c_2_perc</th>\n",
       "      <th>c_3_perc</th>\n",
       "      <th>c_4_perc</th>\n",
       "    </tr>\n",
       "    <tr>\n",
       "      <th>year</th>\n",
       "      <th></th>\n",
       "      <th></th>\n",
       "      <th></th>\n",
       "      <th></th>\n",
       "      <th></th>\n",
       "      <th></th>\n",
       "      <th></th>\n",
       "      <th></th>\n",
       "      <th></th>\n",
       "      <th></th>\n",
       "      <th></th>\n",
       "    </tr>\n",
       "  </thead>\n",
       "  <tbody>\n",
       "    <tr>\n",
       "      <th>1720</th>\n",
       "      <td>0.0</td>\n",
       "      <td>73.0</td>\n",
       "      <td>0.0</td>\n",
       "      <td>0.0</td>\n",
       "      <td>2.0</td>\n",
       "      <td>75.0</td>\n",
       "      <td>0.000000</td>\n",
       "      <td>0.973333</td>\n",
       "      <td>0.000000</td>\n",
       "      <td>0.000000</td>\n",
       "      <td>0.026667</td>\n",
       "    </tr>\n",
       "    <tr>\n",
       "      <th>1731</th>\n",
       "      <td>0.0</td>\n",
       "      <td>76.0</td>\n",
       "      <td>0.0</td>\n",
       "      <td>0.0</td>\n",
       "      <td>2.0</td>\n",
       "      <td>78.0</td>\n",
       "      <td>0.000000</td>\n",
       "      <td>0.974359</td>\n",
       "      <td>0.000000</td>\n",
       "      <td>0.000000</td>\n",
       "      <td>0.025641</td>\n",
       "    </tr>\n",
       "    <tr>\n",
       "      <th>1742</th>\n",
       "      <td>2.0</td>\n",
       "      <td>82.0</td>\n",
       "      <td>1.0</td>\n",
       "      <td>0.0</td>\n",
       "      <td>2.0</td>\n",
       "      <td>87.0</td>\n",
       "      <td>0.022989</td>\n",
       "      <td>0.942529</td>\n",
       "      <td>0.011494</td>\n",
       "      <td>0.000000</td>\n",
       "      <td>0.022989</td>\n",
       "    </tr>\n",
       "    <tr>\n",
       "      <th>1754</th>\n",
       "      <td>0.0</td>\n",
       "      <td>60.0</td>\n",
       "      <td>0.0</td>\n",
       "      <td>0.0</td>\n",
       "      <td>2.0</td>\n",
       "      <td>62.0</td>\n",
       "      <td>0.000000</td>\n",
       "      <td>0.967742</td>\n",
       "      <td>0.000000</td>\n",
       "      <td>0.000000</td>\n",
       "      <td>0.032258</td>\n",
       "    </tr>\n",
       "    <tr>\n",
       "      <th>1762</th>\n",
       "      <td>0.0</td>\n",
       "      <td>26.0</td>\n",
       "      <td>0.0</td>\n",
       "      <td>0.0</td>\n",
       "      <td>1.0</td>\n",
       "      <td>27.0</td>\n",
       "      <td>0.000000</td>\n",
       "      <td>0.962963</td>\n",
       "      <td>0.000000</td>\n",
       "      <td>0.000000</td>\n",
       "      <td>0.037037</td>\n",
       "    </tr>\n",
       "    <tr>\n",
       "      <th>1773</th>\n",
       "      <td>1.0</td>\n",
       "      <td>78.0</td>\n",
       "      <td>0.0</td>\n",
       "      <td>0.0</td>\n",
       "      <td>1.0</td>\n",
       "      <td>80.0</td>\n",
       "      <td>0.012500</td>\n",
       "      <td>0.975000</td>\n",
       "      <td>0.000000</td>\n",
       "      <td>0.000000</td>\n",
       "      <td>0.012500</td>\n",
       "    </tr>\n",
       "    <tr>\n",
       "      <th>1784</th>\n",
       "      <td>0.0</td>\n",
       "      <td>0.0</td>\n",
       "      <td>0.0</td>\n",
       "      <td>0.0</td>\n",
       "      <td>1.0</td>\n",
       "      <td>1.0</td>\n",
       "      <td>0.000000</td>\n",
       "      <td>0.000000</td>\n",
       "      <td>0.000000</td>\n",
       "      <td>0.000000</td>\n",
       "      <td>1.000000</td>\n",
       "    </tr>\n",
       "    <tr>\n",
       "      <th>1796</th>\n",
       "      <td>2.0</td>\n",
       "      <td>49.0</td>\n",
       "      <td>0.0</td>\n",
       "      <td>0.0</td>\n",
       "      <td>0.0</td>\n",
       "      <td>51.0</td>\n",
       "      <td>0.039216</td>\n",
       "      <td>0.960784</td>\n",
       "      <td>0.000000</td>\n",
       "      <td>0.000000</td>\n",
       "      <td>0.000000</td>\n",
       "    </tr>\n",
       "    <tr>\n",
       "      <th>1802</th>\n",
       "      <td>9.0</td>\n",
       "      <td>81.0</td>\n",
       "      <td>0.0</td>\n",
       "      <td>0.0</td>\n",
       "      <td>2.0</td>\n",
       "      <td>92.0</td>\n",
       "      <td>0.097826</td>\n",
       "      <td>0.880435</td>\n",
       "      <td>0.000000</td>\n",
       "      <td>0.000000</td>\n",
       "      <td>0.021739</td>\n",
       "    </tr>\n",
       "    <tr>\n",
       "      <th>1814</th>\n",
       "      <td>3.0</td>\n",
       "      <td>109.0</td>\n",
       "      <td>0.0</td>\n",
       "      <td>0.0</td>\n",
       "      <td>3.0</td>\n",
       "      <td>115.0</td>\n",
       "      <td>0.026087</td>\n",
       "      <td>0.947826</td>\n",
       "      <td>0.000000</td>\n",
       "      <td>0.000000</td>\n",
       "      <td>0.026087</td>\n",
       "    </tr>\n",
       "    <tr>\n",
       "      <th>1821</th>\n",
       "      <td>7.0</td>\n",
       "      <td>165.0</td>\n",
       "      <td>0.0</td>\n",
       "      <td>0.0</td>\n",
       "      <td>1.0</td>\n",
       "      <td>173.0</td>\n",
       "      <td>0.040462</td>\n",
       "      <td>0.953757</td>\n",
       "      <td>0.000000</td>\n",
       "      <td>0.000000</td>\n",
       "      <td>0.005780</td>\n",
       "    </tr>\n",
       "    <tr>\n",
       "      <th>1835</th>\n",
       "      <td>12.0</td>\n",
       "      <td>104.0</td>\n",
       "      <td>0.0</td>\n",
       "      <td>0.0</td>\n",
       "      <td>4.0</td>\n",
       "      <td>120.0</td>\n",
       "      <td>0.100000</td>\n",
       "      <td>0.866667</td>\n",
       "      <td>0.000000</td>\n",
       "      <td>0.000000</td>\n",
       "      <td>0.033333</td>\n",
       "    </tr>\n",
       "    <tr>\n",
       "      <th>1841</th>\n",
       "      <td>3.0</td>\n",
       "      <td>99.0</td>\n",
       "      <td>0.0</td>\n",
       "      <td>0.0</td>\n",
       "      <td>5.0</td>\n",
       "      <td>107.0</td>\n",
       "      <td>0.028037</td>\n",
       "      <td>0.925234</td>\n",
       "      <td>0.000000</td>\n",
       "      <td>0.000000</td>\n",
       "      <td>0.046729</td>\n",
       "    </tr>\n",
       "    <tr>\n",
       "      <th>1853</th>\n",
       "      <td>13.0</td>\n",
       "      <td>74.0</td>\n",
       "      <td>0.0</td>\n",
       "      <td>0.0</td>\n",
       "      <td>5.0</td>\n",
       "      <td>92.0</td>\n",
       "      <td>0.141304</td>\n",
       "      <td>0.804348</td>\n",
       "      <td>0.000000</td>\n",
       "      <td>0.000000</td>\n",
       "      <td>0.054348</td>\n",
       "    </tr>\n",
       "    <tr>\n",
       "      <th>1865</th>\n",
       "      <td>9.0</td>\n",
       "      <td>63.0</td>\n",
       "      <td>0.0</td>\n",
       "      <td>1.0</td>\n",
       "      <td>8.0</td>\n",
       "      <td>81.0</td>\n",
       "      <td>0.111111</td>\n",
       "      <td>0.777778</td>\n",
       "      <td>0.000000</td>\n",
       "      <td>0.012346</td>\n",
       "      <td>0.098765</td>\n",
       "    </tr>\n",
       "    <tr>\n",
       "      <th>1872</th>\n",
       "      <td>4.0</td>\n",
       "      <td>54.0</td>\n",
       "      <td>0.0</td>\n",
       "      <td>0.0</td>\n",
       "      <td>11.0</td>\n",
       "      <td>69.0</td>\n",
       "      <td>0.057971</td>\n",
       "      <td>0.782609</td>\n",
       "      <td>0.000000</td>\n",
       "      <td>0.000000</td>\n",
       "      <td>0.159420</td>\n",
       "    </tr>\n",
       "    <tr>\n",
       "      <th>1881</th>\n",
       "      <td>12.0</td>\n",
       "      <td>68.0</td>\n",
       "      <td>0.0</td>\n",
       "      <td>0.0</td>\n",
       "      <td>5.0</td>\n",
       "      <td>85.0</td>\n",
       "      <td>0.141176</td>\n",
       "      <td>0.800000</td>\n",
       "      <td>0.000000</td>\n",
       "      <td>0.000000</td>\n",
       "      <td>0.058824</td>\n",
       "    </tr>\n",
       "    <tr>\n",
       "      <th>1896</th>\n",
       "      <td>9.0</td>\n",
       "      <td>35.0</td>\n",
       "      <td>0.0</td>\n",
       "      <td>0.0</td>\n",
       "      <td>5.0</td>\n",
       "      <td>49.0</td>\n",
       "      <td>0.183673</td>\n",
       "      <td>0.714286</td>\n",
       "      <td>0.000000</td>\n",
       "      <td>0.000000</td>\n",
       "      <td>0.102041</td>\n",
       "    </tr>\n",
       "    <tr>\n",
       "      <th>1902</th>\n",
       "      <td>10.0</td>\n",
       "      <td>96.0</td>\n",
       "      <td>0.0</td>\n",
       "      <td>1.0</td>\n",
       "      <td>17.0</td>\n",
       "      <td>124.0</td>\n",
       "      <td>0.080645</td>\n",
       "      <td>0.774194</td>\n",
       "      <td>0.000000</td>\n",
       "      <td>0.008065</td>\n",
       "      <td>0.137097</td>\n",
       "    </tr>\n",
       "    <tr>\n",
       "      <th>1913</th>\n",
       "      <td>14.0</td>\n",
       "      <td>49.0</td>\n",
       "      <td>0.0</td>\n",
       "      <td>0.0</td>\n",
       "      <td>6.0</td>\n",
       "      <td>69.0</td>\n",
       "      <td>0.202899</td>\n",
       "      <td>0.710145</td>\n",
       "      <td>0.000000</td>\n",
       "      <td>0.000000</td>\n",
       "      <td>0.086957</td>\n",
       "    </tr>\n",
       "  </tbody>\n",
       "</table>\n",
       "</div>"
      ],
      "text/plain": [
       "cluster     0      1    2    3     4  total  c_0_perc  c_1_perc  c_2_perc  \\\n",
       "year                                                                        \n",
       "1720      0.0   73.0  0.0  0.0   2.0   75.0  0.000000  0.973333  0.000000   \n",
       "1731      0.0   76.0  0.0  0.0   2.0   78.0  0.000000  0.974359  0.000000   \n",
       "1742      2.0   82.0  1.0  0.0   2.0   87.0  0.022989  0.942529  0.011494   \n",
       "1754      0.0   60.0  0.0  0.0   2.0   62.0  0.000000  0.967742  0.000000   \n",
       "1762      0.0   26.0  0.0  0.0   1.0   27.0  0.000000  0.962963  0.000000   \n",
       "1773      1.0   78.0  0.0  0.0   1.0   80.0  0.012500  0.975000  0.000000   \n",
       "1784      0.0    0.0  0.0  0.0   1.0    1.0  0.000000  0.000000  0.000000   \n",
       "1796      2.0   49.0  0.0  0.0   0.0   51.0  0.039216  0.960784  0.000000   \n",
       "1802      9.0   81.0  0.0  0.0   2.0   92.0  0.097826  0.880435  0.000000   \n",
       "1814      3.0  109.0  0.0  0.0   3.0  115.0  0.026087  0.947826  0.000000   \n",
       "1821      7.0  165.0  0.0  0.0   1.0  173.0  0.040462  0.953757  0.000000   \n",
       "1835     12.0  104.0  0.0  0.0   4.0  120.0  0.100000  0.866667  0.000000   \n",
       "1841      3.0   99.0  0.0  0.0   5.0  107.0  0.028037  0.925234  0.000000   \n",
       "1853     13.0   74.0  0.0  0.0   5.0   92.0  0.141304  0.804348  0.000000   \n",
       "1865      9.0   63.0  0.0  1.0   8.0   81.0  0.111111  0.777778  0.000000   \n",
       "1872      4.0   54.0  0.0  0.0  11.0   69.0  0.057971  0.782609  0.000000   \n",
       "1881     12.0   68.0  0.0  0.0   5.0   85.0  0.141176  0.800000  0.000000   \n",
       "1896      9.0   35.0  0.0  0.0   5.0   49.0  0.183673  0.714286  0.000000   \n",
       "1902     10.0   96.0  0.0  1.0  17.0  124.0  0.080645  0.774194  0.000000   \n",
       "1913     14.0   49.0  0.0  0.0   6.0   69.0  0.202899  0.710145  0.000000   \n",
       "\n",
       "cluster  c_3_perc  c_4_perc  \n",
       "year                         \n",
       "1720     0.000000  0.026667  \n",
       "1731     0.000000  0.025641  \n",
       "1742     0.000000  0.022989  \n",
       "1754     0.000000  0.032258  \n",
       "1762     0.000000  0.037037  \n",
       "1773     0.000000  0.012500  \n",
       "1784     0.000000  1.000000  \n",
       "1796     0.000000  0.000000  \n",
       "1802     0.000000  0.021739  \n",
       "1814     0.000000  0.026087  \n",
       "1821     0.000000  0.005780  \n",
       "1835     0.000000  0.033333  \n",
       "1841     0.000000  0.046729  \n",
       "1853     0.000000  0.054348  \n",
       "1865     0.012346  0.098765  \n",
       "1872     0.000000  0.159420  \n",
       "1881     0.000000  0.058824  \n",
       "1896     0.000000  0.102041  \n",
       "1902     0.008065  0.137097  \n",
       "1913     0.000000  0.086957  "
      ]
     },
     "execution_count": 35,
     "metadata": {},
     "output_type": "execute_result"
    }
   ],
   "source": [
    "# full df\n",
    "df_year_cluster"
   ]
  },
  {
   "cell_type": "code",
   "execution_count": 36,
   "metadata": {},
   "outputs": [
    {
     "name": "stdout",
     "output_type": "stream",
     "text": [
      "Will use columns ['c_0_perc', 'c_1_perc', 'c_2_perc', 'c_3_perc', 'c_4_perc'] for plotting\n"
     ]
    },
    {
     "data": {
      "application/vnd.plotly.v1+json": {
       "config": {
        "plotlyServerURL": "https://plot.ly"
       },
       "data": [
        {
         "alignmentgroup": "True",
         "hovertemplate": "variable=c_0_perc<br>year=%{x}<br>value=%{y}<extra></extra>",
         "legendgroup": "c_0_perc",
         "marker": {
          "color": "#636efa",
          "pattern": {
           "shape": ""
          }
         },
         "name": "c_0_perc",
         "offsetgroup": "c_0_perc",
         "orientation": "v",
         "showlegend": true,
         "textposition": "auto",
         "type": "bar",
         "x": [
          1720,
          1731,
          1742,
          1754,
          1762,
          1773,
          1784,
          1796,
          1802,
          1814,
          1821,
          1835,
          1841,
          1853,
          1865,
          1872,
          1881,
          1896,
          1902,
          1913
         ],
         "xaxis": "x",
         "y": [
          0,
          0,
          0.022988505747126436,
          0,
          0,
          0.0125,
          0,
          0.0392156862745098,
          0.09782608695652174,
          0.02608695652173913,
          0.04046242774566474,
          0.1,
          0.028037383177570093,
          0.14130434782608695,
          0.1111111111111111,
          0.057971014492753624,
          0.1411764705882353,
          0.1836734693877551,
          0.08064516129032258,
          0.2028985507246377
         ],
         "yaxis": "y"
        },
        {
         "alignmentgroup": "True",
         "hovertemplate": "variable=c_1_perc<br>year=%{x}<br>value=%{y}<extra></extra>",
         "legendgroup": "c_1_perc",
         "marker": {
          "color": "#EF553B",
          "pattern": {
           "shape": ""
          }
         },
         "name": "c_1_perc",
         "offsetgroup": "c_1_perc",
         "orientation": "v",
         "showlegend": true,
         "textposition": "auto",
         "type": "bar",
         "x": [
          1720,
          1731,
          1742,
          1754,
          1762,
          1773,
          1784,
          1796,
          1802,
          1814,
          1821,
          1835,
          1841,
          1853,
          1865,
          1872,
          1881,
          1896,
          1902,
          1913
         ],
         "xaxis": "x",
         "y": [
          0.9733333333333334,
          0.9743589743589743,
          0.9425287356321839,
          0.967741935483871,
          0.9629629629629629,
          0.975,
          0,
          0.9607843137254902,
          0.8804347826086957,
          0.9478260869565217,
          0.953757225433526,
          0.8666666666666667,
          0.9252336448598131,
          0.8043478260869565,
          0.7777777777777778,
          0.782608695652174,
          0.8,
          0.7142857142857143,
          0.7741935483870968,
          0.7101449275362319
         ],
         "yaxis": "y"
        },
        {
         "alignmentgroup": "True",
         "hovertemplate": "variable=c_2_perc<br>year=%{x}<br>value=%{y}<extra></extra>",
         "legendgroup": "c_2_perc",
         "marker": {
          "color": "#00cc96",
          "pattern": {
           "shape": ""
          }
         },
         "name": "c_2_perc",
         "offsetgroup": "c_2_perc",
         "orientation": "v",
         "showlegend": true,
         "textposition": "auto",
         "type": "bar",
         "x": [
          1720,
          1731,
          1742,
          1754,
          1762,
          1773,
          1784,
          1796,
          1802,
          1814,
          1821,
          1835,
          1841,
          1853,
          1865,
          1872,
          1881,
          1896,
          1902,
          1913
         ],
         "xaxis": "x",
         "y": [
          0,
          0,
          0.011494252873563218,
          0,
          0,
          0,
          0,
          0,
          0,
          0,
          0,
          0,
          0,
          0,
          0,
          0,
          0,
          0,
          0,
          0
         ],
         "yaxis": "y"
        },
        {
         "alignmentgroup": "True",
         "hovertemplate": "variable=c_3_perc<br>year=%{x}<br>value=%{y}<extra></extra>",
         "legendgroup": "c_3_perc",
         "marker": {
          "color": "#ab63fa",
          "pattern": {
           "shape": ""
          }
         },
         "name": "c_3_perc",
         "offsetgroup": "c_3_perc",
         "orientation": "v",
         "showlegend": true,
         "textposition": "auto",
         "type": "bar",
         "x": [
          1720,
          1731,
          1742,
          1754,
          1762,
          1773,
          1784,
          1796,
          1802,
          1814,
          1821,
          1835,
          1841,
          1853,
          1865,
          1872,
          1881,
          1896,
          1902,
          1913
         ],
         "xaxis": "x",
         "y": [
          0,
          0,
          0,
          0,
          0,
          0,
          0,
          0,
          0,
          0,
          0,
          0,
          0,
          0,
          0.012345679012345678,
          0,
          0,
          0,
          0.008064516129032258,
          0
         ],
         "yaxis": "y"
        },
        {
         "alignmentgroup": "True",
         "hovertemplate": "variable=c_4_perc<br>year=%{x}<br>value=%{y}<extra></extra>",
         "legendgroup": "c_4_perc",
         "marker": {
          "color": "#FFA15A",
          "pattern": {
           "shape": ""
          }
         },
         "name": "c_4_perc",
         "offsetgroup": "c_4_perc",
         "orientation": "v",
         "showlegend": true,
         "textposition": "auto",
         "type": "bar",
         "x": [
          1720,
          1731,
          1742,
          1754,
          1762,
          1773,
          1784,
          1796,
          1802,
          1814,
          1821,
          1835,
          1841,
          1853,
          1865,
          1872,
          1881,
          1896,
          1902,
          1913
         ],
         "xaxis": "x",
         "y": [
          0.02666666666666667,
          0.02564102564102564,
          0.022988505747126436,
          0.03225806451612903,
          0.037037037037037035,
          0.0125,
          1,
          0,
          0.021739130434782608,
          0.02608695652173913,
          0.005780346820809248,
          0.03333333333333333,
          0.04672897196261682,
          0.05434782608695652,
          0.09876543209876543,
          0.15942028985507245,
          0.058823529411764705,
          0.10204081632653061,
          0.13709677419354838,
          0.08695652173913043
         ],
         "yaxis": "y"
        }
       ],
       "layout": {
        "barmode": "relative",
        "legend": {
         "title": {
          "text": "variable"
         },
         "tracegroupgap": 0
        },
        "template": {
         "data": {
          "bar": [
           {
            "error_x": {
             "color": "#2a3f5f"
            },
            "error_y": {
             "color": "#2a3f5f"
            },
            "marker": {
             "line": {
              "color": "#E5ECF6",
              "width": 0.5
             },
             "pattern": {
              "fillmode": "overlay",
              "size": 10,
              "solidity": 0.2
             }
            },
            "type": "bar"
           }
          ],
          "barpolar": [
           {
            "marker": {
             "line": {
              "color": "#E5ECF6",
              "width": 0.5
             },
             "pattern": {
              "fillmode": "overlay",
              "size": 10,
              "solidity": 0.2
             }
            },
            "type": "barpolar"
           }
          ],
          "carpet": [
           {
            "aaxis": {
             "endlinecolor": "#2a3f5f",
             "gridcolor": "white",
             "linecolor": "white",
             "minorgridcolor": "white",
             "startlinecolor": "#2a3f5f"
            },
            "baxis": {
             "endlinecolor": "#2a3f5f",
             "gridcolor": "white",
             "linecolor": "white",
             "minorgridcolor": "white",
             "startlinecolor": "#2a3f5f"
            },
            "type": "carpet"
           }
          ],
          "choropleth": [
           {
            "colorbar": {
             "outlinewidth": 0,
             "ticks": ""
            },
            "type": "choropleth"
           }
          ],
          "contour": [
           {
            "colorbar": {
             "outlinewidth": 0,
             "ticks": ""
            },
            "colorscale": [
             [
              0,
              "#0d0887"
             ],
             [
              0.1111111111111111,
              "#46039f"
             ],
             [
              0.2222222222222222,
              "#7201a8"
             ],
             [
              0.3333333333333333,
              "#9c179e"
             ],
             [
              0.4444444444444444,
              "#bd3786"
             ],
             [
              0.5555555555555556,
              "#d8576b"
             ],
             [
              0.6666666666666666,
              "#ed7953"
             ],
             [
              0.7777777777777778,
              "#fb9f3a"
             ],
             [
              0.8888888888888888,
              "#fdca26"
             ],
             [
              1,
              "#f0f921"
             ]
            ],
            "type": "contour"
           }
          ],
          "contourcarpet": [
           {
            "colorbar": {
             "outlinewidth": 0,
             "ticks": ""
            },
            "type": "contourcarpet"
           }
          ],
          "heatmap": [
           {
            "colorbar": {
             "outlinewidth": 0,
             "ticks": ""
            },
            "colorscale": [
             [
              0,
              "#0d0887"
             ],
             [
              0.1111111111111111,
              "#46039f"
             ],
             [
              0.2222222222222222,
              "#7201a8"
             ],
             [
              0.3333333333333333,
              "#9c179e"
             ],
             [
              0.4444444444444444,
              "#bd3786"
             ],
             [
              0.5555555555555556,
              "#d8576b"
             ],
             [
              0.6666666666666666,
              "#ed7953"
             ],
             [
              0.7777777777777778,
              "#fb9f3a"
             ],
             [
              0.8888888888888888,
              "#fdca26"
             ],
             [
              1,
              "#f0f921"
             ]
            ],
            "type": "heatmap"
           }
          ],
          "heatmapgl": [
           {
            "colorbar": {
             "outlinewidth": 0,
             "ticks": ""
            },
            "colorscale": [
             [
              0,
              "#0d0887"
             ],
             [
              0.1111111111111111,
              "#46039f"
             ],
             [
              0.2222222222222222,
              "#7201a8"
             ],
             [
              0.3333333333333333,
              "#9c179e"
             ],
             [
              0.4444444444444444,
              "#bd3786"
             ],
             [
              0.5555555555555556,
              "#d8576b"
             ],
             [
              0.6666666666666666,
              "#ed7953"
             ],
             [
              0.7777777777777778,
              "#fb9f3a"
             ],
             [
              0.8888888888888888,
              "#fdca26"
             ],
             [
              1,
              "#f0f921"
             ]
            ],
            "type": "heatmapgl"
           }
          ],
          "histogram": [
           {
            "marker": {
             "pattern": {
              "fillmode": "overlay",
              "size": 10,
              "solidity": 0.2
             }
            },
            "type": "histogram"
           }
          ],
          "histogram2d": [
           {
            "colorbar": {
             "outlinewidth": 0,
             "ticks": ""
            },
            "colorscale": [
             [
              0,
              "#0d0887"
             ],
             [
              0.1111111111111111,
              "#46039f"
             ],
             [
              0.2222222222222222,
              "#7201a8"
             ],
             [
              0.3333333333333333,
              "#9c179e"
             ],
             [
              0.4444444444444444,
              "#bd3786"
             ],
             [
              0.5555555555555556,
              "#d8576b"
             ],
             [
              0.6666666666666666,
              "#ed7953"
             ],
             [
              0.7777777777777778,
              "#fb9f3a"
             ],
             [
              0.8888888888888888,
              "#fdca26"
             ],
             [
              1,
              "#f0f921"
             ]
            ],
            "type": "histogram2d"
           }
          ],
          "histogram2dcontour": [
           {
            "colorbar": {
             "outlinewidth": 0,
             "ticks": ""
            },
            "colorscale": [
             [
              0,
              "#0d0887"
             ],
             [
              0.1111111111111111,
              "#46039f"
             ],
             [
              0.2222222222222222,
              "#7201a8"
             ],
             [
              0.3333333333333333,
              "#9c179e"
             ],
             [
              0.4444444444444444,
              "#bd3786"
             ],
             [
              0.5555555555555556,
              "#d8576b"
             ],
             [
              0.6666666666666666,
              "#ed7953"
             ],
             [
              0.7777777777777778,
              "#fb9f3a"
             ],
             [
              0.8888888888888888,
              "#fdca26"
             ],
             [
              1,
              "#f0f921"
             ]
            ],
            "type": "histogram2dcontour"
           }
          ],
          "mesh3d": [
           {
            "colorbar": {
             "outlinewidth": 0,
             "ticks": ""
            },
            "type": "mesh3d"
           }
          ],
          "parcoords": [
           {
            "line": {
             "colorbar": {
              "outlinewidth": 0,
              "ticks": ""
             }
            },
            "type": "parcoords"
           }
          ],
          "pie": [
           {
            "automargin": true,
            "type": "pie"
           }
          ],
          "scatter": [
           {
            "fillpattern": {
             "fillmode": "overlay",
             "size": 10,
             "solidity": 0.2
            },
            "type": "scatter"
           }
          ],
          "scatter3d": [
           {
            "line": {
             "colorbar": {
              "outlinewidth": 0,
              "ticks": ""
             }
            },
            "marker": {
             "colorbar": {
              "outlinewidth": 0,
              "ticks": ""
             }
            },
            "type": "scatter3d"
           }
          ],
          "scattercarpet": [
           {
            "marker": {
             "colorbar": {
              "outlinewidth": 0,
              "ticks": ""
             }
            },
            "type": "scattercarpet"
           }
          ],
          "scattergeo": [
           {
            "marker": {
             "colorbar": {
              "outlinewidth": 0,
              "ticks": ""
             }
            },
            "type": "scattergeo"
           }
          ],
          "scattergl": [
           {
            "marker": {
             "colorbar": {
              "outlinewidth": 0,
              "ticks": ""
             }
            },
            "type": "scattergl"
           }
          ],
          "scattermapbox": [
           {
            "marker": {
             "colorbar": {
              "outlinewidth": 0,
              "ticks": ""
             }
            },
            "type": "scattermapbox"
           }
          ],
          "scatterpolar": [
           {
            "marker": {
             "colorbar": {
              "outlinewidth": 0,
              "ticks": ""
             }
            },
            "type": "scatterpolar"
           }
          ],
          "scatterpolargl": [
           {
            "marker": {
             "colorbar": {
              "outlinewidth": 0,
              "ticks": ""
             }
            },
            "type": "scatterpolargl"
           }
          ],
          "scatterternary": [
           {
            "marker": {
             "colorbar": {
              "outlinewidth": 0,
              "ticks": ""
             }
            },
            "type": "scatterternary"
           }
          ],
          "surface": [
           {
            "colorbar": {
             "outlinewidth": 0,
             "ticks": ""
            },
            "colorscale": [
             [
              0,
              "#0d0887"
             ],
             [
              0.1111111111111111,
              "#46039f"
             ],
             [
              0.2222222222222222,
              "#7201a8"
             ],
             [
              0.3333333333333333,
              "#9c179e"
             ],
             [
              0.4444444444444444,
              "#bd3786"
             ],
             [
              0.5555555555555556,
              "#d8576b"
             ],
             [
              0.6666666666666666,
              "#ed7953"
             ],
             [
              0.7777777777777778,
              "#fb9f3a"
             ],
             [
              0.8888888888888888,
              "#fdca26"
             ],
             [
              1,
              "#f0f921"
             ]
            ],
            "type": "surface"
           }
          ],
          "table": [
           {
            "cells": {
             "fill": {
              "color": "#EBF0F8"
             },
             "line": {
              "color": "white"
             }
            },
            "header": {
             "fill": {
              "color": "#C8D4E3"
             },
             "line": {
              "color": "white"
             }
            },
            "type": "table"
           }
          ]
         },
         "layout": {
          "annotationdefaults": {
           "arrowcolor": "#2a3f5f",
           "arrowhead": 0,
           "arrowwidth": 1
          },
          "autotypenumbers": "strict",
          "coloraxis": {
           "colorbar": {
            "outlinewidth": 0,
            "ticks": ""
           }
          },
          "colorscale": {
           "diverging": [
            [
             0,
             "#8e0152"
            ],
            [
             0.1,
             "#c51b7d"
            ],
            [
             0.2,
             "#de77ae"
            ],
            [
             0.3,
             "#f1b6da"
            ],
            [
             0.4,
             "#fde0ef"
            ],
            [
             0.5,
             "#f7f7f7"
            ],
            [
             0.6,
             "#e6f5d0"
            ],
            [
             0.7,
             "#b8e186"
            ],
            [
             0.8,
             "#7fbc41"
            ],
            [
             0.9,
             "#4d9221"
            ],
            [
             1,
             "#276419"
            ]
           ],
           "sequential": [
            [
             0,
             "#0d0887"
            ],
            [
             0.1111111111111111,
             "#46039f"
            ],
            [
             0.2222222222222222,
             "#7201a8"
            ],
            [
             0.3333333333333333,
             "#9c179e"
            ],
            [
             0.4444444444444444,
             "#bd3786"
            ],
            [
             0.5555555555555556,
             "#d8576b"
            ],
            [
             0.6666666666666666,
             "#ed7953"
            ],
            [
             0.7777777777777778,
             "#fb9f3a"
            ],
            [
             0.8888888888888888,
             "#fdca26"
            ],
            [
             1,
             "#f0f921"
            ]
           ],
           "sequentialminus": [
            [
             0,
             "#0d0887"
            ],
            [
             0.1111111111111111,
             "#46039f"
            ],
            [
             0.2222222222222222,
             "#7201a8"
            ],
            [
             0.3333333333333333,
             "#9c179e"
            ],
            [
             0.4444444444444444,
             "#bd3786"
            ],
            [
             0.5555555555555556,
             "#d8576b"
            ],
            [
             0.6666666666666666,
             "#ed7953"
            ],
            [
             0.7777777777777778,
             "#fb9f3a"
            ],
            [
             0.8888888888888888,
             "#fdca26"
            ],
            [
             1,
             "#f0f921"
            ]
           ]
          },
          "colorway": [
           "#636efa",
           "#EF553B",
           "#00cc96",
           "#ab63fa",
           "#FFA15A",
           "#19d3f3",
           "#FF6692",
           "#B6E880",
           "#FF97FF",
           "#FECB52"
          ],
          "font": {
           "color": "#2a3f5f"
          },
          "geo": {
           "bgcolor": "white",
           "lakecolor": "white",
           "landcolor": "#E5ECF6",
           "showlakes": true,
           "showland": true,
           "subunitcolor": "white"
          },
          "hoverlabel": {
           "align": "left"
          },
          "hovermode": "closest",
          "mapbox": {
           "style": "light"
          },
          "paper_bgcolor": "white",
          "plot_bgcolor": "#E5ECF6",
          "polar": {
           "angularaxis": {
            "gridcolor": "white",
            "linecolor": "white",
            "ticks": ""
           },
           "bgcolor": "#E5ECF6",
           "radialaxis": {
            "gridcolor": "white",
            "linecolor": "white",
            "ticks": ""
           }
          },
          "scene": {
           "xaxis": {
            "backgroundcolor": "#E5ECF6",
            "gridcolor": "white",
            "gridwidth": 2,
            "linecolor": "white",
            "showbackground": true,
            "ticks": "",
            "zerolinecolor": "white"
           },
           "yaxis": {
            "backgroundcolor": "#E5ECF6",
            "gridcolor": "white",
            "gridwidth": 2,
            "linecolor": "white",
            "showbackground": true,
            "ticks": "",
            "zerolinecolor": "white"
           },
           "zaxis": {
            "backgroundcolor": "#E5ECF6",
            "gridcolor": "white",
            "gridwidth": 2,
            "linecolor": "white",
            "showbackground": true,
            "ticks": "",
            "zerolinecolor": "white"
           }
          },
          "shapedefaults": {
           "line": {
            "color": "#2a3f5f"
           }
          },
          "ternary": {
           "aaxis": {
            "gridcolor": "white",
            "linecolor": "white",
            "ticks": ""
           },
           "baxis": {
            "gridcolor": "white",
            "linecolor": "white",
            "ticks": ""
           },
           "bgcolor": "#E5ECF6",
           "caxis": {
            "gridcolor": "white",
            "linecolor": "white",
            "ticks": ""
           }
          },
          "title": {
           "x": 0.05
          },
          "xaxis": {
           "automargin": true,
           "gridcolor": "white",
           "linecolor": "white",
           "ticks": "",
           "title": {
            "standoff": 15
           },
           "zerolinecolor": "white",
           "zerolinewidth": 2
          },
          "yaxis": {
           "automargin": true,
           "gridcolor": "white",
           "linecolor": "white",
           "ticks": "",
           "title": {
            "standoff": 15
           },
           "zerolinecolor": "white",
           "zerolinewidth": 2
          }
         }
        },
        "title": {
         "text": "Proportion of clusters over the years"
        },
        "xaxis": {
         "anchor": "y",
         "domain": [
          0,
          1
         ],
         "title": {
          "text": "year"
         }
        },
        "yaxis": {
         "anchor": "x",
         "domain": [
          0,
          1
         ],
         "title": {
          "text": "value"
         }
        }
       }
      }
     },
     "metadata": {},
     "output_type": "display_data"
    }
   ],
   "source": [
    "# now we can plot our last 5 columns as 100% stacked bar chart\n",
    "# using x as year and y as proportion of each cluster\n",
    "\n",
    "# let's use plotly express for our plot\n",
    "\n",
    "import plotly.express as px\n",
    "\n",
    "# let's create a list of our columns to plot\n",
    "\n",
    "columns_to_plot = [f\"c_{cluster}_perc\" for cluster in range(5)]\n",
    "print(f\"Will use columns {columns_to_plot} for plotting\")\n",
    "# let's check out our list\n",
    "\n",
    "# so x axis will be year and y axis will be proportion of each cluster\n",
    "\n",
    "# let's plot our data\n",
    "\n",
    "fig = px.bar(df_year_cluster, \n",
    "             x=df_year_cluster.index, \n",
    "             y=columns_to_plot, \n",
    "             title=\"Proportion of clusters over the years\", \n",
    "             labels={'x':'Year', 'y':'Proportion of clusters'})\n",
    "\n",
    "# let's show our plot\n",
    "fig.show()"
   ]
  },
  {
   "cell_type": "markdown",
   "metadata": {},
   "source": [
    "### Conclusions from 5 clusters\n",
    "\n",
    "We can certainly see some interesting trends over the years.\n",
    "\n",
    "What is really interesting is that year 1784 is all one cluster. This would require further investigation. It is quite surprising that the year 1784 is so different from the rest of the years.\n",
    "\n",
    "Some possible explanations:\n",
    "\n",
    "* It is possible that there is some corruption in the data.\n",
    "* It is possible that the year 1784 is a year of some major event that is not captured in the data.\n",
    "* It is possible that doc2vec that generated the embeddings is not working properly.\n",
    "* it is quite possible that 1784 has some unique characteristics that are not present in other years. Maybe a special header is present in the documents from 1784 that is not present in other years.\n",
    "\n",
    "\n",
    "\n",
    "We have to remember that kmeans is an unsupervised algorithm and it is up to us to interpret the results.\n",
    "\n",
    "Also it is \"how high to jump\" question. We can try 10 clusters and see what happens. We can also try 3 clusters and see what happens."
   ]
  },
  {
   "cell_type": "markdown",
   "metadata": {},
   "source": [
    "## How to determine the number of clusters\n",
    "\n",
    "This is the million dollar question. There are many ways to determine the number of clusters. One way is to use the elbow method. The elbow method is a heuristic that looks at the percentage of variance explained as a function of the number of clusters. The idea is that as we increase the number of clusters, the percentage of variance explained will increase. At some point, adding more clusters will not add much explanatory power. This point is called the elbow. The elbow method looks for the point where the percentage of variance explained stops increasing quickly."
   ]
  },
  {
   "cell_type": "code",
   "execution_count": 37,
   "metadata": {},
   "outputs": [
    {
     "name": "stderr",
     "output_type": "stream",
     "text": [
      "  0%|          | 0/20 [00:00<?, ?it/s]"
     ]
    },
    {
     "name": "stderr",
     "output_type": "stream",
     "text": [
      "100%|██████████| 20/20 [00:06<00:00,  3.22it/s]\n"
     ]
    },
    {
     "data": {
      "text/plain": [
       "[116454.24168168934,\n",
       " 109547.91759786427,\n",
       " 104767.04338962861,\n",
       " 101978.89930226818,\n",
       " 99699.21626579801,\n",
       " 97622.49416295285,\n",
       " 96519.19296511401,\n",
       " 94214.89038892224,\n",
       " 93088.05295048565,\n",
       " 92143.85968502212,\n",
       " 90281.7602267529,\n",
       " 89502.79298458582,\n",
       " 88626.78820392436,\n",
       " 88243.05197473442,\n",
       " 86478.22856132852,\n",
       " 86294.93443609167,\n",
       " 84768.51047949109,\n",
       " 84649.90035167981,\n",
       " 83762.45609139431,\n",
       " 82851.86178853942]"
      ]
     },
     "execution_count": 37,
     "metadata": {},
     "output_type": "execute_result"
    }
   ],
   "source": [
    "# now let's see if we can find the elbow of our kmeans model\n",
    "# we will calculate km.inertia_ for each number of clusters from 1 to 20\n",
    "# we will plot the results\n",
    "\n",
    "# let's create a list of inertia values\n",
    "inertia_values = []\n",
    "# let's create a list of number of clusters\n",
    "n_clusters = list(range(1, 21)) # 1 is kind of silly of course but we will do it for completeness\n",
    "# usually you would want to start with 2 clusters and go up to 10 or 20\n",
    "\n",
    "from tqdm import tqdm # tqdm is a nice progress bar library\n",
    "\n",
    "# let's loop through our number of clusters\n",
    "# kmeans is fast enough and our dataset small enough so we can do it in a loop\n",
    "for n_cluster in tqdm(n_clusters):\n",
    "    # let's create a kmeans model\n",
    "    kmeans_model = KMeans(n_clusters=n_cluster, random_state=42, n_init=10)\n",
    "    # let's train our model\n",
    "    kmeans_model.fit(X_list)\n",
    "    # let's get inertia value\n",
    "    inertia_values.append(kmeans_model.inertia_)\n",
    "\n",
    "# let's check out our inertia values\n",
    "inertia_values\n"
   ]
  },
  {
   "cell_type": "code",
   "execution_count": 38,
   "metadata": {},
   "outputs": [
    {
     "data": {
      "application/vnd.plotly.v1+json": {
       "config": {
        "plotlyServerURL": "https://plot.ly"
       },
       "data": [
        {
         "hovertemplate": "x=%{x}<br>y=%{y}<extra></extra>",
         "legendgroup": "",
         "line": {
          "color": "#636efa",
          "dash": "solid"
         },
         "marker": {
          "symbol": "circle"
         },
         "mode": "lines",
         "name": "",
         "orientation": "v",
         "showlegend": false,
         "type": "scatter",
         "x": [
          1,
          2,
          3,
          4,
          5,
          6,
          7,
          8,
          9,
          10,
          11,
          12,
          13,
          14,
          15,
          16,
          17,
          18,
          19,
          20
         ],
         "xaxis": "x",
         "y": [
          116454.24168168934,
          109547.91759786427,
          104767.04338962861,
          101978.89930226818,
          99699.21626579801,
          97622.49416295285,
          96519.19296511401,
          94214.89038892224,
          93088.05295048565,
          92143.85968502212,
          90281.7602267529,
          89502.79298458582,
          88626.78820392436,
          88243.05197473442,
          86478.22856132852,
          86294.93443609167,
          84768.51047949109,
          84649.90035167981,
          83762.45609139431,
          82851.86178853942
         ],
         "yaxis": "y"
        }
       ],
       "layout": {
        "legend": {
         "tracegroupgap": 0
        },
        "template": {
         "data": {
          "bar": [
           {
            "error_x": {
             "color": "#2a3f5f"
            },
            "error_y": {
             "color": "#2a3f5f"
            },
            "marker": {
             "line": {
              "color": "#E5ECF6",
              "width": 0.5
             },
             "pattern": {
              "fillmode": "overlay",
              "size": 10,
              "solidity": 0.2
             }
            },
            "type": "bar"
           }
          ],
          "barpolar": [
           {
            "marker": {
             "line": {
              "color": "#E5ECF6",
              "width": 0.5
             },
             "pattern": {
              "fillmode": "overlay",
              "size": 10,
              "solidity": 0.2
             }
            },
            "type": "barpolar"
           }
          ],
          "carpet": [
           {
            "aaxis": {
             "endlinecolor": "#2a3f5f",
             "gridcolor": "white",
             "linecolor": "white",
             "minorgridcolor": "white",
             "startlinecolor": "#2a3f5f"
            },
            "baxis": {
             "endlinecolor": "#2a3f5f",
             "gridcolor": "white",
             "linecolor": "white",
             "minorgridcolor": "white",
             "startlinecolor": "#2a3f5f"
            },
            "type": "carpet"
           }
          ],
          "choropleth": [
           {
            "colorbar": {
             "outlinewidth": 0,
             "ticks": ""
            },
            "type": "choropleth"
           }
          ],
          "contour": [
           {
            "colorbar": {
             "outlinewidth": 0,
             "ticks": ""
            },
            "colorscale": [
             [
              0,
              "#0d0887"
             ],
             [
              0.1111111111111111,
              "#46039f"
             ],
             [
              0.2222222222222222,
              "#7201a8"
             ],
             [
              0.3333333333333333,
              "#9c179e"
             ],
             [
              0.4444444444444444,
              "#bd3786"
             ],
             [
              0.5555555555555556,
              "#d8576b"
             ],
             [
              0.6666666666666666,
              "#ed7953"
             ],
             [
              0.7777777777777778,
              "#fb9f3a"
             ],
             [
              0.8888888888888888,
              "#fdca26"
             ],
             [
              1,
              "#f0f921"
             ]
            ],
            "type": "contour"
           }
          ],
          "contourcarpet": [
           {
            "colorbar": {
             "outlinewidth": 0,
             "ticks": ""
            },
            "type": "contourcarpet"
           }
          ],
          "heatmap": [
           {
            "colorbar": {
             "outlinewidth": 0,
             "ticks": ""
            },
            "colorscale": [
             [
              0,
              "#0d0887"
             ],
             [
              0.1111111111111111,
              "#46039f"
             ],
             [
              0.2222222222222222,
              "#7201a8"
             ],
             [
              0.3333333333333333,
              "#9c179e"
             ],
             [
              0.4444444444444444,
              "#bd3786"
             ],
             [
              0.5555555555555556,
              "#d8576b"
             ],
             [
              0.6666666666666666,
              "#ed7953"
             ],
             [
              0.7777777777777778,
              "#fb9f3a"
             ],
             [
              0.8888888888888888,
              "#fdca26"
             ],
             [
              1,
              "#f0f921"
             ]
            ],
            "type": "heatmap"
           }
          ],
          "heatmapgl": [
           {
            "colorbar": {
             "outlinewidth": 0,
             "ticks": ""
            },
            "colorscale": [
             [
              0,
              "#0d0887"
             ],
             [
              0.1111111111111111,
              "#46039f"
             ],
             [
              0.2222222222222222,
              "#7201a8"
             ],
             [
              0.3333333333333333,
              "#9c179e"
             ],
             [
              0.4444444444444444,
              "#bd3786"
             ],
             [
              0.5555555555555556,
              "#d8576b"
             ],
             [
              0.6666666666666666,
              "#ed7953"
             ],
             [
              0.7777777777777778,
              "#fb9f3a"
             ],
             [
              0.8888888888888888,
              "#fdca26"
             ],
             [
              1,
              "#f0f921"
             ]
            ],
            "type": "heatmapgl"
           }
          ],
          "histogram": [
           {
            "marker": {
             "pattern": {
              "fillmode": "overlay",
              "size": 10,
              "solidity": 0.2
             }
            },
            "type": "histogram"
           }
          ],
          "histogram2d": [
           {
            "colorbar": {
             "outlinewidth": 0,
             "ticks": ""
            },
            "colorscale": [
             [
              0,
              "#0d0887"
             ],
             [
              0.1111111111111111,
              "#46039f"
             ],
             [
              0.2222222222222222,
              "#7201a8"
             ],
             [
              0.3333333333333333,
              "#9c179e"
             ],
             [
              0.4444444444444444,
              "#bd3786"
             ],
             [
              0.5555555555555556,
              "#d8576b"
             ],
             [
              0.6666666666666666,
              "#ed7953"
             ],
             [
              0.7777777777777778,
              "#fb9f3a"
             ],
             [
              0.8888888888888888,
              "#fdca26"
             ],
             [
              1,
              "#f0f921"
             ]
            ],
            "type": "histogram2d"
           }
          ],
          "histogram2dcontour": [
           {
            "colorbar": {
             "outlinewidth": 0,
             "ticks": ""
            },
            "colorscale": [
             [
              0,
              "#0d0887"
             ],
             [
              0.1111111111111111,
              "#46039f"
             ],
             [
              0.2222222222222222,
              "#7201a8"
             ],
             [
              0.3333333333333333,
              "#9c179e"
             ],
             [
              0.4444444444444444,
              "#bd3786"
             ],
             [
              0.5555555555555556,
              "#d8576b"
             ],
             [
              0.6666666666666666,
              "#ed7953"
             ],
             [
              0.7777777777777778,
              "#fb9f3a"
             ],
             [
              0.8888888888888888,
              "#fdca26"
             ],
             [
              1,
              "#f0f921"
             ]
            ],
            "type": "histogram2dcontour"
           }
          ],
          "mesh3d": [
           {
            "colorbar": {
             "outlinewidth": 0,
             "ticks": ""
            },
            "type": "mesh3d"
           }
          ],
          "parcoords": [
           {
            "line": {
             "colorbar": {
              "outlinewidth": 0,
              "ticks": ""
             }
            },
            "type": "parcoords"
           }
          ],
          "pie": [
           {
            "automargin": true,
            "type": "pie"
           }
          ],
          "scatter": [
           {
            "fillpattern": {
             "fillmode": "overlay",
             "size": 10,
             "solidity": 0.2
            },
            "type": "scatter"
           }
          ],
          "scatter3d": [
           {
            "line": {
             "colorbar": {
              "outlinewidth": 0,
              "ticks": ""
             }
            },
            "marker": {
             "colorbar": {
              "outlinewidth": 0,
              "ticks": ""
             }
            },
            "type": "scatter3d"
           }
          ],
          "scattercarpet": [
           {
            "marker": {
             "colorbar": {
              "outlinewidth": 0,
              "ticks": ""
             }
            },
            "type": "scattercarpet"
           }
          ],
          "scattergeo": [
           {
            "marker": {
             "colorbar": {
              "outlinewidth": 0,
              "ticks": ""
             }
            },
            "type": "scattergeo"
           }
          ],
          "scattergl": [
           {
            "marker": {
             "colorbar": {
              "outlinewidth": 0,
              "ticks": ""
             }
            },
            "type": "scattergl"
           }
          ],
          "scattermapbox": [
           {
            "marker": {
             "colorbar": {
              "outlinewidth": 0,
              "ticks": ""
             }
            },
            "type": "scattermapbox"
           }
          ],
          "scatterpolar": [
           {
            "marker": {
             "colorbar": {
              "outlinewidth": 0,
              "ticks": ""
             }
            },
            "type": "scatterpolar"
           }
          ],
          "scatterpolargl": [
           {
            "marker": {
             "colorbar": {
              "outlinewidth": 0,
              "ticks": ""
             }
            },
            "type": "scatterpolargl"
           }
          ],
          "scatterternary": [
           {
            "marker": {
             "colorbar": {
              "outlinewidth": 0,
              "ticks": ""
             }
            },
            "type": "scatterternary"
           }
          ],
          "surface": [
           {
            "colorbar": {
             "outlinewidth": 0,
             "ticks": ""
            },
            "colorscale": [
             [
              0,
              "#0d0887"
             ],
             [
              0.1111111111111111,
              "#46039f"
             ],
             [
              0.2222222222222222,
              "#7201a8"
             ],
             [
              0.3333333333333333,
              "#9c179e"
             ],
             [
              0.4444444444444444,
              "#bd3786"
             ],
             [
              0.5555555555555556,
              "#d8576b"
             ],
             [
              0.6666666666666666,
              "#ed7953"
             ],
             [
              0.7777777777777778,
              "#fb9f3a"
             ],
             [
              0.8888888888888888,
              "#fdca26"
             ],
             [
              1,
              "#f0f921"
             ]
            ],
            "type": "surface"
           }
          ],
          "table": [
           {
            "cells": {
             "fill": {
              "color": "#EBF0F8"
             },
             "line": {
              "color": "white"
             }
            },
            "header": {
             "fill": {
              "color": "#C8D4E3"
             },
             "line": {
              "color": "white"
             }
            },
            "type": "table"
           }
          ]
         },
         "layout": {
          "annotationdefaults": {
           "arrowcolor": "#2a3f5f",
           "arrowhead": 0,
           "arrowwidth": 1
          },
          "autotypenumbers": "strict",
          "coloraxis": {
           "colorbar": {
            "outlinewidth": 0,
            "ticks": ""
           }
          },
          "colorscale": {
           "diverging": [
            [
             0,
             "#8e0152"
            ],
            [
             0.1,
             "#c51b7d"
            ],
            [
             0.2,
             "#de77ae"
            ],
            [
             0.3,
             "#f1b6da"
            ],
            [
             0.4,
             "#fde0ef"
            ],
            [
             0.5,
             "#f7f7f7"
            ],
            [
             0.6,
             "#e6f5d0"
            ],
            [
             0.7,
             "#b8e186"
            ],
            [
             0.8,
             "#7fbc41"
            ],
            [
             0.9,
             "#4d9221"
            ],
            [
             1,
             "#276419"
            ]
           ],
           "sequential": [
            [
             0,
             "#0d0887"
            ],
            [
             0.1111111111111111,
             "#46039f"
            ],
            [
             0.2222222222222222,
             "#7201a8"
            ],
            [
             0.3333333333333333,
             "#9c179e"
            ],
            [
             0.4444444444444444,
             "#bd3786"
            ],
            [
             0.5555555555555556,
             "#d8576b"
            ],
            [
             0.6666666666666666,
             "#ed7953"
            ],
            [
             0.7777777777777778,
             "#fb9f3a"
            ],
            [
             0.8888888888888888,
             "#fdca26"
            ],
            [
             1,
             "#f0f921"
            ]
           ],
           "sequentialminus": [
            [
             0,
             "#0d0887"
            ],
            [
             0.1111111111111111,
             "#46039f"
            ],
            [
             0.2222222222222222,
             "#7201a8"
            ],
            [
             0.3333333333333333,
             "#9c179e"
            ],
            [
             0.4444444444444444,
             "#bd3786"
            ],
            [
             0.5555555555555556,
             "#d8576b"
            ],
            [
             0.6666666666666666,
             "#ed7953"
            ],
            [
             0.7777777777777778,
             "#fb9f3a"
            ],
            [
             0.8888888888888888,
             "#fdca26"
            ],
            [
             1,
             "#f0f921"
            ]
           ]
          },
          "colorway": [
           "#636efa",
           "#EF553B",
           "#00cc96",
           "#ab63fa",
           "#FFA15A",
           "#19d3f3",
           "#FF6692",
           "#B6E880",
           "#FF97FF",
           "#FECB52"
          ],
          "font": {
           "color": "#2a3f5f"
          },
          "geo": {
           "bgcolor": "white",
           "lakecolor": "white",
           "landcolor": "#E5ECF6",
           "showlakes": true,
           "showland": true,
           "subunitcolor": "white"
          },
          "hoverlabel": {
           "align": "left"
          },
          "hovermode": "closest",
          "mapbox": {
           "style": "light"
          },
          "paper_bgcolor": "white",
          "plot_bgcolor": "#E5ECF6",
          "polar": {
           "angularaxis": {
            "gridcolor": "white",
            "linecolor": "white",
            "ticks": ""
           },
           "bgcolor": "#E5ECF6",
           "radialaxis": {
            "gridcolor": "white",
            "linecolor": "white",
            "ticks": ""
           }
          },
          "scene": {
           "xaxis": {
            "backgroundcolor": "#E5ECF6",
            "gridcolor": "white",
            "gridwidth": 2,
            "linecolor": "white",
            "showbackground": true,
            "ticks": "",
            "zerolinecolor": "white"
           },
           "yaxis": {
            "backgroundcolor": "#E5ECF6",
            "gridcolor": "white",
            "gridwidth": 2,
            "linecolor": "white",
            "showbackground": true,
            "ticks": "",
            "zerolinecolor": "white"
           },
           "zaxis": {
            "backgroundcolor": "#E5ECF6",
            "gridcolor": "white",
            "gridwidth": 2,
            "linecolor": "white",
            "showbackground": true,
            "ticks": "",
            "zerolinecolor": "white"
           }
          },
          "shapedefaults": {
           "line": {
            "color": "#2a3f5f"
           }
          },
          "ternary": {
           "aaxis": {
            "gridcolor": "white",
            "linecolor": "white",
            "ticks": ""
           },
           "baxis": {
            "gridcolor": "white",
            "linecolor": "white",
            "ticks": ""
           },
           "bgcolor": "#E5ECF6",
           "caxis": {
            "gridcolor": "white",
            "linecolor": "white",
            "ticks": ""
           }
          },
          "title": {
           "x": 0.05
          },
          "xaxis": {
           "automargin": true,
           "gridcolor": "white",
           "linecolor": "white",
           "ticks": "",
           "title": {
            "standoff": 15
           },
           "zerolinecolor": "white",
           "zerolinewidth": 2
          },
          "yaxis": {
           "automargin": true,
           "gridcolor": "white",
           "linecolor": "white",
           "ticks": "",
           "title": {
            "standoff": 15
           },
           "zerolinecolor": "white",
           "zerolinewidth": 2
          }
         }
        },
        "title": {
         "text": "Inertia values for different number of clusters"
        },
        "xaxis": {
         "anchor": "y",
         "domain": [
          0,
          1
         ],
         "title": {
          "text": "x"
         }
        },
        "yaxis": {
         "anchor": "x",
         "domain": [
          0,
          1
         ],
         "title": {
          "text": "y"
         }
        }
       }
      }
     },
     "metadata": {},
     "output_type": "display_data"
    }
   ],
   "source": [
    "# it is hard to tell from these values where the elbow is\n",
    "# so let's plot it\n",
    "\n",
    "# let's plot our inertia values\n",
    "fig = px.line(x=n_clusters, y=inertia_values, title=\"Inertia values for different number of clusters\")\n",
    "# let's show our plot\n",
    "fig.show()"
   ]
  },
  {
   "cell_type": "code",
   "execution_count": 40,
   "metadata": {},
   "outputs": [
    {
     "data": {
      "text/plain": [
       "<Axes: >"
      ]
     },
     "execution_count": 40,
     "metadata": {},
     "output_type": "execute_result"
    },
    {
     "data": {
      "image/png": "[encoded data removed]",
      "text/plain": [
       "<Figure size 640x480 with 1 Axes>"
      ]
     },
     "metadata": {},
     "output_type": "display_data"
    }
   ],
   "source": [
    "# alternatively simpler graph using sns from seaborn\n",
    "# lets add grid\n",
    "sns.set_style(\"whitegrid\")\n",
    "sns.lineplot(x=n_clusters, y=inertia_values)"
   ]
  },
  {
   "cell_type": "markdown",
   "metadata": {},
   "source": [
    "### Limitations of the elbow method\n",
    "\n",
    "It certainly looks like we do not have a clear cut elbow - break point.\n",
    "We can choose any number of cluster of our liking. We can also choose 10 clusters as we did before.\n",
    "\n",
    "Elbow method is just a tool. It might not provide enough additional information to justify the additional complexity of the model. It is up to us to decide if the additional complexity is worth it."
   ]
  },
  {
   "cell_type": "code",
   "execution_count": 26,
   "metadata": {},
   "outputs": [],
   "source": [
    "# We could play around with different clustering methods and different number of clusters\n",
    "\n",
    "# the general process is the same\n",
    "# initialize model from skleanr.cluster selection\n",
    "# docs: https://scikit-learn.org/stable/modules/clustering.html\n",
    "\n",
    "# train model using fit method\n",
    "\n",
    "# predict clusters using predict method\n",
    "\n",
    "# what would change is some of the parameters we pass in to our model\n",
    "# we can generally use default parameters for most models\n",
    "\n",
    "# the parameters that are used for fine-tuning are called hyperparameters. So we can say we are fine-tuning our model by changing hyperparameters.\n",
    "# Sounds fancy but it is just a matter of trying out different values for different parameters and seeing what works best for our data"
   ]
  },
  {
   "cell_type": "markdown",
   "metadata": {},
   "source": [
    "## Topic Modeling using Latent Dirichlet Allocation (LDA)\n",
    "\n",
    "If kmeans gives us strict clustering then LDA gives us soft clustering. In other words each document can belong to multiple topics.\n",
    "\n",
    "### LDA\n",
    "\n",
    "LDA is a generative probabilistic model. It assumes that each document is a mixture of topics and that each word in the document is attributable to the document's topics.\n",
    "\n",
    "### LDA in practice\n",
    "\n",
    "We do not have to implement LDA ourselves. We can use the implementation provided by gensim.\n",
    "\n",
    "Some more information on LDA: https://en.wikipedia.org/wiki/Latent_Dirichlet_allocation"
   ]
  },
  {
   "cell_type": "code",
   "execution_count": 41,
   "metadata": {},
   "outputs": [
    {
     "name": "stdout",
     "output_type": "stream",
     "text": [
      "['st', 'leonard', 'eastcheap', 'indict', 'feloniously', 'steal', 'pound', 'weight', 'tobacco', 'value', 'l', 's', 'good', 'job', 'wick', 'dwelling', 'house', 'say', 'job', 'wick', 'april', 'appear', 'prisoner', 'prosecutor', 'servant', 'fellow', 'servant', 'depose', 'perceive', 'pocket', 'stick', 'search', 'find', 'paper', 'tobacco', 'worth', 'd', 'own', 'master', 'take', 'cellar', 'constable', 'depose', 'confest', 'take', 'tobacco', 'time', 'say', 'paper', 'tobacco', 'produce', 'court', 'jury', 'consider', 'matter', 'find', 'guilty', 'value', 'd', 'transportation']\n",
      "['alice', 'jones', 'st', 'michaels', 'cornhill', 'indict', 'privately', 'steal', 'bermundas', 'hat', 'value', 's', 'shop', 'edward', 'hillior', 'april', 'prosecutors', 'servant', 'deposed', 'prisner', 'come', 'master', 'shop', 'askd', 'hat', 's', 'price', 'shew', 'agreed', 'say', 'country', 'stop', 'bishopsgatestreet', 'coach', 'go', 'come', 'fetch', 'go', 'shop', 'perceive', 'hardly', 'walk', 'fetcht', 'hat', 'mention', 'indictment', 'fall', 'leg', 'depose', 'see', 'evidence', 'hat', 'petticoat', 'prisoner', 'deny', 'fact', 'call', 'person', 'reputation', 'give', 'good', 'character', 'say', 'rent', 'house', 'l', 'year', 'petty', 'france', 'westminster', 'tell', 'justice', 'livd', 'kingstreet', 'jury', 'consider', 'matter', 'find', 'guilty', 'value', 'd', 'transportation']\n",
      "['james', 'wilson', 'st', 'katharine', 'coleman', 'indict', 'feloniously', 'steal', 'pound', 'beef', 'value', 's', 'good', 'charle', 'watts', 'april', 'mary', 'watts', 'deposed', 'gentleman', 'come', 'bar', 'clock', 'night', 'tell', 'fellow', 'lurking', 'house', 'prisoner', 'come', 'bar', 'take', 'rump', 'beef', 'hung', 'pursue', 'dropt', 'door', 'see', 'plain', 'sure', 'prisoner', 'person', 'cookmaid', 'deposed', 'see', 'prisoner', 'beef', 'lift', 'times', 'hook', 'prisoner', 'defence', 'say', 'drinking', 'run', 'head', 'beef', 'fall', 'appear', 'evidence', 'dropt', 'yard', 'place', 'hung', 'jury', 'find', 'guilty', 'value', 'd', 'transportation']\n"
     ]
    }
   ],
   "source": [
    "### LDA MODEL\n",
    "## Doc for gensim LDA model: https://radimrehurek.com/gensim/models/ldamodel.html\n",
    "\n",
    "# gensim needs list of lists of tokens - here words\n",
    "\n",
    "# we already have our lemma column with list of lemmas\n",
    "# we can use that\n",
    "texts = df.words_lemmatized.to_list()\n",
    "# print first 3 rows\n",
    "print(*texts[:3], sep = \"\\n\")\n",
    "# here we can see that we could have cleaned our data we have some really short lists\n",
    "# also getting rid of say digits actually robbed us of some information"
   ]
  },
  {
   "cell_type": "code",
   "execution_count": 42,
   "metadata": {},
   "outputs": [
    {
     "name": "stdout",
     "output_type": "stream",
     "text": [
      "Number of words in our dictionary 18118\n"
     ]
    }
   ],
   "source": [
    "# now we need to create a dictionary of our words\n",
    "# we will use gensim corpora Dictionary class\n",
    "# docs: https://radimrehurek.com/gensim/corpora/dictionary.html\n",
    "\n",
    "from gensim.corpora import Dictionary\n",
    "\n",
    "# let's create our dictionary\n",
    "dictionary = Dictionary(texts)\n",
    "# let's check out our dictionary\n",
    "# print how many words we have in our dictionary\n",
    "print(\"Number of words in our dictionary\", len(dictionary)) \n",
    "# that certainly seems familiar from our previous work that's good news\n",
    "\n"
   ]
  },
  {
   "cell_type": "code",
   "execution_count": 43,
   "metadata": {},
   "outputs": [
    {
     "name": "stdout",
     "output_type": "stream",
     "text": [
      "First 10 words in our dictionary [(0, 'appear'), (1, 'april'), (2, 'cellar'), (3, 'confest'), (4, 'consider'), (5, 'constable'), (6, 'court'), (7, 'd'), (8, 'depose'), (9, 'dwelling')]\n",
      "Last 10 words in our dictionary [(18108, 'mb'), (18109, 'morally'), (18110, 'noncombatant'), (18111, 'olive'), (18112, 'prain'), (18113, 'radius'), (18114, 'towingpath'), (18115, 'unclimbable'), (18116, 'wharry'), (18117, 'yeddon')]\n",
      "Middle 10 words in our dictionary [(9054, 'judging'), (9055, 'juries'), (9056, 'kin'), (9057, 'kingstonuponhull'), (9058, 'lawyer'), (9059, 'learned'), (9060, 'lease'), (9061, 'ledgerclerk'), (9062, 'legally'), (9063, 'levitt')]\n"
     ]
    }
   ],
   "source": [
    "# print first 10 words in our dictionary\n",
    "print(\"First 10 words in our dictionary\", list(dictionary.items())[:10])\n",
    "# last 10 words in our dictionary\n",
    "print(\"Last 10 words in our dictionary\", list(dictionary.items())[-10:])\n",
    "# how about m iddle 10 words in our dictionary\n",
    "print(\"Middle 10 words in our dictionary\", list(dictionary.items())[len(dictionary)//2-5:len(dictionary)//2+5])"
   ]
  },
  {
   "cell_type": "code",
   "execution_count": 44,
   "metadata": {},
   "outputs": [
    {
     "name": "stdout",
     "output_type": "stream",
     "text": [
      "First 5 words that start with b [(50, 'bermundas'), (51, 'bishopsgatestreet'), (97, 'bar'), (98, 'beef'), (131, 'believe')]\n"
     ]
    }
   ],
   "source": [
    "# let's get all words that start with b from this Dictionary\n",
    "b_words = [word for word in dictionary.items() if word[1].startswith('b')]\n",
    "# now let's print first 5\n",
    "print(\"First 5 words that start with b\", b_words[:5])"
   ]
  },
  {
   "cell_type": "code",
   "execution_count": 31,
   "metadata": {},
   "outputs": [
    {
     "name": "stdout",
     "output_type": "stream",
     "text": [
      "Words starting with b [(50, 'bermundas'), (51, 'bishopsgatestreet'), (97, 'bar'), (98, 'beef'), (131, 'believe'), (160, 'benjamin'), (177, 'bengodwin'), (187, 'bring'), (200, 'botolph'), (241, 'brandy'), (242, 'break'), (243, 'breeche'), (268, 'book'), (301, 'bride'), (305, 'bishopsgate'), (306, 'breaking'), (319, 'burglary'), (343, 'bridge'), (354, 'blackwellhall'), (355, 'blue'), (356, 'broadcloth'), (357, 'bundle'), (358, 'buy'), (412, 'barter'), (413, 'bent'), (430, 'baker'), (431, 'broad'), (449, 'brandyshop'), (460, 'black'), (461, 'boney'), (462, 'boy'), (504, 'bid'), (505, 'bigness'), (548, 'beat'), (549, 'believd'), (550, 'bell'), (551, 'bloody'), (552, 'bull'), (641, 'box'), (642, 'brass'), (643, 'brother'), (684, 'busy'), (698, 'bed'), (716, 'brown'), (736, 'beesley'), (737, 'blackd'), (738, 'body'), (775, 'beer'), (790, 'bigg'), (791, 'biggs'), (792, 'bolearmoniac'), (793, 'boyle'), (794, 'breakfast'), (882, 'blanket'), (921, 'breech'), (924, 'bay'), (953, 'barbara'), (954, 'bartholomew'), (962, 'burn'), (965, 'barrimore'), (979, 'binks'), (1009, 'brooks'), (1013, 'bespoke'), (1014, 'blank'), (1077, 'becket'), (1080, 'burra'), (1081, 'button'), (1103, 'boat'), (1104, 'brillant'), (1165, 'bagnal'), (1183, 'bartrum'), (1195, 'burglariously'), (1205, 'bailey'), (1206, 'buckle'), (1223, 'bobbin'), (1257, 'bloomsbury'), (1280, 'bosom'), (1281, 'bullyd'), (1303, 'bellas'), (1319, 'bakersshop'), (1320, 'beard'), (1321, 'behavd'), (1322, 'bockhole'), (1323, 'borrow'), (1324, 'borrowd'), (1325, 'bowd'), (1392, 'bridget'), (1428, 'botolphs'), (1457, 'bad'), (1458, 'belong'), (1459, 'bind'), (1460, 'bravely'), (1461, 'breakings'), (1462, 'build'), (1463, 'building'), (1464, 'business'), (1510, 'belladine'), (1520, 'bastock'), (1533, 'brasspot'), (1538, 'bellamy'), (1589, 'bitch'), (1590, 'browns'), (1591, 'bye'), (1613, 'bushel'), (1620, 'barnard'), (1624, 'bail'), (1625, 'bottle'), (1626, 'buying'), (1642, 'balak'), (1671, 'bacon'), (1710, 'bank'), (1711, 'banknote'), (1712, 'basket'), (1713, 'bayne'), (1714, 'baynes'), (1715, 'bayness'), (1716, 'bearer'), (1717, 'bird'), (1718, 'blame'), (1719, 'blewet'), (1720, 'bostock'), (1721, 'breast'), (1781, 'bashrite'), (1782, 'beauffet'), (1783, 'bury'), (1799, 'barbarously'), (1800, 'blood'), (1801, 'bridewell'), (1802, 'butler'), (1843, 'backside'), (1844, 'backwards'), (1845, 'bear'), (1846, 'bench'), (1847, 'bene'), (1848, 'bidding'), (1849, 'blockhead'), (1850, 'blow'), (1851, 'brandyface'), (1931, 'ball'), (1932, 'betwixt'), (1933, 'bullet'), (1993, 'bargain'), (1994, 'barrat'), (1995, 'brentford'), (2019, 'blind'), (2020, 'bluedick'), (2021, 'bone'), (2022, 'boot'), (2023, 'bridle'), (2024, 'burch'), (2063, 'bartholomews'), (2064, 'beggd'), (2065, 'bentley'), (2066, 'bently'), (2115, 'barne'), (2116, 'barnes'), (2117, 'bartrup'), (2118, 'behave'), (2119, 'bowl'), (2120, 'brace'), (2121, 'brewd'), (2221, 'barn'), (2222, 'bread'), (2223, 'bush'), (2224, 'butter'), (2284, 'bag'), (2285, 'belongd'), (2286, 'board'), (2287, 'butcher'), (2322, 'bare'), (2323, 'bathmetal'), (2324, 'beaumont'), (2325, 'bedchamber'), (2326, 'bencher'), (2327, 'borough'), (2328, 'burley'), (2362, 'bedside'), (2363, 'beg'), (2364, 'begin'), (2365, 'belly'), (2366, 'billy'), (2367, 'bineham'), (2368, 'bit'), (2369, 'bo'), (2370, 'bowel'), (2371, 'branding'), (2372, 'bruise'), (2373, 'burst'), (2374, 'bystander'), (2485, 'bakewell'), (2486, 'bennet'), (2508, 'botham'), (2511, 'b'), (2512, 'barbarcusly'), (2513, 'bawdyhouse'), (2514, 'binggs'), (2515, 'birk'), (2516, 'brag'), (2553, 'bunch'), (2567, 'bellow'), (2568, 'benfield'), (2572, 'bristow'), (2573, 'behaviour'), (2574, 'boys'), (2575, 'buggery'), (2587, 'beach'), (2588, 'brownstreet'), (2631, 'banister'), (2632, 'beck'), (2633, 'belive'), (2634, 'boomer'), (2635, 'bore'), (2636, 'bricklayer'), (2637, 'brokery'), (2638, 'bus'), (2639, 'bustle'), (2695, 'bluck'), (2705, 'bagley'), (2706, 'bagleys'), (2707, 'blackswanalley'), (2708, 'boiler'), (2709, 'bolt'), (2710, 'broke'), (2765, 'baldwins'), (2766, 'barber'), (2767, 'beachlane'), (2768, 'bean'), (2769, 'bleed'), (2770, 'bless'), (2771, 'breath'), (2772, 'bristol'), (2816, 'baize'), (2839, 'barnabas'), (2840, 'behalf'), (2841, 'benefit'), (2842, 'bequeath'), (2843, 'blackish'), (2844, 'bodily'), (2845, 'bolton'), (2846, 'borne'), (2847, 'boyden'), (2848, 'branch'), (2849, 'brow'), (2850, 'burton'), (3090, 'bonus'), (3096, 'blade'), (3097, 'broomstick'), (3098, 'burnham'), (3163, 'baffle'), (3164, 'bald'), (3165, 'ballet'), (3166, 'bartholmews'), (3167, 'beerlane'), (3168, 'big'), (3169, 'blunderbuss'), (3170, 'bobbd'), (3171, 'bolter'), (3172, 'breadth'), (3173, 'burgess'), (3174, 'buttonhole'), (3313, 'bonnell'), (3314, 'briers'), (3327, 'berrit'), (3329, 'burk'), (3332, 'badly'), (3333, 'bankrupt'), (3334, 'bookkeeper'), (3335, 'brasier'), (3336, 'brifant'), (3337, 'brooker'), (3438, 'barret'), (3439, 'barrett'), (3451, 'bine'), (3453, 'bobin'), (3462, 'bartin'), (3470, 'bullenger'), (3483, 'bolster'), (3489, 'broker'), (3490, 'busbey'), (3514, 'berkshire'), (3536, 'beezley'), (3537, 'blackfriar'), (3538, 'blankets'), (3552, 'bowstreet'), (3553, 'bully'), (3576, 'bat'), (3577, 'bound'), (3578, 'brain'), (3579, 'brick'), (3580, 'brickbat'), (3642, 'begged'), (3643, 'bishop'), (3658, 'boulster'), (3666, 'barefoot'), (3667, 'bess'), (3668, 'bill'), (3669, 'brewer'), (3716, 'bonnet'), (3724, 'bane'), (3725, 'beecher'), (3726, 'borehams'), (3727, 'brand'), (3750, 'barrel'), (3753, 'bulkley'), (3756, 'birth'), (3757, 'briant'), (3783, 'bevil'), (3784, 'brittin'), (3833, 'bullock'), (3836, 'booth'), (3837, 'bulk'), (3859, 'bow'), (3866, 'bargaining'), (3867, 'barnet'), (3868, 'bunn'), (3883, 'beset'), (3884, 'bluster'), (3885, 'britain'), (3945, 'band'), (3946, 'barnett'), (3947, 'barwell'), (3948, 'bob'), (3949, 'boyce'), (4018, 'bramley'), (4019, 'brotherinlaw'), (4052, 'baild'), (4067, 'breeches'), (4078, 'barleymow'), (4079, 'breeding'), (4080, 'briley'), (4081, 'burnet'), (4100, 'bason'), (4101, 'basons'), (4110, 'back'), (4111, 'battle'), (4112, 'baulk'), (4158, 'blackboyalley'), (4159, 'brookers'), (4160, 'burry'), (4187, 'brownridge'), (4188, 'bucker'), (4207, 'barbarous'), (4208, 'butts'), (4228, 'burrel'), (4241, 'belonged'), (4252, 'bundled'), (4271, 'bisborn'), (4287, 'barge'), (4288, 'bargeman'), (4289, 'bate'), (4290, 'bushels'), (4331, 'boyd'), (4336, 'benbrook'), (4390, 'brookss'), (4432, 'bottles'), (4449, 'beforementione'), (4450, 'berry'), (4487, 'banknotes'), (4488, 'blenheimstreet'), (4559, 'balance'), (4560, 'blackiston'), (4577, 'bedcloath'), (4578, 'belton'), (4579, 'bradfield'), (4580, 'brenton'), (4611, 'banker'), (4635, 'blare'), (4636, 'bloor'), (4648, 'bladin'), (4650, 'bourset'), (4651, 'butson'), (4670, 'batcock'), (4687, 'brainsout'), (4732, 'base'), (4750, 'belford'), (4751, 'blacksmith'), (4796, 'bayley'), (4811, 'burland'), (4817, 'bannister'), (4818, 'barrow'), (4833, 'bagnio'), (4850, 'badge'), (4851, 'beadle'), (4896, 'bayonet'), (4897, 'bromley'), (4918, 'barlow'), (4919, 'barrack'), (4920, 'belied'), (4921, 'bond'), (4922, 'brickmaker'), (5008, 'bounce'), (5014, 'bass'), (5015, 'bunns'), (5025, 'burridge'), (5030, 'boots'), (5037, 'byhen'), (5042, 'baird'), (5056, 'brutton'), (5057, 'bryan'), (5066, 'beckon'), (5080, 'banyer'), (5081, 'blackhorseyard'), (5082, 'boose'), (5115, 'blond'), (5123, 'bowre'), (5124, 'bowring'), (5137, 'barnsby'), (5138, 'bradley'), (5161, 'barton'), (5162, 'breed'), (5219, 'beadles'), (5220, 'blower'), (5221, 'broadstreet'), (5245, 'beli'), (5254, 'bright'), (5295, 'bethnallgreen'), (5296, 'blemish'), (5297, 'bruce'), (5326, 'bellyard'), (5327, 'blakesley'), (5328, 'blakesleys'), (5329, 'burleystreet'), (5362, 'bryant'), (5369, 'blanchville'), (5370, 'booty'), (5371, 'brindley'), (5372, 'bugger'), (5409, 'budd'), (5423, 'broadus'), (5436, 'bath'), (5437, 'beaver'), (5464, 'bastard'), (5465, 'bowman'), (5466, 'bradford'), (5490, 'brookhouse'), (5491, 'brookhouses'), (5492, 'brookstreet'), (5493, 'bureau'), (5513, 'bathfield'), (5514, 'bible'), (5515, 'bluecourt'), (5516, 'bumford'), (5532, 'bochero'), (5566, 'burke'), (5575, 'beneficially'), (5618, 'badrou'), (5619, 'baron'), (5620, 'barracks'), (5621, 'battlement'), (5622, 'beginning'), (5623, 'berkleysquare'), (5624, 'blacks'), (5625, 'brazill'), (5626, 'bribe'), (5627, 'brig'), (5628, 'briton'), (5629, 'brook'), (5630, 'burial'), (5948, 'backward'), (5949, 'bayswater'), (5950, 'belief'), (5951, 'bourne'), (5952, 'bouse'), (5953, 'boxall'), (5954, 'budds'), (6033, 'blackwall'), (6060, 'bedroom'), (6061, 'bookcase'), (6085, 'byng'), (6103, 'bowden'), (6106, 'brewhouse'), (6111, 'bedstead'), (6123, 'brazier'), (6139, 'backdoor'), (6140, 'builder'), (6168, 'bodys'), (6169, 'brush'), (6187, 'briggs'), (6188, 'briggss'), (6189, 'broomhall'), (6190, 'bushell'), (6213, 'barrington'), (6214, 'bleach'), (6215, 'bleached'), (6216, 'bleaching'), (6217, 'bleachingfield'), (6218, 'bramble'), (6266, 'bearquaystair'), (6267, 'blast'), (6284, 'basinghallstreet'), (6285, 'breechesmaker'), (6286, 'briscoe'), (6297, 'beachstreet'), (6309, 'blanks'), (6371, 'bringing'), (6384, 'backparlour'), (6393, 'beneath'), (6408, 'benchi'), (6409, 'buck'), (6425, 'beale'), (6440, 'bastwicke'), (6456, 'bourn'), (6457, 'buckinghamstreet'), (6461, 'bart'), (6462, 'bray'), (6485, 'bournes'), (6492, 'bucklersbury'), (6497, 'babe'), (6520, 'brewerstreet'), (6526, 'bloodyback'), (6550, 'baldwinsgarden'), (6551, 'baldwinsplace'), (6552, 'balley'), (6553, 'brassfounder'), (6554, 'breechespocket'), (6555, 'brightening'), (6556, 'brogden'), (6597, 'branford'), (6644, 'bumboat'), (6699, 'beet'), (6714, 'bead'), (6715, 'blanc'), (6716, 'breastpin'), (6781, 'briggive'), (6803, 'blaise'), (6813, 'barbican'), (6814, 'bennett'), (6829, 'batband'), (6848, 'bedfordsquare'), (6849, 'bowle'), (6871, 'blows'), (6872, 'blunt'), (6873, 'boil'), (6874, 'brady'), (6875, 'brandish'), (6876, 'burden'), (6927, 'blackman'), (6928, 'brownbear'), (6945, 'bennetts'), (6946, 'brodie'), (6960, 'beam'), (6961, 'bolland'), (6989, 'bend'), (7015, 'bankinghouse'), (7040, 'barr'), (7041, 'basement'), (7067, 'barker'), (7092, 'byrne'), (7109, 'beefshop'), (7116, 'bedford'), (7151, 'bliss'), (7152, 'buttend'), (7165, 'barrier'), (7174, 'blacklionyard'), (7183, 'bernard'), (7193, 'betts'), (7198, 'bly'), (7209, 'batter'), (7210, 'bulls'), (7250, 'bridport'), (7259, 'bowyer'), (7271, 'bin'), (7272, 'boar'), (7273, 'boltintun'), (7274, 'brides'), (7275, 'bunhillrow'), (7314, 'brickfield'), (7319, 'block'), (7324, 'benwell'), (7336, 'bartholomewlane'), (7337, 'billingsgate'), (7338, 'billiterlane'), (7339, 'broughton'), (7340, 'buckles'), (7372, 'brererons'), (7373, 'brereton'), (7384, 'bastardchild'), (7385, 'ballspond'), (7386, 'barring'), (7387, 'bloodtub'), (7388, 'butchershill'), (7415, 'befor'), (7416, 'bellalley'), (7417, 'bish'), (7418, 'bishs'), (7419, 'bosomfriend'), (7420, 'brookes'), (7421, 'byename'), (7483, 'blueanchoralley'), (7507, 'butlerwilliam'), (7515, 'bankside'), (7516, 'bethlemwall'), (7525, 'blueboar'), (7526, 'butterboat'), (7533, 'bridgesstreet'), (7552, 'blessed'), (7553, 'bricklane'), (7567, 'boothby'), (7575, 'buffler'), (7599, 'browne'), (7631, 'beadblower'), (7632, 'bracelet'), (7633, 'brownes'), (7671, 'bernersstreet'), (7672, 'blenheim'), (7684, 'bankers'), (7685, 'bluhm'), (7723, 'bridelane'), (7735, 'bolen'), (7736, 'bookbinder'), (7737, 'bookseller'), (7738, 'butcherhallhall'), (7777, 'bereave'), (7778, 'bobbery'), (7779, 'bullhead'), (7780, 'bullinn'), (7829, 'bought'), (7860, 'backroad'), (7861, 'balam'), (7862, 'bedfordshire'), (7888, 'birdsbuilding'), (7889, 'buffett'), (7921, 'backlane'), (7942, 'blacklinslane'), (7943, 'blot'), (7944, 'boltonstreet'), (7945, 'bondstreet'), (7946, 'brighton'), (7947, 'bromptonrow'), (7977, 'broom'), (8017, 'bootmaker'), (8035, 'bombazett'), (8036, 'bootlace'), (8047, 'baileys'), (8048, 'barnwell'), (8049, 'bleeding'), (8069, 'bailiff'), (8070, 'bladder'), (8084, 'barry'), (8085, 'beast'), (8086, 'boddy'), (8087, 'boddys'), (8119, 'balsover'), (8120, 'belsover'), (8134, 'bramwell'), (8137, 'berridge'), (8140, 'boarding'), (8187, 'barbers'), (8192, 'bland'), (8193, 'broach'), (8198, 'banefield'), (8217, 'barnets'), (8218, 'bewen'), (8265, 'beal'), (8279, 'bedfordstreet'), (8280, 'briskly'), (8290, 'bargan'), (8291, 'bartell'), (8292, 'boothstreet'), (8328, 'burdon'), (8349, 'best'), (8359, 'bethnalgreen'), (8378, 'backhill'), (8379, 'bedpi'), (8380, 'bedpillar'), (8381, 'bedpost'), (8382, 'blackhall'), (8414, 'baby'), (8417, 'billet'), (8433, 'blinman'), (8436, 'battlebridge'), (8444, 'bloomsburysquare'), (8457, 'beech'), (8458, 'beechs'), (8459, 'biddy'), (8460, 'bigby'), (8473, 'barclay'), (8485, 'baldwyn'), (8495, 'bannerstreet'), (8514, 'brompton'), (8528, 'burt'), (8546, 'brokers'), (8551, 'bowker'), (8566, 'blackwater'), (8577, 'boston'), (8578, 'brodrick'), (8587, 'bedsteadmaker'), (8588, 'buckland'), (8589, 'bundock'), (8604, 'bramhall'), (8605, 'broken'), (8632, 'bedclothe'), (8633, 'boutle'), (8650, 'baldwin'), (8651, 'butterfield'), (8652, 'byrom'), (8671, 'bedgown'), (8672, 'blackfriarsroad'), (8691, 'bethell'), (8707, 'bang'), (8708, 'billbook'), (8717, 'betsy'), (8732, 'battalion'), (8739, 'bodied'), (8746, 'bleaden'), (8749, 'bridgestreet'), (8761, 'bandbox'), (8762, 'buttonmerchant'), (8777, 'birchinlane'), (8794, 'brickhill'), (8810, 'brownslane'), (8821, 'birdsneste'), (8841, 'beecroft'), (8842, 'bugg'), (8849, 'balcony'), (8850, 'boswell'), (8853, 'branchs'), (8860, 'brunswicksquare'), (8866, 'bryson'), (8893, 'bartlett'), (8894, 'bartletts'), (8899, 'beatty'), (8901, 'blackheath'), (8915, 'blythe'), (8955, 'ballan'), (8956, 'barrister'), (8957, 'beverley'), (8958, 'blunder'), (8959, 'boards'), (8960, 'botany'), (8961, 'bounty'), (9174, 'bedfordbury'), (9175, 'bew'), (9176, 'bulky'), (9181, 'blake'), (9182, 'buckinghamshire'), (9203, 'bertrand'), (9209, 'bite'), (9234, 'basay'), (9235, 'becks'), (9236, 'ben'), (9237, 'berkelysquare'), (9238, 'berkelystreet'), (9239, 'bronze'), (9240, 'brutonstreet'), (9241, 'buff'), (9242, 'bulwark'), (9243, 'burlington'), (9318, 'balduck'), (9323, 'bakerscourt'), (9329, 'bampton'), (9330, 'brackleystreet'), (9335, 'beaumontstreet'), (9353, 'berkeleysquare'), (9362, 'brooch'), (9365, 'barrs'), (9391, 'brownlowstreet'), (9398, 'buckley'), (9413, 'beechstreet'), (9442, 'boss'), (9443, 'braybrook'), (9455, 'boothook'), (9470, 'burystreet'), (9496, 'barnetts'), (9503, 'brightness'), (9512, 'bryanstonesquare'), (9531, 'blackfriarsbridge'), (9532, 'border'), (9533, 'bouste'), (9567, 'betray'), (9568, 'bosanquet'), (9569, 'broderick'), (9570, 'byelaw'), (9679, 'bonner'), (9686, 'belllane'), (9698, 'baylis'), (9702, 'boxglass'), (9703, 'brett'), (9710, 'brewery'), (9736, 'birdseye'), (9740, 'basinghouse'), (9750, 'bowsyard'), (9758, 'bother'), (9761, 'burlingtongarden'), (9769, 'butterworth'), (9793, 'burrell'), (9801, 'blackshall'), (9802, 'bradshall'), (9814, 'berwickstreet'), (9821, 'bebetween'), (9833, 'beaufortsbuilding'), (9840, 'barrettsbuilding'), (9850, 'badger'), (9851, 'bitterly'), (9852, 'bowser'), (9853, 'butt'), (9861, 'bassano'), (9862, 'bidgood'), (9863, 'brindle'), (9878, 'beris'), (9879, 'bowfield'), (9880, 'burrough'), (9887, 'buckeringestreet'), (9894, 'bedding'), (9927, 'brockelbank'), (9945, 'betty'), (9973, 'bullard'), (9975, 'boulton'), (9977, 'boucher'), (9985, 'bowcommon'), (9992, 'bakers'), (10005, 'bryand'), (10006, 'bryands'), (10013, 'bursey'), (10032, 'bryanstonstreet'), (10033, 'buckeridge'), (10050, 'brickeridge'), (10051, 'bridgewatersquare'), (10071, 'balme'), (10077, 'burrow'), (10082, 'belcher'), (10107, 'bot'), (10128, 'benton'), (10129, 'browsers'), (10140, 'browser'), (10164, 'benedicto'), (10172, 'bale'), (10173, 'boroughtroad'), (10211, 'boykett'), (10221, 'blackburn'), (10267, 'bartram'), (10298, 'bagatelles'), (10299, 'bawker'), (10300, 'beercaller'), (10301, 'beercellar'), (10302, 'bide'), (10303, 'brooke'), (10342, 'bankbook'), (10343, 'beseech'), (10403, 'barparlour'), (10404, 'breakfasted'), (10432, 'basin'), (10433, 'beans'), (10434, 'benson'), (10435, 'brushel'), (10436, 'bsh'), (10506, 'blay'), (10516, 'belonging'), (10523, 'beckenham'), (10524, 'blundell'), (10555, 'bootjack'), (10559, 'bushnell'), (10581, 'boywho'), (10588, 'blair'), (10589, 'bodkin'), (10590, 'bricker'), (10608, 'bolstercase'), (10633, 'brenford'), (10648, 'britanniastreet'), (10649, 'burgesss'), (10650, 'burgkes'), (10669, 'britanniaplace'), (10679, 'backroom'), (10680, 'bloomsburry'), (10687, 'bidmead'), (10725, 'banns'), (10726, 'beating'), (10727, 'bowlingstreet'), (10728, 'brutal'), (10771, 'beckman'), (10779, 'bates'), (10780, 'battlebridgeroad'), (10781, 'beershop'), (10798, 'birch'), (10805, 'brunewickstreet'), (10806, 'burtoncrescent'), (10815, 'bigamy'), (10816, 'blackfrairsroad'), (10817, 'bursell'), (10823, 'berrys'), (10831, 'bankruptcy'), (10832, 'biden'), (10833, 'bits'), (10863, 'believeabout'), (10864, 'birdsalley'), (10865, 'bloom'), (10878, 'burning'), (10906, 'begent'), (10907, 'bransgrove'), (10920, 'balconyfront'), (10921, 'beall'), (10966, 'binder'), (10967, 'bock'), (10968, 'books'), (10969, 'bookshop'), (10970, 'botanical'), (10971, 'brandyu'), (10972, 'britannica'), (11033, 'beautifully'), (11034, 'booksellers'), (11035, 'bullandmouthstreet'), (11036, 'buyer'), (11139, 'background'), (11140, 'backing'), (11141, 'balls'), (11142, 'ballsd'), (11143, 'banch'), (11144, 'banjamin'), (11145, 'banking'), (11146, 'bargin'), (11147, 'barmiess'), (11148, 'beeen'), (11149, 'ber'), (11150, 'bettter'), (11151, 'birmingham'), (11152, 'bishopaagtestreet'), (11153, 'blan'), (11154, 'blus'), (11155, 'boor'), (11156, 'borkin'), (11157, 'branston'), (11158, 'british'), (11159, 'brookersgarden'), (11160, 'brought'), (11161, 'busicess'), (11162, 'bussiness'), (11518, 'bavk'), (11557, 'byt'), (11620, 'ballss'), (11621, 'beady'), (11622, 'booknote'), (11623, 'brassplate'), (11624, 'bussellstreet'), (11625, 'bytheby'), (11677, 'bark'), (11678, 'bellyache'), (11679, 'blindfold'), (11680, 'byandby'), (11757, 'blackmanstreet'), (11760, 'boroughmarket'), (11761, 'bre'), (11781, 'bastable'), (11805, 'bakerstreet'), (11806, 'bellhanger'), (11863, 'breakfasttime'), (11893, 'bulpit'), (11934, 'broning'), (11935, 'braddick'), (11942, 'bartholomewclose'), (11945, 'bake'), (11946, 'breadshelf'), (11952, 'burlingtonstreet'), (11967, 'brainfever'), (11993, 'basto'), (11994, 'brito'), (12038, 'balleras'), (12039, 'boyn'), (12072, 'bateman'), (12076, 'brannan'), (12081, 'ballantine'), (12082, 'barkingalley'), (12107, 'bladon'), (12115, 'bastone'), (12128, 'blandfordplace'), (12129, 'burnett'), (12133, 'boswellcourt'), (12134, 'buckeridgestreet'), (12146, 'bermondsey'), (12156, 'bruin'), (12166, 'barmaid'), (12198, 'brine'), (12215, 'belt'), (12216, 'breadandbutter'), (12258, 'bolar'), (12259, 'bottlejack'), (12266, 'bundy'), (12316, 'belgravestreet'), (12317, 'biscuit'), (12318, 'bitten'), (12332, 'berkley'), (12333, 'bothcounterfeit'), (12339, 'backyard'), (12358, 'barrackgate'), (12364, 'bretts'), (12391, 'betwen'), (12392, 'brushmaker'), (12410, 'bermondseystreet'), (12411, 'bowler'), (12412, 'burys'), (12429, 'bentinckstreet'), (12430, 'bramah'), (12431, 'browning'), (12478, 'brind'), (12480, 'blanchard'), (12483, 'bragg'), (12487, 'burgoyne'), (12493, 'broadway'), (12494, 'bunter'), (12519, 'blackwood'), (12543, 'barman'), (12561, 'badham'), (12586, 'baxter'), (12587, 'baxters'), (12588, 'boggis'), (12589, 'bottled'), (12590, 'bovill'), (12591, 'bowerstreet'), (12592, 'bradshaw'), (12593, 'bramleystreet'), (12594, 'brewster'), (12595, 'brixton'), (12596, 'bromleystreet'), (12597, 'bunk'), (12598, 'burnell'), (12686, 'bathplace'), (12687, 'brize'), (12724, 'bellesauvage'), (12725, 'bogs'), (12745, 'bareface'), (12746, 'brownish'), (12761, 'byford'), (12776, 'bold'), (12780, 'backhand'), (12781, 'bade'), (12782, 'beautiful'), (12800, 'burglar'), (12830, 'beda'), (12833, 'buyrus'), (12845, 'babys'), (12846, 'bandage'), (12847, 'bottomed'), (12848, 'breathe'), (12849, 'bronchitis'), (12850, 'bucket'), (12899, 'behold'), (12959, 'burchett'), (12960, 'bet'), (12961, 'burchetts'), (13023, 'brasil'), (13033, 'borrowing'), (13060, 'brassey'), (13061, 'brasseys'), (13062, 'bridgeplace'), (13096, 'baldfaced'), (13122, 'bowles'), (13151, 'bowsel'), (13157, 'bowling'), (13167, 'besley'), (13168, 'billitersquare'), (13169, 'bligh'), (13214, 'bliar'), (13215, 'bowlane'), (13228, 'bif'), (13229, 'brewerslane'), (13246, 'borea'), (13250, 'backway'), (13251, 'breaksman'), (13279, 'baugham'), (13291, 'bearstreet'), (13301, 'belinda'), (13304, 'batcher'), (13305, 'busame'), (13306, 'byandbye'), (13334, 'bingham'), (13356, 'barege'), (13357, 'brixtonroad'), (13389, 'bilberry'), (13418, 'backboard'), (13435, 'barleycourt'), (13436, 'bresnahan'), (13467, 'ballast'), (13506, 'bathe'), (13507, 'brothel'), (13538, 'billingsgatemarket'), (13539, 'boyhood'), (13540, 'bridgehouseplace'), (13541, 'brisklayer'), (13563, 'bithray'), (13571, 'bedfordcourt'), (13579, 'behindhand'), (13602, 'bun'), (13606, 'baggott'), (13611, 'bethnalgreenroad'), (13622, 'beresfordstreet'), (13663, 'bagatelle'), (13664, 'bagatelleboard'), (13665, 'bagatelleroom'), (13666, 'bagatelleroomdoor'), (13667, 'balantine'), (13668, 'baldock'), (13669, 'barometer'), (13670, 'baud'), (13671, 'bickleystreet'), (13672, 'blindroller'), (13673, 'bordessa'), (13674, 'bordessas'), (13675, 'boxingnight'), (13676, 'broomhandle'), (13677, 'byle'), (13758, 'backwall'), (13759, 'bakersrow'), (13760, 'bellcourt'), (13761, 'brushing'), (13762, 'byestreet'), (13807, 'bhas'), (13824, 'billiard'), (13825, 'billiardroom'), (13826, 'bullcourt'), (13860, 'brothers'), (13871, 'batturs'), (13872, 'buchanan'), (13877, 'blostock'), (13892, 'blackheathroad'), (13893, 'brasswork'), (13894, 'breastpocket'), (13915, 'bailee'), (13916, 'bookingclerk'), (13917, 'brightonrailway'), (13958, 'blyth'), (13966, 'biss'), (13967, 'bridgeroad'), (13968, 'brotherconstable'), (14020, 'badness'), (14021, 'baptism'), (14022, 'baptize'), (14023, 'baugh'), (14024, 'beasley'), (14025, 'beaulah'), (14026, 'begley'), (14027, 'beranger'), (14028, 'beulah'), (14029, 'biographical'), (14030, 'biography'), (14031, 'blackland'), (14032, 'blameless'), (14033, 'blandford'), (14034, 'bloq'), (14035, 'boarder'), (14036, 'bohn'), (14037, 'breathing'), (14038, 'brief'), (14039, 'broadmoor'), (14040, 'brutus'), (14041, 'bythebye'), (14525, 'bri'), (14532, 'bachelor'), (14533, 'beedlestonb'), (14534, 'buckingham'), (14559, 'boxingday'), (14575, 'broomfield'), (14610, 'buckleys'), (14618, 'bottomley'), (14627, 'baptiste'), (14628, 'boulogne'), (14710, 'bromby'), (14726, 'belsize'), (14739, 'beerhouse'), (14770, 'balanced'), (14771, 'blackmore'), (14772, 'brougham'), (14825, 'barnsford'), (14850, 'beloved'), (14851, 'beverly'), (14852, 'brinsley'), (14896, 'banque'), (14897, 'belon'), (14913, 'biscuitdish'), (14914, 'brennan'), (14941, 'boyes'), (14942, 'britannia'), (14949, 'bendall'), (14955, 'blaze'), (14956, 'brickbuilt'), (14996, 'battersea'), (15014, 'boyer'), (15017, 'bottler'), (15018, 'brownfield'), (15022, 'billiardmarker'), (15023, 'bloodpoisoning'), (15055, 'beaton'), (15056, 'beatona'), (15057, 'blewett'), (15058, 'bluish'), (15059, 'byron'), (15112, 'bryce'), (15122, 'be'), (15135, 'bookingoffice'), (15154, 'blantyre'), (15155, 'blottingpaper'), (15156, 'bowe'), (15157, 'buchans'), (15158, 'buss'), (15210, 'batch'), (15211, 'bv'), (15223, 'bossie'), (15226, 'botter'), (15231, 'boad'), (15248, 'birthday'), (15249, 'blacken'), (15267, 'blackeby'), (15269, 'befog'), (15296, 'boother'), (15297, 'burnie'), (15298, 'bussell'), (15338, 'burglarioualy'), (15340, 'bbown'), (15341, 'benbow'), (15370, 'beslet'), (15371, 'birkbeck'), (15372, 'bishopegate'), (15373, 'bobert'), (15374, 'booney'), (15375, 'breton'), (15376, 'bridgman'), (15457, 'bangor'), (15458, 'bosworth'), (15459, 'bunt'), (15507, 'bracebuckle'), (15524, 'brocklington'), (15569, 'bazaar'), (15570, 'belvedere'), (15571, 'bichmond'), (15572, 'bochester'), (15573, 'brinste'), (15574, 'brinsted'), (15623, 'beechey'), (15624, 'burr'), (15638, 'bevington'), (15639, 'bramston'), (15640, 'bramstone'), (15649, 'bust'), (15669, 'breach'), (15680, 'beagin'), (15681, 'boilermaker'), (15689, 'brochet'), (15690, 'broohet'), (15693, 'bobsart'), (15710, 'brill'), (15737, 'batts'), (15738, 'bicycle'), (15739, 'billhead'), (15747, 'bearing'), (15764, 'bedfearn'), (15765, 'bedfearns'), (15766, 'bedthing'), (15767, 'blaydon'), (15768, 'bordblay'), (15769, 'bordelay'), (15770, 'buspinis'), (15818, 'baling'), (15819, 'billing'), (15820, 'bournemouth'), (15859, 'baumgartner'), (15861, 'bonn'), (15873, 'barnacot'), (15874, 'billycock'), (15875, 'biron'), (15876, 'burglarious'), (15920, 'balancesheet'), (15921, 'beira'), (15922, 'bertram'), (15923, 'bicker'), (15924, 'biennial'), (15925, 'bodley'), (15926, 'borrower'), (15927, 'boxbook'), (15928, 'boxer'), (15929, 'buke'), (15930, 'bursar'), (16124, 'bradbury'), (16125, 'bueno'), (16155, 'beermoney'), (16156, 'beimon'), (16157, 'boxlid'), (16158, 'busmese'), (16189, 'bearma'), (16190, 'beerman'), (16191, 'bethnal'), (16192, 'booking'), (16193, 'breaker'), (16208, 'bills'), (16209, 'bolitho'), (16238, 'baths'), (16239, 'blackguard'), (16240, 'blackleg'), (16271, 'beading'), (16272, 'becker'), (16273, 'bettor'), (16274, 'binocular'), (16275, 'blouse'), (16276, 'bootshop'), (16277, 'brasseur'), (16278, 'bruge'), (16279, 'brussels'), (16331, 'bellthis'), (16332, 'bertha'), (16333, 'blau'), (16334, 'braybourne'), (16335, 'bulbs'), (16336, 'buswell'), (16398, 'beetle'), (16414, 'burnand'), (16422, 'bebman'), (16423, 'bevonshire'), (16424, 'bitter'), (16425, 'bridgwater'), (16426, 'burrows'), (16484, 'banged'), (16485, 'barricade'), (16486, 'barrie'), (16487, 'blister'), (16488, 'bonham'), (16489, 'borstall'), (16538, 'bodice'), (16546, 'bertie'), (16548, 'betted'), (16563, 'bangle'), (16570, 'barnsbury'), (16577, 'bacchus'), (16578, 'bathurst'), (16579, 'battery'), (16580, 'boyles'), (16581, 'bromide'), (16595, 'boatswain'), (16596, 'bout'), (16597, 'brake'), (16648, 'berth'), (16662, 'buoy'), (16691, 'baldree'), (16692, 'bottista'), (16723, 'boe'), (16740, 'ballis'), (16744, 'blackhandle'), (16745, 'brew'), (16760, 'belmont'), (16796, 'boysmeane'), (16803, 'billot'), (16821, 'bissell'), (16822, 'boden'), (16823, 'burchell'), (16857, 'barely'), (16858, 'barley'), (16870, 'belfrage'), (16905, 'builders'), (16925, 'boizot'), (16926, 'brute'), (16927, 'buchs'), (16928, 'bullethole'), (16975, 'brockley'), (16994, 'bloxam'), (16999, 'bastardand'), (17000, 'blandy'), (17009, 'buglass'), (17011, 'botte'), (17020, 'bike'), (17021, 'billeter'), (17022, 'billiter'), (17023, 'boardinghouse'), (17024, 'bookmake'), (17025, 'bookmaker'), (17026, 'boult'), (17097, 'beatrice'), (17104, 'bonchord'), (17105, 'brocklebank'), (17106, 'buckhurst'), (17135, 'beldam'), (17136, 'bogus'), (17137, 'bois'), (17151, 'brunet'), (17153, 'bronchial'), (17154, 'buttock'), (17190, 'begrimed'), (17191, 'broadly'), (17216, 'bernstein'), (17242, 'bremin'), (17294, 'bree'), (17318, 'baltico'), (17328, 'beyer'), (17353, 'brows'), (17354, 'browse'), (17370, 'burgay'), (17376, 'braganza'), (17381, 'boysand'), (17391, 'bifurcation'), (17392, 'blur'), (17393, 'bordelott'), (17415, 'balham'), (17425, 'bloxham'), (17430, 'brutally'), (17441, 'banke'), (17442, 'belfast'), (17443, 'bros'), (17444, 'bunche'), (17500, 'bash'), (17501, 'birdsall'), (17509, 'bankes'), (17520, 'brigade'), (17543, 'bassett'), (17546, 'billingley'), (17572, 'brassfinisher'), (17575, 'barron'), (17590, 'beresford'), (17591, 'bibby'), (17592, 'biddle'), (17593, 'bourner'), (17594, 'bro'), (17595, 'brv'), (17662, 'boon'), (17673, 'bonallack'), (17674, 'bonnallack'), (17675, 'borden'), (17684, 'boleyn'), (17708, 'bowlis'), (17709, 'bremner'), (17738, 'borstal'), (17751, 'barney'), (17752, 'boustred'), (17753, 'bracket'), (17754, 'bravery'), (17850, 'bannatyne'), (17851, 'begg'), (17852, 'bernards'), (17853, 'bewildered'), (17854, 'blackmail'), (17855, 'businesslike'), (17952, 'bransbury'), (17963, 'beechcroft'), (17964, 'bookstall'), (17965, 'brankescombe'), (17977, 'bomze'), (17991, 'broxholm'), (18003, 'basketmaker'), (18004, 'bloch'), (18005, 'brickwell'), (18006, 'bryanston'), (18046, 'beauchamp'), (18053, 'batting'), (18054, 'blackhorse'), (18055, 'breakfastroom'), (18096, 'balcombe')]\n"
     ]
    }
   ],
   "source": [
    "# strange that there are no words seemingly starting with b\n",
    "# is that the case?\n",
    "# let's check out words starting with b\n",
    "print(\"Words starting with b\", [(key, word)  for key, word in dictionary.items() if word.startswith('b')])\n",
    "# so there are words starting with b"
   ]
  },
  {
   "cell_type": "code",
   "execution_count": 46,
   "metadata": {},
   "outputs": [
    {
     "name": "stdout",
     "output_type": "stream",
     "text": [
      "[(0, 1), (1, 1), (2, 1), (3, 1), (4, 1), (5, 1), (6, 1), (7, 2), (8, 2), (9, 1), (10, 1), (11, 1), (12, 1), (13, 2), (14, 1), (15, 1), (16, 1), (17, 1), (18, 2), (19, 1), (20, 1), (21, 1), (22, 1), (23, 1), (24, 1), (25, 2), (26, 1), (27, 1), (28, 1), (29, 1), (30, 1), (31, 1), (32, 1), (33, 2), (34, 1), (35, 2), (36, 1), (37, 1), (38, 1), (39, 2), (40, 1), (41, 4), (42, 1), (43, 2), (44, 1), (45, 2), (46, 1)]\n",
      "[(1, 1), (4, 1), (7, 1), (8, 1), (13, 1), (14, 1), (15, 1), (16, 1), (17, 1), (19, 1), (20, 1), (22, 1), (23, 1), (26, 1), (29, 1), (32, 2), (33, 2), (35, 1), (36, 1), (37, 1), (42, 1), (43, 2), (47, 1), (48, 1), (49, 1), (50, 1), (51, 1), (52, 1), (53, 1), (54, 1), (55, 2), (56, 1), (57, 1), (58, 1), (59, 1), (60, 1), (61, 1), (62, 1), (63, 1), (64, 1), (65, 1), (66, 1), (67, 1), (68, 2), (69, 1), (70, 4), (71, 1), (72, 1), (73, 1), (74, 1), (75, 1), (76, 1), (77, 1), (78, 1), (79, 1), (80, 1), (81, 1), (82, 1), (83, 1), (84, 1), (85, 1), (86, 1), (87, 1), (88, 1), (89, 1), (90, 1), (91, 3), (92, 1), (93, 1), (94, 1), (95, 1), (96, 1)]\n"
     ]
    }
   ],
   "source": [
    "# now we need to create a corpus for gensim \n",
    "\n",
    "corpus = [dictionary.doc2bow(text) for text in texts]\n",
    "# let's check out first 2 rows\n",
    "print(*corpus[:2], sep = \"\\n\")"
   ]
  },
  {
   "cell_type": "code",
   "execution_count": null,
   "metadata": {},
   "outputs": [],
   "source": [
    "# so data type of corpus is list of lists of tuples\n",
    "# each tuple contains word id and count of that word in the document"
   ]
  },
  {
   "cell_type": "code",
   "execution_count": 47,
   "metadata": {},
   "outputs": [],
   "source": [
    "# what could word no 1 be?\n",
    "# so each document was converted into a list of tuples, first value is word id and second value is number of times that word appears in the document\n",
    "\n",
    "# now we can create our LDA model\n",
    "\n",
    "# we need to import LdaModel from gensim.models\n",
    "from gensim.models import LdaModel\n",
    "# Train the model on the corpus.\n",
    "lda = LdaModel(corpus, \n",
    "               num_topics=10,\n",
    "               id2word=dictionary) # again this is our default number of topics, you can play around with it and choose a different number"
   ]
  },
  {
   "cell_type": "code",
   "execution_count": 48,
   "metadata": {},
   "outputs": [
    {
     "data": {
      "text/plain": [
       "[(0,\n",
       "  '0.019*\"prisoner\" + 0.019*\"say\" + 0.014*\"mr\" + 0.012*\"come\" + 0.011*\"go\" + 0.011*\"house\" + 0.011*\"q\" + 0.010*\"do\" + 0.009*\"take\" + 0.008*\"find\"'),\n",
       " (1,\n",
       "  '0.028*\"say\" + 0.017*\"prisoner\" + 0.017*\"do\" + 0.013*\"go\" + 0.012*\"see\" + 0.011*\"mr\" + 0.010*\"know\" + 0.010*\"q\" + 0.008*\"find\" + 0.008*\"take\"'),\n",
       " (2,\n",
       "  '0.023*\"prisoner\" + 0.015*\"say\" + 0.014*\"mr\" + 0.014*\"go\" + 0.012*\"see\" + 0.011*\"do\" + 0.011*\"know\" + 0.010*\"q\" + 0.010*\"value\" + 0.008*\"find\"'),\n",
       " (3,\n",
       "  '0.026*\"say\" + 0.017*\"prisoner\" + 0.014*\"do\" + 0.014*\"go\" + 0.012*\"see\" + 0.011*\"mr\" + 0.010*\"take\" + 0.009*\"come\" + 0.009*\"q\" + 0.007*\"man\"'),\n",
       " (4,\n",
       "  '0.026*\"prisoner\" + 0.023*\"say\" + 0.015*\"go\" + 0.013*\"see\" + 0.013*\"take\" + 0.011*\"do\" + 0.010*\"mr\" + 0.010*\"know\" + 0.009*\"come\" + 0.009*\"man\"'),\n",
       " (5,\n",
       "  '0.021*\"say\" + 0.020*\"do\" + 0.019*\"prisoner\" + 0.016*\"mr\" + 0.016*\"go\" + 0.014*\"come\" + 0.013*\"take\" + 0.013*\"q\" + 0.013*\"give\" + 0.009*\"see\"'),\n",
       " (6,\n",
       "  '0.023*\"say\" + 0.016*\"prisoner\" + 0.015*\"do\" + 0.013*\"q\" + 0.013*\"mr\" + 0.012*\"come\" + 0.010*\"go\" + 0.009*\"know\" + 0.008*\"take\" + 0.008*\"good\"'),\n",
       " (7,\n",
       "  '0.018*\"mr\" + 0.017*\"prisoner\" + 0.016*\"say\" + 0.016*\"do\" + 0.011*\"go\" + 0.010*\"see\" + 0.009*\"come\" + 0.008*\"q\" + 0.007*\"man\" + 0.007*\"take\"'),\n",
       " (8,\n",
       "  '0.024*\"say\" + 0.017*\"do\" + 0.013*\"q\" + 0.012*\"mr\" + 0.010*\"prisoner\" + 0.010*\"see\" + 0.010*\"go\" + 0.010*\"know\" + 0.008*\"come\" + 0.008*\"ask\"'),\n",
       " (9,\n",
       "  '0.019*\"say\" + 0.017*\"do\" + 0.016*\"prisoner\" + 0.015*\"go\" + 0.013*\"mr\" + 0.011*\"q\" + 0.011*\"know\" + 0.010*\"come\" + 0.010*\"see\" + 0.009*\"tell\"')]"
      ]
     },
     "execution_count": 48,
     "metadata": {},
     "output_type": "execute_result"
    }
   ],
   "source": [
    "# let's show our topics\n",
    "lda.show_topics()"
   ]
  },
  {
   "cell_type": "code",
   "execution_count": 52,
   "metadata": {},
   "outputs": [],
   "source": [
    "# now let's save our model just in case\n",
    "# let's create models folder in our parent directory if it does not exist\n",
    "Path(\"../models\").mkdir(parents=True, exist_ok=True)\n",
    "# we will use save method\n",
    "# from gensim.test.utils import datapath\n",
    "# # we will use datapath to create a path to our model\n",
    "# temp_file = datapath(\"lda_model_10.model\") # so any appropriate name would do\n",
    "temp_file = Path(\"../models/lda_model_10.model\")\n",
    "# gensim is not Path aware so you need to convert Path to string\n",
    "temp_file = str(temp_file)\n",
    "lda.save(temp_file)"
   ]
  },
  {
   "cell_type": "code",
   "execution_count": 53,
   "metadata": {},
   "outputs": [],
   "source": [
    "# let's load our model\n",
    "loaded_model = LdaModel.load(temp_file)"
   ]
  },
  {
   "cell_type": "code",
   "execution_count": 54,
   "metadata": {},
   "outputs": [
    {
     "data": {
      "text/plain": [
       "[(0,\n",
       "  '0.019*\"prisoner\" + 0.019*\"say\" + 0.014*\"mr\" + 0.012*\"come\" + 0.011*\"go\" + 0.011*\"house\" + 0.011*\"q\" + 0.010*\"do\" + 0.009*\"take\" + 0.008*\"find\"'),\n",
       " (1,\n",
       "  '0.028*\"say\" + 0.017*\"prisoner\" + 0.017*\"do\" + 0.013*\"go\" + 0.012*\"see\" + 0.011*\"mr\" + 0.010*\"know\" + 0.010*\"q\" + 0.008*\"find\" + 0.008*\"take\"'),\n",
       " (2,\n",
       "  '0.023*\"prisoner\" + 0.015*\"say\" + 0.014*\"mr\" + 0.014*\"go\" + 0.012*\"see\" + 0.011*\"do\" + 0.011*\"know\" + 0.010*\"q\" + 0.010*\"value\" + 0.008*\"find\"'),\n",
       " (3,\n",
       "  '0.026*\"say\" + 0.017*\"prisoner\" + 0.014*\"do\" + 0.014*\"go\" + 0.012*\"see\" + 0.011*\"mr\" + 0.010*\"take\" + 0.009*\"come\" + 0.009*\"q\" + 0.007*\"man\"'),\n",
       " (4,\n",
       "  '0.026*\"prisoner\" + 0.023*\"say\" + 0.015*\"go\" + 0.013*\"see\" + 0.013*\"take\" + 0.011*\"do\" + 0.010*\"mr\" + 0.010*\"know\" + 0.009*\"come\" + 0.009*\"man\"'),\n",
       " (5,\n",
       "  '0.021*\"say\" + 0.020*\"do\" + 0.019*\"prisoner\" + 0.016*\"mr\" + 0.016*\"go\" + 0.014*\"come\" + 0.013*\"take\" + 0.013*\"q\" + 0.013*\"give\" + 0.009*\"see\"'),\n",
       " (6,\n",
       "  '0.023*\"say\" + 0.016*\"prisoner\" + 0.015*\"do\" + 0.013*\"q\" + 0.013*\"mr\" + 0.012*\"come\" + 0.010*\"go\" + 0.009*\"know\" + 0.008*\"take\" + 0.008*\"good\"'),\n",
       " (7,\n",
       "  '0.018*\"mr\" + 0.017*\"prisoner\" + 0.016*\"say\" + 0.016*\"do\" + 0.011*\"go\" + 0.010*\"see\" + 0.009*\"come\" + 0.008*\"q\" + 0.007*\"man\" + 0.007*\"take\"'),\n",
       " (8,\n",
       "  '0.024*\"say\" + 0.017*\"do\" + 0.013*\"q\" + 0.012*\"mr\" + 0.010*\"prisoner\" + 0.010*\"see\" + 0.010*\"go\" + 0.010*\"know\" + 0.008*\"come\" + 0.008*\"ask\"'),\n",
       " (9,\n",
       "  '0.019*\"say\" + 0.017*\"do\" + 0.016*\"prisoner\" + 0.015*\"go\" + 0.013*\"mr\" + 0.011*\"q\" + 0.011*\"know\" + 0.010*\"come\" + 0.010*\"see\" + 0.009*\"tell\"')]"
      ]
     },
     "execution_count": 54,
     "metadata": {},
     "output_type": "execute_result"
    }
   ],
   "source": [
    "# use loaded model to print topics\n",
    "loaded_model.print_topics()"
   ]
  },
  {
   "cell_type": "code",
   "execution_count": 37,
   "metadata": {},
   "outputs": [
    {
     "name": "stdout",
     "output_type": "stream",
     "text": [
      "Shape of our topic array (10, 18118)\n",
      "go, q, mr, say, prisoner\n",
      "q, do, go, prisoner, say\n",
      "go, prisoner, mr, do, say\n",
      "come, go, house, q, say\n",
      "q, go, say, prisoner, do\n",
      "know, go, mr, prisoner, say\n",
      "mr, go, prisoner, do, say\n",
      "value, prisoner, mr, do, say\n",
      "see, mr, take, prisoner, say\n",
      "come, mr, do, prisoner, say\n"
     ]
    }
   ],
   "source": [
    "topic_array = loaded_model.get_topics()\n",
    "# let's check out shape\n",
    "print(\"Shape of our topic array\", topic_array.shape)\n",
    "# we probably do not want to print out all the words in our topics\n",
    "# so let's find out 5 most important words for each topic\n",
    "# we will use argsort method\n",
    "topic_array.argsort(axis=1)[:,-5:]\n",
    "# so we can see that last 5 words in each topic are the most important\n",
    "# let's print out our topics with 5 most important words\n",
    "for topic in topic_array.argsort(axis=1)[:,-5:]:\n",
    "    print(*[dictionary[word] for word in topic], sep = \", \")"
   ]
  },
  {
   "cell_type": "code",
   "execution_count": 55,
   "metadata": {},
   "outputs": [
    {
     "data": {
      "text/plain": [
       "[(0,\n",
       "  '0.019*\"prisoner\" + 0.019*\"say\" + 0.014*\"mr\" + 0.012*\"come\" + 0.011*\"go\" + 0.011*\"house\" + 0.011*\"q\" + 0.010*\"do\" + 0.009*\"take\" + 0.008*\"find\"'),\n",
       " (1,\n",
       "  '0.028*\"say\" + 0.017*\"prisoner\" + 0.017*\"do\" + 0.013*\"go\" + 0.012*\"see\" + 0.011*\"mr\" + 0.010*\"know\" + 0.010*\"q\" + 0.008*\"find\" + 0.008*\"take\"'),\n",
       " (2,\n",
       "  '0.023*\"prisoner\" + 0.015*\"say\" + 0.014*\"mr\" + 0.014*\"go\" + 0.012*\"see\" + 0.011*\"do\" + 0.011*\"know\" + 0.010*\"q\" + 0.010*\"value\" + 0.008*\"find\"'),\n",
       " (3,\n",
       "  '0.026*\"say\" + 0.017*\"prisoner\" + 0.014*\"do\" + 0.014*\"go\" + 0.012*\"see\" + 0.011*\"mr\" + 0.010*\"take\" + 0.009*\"come\" + 0.009*\"q\" + 0.007*\"man\"'),\n",
       " (4,\n",
       "  '0.026*\"prisoner\" + 0.023*\"say\" + 0.015*\"go\" + 0.013*\"see\" + 0.013*\"take\" + 0.011*\"do\" + 0.010*\"mr\" + 0.010*\"know\" + 0.009*\"come\" + 0.009*\"man\"'),\n",
       " (5,\n",
       "  '0.021*\"say\" + 0.020*\"do\" + 0.019*\"prisoner\" + 0.016*\"mr\" + 0.016*\"go\" + 0.014*\"come\" + 0.013*\"take\" + 0.013*\"q\" + 0.013*\"give\" + 0.009*\"see\"'),\n",
       " (6,\n",
       "  '0.023*\"say\" + 0.016*\"prisoner\" + 0.015*\"do\" + 0.013*\"q\" + 0.013*\"mr\" + 0.012*\"come\" + 0.010*\"go\" + 0.009*\"know\" + 0.008*\"take\" + 0.008*\"good\"'),\n",
       " (7,\n",
       "  '0.018*\"mr\" + 0.017*\"prisoner\" + 0.016*\"say\" + 0.016*\"do\" + 0.011*\"go\" + 0.010*\"see\" + 0.009*\"come\" + 0.008*\"q\" + 0.007*\"man\" + 0.007*\"take\"'),\n",
       " (8,\n",
       "  '0.024*\"say\" + 0.017*\"do\" + 0.013*\"q\" + 0.012*\"mr\" + 0.010*\"prisoner\" + 0.010*\"see\" + 0.010*\"go\" + 0.010*\"know\" + 0.008*\"come\" + 0.008*\"ask\"'),\n",
       " (9,\n",
       "  '0.019*\"say\" + 0.017*\"do\" + 0.016*\"prisoner\" + 0.015*\"go\" + 0.013*\"mr\" + 0.011*\"q\" + 0.011*\"know\" + 0.010*\"come\" + 0.010*\"see\" + 0.009*\"tell\"')]"
      ]
     },
     "execution_count": 55,
     "metadata": {},
     "output_type": "execute_result"
    }
   ],
   "source": [
    "loaded_model.show_topics()"
   ]
  },
  {
   "cell_type": "code",
   "execution_count": 39,
   "metadata": {},
   "outputs": [],
   "source": [
    "# now that is certainly not very interesting\n",
    "# bag of words model is not very good at capturing context\n",
    "# we got a lot of prison related words in our topics"
   ]
  },
  {
   "cell_type": "code",
   "execution_count": 56,
   "metadata": {},
   "outputs": [],
   "source": [
    "# how about using LDAvis to visualize our topics?\n",
    "\n",
    "# we will need to import pyLDAvis if you do not have it\n",
    "# use pip install pyldavis from command line\n",
    "# in notebook use !\n",
    "# such as !pip install pyldavis\n",
    "# link on pypi: https://pypi.org/project/pyLDAvis/\n",
    "import pyLDAvis\n",
    "import pyLDAvis.gensim_models as gensimvis"
   ]
  },
  {
   "cell_type": "code",
   "execution_count": 57,
   "metadata": {},
   "outputs": [],
   "source": [
    "# now lets prepare our data for pyLDAvis\n",
    "# we will use prepare method\n",
    "lda_data = gensimvis.prepare(lda, corpus, dictionary)   "
   ]
  },
  {
   "cell_type": "code",
   "execution_count": 58,
   "metadata": {},
   "outputs": [
    {
     "data": {
      "text/html": [
       "\n",
       "<link rel=\"stylesheet\" type=\"text/css\" href=\"https://cdn.jsdelivr.net/gh/bmabey/pyLDAvis@3.4.0/pyLDAvis/js/ldavis.v1.0.0.css\">\n",
       "\n",
       "\n",
       "<div id=\"ldavis_el747223585473847849032865332\" style=\"background-color:white;\"></div>\n",
       "<script type=\"text/javascript\">\n",
       "\n",
       "var ldavis_el747223585473847849032865332_data = {\"mdsDat\": {\"x\": [0.0008410137229407448, 0.003142718917555088, -0.015461329767003786, 0.009621638196232685, -0.013052971913310202, 0.018151115665541003, 0.00016039633800958122, 0.001861248911964481, -0.0043424050996088, -0.0009214249723207972], \"y\": [-0.0023668062400453195, 0.006121101237375655, 0.006524143185231888, 0.005107032245574798, 0.0017533478917305025, 0.0002874340028056075, 0.011987829012346459, -0.007147388483659687, -0.012575302473662727, -0.009691390377697144], \"topics\": [1, 2, 3, 4, 5, 6, 7, 8, 9, 10], \"cluster\": [1, 1, 1, 1, 1, 1, 1, 1, 1, 1], \"Freq\": [15.230754293819599, 14.679391692998301, 13.771841486553098, 11.504446506916462, 11.412409566533407, 9.159830075729191, 8.134311995518917, 6.841549649708087, 5.491713102436732, 3.7737516297861906]}, \"tinfo\": {\"Term\": [\"say\", \"prisoner\", \"q\", \"do\", \"come\", \"mr\", \"value\", \"house\", \"find\", \"know\", \"good\", \"take\", \"door\", \"go\", \"see\", \"room\", \"thing\", \"call\", \"s\", \"watch\", \"man\", \"steal\", \"money\", \"ask\", \"receive\", \"d\", \"give\", \"yes\", \"indict\", \"bring\", \"hassell\", \"moist\", \"asher\", \"clough\", \"rivett\", \"crane\", \"raftery\", \"barclay\", \"latham\", \"lowerheath\", \"hassells\", \"barrimore\", \"derter\", \"stanniland\", \"faulkener\", \"spikesman\", \"lillian\", \"huffain\", \"whiteman\", \"seabrook\", \"murtaugh\", \"eggleton\", \"henson\", \"minott\", \"bullenger\", \"monica\", \"grady\", \"palfreman\", \"wetworth\", \"fitzgenald\", \"glessing\", \"scarrolt\", \"layton\", \"hurd\", \"cravet\", \"ashbridge\", \"jenner\", \"hibbert\", \"louis\", \"s\", \"tell\", \"patent\", \"live\", \"mrs\", \"coat\", \"do\", \"leave\", \"trowser\", \"know\", \"playhouseyard\", \"go\", \"till\", \"q\", \"house\", \"stamp\", \"say\", \"mr\", \"value\", \"woman\", \"time\", \"pair\", \"half\", \"come\", \"hear\", \"prisoner\", \"give\", \"day\", \"receive\", \"see\", \"money\", \"john\", \"pay\", \"yes\", \"take\", \"steal\", \"room\", \"man\", \"guilty\", \"ask\", \"find\", \"good\", \"winfield\", \"houchin\", \"poore\", \"poplin\", \"houtching\", \"matheson\", \"ode\", \"turvey\", \"godsell\", \"emberson\", \"dinah\", \"helden\", \"convictable\", \"grouch\", \"darby\", \"goodenough\", \"hewicx\", \"bossie\", \"waldron\", \"harley\", \"whitaker\", \"theynever\", \"watte\", \"houching\", \"purple\", \"puecell\", \"fitzpatrick\", \"pleadeth\", \"osbourne\", \"crispin\", \"ledbitter\", \"carnelly\", \"webster\", \"richford\", \"sixpence\", \"pittock\", \"give\", \"blyth\", \"florin\", \"bad\", \"do\", \"come\", \"produce\", \"take\", \"pig\", \"q\", \"mason\", \"dunn\", \"mr\", \"go\", \"halfcrown\", \"november\", \"say\", \"serve\", \"prisoner\", \"find\", \"book\", \"oclock\", \"recollect\", \"till\", \"crown\", \"tell\", \"know\", \"ask\", \"william\", \"see\", \"crossexamine\", \"yes\", \"day\", \"good\", \"man\", \"time\", \"house\", \"year\", \"get\", \"thing\", \"live\", \"value\", \"guilty\", \"thrale\", \"rodd\", \"flood\", \"changd\", \"giselle\", \"riser\", \"hoye\", \"cragnell\", \"pantheon\", \"ass\", \"schwartz\", \"godson\", \"prosser\", \"monks\", \"ferdinando\", \"mulling\", \"obryan\", \"reformatory\", \"millard\", \"ida\", \"simond\", \"penelope\", \"goldchain\", \"connoway\", \"mathematical\", \"donohue\", \"ewen\", \"stard\", \"burgay\", \"malin\", \"crockwell\", \"bryand\", \"engstrem\", \"sharman\", \"westmorelandbuilding\", \"saville\", \"cherrell\", \"elam\", \"handkerchief\", \"mahar\", \"northend\", \"stool\", \"prisoner\", \"boot\", \"alfreds\", \"wellingtonstreet\", \"take\", \"man\", \"see\", \"say\", \"pocket\", \"guilty\", \"hold\", \"go\", \"door\", \"find\", \"steal\", \"live\", \"indict\", \"know\", \"ask\", \"december\", \"coat\", \"john\", \"time\", \"aged\", \"shop\", \"house\", \"window\", \"property\", \"come\", \"run\", \"away\", \"hear\", \"money\", \"mr\", \"do\", \"good\", \"value\", \"year\", \"q\", \"thing\", \"tell\", \"leave\", \"give\", \"soden\", \"gerry\", \"brocklington\", \"frampton\", \"sherman\", \"dominion\", \"lustring\", \"lustre\", \"kirk\", \"braganza\", \"surman\", \"suddaby\", \"calveskin\", \"jeffrie\", \"giffard\", \"muncreef\", \"onslow\", \"kenealey\", \"tannd\", \"crawshay\", \"fowke\", \"hasenach\", \"motor\", \"burk\", \"colla\", \"trounce\", \"negligence\", \"cairncross\", \"ethelburga\", \"sachell\", \"munro\", \"menace\", \"heron\", \"durbin\", \"yeo\", \"crafer\", \"baggott\", \"crossby\", \"pithouse\", \"tatham\", \"briggss\", \"barry\", \"griffin\", \"share\", \"firm\", \"defendant\", \"mr\", \"defend\", \"prosecute\", \"procure\", \"road\", \"receive\", \"security\", \"do\", \"letter\", \"prisoner\", \"shop\", \"man\", \"feloniously\", \"see\", \"say\", \"tell\", \"crossexamine\", \"come\", \"go\", \"time\", \"day\", \"q\", \"note\", \"write\", \"william\", \"ask\", \"find\", \"john\", \"take\", \"know\", \"send\", \"give\", \"house\", \"pay\", \"guilty\", \"money\", \"good\", \"leave\", \"get\", \"s\", \"colton\", \"bullard\", \"madlock\", \"ohrland\", \"danieli\", \"holyland\", \"hewlet\", \"bursey\", \"sowl\", \"weldon\", \"tapperell\", \"morland\", \"clover\", \"harden\", \"whale\", \"goss\", \"giusue\", \"foreroom\", \"fleay\", \"jelk\", \"fansitt\", \"abominable\", \"berrit\", \"tapp\", \"dodgson\", \"philippia\", \"leghorn\", \"vago\", \"westall\", \"gaynor\", \"logwood\", \"broadcloth\", \"millett\", \"willoughby\", \"gumley\", \"sloanestreet\", \"concertina\", \"hoare\", \"windor\", \"diver\", \"meadow\", \"lumper\", \"nightingale\", \"value\", \"isabella\", \"shade\", \"s\", \"prisoner\", \"handkerchief\", \"yard\", \"steal\", \"know\", \"bring\", \"yes\", \"property\", \"go\", \"mr\", \"see\", \"good\", \"box\", \"find\", \"away\", \"q\", \"thomas\", \"swear\", \"man\", \"indict\", \"confine\", \"give\", \"get\", \"month\", \"thing\", \"piece\", \"say\", \"do\", \"time\", \"live\", \"come\", \"take\", \"house\", \"guilty\", \"ask\", \"tell\", \"john\", \"pinner\", \"pidworth\", \"hambly\", \"eserard\", \"xciv\", \"feagin\", \"trisina\", \"carton\", \"delamont\", \"batturs\", \"stoneham\", \"horseley\", \"huzzey\", \"coachseat\", \"pullar\", \"jule\", \"lebert\", \"levett\", \"swain\", \"sandey\", \"gerrish\", \"garnsey\", \"geofry\", \"delfoise\", \"hopgood\", \"buchanan\", \"acquicte\", \"tarrant\", \"teham\", \"sceal\", \"radborn\", \"mare\", \"urinal\", \"reading\", \"dutton\", \"undischarged\", \"letter\", \"work\", \"standon\", \"say\", \"q\", \"brother\", \"ask\", \"do\", \"think\", \"know\", \"see\", \"mr\", \"not\", \"hear\", \"charge\", \"pay\", \"morris\", \"purse\", \"school\", \"denham\", \"year\", \"come\", \"tell\", \"go\", \"mrs\", \"money\", \"find\", \"room\", \"take\", \"business\", \"time\", \"shop\", \"man\", \"william\", \"prisoner\", \"leave\", \"give\", \"house\", \"day\", \"yes\", \"get\", \"live\", \"christy\", \"dowla\", \"lutman\", \"sinvin\", \"carthy\", \"warrenden\", \"dudey\", \"trott\", \"flowerpot\", \"hebbert\", \"boykett\", \"sharke\", \"wharnsley\", \"lupton\", \"poulter\", \"squabble\", \"felon\", \"ulster\", \"ilson\", \"eastindia\", \"ticketofleave\", \"sparrow\", \"burglarioualy\", \"portington\", \"enticknap\", \"watle\", \"husbandss\", \"bine\", \"macdonel\", \"penniket\", \"lester\", \"miver\", \"walwyn\", \"dickson\", \"hurdle\", \"pollard\", \"newmarch\", \"gardiner\", \"coombe\", \"quinion\", \"campion\", \"kautzman\", \"moore\", \"straw\", \"cheque\", \"eaton\", \"lingard\", \"beaton\", \"say\", \"l\", \"see\", \"guilty\", \"go\", \"take\", \"december\", \"do\", \"prisoner\", \"prosecutor\", \"watch\", \"run\", \"come\", \"man\", \"mr\", \"year\", \"cart\", \"get\", \"court\", \"street\", \"steal\", \"q\", \"road\", \"s\", \"day\", \"find\", \"shop\", \"james\", \"person\", \"tell\", \"know\", \"john\", \"time\", \"money\", \"house\", \"value\", \"ask\", \"give\", \"crossexamine\", \"becket\", \"sty\", \"grinley\", \"pooley\", \"spence\", \"ethelburgh\", \"champness\", \"kenneth\", \"crab\", \"linscott\", \"tempest\", \"unpinnd\", \"cornwal\", \"cellarwindow\", \"manuel\", \"albras\", \"pigsty\", \"cursitorstreet\", \"josling\", \"millet\", \"infant\", \"surtout\", \"buyrus\", \"falconcourt\", \"comley\", \"estreate\", \"frequented\", \"nicklin\", \"fewke\", \"counterduplicate\", \"adduce\", \"pig\", \"axe\", \"mackenzie\", \"beef\", \"room\", \"say\", \"do\", \"stair\", \"see\", \"door\", \"drawer\", \"know\", \"bed\", \"prisoner\", \"find\", \"go\", \"think\", \"thing\", \"q\", \"office\", \"smith\", \"ask\", \"place\", \"house\", \"yes\", \"mr\", \"tell\", \"note\", \"time\", \"hand\", \"take\", \"come\", \"shop\", \"person\", \"man\", \"produce\", \"value\", \"give\", \"money\", \"good\", \"hear\", \"oclock\", \"get\", \"knapper\", \"trespass\", \"blanchard\", \"mobun\", \"roper\", \"knutsford\", \"anderton\", \"donegan\", \"connell\", \"greenway\", \"whittington\", \"dowgan\", \"dawkin\", \"dolman\", \"bartrum\", \"ashby\", \"honnel\", \"ruck\", \"hoad\", \"nitson\", \"barter\", \"godey\", \"dorcas\", \"singlo\", \"haseldine\", \"lingen\", \"chable\", \"tomb\", \"kyle\", \"lawler\", \"mug\", \"attic\", \"caw\", \"batts\", \"curtis\", \"house\", \"money\", \"prisoner\", \"come\", \"note\", \"silver\", \"mr\", \"say\", \"receive\", \"find\", \"q\", \"room\", \"bring\", \"open\", \"combe\", \"take\", \"cloth\", \"go\", \"woman\", \"hand\", \"wife\", \"value\", \"guinea\", \"door\", \"indict\", \"jury\", \"know\", \"tell\", \"do\", \"s\", \"steal\", \"good\", \"year\", \"guilty\", \"see\", \"time\", \"ask\", \"give\", \"man\", \"stanwell\", \"steptoe\", \"knell\", \"ratten\", \"shrimpton\", \"gannon\", \"whitford\", \"whalebone\", \"linman\", \"broning\", \"mongus\", \"benfield\", \"fazakerley\", \"nonsuch\", \"bassett\", \"peverty\", \"farrer\", \"foresight\", \"dagney\", \"chever\", \"angus\", \"olsson\", \"clove\", \"byhen\", \"cressell\", \"mlaren\", \"cragie\", \"coate\", \"ester\", \"lestherlane\", \"peruke\", \"franklin\", \"postal\", \"good\", \"call\", \"watch\", \"riddinghood\", \"say\", \"value\", \"q\", \"crape\", \"come\", \"d\", \"door\", \"hancock\", \"do\", \"thing\", \"prisoner\", \"port\", \"mr\", \"child\", \"seal\", \"know\", \"key\", \"john\", \"night\", \"find\", \"take\", \"l\", \"street\", \"man\", \"go\", \"december\", \"steal\", \"yes\", \"indict\", \"house\", \"see\", \"leave\", \"ask\", \"give\", \"tell\", \"time\", \"s\", \"guilty\"], \"Freq\": [8397.0, 7494.0, 4100.0, 6034.0, 3971.0, 5491.0, 1964.0, 2379.0, 2813.0, 3765.0, 1641.0, 3817.0, 1328.0, 5346.0, 4201.0, 1088.0, 1331.0, 1012.0, 1698.0, 721.0, 2578.0, 1524.0, 1557.0, 2158.0, 1126.0, 691.0, 2528.0, 1453.0, 1151.0, 1187.0, 2.359262354932533, 2.1233129233967536, 2.1500008504801587, 2.790388324118463, 2.034470966399064, 4.624657612127256, 2.010964974832195, 8.475855330166356, 2.497970455570355, 1.2369825570195105, 1.2367982810620752, 1.236673722101729, 1.236666591714017, 1.2366565646062968, 1.2366415239447164, 1.2365128427289742, 1.2364750739565615, 1.236379482196296, 1.2362988196853024, 1.236211806672753, 1.2361965431865567, 1.2361808340511284, 1.236162005371076, 1.2361371604263915, 1.2359093222565276, 1.235872444782579, 1.235875898564127, 1.2357941219300537, 1.2357796383300133, 1.235754793385329, 3.0201523671385893, 7.59942996361972, 9.751159933120068, 3.231200702186699, 1.7540007309364702, 1.7387799156541666, 8.355222539554156, 3.071177421606558, 21.682485821936442, 414.14792065598556, 544.878958866566, 6.990070594935345, 340.17961729756695, 212.9921250859551, 142.83480004803613, 1034.2900042463905, 307.3792348692226, 14.309162235265145, 685.1821718005137, 2.7624309651976833, 898.357833066179, 202.85669251565625, 693.3175448783369, 431.08863804106306, 35.03591227943144, 1180.4466380178744, 822.1454540870003, 357.08091789937185, 148.6395631198248, 388.2684351487843, 115.90222757963107, 150.03369652529955, 604.8698769299647, 236.75668055463828, 981.3301618550627, 417.5723891801617, 251.57733402204502, 217.82605734918707, 590.9327640647429, 276.00050914292177, 265.97504141191934, 216.81258682211185, 253.1477876548652, 486.97365068741317, 252.64697774351637, 202.08200441228468, 331.889086983128, 252.33247060230994, 274.8865429314319, 276.6654320578529, 223.78043021595158, 3.5120753265638003, 3.094573517852594, 2.378932953576984, 8.1898454341785, 2.10964331517727, 2.189572462330902, 2.0914169990475764, 3.3724506935518876, 5.80787816158519, 1.2470228633076754, 1.2468610429821887, 1.2465230135298782, 1.2460284253286895, 1.244041911711236, 2.5834253096323385, 1.7413325230734789, 1.185616613397867, 2.7537399673471916, 3.4321058048631325, 2.289270533972516, 4.20612753463607, 1.1201863311737843, 1.1527843753615103, 1.1099726445648683, 1.112149970868712, 1.1450854002340616, 1.6711166758553935, 1.1181362491205724, 1.114696144430715, 1.6244135259508317, 5.044276930595613, 3.2720529396004725, 22.832761593354256, 4.976861315924336, 79.09581306668119, 1.7147367566256673, 738.4977052231109, 4.397174307495583, 57.984075813999624, 188.2589876996532, 1174.7479915037259, 817.0357997596318, 259.8043756238912, 756.7127766119385, 18.82246779250019, 749.4528076789368, 14.417783389739489, 10.469650069695177, 950.0311383161635, 928.1370969678527, 82.7367038150792, 192.53805743722342, 1253.9970629148233, 54.248787656566044, 1135.2817377670842, 494.6454471422041, 144.95938548019, 247.37649215935878, 60.29705973685058, 175.7882900346045, 41.22989985445756, 362.39577664551484, 506.36567990760943, 328.2186641654612, 213.58812987108755, 532.4357482771917, 209.66056265807694, 227.27947894796623, 214.69492162414485, 246.18838778663718, 334.0311695078465, 300.70099475999604, 292.03031510064136, 206.28274902203262, 201.62586973589376, 194.81485202140362, 201.11989247630927, 209.2284759737655, 198.64788438011217, 3.2632629962978004, 2.5582792928312963, 4.036313377608272, 2.374852942133178, 2.3307677237041156, 2.260307050424127, 2.2100730394755814, 3.045922986301415, 4.408941728993482, 7.773272958634588, 2.091442325054033, 4.166590088006331, 2.725082063202885, 4.231605136926381, 1.3428237128537623, 1.3427980240456414, 1.3426524541329563, 1.3424639687996456, 1.3423418714057531, 1.3420650367205913, 1.342025848695654, 1.3418882372764651, 1.3418433070473594, 1.3417585843507724, 1.3417589873124685, 1.3417368244191876, 1.3418231589625587, 1.3415989107787267, 1.3414881970527468, 1.3414311779727608, 3.3626387905178454, 2.670695733457759, 5.037302467443698, 2.557856183050481, 1.9792027846121205, 3.1286125396511997, 1.9447956987170838, 2.5421864130584177, 131.58031405052193, 2.502623633743725, 1.9324884425974123, 7.013397611456155, 1448.2329364952623, 65.05558041928171, 2.442732444269346, 2.8967973396105853, 735.9540257670411, 495.2970482517128, 739.4696054455877, 1255.1890877154408, 156.76269925404983, 337.11713593647397, 128.40649746929267, 812.0901372977453, 254.28598023486273, 456.5539252636489, 278.7054074342377, 276.99483825835017, 218.00057543358125, 545.5679447020651, 349.65885128935446, 163.25907363774115, 124.41646746616523, 260.52421413239364, 348.56423969091384, 114.48618890416913, 224.39684768459546, 357.77673064303343, 96.91297776188448, 197.41769173916865, 503.912253259532, 153.55111387897657, 198.3240525280056, 210.3189778726367, 244.87939714039408, 566.0835305695498, 584.5615873646944, 237.32682469081976, 255.3446927817288, 208.20917359049955, 320.7835832610337, 205.65528617719312, 239.67140412813563, 207.4196265617968, 224.61690990232927, 6.204958402295318, 3.659936634918693, 2.1344653191062144, 2.1280981875229985, 6.4657930052888775, 2.63125726847371, 3.3281143214347053, 4.59734772287824, 5.248805427729443, 1.8678439141540473, 2.3500508739768655, 1.717983045597055, 1.1191272224376252, 1.1190882588911932, 1.1190177373967876, 1.1189465426661585, 1.1188498491135663, 1.1188070144588498, 1.1187520615521114, 1.118754922806061, 1.118736745428028, 1.1186626894434493, 1.1186317205771708, 1.1183928058723762, 1.1183706732315306, 1.1183017506731556, 1.1182788606415586, 1.11826497514445, 1.1182556339918497, 1.1182078342199853, 2.2472768201237265, 2.056572224671928, 6.020564386583966, 1.6780678797634327, 11.400248282623247, 1.5688834388997217, 4.78971453856572, 1.6169656333599356, 1.493062397252138, 44.88517606238927, 2.626260845841425, 10.650915495607846, 6.448805235662731, 38.39286293578651, 41.26938588296854, 38.14950689162599, 851.4508354529992, 34.1942333071166, 59.3132961811144, 10.443284731644345, 124.35729758575413, 199.10925761465154, 33.4761595511919, 726.7811024006695, 134.63479251148576, 787.236379565217, 195.52475406900666, 338.9207519543359, 96.64842422152456, 453.9971165735278, 755.3071875941431, 298.83551318594726, 181.20388855951074, 410.064973709045, 496.3189645657707, 259.5316808514951, 180.11991360908945, 391.03253181340295, 133.34589522642787, 115.0484657100924, 165.7024898674824, 237.65553223514652, 279.3429870410938, 183.43655531204047, 328.5896027945408, 323.62557898227277, 139.5817538249068, 246.8771450115887, 234.53815768255518, 151.0323601770436, 184.45181708055222, 166.7198952201296, 164.80413422269913, 156.1077965054568, 149.14922689994611, 155.75767058214797, 4.875178289973045, 1.8447042475564965, 1.8440247099234772, 1.8436967954489685, 2.4270259244881833, 1.74830206700273, 3.239622034929734, 3.3217696196710516, 3.2626040978559896, 1.5406301905125233, 3.197559156333521, 1.458158865360782, 5.1267371110645605, 1.3966370843698022, 0.9675078168987987, 0.9673861011900835, 0.967172472590219, 0.9670771369665202, 0.9669763750595111, 0.9669540855572978, 0.9669389754453105, 0.9668208494317082, 0.9667132420595999, 0.9666995511294014, 0.9666895333755977, 0.9666477927347489, 0.9665482830469652, 0.9665077946253418, 0.9664727324870287, 0.9664745690752261, 9.051409882857055, 1.956872369046568, 1.8464748855413053, 1.9083944548395748, 5.100853238786492, 3.2262002483835017, 3.587284507511665, 6.338520007226748, 3.236040687944902, 8.460101946838298, 3.135714219301089, 2.570580837383273, 2.197359735596768, 446.468601494673, 6.408769839700507, 3.3213148136483626, 324.8726463440672, 1064.4956019474184, 85.22243676523422, 134.21104804693806, 259.1241032082419, 520.6759329158879, 202.2187736493717, 235.6621925461888, 189.23824377988356, 653.1611811083422, 660.181110064999, 528.5939655223533, 250.69732899260805, 111.95814937034507, 372.8506025084268, 179.75353064895188, 478.6026492127238, 154.81381163137718, 156.21590179654874, 320.74186964121736, 173.80136067772168, 76.81884496760274, 298.3195400266917, 187.83742520159478, 158.88826451524096, 183.1081478154951, 112.42766412701914, 680.5512907915268, 522.7183792754018, 254.58389690033218, 198.37454210492263, 371.967202249801, 353.6307911722926, 257.8895098866686, 209.88543810599296, 222.14960507947916, 228.82776567596693, 185.28506181646617, 2.5325413954573524, 2.124672621662991, 1.326510160396679, 1.3263659683045483, 1.3261518242866817, 1.326015136615703, 1.325979222600191, 1.325831144289964, 1.3255163606241513, 1.325368684336486, 1.3252437893273172, 1.3250603330316606, 1.324917078992174, 1.3054386838551462, 1.2572442191582995, 1.263828410666336, 1.262175293892617, 1.2385482939338646, 1.216994792340851, 3.623579973074048, 1.1808729311643977, 1.1177367619318108, 1.1791877865932632, 1.1225284018409778, 1.1521335442960006, 2.7689920371826005, 1.0420430829656577, 1.006962460224013, 0.9798731749601219, 1.5114633200581364, 5.164435966663348, 45.743392101457864, 11.666022558871463, 5.084340743680399, 8.24398024818925, 4.181996815699401, 131.63908236945716, 137.39777790225696, 5.9063916535780905, 884.9664202027919, 485.02262604215025, 82.03281735368874, 284.92000623360616, 609.7876843660279, 173.3136545107559, 362.0316300315142, 376.131639762932, 455.1522167722246, 98.26534343496338, 146.74165703730776, 113.63036700757445, 135.42708260187626, 32.137252614278864, 36.2769507601563, 21.768471097206884, 4.8379609487262325, 145.14589977063227, 311.8551319259869, 212.03127030622346, 363.961818610638, 104.49475914480894, 153.3131971633423, 223.4386251165348, 115.38701906374395, 266.0932575072924, 66.7441501942368, 181.84236482613528, 124.83868741597817, 200.0467011503617, 121.44080558919408, 381.97232645711574, 132.3027819526012, 175.48801551295503, 167.76909656346174, 121.95491418521904, 121.83431170494907, 119.766401988848, 119.88967175480735, 3.2599108958776037, 3.256714678928424, 8.565856663630845, 1.669481053443039, 1.6692855294111864, 1.6692558973454947, 1.669252446221378, 2.1481517304201883, 2.402491961546757, 1.356294752968451, 1.3446962388379158, 1.405744125372387, 1.3947217109607801, 0.8750623898624744, 0.8750165732147183, 0.8749430285697487, 0.8749357098065357, 0.8749185731902321, 0.8749069107708033, 0.8748159915009703, 0.87480599514146, 0.8748123023682939, 0.8747779696335467, 0.8747193600257028, 0.8746878238915331, 0.8746602148985995, 0.8746094595732281, 0.8746018432993153, 0.8745904188884464, 0.8745733417742827, 3.4796644371237666, 1.3152651713750139, 14.954916552647246, 2.4869552491958897, 4.149505017361245, 3.6017930553739577, 4.008000360268565, 5.0359431453423085, 2.4265070252277643, 2.793540263260918, 3.8908449308748123, 2.037649354297746, 21.87698899499941, 7.6884866617771, 88.60138634427557, 4.079200144907277, 1.6700124075527303, 4.314410676050721, 857.1443010138969, 112.32350528177848, 395.22718936424326, 192.7253177594674, 451.1918442606825, 342.34657703072907, 105.65934938717203, 469.30724315734545, 547.7576672470377, 101.13551878751477, 94.21783236690209, 98.3966000606702, 306.95609797074013, 220.65119338544602, 372.50565079574847, 138.99070786466908, 42.03334366087243, 137.48046167797037, 101.28288607145176, 110.5940322667764, 143.58778417054484, 278.6324548233964, 73.36253224405985, 146.15428568855353, 124.3071029815115, 197.84040731924208, 117.53691332149232, 82.59935883854429, 103.58865968460671, 169.04472274733655, 216.47147365743882, 126.71835437208355, 157.3412363695651, 127.985542409406, 146.95516735557044, 132.04062943110563, 128.6167639587434, 125.94791495189575, 110.89834810723256, 1.719269096153056, 1.5113522853652395, 0.9012655136462638, 0.9010886523567158, 0.9010531199527602, 0.9010323009667806, 0.9007285239357798, 0.9007328278607659, 0.9007198159945287, 0.9005989057298008, 0.9003326629283307, 0.8450337327891353, 0.8351770939774888, 0.8210987051195224, 0.808518232293662, 0.8065343731032335, 0.811387348798979, 0.8075977428486543, 0.8025112041539498, 0.8022558713018633, 1.5453170597130939, 0.7895713535917441, 0.7590473670877771, 0.7690621501198456, 0.7556656330983512, 1.7125277483468075, 0.6963722602068729, 0.679093052345818, 0.6765719532167085, 0.6740447985652348, 0.9638167575697171, 14.302761876075822, 2.3930285344825797, 36.522593363850476, 5.665895442022125, 147.6265327636572, 773.8170335598621, 455.79942539268126, 44.33729762294795, 323.5580207744968, 133.22776333300612, 31.734739055884113, 287.34336263373143, 71.73635793465945, 474.83015656428324, 223.9579932253209, 346.1934728896059, 111.47782917047526, 119.58215435083758, 274.7870926798026, 52.79334195537097, 52.168013283724214, 164.5590816873398, 75.8504009570139, 176.01981175812796, 121.11923610031783, 311.8065551659637, 170.42424485257058, 82.29952707021035, 157.00603044403425, 96.87479025523393, 222.47701383867437, 210.16973895706184, 97.82856245261615, 83.63682342438828, 133.41009921513657, 83.60157848258524, 114.24772799372494, 123.1443020694768, 98.1014769383626, 96.78441663855685, 87.49722713909252, 87.49680435353108, 86.40407663495809, 1.4302279702510332, 1.3728435809535644, 0.7504134510094733, 0.7503417044541941, 0.7502119500457104, 0.7501542635656538, 0.7500564857853909, 0.7498457453436245, 0.749762831071454, 0.7497302920402245, 0.7497243466369874, 0.7497175978008804, 0.7496651336344781, 0.7496355673048669, 0.7495544205850102, 0.7495455024801547, 0.7493447246059747, 0.7493151582763635, 0.7491585692100262, 0.7488107631206602, 0.7322181068055674, 0.722300692146488, 0.7158095973042484, 0.6664813499078789, 1.0592497521120565, 1.0435826504630519, 0.6759512122867983, 0.6702496509257784, 0.6407010771810515, 0.6483646617819331, 3.726602851953328, 1.2754187487503332, 1.4354150935454764, 1.780564551783929, 6.988869711095008, 239.33916053586793, 131.16586392359338, 423.75323336147073, 255.51884335740027, 81.03471231618397, 40.74194971077384, 311.5527044218761, 411.5946536385808, 93.7801913948108, 181.93757648949133, 236.96488657065552, 89.63787148673303, 94.01376025676852, 65.75902387899033, 3.1011956015099402, 196.03052432874267, 19.927238238612397, 246.7923026078913, 56.24154010563494, 80.71790523792271, 60.05528810725139, 118.42407163771979, 23.13697697809524, 88.31627197902567, 79.85451185160306, 58.68014526211084, 178.705087102119, 126.63628165928357, 231.27389774345676, 96.10789967637822, 89.0888324588095, 93.01210442924639, 81.48163695458612, 93.85849331956186, 156.03152763237858, 104.51919650661758, 102.4317210806037, 109.82997776092803, 107.91321575110376, 0.9309671407517043, 1.1900564660922583, 2.0713778664497133, 0.8708988656359214, 4.8293152322107495, 0.797380634122402, 0.7637008647265625, 0.5113213349285267, 0.5113217213961428, 0.5113006313062312, 0.5112813631350814, 0.5112472435655384, 0.5112354286984151, 0.5111459890500983, 0.5111338429250183, 0.5111306407647699, 0.5110757623632718, 0.5110726154126829, 0.5110532920318738, 0.511030987329454, 0.5110312633777513, 0.5109846664251715, 0.5109568959664657, 0.5109498843397149, 0.5109173106406366, 0.5109137220127721, 0.510792923277885, 0.5107787343954051, 0.5107577547248123, 0.5107606808367634, 0.9740717511130698, 2.200512376559901, 4.797116517139444, 114.74755833940264, 74.27968004497886, 55.50040677179071, 0.7220827192363576, 344.8251236751376, 113.44918968626357, 191.82671616043223, 6.7451628503649435, 179.51159475446602, 49.34123483010608, 78.83754925712783, 1.3580989899293343, 225.41007535719078, 75.66284366820406, 249.90060681329328, 1.6604397833254037, 190.20534361549159, 28.23471452372502, 11.22020343965893, 139.31998029582667, 27.609626342605203, 70.40303972910152, 51.92350985567073, 106.14185469933892, 128.90572481482502, 40.84744161143449, 52.569906315276434, 95.45250141056053, 150.0472683624551, 43.086710064738455, 61.581804645362745, 59.31435364845485, 50.47776232919668, 76.32927460903272, 105.35467979160538, 56.254968229491126, 65.00495900196034, 68.57785962209034, 63.78943487205819, 58.96416010356498, 55.402481619654395, 52.936159245908506], \"Total\": [8397.0, 7494.0, 4100.0, 6034.0, 3971.0, 5491.0, 1964.0, 2379.0, 2813.0, 3765.0, 1641.0, 3817.0, 1328.0, 5346.0, 4201.0, 1088.0, 1331.0, 1012.0, 1698.0, 721.0, 2578.0, 1524.0, 1557.0, 2158.0, 1126.0, 691.0, 2528.0, 1453.0, 1151.0, 1187.0, 3.1833629852333245, 3.0448542230701445, 3.1540523378789516, 4.143298051504393, 3.1407941820499543, 7.22942990495489, 3.210479343704079, 13.877559142156729, 4.12178779569879, 2.0610810413567453, 2.0608940368450246, 2.0607760470452243, 2.060773229571511, 2.0607605984831707, 2.060758876088021, 2.060614488150381, 2.060579963641384, 2.060484034253066, 2.0604054907225895, 2.0603172596878943, 2.060301705194776, 2.060280589390898, 2.0602688100904376, 2.060243177078186, 2.0600244348910506, 2.0599765735753532, 2.0599850837881117, 2.0598970481826595, 2.05988848289478, 2.0598598666530563, 5.342043670024898, 14.955605934559259, 19.87933055360992, 6.0293974163554855, 3.0464708403237135, 3.0334628318241585, 18.15621347624593, 5.831497135379667, 55.15681319168622, 1698.924225087129, 2416.5353729396033, 15.462087777486245, 1553.5802870986677, 899.1987851201225, 570.5211097800907, 6034.677390807584, 1439.2132005283768, 37.5757901424548, 3765.2888420289787, 5.363340076914219, 5346.251919737162, 894.8232813753721, 4100.422893120872, 2379.7358621760227, 113.11134409137479, 8397.838799124078, 5491.1145392620165, 1964.1893822637712, 667.9186994798008, 2211.3222356014385, 492.39782269275474, 684.2314054650216, 3971.8615128736296, 1225.5103303152116, 7494.790808073245, 2528.8717592612284, 1342.6904652124872, 1126.2461235375092, 4201.732257209059, 1557.7266138697287, 1499.854773463715, 1165.793091417954, 1453.8801541531357, 3817.7139445534895, 1524.6799899195403, 1088.283668426851, 2578.3536372508493, 1716.2793796532508, 2158.1017276631264, 2813.3748508631547, 1641.153954798308, 4.335287547650553, 4.136308310211443, 3.2021375122234628, 11.037655429214798, 3.0837607771363937, 3.212188104483487, 3.107635429245565, 5.237829268584926, 9.328790398308541, 2.0702164534982277, 2.0700560476684986, 2.069724273262868, 2.0692264065596646, 2.0672517834635222, 4.39300943219843, 3.044403516781463, 2.073016324635399, 4.864436380933384, 6.081953266855295, 4.06504365586205, 7.5014902836291695, 2.0146426448935078, 2.0746053732159697, 2.0035154381883764, 2.009579256094995, 2.0752461689402777, 3.0320615380872185, 2.028809428151814, 2.0258874993877254, 2.983900225915249, 9.436645900210898, 6.317197011336182, 52.64623512484794, 10.154962589836277, 206.61225124529182, 3.2130761770753473, 2528.8717592612284, 9.06615229853478, 160.59567671612973, 624.389495536214, 6034.677390807584, 3971.8615128736296, 1069.3545145824598, 3817.7139445534895, 50.972185015022184, 4100.422893120872, 37.18633288813281, 25.463184624168633, 5491.1145392620165, 5346.251919737162, 300.9370414496234, 833.0086962747475, 8397.838799124078, 183.66702458884686, 7494.790808073245, 2813.3748508631547, 626.2246362797154, 1350.3308160443235, 225.80428765212238, 894.8232813753721, 142.07414140086408, 2416.5353729396033, 3765.2888420289787, 2158.1017276631264, 1229.2982572804515, 4201.732257209059, 1276.607082346239, 1453.8801541531357, 1342.6904652124872, 1641.153954798308, 2578.3536372508493, 2211.3222356014385, 2379.7358621760227, 1358.1555567716568, 1358.4453353611786, 1331.2147930965384, 1553.5802870986677, 1964.1893822637712, 1716.2793796532508, 4.300939905323283, 3.3763626211867797, 5.618377710420963, 3.3413573461241777, 3.3039135931559613, 3.277195065320858, 3.231598961500885, 4.457843927522974, 6.583437702115815, 11.997161348821837, 3.285717410578101, 6.572221099648283, 4.304292469245812, 6.756018428920775, 2.157296329329617, 2.1572778055852697, 2.1571278552839055, 2.156932696677397, 2.156815357089773, 2.1565381659675866, 2.1565030459732646, 2.1563579853846453, 2.1563184116473537, 2.1562293026206096, 2.1562348882645144, 2.1562172119928262, 2.1563706055886076, 2.156066534146088, 2.155967049309931, 2.1558976223979816, 5.431893559369371, 4.354503629243953, 8.475074157116325, 4.253446386711748, 3.2480714423181842, 5.315216749899384, 3.2141714047997807, 4.39889348812774, 376.3628932535479, 4.367680349519682, 3.259840498951007, 14.502133624240733, 7494.790808073245, 200.27996387850447, 4.326459109397167, 5.293190153033232, 3817.7139445534895, 2578.3536372508493, 4201.732257209059, 8397.838799124078, 667.494639367775, 1716.2793796532508, 535.8027109805157, 5346.251919737162, 1328.6862138359884, 2813.3748508631547, 1524.6799899195403, 1553.5802870986677, 1151.3992277868097, 3765.2888420289787, 2158.1017276631264, 804.7879869754685, 570.5211097800907, 1499.854773463715, 2211.3222356014385, 516.4231526835913, 1259.083860723284, 2379.7358621760227, 418.3041646777111, 1106.0145165691988, 3971.8615128736296, 791.0483058246007, 1124.8297886226248, 1225.5103303152116, 1557.7266138697287, 5491.1145392620165, 6034.677390807584, 1641.153954798308, 1964.1893822637712, 1358.1555567716568, 4100.422893120872, 1331.2147930965384, 2416.5353729396033, 1439.2132005283768, 2528.8717592612284, 7.039825927351149, 5.073596685652606, 2.9693400658388533, 2.9680326672538433, 9.112855417831177, 3.8720692968112513, 4.905007344182147, 6.847102000867185, 8.07335451227295, 3.000334064658347, 3.809820981261101, 2.8785995494050627, 1.9539883323987224, 1.9539486171107612, 1.9538789445163123, 1.9538111889380765, 1.9537140486734104, 1.9536727071916635, 1.9536137423605044, 1.9536189479779749, 1.953598848629594, 1.9535242735016876, 1.953487434890531, 1.953260400405558, 1.9532528593590301, 1.9531698273073492, 1.9531386786937752, 1.953128560557409, 1.9531193769113235, 1.953070347770162, 3.9372917657037907, 3.631408250183317, 10.86817392273696, 2.9632238082004174, 21.659320431614724, 2.7813811436277405, 9.5355451815169, 2.9194851731998956, 2.676953643710688, 123.2007202350224, 5.102195220980433, 26.906227166861306, 15.053945389507293, 123.24942129831534, 142.38874070830525, 130.4324879571838, 5491.1145392620165, 116.81525246149883, 229.63418225153, 28.309626810673887, 606.9714835726894, 1126.2461235375092, 121.38481128461028, 6034.677390807584, 714.3434553894865, 7494.790808073245, 1259.083860723284, 2578.3536372508493, 526.1594338475466, 4201.732257209059, 8397.838799124078, 2416.5353729396033, 1276.607082346239, 3971.8615128736296, 5346.251919737162, 2211.3222356014385, 1342.6904652124872, 4100.422893120872, 880.4081449417489, 715.3710699018684, 1229.2982572804515, 2158.1017276631264, 2813.3748508631547, 1499.854773463715, 3817.7139445534895, 3765.2888420289787, 1005.5961358101282, 2528.8717592612284, 2379.7358621760227, 1165.793091417954, 1716.2793796532508, 1557.7266138697287, 1641.153954798308, 1439.2132005283768, 1358.4453353611786, 1698.924225087129, 6.211914341705359, 2.6934126836659154, 2.6927445498688356, 2.692427008760054, 3.646358187969961, 2.698961802473885, 5.297489545259431, 5.528125088917257, 5.473205029585865, 2.692241414488863, 5.66417432956465, 2.6556220751998425, 9.41605597154079, 2.5960024325651507, 1.8162125207606863, 1.8160932475481695, 1.815881471658937, 1.815818016884863, 1.8156858189819, 1.8156600626415866, 1.8156415853045749, 1.815524724882977, 1.8154219435964285, 1.815406788540188, 1.815404235896812, 1.8153581617494918, 1.815262978825018, 1.815219796418557, 1.8151812584332587, 1.8151854296085996, 17.363692095090936, 3.7133290517541386, 3.559667552440949, 3.71580295746874, 10.66168943712832, 6.6073490132440575, 7.41884485227315, 13.830520756693966, 6.738943983572165, 19.282329030596163, 6.568372813390293, 5.488896984539657, 4.611907042588667, 1964.1893822637712, 16.200691192738876, 7.561808749065159, 1698.924225087129, 7494.790808073245, 376.3628932535479, 667.6484255205959, 1524.6799899195403, 3765.2888420289787, 1187.0498179801793, 1453.8801541531357, 1106.0145165691988, 5346.251919737162, 5491.1145392620165, 4201.732257209059, 1641.153954798308, 594.7278320211951, 2813.3748508631547, 1124.8297886226248, 4100.422893120872, 932.7456360672603, 947.3534347781309, 2578.3536372508493, 1151.3992277868097, 389.80559973196125, 2528.8717592612284, 1358.4453353611786, 1091.1083495817736, 1331.2147930965384, 685.907291662902, 8397.838799124078, 6034.677390807584, 2211.3222356014385, 1553.5802870986677, 3971.8615128736296, 3817.7139445534895, 2379.7358621760227, 1716.2793796532508, 2158.1017276631264, 2416.5353729396033, 1499.854773463715, 3.348474820830028, 3.097658110972195, 2.142431446601843, 2.1422953943628755, 2.1420786113169767, 2.141938896982128, 2.141911355217951, 2.1417641426317973, 2.1414458605740454, 2.141291932714263, 2.1411665871364622, 2.140987998552885, 2.140843451479735, 2.135559553222663, 2.117624353525943, 2.1382020177381253, 2.1374248897953585, 2.136635380012038, 2.133267464747953, 6.520656933523306, 2.1306014089170477, 2.0171685013560334, 2.131223045704212, 2.0536802138936694, 2.128341012293088, 5.2222998155736855, 2.017586736442008, 2.0488484083747953, 2.02391321025803, 3.15107838126537, 11.119228936483909, 115.36823651819458, 27.86399702741941, 11.52051330589077, 22.280581866706115, 10.009307309403436, 714.3434553894865, 781.1992423814821, 15.707893778410014, 8397.838799124078, 4100.422893120872, 434.3918964955202, 2158.1017276631264, 6034.677390807584, 1200.118993895504, 3765.2888420289787, 4201.732257209059, 5491.1145392620165, 705.9004349479144, 1225.5103303152116, 901.9961754429411, 1165.793091417954, 163.07207195668116, 194.9527967752862, 97.36055737287424, 12.600056422986317, 1358.1555567716568, 3971.8615128736296, 2416.5353729396033, 5346.251919737162, 899.1987851201225, 1557.7266138697287, 2813.3748508631547, 1088.283668426851, 3817.7139445534895, 487.19717471682833, 2211.3222356014385, 1259.083860723284, 2578.3536372508493, 1229.2982572804515, 7494.790808073245, 1439.2132005283768, 2528.8717592612284, 2379.7358621760227, 1342.6904652124872, 1453.8801541531357, 1358.4453353611786, 1553.5802870986677, 4.117007895757535, 4.11729450637487, 12.350074721374966, 2.5265885411756805, 2.5263737191304427, 2.5263587051900163, 2.5263589094009897, 3.7646497094154463, 4.227508646806901, 2.396230092137278, 2.390468016381729, 2.607381611105794, 2.6359968881176994, 1.7321531292096939, 1.7321087102375328, 1.7320284268672352, 1.732020457102845, 1.7320111405559424, 1.731997776746611, 1.7319089374978363, 1.731891191250945, 1.7319093865106017, 1.7318692584308957, 1.731812452266025, 1.7317931774830568, 1.731753024813621, 1.7316943375042875, 1.731700429753359, 1.7316844051743256, 1.7316589070864867, 7.133169147026666, 2.6369719083302066, 34.39200582602374, 5.221166138688865, 9.111712140968882, 7.87589414707848, 8.91383919082426, 11.580451752376108, 5.271388783943439, 6.291156514015403, 9.294753386064725, 4.563680980236453, 70.69310534935619, 22.133786640425566, 412.3797193476554, 10.78660343028644, 3.7452582293335586, 12.041560607560717, 8397.838799124078, 704.5528949016749, 4201.732257209059, 1716.2793796532508, 5346.251919737162, 3817.7139445534895, 804.7879869754685, 6034.677390807584, 7494.790808073245, 783.461074570545, 721.6813960600734, 791.0483058246007, 3971.8615128736296, 2578.3536372508493, 5491.1145392620165, 1358.1555567716568, 249.39765082388408, 1358.4453353611786, 903.0154137961113, 1026.8727856687474, 1524.6799899195403, 4100.422893120872, 606.9714835726894, 1698.924225087129, 1342.6904652124872, 2813.3748508631547, 1259.083860723284, 725.722448087496, 1056.573939672205, 2416.5353729396033, 3765.2888420289787, 1499.854773463715, 2211.3222356014385, 1557.7266138697287, 2379.7358621760227, 1964.1893822637712, 2158.1017276631264, 2528.8717592612284, 1276.607082346239, 2.5739709223199525, 2.6493492525671236, 1.7559591253990066, 1.755786199430708, 1.7557498231015993, 1.755726300201064, 1.7554199003002524, 1.755429077281706, 1.7554434251119744, 1.755295878768621, 1.7550261070864699, 1.7461232025006808, 1.7442280450475542, 1.7419090190552822, 1.777327602378872, 1.7755739841018905, 1.7865831414934208, 1.7908059002929846, 1.7884288995081592, 1.7916818296590624, 3.485120653098194, 1.8004125602069883, 1.7826674709788446, 1.8066061478239592, 1.7859494808646463, 4.072891419040692, 1.8136115850053252, 1.8193034281414422, 1.820483905091708, 1.8175407452691892, 2.6728240939171135, 50.972185015022184, 7.2034656034302245, 157.17735894958727, 20.160940642065547, 1088.283668426851, 8397.838799124078, 6034.677390807584, 313.6254479837708, 4201.732257209059, 1328.6862138359884, 208.4661266279255, 3765.2888420289787, 608.5301221709256, 7494.790808073245, 2813.3748508631547, 5346.251919737162, 1200.118993895504, 1331.2147930965384, 4100.422893120872, 446.74265057758316, 442.69416995854647, 2158.1017276631264, 751.0587442437577, 2379.7358621760227, 1453.8801541531357, 5491.1145392620165, 2416.5353729396033, 880.4081449417489, 2211.3222356014385, 1126.9999262053968, 3817.7139445534895, 3971.8615128736296, 1259.083860723284, 1056.573939672205, 2578.3536372508493, 1069.3545145824598, 1964.1893822637712, 2528.8717592612284, 1557.7266138697287, 1641.153954798308, 1225.5103303152116, 1350.3308160443235, 1358.4453353611786, 2.2987016640837004, 2.3402570416085178, 1.6188753831090965, 1.6188063781116822, 1.6186769997156207, 1.6186157923349676, 1.6185230662831467, 1.6183071055152938, 1.6182649247431642, 1.6181978217621742, 1.6181916130701541, 1.6181794946889962, 1.618134373656549, 1.6181039796081993, 1.6180223329269918, 1.6180223673344312, 1.6178165996892138, 1.6177775874055313, 1.6176267112145573, 1.6172805804123038, 1.6321235345092355, 1.6372617305677564, 1.6416632851640451, 1.5919425144336947, 2.531516821188293, 2.5229288060347477, 1.6537187145725967, 1.6570270630515749, 1.6456542936327043, 1.6684510624450344, 9.944875178588454, 3.4262220178297507, 3.9085512941947997, 5.0404903618160235, 25.070362988842657, 2379.7358621760227, 1557.7266138697287, 7494.790808073245, 3971.8615128736296, 880.4081449417489, 349.4632604342156, 5491.1145392620165, 8397.838799124078, 1126.2461235375092, 2813.3748508631547, 4100.422893120872, 1088.283668426851, 1187.0498179801793, 745.9925298924369, 11.440295106179141, 3817.7139445534895, 154.2316220772805, 5346.251919737162, 667.9186994798008, 1126.9999262053968, 743.1481198244055, 1964.1893822637712, 197.87857789628404, 1328.6862138359884, 1151.3992277868097, 750.257960058366, 3765.2888420289787, 2416.5353729396033, 6034.677390807584, 1698.924225087129, 1524.6799899195403, 1641.153954798308, 1358.1555567716568, 1716.2793796532508, 4201.732257209059, 2211.3222356014385, 2158.1017276631264, 2528.8717592612284, 2578.3536372508493, 1.9271872907309517, 2.5218761783904617, 4.414361836920532, 2.0114632315981806, 11.7859728628016, 2.0245557436016375, 2.0100215786282547, 1.4015666472851378, 1.4015783637329047, 1.4015459879118204, 1.4015370202052915, 1.4014964163655965, 1.4014876456992331, 1.4014052603021936, 1.4013820218145985, 1.401409860605345, 1.4013228775995565, 1.4013244978559005, 1.4013103376355192, 1.4012779335621892, 1.4012793202543203, 1.4012354595731993, 1.4012017509876107, 1.401197854343813, 1.4011658919789578, 1.401161248648187, 1.4010431569561708, 1.401039232101985, 1.4010219756650901, 1.4010555100461075, 2.9721306862479318, 8.849882209496046, 25.679377314376616, 1641.153954798308, 1012.9613707681319, 721.6813960600734, 2.2121186192202926, 8397.838799124078, 1964.1893822637712, 4100.422893120872, 45.21504168545124, 3971.8615128736296, 691.1917126875709, 1328.6862138359884, 5.257006601144674, 6034.677390807584, 1331.2147930965384, 7494.790808073245, 7.106452277538358, 5491.1145392620165, 381.8992088352479, 108.03067070101751, 3765.2888420289787, 388.1144359537865, 1499.854773463715, 992.1724081015092, 2813.3748508631547, 3817.7139445534895, 704.5528949016749, 1026.8727856687474, 2578.3536372508493, 5346.251919737162, 804.7879869754685, 1524.6799899195403, 1453.8801541531357, 1151.3992277868097, 2379.7358621760227, 4201.732257209059, 1439.2132005283768, 2158.1017276631264, 2528.8717592612284, 2416.5353729396033, 2211.3222356014385, 1698.924225087129, 1716.2793796532508], \"Category\": [\"Default\", \"Default\", \"Default\", \"Default\", \"Default\", \"Default\", \"Default\", \"Default\", \"Default\", \"Default\", \"Default\", \"Default\", \"Default\", \"Default\", \"Default\", \"Default\", \"Default\", \"Default\", \"Default\", \"Default\", \"Default\", \"Default\", \"Default\", \"Default\", \"Default\", \"Default\", \"Default\", \"Default\", \"Default\", \"Default\", \"Topic1\", \"Topic1\", \"Topic1\", \"Topic1\", \"Topic1\", \"Topic1\", \"Topic1\", \"Topic1\", \"Topic1\", \"Topic1\", \"Topic1\", \"Topic1\", \"Topic1\", \"Topic1\", \"Topic1\", \"Topic1\", \"Topic1\", \"Topic1\", \"Topic1\", \"Topic1\", \"Topic1\", \"Topic1\", \"Topic1\", \"Topic1\", \"Topic1\", \"Topic1\", \"Topic1\", \"Topic1\", \"Topic1\", \"Topic1\", \"Topic1\", \"Topic1\", \"Topic1\", \"Topic1\", \"Topic1\", \"Topic1\", \"Topic1\", \"Topic1\", \"Topic1\", \"Topic1\", \"Topic1\", \"Topic1\", \"Topic1\", \"Topic1\", \"Topic1\", \"Topic1\", \"Topic1\", \"Topic1\", \"Topic1\", \"Topic1\", \"Topic1\", \"Topic1\", \"Topic1\", \"Topic1\", \"Topic1\", \"Topic1\", \"Topic1\", \"Topic1\", \"Topic1\", \"Topic1\", \"Topic1\", \"Topic1\", \"Topic1\", \"Topic1\", \"Topic1\", \"Topic1\", \"Topic1\", \"Topic1\", \"Topic1\", \"Topic1\", \"Topic1\", \"Topic1\", \"Topic1\", \"Topic1\", \"Topic1\", \"Topic1\", \"Topic1\", \"Topic1\", \"Topic1\", \"Topic1\", \"Topic1\", \"Topic2\", \"Topic2\", \"Topic2\", \"Topic2\", \"Topic2\", \"Topic2\", \"Topic2\", \"Topic2\", \"Topic2\", \"Topic2\", \"Topic2\", \"Topic2\", \"Topic2\", \"Topic2\", \"Topic2\", \"Topic2\", \"Topic2\", \"Topic2\", \"Topic2\", \"Topic2\", \"Topic2\", \"Topic2\", \"Topic2\", \"Topic2\", \"Topic2\", \"Topic2\", \"Topic2\", \"Topic2\", \"Topic2\", \"Topic2\", \"Topic2\", \"Topic2\", \"Topic2\", \"Topic2\", \"Topic2\", \"Topic2\", \"Topic2\", \"Topic2\", \"Topic2\", \"Topic2\", \"Topic2\", \"Topic2\", \"Topic2\", \"Topic2\", \"Topic2\", \"Topic2\", \"Topic2\", \"Topic2\", \"Topic2\", \"Topic2\", \"Topic2\", \"Topic2\", \"Topic2\", \"Topic2\", \"Topic2\", \"Topic2\", \"Topic2\", \"Topic2\", \"Topic2\", \"Topic2\", \"Topic2\", \"Topic2\", \"Topic2\", \"Topic2\", \"Topic2\", \"Topic2\", \"Topic2\", \"Topic2\", \"Topic2\", \"Topic2\", \"Topic2\", \"Topic2\", \"Topic2\", \"Topic2\", \"Topic2\", \"Topic2\", \"Topic2\", \"Topic2\", \"Topic2\", \"Topic3\", \"Topic3\", \"Topic3\", \"Topic3\", \"Topic3\", \"Topic3\", \"Topic3\", \"Topic3\", \"Topic3\", \"Topic3\", \"Topic3\", \"Topic3\", \"Topic3\", \"Topic3\", \"Topic3\", \"Topic3\", \"Topic3\", \"Topic3\", \"Topic3\", \"Topic3\", \"Topic3\", \"Topic3\", \"Topic3\", \"Topic3\", \"Topic3\", \"Topic3\", \"Topic3\", \"Topic3\", \"Topic3\", \"Topic3\", \"Topic3\", \"Topic3\", \"Topic3\", \"Topic3\", \"Topic3\", \"Topic3\", \"Topic3\", \"Topic3\", \"Topic3\", \"Topic3\", \"Topic3\", \"Topic3\", \"Topic3\", \"Topic3\", \"Topic3\", \"Topic3\", \"Topic3\", \"Topic3\", \"Topic3\", \"Topic3\", \"Topic3\", \"Topic3\", \"Topic3\", \"Topic3\", \"Topic3\", \"Topic3\", \"Topic3\", \"Topic3\", \"Topic3\", \"Topic3\", \"Topic3\", \"Topic3\", \"Topic3\", \"Topic3\", \"Topic3\", \"Topic3\", \"Topic3\", \"Topic3\", \"Topic3\", \"Topic3\", \"Topic3\", \"Topic3\", \"Topic3\", \"Topic3\", \"Topic3\", \"Topic3\", \"Topic3\", \"Topic3\", \"Topic3\", \"Topic3\", \"Topic3\", \"Topic3\", \"Topic3\", \"Topic3\", \"Topic3\", \"Topic4\", \"Topic4\", \"Topic4\", \"Topic4\", \"Topic4\", \"Topic4\", \"Topic4\", \"Topic4\", \"Topic4\", \"Topic4\", \"Topic4\", \"Topic4\", \"Topic4\", \"Topic4\", \"Topic4\", \"Topic4\", \"Topic4\", \"Topic4\", \"Topic4\", \"Topic4\", \"Topic4\", \"Topic4\", \"Topic4\", \"Topic4\", \"Topic4\", \"Topic4\", \"Topic4\", \"Topic4\", \"Topic4\", \"Topic4\", \"Topic4\", \"Topic4\", \"Topic4\", \"Topic4\", \"Topic4\", \"Topic4\", \"Topic4\", \"Topic4\", \"Topic4\", \"Topic4\", \"Topic4\", \"Topic4\", \"Topic4\", \"Topic4\", \"Topic4\", \"Topic4\", \"Topic4\", \"Topic4\", \"Topic4\", \"Topic4\", \"Topic4\", \"Topic4\", \"Topic4\", \"Topic4\", \"Topic4\", \"Topic4\", \"Topic4\", \"Topic4\", \"Topic4\", \"Topic4\", \"Topic4\", \"Topic4\", \"Topic4\", \"Topic4\", \"Topic4\", \"Topic4\", \"Topic4\", \"Topic4\", \"Topic4\", \"Topic4\", \"Topic4\", \"Topic4\", \"Topic4\", \"Topic4\", \"Topic4\", \"Topic4\", \"Topic4\", \"Topic4\", \"Topic4\", \"Topic4\", \"Topic4\", \"Topic4\", \"Topic4\", \"Topic4\", \"Topic4\", \"Topic4\", \"Topic5\", \"Topic5\", \"Topic5\", \"Topic5\", \"Topic5\", \"Topic5\", \"Topic5\", \"Topic5\", \"Topic5\", \"Topic5\", \"Topic5\", \"Topic5\", \"Topic5\", \"Topic5\", \"Topic5\", \"Topic5\", \"Topic5\", \"Topic5\", \"Topic5\", \"Topic5\", \"Topic5\", \"Topic5\", \"Topic5\", \"Topic5\", \"Topic5\", \"Topic5\", \"Topic5\", \"Topic5\", \"Topic5\", \"Topic5\", \"Topic5\", \"Topic5\", \"Topic5\", \"Topic5\", \"Topic5\", \"Topic5\", \"Topic5\", \"Topic5\", \"Topic5\", \"Topic5\", \"Topic5\", \"Topic5\", \"Topic5\", \"Topic5\", \"Topic5\", \"Topic5\", \"Topic5\", \"Topic5\", \"Topic5\", \"Topic5\", \"Topic5\", \"Topic5\", \"Topic5\", \"Topic5\", \"Topic5\", \"Topic5\", \"Topic5\", \"Topic5\", \"Topic5\", \"Topic5\", \"Topic5\", \"Topic5\", \"Topic5\", \"Topic5\", \"Topic5\", \"Topic5\", \"Topic5\", \"Topic5\", \"Topic5\", \"Topic5\", \"Topic5\", \"Topic5\", \"Topic5\", \"Topic5\", \"Topic5\", \"Topic5\", \"Topic5\", \"Topic5\", \"Topic5\", \"Topic5\", \"Topic5\", \"Topic5\", \"Topic5\", \"Topic5\", \"Topic6\", \"Topic6\", \"Topic6\", \"Topic6\", \"Topic6\", \"Topic6\", \"Topic6\", \"Topic6\", \"Topic6\", \"Topic6\", \"Topic6\", \"Topic6\", \"Topic6\", \"Topic6\", \"Topic6\", \"Topic6\", \"Topic6\", \"Topic6\", \"Topic6\", \"Topic6\", \"Topic6\", \"Topic6\", \"Topic6\", \"Topic6\", \"Topic6\", \"Topic6\", \"Topic6\", \"Topic6\", \"Topic6\", \"Topic6\", \"Topic6\", \"Topic6\", \"Topic6\", \"Topic6\", \"Topic6\", \"Topic6\", \"Topic6\", \"Topic6\", \"Topic6\", \"Topic6\", \"Topic6\", \"Topic6\", \"Topic6\", \"Topic6\", \"Topic6\", \"Topic6\", \"Topic6\", \"Topic6\", \"Topic6\", \"Topic6\", \"Topic6\", \"Topic6\", \"Topic6\", \"Topic6\", \"Topic6\", \"Topic6\", \"Topic6\", \"Topic6\", \"Topic6\", \"Topic6\", \"Topic6\", \"Topic6\", \"Topic6\", \"Topic6\", \"Topic6\", \"Topic6\", \"Topic6\", \"Topic6\", \"Topic6\", \"Topic6\", \"Topic6\", \"Topic6\", \"Topic6\", \"Topic6\", \"Topic6\", \"Topic6\", \"Topic6\", \"Topic6\", \"Topic7\", \"Topic7\", \"Topic7\", \"Topic7\", \"Topic7\", \"Topic7\", \"Topic7\", \"Topic7\", \"Topic7\", \"Topic7\", \"Topic7\", \"Topic7\", \"Topic7\", \"Topic7\", \"Topic7\", \"Topic7\", \"Topic7\", \"Topic7\", \"Topic7\", \"Topic7\", \"Topic7\", \"Topic7\", \"Topic7\", \"Topic7\", \"Topic7\", \"Topic7\", \"Topic7\", \"Topic7\", \"Topic7\", \"Topic7\", \"Topic7\", \"Topic7\", \"Topic7\", \"Topic7\", \"Topic7\", \"Topic7\", \"Topic7\", \"Topic7\", \"Topic7\", \"Topic7\", \"Topic7\", \"Topic7\", \"Topic7\", \"Topic7\", \"Topic7\", \"Topic7\", \"Topic7\", \"Topic7\", \"Topic7\", \"Topic7\", \"Topic7\", \"Topic7\", \"Topic7\", \"Topic7\", \"Topic7\", \"Topic7\", \"Topic7\", \"Topic7\", \"Topic7\", \"Topic7\", \"Topic7\", \"Topic7\", \"Topic7\", \"Topic7\", \"Topic7\", \"Topic7\", \"Topic7\", \"Topic7\", \"Topic7\", \"Topic7\", \"Topic7\", \"Topic7\", \"Topic7\", \"Topic7\", \"Topic7\", \"Topic7\", \"Topic7\", \"Topic7\", \"Topic7\", \"Topic7\", \"Topic7\", \"Topic7\", \"Topic7\", \"Topic7\", \"Topic7\", \"Topic7\", \"Topic7\", \"Topic8\", \"Topic8\", \"Topic8\", \"Topic8\", \"Topic8\", \"Topic8\", \"Topic8\", \"Topic8\", \"Topic8\", \"Topic8\", \"Topic8\", \"Topic8\", \"Topic8\", \"Topic8\", \"Topic8\", \"Topic8\", \"Topic8\", \"Topic8\", \"Topic8\", \"Topic8\", \"Topic8\", \"Topic8\", \"Topic8\", \"Topic8\", \"Topic8\", \"Topic8\", \"Topic8\", \"Topic8\", \"Topic8\", \"Topic8\", \"Topic8\", \"Topic8\", \"Topic8\", \"Topic8\", \"Topic8\", \"Topic8\", \"Topic8\", \"Topic8\", \"Topic8\", \"Topic8\", \"Topic8\", \"Topic8\", \"Topic8\", \"Topic8\", \"Topic8\", \"Topic8\", \"Topic8\", \"Topic8\", \"Topic8\", \"Topic8\", \"Topic8\", \"Topic8\", \"Topic8\", \"Topic8\", \"Topic8\", \"Topic8\", \"Topic8\", \"Topic8\", \"Topic8\", \"Topic8\", \"Topic8\", \"Topic8\", \"Topic8\", \"Topic8\", \"Topic8\", \"Topic8\", \"Topic8\", \"Topic8\", \"Topic8\", \"Topic8\", \"Topic8\", \"Topic8\", \"Topic8\", \"Topic8\", \"Topic9\", \"Topic9\", \"Topic9\", \"Topic9\", \"Topic9\", \"Topic9\", \"Topic9\", \"Topic9\", \"Topic9\", \"Topic9\", \"Topic9\", \"Topic9\", \"Topic9\", \"Topic9\", \"Topic9\", \"Topic9\", \"Topic9\", \"Topic9\", \"Topic9\", \"Topic9\", \"Topic9\", \"Topic9\", \"Topic9\", \"Topic9\", \"Topic9\", \"Topic9\", \"Topic9\", \"Topic9\", \"Topic9\", \"Topic9\", \"Topic9\", \"Topic9\", \"Topic9\", \"Topic9\", \"Topic9\", \"Topic9\", \"Topic9\", \"Topic9\", \"Topic9\", \"Topic9\", \"Topic9\", \"Topic9\", \"Topic9\", \"Topic9\", \"Topic9\", \"Topic9\", \"Topic9\", \"Topic9\", \"Topic9\", \"Topic9\", \"Topic9\", \"Topic9\", \"Topic9\", \"Topic9\", \"Topic9\", \"Topic9\", \"Topic9\", \"Topic9\", \"Topic9\", \"Topic9\", \"Topic9\", \"Topic9\", \"Topic9\", \"Topic9\", \"Topic9\", \"Topic9\", \"Topic9\", \"Topic9\", \"Topic9\", \"Topic9\", \"Topic9\", \"Topic9\", \"Topic9\", \"Topic9\", \"Topic10\", \"Topic10\", \"Topic10\", \"Topic10\", \"Topic10\", \"Topic10\", \"Topic10\", \"Topic10\", \"Topic10\", \"Topic10\", \"Topic10\", \"Topic10\", \"Topic10\", \"Topic10\", \"Topic10\", \"Topic10\", \"Topic10\", \"Topic10\", \"Topic10\", \"Topic10\", \"Topic10\", \"Topic10\", \"Topic10\", \"Topic10\", \"Topic10\", \"Topic10\", \"Topic10\", \"Topic10\", \"Topic10\", \"Topic10\", \"Topic10\", \"Topic10\", \"Topic10\", \"Topic10\", \"Topic10\", \"Topic10\", \"Topic10\", \"Topic10\", \"Topic10\", \"Topic10\", \"Topic10\", \"Topic10\", \"Topic10\", \"Topic10\", \"Topic10\", \"Topic10\", \"Topic10\", \"Topic10\", \"Topic10\", \"Topic10\", \"Topic10\", \"Topic10\", \"Topic10\", \"Topic10\", \"Topic10\", \"Topic10\", \"Topic10\", \"Topic10\", \"Topic10\", \"Topic10\", \"Topic10\", \"Topic10\", \"Topic10\", \"Topic10\", \"Topic10\", \"Topic10\", \"Topic10\", \"Topic10\", \"Topic10\", \"Topic10\", \"Topic10\", \"Topic10\", \"Topic10\", \"Topic10\", \"Topic10\"], \"logprob\": [30.0, 29.0, 28.0, 27.0, 26.0, 25.0, 24.0, 23.0, 22.0, 21.0, 20.0, 19.0, 18.0, 17.0, 16.0, 15.0, 14.0, 13.0, 12.0, 11.0, 10.0, 9.0, 8.0, 7.0, 6.0, 5.0, 4.0, 3.0, 2.0, 1.0, -10.1644, -10.2697, -10.2572, -9.9965, -10.3125, -9.4913, -10.3241, -8.8855, -10.1072, -10.81, -10.8102, -10.8103, -10.8103, -10.8103, -10.8103, -10.8104, -10.8104, -10.8105, -10.8106, -10.8107, -10.8107, -10.8107, -10.8107, -10.8107, -10.8109, -10.8109, -10.8109, -10.811, -10.811, -10.811, -9.9174, -8.9946, -8.7453, -9.8499, -10.4608, -10.4695, -8.8998, -9.9007, -7.9462, -4.9965, -4.7221, -9.0782, -5.1932, -5.6615, -6.061, -4.0812, -5.2946, -8.3618, -4.493, -10.0066, -4.2221, -5.7102, -4.4812, -4.9564, -7.4663, -3.9491, -4.3108, -5.1447, -6.0212, -5.061, -6.27, -6.0119, -4.6177, -5.5557, -4.1338, -4.9883, -5.495, -5.639, -4.641, -5.4023, -5.4393, -5.6437, -5.4887, -4.8345, -5.4907, -5.714, -5.2179, -5.492, -5.4064, -5.3999, -5.612, -9.7296, -9.8562, -10.1192, -8.8829, -10.2393, -10.2021, -10.248, -9.7702, -9.2266, -10.7651, -10.7652, -10.7655, -10.7659, -10.7675, -10.0367, -10.4312, -10.8156, -9.9729, -9.7527, -10.1576, -9.5493, -10.8723, -10.8437, -10.8815, -10.8795, -10.8504, -10.4723, -10.8742, -10.8773, -10.5007, -9.3676, -9.8004, -7.8576, -9.381, -6.6152, -10.4466, -4.3812, -9.5049, -6.9257, -5.748, -3.917, -4.2802, -5.4259, -4.3569, -8.0508, -4.3665, -8.3174, -8.6374, -4.1293, -4.1527, -6.5702, -5.7255, -3.8517, -6.9923, -3.9512, -4.782, -6.0094, -5.4749, -6.8866, -5.8166, -7.2667, -5.0931, -4.7586, -5.1922, -5.6218, -4.7084, -5.6404, -5.5597, -5.6166, -5.4797, -5.1746, -5.2797, -5.309, -5.6566, -5.6794, -5.7138, -5.6819, -5.6424, -5.6943, -9.7393, -9.9827, -9.5267, -10.0571, -10.0758, -10.1065, -10.129, -9.8082, -9.4384, -8.8713, -10.1842, -9.4949, -9.9195, -9.4794, -10.6272, -10.6273, -10.6274, -10.6275, -10.6276, -10.6278, -10.6278, -10.6279, -10.628, -10.628, -10.628, -10.6281, -10.628, -10.6282, -10.6282, -10.6283, -9.7093, -9.9397, -9.3052, -9.9829, -10.2393, -9.7814, -10.2569, -9.989, -6.0424, -10.0047, -10.2632, -8.9742, -3.6439, -6.7468, -10.0289, -9.8584, -4.3209, -4.7169, -4.3161, -3.787, -5.8673, -5.1016, -6.0668, -4.2224, -5.3836, -4.7983, -5.2919, -5.298, -5.5375, -4.6202, -5.0651, -5.8267, -6.0984, -5.3593, -5.0682, -6.1816, -5.5086, -5.0421, -6.3482, -5.6367, -4.6996, -5.888, -5.6321, -5.5734, -5.4213, -4.5833, -4.5512, -5.4526, -5.3794, -5.5835, -5.1513, -5.5958, -5.4428, -5.5873, -5.5076, -8.9168, -9.4447, -9.9839, -9.9869, -8.8756, -9.7747, -9.5397, -9.2166, -9.0841, -10.1173, -9.8877, -10.201, -10.6296, -10.6296, -10.6297, -10.6297, -10.6298, -10.6299, -10.6299, -10.6299, -10.6299, -10.63, -10.63, -10.6302, -10.6303, -10.6303, -10.6303, -10.6304, -10.6304, -10.6304, -9.9324, -10.0211, -8.9469, -10.2245, -8.3085, -10.2918, -9.1757, -10.2616, -10.3413, -6.938, -9.7766, -8.3765, -8.8782, -7.0943, -7.022, -7.1006, -3.9952, -7.2101, -6.6593, -8.3962, -5.919, -5.4483, -7.2313, -4.1535, -5.8396, -4.0736, -5.4664, -4.9164, -6.171, -4.624, -4.115, -5.0422, -5.5425, -4.7258, -4.5349, -5.1833, -5.5485, -4.7733, -5.8492, -5.9968, -5.6319, -5.2713, -5.1097, -5.5303, -4.9473, -4.9625, -5.8035, -5.2332, -5.2845, -5.7246, -5.5247, -5.6258, -5.6374, -5.6916, -5.7372, -5.6938, -9.1499, -10.1218, -10.1221, -10.1223, -9.8474, -10.1755, -9.5586, -9.5336, -9.5516, -10.3019, -9.5717, -10.3569, -9.0996, -10.4, -10.7671, -10.7673, -10.7675, -10.7676, -10.7677, -10.7677, -10.7677, -10.7678, -10.768, -10.768, -10.768, -10.768, -10.7681, -10.7682, -10.7682, -10.7682, -8.5312, -10.0627, -10.1208, -10.0878, -9.1047, -9.5628, -9.4567, -8.8875, -9.5597, -8.5987, -9.5912, -9.79, -9.9468, -4.6327, -8.8764, -9.5337, -4.9507, -3.7638, -6.2888, -5.8347, -5.1768, -4.479, -5.4247, -5.2717, -5.4911, -4.2523, -4.2416, -4.4639, -5.2099, -6.016, -4.8129, -5.5425, -4.5632, -5.6919, -5.6829, -4.9635, -5.5762, -6.3926, -5.0359, -5.4985, -5.6659, -5.524, -6.0118, -4.2112, -4.4751, -5.1945, -5.4439, -4.8153, -4.8658, -5.1816, -5.3875, -5.3307, -5.3011, -5.5122, -9.585, -9.7606, -10.2317, -10.2318, -10.2319, -10.232, -10.2321, -10.2322, -10.2324, -10.2325, -10.2326, -10.2328, -10.2329, -10.2477, -10.2853, -10.2801, -10.2814, -10.3003, -10.3178, -9.2268, -10.348, -10.4029, -10.3494, -10.3986, -10.3726, -9.4957, -10.473, -10.5073, -10.5346, -10.1011, -8.8724, -6.6912, -8.0575, -8.8881, -8.4047, -9.0834, -5.6342, -5.5913, -8.7382, -3.7287, -4.33, -6.1071, -4.862, -4.1011, -5.3591, -4.6225, -4.5843, -4.3936, -5.9266, -5.5255, -5.7813, -5.6058, -7.0442, -6.923, -7.4338, -8.9377, -5.5365, -4.7717, -5.1575, -4.6172, -5.8651, -5.4817, -5.1051, -5.7659, -4.9304, -6.3134, -5.3111, -5.6872, -5.2157, -5.7148, -4.5689, -5.6291, -5.3467, -5.3916, -5.7106, -5.7116, -5.7287, -5.7277, -9.2138, -9.2148, -8.2477, -9.883, -9.8831, -9.8831, -9.8831, -9.6309, -9.519, -10.0907, -10.0993, -10.0549, -10.0628, -10.5289, -10.529, -10.5291, -10.5291, -10.5291, -10.5291, -10.5292, -10.5292, -10.5292, -10.5293, -10.5293, -10.5294, -10.5294, -10.5295, -10.5295, -10.5295, -10.5295, -9.1486, -10.1214, -7.6904, -9.4844, -8.9725, -9.1141, -9.0072, -8.7789, -9.509, -9.3682, -9.0369, -9.6837, -7.3101, -8.3558, -5.9113, -8.9896, -9.8827, -8.9335, -3.6419, -5.6741, -4.416, -5.1342, -4.2836, -4.5597, -5.7353, -4.2442, -4.0897, -5.779, -5.8499, -5.8065, -4.6688, -4.9989, -4.4752, -5.4611, -6.657, -5.472, -5.7776, -5.6896, -5.4285, -4.7656, -6.1001, -5.4108, -5.5727, -5.108, -5.6287, -5.9815, -5.7551, -5.2653, -5.018, -5.5535, -5.3371, -5.5436, -5.4054, -5.5124, -5.5386, -5.5596, -5.6869, -9.6805, -9.8094, -10.3264, -10.3266, -10.3266, -10.3266, -10.327, -10.327, -10.327, -10.3271, -10.3274, -10.3908, -10.4025, -10.4195, -10.435, -10.4374, -10.4314, -10.4361, -10.4424, -10.4427, -9.7872, -10.4587, -10.4981, -10.485, -10.5026, -9.6844, -10.5843, -10.6094, -10.6131, -10.6169, -10.2593, -7.562, -9.3498, -6.6245, -8.4879, -5.2277, -3.5711, -4.1004, -6.4306, -4.443, -5.3303, -6.765, -4.5617, -5.9494, -4.0595, -4.811, -4.3754, -5.5086, -5.4384, -4.6064, -6.256, -6.2679, -5.1191, -5.8936, -5.0518, -5.4256, -4.48, -5.0841, -5.812, -5.1661, -5.649, -4.8176, -4.8745, -5.6392, -5.7959, -5.329, -5.7963, -5.484, -5.4091, -5.6364, -5.6499, -5.7508, -5.7508, -5.7634, -9.6448, -9.6858, -10.2898, -10.2899, -10.29, -10.2901, -10.2902, -10.2905, -10.2906, -10.2907, -10.2907, -10.2907, -10.2908, -10.2908, -10.2909, -10.2909, -10.2912, -10.2912, -10.2914, -10.2919, -10.3143, -10.3279, -10.337, -10.4084, -9.9451, -9.96, -10.3943, -10.4027, -10.4478, -10.4359, -8.6871, -9.7594, -9.6412, -9.4257, -8.0583, -4.5248, -5.1262, -3.9535, -4.4593, -5.6078, -6.2954, -4.2611, -3.9826, -5.4617, -4.799, -4.5347, -5.5069, -5.4592, -5.8166, -8.8708, -4.7244, -7.0105, -4.4941, -5.973, -5.6117, -5.9074, -5.2284, -6.8612, -5.5217, -5.6224, -5.9305, -4.8169, -5.1613, -4.559, -5.4372, -5.513, -5.4699, -5.6023, -5.4608, -4.9526, -5.3533, -5.3734, -5.3037, -5.3213, -9.699, -9.4535, -8.8993, -9.7657, -8.0528, -9.8539, -9.897, -10.2982, -10.2982, -10.2983, -10.2983, -10.2984, -10.2984, -10.2986, -10.2986, -10.2986, -10.2987, -10.2987, -10.2987, -10.2988, -10.2988, -10.2989, -10.2989, -10.2989, -10.299, -10.299, -10.2993, -10.2993, -10.2993, -10.2993, -9.6537, -8.8388, -8.0594, -4.8847, -5.3196, -5.6111, -9.9531, -3.7844, -4.8961, -4.3709, -7.7186, -4.4372, -5.7287, -5.2601, -9.3214, -4.2095, -5.3012, -4.1064, -9.1204, -4.3794, -6.2869, -7.2097, -4.6907, -6.3093, -5.3732, -5.6777, -4.9627, -4.7684, -5.9176, -5.6653, -5.0688, -4.6165, -5.8643, -5.5071, -5.5446, -5.7059, -5.2924, -4.9701, -5.5976, -5.453, -5.3995, -5.4719, -5.5505, -5.6128, -5.6584], \"loglift\": [30.0, 29.0, 28.0, 27.0, 26.0, 25.0, 24.0, 23.0, 22.0, 21.0, 20.0, 19.0, 18.0, 17.0, 16.0, 15.0, 14.0, 13.0, 12.0, 11.0, 10.0, 9.0, 8.0, 7.0, 6.0, 5.0, 4.0, 3.0, 2.0, 1.0, 1.5823, 1.5214, 1.4986, 1.4865, 1.4476, 1.4351, 1.414, 1.3888, 1.381, 1.3713, 1.3712, 1.3712, 1.3712, 1.3712, 1.3712, 1.3711, 1.3711, 1.3711, 1.3711, 1.371, 1.371, 1.371, 1.371, 1.371, 1.3709, 1.3709, 1.3709, 1.3709, 1.3709, 1.3709, 1.3116, 1.2048, 1.1696, 1.2581, 1.3298, 1.3253, 1.1057, 1.2406, 0.9482, 0.4703, 0.3923, 1.088, 0.363, 0.4416, 0.497, 0.118, 0.3381, 0.9164, 0.178, 1.2184, 0.0983, 0.3977, 0.1045, 0.1734, 0.7099, -0.0802, -0.0171, 0.177, 0.3792, 0.1422, 0.4353, 0.3644, -0.0001, 0.2378, -0.1512, 0.0808, 0.2072, 0.2389, -0.0797, 0.1513, 0.1521, 0.1997, 0.1338, -0.1773, 0.0843, 0.1982, -0.1683, -0.0353, -0.1788, -0.4375, -0.1106, 1.7081, 1.6286, 1.6216, 1.6203, 1.5391, 1.5355, 1.5227, 1.4785, 1.4448, 1.4118, 1.4118, 1.4117, 1.4115, 1.4109, 1.3878, 1.3601, 1.36, 1.3497, 1.3466, 1.3445, 1.3402, 1.3318, 1.3311, 1.3282, 1.3271, 1.3241, 1.323, 1.3229, 1.3213, 1.3106, 1.2924, 1.2609, 1.0833, 1.2056, 0.9585, 1.2908, 0.6878, 1.1951, 0.9, 0.7198, 0.2823, 0.3374, 0.5038, 0.3003, 0.9225, 0.2192, 0.9712, 1.03, 0.1643, 0.1678, 0.6275, 0.454, 0.0171, 0.6992, 0.0314, 0.1804, 0.4555, 0.2215, 0.5983, 0.2914, 0.6815, 0.0214, -0.0876, 0.0354, 0.1686, -0.1471, 0.1123, 0.0629, 0.0855, 0.0217, -0.1249, -0.0765, -0.1792, 0.0341, 0.011, -0.0031, -0.1257, -0.3207, -0.2377, 1.7064, 1.7051, 1.6518, 1.6411, 1.6336, 1.6111, 1.6026, 1.6017, 1.5816, 1.5486, 1.5308, 1.5268, 1.5254, 1.5147, 1.5085, 1.5085, 1.5084, 1.5084, 1.5083, 1.5082, 1.5082, 1.5082, 1.5082, 1.5082, 1.5082, 1.5082, 1.5081, 1.5081, 1.5081, 1.5081, 1.503, 1.4937, 1.4623, 1.474, 1.4872, 1.4526, 1.4801, 1.4342, 0.9316, 1.4257, 1.4597, 1.2561, 0.3387, 0.8581, 1.4109, 1.3797, 0.3363, 0.3328, 0.2452, 0.0819, 0.5337, 0.3551, 0.554, 0.098, 0.3291, 0.1641, 0.2832, 0.2582, 0.3183, 0.0508, 0.1625, 0.3873, 0.4596, 0.2321, 0.135, 0.4761, 0.2578, 0.0877, 0.5201, 0.2593, -0.082, 0.3432, 0.2471, 0.2201, 0.1323, -0.2896, -0.3519, 0.0488, -0.0577, 0.1072, -0.5655, 0.1149, -0.3283, 0.0454, -0.4386, 2.0362, 1.8358, 1.8323, 1.8298, 1.8193, 1.7761, 1.7746, 1.7641, 1.7319, 1.6885, 1.6793, 1.6463, 1.6051, 1.6051, 1.6051, 1.605, 1.605, 1.605, 1.605, 1.605, 1.605, 1.6049, 1.6049, 1.6048, 1.6048, 1.6048, 1.6048, 1.6048, 1.6048, 1.6048, 1.6017, 1.5939, 1.5718, 1.5938, 1.5206, 1.5899, 1.4739, 1.5716, 1.5786, 1.1527, 1.4983, 1.2357, 1.3147, 0.9961, 0.924, 0.9331, 0.2985, 0.9339, 0.8088, 1.1652, 0.5771, 0.4296, 0.8743, 0.0458, 0.4936, -0.091, 0.3, 0.1333, 0.4679, -0.0627, -0.2462, 0.0722, 0.2101, -0.1082, -0.2145, 0.02, 0.1536, -0.1876, 0.275, 0.335, 0.1584, -0.0437, -0.1473, 0.0612, -0.2902, -0.2916, 0.1878, -0.1642, -0.1547, 0.1188, -0.0681, -0.0722, -0.136, -0.0589, -0.0467, -0.227, 1.9282, 1.792, 1.7919, 1.7918, 1.7634, 1.7362, 1.6787, 1.6611, 1.6531, 1.6123, 1.5987, 1.571, 1.5625, 1.5506, 1.5407, 1.5406, 1.5405, 1.5405, 1.5404, 1.5404, 1.5404, 1.5404, 1.5403, 1.5403, 1.5403, 1.5403, 1.5402, 1.5402, 1.5402, 1.5402, 1.519, 1.5299, 1.5141, 1.5041, 1.4332, 1.4536, 1.4438, 1.3902, 1.4369, 1.3466, 1.4311, 1.4119, 1.4291, 0.689, 1.2431, 1.3477, 0.5162, 0.2188, 0.6852, 0.5661, 0.3982, 0.192, 0.4006, 0.3509, 0.405, 0.0681, 0.0521, 0.0974, 0.2916, 0.5005, 0.1495, 0.3367, 0.0225, 0.3746, 0.368, 0.0862, 0.2796, 0.5463, 0.0331, 0.1919, 0.2437, 0.1867, 0.362, -0.3424, -0.2758, 0.0088, 0.1123, -0.1977, -0.2087, -0.0517, 0.0691, -0.1032, -0.1867, 0.0792, 2.1111, 2.0133, 1.911, 1.9109, 1.9108, 1.9108, 1.9108, 1.9108, 1.9107, 1.9106, 1.9106, 1.9105, 1.9105, 1.8982, 1.869, 1.8645, 1.8636, 1.8451, 1.8291, 1.8028, 1.8002, 1.8, 1.7985, 1.7863, 1.7766, 1.7559, 1.7296, 1.68, 1.665, 1.6557, 1.6235, 1.4653, 1.5197, 1.5724, 1.3961, 1.5176, 0.699, 0.6524, 1.4122, 0.1402, 0.2557, 0.7235, 0.3656, 0.0982, 0.4553, 0.0485, -0.023, -0.0999, 0.4185, 0.2679, 0.3187, 0.2376, 0.7662, 0.7088, 0.8924, 1.4331, 0.1542, -0.1541, -0.043, -0.2968, 0.238, 0.0718, -0.1427, 0.1463, -0.2732, 0.4025, -0.1079, 0.0792, -0.166, 0.0756, -0.5863, 0.0036, -0.2776, -0.2618, -0.0084, -0.089, -0.0382, -0.1714, 2.2757, 2.2746, 2.1432, 2.0947, 2.0947, 2.0947, 2.0947, 1.948, 1.944, 1.9399, 1.9338, 1.8913, 1.8725, 1.8263, 1.8262, 1.8262, 1.8262, 1.8262, 1.8262, 1.8261, 1.8261, 1.8261, 1.8261, 1.8261, 1.826, 1.826, 1.826, 1.826, 1.826, 1.826, 1.7913, 1.8135, 1.6763, 1.7674, 1.7225, 1.7267, 1.7098, 1.6764, 1.7332, 1.6972, 1.6383, 1.7027, 1.3362, 1.4517, 0.9713, 1.5367, 1.7014, 1.4827, 0.227, 0.6729, 0.1453, 0.3224, 0.0368, 0.0975, 0.4787, -0.0449, -0.1071, 0.4618, 0.4731, 0.4247, -0.0512, 0.0508, -0.1816, 0.2296, 0.7285, 0.2185, 0.3213, 0.2807, 0.1465, -0.1799, 0.396, 0.056, 0.1294, -0.1456, 0.1377, 0.3359, 0.1867, -0.1508, -0.347, 0.0379, -0.1338, 0.01, -0.2755, -0.1906, -0.3111, -0.4906, 0.0657, 2.2786, 2.1208, 2.0152, 2.0151, 2.0151, 2.0151, 2.0149, 2.0149, 2.0149, 2.0148, 2.0147, 1.9564, 1.9457, 1.9301, 1.8945, 1.893, 1.8928, 1.8858, 1.8808, 1.8787, 1.8689, 1.8579, 1.8284, 1.8281, 1.822, 1.8158, 1.725, 1.6967, 1.6923, 1.6902, 1.6622, 1.4113, 1.5802, 1.2227, 1.4129, 0.6845, 0.2978, 0.0989, 0.7258, 0.1183, 0.3823, 0.7998, 0.1093, 0.5441, -0.0769, 0.1515, -0.055, 0.3058, 0.2723, -0.0207, 0.5466, 0.5437, 0.1084, 0.3894, 0.078, 0.1969, -0.1863, 0.0304, 0.3121, 0.0371, 0.2283, -0.1604, -0.2569, 0.1272, 0.1459, -0.2793, 0.1334, -0.1623, -0.34, -0.0828, -0.1485, 0.0427, -0.0543, -0.0729, 2.4274, 2.3686, 2.1331, 2.133, 2.1329, 2.1329, 2.1328, 2.1327, 2.1326, 2.1326, 2.1326, 2.1326, 2.1325, 2.1325, 2.1324, 2.1324, 2.1323, 2.1323, 2.1322, 2.1319, 2.1004, 2.0836, 2.0719, 2.0312, 2.0307, 2.0192, 2.0073, 1.9968, 1.9586, 1.9567, 1.9204, 1.9137, 1.9002, 1.8614, 1.6246, 0.6051, 0.4274, 0.0291, 0.1582, 0.5164, 0.7528, 0.0326, -0.1138, 0.4162, 0.1635, 0.051, 0.4054, 0.3661, 0.4732, 1.5966, -0.0672, 0.8556, -0.1737, 0.4274, 0.2656, 0.3863, 0.0934, 0.7557, 0.1909, 0.2334, 0.3536, -0.1459, -0.0468, -0.3597, 0.0297, 0.062, 0.0315, 0.0884, -0.0042, -0.3913, -0.15, -0.1459, -0.2347, -0.2716, 2.5495, 2.5261, 2.5205, 2.44, 2.3849, 2.3453, 2.3094, 2.2688, 2.2687, 2.2687, 2.2687, 2.2687, 2.2686, 2.2685, 2.2685, 2.2685, 2.2684, 2.2684, 2.2684, 2.2684, 2.2684, 2.2683, 2.2683, 2.2683, 2.2682, 2.2682, 2.2681, 2.2681, 2.268, 2.268, 2.1616, 1.8854, 1.5994, 0.6167, 0.6643, 0.7119, 2.1575, 0.0844, 0.4256, 0.2148, 1.3745, 0.1804, 0.6374, 0.4525, 1.9236, -0.0103, 0.4095, -0.1238, 1.8232, -0.0857, 0.6725, 1.0124, -0.0197, 0.634, 0.2182, 0.327, -0.0003, -0.1112, 0.4294, 0.305, -0.0192, -0.2961, 0.3497, 0.0679, 0.078, 0.1499, -0.1626, -0.4088, 0.0351, -0.2254, -0.3305, -0.3574, -0.3473, -0.146, -0.2017]}, \"token.table\": {\"Topic\": [5, 6, 8, 1, 2, 3, 4, 5, 6, 7, 8, 9, 10, 8, 3, 9, 10, 1, 9, 1, 1, 2, 3, 4, 5, 6, 7, 8, 9, 10, 3, 5, 6, 3, 9, 1, 2, 3, 4, 5, 6, 7, 8, 9, 10, 1, 2, 6, 8, 9, 1, 2, 3, 4, 5, 6, 7, 8, 9, 10, 1, 2, 3, 4, 1, 2, 3, 4, 5, 6, 1, 1, 2, 3, 4, 5, 7, 8, 9, 9, 10, 1, 5, 9, 6, 1, 2, 3, 4, 6, 7, 8, 1, 2, 3, 4, 5, 6, 7, 8, 9, 10, 1, 2, 3, 4, 5, 6, 7, 8, 10, 10, 5, 7, 9, 1, 2, 4, 5, 7, 1, 2, 3, 4, 5, 6, 7, 8, 9, 10, 1, 2, 3, 4, 5, 6, 7, 8, 9, 10, 2, 5, 1, 2, 3, 4, 5, 6, 7, 8, 9, 10, 7, 4, 4, 6, 1, 2, 3, 4, 5, 6, 7, 8, 9, 10, 2, 5, 4, 10, 1, 2, 3, 4, 5, 6, 7, 8, 9, 10, 3, 1, 6, 5, 1, 3, 7, 4, 2, 5, 1, 2, 3, 4, 5, 6, 7, 8, 9, 10, 8, 10, 4, 1, 2, 3, 4, 5, 6, 7, 8, 9, 10, 4, 1, 2, 7, 2, 3, 4, 7, 1, 2, 3, 4, 5, 6, 7, 8, 9, 10, 7, 6, 7, 8, 9, 8, 9, 8, 3, 1, 2, 3, 4, 5, 6, 7, 8, 9, 10, 1, 2, 3, 4, 5, 6, 7, 8, 9, 10, 3, 10, 1, 2, 3, 4, 5, 6, 7, 8, 9, 10, 7, 1, 2, 3, 4, 5, 6, 7, 8, 9, 10, 1, 10, 2, 3, 4, 5, 8, 6, 1, 2, 3, 4, 5, 6, 7, 8, 9, 10, 10, 4, 5, 3, 4, 5, 6, 8, 9, 1, 2, 3, 4, 5, 6, 7, 8, 9, 10, 8, 1, 5, 6, 9, 1, 2, 3, 4, 5, 6, 7, 8, 9, 10, 9, 3, 2, 5, 7, 8, 8, 1, 2, 3, 4, 5, 6, 7, 8, 9, 10, 8, 4, 10, 3, 1, 4, 7, 1, 2, 3, 4, 5, 6, 7, 8, 9, 10, 1, 4, 10, 2, 2, 3, 7, 4, 1, 2, 3, 4, 5, 6, 7, 8, 9, 10, 1, 2, 3, 4, 5, 6, 7, 8, 9, 10, 8, 1, 2, 3, 4, 5, 6, 7, 8, 9, 1, 2, 3, 4, 5, 6, 7, 8, 9, 10, 10, 5, 2, 6, 9, 1, 2, 3, 4, 5, 6, 7, 8, 9, 10, 1, 2, 3, 4, 5, 6, 7, 8, 9, 10, 1, 2, 3, 4, 5, 6, 7, 8, 9, 10, 1, 2, 3, 4, 5, 6, 7, 8, 9, 10, 6, 6, 1, 2, 3, 5, 6, 7, 8, 10, 1, 5, 7, 2, 1, 2, 3, 5, 6, 7, 8, 9, 10, 1, 2, 3, 4, 5, 6, 7, 8, 9, 10, 5, 9, 4, 9, 3, 1, 2, 3, 4, 5, 6, 7, 8, 9, 10, 9, 9, 7, 1, 2, 3, 4, 5, 6, 7, 8, 9, 10, 7, 1, 2, 3, 4, 5, 6, 7, 8, 4, 1, 2, 3, 4, 5, 6, 7, 8, 9, 7, 2, 3, 5, 6, 7, 1, 1, 3, 2, 3, 5, 6, 7, 7, 6, 10, 8, 10, 4, 8, 3, 8, 5, 10, 1, 10, 6, 7, 1, 2, 3, 4, 5, 6, 7, 8, 9, 10, 3, 8, 1, 2, 3, 4, 5, 6, 7, 8, 9, 10, 1, 2, 3, 4, 5, 6, 7, 8, 9, 10, 1, 2, 5, 5, 3, 1, 2, 3, 4, 5, 6, 7, 8, 9, 10, 7, 5, 10, 4, 4, 3, 5, 6, 10, 8, 10, 1, 2, 3, 4, 6, 7, 9, 6, 5, 6, 6, 4, 6, 1, 2, 3, 4, 5, 6, 7, 8, 9, 10, 4, 3, 5, 1, 2, 3, 4, 5, 6, 7, 8, 9, 10, 1, 10, 1, 2, 3, 4, 5, 6, 7, 8, 9, 10, 9, 1, 2, 7, 1, 3, 5, 3, 1, 2, 3, 4, 5, 6, 7, 8, 9, 10, 2, 5, 1, 9, 1, 2, 3, 4, 5, 8, 2, 1, 2, 3, 4, 5, 6, 7, 8, 9, 10, 1, 2, 3, 4, 5, 6, 7, 8, 9, 10, 2, 4, 5, 8, 9, 1, 2, 3, 4, 5, 6, 7, 8, 9, 10, 1, 2, 3, 4, 5, 6, 7, 8, 9, 10, 6, 1, 5, 10, 1, 2, 3, 4, 5, 6, 7, 8, 9, 10, 1, 2, 3, 4, 5, 6, 7, 8, 9, 10, 5, 2, 1, 9, 4, 1, 1, 1, 2, 3, 4, 5, 6, 7, 8, 9, 10, 7, 2, 1, 4, 7, 9, 2, 5, 1, 5, 7, 9, 1, 2, 4, 5, 6, 7, 8, 1, 2, 3, 4, 5, 6, 7, 8, 9, 10, 5, 9, 6, 6, 2, 2, 1, 2, 3, 4, 5, 6, 7, 8, 9, 10, 2, 3, 1, 1, 6, 1, 3, 5, 6, 7, 8, 7, 6, 3, 7, 1, 2, 3, 4, 5, 6, 7, 8, 9, 10, 8, 1, 3, 4, 5, 7, 9, 1, 2, 3, 4, 5, 6, 7, 8, 9, 10, 4, 5, 1, 2, 4, 5, 6, 8, 9, 1, 2, 3, 4, 5, 6, 7, 8, 9, 10, 8, 6, 1, 2, 3, 4, 5, 6, 7, 8, 9, 10, 3, 6, 7, 4, 8, 1, 2, 3, 4, 5, 6, 7, 8, 9, 10, 3, 4, 6, 9, 4, 9, 10, 1, 2, 3, 4, 5, 6, 7, 8, 9, 10, 9, 9, 1, 2, 3, 4, 5, 6, 7, 8, 9, 10, 1, 9, 1, 2, 3, 4, 6, 8, 9, 1, 2, 3, 4, 5, 6, 7, 8, 9, 10, 6, 1, 2, 3, 4, 5, 5, 1, 3, 7, 10, 1, 2, 3, 4, 5, 6, 7, 8, 9, 10, 6, 1, 3, 7, 9, 10, 8, 1, 2, 3, 4, 5, 6, 7, 8, 9, 10, 1, 4, 5, 6, 8, 1, 2, 3, 4, 5, 6, 7, 8, 9, 10, 1, 4, 5, 6, 8, 7, 1, 4, 5, 4, 1, 2, 7, 10, 7, 1, 2, 3, 4, 5, 6, 7, 8, 9, 10, 5, 2, 3, 5, 3, 1, 2, 3, 4, 5, 6, 7, 8, 9, 10, 8, 1, 2, 3, 4, 5, 6, 7, 8, 9, 10, 1, 2, 3, 4, 5, 6, 7, 8, 9, 10, 3, 2, 3, 5, 6, 7, 4, 9, 3, 8, 5, 8, 1, 1, 7, 10, 9, 1, 1, 2, 3, 4, 5, 6, 7, 8, 9, 10, 10, 1, 2, 3, 5, 1, 2, 3, 4, 5, 6, 7, 8, 9, 10, 1, 2, 3, 4, 5, 6, 7, 8, 9, 10, 5, 1, 2, 3, 4, 5, 6, 7, 8, 9, 10, 4, 1, 2, 3, 4, 5, 6, 7, 8, 9, 10, 1, 2, 3, 4, 5, 6, 7, 8, 9, 10, 3, 5, 7, 8, 9, 10, 3, 4, 4, 1, 4, 1, 2, 7, 8, 1, 2, 3, 4, 5, 6, 7, 8, 9, 10, 4, 5, 9, 10, 3, 1, 2, 3, 4, 5, 6, 7, 8, 9, 10, 1, 2, 3, 4, 5, 6, 7, 8, 9, 10, 1, 2, 3, 4, 5, 6, 7, 8, 9, 10, 3, 1, 2, 3, 4, 5, 6, 7, 8, 9, 10, 2, 1, 2, 3, 4, 5, 6, 7, 8, 9, 10, 5, 10, 4, 1, 2, 3, 4, 5, 6, 7, 8, 9, 10, 2, 1, 2, 3, 4, 5, 6, 7, 8, 9, 10, 1, 1, 3, 1, 2, 3, 4, 5, 6, 8, 9, 1, 2, 3, 4, 5, 6, 7, 8, 9, 10, 3, 7, 1, 2, 3, 4, 5, 6, 7, 8, 9, 10, 1, 10, 10, 5, 6, 1, 2, 3, 4, 5, 6, 7, 8, 9, 10, 1, 2, 3, 4, 5, 6, 7, 8, 10, 8, 6, 4, 2, 3, 1, 2, 3, 4, 5, 6, 7, 8, 9, 10, 1, 3, 2, 1, 2, 3, 4, 5, 6, 7, 8, 9, 10, 1, 3, 6, 7, 8, 2, 2, 7, 10, 1, 2, 3, 4, 5, 6, 8, 10, 7, 1, 2, 3, 4, 5, 6, 7, 8, 9, 10, 7, 1, 2, 3, 4, 5, 6, 7, 8, 9, 10, 1, 2, 3, 4, 5, 6, 7, 8, 9, 1, 2, 3, 4, 5, 6, 7, 8, 9, 10, 1, 2, 3, 4, 5, 6, 7, 8, 9, 10, 1, 2, 3, 4, 5, 6, 7, 8, 9, 10, 1, 2, 3, 4, 5, 6, 7, 8, 9, 10, 3, 2, 6, 2, 1, 2, 3, 4, 5, 6, 7, 8, 9, 10, 1, 2, 3, 4, 5, 6, 7, 8, 9, 10, 1, 2, 7, 1, 3, 5, 6, 8, 9, 1, 10, 1, 2, 3, 5, 6, 7, 1, 2, 3, 4, 5, 6, 7, 8, 9, 10, 1, 2, 3, 4, 5, 6, 7, 8, 9, 10, 3, 2, 3, 5, 6, 7, 8, 3, 10, 3, 1, 1, 2, 3, 4, 5, 6, 7, 8, 9, 10, 3, 1, 2, 3, 4, 5, 6, 7, 8, 9, 10, 9, 9, 1, 2, 3, 4, 5, 6, 7, 8, 9, 10, 1, 2, 3, 4, 5, 6, 7, 8, 9, 10, 4, 1, 3, 5, 6, 3, 1, 2, 3, 4, 5, 6, 7, 8, 9, 10, 1, 5, 7, 8, 9, 6, 1, 2, 3, 4, 5, 6, 7, 8, 9, 10, 3, 1, 1, 2, 3, 4, 5, 6, 7, 8, 9, 10, 1, 2, 3, 4, 5, 6, 7, 8, 9, 10, 1, 2, 3, 4, 5, 6, 7, 8, 9, 10, 1, 2, 3, 4, 5, 6, 7, 8, 9, 10, 1, 2, 3, 4, 5, 6, 7, 8, 9, 10, 1, 3, 4, 5, 1, 2, 3, 4, 5, 6, 7, 8, 9, 10, 7, 3, 5, 4, 6, 1, 2, 3, 4, 5, 6, 7, 8, 9, 10, 1, 2, 3, 4, 7, 10, 1, 2, 3, 4, 5, 6, 7, 8, 9, 10, 3, 9, 7, 1, 2, 3, 4, 5, 6, 7, 8, 9, 10, 2, 3, 4, 5, 1, 2, 3, 4, 5, 6, 7, 8, 9, 10, 4, 4, 5, 7, 8, 1, 7, 1, 2, 3, 4, 5, 6, 7, 8, 9, 10, 1, 2, 3, 4, 5, 6, 7, 8, 9, 10, 1, 2, 3, 4, 5, 6, 7, 8, 10, 1, 10, 3, 1, 2, 3, 4, 5, 6, 7, 8, 9, 10, 8, 10, 6, 2, 3, 4, 5, 6, 7, 9, 10, 1, 2, 3, 4, 5, 6, 7, 8, 1, 2, 3, 4, 5, 6, 7, 8, 9, 10, 8, 4, 4, 7, 8, 6, 1, 2, 3, 4, 5, 6, 7, 8, 9, 10, 1, 2, 3, 4, 5, 6, 7, 8, 9, 10, 4, 5, 1, 5, 6, 1, 2, 3, 4, 5, 6, 7, 8, 9, 10, 6, 1, 2, 3, 4, 5, 6, 7, 8, 9, 10, 8, 2, 1, 2, 3, 4, 5, 6, 7, 8, 9, 10, 1, 2, 3, 4, 5, 6, 7, 8, 9, 10, 1, 2, 3, 4, 5, 6, 7, 8, 9, 10, 3, 7, 1, 2, 3, 4, 5, 6, 7, 8, 9, 10, 1, 2, 3, 4, 5, 6, 7, 8, 9, 10, 9, 9, 6, 7, 4, 1, 2, 3, 4, 5, 6, 7, 8, 9, 10, 1, 2, 7, 2, 3, 4, 5, 6, 8, 8, 1, 2, 3, 4, 5, 6, 7, 8, 9, 5, 1, 2, 3, 4, 5, 6, 7, 8, 9, 10, 2, 4, 8, 1, 2, 3, 4, 5, 6, 7, 9, 10, 7, 1, 2, 3, 4, 5, 6, 7, 8, 9, 10, 7, 2, 1, 2, 3, 4, 5, 6, 7, 8, 9, 10, 5, 3, 5, 5, 3, 1, 5, 10, 7, 1, 2, 6, 7, 1, 10, 9, 1, 2, 3, 4, 5, 6, 7, 8, 9, 10, 1, 2, 3, 4, 5, 6, 7, 8, 9, 10, 5, 3, 4, 5, 6, 1, 2, 3, 4, 5, 6, 7, 8, 9, 10, 2, 1, 2, 3, 4, 5, 6, 7, 8, 9, 10, 1, 2, 3, 4, 5, 6, 7, 8, 9, 10, 1, 2, 3, 4, 5, 6, 7, 8, 9, 10, 6, 1, 2, 3, 4, 5, 6, 7, 8, 9, 10, 1, 2, 3, 4, 5, 6, 7, 8, 9, 10, 1, 2, 3, 4, 5, 6, 7, 1, 2, 3, 4, 5, 6, 7, 8, 9, 10], \"Freq\": [0.5508049470736108, 0.49564164054899024, 0.37413610655329976, 0.1336113604540031, 0.12586577434072757, 0.22074920422835295, 0.09875622294426317, 0.16846649796374305, 0.0406643270946966, 0.0948834298876254, 0.04647351667965326, 0.03679153403805883, 0.03291874098142106, 0.563198159555043, 0.46227179072511165, 0.6178472342049764, 0.7136335957762572, 0.6593125120960553, 0.6180384277674875, 0.6341048865869382, 0.12742680128326495, 0.15198542116694874, 0.16217956526960994, 0.11028210438333476, 0.10286818139958116, 0.13206050314811096, 0.05977475405651338, 0.07645608076995897, 0.04726375902142919, 0.03011906212149899, 0.6668244068240049, 0.16670610170600123, 0.08335305085300061, 0.2918666667822722, 0.2918666667822722, 0.12268522881936082, 0.1182401118331521, 0.17602663265386553, 0.12357425221660256, 0.16002421150351412, 0.1004596438883172, 0.06756577819037263, 0.05956456761519692, 0.03911702947863679, 0.03289386569794457, 0.13882206913347503, 0.13882206913347503, 0.13882206913347503, 0.27764413826695006, 0.13882206913347503, 0.15214861985853204, 0.3010941108779371, 0.11371107378900815, 0.09929699401293669, 0.12972671798464308, 0.0336328528108334, 0.06085944794341281, 0.056054754684722326, 0.027226595132579415, 0.027226595132579415, 0.10487077361222481, 0.10487077361222481, 0.31461232083667445, 0.524353868061124, 0.5764702508597424, 0.0720587813574678, 0.0720587813574678, 0.0720587813574678, 0.0720587813574678, 0.0720587813574678, 0.4852540873783044, 0.07433223497284945, 0.07433223497284945, 0.2973289398913978, 0.408827292350672, 0.037166117486424725, 0.07433223497284945, 0.037166117486424725, 0.6126987197085487, 0.6180384409101489, 0.7135812964869754, 0.19839339592343014, 0.19839339592343014, 0.3967867918468603, 0.46700778381601527, 0.16609142827751328, 0.16609142827751328, 0.08304571413875664, 0.08304571413875664, 0.08304571413875664, 0.33218285655502655, 0.777009554636839, 0.1873366590191231, 0.11338797782736398, 0.1511839704364853, 0.0640888570328579, 0.138037538224617, 0.09038172145659448, 0.041082600662088395, 0.11831788990681459, 0.05258572884747315, 0.04601251274153901, 0.09920172056987388, 0.09920172056987388, 0.14880258085481082, 0.14880258085481082, 0.04960086028493694, 0.04960086028493694, 0.04960086028493694, 0.29760516170962165, 0.09920172056987388, 0.7135230517343959, 0.5508361312516457, 0.5774670854256397, 0.6177127717387804, 0.11030037518359517, 0.4412015007343807, 0.11030037518359517, 0.11030037518359517, 0.11030037518359517, 0.1437183955819326, 0.23154630399311366, 0.07505293991500925, 0.1437183955819326, 0.057487358232773046, 0.12136220071363198, 0.08303729522511662, 0.057487358232773046, 0.057487358232773046, 0.028743679116386523, 0.15977634197803287, 0.12482526717033818, 0.32454569464287925, 0.06990214961538938, 0.07988817098901643, 0.059916128241762324, 0.06990214961538938, 0.059916128241762324, 0.03495107480769469, 0.024965053434067633, 0.6167209857567019, 0.20557366191890064, 0.13787819500782614, 0.14628540202049845, 0.11938233957994701, 0.1059308083596713, 0.18832143708386007, 0.07902774591911985, 0.053806124881102875, 0.05885044908870627, 0.08070918732165432, 0.03026594524562037, 0.41832812367580824, 0.6665924383416095, 0.5879822057109612, 0.1959940685703204, 0.145739460450251, 0.11456974925568865, 0.1482667343308912, 0.09603640746432725, 0.17016977462977284, 0.0741333671654456, 0.08255761343424624, 0.04886062835904369, 0.07918791492672599, 0.040436382090243056, 0.2693001309775147, 0.5386002619550294, 0.6735503363219497, 0.713497815002069, 0.14733239850080865, 0.14963446722738377, 0.11280136760218161, 0.09668688651615567, 0.0989889552427308, 0.18876963557916107, 0.055249649437803236, 0.06445792434410377, 0.052947580711228105, 0.034531030898627024, 0.6889418991070797, 0.19148651653776164, 0.5744595496132848, 0.7425523805278387, 0.48543113521509634, 0.4638289812082582, 0.5774107919127901, 0.5119645080565647, 0.18089315706780812, 0.5426794712034243, 0.16830967882287193, 0.16625712176405644, 0.1252059805877462, 0.11083808117603762, 0.08210228235262046, 0.13752132294063926, 0.05747159764683432, 0.06773438294091187, 0.05131392647038779, 0.034893469999863695, 0.5609571141447429, 0.7136750865696296, 0.5119990666229401, 0.15696551180370263, 0.15696551180370263, 0.10957969691956598, 0.10859249244281313, 0.12636217302436437, 0.08489958500074482, 0.07996356261698058, 0.040475383546866715, 0.06318108651218218, 0.07305313127971065, 0.5117737825856906, 0.2151751549426287, 0.2151751549426287, 0.4303503098852574, 0.4748941650254873, 0.15829805500849578, 0.15829805500849578, 0.15829805500849578, 0.18043473886519257, 0.09222219986443175, 0.06415457381873513, 0.17642507800152163, 0.0962318607281027, 0.0521255912277223, 0.16840575627417972, 0.12028982591012838, 0.028067626045696622, 0.020048304318354727, 0.7916485137790238, 0.46690481930059824, 0.2558492711827158, 0.2558492711827158, 0.2558492711827158, 0.5740827959788315, 0.6046977585655792, 0.569664272251304, 0.598559146126621, 0.12527769305064887, 0.165189170482714, 0.15188534467202564, 0.10421330218372561, 0.07649699841145816, 0.12638634520153957, 0.10310465003283491, 0.05764991184631629, 0.0543239553936442, 0.03547686882850234, 0.1212474756981142, 0.14549697083773702, 0.0751734349328308, 0.18914606208905815, 0.058198788335094814, 0.07759838444679308, 0.21582050674264328, 0.03152434368150969, 0.04849899027924568, 0.03879919222339654, 0.6222443510677008, 0.7136343019816915, 0.14401705666723993, 0.13092459697021813, 0.08641023400034396, 0.08117325012153524, 0.1047396775761745, 0.10212118563677014, 0.1125951533943876, 0.08641023400034396, 0.07593626624272651, 0.07331777430332215, 0.7286845388592572, 0.07132130137675823, 0.168577621435974, 0.11022382940044453, 0.05835379203552946, 0.168577621435974, 0.1231913387416733, 0.07780505604737262, 0.05187003736491508, 0.1296750934122877, 0.04538628269430069, 0.7240608719690652, 0.7136731018892667, 0.1062015777117737, 0.2124031554235474, 0.1062015777117737, 0.5310078885588685, 0.1062015777117737, 0.4682613502821551, 0.25064804360196213, 0.06660577382429764, 0.21734515668981333, 0.0858863925629101, 0.049077938607377206, 0.0736169079110658, 0.06835855734598968, 0.08413360904121807, 0.07536969143275785, 0.02804453634707269, 0.7137558871208023, 0.5119664846302363, 0.8049048529905112, 0.26223099772833985, 0.08741033257611329, 0.08741033257611329, 0.08741033257611329, 0.08741033257611329, 0.26223099772833985, 0.15232152431273577, 0.2056970006008349, 0.1268926417415187, 0.10322615697226721, 0.09365885461874, 0.07855258774474969, 0.07729373217191715, 0.05287193405896613, 0.06445340532902538, 0.04531880062197097, 0.5599262525140755, 0.13479187392543973, 0.5391674957017589, 0.13479187392543973, 0.13479187392543973, 0.1051806337009845, 0.13596520941834583, 0.22575355526064966, 0.09748448977164417, 0.19753436085306847, 0.051307626195602196, 0.0795268206031834, 0.051307626195602196, 0.028219194407581208, 0.03334995702714143, 0.6179457916377386, 0.4637725675950295, 0.4832723943740014, 0.18970332885443453, 0.37940665770886906, 0.573319528280338, 0.5501939929560664, 0.13842510115582957, 0.14063990277432284, 0.1328880971095964, 0.12181408901713002, 0.10852527930617038, 0.10963268011541702, 0.11184748173391029, 0.05426263965308519, 0.05094043722534528, 0.029899821849659187, 0.5696566381432732, 0.7190672175879537, 0.7137538876193827, 0.6729710704939297, 0.6916174671771991, 0.13832349343543981, 0.13832349343543981, 0.11058266925382136, 0.1548157369553499, 0.044233067701528545, 0.06634960155229282, 0.06634960155229282, 0.11058266925382136, 0.044233067701528545, 0.11058266925382136, 0.11058266925382136, 0.1548157369553499, 0.656497338995532, 0.5118705472400414, 0.7136913664003303, 0.6702636980385435, 0.18409786367686068, 0.5522935910305821, 0.18409786367686068, 0.6850522887937479, 0.16293188630735375, 0.1644985390603091, 0.09321583880084182, 0.1417820741424569, 0.1331654840012026, 0.0704993738829896, 0.08694922778902052, 0.0642327628711683, 0.046216256212182075, 0.036816339694450126, 0.25338882674240853, 0.28858171934552085, 0.11261725632995935, 0.06334720668560213, 0.09854009928871443, 0.04223147112373476, 0.04927004964435722, 0.0351928926031123, 0.04223147112373476, 0.02111573556186738, 0.5584078094875582, 0.039887735189356496, 0.07977547037871299, 0.23932641113613898, 0.11966320556806949, 0.11966320556806949, 0.039887735189356496, 0.039887735189356496, 0.039887735189356496, 0.27921414632549546, 0.14467766057432682, 0.11140179864223164, 0.13744377754561046, 0.08391304313310956, 0.15046476699729988, 0.04629685138378458, 0.11429535185371818, 0.0636581706527038, 0.07667916010439321, 0.07089205368142014, 0.7136177998139481, 0.548492467525101, 0.682903154728417, 0.22763438490947235, 0.6179956475062505, 0.18768286997563494, 0.16012625811413297, 0.09905484804269621, 0.13405919283973924, 0.08862802193293871, 0.09086234181360103, 0.09235188840070925, 0.06256095665854497, 0.049899810668125155, 0.03425957150348891, 0.17768654889770233, 0.09319224592536836, 0.20253781447780056, 0.08449430297233397, 0.09319224592536836, 0.05964303739223575, 0.1317117075745206, 0.05218765771820628, 0.05218765771820628, 0.05343022099721119, 0.16264999304146704, 0.06848420759640718, 0.11128683734416166, 0.2910578822847305, 0.08560525949550897, 0.08560525949550897, 0.059923681646856276, 0.042802629747754485, 0.059923681646856276, 0.03424210379820359, 0.11500202315334158, 0.16100283241467822, 0.061334412348448844, 0.291338458655132, 0.07666801543556105, 0.12266882469689769, 0.061334412348448844, 0.046000809261336637, 0.038334007717780526, 0.023000404630668318, 0.4669742151370269, 0.4869307272060886, 0.07936472396867186, 0.07936472396867186, 0.07936472396867186, 0.15872944793734373, 0.39682361984335934, 0.07936472396867186, 0.07936472396867186, 0.07936472396867186, 0.48525475081405556, 0.19152809419144803, 0.38305618838289607, 0.4830787075191991, 0.05186095509589395, 0.05186095509589395, 0.15558286528768187, 0.4148876407671516, 0.1037219101917879, 0.05186095509589395, 0.05186095509589395, 0.05186095509589395, 0.05186095509589395, 0.1713430450441405, 0.19470800573197783, 0.09693973051336768, 0.1204704001422535, 0.08666577616836119, 0.10108245403957998, 0.07771749335174263, 0.07556327711811224, 0.038278765382201596, 0.037284511735910644, 0.5508415041821243, 0.6180072557773053, 0.7747795222752282, 0.6179296850344018, 0.4637751681222212, 0.1302038044788165, 0.10235674802958984, 0.19116627940820458, 0.07977805361129797, 0.1294511813315401, 0.07149919899125762, 0.06999395269670482, 0.10009887858776066, 0.06623083696032284, 0.05945722863483528, 0.609138310539773, 0.6179784154242998, 0.7286338141114399, 0.11992355978590469, 0.11032967500303231, 0.12472050217734088, 0.11032967500303231, 0.14390827174308563, 0.06236025108867044, 0.04317248152292569, 0.153502156525958, 0.09593884782872375, 0.0383755391314895, 0.7916531544895212, 0.07854477079436797, 0.39272385397183984, 0.07854477079436797, 0.15708954158873595, 0.07854477079436797, 0.03927238539718399, 0.07854477079436797, 0.03927238539718399, 0.6749405814252726, 0.08976426252981307, 0.04488213126490653, 0.08976426252981307, 0.08976426252981307, 0.08976426252981307, 0.35905705011925226, 0.08976426252981307, 0.04488213126490653, 0.08976426252981307, 0.5773975630870889, 0.09270758922982346, 0.18541517845964692, 0.09270758922982346, 0.09270758922982346, 0.37083035691929384, 0.4853707816058396, 0.22732989618842092, 0.6819896885652628, 0.48304127730712004, 0.5899653392179012, 0.23598613568716045, 0.11799306784358023, 0.11799306784358023, 0.5774361586603396, 0.4667890350842129, 0.7137646784771396, 0.4910516373331332, 0.2455258186665666, 0.5120014740632018, 0.5695648575096706, 0.4637421774384825, 0.5535240767360894, 0.5507694955291793, 0.713611413889841, 0.48525813068354684, 0.7135275170414206, 0.4668667259411294, 0.5773603861889152, 0.1482440397003322, 0.05891750295782433, 0.15204516892341763, 0.18435476731964387, 0.13303952280799042, 0.08172427829633698, 0.08172427829633698, 0.05511637373473889, 0.06271863218090977, 0.043712986065482566, 0.4635431796756227, 0.549304499316419, 0.09845826265028824, 0.1759452708010566, 0.16243836112339974, 0.09916915263332281, 0.13258098183594771, 0.0792642331083548, 0.07037810832042264, 0.07961967809987208, 0.06469098845614607, 0.037677169100832325, 0.12641448973043762, 0.13343751693768416, 0.07023027207246535, 0.2879441154971079, 0.09129935369420496, 0.11939146252319109, 0.06320724486521881, 0.04213816324347921, 0.04916119045072574, 0.021069081621739604, 0.4854699177302971, 0.6596172191352369, 0.3298086095676184, 0.5507560777011106, 0.7119492861045641, 0.1369899890822552, 0.3611554257623092, 0.09340226528335582, 0.08094862991224172, 0.14321680676781226, 0.037360906113342335, 0.031134088427785277, 0.024907270742228222, 0.031134088427785277, 0.049814541484456444, 0.4730918768222105, 0.5507159807322298, 0.713610588789429, 0.5118758135537793, 0.6738470307506721, 0.22599170843810468, 0.11299585421905234, 0.11299585421905234, 0.22599170843810468, 0.5513859793727904, 0.4939355229710906, 0.08635241710625126, 0.08635241710625126, 0.17270483421250252, 0.08635241710625126, 0.08635241710625126, 0.4317620855312563, 0.08635241710625126, 0.4957444057488276, 0.5509079037812823, 0.469214145378, 0.46935104605430855, 0.7883953431520125, 0.19709883578800313, 0.15385234470581904, 0.148699395361605, 0.10747580060789272, 0.10968420746969874, 0.13839349667317694, 0.0883362744722406, 0.10085058002247468, 0.06330766337177243, 0.05594630716575238, 0.03312610292709022, 0.5118024342329727, 0.605342707552337, 0.550696736327415, 0.16529110203757916, 0.2918297447457737, 0.08897248315419931, 0.09767201484038768, 0.11783911102200618, 0.0692008202310439, 0.04982459056635161, 0.04863829079096229, 0.04349765843094188, 0.027284894833954455, 0.5615828295888898, 0.18719427652962994, 0.16796814169657542, 0.1735795495483541, 0.15188210585480985, 0.09277527648274099, 0.12214164424038279, 0.06808508193491476, 0.08435816470507296, 0.06471823722384755, 0.04620059131297787, 0.028057039258893444, 0.6107758957104726, 0.10719503357919971, 0.6431702014751983, 0.10719503357919971, 0.15215556275998013, 0.6086222510399205, 0.15215556275998013, 0.46375340237253465, 0.1364893277349649, 0.14989452956607752, 0.14441058336244053, 0.10053901373334467, 0.15294116634587582, 0.07129130064728077, 0.05910475352808747, 0.05910475352808747, 0.056667444104248815, 0.07007264593536143, 0.6569431381140947, 0.5506325192002435, 0.4854404082194117, 0.6179714164434029, 0.06642776854345486, 0.06642776854345486, 0.26571107417381945, 0.39856661126072923, 0.13285553708690973, 0.5694893380691706, 0.4837340124697227, 0.14682924178166898, 0.11594848854981002, 0.19635497809691446, 0.10720865272947258, 0.12235770148472415, 0.06875337511998786, 0.11245255422167505, 0.04428183482304302, 0.05476963780744795, 0.030880753231858953, 0.15160812412814176, 0.0808576662016756, 0.20719776964179373, 0.0808576662016756, 0.1010720827520945, 0.08591127033928034, 0.0808576662016756, 0.07580406206407088, 0.11623289516490869, 0.0202144165504189, 0.09379376560318808, 0.09379376560318808, 0.4689688280159404, 0.09379376560318808, 0.09379376560318808, 0.21922407945898958, 0.19291718992391083, 0.12714996608621396, 0.07453618701605645, 0.09499710109889548, 0.06138274224851708, 0.06430572997463695, 0.05553676679627736, 0.07453618701605645, 0.035075852713438334, 0.09636567123909397, 0.2758051969946482, 0.12627225886501967, 0.1329181672263365, 0.20270020502016317, 0.023260679264608886, 0.0531672668905346, 0.059813175251851425, 0.019937725083950475, 0.009968862541975237, 0.4667593922718609, 0.19022232153603486, 0.19022232153603486, 0.19022232153603486, 0.1410825292024217, 0.12244898760964902, 0.15084295575101692, 0.12511092212290226, 0.1047027575212941, 0.07719610088434395, 0.09139308495502789, 0.08606921592852142, 0.07187223185783748, 0.029281279645785637, 0.13550751392922883, 0.053140201540874045, 0.3507253301697687, 0.03188412092452443, 0.2258458565487147, 0.018599070539305915, 0.053140201540874045, 0.03454113100156813, 0.05845422169496145, 0.039855151155655535, 0.38520765137029717, 0.4919996362439733, 0.39502008899573515, 0.39502008899573515, 0.5118953542397006, 0.6282663991751509, 0.48522630573034076, 0.19338882271114075, 0.11097417674563351, 0.17135718468075764, 0.1003663510273009, 0.09220648509012196, 0.11995002927653034, 0.07180682024717462, 0.07099083365345674, 0.038351369904740994, 0.031007490561279952, 0.41732219425892714, 0.4831561444769285, 0.4853735566457971, 0.552070664552726, 0.09201177742545433, 0.18402355485090865, 0.482388868874865, 0.5663059784015265, 0.5144476504668095, 0.17148255015560318, 0.17148255015560318, 0.6181895940931721, 0.0723038573595286, 0.0723038573595286, 0.0723038573595286, 0.43382314415717155, 0.0723038573595286, 0.0723038573595286, 0.0723038573595286, 0.10264972325233356, 0.1082487990660972, 0.238893901387249, 0.10451608185692143, 0.08398613720645473, 0.11571423348444873, 0.09518428883398203, 0.061589833951400136, 0.0653225511605759, 0.024262661859642477, 0.7410256781577227, 0.618117035139893, 0.46984951858001067, 0.4670740801330554, 0.7252844263552114, 0.49912268253057357, 0.18111253725692691, 0.12270269345480896, 0.15043686389322466, 0.09875045534890446, 0.10841539353198873, 0.07059607020687639, 0.061771561431016836, 0.07395778783577527, 0.10043131416335391, 0.031936317474539316, 0.6485587386766157, 0.6188886751811306, 0.4853228578218536, 0.49756215967156675, 0.16585405322385557, 0.1097488577919085, 0.1097488577919085, 0.1097488577919085, 0.1097488577919085, 0.438995431167634, 0.1097488577919085, 0.5774691170043306, 0.46710561639096376, 0.4637061452382523, 0.5773679466716191, 0.13896135774517404, 0.08337681464710443, 0.18933484992779964, 0.10508952679478788, 0.15112047654787678, 0.0712176958444017, 0.08424532313301177, 0.064269627957143, 0.06948067887258702, 0.04342542429536689, 0.5738682241092701, 0.061725761456906135, 0.3086288072845307, 0.12345152291381227, 0.3703545687414368, 0.061725761456906135, 0.061725761456906135, 0.18188771802203582, 0.14054960028975494, 0.11988054142361451, 0.10196735707295948, 0.08956592175327521, 0.09783354529973139, 0.11436879239264373, 0.059251302082935914, 0.05649542756745052, 0.03858224321679548, 0.5117841847236836, 0.5507638905407819, 0.440620507710296, 0.110155126927574, 0.055077563463787, 0.055077563463787, 0.110155126927574, 0.110155126927574, 0.055077563463787, 0.17735050399960284, 0.10267660757871744, 0.17401684790938474, 0.1220118129019824, 0.12334527533806965, 0.07867428372914713, 0.0846748646915397, 0.0406706043006608, 0.04933811013522786, 0.04667118526305338, 0.5591499892866933, 0.4676826565984815, 0.11995874058170404, 0.1212916154770563, 0.1292888648491699, 0.1292888648491699, 0.1572792376515675, 0.0853039933025451, 0.07330811924437469, 0.06930949455831789, 0.07863961882578376, 0.038653371965215746, 0.21912136372603946, 0.21912136372603946, 0.43824272745207893, 0.5118564620977202, 0.569661294176867, 0.07729678986630674, 0.11079206547503967, 0.1365576620971419, 0.12109830412388056, 0.18551229567913619, 0.07729678986630674, 0.06183743189304539, 0.08244990919072719, 0.07472023020409652, 0.07214367054188629, 0.12386424979601977, 0.6193212489800989, 0.12386424979601977, 0.43502817943911665, 0.22653331034992863, 0.22653331034992863, 0.45306662069985726, 0.18192495416390903, 0.13438544059407, 0.14500879558174354, 0.0860491754001555, 0.13836919871444758, 0.09614136263844535, 0.057366116933437, 0.0762225720365575, 0.047539513569839, 0.03691615858216548, 0.6178118394343783, 0.607661040273864, 0.15754672332371977, 0.1305792661782182, 0.11354718798105931, 0.13909530527679764, 0.08657973083555771, 0.05251557444123993, 0.15896606317348302, 0.06245095338958262, 0.039741515793370756, 0.05819293384029289, 0.4852263384561089, 0.5993583045429863, 0.5030350480380782, 0.05030350480380782, 0.05030350480380782, 0.10060700960761564, 0.10060700960761564, 0.10060700960761564, 0.10060700960761564, 0.21331099512378807, 0.13340622496341142, 0.14382858628867795, 0.10839255778277179, 0.10491843734101629, 0.09171677966234536, 0.054196278891385896, 0.0590600475098436, 0.05141698253798149, 0.03891014894766167, 0.4678526973154795, 0.10596985524037213, 0.5298492762018606, 0.10596985524037213, 0.10596985524037213, 0.10596985524037213, 0.5508843686369229, 0.1401901426123944, 0.1401901426123944, 0.4205704278371832, 0.713747594459759, 0.1581872125340439, 0.1273897021291858, 0.08819287070482093, 0.18898472293890198, 0.057395360299962825, 0.1847850624291486, 0.053195699790209446, 0.06719456815605404, 0.05179581295362499, 0.023798076221935804, 0.4680255739256578, 0.48530026383098246, 0.26700428615784466, 0.5340085723156893, 0.39636473197659755, 0.7134813335278966, 0.5697045222378817, 0.21884932682491398, 0.12937857262296384, 0.17829783391323872, 0.07852828786070443, 0.1274475491509793, 0.0772409388793814, 0.059218053140859074, 0.05278130823424396, 0.05020661027159791, 0.028321677589106514, 0.0575914381874302, 0.1727743145622906, 0.5183229436868718, 0.1151828763748604, 0.1151828763748604, 0.3988627827997151, 0.10878075894537684, 0.05439037947268842, 0.10878075894537684, 0.05439037947268842, 0.14504101192716912, 0.03626025298179228, 0.05439037947268842, 0.03626025298179228, 0.01813012649089614, 0.48518228052873225, 0.18218596610879334, 0.54655789832638, 0.18218596610879334, 0.18218596610879334, 0.5773161639907994, 0.14604718899665145, 0.7302359449832572, 0.14604718899665145, 0.6116198793378596, 0.08097117001804402, 0.08097117001804402, 0.7287405301623961, 0.08097117001804402, 0.5774724291631718, 0.0954335923458993, 0.13360702928425902, 0.12088255030480578, 0.10815807132535254, 0.08907135285617268, 0.050897915917812966, 0.10815807132535254, 0.23540286111988495, 0.03817343693835972, 0.025448957958906483, 0.74273662538744, 0.2289544838394529, 0.6868634515183587, 0.2289544838394529, 0.4638439180092934, 0.12876433829844713, 0.12954002708337753, 0.1919829742702751, 0.13147924904570354, 0.1244980499813299, 0.07756887849304044, 0.0857136107348097, 0.051583304197871896, 0.04188719438624184, 0.03684521728419421, 0.5626424743876962, 0.12135055906650768, 0.14735425029504504, 0.034671588304716484, 0.008667897076179121, 0.15602214737122416, 0.39872326550423953, 0.06067527953325384, 0.017335794152358242, 0.008667897076179121, 0.043339485380895604, 0.1075664011300375, 0.3764824039551313, 0.08067480084752814, 0.08067480084752814, 0.05378320056501875, 0.08067480084752814, 0.05378320056501875, 0.05378320056501875, 0.05378320056501875, 0.05378320056501875, 0.4637713662099534, 0.6226285432065616, 0.15224470784627187, 0.4567341235388156, 0.15224470784627187, 0.15224470784627187, 0.5507505249235026, 0.2753752624617513, 0.46364655032376845, 0.5581348113522416, 0.5618502207119179, 0.28092511035595896, 0.4853795955379349, 0.37922284907207215, 0.37922284907207215, 0.7136937315136145, 0.6177391030337351, 0.6568458958877145, 0.17718128299442512, 0.10913339894584156, 0.1572804867160658, 0.1072075154350326, 0.09308436968910017, 0.09822005905125741, 0.082171029794516, 0.06291219468642631, 0.08409691330532497, 0.02888825266213453, 0.7135023803035356, 0.48544241367967206, 0.14801617410030404, 0.5920646964012162, 0.14801617410030404, 0.15672137424807078, 0.13747488969129018, 0.15580487498346218, 0.12556039925137835, 0.14572338307276758, 0.07515293969790529, 0.0806519352855569, 0.038492969113561246, 0.05315695734729887, 0.030244475732083838, 0.09901955735862648, 0.14145651051232355, 0.14145651051232355, 0.05658260420492942, 0.07072825525616178, 0.09901955735862648, 0.3112043231271118, 0.014145651051232356, 0.04243695315369707, 0.02829130210246471, 0.3765596051255702, 0.1778354788286717, 0.1410419314848086, 0.06132257890643852, 0.1410419314848086, 0.06745483679708236, 0.19623225250060325, 0.09811612625030162, 0.03679354734386311, 0.04292580523450696, 0.03066128945321926, 0.5119050074954988, 0.14969638570141236, 0.17300677179603619, 0.10307561351216471, 0.15497764505097555, 0.12019417830040408, 0.08286113807073311, 0.06792792197886473, 0.05681906610564556, 0.05681906610564556, 0.034601354359207234, 0.23687754423683488, 0.13234003645156503, 0.08674388943884094, 0.1100980135185289, 0.10453750778526985, 0.11565851925178793, 0.05338085503928674, 0.06561396765245661, 0.05671715847924216, 0.03781143898616144, 0.10055430380393543, 0.10055430380393543, 0.10055430380393543, 0.20110860760787086, 0.4022172152157417, 0.10055430380393543, 0.4635471599489709, 0.5118201828619448, 0.5079633715289322, 0.48536580709448207, 0.5119964142376119, 0.2243702132363755, 0.11218510661818774, 0.448740426472751, 0.5496609221594094, 0.189483197138824, 0.1108678281131417, 0.17638063563454362, 0.09978104530182753, 0.10280471334127685, 0.08768637314403026, 0.07357592229326676, 0.04434713124525668, 0.062489139481952595, 0.052410246017121534, 0.21683004248903923, 0.43366008497807845, 0.6183218991877486, 0.7135694636855894, 0.613526950365696, 0.12041358213112847, 0.15582934158146036, 0.14449629855735416, 0.09349760494887623, 0.08783108343682312, 0.13882977704530106, 0.0892477138148364, 0.08499782268079657, 0.04391554171841156, 0.04108228096238501, 0.16015299359745142, 0.1556096462613535, 0.07723690471366451, 0.1510662989252556, 0.12267037807464365, 0.06474269953939525, 0.04770514702902808, 0.09313862039000721, 0.09200278355598274, 0.03521094185475882, 0.1260491042525303, 0.23169025829274617, 0.1272495719120782, 0.11884629829524285, 0.12124723361433867, 0.06482525361558701, 0.08283226850880562, 0.0636247859560391, 0.02520982085050606, 0.03961543276508095, 0.4635793829051395, 0.15477688690557126, 0.1829181390702206, 0.14366849789320968, 0.10886221232114342, 0.09553214550630953, 0.08812655283140182, 0.07479648601656792, 0.06442865627169712, 0.05109858945686324, 0.03628740410704781, 0.6435761354688688, 0.09177543256054028, 0.12982866069539847, 0.09625228292934714, 0.143259211801819, 0.10520598366696082, 0.12087495995778477, 0.08729858219173345, 0.11863653477338135, 0.04253007850366501, 0.060437479978892386, 0.7428242227153493, 0.7136559335321052, 0.5118456309811608, 0.1193041437195527, 0.10723967974791253, 0.19035043155254475, 0.13404959968489066, 0.09919670376681909, 0.07640827182038767, 0.06568430384559643, 0.07774876781723658, 0.08847273579202784, 0.0402148799054672, 0.49361082503457143, 0.2355818702967365, 0.09138951864959605, 0.1340379606860742, 0.09138951864959605, 0.12591444791722123, 0.0446793202286914, 0.05077195480533114, 0.10357478780287553, 0.0670189803430371, 0.05686458938197088, 0.4854611549068669, 0.15189632609094417, 0.6075853043637767, 0.4527202342100549, 0.12934863834572996, 0.06467431917286498, 0.06467431917286498, 0.06467431917286498, 0.12934863834572996, 0.06467431917286498, 0.06467431917286498, 0.1861393772166405, 0.12437884652724826, 0.10722314355797263, 0.12952555741803096, 0.1269522019726396, 0.11580099504261045, 0.06261831583785601, 0.05404046435321821, 0.05318267920475443, 0.03945811682933393, 0.4637448915151362, 0.5774809322480825, 0.08802034245596918, 0.1599509448931053, 0.13061083074111557, 0.12209273308408629, 0.13912892839814484, 0.10032426129390036, 0.09843135070344941, 0.0795022447989399, 0.04259048828514638, 0.03975112239946995, 0.3364589601079813, 0.3364589601079813, 0.7135671213045738, 0.5508554846478795, 0.6456490446495089, 0.16182945034873952, 0.1574556814203952, 0.06998030285350898, 0.11080214618472256, 0.1632873733248543, 0.048111458211787424, 0.10934422320860779, 0.07581199475796806, 0.06269068797293513, 0.03790599737898403, 0.07847417172367922, 0.37275231568747635, 0.03923708586183961, 0.03923708586183961, 0.09809271465459904, 0.019618542930919806, 0.05885562879275942, 0.2746596010328773, 0.03923708586183961, 0.559727659337528, 0.8959302848382634, 0.3735589528602517, 0.6224564528751599, 0.31122822643757997, 0.1797462595764486, 0.15578009163292214, 0.1398026463372378, 0.09586467177410593, 0.0932017642248252, 0.10119048687266737, 0.06390978118273728, 0.10119048687266737, 0.03728070568993008, 0.030623436816728283, 0.5593529324968781, 0.18645097749895936, 0.49289991761866503, 0.11385859229069502, 0.1048697560572191, 0.23520788144261998, 0.08389580484577527, 0.12883998601315488, 0.08539394421802127, 0.09438278045149719, 0.06441999300657744, 0.06292185363433146, 0.026966508700427768, 0.12696971052752715, 0.12696971052752715, 0.12696971052752715, 0.5078788421101086, 0.5695454266152893, 0.6245827958248, 0.7247916055456269, 0.09059895069320337, 0.09059895069320337, 0.140717190652323, 0.140717190652323, 0.140717190652323, 0.140717190652323, 0.140717190652323, 0.140717190652323, 0.140717190652323, 0.281434381304646, 0.5774297318924632, 0.07788350844785862, 0.07788350844785862, 0.07788350844785862, 0.07788350844785862, 0.19470877111964655, 0.11682526267178792, 0.07788350844785862, 0.07788350844785862, 0.03894175422392931, 0.19470877111964655, 0.5773309689452835, 0.13089091145056184, 0.1514385163062056, 0.19320085604527376, 0.10500626637267296, 0.1419652699117205, 0.050968734122441, 0.07311745104475831, 0.06337735263916093, 0.05657262635579839, 0.033356501389032074, 0.10597101897750476, 0.07064734598500318, 0.03532367299250159, 0.35323672992501587, 0.10597101897750476, 0.07064734598500318, 0.14129469197000635, 0.03532367299250159, 0.07064734598500318, 0.119698377156035, 0.2431373285981961, 0.11689294644144042, 0.09912521858234148, 0.1159578028699089, 0.06452490643567511, 0.06452490643567511, 0.07855206000864796, 0.057043757863422924, 0.04114631714738703, 0.1618423604016057, 0.1338137951923891, 0.17811701116824763, 0.0795649593035827, 0.1708838330497401, 0.07233178118507519, 0.07142763392026175, 0.04791980503511231, 0.044303215975858554, 0.037974185122164474, 0.1262878188066741, 0.08274029508023475, 0.12193306643403017, 0.25693038998599216, 0.11757831406138623, 0.06967603796230296, 0.07403079033494689, 0.047902276099083284, 0.06967603796230296, 0.03483801898115148, 0.12891514751433344, 0.07147770555250171, 0.1723123258854952, 0.08807074434147533, 0.1174276591219671, 0.09700545753553803, 0.12891514751433344, 0.08424158154401988, 0.06892493035419808, 0.043397178371161756, 0.6969786605894029, 0.481870543825964, 0.47222728541771514, 0.4976166015682284, 0.10771838284631437, 0.11797727645072525, 0.15901285086836883, 0.11797727645072525, 0.14362451046175248, 0.18466008487939606, 0.02564723401102723, 0.0666828084286708, 0.046165021219849015, 0.02564723401102723, 0.16900695807806082, 0.18266408600356068, 0.07828460828724029, 0.09535601819411511, 0.11681721921990061, 0.11828048292620418, 0.06804176234311539, 0.06706625320557968, 0.05779891639899049, 0.04682443860171382, 0.15895328589778457, 0.15895328589778457, 0.4768598576933537, 0.08993429361984313, 0.08993429361984313, 0.08993429361984313, 0.4496714680992157, 0.08993429361984313, 0.08993429361984313, 0.6229599339806084, 0.49715052420096373, 0.08680168786304611, 0.08680168786304611, 0.08680168786304611, 0.08680168786304611, 0.43400843931523053, 0.08680168786304611, 0.19356337433177376, 0.14028905112119383, 0.09411797100535788, 0.17669317198175677, 0.0745840524948119, 0.08967844407114288, 0.045283174728992945, 0.06126547169216692, 0.08346310636324189, 0.04084364779477795, 0.18600178250249108, 0.26571683214641584, 0.11071534672767326, 0.07971504964392474, 0.07971504964392474, 0.07085782190571088, 0.07085782190571088, 0.05314336642928317, 0.03985752482196237, 0.03542891095285544, 0.4636213274250187, 0.4923701053319796, 0.09847402106639593, 0.09847402106639593, 0.09847402106639593, 0.09847402106639593, 0.09847402106639593, 0.45205532438964363, 0.45205532438964363, 0.610277984720506, 0.6367816176654488, 0.14992467103127435, 0.105441526879138, 0.14003952788635515, 0.2042929583283299, 0.09555638373421882, 0.08567124058929963, 0.12026924159651678, 0.03130295329224409, 0.042835620294649816, 0.02306533400481144, 0.8885301540702137, 0.1856133707234599, 0.11210312489238668, 0.1019954660906141, 0.06156483088352383, 0.10107658801772569, 0.10567097838216777, 0.08086127041418055, 0.13599395478748547, 0.08269902655995738, 0.032160732551094535, 0.6177884779827515, 0.6181319408706384, 0.1339994020839271, 0.12388623966249865, 0.19467837661249787, 0.10492406012232028, 0.08596188058214191, 0.10239576951696316, 0.12388623966249865, 0.061943119831249324, 0.0417167949883924, 0.02654705135624971, 0.24368361689513734, 0.08593673446060399, 0.11889876959617812, 0.09182281216338509, 0.1912975253403856, 0.047677229392526874, 0.08593673446060399, 0.04591140608169254, 0.05650634594669852, 0.032373427365296026, 0.5120143271550402, 0.15335878120790356, 0.15335878120790356, 0.15335878120790356, 0.6134351248316142, 0.5644172460242171, 0.1405123423091996, 0.14932413326757313, 0.14944321152376736, 0.08990408342664889, 0.08109229246827536, 0.10538425673189969, 0.10205006555846105, 0.09216657029433939, 0.04906024155202562, 0.041081998387011744, 0.5349164744648482, 0.06686455930810603, 0.06686455930810603, 0.20059367792431806, 0.06686455930810603, 0.6347033485079052, 0.11298209764629721, 0.18487979614848635, 0.09243989807424317, 0.08216879828821616, 0.08216879828821616, 0.22596419529259443, 0.06162659871616212, 0.09243989807424317, 0.03081329935808106, 0.04108439914410808, 0.6086950732771973, 0.4853621427951753, 0.055539782925215955, 0.19438924023825585, 0.07405304390028794, 0.11107956585043191, 0.09256630487535993, 0.08330967438782393, 0.1203361963379679, 0.07405304390028794, 0.09256630487535993, 0.10182293536289591, 0.15652699706762163, 0.16476526007118067, 0.08238263003559033, 0.2718626791174481, 0.07414436703203131, 0.09885915604270841, 0.049429578021354205, 0.04119131501779517, 0.03295305201423614, 0.024714789010677102, 0.14065627313258733, 0.12661444552713444, 0.17587984068524878, 0.10805067343856961, 0.12590045429295887, 0.08948690135000478, 0.09400884583311674, 0.07711105329096157, 0.03712754417712965, 0.024989693196144955, 0.18794821625655697, 0.15413742603050967, 0.1064045457113841, 0.13922090093078293, 0.07657149551193061, 0.0984490656581965, 0.07458262549863372, 0.06662714544544612, 0.06165497041220387, 0.03480522523269573, 0.13067125170523067, 0.29401031633676905, 0.11433734524207684, 0.11433734524207684, 0.09255880329120507, 0.059890990364897395, 0.05444635487717945, 0.059890990364897395, 0.049001719389461504, 0.027223177438589725, 0.13224349268600935, 0.13224349268600935, 0.13224349268600935, 0.3967304780580281, 0.13793168212005527, 0.08924991196003576, 0.09736354032003901, 0.30831787768012353, 0.064909026880026, 0.1135907970400455, 0.048681770160019504, 0.048681770160019504, 0.048681770160019504, 0.024340885080009752, 0.38352652168007684, 0.7053104064911555, 0.2351034688303852, 0.6584105337894163, 0.10973508896490272, 0.12945920846476758, 0.14852068701172721, 0.17790713310495665, 0.15566874146683707, 0.05480175082250897, 0.09927853409874814, 0.09371893618921824, 0.07783437073341853, 0.03891718536670927, 0.024621076456489536, 0.08484662332425341, 0.08484662332425341, 0.16969324664850682, 0.08484662332425341, 0.08484662332425341, 0.42423311662126706, 0.14021502557698468, 0.1259073699058638, 0.13163043217431214, 0.12018430763741544, 0.10301512083207037, 0.07153827835560443, 0.04864602928181101, 0.10587665196629455, 0.11732277650319126, 0.03433837361069013, 0.46371369698144055, 0.6281633858844031, 0.7915812042230482, 0.08227972880377483, 0.3823587397351889, 0.14035953737114532, 0.06775977666193221, 0.10163966499289832, 0.07259976070921309, 0.058079808567370474, 0.033879888330966106, 0.04355985642552786, 0.01935993618912349, 0.1513466290331503, 0.1513466290331503, 0.1513466290331503, 0.45403988709945087, 0.1581227058096445, 0.1287570604449962, 0.11972147725587369, 0.08809693609394478, 0.09713251928306733, 0.11746258145859305, 0.07228466551298034, 0.11746258145859305, 0.05647239493201589, 0.04291902014833208, 0.8522938012840324, 0.18270830246526792, 0.5481249073958038, 0.5773974133916842, 0.5695572266858964, 0.48529213288100553, 0.5773577295199052, 0.20725358996813154, 0.10203253659969552, 0.10522105336843601, 0.09565550306221456, 0.12116363721213844, 0.057393301837328735, 0.05101626829984776, 0.14029473782458135, 0.07971291921851213, 0.03826220122488582, 0.30942961805604513, 0.16797607837328166, 0.05304507738103631, 0.0972493085318999, 0.05304507738103631, 0.10609015476207262, 0.05304507738103631, 0.08840846230172718, 0.05304507738103631, 0.017681692460345438, 0.06366225886849752, 0.06366225886849752, 0.12732451773699505, 0.06366225886849752, 0.12732451773699505, 0.38197355321098514, 0.06366225886849752, 0.12732451773699505, 0.06366225886849752, 0.485257725102107, 0.518890927108966, 0.4638075792944168, 0.16593645989500472, 0.08919904563525946, 0.18298921861939255, 0.09116667164191959, 0.16987171190832498, 0.07083453623976486, 0.09444604831968648, 0.03738489412654256, 0.058372904864250674, 0.040664270804309455, 0.39653017406993807, 0.39653017406993807, 0.4670351228193658, 0.13791074139993736, 0.48268759489978075, 0.06895537069996868, 0.06895537069996868, 0.06895537069996868, 0.06895537069996868, 0.06895537069996868, 0.06895537069996868, 0.09035959515156626, 0.13553939272734938, 0.13553939272734938, 0.04517979757578313, 0.09035959515156626, 0.09035959515156626, 0.36143838060626504, 0.04517979757578313, 0.17723714421107492, 0.10906901182219994, 0.1285456210761642, 0.13146711246425885, 0.10322602904601066, 0.08667091118014103, 0.10809518135950173, 0.05258684498570355, 0.05356067544840176, 0.05161301452300533, 0.7549023587819055, 0.6947822945408826, 0.5249590492144263, 0.26247952460721313, 0.5554282513364787, 0.46876447352472544, 0.16572484379788965, 0.13616882070017686, 0.1498912599955435, 0.08233463577219996, 0.16466927154439992, 0.09605707506756662, 0.05805647394193587, 0.07283448549079227, 0.052778612674487156, 0.022167017323284605, 0.12756325043545355, 0.1982862024222553, 0.1927855283788374, 0.086177226680214, 0.09272564816047342, 0.06967520454996025, 0.08958240584994889, 0.05814998274470367, 0.051339624405233875, 0.03378985483813862, 0.5118719111750945, 0.5508407296439185, 0.1765482384220438, 0.5296447152661314, 0.48807905744145724, 0.12175253498019677, 0.13798620631088968, 0.07305152098811805, 0.3652576049405903, 0.05681784965742515, 0.1136356993148503, 0.04058417832673225, 0.032467342661385803, 0.032467342661385803, 0.016233671330692902, 0.4940923330761349, 0.22552949404462172, 0.14980124191587718, 0.09931574049671416, 0.12373086003548972, 0.09476376905728141, 0.08772890410543083, 0.06993483393310289, 0.07034864951850586, 0.0525545793461779, 0.026484197465790442, 0.5697920936686842, 0.496365944866048, 0.1524922957983375, 0.14648274719544735, 0.15474587652442132, 0.09765516479696491, 0.13746842429111214, 0.05784190530281767, 0.04657400167239865, 0.09014322904335222, 0.06009548602890148, 0.05709071172745641, 0.14998512723786858, 0.12332110461780306, 0.11582184825590963, 0.11998810179029487, 0.10332308765275391, 0.14415237228972924, 0.0716595607914261, 0.0924908284633523, 0.041662535343852385, 0.03582978039571305, 0.11578719409008537, 0.14258978531464217, 0.13294085247380172, 0.12865243787787264, 0.16617606559225215, 0.04931676785318451, 0.09434512111043993, 0.07290304813079448, 0.056821493396060414, 0.04073993866132633, 0.6975219524194918, 0.5774034795325104, 0.22686043627293928, 0.1966868807095434, 0.11957668315864287, 0.08269789302560347, 0.10057851854465288, 0.06593480660149466, 0.08493297121548465, 0.04358402470268291, 0.04805418108244527, 0.03129109465833645, 0.17546063335019613, 0.13611765628455935, 0.15782412638973825, 0.11757671306971905, 0.11531562243376292, 0.08230369914880334, 0.07099824596902266, 0.07099824596902266, 0.04748290335507885, 0.0266808695042824, 0.6034904452063709, 0.4273034894118617, 0.4668727291462744, 0.5312579268658036, 0.5119882490600449, 0.3725803222480258, 0.053225760321146544, 0.0798386404817198, 0.053225760321146544, 0.1596772809634396, 0.053225760321146544, 0.026612880160573272, 0.026612880160573272, 0.053225760321146544, 0.053225760321146544, 0.19091878500082615, 0.5727563550024785, 0.5773634918300925, 0.09990701345142344, 0.09990701345142344, 0.09990701345142344, 0.09990701345142344, 0.3996280538056938, 0.09990701345142344, 0.572697275065051, 0.1076658168262029, 0.035888605608734296, 0.1076658168262029, 0.07177721121746859, 0.035888605608734296, 0.4306632673048116, 0.1076658168262029, 0.035888605608734296, 0.035888605608734296, 0.5508974736684824, 0.1817543680989405, 0.1064052182988195, 0.12982454864210036, 0.07331268629200961, 0.22706568115441864, 0.037674574900060494, 0.06720329576767547, 0.058039209981174275, 0.06007567348928565, 0.05753009410414643, 0.493262586601749, 0.164420862200583, 0.164420862200583, 0.2326121959989481, 0.08722957349960554, 0.05815304899973703, 0.029076524499868514, 0.029076524499868514, 0.05815304899973703, 0.4361478674980277, 0.029076524499868514, 0.029076524499868514, 0.7916532184805376, 0.12748007708423986, 0.11085224094281727, 0.15242183129637374, 0.0692826505892608, 0.07621091564818687, 0.1136235469663877, 0.1302513831078103, 0.08868179275425382, 0.05404046745962342, 0.0775965686599721, 0.5774495471764078, 0.4820193820523275, 0.1139682635571432, 0.4368783436357156, 0.0569841317785716, 0.1329629741500004, 0.1329629741500004, 0.0189947105928572, 0.0569841317785716, 0.0379894211857144, 0.0189947105928572, 0.0189947105928572, 0.742875430574903, 0.5667659602746119, 0.18892198675820399, 0.5509091697338987, 0.61575000289174, 0.48546317351835033, 0.5505963583937682, 0.7134872979012591, 0.3793631185634955, 0.13330684466556517, 0.5332273786622607, 0.13330684466556517, 0.13330684466556517, 0.48534135853486654, 0.4975070967558731, 0.6179737874816477, 0.18435086673215428, 0.149364570855979, 0.1695489723230032, 0.09015699321937472, 0.0982307538061844, 0.06189883116554085, 0.05382507057873118, 0.08342885939703332, 0.08073760586809677, 0.030949415582770427, 0.11144569610232913, 0.17408305814524405, 0.1366633353663598, 0.13503639089771266, 0.12690166855447696, 0.098430140353152, 0.08378764013532773, 0.06182388980859134, 0.0520622229967085, 0.018709861389442115, 0.538241672901415, 0.14839120230673325, 0.14839120230673325, 0.44517360692019975, 0.14839120230673325, 0.17690476511754177, 0.10757722203093756, 0.23188867860002096, 0.09801480229485422, 0.08367117269072921, 0.07888996282268755, 0.08606177762475005, 0.043030888812375025, 0.06693693815258338, 0.028687259208250018, 0.9226608283844385, 0.22308104282159877, 0.07785378675653111, 0.11977505654850941, 0.12426662116907851, 0.1107919273073712, 0.06887065751539291, 0.08384253958395659, 0.08084816317024385, 0.08384253958395659, 0.026949387723414615, 0.1740913106692278, 0.11904773450175136, 0.13824898200203384, 0.14464939783546135, 0.09472615433472689, 0.1753713938359133, 0.047363077167363446, 0.04096266133393595, 0.032002079167137466, 0.032002079167137466, 0.1705408635223891, 0.12161520595449057, 0.10064706699681979, 0.16075573200880938, 0.08387255583068316, 0.11742157816295642, 0.09645343920528562, 0.06290441687301236, 0.04752778163738712, 0.03914052605431881, 0.4668362751566748, 0.0808808917026858, 0.16475737198695256, 0.13030810329877157, 0.1078411889369144, 0.20070443496592402, 0.08387648028426675, 0.10185001177375248, 0.0539205944684572, 0.044933828723714334, 0.03145368010660003, 0.1406319026179947, 0.15167629287595238, 0.15314887824368006, 0.10823502452798545, 0.10160839037321082, 0.10676243916025775, 0.10234468305707467, 0.04049609761251156, 0.05963970739297157, 0.035342048825464635, 0.04616950024620182, 0.13850850073860543, 0.04616950024620182, 0.5078645027082199, 0.13850850073860543, 0.04616950024620182, 0.04616950024620182, 0.17401709437829754, 0.15613391471886776, 0.07978649386514829, 0.10248437574057839, 0.1623242461394396, 0.08391338147886285, 0.06740583102400459, 0.08322556687657709, 0.049522651364574795, 0.0405810615348599], \"Term\": [\"abominable\", \"acquicte\", \"adduce\", \"aged\", \"aged\", \"aged\", \"aged\", \"aged\", \"aged\", \"aged\", \"aged\", \"aged\", \"aged\", \"albras\", \"alfreds\", \"anderton\", \"angus\", \"ashbridge\", \"ashby\", \"asher\", \"ask\", \"ask\", \"ask\", \"ask\", \"ask\", \"ask\", \"ask\", \"ask\", \"ask\", \"ask\", \"ass\", \"ass\", \"ass\", \"attic\", \"attic\", \"away\", \"away\", \"away\", \"away\", \"away\", \"away\", \"away\", \"away\", \"away\", \"away\", \"axe\", \"axe\", \"axe\", \"axe\", \"axe\", \"bad\", \"bad\", \"bad\", \"bad\", \"bad\", \"bad\", \"bad\", \"bad\", \"bad\", \"bad\", \"baggott\", \"baggott\", \"baggott\", \"baggott\", \"barclay\", \"barclay\", \"barclay\", \"barclay\", \"barclay\", \"barclay\", \"barrimore\", \"barry\", \"barry\", \"barry\", \"barry\", \"barry\", \"barry\", \"barry\", \"barter\", \"bartrum\", \"bassett\", \"batts\", \"batts\", \"batts\", \"batturs\", \"beaton\", \"beaton\", \"beaton\", \"beaton\", \"beaton\", \"beaton\", \"becket\", \"bed\", \"bed\", \"bed\", \"bed\", \"bed\", \"bed\", \"bed\", \"bed\", \"bed\", \"bed\", \"beef\", \"beef\", \"beef\", \"beef\", \"beef\", \"beef\", \"beef\", \"beef\", \"beef\", \"benfield\", \"berrit\", \"bine\", \"blanchard\", \"blyth\", \"blyth\", \"blyth\", \"blyth\", \"blyth\", \"book\", \"book\", \"book\", \"book\", \"book\", \"book\", \"book\", \"book\", \"book\", \"book\", \"boot\", \"boot\", \"boot\", \"boot\", \"boot\", \"boot\", \"boot\", \"boot\", \"boot\", \"boot\", \"bossie\", \"bossie\", \"box\", \"box\", \"box\", \"box\", \"box\", \"box\", \"box\", \"box\", \"box\", \"box\", \"boykett\", \"braganza\", \"briggss\", \"briggss\", \"bring\", \"bring\", \"bring\", \"bring\", \"bring\", \"bring\", \"bring\", \"bring\", \"bring\", \"bring\", \"broadcloth\", \"broadcloth\", \"brocklington\", \"broning\", \"brother\", \"brother\", \"brother\", \"brother\", \"brother\", \"brother\", \"brother\", \"brother\", \"brother\", \"brother\", \"bryand\", \"buchanan\", \"buchanan\", \"bullard\", \"bullenger\", \"burgay\", \"burglarioualy\", \"burk\", \"bursey\", \"bursey\", \"business\", \"business\", \"business\", \"business\", \"business\", \"business\", \"business\", \"business\", \"business\", \"business\", \"buyrus\", \"byhen\", \"cairncross\", \"call\", \"call\", \"call\", \"call\", \"call\", \"call\", \"call\", \"call\", \"call\", \"call\", \"calveskin\", \"campion\", \"campion\", \"campion\", \"carnelly\", \"carnelly\", \"carnelly\", \"carnelly\", \"cart\", \"cart\", \"cart\", \"cart\", \"cart\", \"cart\", \"cart\", \"cart\", \"cart\", \"cart\", \"carthy\", \"carton\", \"caw\", \"caw\", \"caw\", \"cellarwindow\", \"chable\", \"champness\", \"changd\", \"charge\", \"charge\", \"charge\", \"charge\", \"charge\", \"charge\", \"charge\", \"charge\", \"charge\", \"charge\", \"cheque\", \"cheque\", \"cheque\", \"cheque\", \"cheque\", \"cheque\", \"cheque\", \"cheque\", \"cheque\", \"cheque\", \"cherrell\", \"chever\", \"child\", \"child\", \"child\", \"child\", \"child\", \"child\", \"child\", \"child\", \"child\", \"child\", \"christy\", \"cloth\", \"cloth\", \"cloth\", \"cloth\", \"cloth\", \"cloth\", \"cloth\", \"cloth\", \"cloth\", \"cloth\", \"clough\", \"clove\", \"clover\", \"clover\", \"clover\", \"clover\", \"clover\", \"coachseat\", \"coat\", \"coat\", \"coat\", \"coat\", \"coat\", \"coat\", \"coat\", \"coat\", \"coat\", \"coat\", \"coate\", \"colla\", \"colton\", \"combe\", \"combe\", \"combe\", \"combe\", \"combe\", \"combe\", \"come\", \"come\", \"come\", \"come\", \"come\", \"come\", \"come\", \"come\", \"come\", \"come\", \"comley\", \"concertina\", \"concertina\", \"concertina\", \"concertina\", \"confine\", \"confine\", \"confine\", \"confine\", \"confine\", \"confine\", \"confine\", \"confine\", \"confine\", \"confine\", \"connell\", \"connoway\", \"convictable\", \"coombe\", \"coombe\", \"cornwal\", \"counterduplicate\", \"court\", \"court\", \"court\", \"court\", \"court\", \"court\", \"court\", \"court\", \"court\", \"court\", \"crab\", \"crafer\", \"cragie\", \"cragnell\", \"crane\", \"crane\", \"crane\", \"crape\", \"crape\", \"crape\", \"crape\", \"crape\", \"crape\", \"crape\", \"crape\", \"crape\", \"crape\", \"cravet\", \"crawshay\", \"cressell\", \"crispin\", \"crockwell\", \"crockwell\", \"crockwell\", \"crossby\", \"crossexamine\", \"crossexamine\", \"crossexamine\", \"crossexamine\", \"crossexamine\", \"crossexamine\", \"crossexamine\", \"crossexamine\", \"crossexamine\", \"crossexamine\", \"crown\", \"crown\", \"crown\", \"crown\", \"crown\", \"crown\", \"crown\", \"crown\", \"crown\", \"crown\", \"cursitorstreet\", \"curtis\", \"curtis\", \"curtis\", \"curtis\", \"curtis\", \"curtis\", \"curtis\", \"curtis\", \"curtis\", \"d\", \"d\", \"d\", \"d\", \"d\", \"d\", \"d\", \"d\", \"d\", \"d\", \"dagney\", \"danieli\", \"darby\", \"darby\", \"dawkin\", \"day\", \"day\", \"day\", \"day\", \"day\", \"day\", \"day\", \"day\", \"day\", \"day\", \"december\", \"december\", \"december\", \"december\", \"december\", \"december\", \"december\", \"december\", \"december\", \"december\", \"defend\", \"defend\", \"defend\", \"defend\", \"defend\", \"defend\", \"defend\", \"defend\", \"defend\", \"defend\", \"defendant\", \"defendant\", \"defendant\", \"defendant\", \"defendant\", \"defendant\", \"defendant\", \"defendant\", \"defendant\", \"defendant\", \"delamont\", \"delfoise\", \"denham\", \"denham\", \"denham\", \"denham\", \"denham\", \"denham\", \"denham\", \"denham\", \"derter\", \"dickson\", \"dickson\", \"dinah\", \"diver\", \"diver\", \"diver\", \"diver\", \"diver\", \"diver\", \"diver\", \"diver\", \"diver\", \"do\", \"do\", \"do\", \"do\", \"do\", \"do\", \"do\", \"do\", \"do\", \"do\", \"dodgson\", \"dolman\", \"dominion\", \"donegan\", \"donohue\", \"door\", \"door\", \"door\", \"door\", \"door\", \"door\", \"door\", \"door\", \"door\", \"door\", \"dorcas\", \"dowgan\", \"dowla\", \"drawer\", \"drawer\", \"drawer\", \"drawer\", \"drawer\", \"drawer\", \"drawer\", \"drawer\", \"drawer\", \"drawer\", \"dudey\", \"dunn\", \"dunn\", \"dunn\", \"dunn\", \"dunn\", \"dunn\", \"dunn\", \"dunn\", \"durbin\", \"dutton\", \"dutton\", \"dutton\", \"dutton\", \"dutton\", \"dutton\", \"dutton\", \"dutton\", \"dutton\", \"eastindia\", \"eaton\", \"eaton\", \"eaton\", \"eaton\", \"eaton\", \"eggleton\", \"elam\", \"elam\", \"emberson\", \"engstrem\", \"engstrem\", \"engstrem\", \"engstrem\", \"enticknap\", \"eserard\", \"ester\", \"estreate\", \"estreate\", \"ethelburga\", \"ethelburgh\", \"ewen\", \"falconcourt\", \"fansitt\", \"farrer\", \"faulkener\", \"fazakerley\", \"feagin\", \"felon\", \"feloniously\", \"feloniously\", \"feloniously\", \"feloniously\", \"feloniously\", \"feloniously\", \"feloniously\", \"feloniously\", \"feloniously\", \"feloniously\", \"ferdinando\", \"fewke\", \"find\", \"find\", \"find\", \"find\", \"find\", \"find\", \"find\", \"find\", \"find\", \"find\", \"firm\", \"firm\", \"firm\", \"firm\", \"firm\", \"firm\", \"firm\", \"firm\", \"firm\", \"firm\", \"fitzgenald\", \"fitzpatrick\", \"fitzpatrick\", \"fleay\", \"flood\", \"florin\", \"florin\", \"florin\", \"florin\", \"florin\", \"florin\", \"florin\", \"florin\", \"florin\", \"florin\", \"flowerpot\", \"foreroom\", \"foresight\", \"fowke\", \"frampton\", \"franklin\", \"franklin\", \"franklin\", \"franklin\", \"frequented\", \"gannon\", \"gardiner\", \"gardiner\", \"gardiner\", \"gardiner\", \"gardiner\", \"gardiner\", \"gardiner\", \"garnsey\", \"gaynor\", \"geofry\", \"gerrish\", \"gerry\", \"gerry\", \"get\", \"get\", \"get\", \"get\", \"get\", \"get\", \"get\", \"get\", \"get\", \"get\", \"giffard\", \"giselle\", \"giusue\", \"give\", \"give\", \"give\", \"give\", \"give\", \"give\", \"give\", \"give\", \"give\", \"give\", \"glessing\", \"glessing\", \"go\", \"go\", \"go\", \"go\", \"go\", \"go\", \"go\", \"go\", \"go\", \"go\", \"godey\", \"godsell\", \"godsell\", \"godsell\", \"godson\", \"godson\", \"godson\", \"goldchain\", \"good\", \"good\", \"good\", \"good\", \"good\", \"good\", \"good\", \"good\", \"good\", \"good\", \"goodenough\", \"goss\", \"grady\", \"greenway\", \"griffin\", \"griffin\", \"griffin\", \"griffin\", \"griffin\", \"grinley\", \"grouch\", \"guilty\", \"guilty\", \"guilty\", \"guilty\", \"guilty\", \"guilty\", \"guilty\", \"guilty\", \"guilty\", \"guilty\", \"guinea\", \"guinea\", \"guinea\", \"guinea\", \"guinea\", \"guinea\", \"guinea\", \"guinea\", \"guinea\", \"guinea\", \"gumley\", \"gumley\", \"gumley\", \"gumley\", \"gumley\", \"half\", \"half\", \"half\", \"half\", \"half\", \"half\", \"half\", \"half\", \"half\", \"half\", \"halfcrown\", \"halfcrown\", \"halfcrown\", \"halfcrown\", \"halfcrown\", \"halfcrown\", \"halfcrown\", \"halfcrown\", \"halfcrown\", \"halfcrown\", \"hambly\", \"hancock\", \"hancock\", \"hancock\", \"hand\", \"hand\", \"hand\", \"hand\", \"hand\", \"hand\", \"hand\", \"hand\", \"hand\", \"hand\", \"handkerchief\", \"handkerchief\", \"handkerchief\", \"handkerchief\", \"handkerchief\", \"handkerchief\", \"handkerchief\", \"handkerchief\", \"handkerchief\", \"handkerchief\", \"harden\", \"harley\", \"haseldine\", \"haseldine\", \"hasenach\", \"hassell\", \"hassells\", \"hear\", \"hear\", \"hear\", \"hear\", \"hear\", \"hear\", \"hear\", \"hear\", \"hear\", \"hear\", \"hebbert\", \"helden\", \"henson\", \"heron\", \"heron\", \"heron\", \"hewicx\", \"hewlet\", \"hibbert\", \"hibbert\", \"hibbert\", \"hoad\", \"hoare\", \"hoare\", \"hoare\", \"hoare\", \"hoare\", \"hoare\", \"hoare\", \"hold\", \"hold\", \"hold\", \"hold\", \"hold\", \"hold\", \"hold\", \"hold\", \"hold\", \"hold\", \"holyland\", \"honnel\", \"hopgood\", \"horseley\", \"houchin\", \"houching\", \"house\", \"house\", \"house\", \"house\", \"house\", \"house\", \"house\", \"house\", \"house\", \"house\", \"houtching\", \"hoye\", \"huffain\", \"hurd\", \"hurd\", \"hurdle\", \"hurdle\", \"hurdle\", \"hurdle\", \"hurdle\", \"hurdle\", \"husbandss\", \"huzzey\", \"ida\", \"ilson\", \"indict\", \"indict\", \"indict\", \"indict\", \"indict\", \"indict\", \"indict\", \"indict\", \"indict\", \"indict\", \"infant\", \"isabella\", \"isabella\", \"isabella\", \"isabella\", \"isabella\", \"isabella\", \"james\", \"james\", \"james\", \"james\", \"james\", \"james\", \"james\", \"james\", \"james\", \"james\", \"jeffrie\", \"jelk\", \"jenner\", \"jenner\", \"jenner\", \"jenner\", \"jenner\", \"jenner\", \"jenner\", \"john\", \"john\", \"john\", \"john\", \"john\", \"john\", \"john\", \"john\", \"john\", \"john\", \"josling\", \"jule\", \"jury\", \"jury\", \"jury\", \"jury\", \"jury\", \"jury\", \"jury\", \"jury\", \"jury\", \"jury\", \"kautzman\", \"kautzman\", \"kautzman\", \"kenealey\", \"kenneth\", \"key\", \"key\", \"key\", \"key\", \"key\", \"key\", \"key\", \"key\", \"key\", \"key\", \"kirk\", \"kirk\", \"kirk\", \"knapper\", \"knell\", \"knell\", \"knell\", \"know\", \"know\", \"know\", \"know\", \"know\", \"know\", \"know\", \"know\", \"know\", \"know\", \"knutsford\", \"kyle\", \"l\", \"l\", \"l\", \"l\", \"l\", \"l\", \"l\", \"l\", \"l\", \"l\", \"latham\", \"lawler\", \"layton\", \"layton\", \"layton\", \"layton\", \"layton\", \"layton\", \"layton\", \"leave\", \"leave\", \"leave\", \"leave\", \"leave\", \"leave\", \"leave\", \"leave\", \"leave\", \"leave\", \"lebert\", \"ledbitter\", \"ledbitter\", \"ledbitter\", \"ledbitter\", \"ledbitter\", \"leghorn\", \"lester\", \"lester\", \"lester\", \"lestherlane\", \"letter\", \"letter\", \"letter\", \"letter\", \"letter\", \"letter\", \"letter\", \"letter\", \"letter\", \"letter\", \"levett\", \"lillian\", \"lingard\", \"lingard\", \"lingen\", \"linman\", \"linscott\", \"live\", \"live\", \"live\", \"live\", \"live\", \"live\", \"live\", \"live\", \"live\", \"live\", \"logwood\", \"logwood\", \"logwood\", \"logwood\", \"logwood\", \"louis\", \"louis\", \"louis\", \"louis\", \"louis\", \"louis\", \"louis\", \"louis\", \"louis\", \"louis\", \"lowerheath\", \"lumper\", \"lumper\", \"lumper\", \"lumper\", \"lupton\", \"lustre\", \"lustre\", \"lustre\", \"lustring\", \"lutman\", \"lutman\", \"lutman\", \"lutman\", \"macdonel\", \"mackenzie\", \"mackenzie\", \"mackenzie\", \"mackenzie\", \"mackenzie\", \"mackenzie\", \"mackenzie\", \"mackenzie\", \"mackenzie\", \"mackenzie\", \"madlock\", \"mahar\", \"mahar\", \"mahar\", \"malin\", \"man\", \"man\", \"man\", \"man\", \"man\", \"man\", \"man\", \"man\", \"man\", \"man\", \"manuel\", \"mare\", \"mare\", \"mare\", \"mare\", \"mare\", \"mare\", \"mare\", \"mare\", \"mare\", \"mare\", \"mason\", \"mason\", \"mason\", \"mason\", \"mason\", \"mason\", \"mason\", \"mason\", \"mason\", \"mason\", \"mathematical\", \"matheson\", \"meadow\", \"meadow\", \"meadow\", \"meadow\", \"menace\", \"menace\", \"millard\", \"millet\", \"millett\", \"millett\", \"minott\", \"miver\", \"miver\", \"mlaren\", \"mobun\", \"moist\", \"money\", \"money\", \"money\", \"money\", \"money\", \"money\", \"money\", \"money\", \"money\", \"money\", \"mongus\", \"monica\", \"monks\", \"monks\", \"monks\", \"month\", \"month\", \"month\", \"month\", \"month\", \"month\", \"month\", \"month\", \"month\", \"month\", \"moore\", \"moore\", \"moore\", \"moore\", \"moore\", \"moore\", \"moore\", \"moore\", \"moore\", \"moore\", \"morland\", \"morris\", \"morris\", \"morris\", \"morris\", \"morris\", \"morris\", \"morris\", \"morris\", \"morris\", \"morris\", \"motor\", \"mr\", \"mr\", \"mr\", \"mr\", \"mr\", \"mr\", \"mr\", \"mr\", \"mr\", \"mr\", \"mrs\", \"mrs\", \"mrs\", \"mrs\", \"mrs\", \"mrs\", \"mrs\", \"mrs\", \"mrs\", \"mrs\", \"mug\", \"mug\", \"mug\", \"mug\", \"mug\", \"mug\", \"mulling\", \"muncreef\", \"munro\", \"murtaugh\", \"negligence\", \"newmarch\", \"newmarch\", \"newmarch\", \"nicklin\", \"night\", \"night\", \"night\", \"night\", \"night\", \"night\", \"night\", \"night\", \"night\", \"night\", \"nightingale\", \"nightingale\", \"nitson\", \"nonsuch\", \"northend\", \"not\", \"not\", \"not\", \"not\", \"not\", \"not\", \"not\", \"not\", \"not\", \"not\", \"note\", \"note\", \"note\", \"note\", \"note\", \"note\", \"note\", \"note\", \"note\", \"note\", \"november\", \"november\", \"november\", \"november\", \"november\", \"november\", \"november\", \"november\", \"november\", \"november\", \"obryan\", \"oclock\", \"oclock\", \"oclock\", \"oclock\", \"oclock\", \"oclock\", \"oclock\", \"oclock\", \"oclock\", \"oclock\", \"ode\", \"office\", \"office\", \"office\", \"office\", \"office\", \"office\", \"office\", \"office\", \"office\", \"office\", \"ohrland\", \"olsson\", \"onslow\", \"open\", \"open\", \"open\", \"open\", \"open\", \"open\", \"open\", \"open\", \"open\", \"open\", \"osbourne\", \"pair\", \"pair\", \"pair\", \"pair\", \"pair\", \"pair\", \"pair\", \"pair\", \"pair\", \"pair\", \"palfreman\", \"pantheon\", \"pantheon\", \"patent\", \"patent\", \"patent\", \"patent\", \"patent\", \"patent\", \"patent\", \"patent\", \"pay\", \"pay\", \"pay\", \"pay\", \"pay\", \"pay\", \"pay\", \"pay\", \"pay\", \"pay\", \"penelope\", \"penniket\", \"person\", \"person\", \"person\", \"person\", \"person\", \"person\", \"person\", \"person\", \"person\", \"person\", \"peruke\", \"peruke\", \"peverty\", \"philippia\", \"pidworth\", \"piece\", \"piece\", \"piece\", \"piece\", \"piece\", \"piece\", \"piece\", \"piece\", \"piece\", \"piece\", \"pig\", \"pig\", \"pig\", \"pig\", \"pig\", \"pig\", \"pig\", \"pig\", \"pig\", \"pigsty\", \"pinner\", \"pithouse\", \"pittock\", \"pittock\", \"place\", \"place\", \"place\", \"place\", \"place\", \"place\", \"place\", \"place\", \"place\", \"place\", \"playhouseyard\", \"playhouseyard\", \"pleadeth\", \"pocket\", \"pocket\", \"pocket\", \"pocket\", \"pocket\", \"pocket\", \"pocket\", \"pocket\", \"pocket\", \"pocket\", \"pollard\", \"pollard\", \"pollard\", \"pollard\", \"pooley\", \"poore\", \"poplin\", \"poplin\", \"poplin\", \"port\", \"port\", \"port\", \"port\", \"port\", \"port\", \"port\", \"port\", \"portington\", \"postal\", \"postal\", \"postal\", \"postal\", \"postal\", \"postal\", \"postal\", \"postal\", \"postal\", \"postal\", \"poulter\", \"prisoner\", \"prisoner\", \"prisoner\", \"prisoner\", \"prisoner\", \"prisoner\", \"prisoner\", \"prisoner\", \"prisoner\", \"prisoner\", \"procure\", \"procure\", \"procure\", \"procure\", \"procure\", \"procure\", \"procure\", \"procure\", \"procure\", \"produce\", \"produce\", \"produce\", \"produce\", \"produce\", \"produce\", \"produce\", \"produce\", \"produce\", \"produce\", \"property\", \"property\", \"property\", \"property\", \"property\", \"property\", \"property\", \"property\", \"property\", \"property\", \"prosecute\", \"prosecute\", \"prosecute\", \"prosecute\", \"prosecute\", \"prosecute\", \"prosecute\", \"prosecute\", \"prosecute\", \"prosecute\", \"prosecutor\", \"prosecutor\", \"prosecutor\", \"prosecutor\", \"prosecutor\", \"prosecutor\", \"prosecutor\", \"prosecutor\", \"prosecutor\", \"prosecutor\", \"prosser\", \"puecell\", \"pullar\", \"purple\", \"purse\", \"purse\", \"purse\", \"purse\", \"purse\", \"purse\", \"purse\", \"purse\", \"purse\", \"purse\", \"q\", \"q\", \"q\", \"q\", \"q\", \"q\", \"q\", \"q\", \"q\", \"q\", \"quinion\", \"quinion\", \"quinion\", \"radborn\", \"radborn\", \"radborn\", \"radborn\", \"radborn\", \"radborn\", \"raftery\", \"ratten\", \"reading\", \"reading\", \"reading\", \"reading\", \"reading\", \"reading\", \"receive\", \"receive\", \"receive\", \"receive\", \"receive\", \"receive\", \"receive\", \"receive\", \"receive\", \"receive\", \"recollect\", \"recollect\", \"recollect\", \"recollect\", \"recollect\", \"recollect\", \"recollect\", \"recollect\", \"recollect\", \"recollect\", \"reformatory\", \"richford\", \"richford\", \"richford\", \"richford\", \"richford\", \"richford\", \"riddinghood\", \"riddinghood\", \"riser\", \"rivett\", \"road\", \"road\", \"road\", \"road\", \"road\", \"road\", \"road\", \"road\", \"road\", \"road\", \"rodd\", \"room\", \"room\", \"room\", \"room\", \"room\", \"room\", \"room\", \"room\", \"room\", \"room\", \"roper\", \"ruck\", \"run\", \"run\", \"run\", \"run\", \"run\", \"run\", \"run\", \"run\", \"run\", \"run\", \"s\", \"s\", \"s\", \"s\", \"s\", \"s\", \"s\", \"s\", \"s\", \"s\", \"sachell\", \"sandey\", \"sandey\", \"sandey\", \"sandey\", \"saville\", \"say\", \"say\", \"say\", \"say\", \"say\", \"say\", \"say\", \"say\", \"say\", \"say\", \"scarrolt\", \"scarrolt\", \"scarrolt\", \"scarrolt\", \"scarrolt\", \"sceal\", \"school\", \"school\", \"school\", \"school\", \"school\", \"school\", \"school\", \"school\", \"school\", \"school\", \"schwartz\", \"seabrook\", \"seal\", \"seal\", \"seal\", \"seal\", \"seal\", \"seal\", \"seal\", \"seal\", \"seal\", \"seal\", \"security\", \"security\", \"security\", \"security\", \"security\", \"security\", \"security\", \"security\", \"security\", \"security\", \"see\", \"see\", \"see\", \"see\", \"see\", \"see\", \"see\", \"see\", \"see\", \"see\", \"send\", \"send\", \"send\", \"send\", \"send\", \"send\", \"send\", \"send\", \"send\", \"send\", \"serve\", \"serve\", \"serve\", \"serve\", \"serve\", \"serve\", \"serve\", \"serve\", \"serve\", \"serve\", \"shade\", \"shade\", \"shade\", \"shade\", \"share\", \"share\", \"share\", \"share\", \"share\", \"share\", \"share\", \"share\", \"share\", \"share\", \"sharke\", \"sharman\", \"sharman\", \"sherman\", \"sherman\", \"shop\", \"shop\", \"shop\", \"shop\", \"shop\", \"shop\", \"shop\", \"shop\", \"shop\", \"shop\", \"shrimpton\", \"shrimpton\", \"shrimpton\", \"shrimpton\", \"shrimpton\", \"shrimpton\", \"silver\", \"silver\", \"silver\", \"silver\", \"silver\", \"silver\", \"silver\", \"silver\", \"silver\", \"silver\", \"simond\", \"singlo\", \"sinvin\", \"sixpence\", \"sixpence\", \"sixpence\", \"sixpence\", \"sixpence\", \"sixpence\", \"sixpence\", \"sixpence\", \"sixpence\", \"sixpence\", \"sloanestreet\", \"sloanestreet\", \"sloanestreet\", \"sloanestreet\", \"smith\", \"smith\", \"smith\", \"smith\", \"smith\", \"smith\", \"smith\", \"smith\", \"smith\", \"smith\", \"soden\", \"sowl\", \"sowl\", \"sparrow\", \"spence\", \"spikesman\", \"squabble\", \"stair\", \"stair\", \"stair\", \"stair\", \"stair\", \"stair\", \"stair\", \"stair\", \"stair\", \"stair\", \"stamp\", \"stamp\", \"stamp\", \"stamp\", \"stamp\", \"stamp\", \"stamp\", \"stamp\", \"stamp\", \"stamp\", \"standon\", \"standon\", \"standon\", \"standon\", \"standon\", \"standon\", \"standon\", \"standon\", \"standon\", \"stanniland\", \"stanwell\", \"stard\", \"steal\", \"steal\", \"steal\", \"steal\", \"steal\", \"steal\", \"steal\", \"steal\", \"steal\", \"steal\", \"steptoe\", \"steptoe\", \"stoneham\", \"stool\", \"stool\", \"stool\", \"stool\", \"stool\", \"stool\", \"stool\", \"stool\", \"straw\", \"straw\", \"straw\", \"straw\", \"straw\", \"straw\", \"straw\", \"straw\", \"street\", \"street\", \"street\", \"street\", \"street\", \"street\", \"street\", \"street\", \"street\", \"street\", \"sty\", \"suddaby\", \"surman\", \"surman\", \"surtout\", \"swain\", \"swear\", \"swear\", \"swear\", \"swear\", \"swear\", \"swear\", \"swear\", \"swear\", \"swear\", \"swear\", \"take\", \"take\", \"take\", \"take\", \"take\", \"take\", \"take\", \"take\", \"take\", \"take\", \"tannd\", \"tapp\", \"tapperell\", \"tapperell\", \"tarrant\", \"tatham\", \"tatham\", \"tatham\", \"tatham\", \"tatham\", \"tatham\", \"tatham\", \"tatham\", \"tatham\", \"tatham\", \"teham\", \"tell\", \"tell\", \"tell\", \"tell\", \"tell\", \"tell\", \"tell\", \"tell\", \"tell\", \"tell\", \"tempest\", \"theynever\", \"thing\", \"thing\", \"thing\", \"thing\", \"thing\", \"thing\", \"thing\", \"thing\", \"thing\", \"thing\", \"think\", \"think\", \"think\", \"think\", \"think\", \"think\", \"think\", \"think\", \"think\", \"think\", \"thomas\", \"thomas\", \"thomas\", \"thomas\", \"thomas\", \"thomas\", \"thomas\", \"thomas\", \"thomas\", \"thomas\", \"thrale\", \"ticketofleave\", \"till\", \"till\", \"till\", \"till\", \"till\", \"till\", \"till\", \"till\", \"till\", \"till\", \"time\", \"time\", \"time\", \"time\", \"time\", \"time\", \"time\", \"time\", \"time\", \"time\", \"tomb\", \"trespass\", \"trisina\", \"trott\", \"trounce\", \"trowser\", \"trowser\", \"trowser\", \"trowser\", \"trowser\", \"trowser\", \"trowser\", \"trowser\", \"trowser\", \"trowser\", \"turvey\", \"turvey\", \"ulster\", \"undischarged\", \"undischarged\", \"undischarged\", \"undischarged\", \"undischarged\", \"undischarged\", \"unpinnd\", \"urinal\", \"urinal\", \"urinal\", \"urinal\", \"urinal\", \"urinal\", \"urinal\", \"urinal\", \"urinal\", \"vago\", \"value\", \"value\", \"value\", \"value\", \"value\", \"value\", \"value\", \"value\", \"value\", \"value\", \"waldron\", \"waldron\", \"waldron\", \"walwyn\", \"walwyn\", \"walwyn\", \"walwyn\", \"walwyn\", \"walwyn\", \"walwyn\", \"walwyn\", \"walwyn\", \"warrenden\", \"watch\", \"watch\", \"watch\", \"watch\", \"watch\", \"watch\", \"watch\", \"watch\", \"watch\", \"watch\", \"watle\", \"watte\", \"webster\", \"webster\", \"webster\", \"webster\", \"webster\", \"webster\", \"webster\", \"webster\", \"webster\", \"webster\", \"weldon\", \"wellingtonstreet\", \"wellingtonstreet\", \"westall\", \"westmorelandbuilding\", \"wetworth\", \"whale\", \"whalebone\", \"wharnsley\", \"whitaker\", \"whitaker\", \"whitaker\", \"whitaker\", \"whiteman\", \"whitford\", \"whittington\", \"wife\", \"wife\", \"wife\", \"wife\", \"wife\", \"wife\", \"wife\", \"wife\", \"wife\", \"wife\", \"william\", \"william\", \"william\", \"william\", \"william\", \"william\", \"william\", \"william\", \"william\", \"william\", \"willoughby\", \"windor\", \"windor\", \"windor\", \"windor\", \"window\", \"window\", \"window\", \"window\", \"window\", \"window\", \"window\", \"window\", \"window\", \"window\", \"winfield\", \"woman\", \"woman\", \"woman\", \"woman\", \"woman\", \"woman\", \"woman\", \"woman\", \"woman\", \"woman\", \"work\", \"work\", \"work\", \"work\", \"work\", \"work\", \"work\", \"work\", \"work\", \"work\", \"write\", \"write\", \"write\", \"write\", \"write\", \"write\", \"write\", \"write\", \"write\", \"write\", \"xciv\", \"yard\", \"yard\", \"yard\", \"yard\", \"yard\", \"yard\", \"yard\", \"yard\", \"yard\", \"yard\", \"year\", \"year\", \"year\", \"year\", \"year\", \"year\", \"year\", \"year\", \"year\", \"year\", \"yeo\", \"yeo\", \"yeo\", \"yeo\", \"yeo\", \"yeo\", \"yeo\", \"yes\", \"yes\", \"yes\", \"yes\", \"yes\", \"yes\", \"yes\", \"yes\", \"yes\", \"yes\"]}, \"R\": 30, \"lambda.step\": 0.01, \"plot.opts\": {\"xlab\": \"PC1\", \"ylab\": \"PC2\"}, \"topic.order\": [10, 6, 5, 8, 3, 9, 4, 2, 1, 7]};\n",
       "\n",
       "function LDAvis_load_lib(url, callback){\n",
       "  var s = document.createElement('script');\n",
       "  s.src = url;\n",
       "  s.async = true;\n",
       "  s.onreadystatechange = s.onload = callback;\n",
       "  s.onerror = function(){console.warn(\"failed to load library \" + url);};\n",
       "  document.getElementsByTagName(\"head\")[0].appendChild(s);\n",
       "}\n",
       "\n",
       "if(typeof(LDAvis) !== \"undefined\"){\n",
       "   // already loaded: just create the visualization\n",
       "   !function(LDAvis){\n",
       "       new LDAvis(\"#\" + \"ldavis_el747223585473847849032865332\", ldavis_el747223585473847849032865332_data);\n",
       "   }(LDAvis);\n",
       "}else if(typeof define === \"function\" && define.amd){\n",
       "   // require.js is available: use it to load d3/LDAvis\n",
       "   require.config({paths: {d3: \"https://d3js.org/d3.v5\"}});\n",
       "   require([\"d3\"], function(d3){\n",
       "      window.d3 = d3;\n",
       "      LDAvis_load_lib(\"https://cdn.jsdelivr.net/gh/bmabey/pyLDAvis@3.4.0/pyLDAvis/js/ldavis.v3.0.0.js\", function(){\n",
       "        new LDAvis(\"#\" + \"ldavis_el747223585473847849032865332\", ldavis_el747223585473847849032865332_data);\n",
       "      });\n",
       "    });\n",
       "}else{\n",
       "    // require.js not available: dynamically load d3 & LDAvis\n",
       "    LDAvis_load_lib(\"https://d3js.org/d3.v5.js\", function(){\n",
       "         LDAvis_load_lib(\"https://cdn.jsdelivr.net/gh/bmabey/pyLDAvis@3.4.0/pyLDAvis/js/ldavis.v3.0.0.js\", function(){\n",
       "                 new LDAvis(\"#\" + \"ldavis_el747223585473847849032865332\", ldavis_el747223585473847849032865332_data);\n",
       "            })\n",
       "         });\n",
       "}\n",
       "</script>"
      ],
      "text/plain": [
       "<IPython.core.display.HTML object>"
      ]
     },
     "execution_count": 58,
     "metadata": {},
     "output_type": "execute_result"
    }
   ],
   "source": [
    "# now let's display our data\n",
    "pyLDAvis.display(lda_data)"
   ]
  },
  {
   "cell_type": "code",
   "execution_count": 59,
   "metadata": {},
   "outputs": [],
   "source": [
    "# if we like our results we can save our data as html\n",
    "pyLDAvis.save_html(lda_data, 'lda_10_topics.html')"
   ]
  },
  {
   "cell_type": "markdown",
   "metadata": {},
   "source": [
    "## Conclusions on LDA model\n",
    "\n",
    "We are getting a lot of overlap on the topics. This is not surprising because the documents are quite short. If we had longer documents we would get better results.\n",
    "\n",
    "Also we are getting some topics that are not very meaningful. The short words are not very meaningful. We can try to remove the short words and see what happens.\n",
    "\n",
    "## Next steps\n",
    "\n",
    "We can try to remove the short words and see what happens.\n",
    "\n",
    "We can try to use a different number of topics and see what happens.\n",
    "\n"
   ]
  },
  {
   "cell_type": "markdown",
   "metadata": {},
   "source": [
    "## Futher discussion\n",
    "\n",
    "1. Differences between clustering and LDA models\n",
    "2. How to determine the number of clusters\n",
    "3. How about supervised learning models?"
   ]
  },
  {
   "cell_type": "code",
   "execution_count": null,
   "metadata": {},
   "outputs": [],
   "source": []
  },
  {
   "cell_type": "markdown",
   "metadata": {},
   "source": []
  }
 ],
 "metadata": {
  "kernelspec": {
   "display_name": "venv",
   "language": "python",
   "name": "python3"
  },
  "language_info": {
   "codemirror_mode": {
    "name": "ipython",
    "version": 3
   },
   "file_extension": ".py",
   "mimetype": "text/x-python",
   "name": "python",
   "nbconvert_exporter": "python",
   "pygments_lexer": "ipython3",
   "version": "3.12.3"
  },
  "orig_nbformat": 4
 },
 "nbformat": 4,
 "nbformat_minor": 2
}
